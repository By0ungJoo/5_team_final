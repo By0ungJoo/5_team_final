{
 "cells": [
  {
   "cell_type": "markdown",
   "id": "civilian-jerusalem",
   "metadata": {},
   "source": [
    "## 데이터 호출"
   ]
  },
  {
   "cell_type": "code",
   "execution_count": 1,
   "id": "fatty-lawyer",
   "metadata": {},
   "outputs": [],
   "source": [
    "from geoband.API import *\n",
    "GetCompasData('SBJ_1912_001', '4', 'train.csv')"
   ]
  },
  {
   "cell_type": "code",
   "execution_count": 4,
   "id": "compact-aberdeen",
   "metadata": {},
   "outputs": [],
   "source": [
    "GetCompasData('SBJ_2107_004', '1', '1.5개시도_경찰서_관할경계.geojson')\n",
    "GetCompasData('SBJ_2107_004', '2', '2.5개시도_치안안전센터_관할경계.geojson')\n",
    "GetCompasData('SBJ_2107_004', '4', '4.체감안전도_통계(2017~2019).csv')\n",
    "GetCompasData('SBJ_2107_004', '5', '5.112신고.csv')\n",
    "GetCompasData('SBJ_2107_004', '6', '6.범죄발생원표.csv')\n",
    "GetCompasData('SBJ_2107_004', '7', '7.범죄검거원표.csv')\n",
    "GetCompasData('SBJ_2107_004', '8', '8.범죄피의자원표.csv')\n",
    "GetCompasData('SBJ_2107_004', '9', '9.5개시도_보안등현황.csv')\n",
    "GetCompasData('SBJ_2107_004', '10', '10.5개시도_CCTV설치현황.csv')\n",
    "GetCompasData('SBJ_2107_004', '11', '11.5개시도_교통사고현황.csv')\n",
    "GetCompasData('SBJ_2107_004', '12', '12.경찰서별_지구대별_인원현황.csv')\n",
    "GetCompasData('SBJ_2107_004', '13', '13.5개시도_화재발생통계.csv')\n",
    "GetCompasData('SBJ_2107_004', '14', '14.5개시도_성연령별_총인구분포.csv')\n",
    "GetCompasData('SBJ_2107_004', '15', '15.5개시도_1인가구수.csv')\n",
    "GetCompasData('SBJ_2107_004', '16', '16.5개시도_인구데이터(외국인).csv')\n",
    "GetCompasData('SBJ_2107_004', '17', '17.5개시도_기초수급자현황.csv')\n",
    "GetCompasData('SBJ_2107_004', '18', '18.5개시도_자살율.csv')\n",
    "GetCompasData('SBJ_2107_004', '19', '19.5개시도_최종학력통계.csv')\n",
    "GetCompasData('SBJ_2107_004', '20', '20.5개시도_공원현황.csv')\n",
    "GetCompasData('SBJ_2107_004', '21', '21.5개시도_유흥업소_단란주점현황.csv')\n",
    "GetCompasData('SBJ_2107_004', '22', '22.5개시도_비상벨현황.geojson')\n",
    "GetCompasData('SBJ_2107_004', '23', '23.5개시도_종관관측기상(2017~2020).csv')\n",
    "GetCompasData('SBJ_2107_004', '24', '24.5개시도_도로명주소(건물).geojson')\n",
    "GetCompasData('SBJ_2107_004', '27', '27.5개시도_설문결과데이터(2017~2018).csv')"
   ]
  }
 ],
 "metadata": {
  "kernelspec": {
   "display_name": "Python 3",
   "language": "python",
   "name": "python3"
  },
  "language_info": {
   "codemirror_mode": {
    "name": "ipython",
    "version": 3
   },
   "file_extension": ".py",
   "mimetype": "text/x-python",
   "name": "python",
   "nbconvert_exporter": "python",
   "pygments_lexer": "ipython3",
   "version": "3.6.9"
  }
 },
 "nbformat": 4,
 "nbformat_minor": 5
}
