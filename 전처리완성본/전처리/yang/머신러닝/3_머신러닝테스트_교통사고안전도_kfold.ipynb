{
 "cells": [
  {
   "cell_type": "markdown",
   "id": "962c0b35",
   "metadata": {},
   "source": [
    "# 결과\n",
    "\n",
    "+ best(mae:   1.525) : non-scaling elasticnet(alpha = 1)이 가장 결과가 좋았다\n",
    "+ best2(mae : 1.5285) : robust-scaling svr(kernel= linear)\n",
    "+ R에서 뽑은 변수들만 출력 :8개\n",
    "\n",
    "[\"crm_wthr_눈\",\"crm_clue_피해자신고\",\"vic_age_2_30대\",\"일인가구수\"\n",
    "    ,\"총_인구수\",\"기초수급_19세이하\",\"기초수급_60세이상\"\n",
    "         ,\"외국인수\", \"score_교통\"]"
   ]
  },
  {
   "cell_type": "code",
   "execution_count": 3,
   "id": "4173d3e0",
   "metadata": {},
   "outputs": [],
   "source": [
    "import pandas as pd\n",
    "\n",
    "#그래프에 한글 표현하기\n",
    "import  matplotlib.pyplot as plt\n",
    "import  matplotlib.font_manager as fm\n",
    "import  matplotlib.font_manager as fm\n",
    "font_name = fm.FontProperties(fname = \"C:/Windows/Fonts/malgun.ttf\").get_name()\n",
    "plt.rc(\"font\", family = font_name)\n",
    "\n",
    "\n",
    "\n",
    "#마이너스 표시하기\n",
    "import  matplotlib as mlp\n",
    "mlp.rcParams[\"axes.unicode_minus\"]  = False\n",
    "\n",
    "import numpy as np\n",
    "import pandas  as pd\n",
    "import seaborn as sns\n",
    "##회귀분석\n",
    "import statsmodels.api as sm\n",
    "# 정규화\n",
    "from sklearn.preprocessing import MinMaxScaler\n",
    "from sklearn.preprocessing import StandardScaler\n",
    "from sklearn.preprocessing import RobustScaler\n",
    "from sklearn.feature_selection import  RFE\n",
    "from lightgbm import LGBMClassifier,  LGBMRegressor\n",
    "from lightgbm import plot_importance, plot_metric, plot_tree\n",
    "from sklearn.linear_model import Ridge\n",
    "from sklearn.linear_model import Lasso\n",
    "from sklearn.svm import SVR, SVC\n",
    "import multiprocessing \n",
    "from sklearn.pipeline import make_pipeline, Pipeline\n",
    "from sklearn.manifold import TSNE\n",
    "from sklearn.model_selection import train_test_split\n",
    "from sklearn.linear_model import  LinearRegression\n",
    "from scipy import stats\n",
    "#사용법이 파이선과 다른 기존xgb를  파이선에 맞게 만들어 놓은 것\n",
    "from  xgboost import XGBClassifier, XGBRegressor\n",
    "from sklearn.linear_model import ElasticNet\n",
    "from sklearn.preprocessing import RobustScaler\n",
    "\n",
    "#변수영향도 그래프, 트리그래프 더 쉽게 그리게 해줌\n",
    "from xgboost import plot_importance, plot_tree\n",
    "\n",
    "from sklearn.metrics import mean_absolute_error, mean_squared_error"
   ]
  },
  {
   "cell_type": "code",
   "execution_count": 4,
   "id": "c50a9146",
   "metadata": {
    "scrolled": true
   },
   "outputs": [],
   "source": [
    "df = pd.read_csv(\"../완성본_안전도_회귀분석/3_교통사고안전도.csv\")"
   ]
  },
  {
   "cell_type": "code",
   "execution_count": 5,
   "id": "38b06c68",
   "metadata": {},
   "outputs": [],
   "source": [
    "#R에서 뽑은 변수들만 출력 8개 \n",
    "# crm_clue_불심검문, crm_loc_병원추가-> 성능안나와서 삭제\n",
    "df = df[[\"crm_wthr_눈\",\"crm_clue_피해자신고\",\"vic_age_2_30대\",\"일인가구수\"\n",
    "    ,\"총_인구수\",\"기초수급_19세이하\",\"기초수급_60세이상\"\n",
    "         ,\"외국인수\", \"score_교통\"]]"
   ]
  },
  {
   "cell_type": "code",
   "execution_count": 6,
   "id": "e202bf97",
   "metadata": {},
   "outputs": [],
   "source": [
    "# #R에서 뽑은 변수들만 출력 :10개\n",
    "# df = df[[\"crm_clue_변사체\",\"crm_clue_현행범\",\"강도살인_검거수\",\"화재_사망\",\"화재_부상\",\"공원_개수\",\"자살_사망률_10만명당\",\n",
    "#         \"자살_연령표준화사망률_10만명당\",\"기초수급_19세이하\",\"외국인수\", \"score_강살\"]]"
   ]
  },
  {
   "cell_type": "code",
   "execution_count": 7,
   "id": "5ad0a4ac",
   "metadata": {},
   "outputs": [
    {
     "data": {
      "text/html": [
       "<div>\n",
       "<style scoped>\n",
       "    .dataframe tbody tr th:only-of-type {\n",
       "        vertical-align: middle;\n",
       "    }\n",
       "\n",
       "    .dataframe tbody tr th {\n",
       "        vertical-align: top;\n",
       "    }\n",
       "\n",
       "    .dataframe thead th {\n",
       "        text-align: right;\n",
       "    }\n",
       "</style>\n",
       "<table border=\"1\" class=\"dataframe\">\n",
       "  <thead>\n",
       "    <tr style=\"text-align: right;\">\n",
       "      <th></th>\n",
       "      <th>crm_wthr_눈</th>\n",
       "      <th>crm_clue_피해자신고</th>\n",
       "      <th>vic_age_2_30대</th>\n",
       "      <th>일인가구수</th>\n",
       "      <th>총_인구수</th>\n",
       "      <th>기초수급_19세이하</th>\n",
       "      <th>기초수급_60세이상</th>\n",
       "      <th>외국인수</th>\n",
       "      <th>score_교통</th>\n",
       "    </tr>\n",
       "  </thead>\n",
       "  <tbody>\n",
       "    <tr>\n",
       "      <th>0</th>\n",
       "      <td>17.0</td>\n",
       "      <td>1807.0</td>\n",
       "      <td>896.0</td>\n",
       "      <td>52811.0</td>\n",
       "      <td>498926</td>\n",
       "      <td>39101</td>\n",
       "      <td>50273</td>\n",
       "      <td>15295</td>\n",
       "      <td>69.00</td>\n",
       "    </tr>\n",
       "    <tr>\n",
       "      <th>1</th>\n",
       "      <td>10.0</td>\n",
       "      <td>351.0</td>\n",
       "      <td>214.0</td>\n",
       "      <td>28612.0</td>\n",
       "      <td>290873</td>\n",
       "      <td>39101</td>\n",
       "      <td>50273</td>\n",
       "      <td>24040</td>\n",
       "      <td>66.40</td>\n",
       "    </tr>\n",
       "    <tr>\n",
       "      <th>2</th>\n",
       "      <td>7.0</td>\n",
       "      <td>1080.0</td>\n",
       "      <td>517.0</td>\n",
       "      <td>41116.0</td>\n",
       "      <td>412829</td>\n",
       "      <td>39101</td>\n",
       "      <td>50273</td>\n",
       "      <td>18967</td>\n",
       "      <td>69.55</td>\n",
       "    </tr>\n",
       "    <tr>\n",
       "      <th>3</th>\n",
       "      <td>0.0</td>\n",
       "      <td>133.0</td>\n",
       "      <td>87.0</td>\n",
       "      <td>20165.0</td>\n",
       "      <td>202864</td>\n",
       "      <td>54889</td>\n",
       "      <td>66509</td>\n",
       "      <td>4184</td>\n",
       "      <td>64.45</td>\n",
       "    </tr>\n",
       "    <tr>\n",
       "      <th>4</th>\n",
       "      <td>0.0</td>\n",
       "      <td>151.0</td>\n",
       "      <td>76.0</td>\n",
       "      <td>21519.0</td>\n",
       "      <td>202864</td>\n",
       "      <td>54889</td>\n",
       "      <td>66509</td>\n",
       "      <td>3268</td>\n",
       "      <td>70.20</td>\n",
       "    </tr>\n",
       "    <tr>\n",
       "      <th>...</th>\n",
       "      <td>...</td>\n",
       "      <td>...</td>\n",
       "      <td>...</td>\n",
       "      <td>...</td>\n",
       "      <td>...</td>\n",
       "      <td>...</td>\n",
       "      <td>...</td>\n",
       "      <td>...</td>\n",
       "      <td>...</td>\n",
       "    </tr>\n",
       "    <tr>\n",
       "      <th>118</th>\n",
       "      <td>1.0</td>\n",
       "      <td>502.0</td>\n",
       "      <td>223.0</td>\n",
       "      <td>24317.0</td>\n",
       "      <td>191004</td>\n",
       "      <td>31361</td>\n",
       "      <td>69254</td>\n",
       "      <td>7111</td>\n",
       "      <td>71.25</td>\n",
       "    </tr>\n",
       "    <tr>\n",
       "      <th>119</th>\n",
       "      <td>1.0</td>\n",
       "      <td>1053.0</td>\n",
       "      <td>424.0</td>\n",
       "      <td>52196.0</td>\n",
       "      <td>386331</td>\n",
       "      <td>46485</td>\n",
       "      <td>92574</td>\n",
       "      <td>9785</td>\n",
       "      <td>67.35</td>\n",
       "    </tr>\n",
       "    <tr>\n",
       "      <th>120</th>\n",
       "      <td>0.0</td>\n",
       "      <td>364.0</td>\n",
       "      <td>187.0</td>\n",
       "      <td>18597.0</td>\n",
       "      <td>103318</td>\n",
       "      <td>6833</td>\n",
       "      <td>28268</td>\n",
       "      <td>11496</td>\n",
       "      <td>67.95</td>\n",
       "    </tr>\n",
       "    <tr>\n",
       "      <th>121</th>\n",
       "      <td>1.0</td>\n",
       "      <td>347.0</td>\n",
       "      <td>159.0</td>\n",
       "      <td>41063.0</td>\n",
       "      <td>75332</td>\n",
       "      <td>5756</td>\n",
       "      <td>25508</td>\n",
       "      <td>10641</td>\n",
       "      <td>68.60</td>\n",
       "    </tr>\n",
       "    <tr>\n",
       "      <th>122</th>\n",
       "      <td>2.0</td>\n",
       "      <td>514.0</td>\n",
       "      <td>219.0</td>\n",
       "      <td>39078.0</td>\n",
       "      <td>338136</td>\n",
       "      <td>16060</td>\n",
       "      <td>22678</td>\n",
       "      <td>9814</td>\n",
       "      <td>69.95</td>\n",
       "    </tr>\n",
       "  </tbody>\n",
       "</table>\n",
       "<p>123 rows × 9 columns</p>\n",
       "</div>"
      ],
      "text/plain": [
       "     crm_wthr_눈  crm_clue_피해자신고  vic_age_2_30대    일인가구수   총_인구수  기초수급_19세이하  \\\n",
       "0          17.0          1807.0          896.0  52811.0  498926       39101   \n",
       "1          10.0           351.0          214.0  28612.0  290873       39101   \n",
       "2           7.0          1080.0          517.0  41116.0  412829       39101   \n",
       "3           0.0           133.0           87.0  20165.0  202864       54889   \n",
       "4           0.0           151.0           76.0  21519.0  202864       54889   \n",
       "..          ...             ...            ...      ...     ...         ...   \n",
       "118         1.0           502.0          223.0  24317.0  191004       31361   \n",
       "119         1.0          1053.0          424.0  52196.0  386331       46485   \n",
       "120         0.0           364.0          187.0  18597.0  103318        6833   \n",
       "121         1.0           347.0          159.0  41063.0   75332        5756   \n",
       "122         2.0           514.0          219.0  39078.0  338136       16060   \n",
       "\n",
       "     기초수급_60세이상   외국인수  score_교통  \n",
       "0         50273  15295     69.00  \n",
       "1         50273  24040     66.40  \n",
       "2         50273  18967     69.55  \n",
       "3         66509   4184     64.45  \n",
       "4         66509   3268     70.20  \n",
       "..          ...    ...       ...  \n",
       "118       69254   7111     71.25  \n",
       "119       92574   9785     67.35  \n",
       "120       28268  11496     67.95  \n",
       "121       25508  10641     68.60  \n",
       "122       22678   9814     69.95  \n",
       "\n",
       "[123 rows x 9 columns]"
      ]
     },
     "execution_count": 7,
     "metadata": {},
     "output_type": "execute_result"
    }
   ],
   "source": [
    "df"
   ]
  },
  {
   "cell_type": "code",
   "execution_count": 8,
   "id": "df64ae64",
   "metadata": {},
   "outputs": [
    {
     "data": {
      "text/plain": [
       "<AxesSubplot:>"
      ]
     },
     "execution_count": 8,
     "metadata": {},
     "output_type": "execute_result"
    },
    {
     "data": {
      "image/png": "[encoded data removed]",
      "text/plain": [
       "<Figure size 864x504 with 1 Axes>"
      ]
     },
     "metadata": {
      "needs_background": "light"
     },
     "output_type": "display_data"
    }
   ],
   "source": [
    "#이상치 확인\n",
    "#극단값을  갖는  모습을 볼 수 있다 ->robustscale하면  좋을  듯  하다\n",
    "plt.figure(figsize = (12,7))\n",
    "sns.boxplot(data = df.iloc[:,:-1])"
   ]
  },
  {
   "cell_type": "markdown",
   "id": "eb7b5c84",
   "metadata": {},
   "source": [
    "# 설명력 보기위한 모델링"
   ]
  },
  {
   "cell_type": "code",
   "execution_count": 9,
   "id": "10d6ed64",
   "metadata": {},
   "outputs": [],
   "source": [
    "# train, test 분리\n",
    "X_train, X_test, y_train, y_test  = train_test_split(df.iloc[:,:-1], df[\"score_교통\"],test_size = 0.3, random_state=0)"
   ]
  },
  {
   "cell_type": "markdown",
   "id": "8f2141f9",
   "metadata": {},
   "source": [
    "# ridge, lasso, elasticnet을 위한 alpha값 찾기 함수"
   ]
  },
  {
   "cell_type": "code",
   "execution_count": 10,
   "id": "da669fc8",
   "metadata": {},
   "outputs": [],
   "source": [
    "def alphas_finder(model):\n",
    "    alphas = [100, 10, 1, 0.1, 0.01, 0.001, 0.0001]\n",
    "    for alpha in alphas:\n",
    "        modeling = model(alpha=alpha)\n",
    "        modeling.fit(X_train, y_train)\n",
    "        print(alpha , \":\" ,round(modeling.score(X_train, y_train),3)\n",
    "              , round(modeling.score(X_test, y_test),3)\n",
    "              ,\"mae:\",round(mean_absolute_error(modeling.predict(X_test), y_test),3))    "
   ]
  },
  {
   "cell_type": "markdown",
   "id": "3216fd54",
   "metadata": {},
   "source": [
    "# 교차검증"
   ]
  },
  {
   "cell_type": "code",
   "execution_count": 11,
   "id": "0c67695c",
   "metadata": {},
   "outputs": [],
   "source": [
    "X = np.array(df.drop('score_교통', 1))\n",
    "Y = np.array(df['score_교통'])"
   ]
  },
  {
   "cell_type": "code",
   "execution_count": 12,
   "id": "1858c12a",
   "metadata": {},
   "outputs": [],
   "source": [
    "from sklearn.model_selection import KFold\n",
    "\n",
    "#kfold 설정\n",
    "n_splits = 5\n",
    "kfold = KFold(n_splits=n_splits, shuffle=True,random_state=0)\n",
    "\n",
    "#mae kfold 교차검증 함수\n",
    "def mae_kfold(model):\n",
    "    i = 1\n",
    "    total_error = 0\n",
    "    for train_index, test_index in kfold.split(X):\n",
    "        x_train_fold, x_test_fold = X[train_index], X[test_index]\n",
    "        y_train_fold, y_test_fold = Y[train_index], Y[test_index]\n",
    "        model_pred_fold = model.fit(x_train_fold, y_train_fold).predict(x_test_fold)\n",
    "        error = mean_absolute_error(model_pred_fold, y_test_fold)\n",
    "        print('Fold = {}, mae = {:.2f}'.format(i, error))\n",
    "        total_error += error\n",
    "        i+=1\n",
    "    print('---'*10)\n",
    "    print('Average Error: %s' % (total_error / n_splits))\n",
    "    print('---'*10)"
   ]
  },
  {
   "cell_type": "markdown",
   "id": "cb94a629",
   "metadata": {},
   "source": [
    "# 모델링"
   ]
  },
  {
   "cell_type": "markdown",
   "id": "a51f61bf",
   "metadata": {},
   "source": [
    "## 1. None scaling"
   ]
  },
  {
   "cell_type": "code",
   "execution_count": 13,
   "id": "87818569",
   "metadata": {},
   "outputs": [
    {
     "name": "stdout",
     "output_type": "stream",
     "text": [
      "0.4187263237829285 0.40542434567235575 1.3192289268941877\n"
     ]
    }
   ],
   "source": [
    "#다중회귀\n",
    "lr = LinearRegression()\n",
    "lr.fit(X_train, y_train)\n",
    "print(lr.score(X_train, y_train), lr.score(X_test, y_test),mean_absolute_error(lr.predict(X_test), y_test))"
   ]
  },
  {
   "cell_type": "code",
   "execution_count": 10,
   "id": "eb2753ad",
   "metadata": {},
   "outputs": [
    {
     "name": "stdout",
     "output_type": "stream",
     "text": [
      "Fold = 1, mae = 1.26\n",
      "Fold = 2, mae = 1.69\n",
      "Fold = 3, mae = 1.62\n",
      "Fold = 4, mae = 1.50\n",
      "Fold = 5, mae = 1.61\n",
      "------------------------------\n",
      "Average Error: 1.5381029129406305\n",
      "------------------------------\n"
     ]
    }
   ],
   "source": [
    "# 다중회귀  교차검증\n",
    "mae_kfold(lr)"
   ]
  },
  {
   "cell_type": "markdown",
   "id": "3e747078",
   "metadata": {},
   "source": [
    "## ridge"
   ]
  },
  {
   "cell_type": "code",
   "execution_count": 11,
   "id": "6e633b62",
   "metadata": {},
   "outputs": [
    {
     "name": "stdout",
     "output_type": "stream",
     "text": [
      "100 : 0.418 0.413 mae: 1.309\n",
      "10 : 0.419 0.406 mae: 1.318\n",
      "1 : 0.419 0.406 mae: 1.319\n",
      "0.1 : 0.419 0.405 mae: 1.319\n",
      "0.01 : 0.419 0.405 mae: 1.319\n",
      "0.001 : 0.419 0.405 mae: 1.319\n",
      "0.0001 : 0.419 0.405 mae: 1.319\n"
     ]
    }
   ],
   "source": [
    "# ridge\n",
    "alphas_finder(Ridge)"
   ]
  },
  {
   "cell_type": "code",
   "execution_count": 12,
   "id": "076326ad",
   "metadata": {},
   "outputs": [
    {
     "name": "stdout",
     "output_type": "stream",
     "text": [
      "Fold = 1, mae = 1.26\n",
      "Fold = 2, mae = 1.68\n",
      "Fold = 3, mae = 1.58\n",
      "Fold = 4, mae = 1.50\n",
      "Fold = 5, mae = 1.62\n",
      "------------------------------\n",
      "Average Error: 1.5287454893932348\n",
      "------------------------------\n",
      "Fold = 1, mae = 1.26\n",
      "Fold = 2, mae = 1.69\n",
      "Fold = 3, mae = 1.62\n",
      "Fold = 4, mae = 1.50\n",
      "Fold = 5, mae = 1.61\n",
      "------------------------------\n",
      "Average Error: 1.5370417027777372\n",
      "------------------------------\n",
      "Fold = 1, mae = 1.26\n",
      "Fold = 2, mae = 1.69\n",
      "Fold = 3, mae = 1.62\n",
      "Fold = 4, mae = 1.50\n",
      "Fold = 5, mae = 1.61\n",
      "------------------------------\n",
      "Average Error: 1.5379955558192642\n",
      "------------------------------\n",
      "Fold = 1, mae = 1.26\n",
      "Fold = 2, mae = 1.69\n",
      "Fold = 3, mae = 1.62\n",
      "Fold = 4, mae = 1.50\n",
      "Fold = 5, mae = 1.61\n",
      "------------------------------\n",
      "Average Error: 1.5380921647051686\n",
      "------------------------------\n",
      "Fold = 1, mae = 1.26\n",
      "Fold = 2, mae = 1.69\n",
      "Fold = 3, mae = 1.62\n",
      "Fold = 4, mae = 1.50\n",
      "Fold = 5, mae = 1.61\n",
      "------------------------------\n",
      "Average Error: 1.5381018379917109\n",
      "------------------------------\n",
      "Fold = 1, mae = 1.26\n",
      "Fold = 2, mae = 1.69\n",
      "Fold = 3, mae = 1.62\n",
      "Fold = 4, mae = 1.50\n",
      "Fold = 5, mae = 1.61\n",
      "------------------------------\n",
      "Average Error: 1.5381028054445078\n",
      "------------------------------\n",
      "Fold = 1, mae = 1.26\n",
      "Fold = 2, mae = 1.69\n",
      "Fold = 3, mae = 1.62\n",
      "Fold = 4, mae = 1.50\n",
      "Fold = 5, mae = 1.61\n",
      "------------------------------\n",
      "Average Error: 1.5381029021910302\n",
      "------------------------------\n"
     ]
    }
   ],
   "source": [
    "#best: 1.35\n",
    "for i in [100, 10, 1, 0.1, 0.01, 0.001, 0.0001]:\n",
    "    ridge = Ridge(alpha=i)\n",
    "    mae_kfold(ridge)"
   ]
  },
  {
   "cell_type": "markdown",
   "id": "229dbbc3",
   "metadata": {},
   "source": [
    "## Lasso"
   ]
  },
  {
   "cell_type": "code",
   "execution_count": 13,
   "id": "00672d13",
   "metadata": {},
   "outputs": [
    {
     "name": "stdout",
     "output_type": "stream",
     "text": [
      "100 : 0.288 0.393 mae: 1.359\n",
      "10 : 0.343 0.445 mae: 1.288\n",
      "1 : 0.407 0.44 mae: 1.272\n",
      "0.1 : 0.419 0.41 mae: 1.314\n",
      "0.01 : 0.419 0.406 mae: 1.319\n",
      "0.001 : 0.419 0.405 mae: 1.319\n",
      "0.0001 : 0.419 0.405 mae: 1.319\n"
     ]
    }
   ],
   "source": [
    "# lasso\n",
    "alphas_finder(Lasso)"
   ]
  },
  {
   "cell_type": "code",
   "execution_count": 14,
   "id": "7d866653",
   "metadata": {},
   "outputs": [
    {
     "name": "stdout",
     "output_type": "stream",
     "text": [
      "Fold = 1, mae = 1.28\n",
      "Fold = 2, mae = 1.82\n",
      "Fold = 3, mae = 1.52\n",
      "Fold = 4, mae = 1.34\n",
      "Fold = 5, mae = 1.78\n",
      "------------------------------\n",
      "Average Error: 1.5477036898186436\n",
      "------------------------------\n",
      "Fold = 1, mae = 1.23\n",
      "Fold = 2, mae = 1.80\n",
      "Fold = 3, mae = 1.49\n",
      "Fold = 4, mae = 1.38\n",
      "Fold = 5, mae = 1.80\n",
      "------------------------------\n",
      "Average Error: 1.5384668058121913\n",
      "------------------------------\n",
      "Fold = 1, mae = 1.23\n",
      "Fold = 2, mae = 1.68\n",
      "Fold = 3, mae = 1.49\n",
      "Fold = 4, mae = 1.48\n",
      "Fold = 5, mae = 1.77\n",
      "------------------------------\n",
      "Average Error: 1.5294306810743776\n",
      "------------------------------\n",
      "Fold = 1, mae = 1.26\n",
      "Fold = 2, mae = 1.69\n",
      "Fold = 3, mae = 1.60\n",
      "Fold = 4, mae = 1.50\n",
      "Fold = 5, mae = 1.63\n",
      "------------------------------\n",
      "Average Error: 1.5347253456427594\n",
      "------------------------------\n",
      "Fold = 1, mae = 1.26\n",
      "Fold = 2, mae = 1.69\n",
      "Fold = 3, mae = 1.62\n",
      "Fold = 4, mae = 1.50\n",
      "Fold = 5, mae = 1.61\n",
      "------------------------------\n",
      "Average Error: 1.5377519346637807\n",
      "------------------------------\n",
      "Fold = 1, mae = 1.26\n",
      "Fold = 2, mae = 1.69\n",
      "Fold = 3, mae = 1.62\n",
      "Fold = 4, mae = 1.50\n",
      "Fold = 5, mae = 1.61\n",
      "------------------------------\n",
      "Average Error: 1.5380678151568983\n",
      "------------------------------\n",
      "Fold = 1, mae = 1.26\n",
      "Fold = 2, mae = 1.69\n",
      "Fold = 3, mae = 1.62\n",
      "Fold = 4, mae = 1.50\n",
      "Fold = 5, mae = 1.61\n",
      "------------------------------\n",
      "Average Error: 1.5380994031488995\n",
      "------------------------------\n"
     ]
    }
   ],
   "source": [
    "for i in [100, 10, 1, 0.1, 0.01, 0.001, 0.0001]:\n",
    "    lasso = Lasso(alpha=i)\n",
    "    mae_kfold(lasso)"
   ]
  },
  {
   "cell_type": "markdown",
   "id": "699c642b",
   "metadata": {},
   "source": [
    "## ElasticNet"
   ]
  },
  {
   "cell_type": "code",
   "execution_count": 13,
   "id": "a214258a",
   "metadata": {},
   "outputs": [
    {
     "name": "stdout",
     "output_type": "stream",
     "text": [
      "100 : 0.296 0.383 mae: 1.366\n",
      "10 : 0.35 0.452 mae: 1.261\n",
      "1 : 0.415 0.428 mae: 1.289\n",
      "0.1 : 0.419 0.408 mae: 1.316\n",
      "0.01 : 0.419 0.406 mae: 1.319\n",
      "0.001 : 0.419 0.405 mae: 1.319\n",
      "0.0001 : 0.419 0.405 mae: 1.319\n"
     ]
    }
   ],
   "source": [
    "alphas_finder(ElasticNet)"
   ]
  },
  {
   "cell_type": "code",
   "execution_count": 14,
   "id": "1f594038",
   "metadata": {},
   "outputs": [
    {
     "name": "stdout",
     "output_type": "stream",
     "text": [
      "Fold = 1, mae = 1.27\n",
      "Fold = 2, mae = 1.86\n",
      "Fold = 3, mae = 1.52\n",
      "Fold = 4, mae = 1.34\n",
      "Fold = 5, mae = 1.79\n",
      "------------------------------\n",
      "Average Error: 1.556202193532804\n",
      "------------------------------\n",
      "Fold = 1, mae = 1.22\n",
      "Fold = 2, mae = 1.74\n",
      "Fold = 3, mae = 1.49\n",
      "Fold = 4, mae = 1.42\n",
      "Fold = 5, mae = 1.78\n",
      "------------------------------\n",
      "Average Error: 1.5312748887786998\n",
      "------------------------------\n",
      "Fold = 1, mae = 1.24\n",
      "Fold = 2, mae = 1.68\n",
      "Fold = 3, mae = 1.50\n",
      "Fold = 4, mae = 1.49\n",
      "Fold = 5, mae = 1.71\n",
      "------------------------------\n",
      "Average Error: 1.5251810656016176\n",
      "------------------------------\n",
      "Fold = 1, mae = 1.26\n",
      "Fold = 2, mae = 1.69\n",
      "Fold = 3, mae = 1.61\n",
      "Fold = 4, mae = 1.50\n",
      "Fold = 5, mae = 1.62\n",
      "------------------------------\n",
      "Average Error: 1.5358995111007527\n",
      "------------------------------\n",
      "Fold = 1, mae = 1.26\n",
      "Fold = 2, mae = 1.69\n",
      "Fold = 3, mae = 1.62\n",
      "Fold = 4, mae = 1.50\n",
      "Fold = 5, mae = 1.61\n",
      "------------------------------\n",
      "Average Error: 1.5378750095399216\n",
      "------------------------------\n",
      "Fold = 1, mae = 1.26\n",
      "Fold = 2, mae = 1.69\n",
      "Fold = 3, mae = 1.62\n",
      "Fold = 4, mae = 1.50\n",
      "Fold = 5, mae = 1.61\n",
      "------------------------------\n",
      "Average Error: 1.538080107503606\n",
      "------------------------------\n",
      "Fold = 1, mae = 1.26\n",
      "Fold = 2, mae = 1.69\n",
      "Fold = 3, mae = 1.62\n",
      "Fold = 4, mae = 1.50\n",
      "Fold = 5, mae = 1.61\n",
      "------------------------------\n",
      "Average Error: 1.5381006322409776\n",
      "------------------------------\n"
     ]
    }
   ],
   "source": [
    "\n",
    "for i in [100, 10, 1, 0.1, 0.01, 0.001, 0.0001]:\n",
    "    elastic = ElasticNet(alpha=i)\n",
    "    mae_kfold(elastic)"
   ]
  },
  {
   "cell_type": "code",
   "execution_count": 15,
   "id": "d71357ea",
   "metadata": {},
   "outputs": [
    {
     "data": {
      "text/plain": [
       "ElasticNet(alpha=1)"
      ]
     },
     "execution_count": 15,
     "metadata": {},
     "output_type": "execute_result"
    }
   ],
   "source": [
    "elastic = ElasticNet(alpha=1)\n",
    "elastic.fit(X_train, y_train)"
   ]
  },
  {
   "cell_type": "code",
   "execution_count": 16,
   "id": "30694435",
   "metadata": {},
   "outputs": [],
   "source": [
    "def plot_coef(columns, coef):\n",
    "    coef_df = pd.DataFrame(list(zip(columns, coef)))\n",
    "    coef_df.columns=['feature', 'coef']\n",
    "    coef_df = coef_df.sort_values('coef').reset_index(drop=True)\n",
    "    \n",
    "    fig, ax = plt.subplots(figsize=(7, 5))\n",
    "    ax.barh(np.arange(len(coef_df)), coef_df['coef'], color = \"orange\", alpha = 0.8)\n",
    "    idx = np.arange(len(coef_df))\n",
    "    ax.set_yticks(idx)\n",
    "    ax.set_yticklabels(coef_df['feature'])\n",
    "    fig.tight_layout()\n",
    "    \n",
    "    #plt.show()\n",
    "    "
   ]
  },
  {
   "cell_type": "code",
   "execution_count": 17,
   "id": "0be49274",
   "metadata": {},
   "outputs": [
    {
     "data": {
      "image/png": "[encoded data removed]",
      "text/plain": [
       "<Figure size 504x360 with 1 Axes>"
      ]
     },
     "metadata": {
      "needs_background": "light"
     },
     "output_type": "display_data"
    }
   ],
   "source": [
    "plot_coef(X_train.columns, np.ravel(elastic.coef_) )\n",
    "plt.savefig('../이미지/변수영향도_교통사고안전도.png', dpi=200,bbox_inches='tight')"
   ]
  },
  {
   "cell_type": "markdown",
   "id": "24200ae9",
   "metadata": {},
   "source": [
    "## XGboost"
   ]
  },
  {
   "cell_type": "code",
   "execution_count": 18,
   "id": "8b2cdb82",
   "metadata": {},
   "outputs": [
    {
     "name": "stdout",
     "output_type": "stream",
     "text": [
      "0.9999998420461608 -0.06974470823560042 1.8067306106154981\n"
     ]
    }
   ],
   "source": [
    "#XG boost\n",
    "xgbr = XGBRegressor()\n",
    "xgbr.fit(X_train, y_train)\n",
    "print(xgbr.score(X_train, y_train), xgbr.score(X_test, y_test),mean_absolute_error(xgbr.predict(X_test), y_test))"
   ]
  },
  {
   "cell_type": "code",
   "execution_count": 19,
   "id": "b80af59b",
   "metadata": {},
   "outputs": [
    {
     "name": "stdout",
     "output_type": "stream",
     "text": [
      "Fold = 1, mae = 1.93\n",
      "Fold = 2, mae = 2.24\n",
      "Fold = 3, mae = 1.47\n",
      "Fold = 4, mae = 1.70\n",
      "Fold = 5, mae = 2.22\n",
      "------------------------------\n",
      "Average Error: 1.9110195495605473\n",
      "------------------------------\n"
     ]
    }
   ],
   "source": [
    "#XG boost교차검증\n",
    "mae_kfold(xgbr)"
   ]
  },
  {
   "cell_type": "code",
   "execution_count": 20,
   "id": "9cbd7528",
   "metadata": {},
   "outputs": [
    {
     "name": "stdout",
     "output_type": "stream",
     "text": [
      "0.9999999347294102 -0.38643122056620416 1.9139029425543714\n"
     ]
    }
   ],
   "source": [
    "#XG boost 튜닝\n",
    "xgbr = XGBRegressor(n_estimators = 400, learning_rate = 1, max_depth = 3, objective=\"reg:squarederror\")\n",
    "xgbr.fit(X_train, y_train)\n",
    "print(xgbr.score(X_train, y_train), xgbr.score(X_test, y_test),mean_absolute_error(xgbr.predict(X_test), y_test))"
   ]
  },
  {
   "cell_type": "code",
   "execution_count": 21,
   "id": "95242784",
   "metadata": {},
   "outputs": [
    {
     "name": "stdout",
     "output_type": "stream",
     "text": [
      "Fold = 1, mae = 2.25\n",
      "Fold = 2, mae = 2.38\n",
      "Fold = 3, mae = 1.99\n",
      "Fold = 4, mae = 1.94\n",
      "Fold = 5, mae = 2.51\n",
      "------------------------------\n",
      "Average Error: 2.213843765258789\n",
      "------------------------------\n"
     ]
    }
   ],
   "source": [
    "#XG boost교차검증\n",
    "mae_kfold(xgbr)"
   ]
  },
  {
   "cell_type": "markdown",
   "id": "770fef44",
   "metadata": {},
   "source": [
    "## lightgbm"
   ]
  },
  {
   "cell_type": "code",
   "execution_count": 22,
   "id": "cd58493f",
   "metadata": {},
   "outputs": [
    {
     "name": "stdout",
     "output_type": "stream",
     "text": [
      "0.5601816071984563 -0.05161761017314559 1.9100037061703243\n"
     ]
    }
   ],
   "source": [
    "#lightgbm\n",
    "lgbm = LGBMRegressor()\n",
    "lgbm.fit(X_train, y_train)\n",
    "print(lgbm.score(X_train, y_train), lgbm.score(X_test, y_test),mean_absolute_error(lgbm.predict(X_test), y_test))"
   ]
  },
  {
   "cell_type": "code",
   "execution_count": 23,
   "id": "9cfd5e32",
   "metadata": {},
   "outputs": [
    {
     "name": "stdout",
     "output_type": "stream",
     "text": [
      "Fold = 1, mae = 2.25\n",
      "Fold = 2, mae = 2.38\n",
      "Fold = 3, mae = 1.99\n",
      "Fold = 4, mae = 1.94\n",
      "Fold = 5, mae = 2.51\n",
      "------------------------------\n",
      "Average Error: 2.213843765258789\n",
      "------------------------------\n"
     ]
    }
   ],
   "source": [
    "#lightgbm교차검증\n",
    "mae_kfold(xgbr)"
   ]
  },
  {
   "cell_type": "markdown",
   "id": "cfe50b46",
   "metadata": {},
   "source": [
    "-----------\n",
    "# 2. Scaling"
   ]
  },
  {
   "cell_type": "markdown",
   "id": "a84d4059",
   "metadata": {},
   "source": [
    "### 각변수 minmaxscaling\n",
    "\n"
   ]
  },
  {
   "cell_type": "code",
   "execution_count": 24,
   "id": "e627c860",
   "metadata": {},
   "outputs": [],
   "source": [
    "#각 변수들을 스케일링 하는 함수\n",
    "\n",
    "def minmax_scaling(df, scale_columns):\n",
    "    for col in scale_columns:\n",
    "        series_min = df[col].min()\n",
    "        series_max = df[col].max()\n",
    "        df[col] = df[col].apply(lambda x: (x-series_min)/(series_max-series_min))\n",
    "        \n",
    "            \n",
    "    return df"
   ]
  },
  {
   "cell_type": "code",
   "execution_count": 25,
   "id": "175382e8",
   "metadata": {},
   "outputs": [
    {
     "data": {
      "text/plain": [
       "Index(['crm_wthr_눈', 'crm_clue_피해자신고', 'vic_age_2_30대', '일인가구수', '총_인구수',\n",
       "       '기초수급_19세이하', '기초수급_60세이상', '외국인수', 'score_교통'],\n",
       "      dtype='object')"
      ]
     },
     "execution_count": 25,
     "metadata": {},
     "output_type": "execute_result"
    }
   ],
   "source": [
    "df.columns"
   ]
  },
  {
   "cell_type": "code",
   "execution_count": 26,
   "id": "7123ad2e",
   "metadata": {
    "scrolled": true
   },
   "outputs": [
    {
     "data": {
      "text/html": [
       "<div>\n",
       "<style scoped>\n",
       "    .dataframe tbody tr th:only-of-type {\n",
       "        vertical-align: middle;\n",
       "    }\n",
       "\n",
       "    .dataframe tbody tr th {\n",
       "        vertical-align: top;\n",
       "    }\n",
       "\n",
       "    .dataframe thead th {\n",
       "        text-align: right;\n",
       "    }\n",
       "</style>\n",
       "<table border=\"1\" class=\"dataframe\">\n",
       "  <thead>\n",
       "    <tr style=\"text-align: right;\">\n",
       "      <th></th>\n",
       "      <th>crm_wthr_눈</th>\n",
       "      <th>crm_clue_피해자신고</th>\n",
       "      <th>vic_age_2_30대</th>\n",
       "      <th>일인가구수</th>\n",
       "      <th>총_인구수</th>\n",
       "      <th>기초수급_19세이하</th>\n",
       "      <th>기초수급_60세이상</th>\n",
       "      <th>외국인수</th>\n",
       "      <th>score_교통</th>\n",
       "    </tr>\n",
       "  </thead>\n",
       "  <tbody>\n",
       "    <tr>\n",
       "      <th>0</th>\n",
       "      <td>0.586207</td>\n",
       "      <td>0.742845</td>\n",
       "      <td>0.797970</td>\n",
       "      <td>0.423996</td>\n",
       "      <td>0.760807</td>\n",
       "      <td>0.476709</td>\n",
       "      <td>0.303802</td>\n",
       "      <td>0.244742</td>\n",
       "      <td>69.00</td>\n",
       "    </tr>\n",
       "    <tr>\n",
       "      <th>1</th>\n",
       "      <td>0.344828</td>\n",
       "      <td>0.111448</td>\n",
       "      <td>0.168819</td>\n",
       "      <td>0.216117</td>\n",
       "      <td>0.428320</td>\n",
       "      <td>0.476709</td>\n",
       "      <td>0.303802</td>\n",
       "      <td>0.405098</td>\n",
       "      <td>66.40</td>\n",
       "    </tr>\n",
       "    <tr>\n",
       "      <th>2</th>\n",
       "      <td>0.241379</td>\n",
       "      <td>0.427580</td>\n",
       "      <td>0.448339</td>\n",
       "      <td>0.323532</td>\n",
       "      <td>0.623217</td>\n",
       "      <td>0.476709</td>\n",
       "      <td>0.303802</td>\n",
       "      <td>0.312075</td>\n",
       "      <td>69.55</td>\n",
       "    </tr>\n",
       "    <tr>\n",
       "      <th>3</th>\n",
       "      <td>0.000000</td>\n",
       "      <td>0.016912</td>\n",
       "      <td>0.051661</td>\n",
       "      <td>0.143554</td>\n",
       "      <td>0.287674</td>\n",
       "      <td>0.698292</td>\n",
       "      <td>0.429417</td>\n",
       "      <td>0.041001</td>\n",
       "      <td>64.45</td>\n",
       "    </tr>\n",
       "    <tr>\n",
       "      <th>4</th>\n",
       "      <td>0.000000</td>\n",
       "      <td>0.024718</td>\n",
       "      <td>0.041513</td>\n",
       "      <td>0.155186</td>\n",
       "      <td>0.287674</td>\n",
       "      <td>0.698292</td>\n",
       "      <td>0.429417</td>\n",
       "      <td>0.024205</td>\n",
       "      <td>70.20</td>\n",
       "    </tr>\n",
       "    <tr>\n",
       "      <th>...</th>\n",
       "      <td>...</td>\n",
       "      <td>...</td>\n",
       "      <td>...</td>\n",
       "      <td>...</td>\n",
       "      <td>...</td>\n",
       "      <td>...</td>\n",
       "      <td>...</td>\n",
       "      <td>...</td>\n",
       "      <td>...</td>\n",
       "    </tr>\n",
       "    <tr>\n",
       "      <th>118</th>\n",
       "      <td>0.034483</td>\n",
       "      <td>0.176930</td>\n",
       "      <td>0.177122</td>\n",
       "      <td>0.179222</td>\n",
       "      <td>0.268720</td>\n",
       "      <td>0.368079</td>\n",
       "      <td>0.450655</td>\n",
       "      <td>0.094673</td>\n",
       "      <td>71.25</td>\n",
       "    </tr>\n",
       "    <tr>\n",
       "      <th>119</th>\n",
       "      <td>0.034483</td>\n",
       "      <td>0.415872</td>\n",
       "      <td>0.362546</td>\n",
       "      <td>0.418713</td>\n",
       "      <td>0.580871</td>\n",
       "      <td>0.580343</td>\n",
       "      <td>0.631077</td>\n",
       "      <td>0.143706</td>\n",
       "      <td>67.35</td>\n",
       "    </tr>\n",
       "    <tr>\n",
       "      <th>120</th>\n",
       "      <td>0.000000</td>\n",
       "      <td>0.117086</td>\n",
       "      <td>0.143911</td>\n",
       "      <td>0.130084</td>\n",
       "      <td>0.128590</td>\n",
       "      <td>0.023831</td>\n",
       "      <td>0.133553</td>\n",
       "      <td>0.175080</td>\n",
       "      <td>67.95</td>\n",
       "    </tr>\n",
       "    <tr>\n",
       "      <th>121</th>\n",
       "      <td>0.034483</td>\n",
       "      <td>0.109714</td>\n",
       "      <td>0.118081</td>\n",
       "      <td>0.323076</td>\n",
       "      <td>0.083866</td>\n",
       "      <td>0.008716</td>\n",
       "      <td>0.112199</td>\n",
       "      <td>0.159402</td>\n",
       "      <td>68.60</td>\n",
       "    </tr>\n",
       "    <tr>\n",
       "      <th>122</th>\n",
       "      <td>0.068966</td>\n",
       "      <td>0.182134</td>\n",
       "      <td>0.173432</td>\n",
       "      <td>0.306024</td>\n",
       "      <td>0.503851</td>\n",
       "      <td>0.153331</td>\n",
       "      <td>0.090304</td>\n",
       "      <td>0.144238</td>\n",
       "      <td>69.95</td>\n",
       "    </tr>\n",
       "  </tbody>\n",
       "</table>\n",
       "<p>123 rows × 9 columns</p>\n",
       "</div>"
      ],
      "text/plain": [
       "     crm_wthr_눈  crm_clue_피해자신고  vic_age_2_30대     일인가구수     총_인구수  \\\n",
       "0      0.586207        0.742845       0.797970  0.423996  0.760807   \n",
       "1      0.344828        0.111448       0.168819  0.216117  0.428320   \n",
       "2      0.241379        0.427580       0.448339  0.323532  0.623217   \n",
       "3      0.000000        0.016912       0.051661  0.143554  0.287674   \n",
       "4      0.000000        0.024718       0.041513  0.155186  0.287674   \n",
       "..          ...             ...            ...       ...       ...   \n",
       "118    0.034483        0.176930       0.177122  0.179222  0.268720   \n",
       "119    0.034483        0.415872       0.362546  0.418713  0.580871   \n",
       "120    0.000000        0.117086       0.143911  0.130084  0.128590   \n",
       "121    0.034483        0.109714       0.118081  0.323076  0.083866   \n",
       "122    0.068966        0.182134       0.173432  0.306024  0.503851   \n",
       "\n",
       "     기초수급_19세이하  기초수급_60세이상      외국인수  score_교통  \n",
       "0      0.476709    0.303802  0.244742     69.00  \n",
       "1      0.476709    0.303802  0.405098     66.40  \n",
       "2      0.476709    0.303802  0.312075     69.55  \n",
       "3      0.698292    0.429417  0.041001     64.45  \n",
       "4      0.698292    0.429417  0.024205     70.20  \n",
       "..          ...         ...       ...       ...  \n",
       "118    0.368079    0.450655  0.094673     71.25  \n",
       "119    0.580343    0.631077  0.143706     67.35  \n",
       "120    0.023831    0.133553  0.175080     67.95  \n",
       "121    0.008716    0.112199  0.159402     68.60  \n",
       "122    0.153331    0.090304  0.144238     69.95  \n",
       "\n",
       "[123 rows x 9 columns]"
      ]
     },
     "execution_count": 26,
     "metadata": {},
     "output_type": "execute_result"
    }
   ],
   "source": [
    "minmax_scaling(df, df.columns[:-1])"
   ]
  },
  {
   "cell_type": "markdown",
   "id": "5df1b5d9",
   "metadata": {},
   "source": [
    "# 설명력 보기위한 모델링"
   ]
  },
  {
   "cell_type": "code",
   "execution_count": 27,
   "id": "e3bee892",
   "metadata": {},
   "outputs": [],
   "source": [
    "# train, test 분리\n",
    "X_train, X_test, y_train, y_test  = train_test_split(df.iloc[:,:-1], df[\"score_교통\"],test_size = 0.3, random_state=0)"
   ]
  },
  {
   "cell_type": "code",
   "execution_count": 28,
   "id": "b19b8097",
   "metadata": {},
   "outputs": [],
   "source": [
    "X = np.array(df.drop('score_교통', 1))\n",
    "Y = np.array(df['score_교통'])"
   ]
  },
  {
   "cell_type": "code",
   "execution_count": 29,
   "id": "e245c722",
   "metadata": {},
   "outputs": [
    {
     "name": "stdout",
     "output_type": "stream",
     "text": [
      "0.4187263237829292 0.4054243456723481 1.3192289268941984\n"
     ]
    }
   ],
   "source": [
    "#다중회귀\n",
    "lr = LinearRegression()\n",
    "lr.fit(X_train, y_train)\n",
    "print(lr.score(X_train, y_train), lr.score(X_test, y_test),mean_absolute_error(lr.predict(X_test), y_test))"
   ]
  },
  {
   "cell_type": "code",
   "execution_count": 30,
   "id": "7351113e",
   "metadata": {},
   "outputs": [
    {
     "name": "stdout",
     "output_type": "stream",
     "text": [
      "Fold = 1, mae = 1.26\n",
      "Fold = 2, mae = 1.69\n",
      "Fold = 3, mae = 1.62\n",
      "Fold = 4, mae = 1.50\n",
      "Fold = 5, mae = 1.61\n",
      "------------------------------\n",
      "Average Error: 1.5381029129406563\n",
      "------------------------------\n"
     ]
    }
   ],
   "source": [
    "# 다중회귀  교차검증\n",
    "mae_kfold(lr)"
   ]
  },
  {
   "cell_type": "markdown",
   "id": "0311b74d",
   "metadata": {},
   "source": [
    "## ridge"
   ]
  },
  {
   "cell_type": "code",
   "execution_count": 31,
   "id": "20ee20b5",
   "metadata": {},
   "outputs": [
    {
     "name": "stdout",
     "output_type": "stream",
     "text": [
      "100 : 0.02 0.002 mae: 1.841\n",
      "10 : 0.117 0.059 mae: 1.807\n",
      "1 : 0.302 0.185 mae: 1.657\n",
      "0.1 : 0.406 0.349 mae: 1.42\n",
      "0.01 : 0.418 0.4 mae: 1.331\n",
      "0.001 : 0.419 0.405 mae: 1.321\n",
      "0.0001 : 0.419 0.405 mae: 1.319\n"
     ]
    }
   ],
   "source": [
    "# ridge\n",
    "alphas_finder(Ridge)"
   ]
  },
  {
   "cell_type": "code",
   "execution_count": 32,
   "id": "787b93be",
   "metadata": {},
   "outputs": [
    {
     "name": "stdout",
     "output_type": "stream",
     "text": [
      "Fold = 1, mae = 1.70\n",
      "Fold = 2, mae = 2.18\n",
      "Fold = 3, mae = 1.55\n",
      "Fold = 4, mae = 1.53\n",
      "Fold = 5, mae = 2.07\n",
      "------------------------------\n",
      "Average Error: 1.8056573589672147\n",
      "------------------------------\n",
      "Fold = 1, mae = 1.69\n",
      "Fold = 2, mae = 2.16\n",
      "Fold = 3, mae = 1.50\n",
      "Fold = 4, mae = 1.51\n",
      "Fold = 5, mae = 1.96\n",
      "------------------------------\n",
      "Average Error: 1.764843951897427\n",
      "------------------------------\n",
      "Fold = 1, mae = 1.57\n",
      "Fold = 2, mae = 2.03\n",
      "Fold = 3, mae = 1.34\n",
      "Fold = 4, mae = 1.46\n",
      "Fold = 5, mae = 1.71\n",
      "------------------------------\n",
      "Average Error: 1.6214875907917594\n",
      "------------------------------\n",
      "Fold = 1, mae = 1.32\n",
      "Fold = 2, mae = 1.80\n",
      "Fold = 3, mae = 1.47\n",
      "Fold = 4, mae = 1.43\n",
      "Fold = 5, mae = 1.62\n",
      "------------------------------\n",
      "Average Error: 1.5286498822291401\n",
      "------------------------------\n",
      "Fold = 1, mae = 1.27\n",
      "Fold = 2, mae = 1.70\n",
      "Fold = 3, mae = 1.61\n",
      "Fold = 4, mae = 1.49\n",
      "Fold = 5, mae = 1.61\n",
      "------------------------------\n",
      "Average Error: 1.5366348982682996\n",
      "------------------------------\n",
      "Fold = 1, mae = 1.26\n",
      "Fold = 2, mae = 1.69\n",
      "Fold = 3, mae = 1.62\n",
      "Fold = 4, mae = 1.50\n",
      "Fold = 5, mae = 1.61\n",
      "------------------------------\n",
      "Average Error: 1.5379406189810716\n",
      "------------------------------\n",
      "Fold = 1, mae = 1.26\n",
      "Fold = 2, mae = 1.69\n",
      "Fold = 3, mae = 1.62\n",
      "Fold = 4, mae = 1.50\n",
      "Fold = 5, mae = 1.61\n",
      "------------------------------\n",
      "Average Error: 1.5380866922576426\n",
      "------------------------------\n"
     ]
    }
   ],
   "source": [
    "for i in [100, 10, 1, 0.1, 0.01, 0.001, 0.0001]:\n",
    "    ridge = Ridge(alpha=i)\n",
    "    mae_kfold(ridge)"
   ]
  },
  {
   "cell_type": "markdown",
   "id": "533389d2",
   "metadata": {},
   "source": [
    "## Lasso"
   ]
  },
  {
   "cell_type": "code",
   "execution_count": 33,
   "id": "84b3894d",
   "metadata": {},
   "outputs": [
    {
     "name": "stdout",
     "output_type": "stream",
     "text": [
      "100 : 0.0 -0.011 mae: 1.845\n",
      "10 : 0.0 -0.011 mae: 1.845\n",
      "1 : 0.0 -0.011 mae: 1.845\n",
      "0.1 : 0.062 0.017 mae: 1.851\n",
      "0.01 : 0.38 0.242 mae: 1.557\n",
      "0.001 : 0.418 0.396 mae: 1.338\n",
      "0.0001 : 0.419 0.405 mae: 1.321\n"
     ]
    }
   ],
   "source": [
    "# lasso\n",
    "alphas_finder(Lasso)"
   ]
  },
  {
   "cell_type": "code",
   "execution_count": 34,
   "id": "680923d0",
   "metadata": {},
   "outputs": [
    {
     "name": "stdout",
     "output_type": "stream",
     "text": [
      "Fold = 1, mae = 1.70\n",
      "Fold = 2, mae = 2.18\n",
      "Fold = 3, mae = 1.56\n",
      "Fold = 4, mae = 1.52\n",
      "Fold = 5, mae = 2.09\n",
      "------------------------------\n",
      "Average Error: 1.810733065347351\n",
      "------------------------------\n",
      "Fold = 1, mae = 1.70\n",
      "Fold = 2, mae = 2.18\n",
      "Fold = 3, mae = 1.56\n",
      "Fold = 4, mae = 1.52\n",
      "Fold = 5, mae = 2.09\n",
      "------------------------------\n",
      "Average Error: 1.810733065347351\n",
      "------------------------------\n",
      "Fold = 1, mae = 1.70\n",
      "Fold = 2, mae = 2.18\n",
      "Fold = 3, mae = 1.56\n",
      "Fold = 4, mae = 1.52\n",
      "Fold = 5, mae = 2.09\n",
      "------------------------------\n",
      "Average Error: 1.810733065347351\n",
      "------------------------------\n",
      "Fold = 1, mae = 1.70\n",
      "Fold = 2, mae = 2.19\n",
      "Fold = 3, mae = 1.54\n",
      "Fold = 4, mae = 1.52\n",
      "Fold = 5, mae = 2.04\n",
      "------------------------------\n",
      "Average Error: 1.7971083427788765\n",
      "------------------------------\n",
      "Fold = 1, mae = 1.44\n",
      "Fold = 2, mae = 1.92\n",
      "Fold = 3, mae = 1.37\n",
      "Fold = 4, mae = 1.44\n",
      "Fold = 5, mae = 1.71\n",
      "------------------------------\n",
      "Average Error: 1.5765535846017247\n",
      "------------------------------\n",
      "Fold = 1, mae = 1.27\n",
      "Fold = 2, mae = 1.72\n",
      "Fold = 3, mae = 1.60\n",
      "Fold = 4, mae = 1.50\n",
      "Fold = 5, mae = 1.62\n",
      "------------------------------\n",
      "Average Error: 1.540910559197134\n",
      "------------------------------\n",
      "Fold = 1, mae = 1.26\n",
      "Fold = 2, mae = 1.69\n",
      "Fold = 3, mae = 1.62\n",
      "Fold = 4, mae = 1.50\n",
      "Fold = 5, mae = 1.61\n",
      "------------------------------\n",
      "Average Error: 1.5383600723745312\n",
      "------------------------------\n"
     ]
    }
   ],
   "source": [
    "\n",
    "for i in [100, 10, 1, 0.1, 0.01, 0.001, 0.0001]:\n",
    "    lasso = Lasso(alpha=i)\n",
    "    mae_kfold(lasso)"
   ]
  },
  {
   "cell_type": "markdown",
   "id": "fce61f49",
   "metadata": {},
   "source": [
    "## ElasticNet"
   ]
  },
  {
   "cell_type": "code",
   "execution_count": 35,
   "id": "c800ffce",
   "metadata": {},
   "outputs": [
    {
     "name": "stdout",
     "output_type": "stream",
     "text": [
      "100 : 0.0 -0.011 mae: 1.845\n",
      "10 : 0.0 -0.011 mae: 1.845\n",
      "1 : 0.0 -0.011 mae: 1.845\n",
      "0.1 : 0.103 0.05 mae: 1.818\n",
      "0.01 : 0.337 0.212 mae: 1.612\n",
      "0.001 : 0.414 0.374 mae: 1.371\n",
      "0.0001 : 0.419 0.403 mae: 1.326\n"
     ]
    }
   ],
   "source": [
    "alphas_finder(ElasticNet)"
   ]
  },
  {
   "cell_type": "code",
   "execution_count": 36,
   "id": "d854d969",
   "metadata": {},
   "outputs": [
    {
     "name": "stdout",
     "output_type": "stream",
     "text": [
      "Fold = 1, mae = 1.70\n",
      "Fold = 2, mae = 2.18\n",
      "Fold = 3, mae = 1.56\n",
      "Fold = 4, mae = 1.52\n",
      "Fold = 5, mae = 2.09\n",
      "------------------------------\n",
      "Average Error: 1.810733065347351\n",
      "------------------------------\n",
      "Fold = 1, mae = 1.70\n",
      "Fold = 2, mae = 2.18\n",
      "Fold = 3, mae = 1.56\n",
      "Fold = 4, mae = 1.52\n",
      "Fold = 5, mae = 2.09\n",
      "------------------------------\n",
      "Average Error: 1.810733065347351\n",
      "------------------------------\n",
      "Fold = 1, mae = 1.70\n",
      "Fold = 2, mae = 2.18\n",
      "Fold = 3, mae = 1.56\n",
      "Fold = 4, mae = 1.52\n",
      "Fold = 5, mae = 2.09\n",
      "------------------------------\n",
      "Average Error: 1.810733065347351\n",
      "------------------------------\n",
      "Fold = 1, mae = 1.70\n",
      "Fold = 2, mae = 2.14\n",
      "Fold = 3, mae = 1.53\n",
      "Fold = 4, mae = 1.50\n",
      "Fold = 5, mae = 1.99\n",
      "------------------------------\n",
      "Average Error: 1.7724210562597105\n",
      "------------------------------\n",
      "Fold = 1, mae = 1.54\n",
      "Fold = 2, mae = 1.97\n",
      "Fold = 3, mae = 1.32\n",
      "Fold = 4, mae = 1.45\n",
      "Fold = 5, mae = 1.68\n",
      "------------------------------\n",
      "Average Error: 1.5937487660362704\n",
      "------------------------------\n",
      "Fold = 1, mae = 1.30\n",
      "Fold = 2, mae = 1.76\n",
      "Fold = 3, mae = 1.53\n",
      "Fold = 4, mae = 1.46\n",
      "Fold = 5, mae = 1.61\n",
      "------------------------------\n",
      "Average Error: 1.5330657073735598\n",
      "------------------------------\n",
      "Fold = 1, mae = 1.27\n",
      "Fold = 2, mae = 1.70\n",
      "Fold = 3, mae = 1.61\n",
      "Fold = 4, mae = 1.50\n",
      "Fold = 5, mae = 1.61\n",
      "------------------------------\n",
      "Average Error: 1.5374961901304567\n",
      "------------------------------\n"
     ]
    }
   ],
   "source": [
    "\n",
    "for i in [100, 10, 1, 0.1, 0.01, 0.001, 0.0001]:\n",
    "    elastic = ElasticNet(alpha=i)\n",
    "    mae_kfold(elastic)"
   ]
  },
  {
   "cell_type": "markdown",
   "id": "1523617b",
   "metadata": {},
   "source": [
    "## XGboost"
   ]
  },
  {
   "cell_type": "code",
   "execution_count": 37,
   "id": "305906b8",
   "metadata": {},
   "outputs": [
    {
     "name": "stdout",
     "output_type": "stream",
     "text": [
      "0.9999998420461608 -0.06974470823560042 1.8067306106154981\n"
     ]
    }
   ],
   "source": [
    "#XG boost\n",
    "xgbr = XGBRegressor()\n",
    "xgbr.fit(X_train, y_train)\n",
    "print(xgbr.score(X_train, y_train), xgbr.score(X_test, y_test),mean_absolute_error(xgbr.predict(X_test), y_test))"
   ]
  },
  {
   "cell_type": "code",
   "execution_count": 38,
   "id": "3a3c4d27",
   "metadata": {},
   "outputs": [
    {
     "name": "stdout",
     "output_type": "stream",
     "text": [
      "Fold = 1, mae = 1.92\n",
      "Fold = 2, mae = 2.24\n",
      "Fold = 3, mae = 1.52\n",
      "Fold = 4, mae = 1.70\n",
      "Fold = 5, mae = 2.22\n",
      "------------------------------\n",
      "Average Error: 1.921580889892579\n",
      "------------------------------\n"
     ]
    }
   ],
   "source": [
    "#XG boost교차검증\n",
    "mae_kfold(xgbr)"
   ]
  },
  {
   "cell_type": "code",
   "execution_count": 39,
   "id": "4942058f",
   "metadata": {},
   "outputs": [
    {
     "name": "stdout",
     "output_type": "stream",
     "text": [
      "0.9999999347294102 -0.38643122056620416 1.9139029425543714\n"
     ]
    }
   ],
   "source": [
    "#XG boost 튜닝\n",
    "xgbr = XGBRegressor(n_estimators = 400, learning_rate = 1, max_depth = 3, objective=\"reg:squarederror\")\n",
    "xgbr.fit(X_train, y_train)\n",
    "print(xgbr.score(X_train, y_train), xgbr.score(X_test, y_test),mean_absolute_error(xgbr.predict(X_test), y_test))"
   ]
  },
  {
   "cell_type": "code",
   "execution_count": 40,
   "id": "c95c4d18",
   "metadata": {},
   "outputs": [
    {
     "name": "stdout",
     "output_type": "stream",
     "text": [
      "Fold = 1, mae = 2.25\n",
      "Fold = 2, mae = 2.38\n",
      "Fold = 3, mae = 1.99\n",
      "Fold = 4, mae = 1.94\n",
      "Fold = 5, mae = 2.51\n",
      "------------------------------\n",
      "Average Error: 2.213945426940918\n",
      "------------------------------\n"
     ]
    }
   ],
   "source": [
    "#XG boost교차검증\n",
    "mae_kfold(xgbr)"
   ]
  },
  {
   "cell_type": "markdown",
   "id": "6b8de2f7",
   "metadata": {},
   "source": [
    "## lightgbm"
   ]
  },
  {
   "cell_type": "code",
   "execution_count": 41,
   "id": "8d287e12",
   "metadata": {},
   "outputs": [
    {
     "name": "stdout",
     "output_type": "stream",
     "text": [
      "0.5413438735826817 -0.09206938212830273 1.9568720260553343\n"
     ]
    }
   ],
   "source": [
    "#lightgbm\n",
    "lgbm = LGBMRegressor()\n",
    "lgbm.fit(X_train, y_train)\n",
    "print(lgbm.score(X_train, y_train), lgbm.score(X_test, y_test),mean_absolute_error(lgbm.predict(X_test), y_test))"
   ]
  },
  {
   "cell_type": "code",
   "execution_count": 42,
   "id": "76847636",
   "metadata": {},
   "outputs": [
    {
     "name": "stdout",
     "output_type": "stream",
     "text": [
      "Fold = 1, mae = 1.94\n",
      "Fold = 2, mae = 2.54\n",
      "Fold = 3, mae = 1.59\n",
      "Fold = 4, mae = 1.68\n",
      "Fold = 5, mae = 1.70\n",
      "------------------------------\n",
      "Average Error: 1.8911311809472384\n",
      "------------------------------\n"
     ]
    }
   ],
   "source": [
    "#lightgbm교차검증\n",
    "mae_kfold(lgbm)"
   ]
  },
  {
   "cell_type": "code",
   "execution_count": 43,
   "id": "44741e56",
   "metadata": {},
   "outputs": [
    {
     "name": "stdout",
     "output_type": "stream",
     "text": [
      "학습 결과 :  0.22461517261288777\n",
      "테스트 결과 :  0.11404309789593514\n",
      "테스트 결과 :  1.7427204831603869\n"
     ]
    }
   ],
   "source": [
    "#SVR\n",
    "svr = SVR(kernel=\"linear\")\n",
    "svr.fit(X_train, y_train)\n",
    "\n",
    "print(\"학습 결과 : \", svr.score(X_train, y_train))\n",
    "print(\"테스트 결과 : \", svr.score(X_test, y_test))\n",
    "print(\"테스트 결과 : \", mean_absolute_error(svr.predict(X_test), y_test))"
   ]
  },
  {
   "cell_type": "code",
   "execution_count": 44,
   "id": "4cd61cb7",
   "metadata": {},
   "outputs": [
    {
     "name": "stdout",
     "output_type": "stream",
     "text": [
      "Fold = 1, mae = 1.59\n",
      "Fold = 2, mae = 2.12\n",
      "Fold = 3, mae = 1.56\n",
      "Fold = 4, mae = 1.44\n",
      "Fold = 5, mae = 1.82\n",
      "------------------------------\n",
      "Average Error: 1.703565512393444\n",
      "------------------------------\n"
     ]
    }
   ],
   "source": [
    "mae_kfold(svr)"
   ]
  },
  {
   "cell_type": "markdown",
   "id": "32b9cbb7",
   "metadata": {},
   "source": [
    "# standardscaling"
   ]
  },
  {
   "cell_type": "markdown",
   "id": "f2a5bf4d",
   "metadata": {},
   "source": [
    "#### 변수마다 Standard Scaling\n",
    "\n"
   ]
  },
  {
   "cell_type": "code",
   "execution_count": 47,
   "id": "f7199d2c",
   "metadata": {},
   "outputs": [],
   "source": [
    "#각 변수들을 스케일링 하는 함수\n",
    "\n",
    "def standard_scaling(df, scale_columns):\n",
    "    for col in scale_columns:\n",
    "        series_mean = df[col].mean()\n",
    "        series_std = df[col].std()\n",
    "        df[col] = df[col].apply(lambda x: (x-series_mean)/series_std)\n",
    "        \n",
    "    return df"
   ]
  },
  {
   "cell_type": "code",
   "execution_count": 48,
   "id": "f10f1cef",
   "metadata": {},
   "outputs": [
    {
     "data": {
      "text/plain": [
       "Index(['crm_wthr_눈', 'crm_clue_피해자신고', 'vic_age_2_30대', '일인가구수', '총_인구수',\n",
       "       '기초수급_19세이하', '기초수급_60세이상', '외국인수'],\n",
       "      dtype='object')"
      ]
     },
     "execution_count": 48,
     "metadata": {},
     "output_type": "execute_result"
    }
   ],
   "source": [
    "df.iloc[:,:-1].columns"
   ]
  },
  {
   "cell_type": "code",
   "execution_count": 49,
   "id": "a71364d0",
   "metadata": {},
   "outputs": [
    {
     "data": {
      "text/html": [
       "<div>\n",
       "<style scoped>\n",
       "    .dataframe tbody tr th:only-of-type {\n",
       "        vertical-align: middle;\n",
       "    }\n",
       "\n",
       "    .dataframe tbody tr th {\n",
       "        vertical-align: top;\n",
       "    }\n",
       "\n",
       "    .dataframe thead th {\n",
       "        text-align: right;\n",
       "    }\n",
       "</style>\n",
       "<table border=\"1\" class=\"dataframe\">\n",
       "  <thead>\n",
       "    <tr style=\"text-align: right;\">\n",
       "      <th></th>\n",
       "      <th>crm_wthr_눈</th>\n",
       "      <th>crm_clue_피해자신고</th>\n",
       "      <th>vic_age_2_30대</th>\n",
       "      <th>일인가구수</th>\n",
       "      <th>총_인구수</th>\n",
       "      <th>기초수급_19세이하</th>\n",
       "      <th>기초수급_60세이상</th>\n",
       "      <th>외국인수</th>\n",
       "      <th>score_교통</th>\n",
       "    </tr>\n",
       "  </thead>\n",
       "  <tbody>\n",
       "    <tr>\n",
       "      <th>0</th>\n",
       "      <td>2.928534</td>\n",
       "      <td>2.353164</td>\n",
       "      <td>2.238959</td>\n",
       "      <td>0.703653</td>\n",
       "      <td>1.391783</td>\n",
       "      <td>0.422364</td>\n",
       "      <td>-0.147244</td>\n",
       "      <td>0.159691</td>\n",
       "      <td>69.00</td>\n",
       "    </tr>\n",
       "    <tr>\n",
       "      <th>1</th>\n",
       "      <td>1.336698</td>\n",
       "      <td>-0.709239</td>\n",
       "      <td>-0.508314</td>\n",
       "      <td>-0.559382</td>\n",
       "      <td>-0.142624</td>\n",
       "      <td>0.422364</td>\n",
       "      <td>-0.147244</td>\n",
       "      <td>0.889381</td>\n",
       "      <td>66.40</td>\n",
       "    </tr>\n",
       "    <tr>\n",
       "      <th>2</th>\n",
       "      <td>0.654483</td>\n",
       "      <td>0.824066</td>\n",
       "      <td>0.712249</td>\n",
       "      <td>0.093248</td>\n",
       "      <td>0.756811</td>\n",
       "      <td>0.422364</td>\n",
       "      <td>-0.147244</td>\n",
       "      <td>0.466086</td>\n",
       "      <td>69.55</td>\n",
       "    </tr>\n",
       "    <tr>\n",
       "      <th>3</th>\n",
       "      <td>-0.937353</td>\n",
       "      <td>-1.167758</td>\n",
       "      <td>-1.019903</td>\n",
       "      <td>-1.000262</td>\n",
       "      <td>-0.791697</td>\n",
       "      <td>1.224555</td>\n",
       "      <td>0.340403</td>\n",
       "      <td>-0.767420</td>\n",
       "      <td>64.45</td>\n",
       "    </tr>\n",
       "    <tr>\n",
       "      <th>4</th>\n",
       "      <td>-0.937353</td>\n",
       "      <td>-1.129899</td>\n",
       "      <td>-1.064214</td>\n",
       "      <td>-0.929592</td>\n",
       "      <td>-0.791697</td>\n",
       "      <td>1.224555</td>\n",
       "      <td>0.340403</td>\n",
       "      <td>-0.843852</td>\n",
       "      <td>70.20</td>\n",
       "    </tr>\n",
       "    <tr>\n",
       "      <th>...</th>\n",
       "      <td>...</td>\n",
       "      <td>...</td>\n",
       "      <td>...</td>\n",
       "      <td>...</td>\n",
       "      <td>...</td>\n",
       "      <td>...</td>\n",
       "      <td>...</td>\n",
       "      <td>...</td>\n",
       "      <td>...</td>\n",
       "    </tr>\n",
       "    <tr>\n",
       "      <th>118</th>\n",
       "      <td>-0.709948</td>\n",
       "      <td>-0.391641</td>\n",
       "      <td>-0.472060</td>\n",
       "      <td>-0.783554</td>\n",
       "      <td>-0.879166</td>\n",
       "      <td>0.029093</td>\n",
       "      <td>0.422849</td>\n",
       "      <td>-0.523189</td>\n",
       "      <td>71.25</td>\n",
       "    </tr>\n",
       "    <tr>\n",
       "      <th>119</th>\n",
       "      <td>-0.709948</td>\n",
       "      <td>0.767277</td>\n",
       "      <td>0.337621</td>\n",
       "      <td>0.671554</td>\n",
       "      <td>0.561386</td>\n",
       "      <td>0.797546</td>\n",
       "      <td>1.123263</td>\n",
       "      <td>-0.300068</td>\n",
       "      <td>67.35</td>\n",
       "    </tr>\n",
       "    <tr>\n",
       "      <th>120</th>\n",
       "      <td>-0.937353</td>\n",
       "      <td>-0.681896</td>\n",
       "      <td>-0.617077</td>\n",
       "      <td>-1.082101</td>\n",
       "      <td>-1.525857</td>\n",
       "      <td>-1.217180</td>\n",
       "      <td>-0.808163</td>\n",
       "      <td>-0.157301</td>\n",
       "      <td>67.95</td>\n",
       "    </tr>\n",
       "    <tr>\n",
       "      <th>121</th>\n",
       "      <td>-0.709948</td>\n",
       "      <td>-0.717652</td>\n",
       "      <td>-0.729868</td>\n",
       "      <td>0.090482</td>\n",
       "      <td>-1.732256</td>\n",
       "      <td>-1.271902</td>\n",
       "      <td>-0.891059</td>\n",
       "      <td>-0.228643</td>\n",
       "      <td>68.60</td>\n",
       "    </tr>\n",
       "    <tr>\n",
       "      <th>122</th>\n",
       "      <td>-0.482543</td>\n",
       "      <td>-0.366401</td>\n",
       "      <td>-0.488173</td>\n",
       "      <td>-0.013123</td>\n",
       "      <td>0.205944</td>\n",
       "      <td>-0.748354</td>\n",
       "      <td>-0.976058</td>\n",
       "      <td>-0.297648</td>\n",
       "      <td>69.95</td>\n",
       "    </tr>\n",
       "  </tbody>\n",
       "</table>\n",
       "<p>123 rows × 9 columns</p>\n",
       "</div>"
      ],
      "text/plain": [
       "     crm_wthr_눈  crm_clue_피해자신고  vic_age_2_30대     일인가구수     총_인구수  \\\n",
       "0      2.928534        2.353164       2.238959  0.703653  1.391783   \n",
       "1      1.336698       -0.709239      -0.508314 -0.559382 -0.142624   \n",
       "2      0.654483        0.824066       0.712249  0.093248  0.756811   \n",
       "3     -0.937353       -1.167758      -1.019903 -1.000262 -0.791697   \n",
       "4     -0.937353       -1.129899      -1.064214 -0.929592 -0.791697   \n",
       "..          ...             ...            ...       ...       ...   \n",
       "118   -0.709948       -0.391641      -0.472060 -0.783554 -0.879166   \n",
       "119   -0.709948        0.767277       0.337621  0.671554  0.561386   \n",
       "120   -0.937353       -0.681896      -0.617077 -1.082101 -1.525857   \n",
       "121   -0.709948       -0.717652      -0.729868  0.090482 -1.732256   \n",
       "122   -0.482543       -0.366401      -0.488173 -0.013123  0.205944   \n",
       "\n",
       "     기초수급_19세이하  기초수급_60세이상      외국인수  score_교통  \n",
       "0      0.422364   -0.147244  0.159691     69.00  \n",
       "1      0.422364   -0.147244  0.889381     66.40  \n",
       "2      0.422364   -0.147244  0.466086     69.55  \n",
       "3      1.224555    0.340403 -0.767420     64.45  \n",
       "4      1.224555    0.340403 -0.843852     70.20  \n",
       "..          ...         ...       ...       ...  \n",
       "118    0.029093    0.422849 -0.523189     71.25  \n",
       "119    0.797546    1.123263 -0.300068     67.35  \n",
       "120   -1.217180   -0.808163 -0.157301     67.95  \n",
       "121   -1.271902   -0.891059 -0.228643     68.60  \n",
       "122   -0.748354   -0.976058 -0.297648     69.95  \n",
       "\n",
       "[123 rows x 9 columns]"
      ]
     },
     "execution_count": 49,
     "metadata": {},
     "output_type": "execute_result"
    }
   ],
   "source": [
    "standard_scaling(df, df.iloc[:,:-1].columns)"
   ]
  },
  {
   "cell_type": "markdown",
   "id": "ca14c385",
   "metadata": {},
   "source": [
    "# 설명력 보기위한 모델링"
   ]
  },
  {
   "cell_type": "code",
   "execution_count": 50,
   "id": "7e8bab4a",
   "metadata": {},
   "outputs": [],
   "source": [
    "# train, test 분리\n",
    "X_train, X_test, y_train, y_test  = train_test_split(df.iloc[:,:-1], df[\"score_교통\"],test_size = 0.3, random_state=0)"
   ]
  },
  {
   "cell_type": "code",
   "execution_count": 51,
   "id": "dbb0f50f",
   "metadata": {},
   "outputs": [],
   "source": [
    "X = np.array(df.drop('score_교통', 1))\n",
    "Y = np.array(df['score_교통'])"
   ]
  },
  {
   "cell_type": "code",
   "execution_count": 52,
   "id": "8709d68b",
   "metadata": {},
   "outputs": [
    {
     "name": "stdout",
     "output_type": "stream",
     "text": [
      "0.4187263237829286 0.4054243456723483 1.3192289268941984\n"
     ]
    }
   ],
   "source": [
    "#다중회귀\n",
    "lr = LinearRegression()\n",
    "lr.fit(X_train, y_train)\n",
    "print(lr.score(X_train, y_train), lr.score(X_test, y_test),mean_absolute_error(lr.predict(X_test), y_test))"
   ]
  },
  {
   "cell_type": "code",
   "execution_count": 53,
   "id": "471cc5fe",
   "metadata": {},
   "outputs": [
    {
     "name": "stdout",
     "output_type": "stream",
     "text": [
      "Fold = 1, mae = 1.26\n",
      "Fold = 2, mae = 1.69\n",
      "Fold = 3, mae = 1.62\n",
      "Fold = 4, mae = 1.50\n",
      "Fold = 5, mae = 1.61\n",
      "------------------------------\n",
      "Average Error: 1.5381029129406563\n",
      "------------------------------\n"
     ]
    }
   ],
   "source": [
    "# 다중회귀  교차검증\n",
    "mae_kfold(lr)"
   ]
  },
  {
   "cell_type": "markdown",
   "id": "7ef49288",
   "metadata": {},
   "source": [
    "## ridge"
   ]
  },
  {
   "cell_type": "code",
   "execution_count": 54,
   "id": "fe74f5c2",
   "metadata": {},
   "outputs": [
    {
     "name": "stdout",
     "output_type": "stream",
     "text": [
      "100 : 0.202 0.073 mae: 1.784\n",
      "10 : 0.353 0.199 mae: 1.61\n",
      "1 : 0.414 0.365 mae: 1.385\n",
      "0.1 : 0.419 0.401 mae: 1.327\n",
      "0.01 : 0.419 0.405 mae: 1.32\n",
      "0.001 : 0.419 0.405 mae: 1.319\n",
      "0.0001 : 0.419 0.405 mae: 1.319\n"
     ]
    }
   ],
   "source": [
    "# ridge\n",
    "alphas_finder(Ridge)"
   ]
  },
  {
   "cell_type": "code",
   "execution_count": 55,
   "id": "40c372c5",
   "metadata": {},
   "outputs": [
    {
     "name": "stdout",
     "output_type": "stream",
     "text": [
      "Fold = 1, mae = 1.70\n",
      "Fold = 2, mae = 2.13\n",
      "Fold = 3, mae = 1.43\n",
      "Fold = 4, mae = 1.49\n",
      "Fold = 5, mae = 1.89\n",
      "------------------------------\n",
      "Average Error: 1.728329632061375\n",
      "------------------------------\n",
      "Fold = 1, mae = 1.53\n",
      "Fold = 2, mae = 1.98\n",
      "Fold = 3, mae = 1.30\n",
      "Fold = 4, mae = 1.41\n",
      "Fold = 5, mae = 1.64\n",
      "------------------------------\n",
      "Average Error: 1.570381949793214\n",
      "------------------------------\n",
      "Fold = 1, mae = 1.30\n",
      "Fold = 2, mae = 1.76\n",
      "Fold = 3, mae = 1.55\n",
      "Fold = 4, mae = 1.46\n",
      "Fold = 5, mae = 1.60\n",
      "------------------------------\n",
      "Average Error: 1.5335233806252897\n",
      "------------------------------\n",
      "Fold = 1, mae = 1.27\n",
      "Fold = 2, mae = 1.70\n",
      "Fold = 3, mae = 1.61\n",
      "Fold = 4, mae = 1.50\n",
      "Fold = 5, mae = 1.61\n",
      "------------------------------\n",
      "Average Error: 1.5375030631524733\n",
      "------------------------------\n",
      "Fold = 1, mae = 1.26\n",
      "Fold = 2, mae = 1.69\n",
      "Fold = 3, mae = 1.62\n",
      "Fold = 4, mae = 1.50\n",
      "Fold = 5, mae = 1.61\n",
      "------------------------------\n",
      "Average Error: 1.538037481682645\n",
      "------------------------------\n",
      "Fold = 1, mae = 1.26\n",
      "Fold = 2, mae = 1.69\n",
      "Fold = 3, mae = 1.62\n",
      "Fold = 4, mae = 1.50\n",
      "Fold = 5, mae = 1.61\n",
      "------------------------------\n",
      "Average Error: 1.5380963770305127\n",
      "------------------------------\n",
      "Fold = 1, mae = 1.26\n",
      "Fold = 2, mae = 1.69\n",
      "Fold = 3, mae = 1.62\n",
      "Fold = 4, mae = 1.50\n",
      "Fold = 5, mae = 1.61\n",
      "------------------------------\n",
      "Average Error: 1.538102259422381\n",
      "------------------------------\n"
     ]
    }
   ],
   "source": [
    "for i in [100, 10, 1, 0.1, 0.01, 0.001, 0.0001]:\n",
    "    ridge = Ridge(alpha=i)\n",
    "    mae_kfold(ridge)"
   ]
  },
  {
   "cell_type": "markdown",
   "id": "229dbbc3",
   "metadata": {},
   "source": [
    "## Lasso"
   ]
  },
  {
   "cell_type": "code",
   "execution_count": 56,
   "id": "00672d13",
   "metadata": {},
   "outputs": [
    {
     "name": "stdout",
     "output_type": "stream",
     "text": [
      "100 : 0.0 -0.011 mae: 1.845\n",
      "10 : 0.0 -0.011 mae: 1.845\n",
      "1 : 0.0 -0.011 mae: 1.845\n",
      "0.1 : 0.323 0.108 mae: 1.727\n",
      "0.01 : 0.416 0.377 mae: 1.366\n",
      "0.001 : 0.419 0.403 mae: 1.324\n",
      "0.0001 : 0.419 0.405 mae: 1.32\n"
     ]
    }
   ],
   "source": [
    "# lasso\n",
    "alphas_finder(Lasso)"
   ]
  },
  {
   "cell_type": "code",
   "execution_count": 57,
   "id": "7d866653",
   "metadata": {},
   "outputs": [
    {
     "name": "stdout",
     "output_type": "stream",
     "text": [
      "Fold = 1, mae = 1.70\n",
      "Fold = 2, mae = 2.18\n",
      "Fold = 3, mae = 1.56\n",
      "Fold = 4, mae = 1.52\n",
      "Fold = 5, mae = 2.09\n",
      "------------------------------\n",
      "Average Error: 1.810733065347351\n",
      "------------------------------\n",
      "Fold = 1, mae = 1.70\n",
      "Fold = 2, mae = 2.18\n",
      "Fold = 3, mae = 1.56\n",
      "Fold = 4, mae = 1.52\n",
      "Fold = 5, mae = 2.09\n",
      "------------------------------\n",
      "Average Error: 1.810733065347351\n",
      "------------------------------\n",
      "Fold = 1, mae = 1.70\n",
      "Fold = 2, mae = 2.18\n",
      "Fold = 3, mae = 1.56\n",
      "Fold = 4, mae = 1.52\n",
      "Fold = 5, mae = 2.09\n",
      "------------------------------\n",
      "Average Error: 1.810733065347351\n",
      "------------------------------\n",
      "Fold = 1, mae = 1.63\n",
      "Fold = 2, mae = 2.07\n",
      "Fold = 3, mae = 1.30\n",
      "Fold = 4, mae = 1.51\n",
      "Fold = 5, mae = 1.73\n",
      "------------------------------\n",
      "Average Error: 1.6473118246592253\n",
      "------------------------------\n",
      "Fold = 1, mae = 1.29\n",
      "Fold = 2, mae = 1.75\n",
      "Fold = 3, mae = 1.57\n",
      "Fold = 4, mae = 1.49\n",
      "Fold = 5, mae = 1.62\n",
      "------------------------------\n",
      "Average Error: 1.5447935338268983\n",
      "------------------------------\n",
      "Fold = 1, mae = 1.27\n",
      "Fold = 2, mae = 1.69\n",
      "Fold = 3, mae = 1.62\n",
      "Fold = 4, mae = 1.50\n",
      "Fold = 5, mae = 1.61\n",
      "------------------------------\n",
      "Average Error: 1.5387461650560366\n",
      "------------------------------\n",
      "Fold = 1, mae = 1.26\n",
      "Fold = 2, mae = 1.69\n",
      "Fold = 3, mae = 1.62\n",
      "Fold = 4, mae = 1.50\n",
      "Fold = 5, mae = 1.61\n",
      "------------------------------\n",
      "Average Error: 1.538164756703429\n",
      "------------------------------\n"
     ]
    }
   ],
   "source": [
    "\n",
    "for i in [100, 10, 1, 0.1, 0.01, 0.001, 0.0001]:\n",
    "    lasso = Lasso(alpha=i)\n",
    "    mae_kfold(lasso)"
   ]
  },
  {
   "cell_type": "markdown",
   "id": "699c642b",
   "metadata": {},
   "source": [
    "## ElasticNet"
   ]
  },
  {
   "cell_type": "code",
   "execution_count": 58,
   "id": "a214258a",
   "metadata": {},
   "outputs": [
    {
     "name": "stdout",
     "output_type": "stream",
     "text": [
      "100 : 0.0 -0.011 mae: 1.845\n",
      "10 : 0.0 -0.011 mae: 1.845\n",
      "1 : 0.058 -0.015 mae: 1.849\n",
      "0.1 : 0.345 0.163 mae: 1.656\n",
      "0.01 : 0.415 0.373 mae: 1.37\n",
      "0.001 : 0.419 0.403 mae: 1.325\n",
      "0.0001 : 0.419 0.405 mae: 1.32\n"
     ]
    }
   ],
   "source": [
    "alphas_finder(ElasticNet)"
   ]
  },
  {
   "cell_type": "code",
   "execution_count": 59,
   "id": "1f594038",
   "metadata": {},
   "outputs": [
    {
     "name": "stdout",
     "output_type": "stream",
     "text": [
      "Fold = 1, mae = 1.70\n",
      "Fold = 2, mae = 2.18\n",
      "Fold = 3, mae = 1.56\n",
      "Fold = 4, mae = 1.52\n",
      "Fold = 5, mae = 2.09\n",
      "------------------------------\n",
      "Average Error: 1.810733065347351\n",
      "------------------------------\n",
      "Fold = 1, mae = 1.70\n",
      "Fold = 2, mae = 2.18\n",
      "Fold = 3, mae = 1.56\n",
      "Fold = 4, mae = 1.52\n",
      "Fold = 5, mae = 2.09\n",
      "------------------------------\n",
      "Average Error: 1.810733065347351\n",
      "------------------------------\n",
      "Fold = 1, mae = 1.73\n",
      "Fold = 2, mae = 2.17\n",
      "Fold = 3, mae = 1.56\n",
      "Fold = 4, mae = 1.52\n",
      "Fold = 5, mae = 2.09\n",
      "------------------------------\n",
      "Average Error: 1.8141784046167941\n",
      "------------------------------\n",
      "Fold = 1, mae = 1.57\n",
      "Fold = 2, mae = 2.00\n",
      "Fold = 3, mae = 1.29\n",
      "Fold = 4, mae = 1.45\n",
      "Fold = 5, mae = 1.69\n",
      "------------------------------\n",
      "Average Error: 1.5998155857154794\n",
      "------------------------------\n",
      "Fold = 1, mae = 1.29\n",
      "Fold = 2, mae = 1.76\n",
      "Fold = 3, mae = 1.56\n",
      "Fold = 4, mae = 1.47\n",
      "Fold = 5, mae = 1.61\n",
      "------------------------------\n",
      "Average Error: 1.5387161330558126\n",
      "------------------------------\n",
      "Fold = 1, mae = 1.27\n",
      "Fold = 2, mae = 1.70\n",
      "Fold = 3, mae = 1.62\n",
      "Fold = 4, mae = 1.50\n",
      "Fold = 5, mae = 1.61\n",
      "------------------------------\n",
      "Average Error: 1.538119563577612\n",
      "------------------------------\n",
      "Fold = 1, mae = 1.26\n",
      "Fold = 2, mae = 1.69\n",
      "Fold = 3, mae = 1.62\n",
      "Fold = 4, mae = 1.50\n",
      "Fold = 5, mae = 1.61\n",
      "------------------------------\n",
      "Average Error: 1.5381009148205589\n",
      "------------------------------\n"
     ]
    }
   ],
   "source": [
    "\n",
    "for i in [100, 10, 1, 0.1, 0.01, 0.001, 0.0001]:\n",
    "    elastic = ElasticNet(alpha=i)\n",
    "    mae_kfold(elastic)"
   ]
  },
  {
   "cell_type": "markdown",
   "id": "24200ae9",
   "metadata": {},
   "source": [
    "## XGboost"
   ]
  },
  {
   "cell_type": "code",
   "execution_count": 60,
   "id": "8b2cdb82",
   "metadata": {},
   "outputs": [
    {
     "name": "stdout",
     "output_type": "stream",
     "text": [
      "0.9999998420461608 -0.07031474147670402 1.8071374429238807\n"
     ]
    }
   ],
   "source": [
    "#XG boost\n",
    "xgbr = XGBRegressor()\n",
    "xgbr.fit(X_train, y_train)\n",
    "print(xgbr.score(X_train, y_train), xgbr.score(X_test, y_test),mean_absolute_error(xgbr.predict(X_test), y_test))"
   ]
  },
  {
   "cell_type": "code",
   "execution_count": 61,
   "id": "b80af59b",
   "metadata": {},
   "outputs": [
    {
     "name": "stdout",
     "output_type": "stream",
     "text": [
      "Fold = 1, mae = 1.93\n",
      "Fold = 2, mae = 2.24\n",
      "Fold = 3, mae = 1.47\n",
      "Fold = 4, mae = 1.71\n",
      "Fold = 5, mae = 2.22\n",
      "------------------------------\n",
      "Average Error: 1.9134536087036138\n",
      "------------------------------\n"
     ]
    }
   ],
   "source": [
    "#XG boost교차검증\n",
    "mae_kfold(xgbr)"
   ]
  },
  {
   "cell_type": "code",
   "execution_count": 62,
   "id": "9cbd7528",
   "metadata": {},
   "outputs": [
    {
     "name": "stdout",
     "output_type": "stream",
     "text": [
      "0.9999999347294102 -0.4012853030804884 1.9436739947344814\n"
     ]
    }
   ],
   "source": [
    "#XG boost 튜닝\n",
    "xgbr = XGBRegressor(n_estimators = 400, learning_rate = 1, max_depth = 3, objective=\"reg:squarederror\")\n",
    "xgbr.fit(X_train, y_train)\n",
    "print(xgbr.score(X_train, y_train), xgbr.score(X_test, y_test),mean_absolute_error(xgbr.predict(X_test), y_test))"
   ]
  },
  {
   "cell_type": "code",
   "execution_count": 63,
   "id": "95242784",
   "metadata": {},
   "outputs": [
    {
     "name": "stdout",
     "output_type": "stream",
     "text": [
      "Fold = 1, mae = 2.25\n",
      "Fold = 2, mae = 2.36\n",
      "Fold = 3, mae = 1.99\n",
      "Fold = 4, mae = 1.94\n",
      "Fold = 5, mae = 2.51\n",
      "------------------------------\n",
      "Average Error: 2.2097032623291013\n",
      "------------------------------\n"
     ]
    }
   ],
   "source": [
    "#XG boost교차검증\n",
    "mae_kfold(xgbr)"
   ]
  },
  {
   "cell_type": "markdown",
   "id": "770fef44",
   "metadata": {},
   "source": [
    "## lightgbm"
   ]
  },
  {
   "cell_type": "code",
   "execution_count": 64,
   "id": "cd58493f",
   "metadata": {},
   "outputs": [
    {
     "name": "stdout",
     "output_type": "stream",
     "text": [
      "0.5989238078231851 -0.023026544120603898 1.870915972162888\n"
     ]
    }
   ],
   "source": [
    "#lightgbm\n",
    "lgbm = LGBMRegressor()\n",
    "lgbm.fit(X_train, y_train)\n",
    "print(lgbm.score(X_train, y_train), lgbm.score(X_test, y_test),mean_absolute_error(lgbm.predict(X_test), y_test))"
   ]
  },
  {
   "cell_type": "code",
   "execution_count": 65,
   "id": "9cfd5e32",
   "metadata": {},
   "outputs": [
    {
     "name": "stdout",
     "output_type": "stream",
     "text": [
      "Fold = 1, mae = 1.99\n",
      "Fold = 2, mae = 2.55\n",
      "Fold = 3, mae = 1.55\n",
      "Fold = 4, mae = 1.60\n",
      "Fold = 5, mae = 1.80\n",
      "------------------------------\n",
      "Average Error: 1.8986476323203234\n",
      "------------------------------\n"
     ]
    }
   ],
   "source": [
    "#lightgbm교차검증\n",
    "mae_kfold(lgbm)"
   ]
  },
  {
   "cell_type": "code",
   "execution_count": 66,
   "id": "8d403a12",
   "metadata": {},
   "outputs": [
    {
     "name": "stdout",
     "output_type": "stream",
     "text": [
      "학습 결과 :  0.3621706783152342\n",
      "테스트 결과 :  0.2589515825171993\n",
      "테스트 결과 :  1.4995714993128244\n"
     ]
    }
   ],
   "source": [
    "#SVR\n",
    "svr = SVR(kernel=\"linear\")\n",
    "svr.fit(X_train, y_train)\n",
    "\n",
    "print(\"학습 결과 : \", svr.score(X_train, y_train))\n",
    "print(\"테스트 결과 : \", svr.score(X_test, y_test))\n",
    "print(\"테스트 결과 : \", mean_absolute_error(svr.predict(X_test), y_test))"
   ]
  },
  {
   "cell_type": "code",
   "execution_count": 67,
   "id": "672f641e",
   "metadata": {},
   "outputs": [
    {
     "name": "stdout",
     "output_type": "stream",
     "text": [
      "Fold = 1, mae = 1.40\n",
      "Fold = 2, mae = 1.83\n",
      "Fold = 3, mae = 1.46\n",
      "Fold = 4, mae = 1.40\n",
      "Fold = 5, mae = 1.57\n",
      "------------------------------\n",
      "Average Error: 1.5306756962637458\n",
      "------------------------------\n"
     ]
    }
   ],
   "source": [
    "#best\n",
    "mae_kfold(svr) "
   ]
  },
  {
   "cell_type": "markdown",
   "id": "82475fde",
   "metadata": {},
   "source": [
    "# RobustScaler"
   ]
  },
  {
   "cell_type": "markdown",
   "id": "2dd5bb4b",
   "metadata": {},
   "source": [
    "### 각변수 robustscaling\n",
    "\n"
   ]
  },
  {
   "cell_type": "code",
   "execution_count": 78,
   "id": "22cd9e1a",
   "metadata": {},
   "outputs": [],
   "source": [
    "#각 변수들을 스케일링 하는 함수\n",
    "\n",
    "def robust_scaling(df, scale_columns):\n",
    "    for col in scale_columns:\n",
    "        series_med = df[col].median()\n",
    "        series_per75 = np.percentile(df[col],75)\n",
    "        series_per25 = np.percentile(df[col],25)\n",
    "        df[col] = df[col].apply(lambda x: (x-series_med)/(series_per75-series_per25))\n",
    "        \n",
    "            \n",
    "    return df"
   ]
  },
  {
   "cell_type": "code",
   "execution_count": 79,
   "id": "f10f1cef",
   "metadata": {},
   "outputs": [
    {
     "data": {
      "text/plain": [
       "Index(['crm_wthr_눈', 'crm_clue_피해자신고', 'vic_age_2_30대', '일인가구수', '총_인구수',\n",
       "       '기초수급_19세이하', '기초수급_60세이상', '외국인수'],\n",
       "      dtype='object')"
      ]
     },
     "execution_count": 79,
     "metadata": {},
     "output_type": "execute_result"
    }
   ],
   "source": [
    "df.iloc[:,:-1].columns"
   ]
  },
  {
   "cell_type": "code",
   "execution_count": 80,
   "id": "a71364d0",
   "metadata": {},
   "outputs": [
    {
     "data": {
      "text/html": [
       "<div>\n",
       "<style scoped>\n",
       "    .dataframe tbody tr th:only-of-type {\n",
       "        vertical-align: middle;\n",
       "    }\n",
       "\n",
       "    .dataframe tbody tr th {\n",
       "        vertical-align: top;\n",
       "    }\n",
       "\n",
       "    .dataframe thead th {\n",
       "        text-align: right;\n",
       "    }\n",
       "</style>\n",
       "<table border=\"1\" class=\"dataframe\">\n",
       "  <thead>\n",
       "    <tr style=\"text-align: right;\">\n",
       "      <th></th>\n",
       "      <th>crm_wthr_눈</th>\n",
       "      <th>crm_clue_피해자신고</th>\n",
       "      <th>vic_age_2_30대</th>\n",
       "      <th>일인가구수</th>\n",
       "      <th>총_인구수</th>\n",
       "      <th>기초수급_19세이하</th>\n",
       "      <th>기초수급_60세이상</th>\n",
       "      <th>외국인수</th>\n",
       "      <th>score_교통</th>\n",
       "    </tr>\n",
       "  </thead>\n",
       "  <tbody>\n",
       "    <tr>\n",
       "      <th>0</th>\n",
       "      <td>2.8</td>\n",
       "      <td>2.052548</td>\n",
       "      <td>2.043956</td>\n",
       "      <td>0.664721</td>\n",
       "      <td>0.988267</td>\n",
       "      <td>0.558545</td>\n",
       "      <td>0.100498</td>\n",
       "      <td>0.550122</td>\n",
       "      <td>69.00</td>\n",
       "    </tr>\n",
       "    <tr>\n",
       "      <th>1</th>\n",
       "      <td>1.4</td>\n",
       "      <td>-0.265924</td>\n",
       "      <td>-0.097331</td>\n",
       "      <td>-0.405297</td>\n",
       "      <td>-0.081904</td>\n",
       "      <td>0.558545</td>\n",
       "      <td>0.100498</td>\n",
       "      <td>1.315080</td>\n",
       "      <td>66.40</td>\n",
       "    </tr>\n",
       "    <tr>\n",
       "      <th>2</th>\n",
       "      <td>0.8</td>\n",
       "      <td>0.894904</td>\n",
       "      <td>0.854003</td>\n",
       "      <td>0.147598</td>\n",
       "      <td>0.545406</td>\n",
       "      <td>0.558545</td>\n",
       "      <td>0.100498</td>\n",
       "      <td>0.871326</td>\n",
       "      <td>69.55</td>\n",
       "    </tr>\n",
       "    <tr>\n",
       "      <th>3</th>\n",
       "      <td>-0.6</td>\n",
       "      <td>-0.613057</td>\n",
       "      <td>-0.496075</td>\n",
       "      <td>-0.778802</td>\n",
       "      <td>-0.534599</td>\n",
       "      <td>1.192499</td>\n",
       "      <td>0.496633</td>\n",
       "      <td>-0.421798</td>\n",
       "      <td>64.45</td>\n",
       "    </tr>\n",
       "    <tr>\n",
       "      <th>4</th>\n",
       "      <td>-0.6</td>\n",
       "      <td>-0.584395</td>\n",
       "      <td>-0.530612</td>\n",
       "      <td>-0.718932</td>\n",
       "      <td>-0.534599</td>\n",
       "      <td>1.192499</td>\n",
       "      <td>0.496633</td>\n",
       "      <td>-0.501924</td>\n",
       "      <td>70.20</td>\n",
       "    </tr>\n",
       "    <tr>\n",
       "      <th>...</th>\n",
       "      <td>...</td>\n",
       "      <td>...</td>\n",
       "      <td>...</td>\n",
       "      <td>...</td>\n",
       "      <td>...</td>\n",
       "      <td>...</td>\n",
       "      <td>...</td>\n",
       "      <td>...</td>\n",
       "      <td>...</td>\n",
       "    </tr>\n",
       "    <tr>\n",
       "      <th>118</th>\n",
       "      <td>-0.4</td>\n",
       "      <td>-0.025478</td>\n",
       "      <td>-0.069074</td>\n",
       "      <td>-0.595211</td>\n",
       "      <td>-0.595604</td>\n",
       "      <td>0.247751</td>\n",
       "      <td>0.563607</td>\n",
       "      <td>-0.165763</td>\n",
       "      <td>71.25</td>\n",
       "    </tr>\n",
       "    <tr>\n",
       "      <th>119</th>\n",
       "      <td>-0.4</td>\n",
       "      <td>0.851911</td>\n",
       "      <td>0.562009</td>\n",
       "      <td>0.637527</td>\n",
       "      <td>0.409108</td>\n",
       "      <td>0.855043</td>\n",
       "      <td>1.132582</td>\n",
       "      <td>0.068142</td>\n",
       "      <td>67.35</td>\n",
       "    </tr>\n",
       "    <tr>\n",
       "      <th>120</th>\n",
       "      <td>-0.6</td>\n",
       "      <td>-0.245223</td>\n",
       "      <td>-0.182104</td>\n",
       "      <td>-0.848135</td>\n",
       "      <td>-1.046638</td>\n",
       "      <td>-0.737151</td>\n",
       "      <td>-0.436393</td>\n",
       "      <td>0.217810</td>\n",
       "      <td>67.95</td>\n",
       "    </tr>\n",
       "    <tr>\n",
       "      <th>121</th>\n",
       "      <td>-0.4</td>\n",
       "      <td>-0.272293</td>\n",
       "      <td>-0.270016</td>\n",
       "      <td>0.145254</td>\n",
       "      <td>-1.190591</td>\n",
       "      <td>-0.780397</td>\n",
       "      <td>-0.503733</td>\n",
       "      <td>0.143020</td>\n",
       "      <td>68.60</td>\n",
       "    </tr>\n",
       "    <tr>\n",
       "      <th>122</th>\n",
       "      <td>-0.2</td>\n",
       "      <td>-0.006369</td>\n",
       "      <td>-0.081633</td>\n",
       "      <td>0.057483</td>\n",
       "      <td>0.161205</td>\n",
       "      <td>-0.366648</td>\n",
       "      <td>-0.572781</td>\n",
       "      <td>0.070679</td>\n",
       "      <td>69.95</td>\n",
       "    </tr>\n",
       "  </tbody>\n",
       "</table>\n",
       "<p>123 rows × 9 columns</p>\n",
       "</div>"
      ],
      "text/plain": [
       "     crm_wthr_눈  crm_clue_피해자신고  vic_age_2_30대     일인가구수     총_인구수  \\\n",
       "0           2.8        2.052548       2.043956  0.664721  0.988267   \n",
       "1           1.4       -0.265924      -0.097331 -0.405297 -0.081904   \n",
       "2           0.8        0.894904       0.854003  0.147598  0.545406   \n",
       "3          -0.6       -0.613057      -0.496075 -0.778802 -0.534599   \n",
       "4          -0.6       -0.584395      -0.530612 -0.718932 -0.534599   \n",
       "..          ...             ...            ...       ...       ...   \n",
       "118        -0.4       -0.025478      -0.069074 -0.595211 -0.595604   \n",
       "119        -0.4        0.851911       0.562009  0.637527  0.409108   \n",
       "120        -0.6       -0.245223      -0.182104 -0.848135 -1.046638   \n",
       "121        -0.4       -0.272293      -0.270016  0.145254 -1.190591   \n",
       "122        -0.2       -0.006369      -0.081633  0.057483  0.161205   \n",
       "\n",
       "     기초수급_19세이하  기초수급_60세이상      외국인수  score_교통  \n",
       "0      0.558545    0.100498  0.550122     69.00  \n",
       "1      0.558545    0.100498  1.315080     66.40  \n",
       "2      0.558545    0.100498  0.871326     69.55  \n",
       "3      1.192499    0.496633 -0.421798     64.45  \n",
       "4      1.192499    0.496633 -0.501924     70.20  \n",
       "..          ...         ...       ...       ...  \n",
       "118    0.247751    0.563607 -0.165763     71.25  \n",
       "119    0.855043    1.132582  0.068142     67.35  \n",
       "120   -0.737151   -0.436393  0.217810     67.95  \n",
       "121   -0.780397   -0.503733  0.143020     68.60  \n",
       "122   -0.366648   -0.572781  0.070679     69.95  \n",
       "\n",
       "[123 rows x 9 columns]"
      ]
     },
     "execution_count": 80,
     "metadata": {},
     "output_type": "execute_result"
    }
   ],
   "source": [
    "\n",
    "robust_scaling(df, df.iloc[:,:-1].columns)"
   ]
  },
  {
   "cell_type": "markdown",
   "id": "eb7b5c84",
   "metadata": {},
   "source": [
    "# 설명력 보기위한 모델링"
   ]
  },
  {
   "cell_type": "code",
   "execution_count": 81,
   "id": "10d6ed64",
   "metadata": {},
   "outputs": [],
   "source": [
    "# train, test 분리\n",
    "X_train, X_test, y_train, y_test  = train_test_split(df.iloc[:,:-1], df[\"score_교통\"],test_size = 0.3, random_state=0)"
   ]
  },
  {
   "cell_type": "code",
   "execution_count": 82,
   "id": "ce0859df",
   "metadata": {},
   "outputs": [],
   "source": [
    "X = np.array(df.drop('score_교통', 1))\n",
    "Y = np.array(df['score_교통'])"
   ]
  },
  {
   "cell_type": "code",
   "execution_count": 83,
   "id": "87818569",
   "metadata": {},
   "outputs": [
    {
     "name": "stdout",
     "output_type": "stream",
     "text": [
      "0.4187263237829293 0.40542434567234764 1.3192289268941988\n"
     ]
    }
   ],
   "source": [
    "#다중회귀\n",
    "lr = LinearRegression()\n",
    "lr.fit(X_train, y_train)\n",
    "print(lr.score(X_train, y_train), lr.score(X_test, y_test),mean_absolute_error(lr.predict(X_test), y_test))"
   ]
  },
  {
   "cell_type": "code",
   "execution_count": 84,
   "id": "eb2753ad",
   "metadata": {},
   "outputs": [
    {
     "name": "stdout",
     "output_type": "stream",
     "text": [
      "Fold = 1, mae = 1.26\n",
      "Fold = 2, mae = 1.69\n",
      "Fold = 3, mae = 1.62\n",
      "Fold = 4, mae = 1.50\n",
      "Fold = 5, mae = 1.61\n",
      "------------------------------\n",
      "Average Error: 1.5381029129406563\n",
      "------------------------------\n"
     ]
    }
   ],
   "source": [
    "# 다중회귀  교차검증\n",
    "mae_kfold(lr)"
   ]
  },
  {
   "cell_type": "markdown",
   "id": "3e747078",
   "metadata": {},
   "source": [
    "## ridge"
   ]
  },
  {
   "cell_type": "code",
   "execution_count": 85,
   "id": "6e633b62",
   "metadata": {},
   "outputs": [
    {
     "name": "stdout",
     "output_type": "stream",
     "text": [
      "100 : 0.173 0.064 mae: 1.784\n",
      "10 : 0.33 0.164 mae: 1.651\n",
      "1 : 0.408 0.342 mae: 1.426\n",
      "0.1 : 0.419 0.399 mae: 1.332\n",
      "0.01 : 0.419 0.405 mae: 1.321\n",
      "0.001 : 0.419 0.405 mae: 1.319\n",
      "0.0001 : 0.419 0.405 mae: 1.319\n"
     ]
    }
   ],
   "source": [
    "# ridge\n",
    "alphas_finder(Ridge)"
   ]
  },
  {
   "cell_type": "code",
   "execution_count": 86,
   "id": "076326ad",
   "metadata": {},
   "outputs": [
    {
     "name": "stdout",
     "output_type": "stream",
     "text": [
      "Fold = 1, mae = 1.71\n",
      "Fold = 2, mae = 2.12\n",
      "Fold = 3, mae = 1.46\n",
      "Fold = 4, mae = 1.49\n",
      "Fold = 5, mae = 1.92\n",
      "------------------------------\n",
      "Average Error: 1.739480529388691\n",
      "------------------------------\n",
      "Fold = 1, mae = 1.58\n",
      "Fold = 2, mae = 2.02\n",
      "Fold = 3, mae = 1.30\n",
      "Fold = 4, mae = 1.44\n",
      "Fold = 5, mae = 1.67\n",
      "------------------------------\n",
      "Average Error: 1.600776021283713\n",
      "------------------------------\n",
      "Fold = 1, mae = 1.32\n",
      "Fold = 2, mae = 1.80\n",
      "Fold = 3, mae = 1.51\n",
      "Fold = 4, mae = 1.44\n",
      "Fold = 5, mae = 1.60\n",
      "------------------------------\n",
      "Average Error: 1.533595822122185\n",
      "------------------------------\n",
      "Fold = 1, mae = 1.27\n",
      "Fold = 2, mae = 1.70\n",
      "Fold = 3, mae = 1.61\n",
      "Fold = 4, mae = 1.50\n",
      "Fold = 5, mae = 1.61\n",
      "------------------------------\n",
      "Average Error: 1.5372350830516255\n",
      "------------------------------\n",
      "Fold = 1, mae = 1.26\n",
      "Fold = 2, mae = 1.69\n",
      "Fold = 3, mae = 1.62\n",
      "Fold = 4, mae = 1.50\n",
      "Fold = 5, mae = 1.61\n",
      "------------------------------\n",
      "Average Error: 1.5380058221861184\n",
      "------------------------------\n",
      "Fold = 1, mae = 1.26\n",
      "Fold = 2, mae = 1.69\n",
      "Fold = 3, mae = 1.62\n",
      "Fold = 4, mae = 1.50\n",
      "Fold = 5, mae = 1.61\n",
      "------------------------------\n",
      "Average Error: 1.5380932235760052\n",
      "------------------------------\n",
      "Fold = 1, mae = 1.26\n",
      "Fold = 2, mae = 1.69\n",
      "Fold = 3, mae = 1.62\n",
      "Fold = 4, mae = 1.50\n",
      "Fold = 5, mae = 1.61\n",
      "------------------------------\n",
      "Average Error: 1.5381019442038064\n",
      "------------------------------\n"
     ]
    }
   ],
   "source": [
    "\n",
    "for i in [100, 10, 1, 0.1, 0.01, 0.001, 0.0001]:\n",
    "    ridge = Ridge(alpha=i)\n",
    "    mae_kfold(ridge)"
   ]
  },
  {
   "cell_type": "markdown",
   "id": "229dbbc3",
   "metadata": {},
   "source": [
    "## Lasso"
   ]
  },
  {
   "cell_type": "code",
   "execution_count": 87,
   "id": "00672d13",
   "metadata": {},
   "outputs": [
    {
     "name": "stdout",
     "output_type": "stream",
     "text": [
      "100 : 0.0 -0.011 mae: 1.845\n",
      "10 : 0.0 -0.011 mae: 1.845\n",
      "1 : 0.0 -0.011 mae: 1.845\n",
      "0.1 : 0.303 0.106 mae: 1.736\n",
      "0.01 : 0.415 0.368 mae: 1.377\n",
      "0.001 : 0.419 0.403 mae: 1.325\n",
      "0.0001 : 0.419 0.405 mae: 1.32\n"
     ]
    }
   ],
   "source": [
    "# lasso\n",
    "alphas_finder(Lasso)"
   ]
  },
  {
   "cell_type": "code",
   "execution_count": 88,
   "id": "7d866653",
   "metadata": {},
   "outputs": [
    {
     "name": "stdout",
     "output_type": "stream",
     "text": [
      "Fold = 1, mae = 1.70\n",
      "Fold = 2, mae = 2.18\n",
      "Fold = 3, mae = 1.56\n",
      "Fold = 4, mae = 1.52\n",
      "Fold = 5, mae = 2.09\n",
      "------------------------------\n",
      "Average Error: 1.810733065347351\n",
      "------------------------------\n",
      "Fold = 1, mae = 1.70\n",
      "Fold = 2, mae = 2.18\n",
      "Fold = 3, mae = 1.56\n",
      "Fold = 4, mae = 1.52\n",
      "Fold = 5, mae = 2.09\n",
      "------------------------------\n",
      "Average Error: 1.810733065347351\n",
      "------------------------------\n",
      "Fold = 1, mae = 1.70\n",
      "Fold = 2, mae = 2.18\n",
      "Fold = 3, mae = 1.56\n",
      "Fold = 4, mae = 1.52\n",
      "Fold = 5, mae = 2.09\n",
      "------------------------------\n",
      "Average Error: 1.810733065347351\n",
      "------------------------------\n",
      "Fold = 1, mae = 1.66\n",
      "Fold = 2, mae = 2.08\n",
      "Fold = 3, mae = 1.38\n",
      "Fold = 4, mae = 1.50\n",
      "Fold = 5, mae = 1.77\n",
      "------------------------------\n",
      "Average Error: 1.676816810094817\n",
      "------------------------------\n",
      "Fold = 1, mae = 1.30\n",
      "Fold = 2, mae = 1.77\n",
      "Fold = 3, mae = 1.56\n",
      "Fold = 4, mae = 1.49\n",
      "Fold = 5, mae = 1.62\n",
      "------------------------------\n",
      "Average Error: 1.5476297094130964\n",
      "------------------------------\n",
      "Fold = 1, mae = 1.27\n",
      "Fold = 2, mae = 1.70\n",
      "Fold = 3, mae = 1.62\n",
      "Fold = 4, mae = 1.50\n",
      "Fold = 5, mae = 1.61\n",
      "------------------------------\n",
      "Average Error: 1.5389827875791962\n",
      "------------------------------\n",
      "Fold = 1, mae = 1.26\n",
      "Fold = 2, mae = 1.69\n",
      "Fold = 3, mae = 1.62\n",
      "Fold = 4, mae = 1.50\n",
      "Fold = 5, mae = 1.61\n",
      "------------------------------\n",
      "Average Error: 1.5381867630826125\n",
      "------------------------------\n"
     ]
    }
   ],
   "source": [
    "\n",
    "for i in [100, 10, 1, 0.1, 0.01, 0.001, 0.0001]:\n",
    "    lasso = Lasso(alpha=i)\n",
    "    mae_kfold(lasso)"
   ]
  },
  {
   "cell_type": "markdown",
   "id": "699c642b",
   "metadata": {},
   "source": [
    "## ElasticNet"
   ]
  },
  {
   "cell_type": "code",
   "execution_count": 89,
   "id": "a214258a",
   "metadata": {},
   "outputs": [
    {
     "name": "stdout",
     "output_type": "stream",
     "text": [
      "100 : 0.0 -0.011 mae: 1.845\n",
      "10 : 0.0 -0.011 mae: 1.845\n",
      "1 : 0.033 -0.02 mae: 1.852\n",
      "0.1 : 0.322 0.134 mae: 1.696\n",
      "0.01 : 0.412 0.357 mae: 1.398\n",
      "0.001 : 0.419 0.401 mae: 1.328\n",
      "0.0001 : 0.419 0.405 mae: 1.32\n"
     ]
    }
   ],
   "source": [
    "alphas_finder(ElasticNet)"
   ]
  },
  {
   "cell_type": "code",
   "execution_count": 90,
   "id": "1f594038",
   "metadata": {},
   "outputs": [
    {
     "name": "stdout",
     "output_type": "stream",
     "text": [
      "Fold = 1, mae = 1.70\n",
      "Fold = 2, mae = 2.18\n",
      "Fold = 3, mae = 1.56\n",
      "Fold = 4, mae = 1.52\n",
      "Fold = 5, mae = 2.09\n",
      "------------------------------\n",
      "Average Error: 1.810733065347351\n",
      "------------------------------\n",
      "Fold = 1, mae = 1.70\n",
      "Fold = 2, mae = 2.18\n",
      "Fold = 3, mae = 1.56\n",
      "Fold = 4, mae = 1.52\n",
      "Fold = 5, mae = 2.09\n",
      "------------------------------\n",
      "Average Error: 1.810733065347351\n",
      "------------------------------\n",
      "Fold = 1, mae = 1.72\n",
      "Fold = 2, mae = 2.18\n",
      "Fold = 3, mae = 1.56\n",
      "Fold = 4, mae = 1.52\n",
      "Fold = 5, mae = 2.09\n",
      "------------------------------\n",
      "Average Error: 1.814330542793316\n",
      "------------------------------\n",
      "Fold = 1, mae = 1.61\n",
      "Fold = 2, mae = 2.05\n",
      "Fold = 3, mae = 1.31\n",
      "Fold = 4, mae = 1.49\n",
      "Fold = 5, mae = 1.71\n",
      "------------------------------\n",
      "Average Error: 1.6339570011346658\n",
      "------------------------------\n",
      "Fold = 1, mae = 1.31\n",
      "Fold = 2, mae = 1.79\n",
      "Fold = 3, mae = 1.53\n",
      "Fold = 4, mae = 1.46\n",
      "Fold = 5, mae = 1.61\n",
      "------------------------------\n",
      "Average Error: 1.539180730429289\n",
      "------------------------------\n",
      "Fold = 1, mae = 1.27\n",
      "Fold = 2, mae = 1.70\n",
      "Fold = 3, mae = 1.61\n",
      "Fold = 4, mae = 1.50\n",
      "Fold = 5, mae = 1.61\n",
      "------------------------------\n",
      "Average Error: 1.5380982335255495\n",
      "------------------------------\n",
      "Fold = 1, mae = 1.26\n",
      "Fold = 2, mae = 1.69\n",
      "Fold = 3, mae = 1.62\n",
      "Fold = 4, mae = 1.50\n",
      "Fold = 5, mae = 1.61\n",
      "------------------------------\n",
      "Average Error: 1.5380958496412351\n",
      "------------------------------\n"
     ]
    }
   ],
   "source": [
    "\n",
    "for i in [100, 10, 1, 0.1, 0.01, 0.001, 0.0001]:\n",
    "    elastic = ElasticNet(alpha=i)\n",
    "    mae_kfold(elastic)"
   ]
  },
  {
   "cell_type": "markdown",
   "id": "24200ae9",
   "metadata": {},
   "source": [
    "## XGboost"
   ]
  },
  {
   "cell_type": "code",
   "execution_count": 91,
   "id": "8b2cdb82",
   "metadata": {},
   "outputs": [
    {
     "name": "stdout",
     "output_type": "stream",
     "text": [
      "0.9999998420461608 -0.06974470823560042 1.8067306106154981\n"
     ]
    }
   ],
   "source": [
    "#XG boost\n",
    "xgbr = XGBRegressor()\n",
    "xgbr.fit(X_train, y_train)\n",
    "print(xgbr.score(X_train, y_train), xgbr.score(X_test, y_test),mean_absolute_error(xgbr.predict(X_test), y_test))"
   ]
  },
  {
   "cell_type": "code",
   "execution_count": 92,
   "id": "b80af59b",
   "metadata": {},
   "outputs": [
    {
     "name": "stdout",
     "output_type": "stream",
     "text": [
      "Fold = 1, mae = 1.93\n",
      "Fold = 2, mae = 2.24\n",
      "Fold = 3, mae = 1.47\n",
      "Fold = 4, mae = 1.70\n",
      "Fold = 5, mae = 2.22\n",
      "------------------------------\n",
      "Average Error: 1.910550006103516\n",
      "------------------------------\n"
     ]
    }
   ],
   "source": [
    "#XG boost교차검증\n",
    "mae_kfold(xgbr)"
   ]
  },
  {
   "cell_type": "code",
   "execution_count": 93,
   "id": "9cbd7528",
   "metadata": {},
   "outputs": [
    {
     "name": "stdout",
     "output_type": "stream",
     "text": [
      "0.9999999347294102 -0.38643122056620416 1.9139029425543714\n"
     ]
    }
   ],
   "source": [
    "#XG boost 튜닝\n",
    "xgbr = XGBRegressor(n_estimators = 400, learning_rate = 1, max_depth = 3, objective=\"reg:squarederror\")\n",
    "xgbr.fit(X_train, y_train)\n",
    "print(xgbr.score(X_train, y_train), xgbr.score(X_test, y_test),mean_absolute_error(xgbr.predict(X_test), y_test))"
   ]
  },
  {
   "cell_type": "code",
   "execution_count": 94,
   "id": "95242784",
   "metadata": {},
   "outputs": [
    {
     "name": "stdout",
     "output_type": "stream",
     "text": [
      "Fold = 1, mae = 2.25\n",
      "Fold = 2, mae = 2.38\n",
      "Fold = 3, mae = 1.99\n",
      "Fold = 4, mae = 1.94\n",
      "Fold = 5, mae = 2.51\n",
      "------------------------------\n",
      "Average Error: 2.213843765258789\n",
      "------------------------------\n"
     ]
    }
   ],
   "source": [
    "#XG boost교차검증\n",
    "mae_kfold(xgbr)"
   ]
  },
  {
   "cell_type": "markdown",
   "id": "770fef44",
   "metadata": {},
   "source": [
    "## lightgbm"
   ]
  },
  {
   "cell_type": "code",
   "execution_count": 95,
   "id": "cd58493f",
   "metadata": {},
   "outputs": [
    {
     "name": "stdout",
     "output_type": "stream",
     "text": [
      "0.5736237837235472 -0.03235825924853741 1.9084920481729417\n"
     ]
    }
   ],
   "source": [
    "#lightgbm\n",
    "lgbm = LGBMRegressor()\n",
    "lgbm.fit(X_train, y_train)\n",
    "print(lgbm.score(X_train, y_train), lgbm.score(X_test, y_test),mean_absolute_error(lgbm.predict(X_test), y_test))"
   ]
  },
  {
   "cell_type": "code",
   "execution_count": 96,
   "id": "9cfd5e32",
   "metadata": {},
   "outputs": [
    {
     "name": "stdout",
     "output_type": "stream",
     "text": [
      "Fold = 1, mae = 1.96\n",
      "Fold = 2, mae = 2.53\n",
      "Fold = 3, mae = 1.57\n",
      "Fold = 4, mae = 1.62\n",
      "Fold = 5, mae = 1.79\n",
      "------------------------------\n",
      "Average Error: 1.8941198311801\n",
      "------------------------------\n"
     ]
    }
   ],
   "source": [
    "#lightgbm교차검증\n",
    "mae_kfold(lgbm)"
   ]
  },
  {
   "cell_type": "code",
   "execution_count": 97,
   "id": "d737326f",
   "metadata": {},
   "outputs": [
    {
     "name": "stdout",
     "output_type": "stream",
     "text": [
      "학습 결과 :  0.35695652334821826\n",
      "테스트 결과 :  0.2499950342809697\n",
      "테스트 결과 :  1.5066763837187105\n"
     ]
    }
   ],
   "source": [
    "#SVR\n",
    "svr = SVR(kernel=\"linear\")\n",
    "svr.fit(X_train, y_train)\n",
    "\n",
    "print(\"학습 결과 : \", svr.score(X_train, y_train))\n",
    "print(\"테스트 결과 : \", svr.score(X_test, y_test))\n",
    "print(\"테스트 결과 : \", mean_absolute_error(svr.predict(X_test), y_test))"
   ]
  },
  {
   "cell_type": "code",
   "execution_count": 98,
   "id": "6bcd71f5",
   "metadata": {},
   "outputs": [
    {
     "name": "stdout",
     "output_type": "stream",
     "text": [
      "Fold = 1, mae = 1.44\n",
      "Fold = 2, mae = 1.81\n",
      "Fold = 3, mae = 1.39\n",
      "Fold = 4, mae = 1.42\n",
      "Fold = 5, mae = 1.57\n",
      "------------------------------\n",
      "Average Error: 1.5272762127248525\n",
      "------------------------------\n"
     ]
    }
   ],
   "source": [
    "mae_kfold(svr)"
   ]
  },
  {
   "cell_type": "code",
   "execution_count": null,
   "id": "2e807448",
   "metadata": {},
   "outputs": [],
   "source": []
  },
  {
   "cell_type": "code",
   "execution_count": null,
   "id": "057de3ea",
   "metadata": {},
   "outputs": [],
   "source": []
  },
  {
   "cell_type": "code",
   "execution_count": null,
   "id": "e43d65db",
   "metadata": {},
   "outputs": [],
   "source": []
  },
  {
   "cell_type": "code",
   "execution_count": null,
   "id": "c1f8a032",
   "metadata": {},
   "outputs": [],
   "source": []
  }
 ],
 "metadata": {
  "kernelspec": {
   "display_name": "Python 3",
   "language": "python",
   "name": "python3"
  },
  "language_info": {
   "codemirror_mode": {
    "name": "ipython",
    "version": 3
   },
   "file_extension": ".py",
   "mimetype": "text/x-python",
   "name": "python",
   "nbconvert_exporter": "python",
   "pygments_lexer": "ipython3",
   "version": "3.7.10"
  }
 },
 "nbformat": 4,
 "nbformat_minor": 5
}
