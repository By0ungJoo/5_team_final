{
 "cells": [
  {
   "cell_type": "markdown",
   "id": "2a955dc3",
   "metadata": {},
   "source": [
    "# 결과\n",
    "\n",
    "+ best1(mae: 1.507) non-scaling ridge(alpha = 10)\n",
    "+ best2(mae : 1.508) non-scaling elasticnet(alpha = 0.01) -> 변수추가\n",
    "+ best3(mae:   1.5481) : non-scaling elasticnet(alpha = 1)이 가장 결과가 좋았다\n",
    "+ R에서 뽑은 변수들만 출력 :10개\n",
    "\n",
    "[\"crm_clue_고소\",\"crm_clue_현행범\",\"vic_sx_2\",\"vic_age_60세초과\",\"cctv_개수\",\"배치인원_수\",\"비상벨_개수\",\"일인가구수\",\"기초수급_19세이하\",\"외국인수\", \"score_절폭\"]"
   ]
  },
  {
   "cell_type": "code",
   "execution_count": 1,
   "id": "4173d3e0",
   "metadata": {},
   "outputs": [],
   "source": [
    "import pandas as pd\n",
    "\n",
    "#그래프에 한글 표현하기\n",
    "import  matplotlib.pyplot as plt\n",
    "import  matplotlib.font_manager as fm\n",
    "import  matplotlib.font_manager as fm\n",
    "font_name = fm.FontProperties(fname = \"C:/Windows/Fonts/malgun.ttf\").get_name()\n",
    "plt.rc(\"font\", family = font_name)\n",
    "\n",
    "\n",
    "\n",
    "#마이너스 표시하기\n",
    "import  matplotlib as mlp\n",
    "mlp.rcParams[\"axes.unicode_minus\"]  = False\n",
    "\n",
    "import numpy as np\n",
    "import pandas  as pd\n",
    "import seaborn as sns\n",
    "##회귀분석\n",
    "import statsmodels.api as sm\n",
    "# 정규화\n",
    "from sklearn.preprocessing import MinMaxScaler\n",
    "from sklearn.preprocessing import StandardScaler\n",
    "from sklearn.preprocessing import RobustScaler\n",
    "from sklearn.feature_selection import  RFE\n",
    "from lightgbm import LGBMClassifier,  LGBMRegressor\n",
    "from lightgbm import plot_importance, plot_metric, plot_tree\n",
    "from sklearn.linear_model import Ridge\n",
    "from sklearn.linear_model import Lasso\n",
    "from sklearn.svm import SVR, SVC\n",
    "import multiprocessing \n",
    "from sklearn.pipeline import make_pipeline, Pipeline\n",
    "from sklearn.manifold import TSNE\n",
    "from sklearn.model_selection import train_test_split\n",
    "from sklearn.linear_model import  LinearRegression\n",
    "from scipy import stats\n",
    "#사용법이 파이선과 다른 기존xgb를  파이선에 맞게 만들어 놓은 것\n",
    "from  xgboost import XGBClassifier, XGBRegressor\n",
    "from sklearn.linear_model import ElasticNet\n",
    "from sklearn.preprocessing import RobustScaler\n",
    "\n",
    "#변수영향도 그래프, 트리그래프 더 쉽게 그리게 해줌\n",
    "from xgboost import plot_importance, plot_tree\n",
    "\n",
    "from sklearn.metrics import mean_absolute_error, mean_squared_error"
   ]
  },
  {
   "cell_type": "code",
   "execution_count": 2,
   "id": "c50a9146",
   "metadata": {
    "scrolled": true
   },
   "outputs": [],
   "source": [
    "df = pd.read_csv(\"../완성본_안전도_회귀분석/1_절도폭력안전도.csv\")"
   ]
  },
  {
   "cell_type": "code",
   "execution_count": 3,
   "id": "38b06c68",
   "metadata": {},
   "outputs": [],
   "source": [
    "# #R에서 뽑은 변수들만 출력 8개\n",
    "# df = df[[\"crm_wthr_폭설\",\"crm_clue_고소\",\"crm_clue_현행범\",\"vic_age_60세초과\"\n",
    "#     ,\"배치인원_수\",\"비상벨_개수\",\"기초수급_19세이하\",\"외국인수\",\"score_절폭\"]]"
   ]
  },
  {
   "cell_type": "code",
   "execution_count": 4,
   "id": "e202bf97",
   "metadata": {},
   "outputs": [],
   "source": [
    "#R에서 뽑은 변수들만 출력 :10개\n",
    "# 추가 : crm_wthr_바람 , crm_clue_피해자신고\n",
    "df = df[[\"crm_wthr_바람\",\"crm_clue_피해자신고\",\"crm_clue_고소\",\"crm_clue_현행범\",\"vic_sx_2\",\"vic_age_60세초과\",\"cctv_개수\",\n",
    "         \"배치인원_수\",\"비상벨_개수\",\n",
    "        \"일인가구수\",\"기초수급_19세이하\",\"외국인수\", \"score_절폭\"]]"
   ]
  },
  {
   "cell_type": "code",
   "execution_count": 5,
   "id": "d5063290",
   "metadata": {},
   "outputs": [
    {
     "data": {
      "text/html": [
       "<div>\n",
       "<style scoped>\n",
       "    .dataframe tbody tr th:only-of-type {\n",
       "        vertical-align: middle;\n",
       "    }\n",
       "\n",
       "    .dataframe tbody tr th {\n",
       "        vertical-align: top;\n",
       "    }\n",
       "\n",
       "    .dataframe thead th {\n",
       "        text-align: right;\n",
       "    }\n",
       "</style>\n",
       "<table border=\"1\" class=\"dataframe\">\n",
       "  <thead>\n",
       "    <tr style=\"text-align: right;\">\n",
       "      <th></th>\n",
       "      <th>crm_wthr_바람</th>\n",
       "      <th>crm_clue_피해자신고</th>\n",
       "      <th>crm_clue_고소</th>\n",
       "      <th>crm_clue_현행범</th>\n",
       "      <th>vic_sx_2</th>\n",
       "      <th>vic_age_60세초과</th>\n",
       "      <th>cctv_개수</th>\n",
       "      <th>배치인원_수</th>\n",
       "      <th>비상벨_개수</th>\n",
       "      <th>일인가구수</th>\n",
       "      <th>기초수급_19세이하</th>\n",
       "      <th>외국인수</th>\n",
       "      <th>score_절폭</th>\n",
       "    </tr>\n",
       "  </thead>\n",
       "  <tbody>\n",
       "    <tr>\n",
       "      <th>0</th>\n",
       "      <td>1.0</td>\n",
       "      <td>4224.0</td>\n",
       "      <td>148.0</td>\n",
       "      <td>774.0</td>\n",
       "      <td>1912.0</td>\n",
       "      <td>318.0</td>\n",
       "      <td>4719</td>\n",
       "      <td>395</td>\n",
       "      <td>5.0</td>\n",
       "      <td>52811.0</td>\n",
       "      <td>39101</td>\n",
       "      <td>15295</td>\n",
       "      <td>78.30</td>\n",
       "    </tr>\n",
       "    <tr>\n",
       "      <th>1</th>\n",
       "      <td>0.0</td>\n",
       "      <td>2729.0</td>\n",
       "      <td>91.0</td>\n",
       "      <td>409.0</td>\n",
       "      <td>1063.0</td>\n",
       "      <td>297.0</td>\n",
       "      <td>2919</td>\n",
       "      <td>258</td>\n",
       "      <td>1.0</td>\n",
       "      <td>28612.0</td>\n",
       "      <td>39101</td>\n",
       "      <td>24040</td>\n",
       "      <td>70.10</td>\n",
       "    </tr>\n",
       "    <tr>\n",
       "      <th>2</th>\n",
       "      <td>0.0</td>\n",
       "      <td>3048.0</td>\n",
       "      <td>143.0</td>\n",
       "      <td>850.0</td>\n",
       "      <td>1413.0</td>\n",
       "      <td>484.0</td>\n",
       "      <td>4447</td>\n",
       "      <td>333</td>\n",
       "      <td>8.0</td>\n",
       "      <td>41116.0</td>\n",
       "      <td>39101</td>\n",
       "      <td>18967</td>\n",
       "      <td>73.40</td>\n",
       "    </tr>\n",
       "    <tr>\n",
       "      <th>3</th>\n",
       "      <td>1.0</td>\n",
       "      <td>1431.0</td>\n",
       "      <td>111.0</td>\n",
       "      <td>170.0</td>\n",
       "      <td>658.0</td>\n",
       "      <td>243.0</td>\n",
       "      <td>1218</td>\n",
       "      <td>185</td>\n",
       "      <td>11.0</td>\n",
       "      <td>20165.0</td>\n",
       "      <td>54889</td>\n",
       "      <td>4184</td>\n",
       "      <td>73.15</td>\n",
       "    </tr>\n",
       "    <tr>\n",
       "      <th>4</th>\n",
       "      <td>0.0</td>\n",
       "      <td>1047.0</td>\n",
       "      <td>73.0</td>\n",
       "      <td>72.0</td>\n",
       "      <td>446.0</td>\n",
       "      <td>218.0</td>\n",
       "      <td>913</td>\n",
       "      <td>142</td>\n",
       "      <td>12.0</td>\n",
       "      <td>21519.0</td>\n",
       "      <td>54889</td>\n",
       "      <td>3268</td>\n",
       "      <td>77.85</td>\n",
       "    </tr>\n",
       "    <tr>\n",
       "      <th>...</th>\n",
       "      <td>...</td>\n",
       "      <td>...</td>\n",
       "      <td>...</td>\n",
       "      <td>...</td>\n",
       "      <td>...</td>\n",
       "      <td>...</td>\n",
       "      <td>...</td>\n",
       "      <td>...</td>\n",
       "      <td>...</td>\n",
       "      <td>...</td>\n",
       "      <td>...</td>\n",
       "      <td>...</td>\n",
       "      <td>...</td>\n",
       "    </tr>\n",
       "    <tr>\n",
       "      <th>118</th>\n",
       "      <td>0.0</td>\n",
       "      <td>914.0</td>\n",
       "      <td>94.0</td>\n",
       "      <td>277.0</td>\n",
       "      <td>487.0</td>\n",
       "      <td>239.0</td>\n",
       "      <td>1855</td>\n",
       "      <td>176</td>\n",
       "      <td>499.0</td>\n",
       "      <td>24317.0</td>\n",
       "      <td>31361</td>\n",
       "      <td>7111</td>\n",
       "      <td>75.80</td>\n",
       "    </tr>\n",
       "    <tr>\n",
       "      <th>119</th>\n",
       "      <td>0.0</td>\n",
       "      <td>2700.0</td>\n",
       "      <td>163.0</td>\n",
       "      <td>585.0</td>\n",
       "      <td>1402.0</td>\n",
       "      <td>555.0</td>\n",
       "      <td>4469</td>\n",
       "      <td>406</td>\n",
       "      <td>1778.0</td>\n",
       "      <td>52196.0</td>\n",
       "      <td>46485</td>\n",
       "      <td>9785</td>\n",
       "      <td>71.85</td>\n",
       "    </tr>\n",
       "    <tr>\n",
       "      <th>120</th>\n",
       "      <td>0.0</td>\n",
       "      <td>1377.0</td>\n",
       "      <td>84.0</td>\n",
       "      <td>468.0</td>\n",
       "      <td>683.0</td>\n",
       "      <td>271.0</td>\n",
       "      <td>1563</td>\n",
       "      <td>236</td>\n",
       "      <td>339.0</td>\n",
       "      <td>18597.0</td>\n",
       "      <td>6833</td>\n",
       "      <td>11496</td>\n",
       "      <td>77.40</td>\n",
       "    </tr>\n",
       "    <tr>\n",
       "      <th>121</th>\n",
       "      <td>1.0</td>\n",
       "      <td>841.0</td>\n",
       "      <td>63.0</td>\n",
       "      <td>333.0</td>\n",
       "      <td>449.0</td>\n",
       "      <td>238.0</td>\n",
       "      <td>784</td>\n",
       "      <td>213</td>\n",
       "      <td>42.0</td>\n",
       "      <td>41063.0</td>\n",
       "      <td>5756</td>\n",
       "      <td>10641</td>\n",
       "      <td>74.60</td>\n",
       "    </tr>\n",
       "    <tr>\n",
       "      <th>122</th>\n",
       "      <td>1.0</td>\n",
       "      <td>1153.0</td>\n",
       "      <td>114.0</td>\n",
       "      <td>37.0</td>\n",
       "      <td>542.0</td>\n",
       "      <td>149.0</td>\n",
       "      <td>2527</td>\n",
       "      <td>178</td>\n",
       "      <td>39.0</td>\n",
       "      <td>39078.0</td>\n",
       "      <td>16060</td>\n",
       "      <td>9814</td>\n",
       "      <td>80.05</td>\n",
       "    </tr>\n",
       "  </tbody>\n",
       "</table>\n",
       "<p>123 rows × 13 columns</p>\n",
       "</div>"
      ],
      "text/plain": [
       "     crm_wthr_바람  crm_clue_피해자신고  crm_clue_고소  crm_clue_현행범  vic_sx_2  \\\n",
       "0            1.0          4224.0        148.0         774.0    1912.0   \n",
       "1            0.0          2729.0         91.0         409.0    1063.0   \n",
       "2            0.0          3048.0        143.0         850.0    1413.0   \n",
       "3            1.0          1431.0        111.0         170.0     658.0   \n",
       "4            0.0          1047.0         73.0          72.0     446.0   \n",
       "..           ...             ...          ...           ...       ...   \n",
       "118          0.0           914.0         94.0         277.0     487.0   \n",
       "119          0.0          2700.0        163.0         585.0    1402.0   \n",
       "120          0.0          1377.0         84.0         468.0     683.0   \n",
       "121          1.0           841.0         63.0         333.0     449.0   \n",
       "122          1.0          1153.0        114.0          37.0     542.0   \n",
       "\n",
       "     vic_age_60세초과  cctv_개수  배치인원_수  비상벨_개수    일인가구수  기초수급_19세이하   외국인수  \\\n",
       "0            318.0     4719     395     5.0  52811.0       39101  15295   \n",
       "1            297.0     2919     258     1.0  28612.0       39101  24040   \n",
       "2            484.0     4447     333     8.0  41116.0       39101  18967   \n",
       "3            243.0     1218     185    11.0  20165.0       54889   4184   \n",
       "4            218.0      913     142    12.0  21519.0       54889   3268   \n",
       "..             ...      ...     ...     ...      ...         ...    ...   \n",
       "118          239.0     1855     176   499.0  24317.0       31361   7111   \n",
       "119          555.0     4469     406  1778.0  52196.0       46485   9785   \n",
       "120          271.0     1563     236   339.0  18597.0        6833  11496   \n",
       "121          238.0      784     213    42.0  41063.0        5756  10641   \n",
       "122          149.0     2527     178    39.0  39078.0       16060   9814   \n",
       "\n",
       "     score_절폭  \n",
       "0       78.30  \n",
       "1       70.10  \n",
       "2       73.40  \n",
       "3       73.15  \n",
       "4       77.85  \n",
       "..        ...  \n",
       "118     75.80  \n",
       "119     71.85  \n",
       "120     77.40  \n",
       "121     74.60  \n",
       "122     80.05  \n",
       "\n",
       "[123 rows x 13 columns]"
      ]
     },
     "execution_count": 5,
     "metadata": {},
     "output_type": "execute_result"
    }
   ],
   "source": [
    "df"
   ]
  },
  {
   "cell_type": "code",
   "execution_count": 5,
   "id": "df64ae64",
   "metadata": {},
   "outputs": [
    {
     "data": {
      "text/plain": [
       "<AxesSubplot:>"
      ]
     },
     "execution_count": 5,
     "metadata": {},
     "output_type": "execute_result"
    },
    {
     "data": {
      "image/png": "[encoded data removed]",
      "text/plain": [
       "<Figure size 864x504 with 1 Axes>"
      ]
     },
     "metadata": {
      "needs_background": "light"
     },
     "output_type": "display_data"
    }
   ],
   "source": [
    "#이상치 확인\n",
    "#극단값을  갖는  모습을 볼 수 있다 ->robustscale하면  좋을  듯  하다\n",
    "plt.figure(figsize = (12,7))\n",
    "sns.boxplot(data = df.iloc[:,:-1])"
   ]
  },
  {
   "cell_type": "markdown",
   "id": "eb7b5c84",
   "metadata": {},
   "source": [
    "# 설명력 보기위한 모델링"
   ]
  },
  {
   "cell_type": "code",
   "execution_count": 5,
   "id": "10d6ed64",
   "metadata": {},
   "outputs": [],
   "source": [
    "# train, test 분리\n",
    "X_train, X_test, y_train, y_test  = train_test_split(df.iloc[:,:-1], df[\"score_절폭\"],test_size = 0.3, random_state=0)"
   ]
  },
  {
   "cell_type": "markdown",
   "id": "8f2141f9",
   "metadata": {},
   "source": [
    "# ridge, lasso, elasticnet을 위한 alpha값 찾기 함수"
   ]
  },
  {
   "cell_type": "code",
   "execution_count": 6,
   "id": "da669fc8",
   "metadata": {},
   "outputs": [],
   "source": [
    "def alphas_finder(model):\n",
    "    alphas = [100, 10, 1, 0.1, 0.01, 0.001, 0.0001]\n",
    "    for alpha in alphas:\n",
    "        modeling = model(alpha=alpha)\n",
    "        modeling.fit(X_train, y_train)\n",
    "        print(alpha , \":\" ,round(modeling.score(X_train, y_train),3)\n",
    "              , round(modeling.score(X_test, y_test),3)\n",
    "              ,\"mae:\",round(mean_absolute_error(modeling.predict(X_test), y_test),3))    "
   ]
  },
  {
   "cell_type": "markdown",
   "id": "3216fd54",
   "metadata": {},
   "source": [
    "# 교차검증"
   ]
  },
  {
   "cell_type": "code",
   "execution_count": 7,
   "id": "0c67695c",
   "metadata": {},
   "outputs": [],
   "source": [
    "X = np.array(df.drop('score_절폭', 1))\n",
    "Y = np.array(df['score_절폭'])"
   ]
  },
  {
   "cell_type": "code",
   "execution_count": 8,
   "id": "1858c12a",
   "metadata": {},
   "outputs": [],
   "source": [
    "from sklearn.model_selection import KFold\n",
    "\n",
    "#kfold 설정\n",
    "n_splits = 5\n",
    "kfold = KFold(n_splits=n_splits, shuffle=True,random_state=0)\n",
    "\n",
    "#mae kfold 교차검증 함수\n",
    "def mae_kfold(model):\n",
    "    i = 1\n",
    "    total_error = 0\n",
    "    for train_index, test_index in kfold.split(X):\n",
    "        x_train_fold, x_test_fold = X[train_index], X[test_index]\n",
    "        y_train_fold, y_test_fold = Y[train_index], Y[test_index]\n",
    "        model_pred_fold = model.fit(x_train_fold, y_train_fold).predict(x_test_fold)\n",
    "        error = mean_absolute_error(model_pred_fold, y_test_fold)\n",
    "        print('Fold = {}, mae = {:.2f}'.format(i, error))\n",
    "        total_error += error\n",
    "        i+=1\n",
    "    print('---'*10)\n",
    "    print('Average Error: %s' % (total_error / n_splits))\n",
    "    print('---'*10)"
   ]
  },
  {
   "cell_type": "markdown",
   "id": "cb94a629",
   "metadata": {},
   "source": [
    "# 모델링"
   ]
  },
  {
   "cell_type": "markdown",
   "id": "a51f61bf",
   "metadata": {},
   "source": [
    "## 1. None scaling"
   ]
  },
  {
   "cell_type": "code",
   "execution_count": 11,
   "id": "87818569",
   "metadata": {},
   "outputs": [
    {
     "name": "stdout",
     "output_type": "stream",
     "text": [
      "0.653230433101919 0.6578287408749123 1.5773330851018483\n"
     ]
    }
   ],
   "source": [
    "#다중회귀\n",
    "lr = LinearRegression()\n",
    "lr.fit(X_train, y_train)\n",
    "print(lr.score(X_train, y_train), lr.score(X_test, y_test),mean_absolute_error(lr.predict(X_test), y_test))"
   ]
  },
  {
   "cell_type": "code",
   "execution_count": 12,
   "id": "eb2753ad",
   "metadata": {},
   "outputs": [
    {
     "name": "stdout",
     "output_type": "stream",
     "text": [
      "Fold = 1, mae = 1.35\n",
      "Fold = 2, mae = 1.59\n",
      "Fold = 3, mae = 1.50\n",
      "Fold = 4, mae = 1.83\n",
      "Fold = 5, mae = 1.56\n",
      "------------------------------\n",
      "Average Error: 1.5669085161780814\n",
      "------------------------------\n"
     ]
    }
   ],
   "source": [
    "# 다중회귀  교차검증\n",
    "mae_kfold(lr)"
   ]
  },
  {
   "cell_type": "markdown",
   "id": "3e747078",
   "metadata": {},
   "source": [
    "## ridge"
   ]
  },
  {
   "cell_type": "code",
   "execution_count": 13,
   "id": "6e633b62",
   "metadata": {},
   "outputs": [
    {
     "name": "stdout",
     "output_type": "stream",
     "text": [
      "100 : 0.653 0.663 mae: 1.565\n",
      "10 : 0.653 0.659 mae: 1.576\n",
      "1 : 0.653 0.658 mae: 1.577\n",
      "0.1 : 0.653 0.658 mae: 1.577\n",
      "0.01 : 0.653 0.658 mae: 1.577\n",
      "0.001 : 0.653 0.658 mae: 1.577\n",
      "0.0001 : 0.653 0.658 mae: 1.577\n"
     ]
    }
   ],
   "source": [
    "# ridge\n",
    "alphas_finder(Ridge)"
   ]
  },
  {
   "cell_type": "code",
   "execution_count": 8,
   "id": "076326ad",
   "metadata": {},
   "outputs": [
    {
     "name": "stdout",
     "output_type": "stream",
     "text": [
      "Fold = 1, mae = 1.33\n",
      "Fold = 2, mae = 1.62\n",
      "Fold = 3, mae = 1.37\n",
      "Fold = 4, mae = 1.75\n",
      "Fold = 5, mae = 1.53\n",
      "------------------------------\n",
      "Average Error: 1.521106647783995\n",
      "------------------------------\n",
      "Fold = 1, mae = 1.34\n",
      "Fold = 2, mae = 1.63\n",
      "Fold = 3, mae = 1.32\n",
      "Fold = 4, mae = 1.74\n",
      "Fold = 5, mae = 1.52\n",
      "------------------------------\n",
      "Average Error: 1.5075273238352587\n",
      "------------------------------\n",
      "Fold = 1, mae = 1.34\n",
      "Fold = 2, mae = 1.63\n",
      "Fold = 3, mae = 1.32\n",
      "Fold = 4, mae = 1.74\n",
      "Fold = 5, mae = 1.51\n",
      "------------------------------\n",
      "Average Error: 1.5080502639713802\n",
      "------------------------------\n",
      "Fold = 1, mae = 1.34\n",
      "Fold = 2, mae = 1.63\n",
      "Fold = 3, mae = 1.32\n",
      "Fold = 4, mae = 1.74\n",
      "Fold = 5, mae = 1.51\n",
      "------------------------------\n",
      "Average Error: 1.508107044538015\n",
      "------------------------------\n",
      "Fold = 1, mae = 1.34\n",
      "Fold = 2, mae = 1.63\n",
      "Fold = 3, mae = 1.32\n",
      "Fold = 4, mae = 1.74\n",
      "Fold = 5, mae = 1.51\n",
      "------------------------------\n",
      "Average Error: 1.508112771769579\n",
      "------------------------------\n",
      "Fold = 1, mae = 1.34\n",
      "Fold = 2, mae = 1.63\n",
      "Fold = 3, mae = 1.32\n",
      "Fold = 4, mae = 1.74\n",
      "Fold = 5, mae = 1.51\n",
      "------------------------------\n",
      "Average Error: 1.5081133449892394\n",
      "------------------------------\n",
      "Fold = 1, mae = 1.34\n",
      "Fold = 2, mae = 1.63\n",
      "Fold = 3, mae = 1.32\n",
      "Fold = 4, mae = 1.74\n",
      "Fold = 5, mae = 1.51\n",
      "------------------------------\n",
      "Average Error: 1.5081134023161742\n",
      "------------------------------\n"
     ]
    }
   ],
   "source": [
    "\n",
    "for i in [100, 10, 1, 0.1, 0.01, 0.001, 0.0001]:\n",
    "    ridge = Ridge(alpha=i)\n",
    "    mae_kfold(ridge)"
   ]
  },
  {
   "cell_type": "code",
   "execution_count": 9,
   "id": "70e0bc36",
   "metadata": {},
   "outputs": [
    {
     "data": {
      "text/plain": [
       "Ridge(alpha=10)"
      ]
     },
     "execution_count": 9,
     "metadata": {},
     "output_type": "execute_result"
    }
   ],
   "source": [
    "ridge = Ridge(alpha=10)\n",
    "ridge.fit(X_train, y_train)"
   ]
  },
  {
   "cell_type": "code",
   "execution_count": 22,
   "id": "18ece260",
   "metadata": {},
   "outputs": [],
   "source": [
    "def plot_coef(columns, coef):\n",
    "    coef_df = pd.DataFrame(list(zip(columns, coef)))\n",
    "    coef_df.columns=['feature', 'coef']\n",
    "    coef_df = coef_df.sort_values('coef').reset_index(drop=True)\n",
    "    \n",
    "    fig, ax = plt.subplots(figsize=(7, 5))\n",
    "    ax.barh(np.arange(len(coef_df)), coef_df['coef'], color = \"orange\", alpha = 0.8)\n",
    "    idx = np.arange(len(coef_df))\n",
    "    ax.set_yticks(idx)\n",
    "    ax.set_yticklabels(coef_df['feature'])\n",
    "    fig.tight_layout()\n",
    "    \n",
    "    #plt.show()\n",
    "    "
   ]
  },
  {
   "cell_type": "code",
   "execution_count": 23,
   "id": "8c812c3d",
   "metadata": {},
   "outputs": [
    {
     "data": {
      "image/png": "[encoded data removed]",
      "text/plain": [
       "<Figure size 504x360 with 1 Axes>"
      ]
     },
     "metadata": {
      "needs_background": "light"
     },
     "output_type": "display_data"
    }
   ],
   "source": [
    "plot_coef(X_train.columns  , ridge.coef_)\n",
    "plt.savefig('../이미지/변수영향도_절도폭력안전도.png', dpi=200,bbox_inches='tight')"
   ]
  },
  {
   "cell_type": "code",
   "execution_count": 18,
   "id": "cc990c2b",
   "metadata": {},
   "outputs": [
    {
     "data": {
      "text/plain": [
       "<BarContainer object of 12 artists>"
      ]
     },
     "execution_count": 18,
     "metadata": {},
     "output_type": "execute_result"
    },
    {
     "data": {
      "image/png": "[encoded data removed]",
      "text/plain": [
       "<Figure size 432x288 with 1 Axes>"
      ]
     },
     "metadata": {
      "needs_background": "light"
     },
     "output_type": "display_data"
    }
   ],
   "source": [
    "x = X_train.columns\n",
    "y =  ridge.coef_\n",
    "plt.barh(x , y )"
   ]
  },
  {
   "cell_type": "markdown",
   "id": "229dbbc3",
   "metadata": {},
   "source": [
    "## Lasso"
   ]
  },
  {
   "cell_type": "code",
   "execution_count": 15,
   "id": "00672d13",
   "metadata": {},
   "outputs": [
    {
     "name": "stdout",
     "output_type": "stream",
     "text": [
      "100 : 0.381 0.477 mae: 2.088\n",
      "10 : 0.627 0.652 mae: 1.615\n",
      "1 : 0.648 0.674 mae: 1.549\n",
      "0.1 : 0.653 0.663 mae: 1.566\n",
      "0.01 : 0.653 0.658 mae: 1.576\n",
      "0.001 : 0.653 0.658 mae: 1.577\n",
      "0.0001 : 0.653 0.658 mae: 1.577\n"
     ]
    }
   ],
   "source": [
    "# lasso\n",
    "alphas_finder(Lasso)"
   ]
  },
  {
   "cell_type": "code",
   "execution_count": 16,
   "id": "7d866653",
   "metadata": {},
   "outputs": [
    {
     "name": "stdout",
     "output_type": "stream",
     "text": [
      "Fold = 1, mae = 1.94\n",
      "Fold = 2, mae = 2.29\n",
      "Fold = 3, mae = 1.67\n",
      "Fold = 4, mae = 2.46\n",
      "Fold = 5, mae = 1.97\n",
      "------------------------------\n",
      "Average Error: 2.0680123963656483\n",
      "------------------------------\n",
      "Fold = 1, mae = 1.47\n",
      "Fold = 2, mae = 1.67\n",
      "Fold = 3, mae = 1.43\n",
      "Fold = 4, mae = 1.89\n",
      "Fold = 5, mae = 1.64\n",
      "------------------------------\n",
      "Average Error: 1.6209993753697742\n",
      "------------------------------\n",
      "Fold = 1, mae = 1.33\n",
      "Fold = 2, mae = 1.60\n",
      "Fold = 3, mae = 1.48\n",
      "Fold = 4, mae = 1.84\n",
      "Fold = 5, mae = 1.55\n",
      "------------------------------\n",
      "Average Error: 1.5626103838589716\n",
      "------------------------------\n",
      "Fold = 1, mae = 1.34\n",
      "Fold = 2, mae = 1.59\n",
      "Fold = 3, mae = 1.49\n",
      "Fold = 4, mae = 1.84\n",
      "Fold = 5, mae = 1.56\n",
      "------------------------------\n",
      "Average Error: 1.5641902155628968\n",
      "------------------------------\n",
      "Fold = 1, mae = 1.35\n",
      "Fold = 2, mae = 1.59\n",
      "Fold = 3, mae = 1.50\n",
      "Fold = 4, mae = 1.83\n",
      "Fold = 5, mae = 1.56\n",
      "------------------------------\n",
      "Average Error: 1.5663002422247876\n",
      "------------------------------\n",
      "Fold = 1, mae = 1.35\n",
      "Fold = 2, mae = 1.59\n",
      "Fold = 3, mae = 1.50\n",
      "Fold = 4, mae = 1.83\n",
      "Fold = 5, mae = 1.56\n",
      "------------------------------\n",
      "Average Error: 1.5668416417259914\n",
      "------------------------------\n",
      "Fold = 1, mae = 1.35\n",
      "Fold = 2, mae = 1.59\n",
      "Fold = 3, mae = 1.50\n",
      "Fold = 4, mae = 1.83\n",
      "Fold = 5, mae = 1.56\n",
      "------------------------------\n",
      "Average Error: 1.5669018287086207\n",
      "------------------------------\n"
     ]
    }
   ],
   "source": [
    "for i in [100, 10, 1, 0.1, 0.01, 0.001, 0.0001]:\n",
    "    lasso = Lasso(alpha=i)\n",
    "    mae_kfold(lasso)"
   ]
  },
  {
   "cell_type": "markdown",
   "id": "699c642b",
   "metadata": {},
   "source": [
    "## ElasticNet"
   ]
  },
  {
   "cell_type": "code",
   "execution_count": 17,
   "id": "a214258a",
   "metadata": {},
   "outputs": [
    {
     "name": "stdout",
     "output_type": "stream",
     "text": [
      "100 : 0.416 0.496 mae: 1.999\n",
      "10 : 0.643 0.666 mae: 1.574\n",
      "1 : 0.648 0.674 mae: 1.546\n",
      "0.1 : 0.653 0.661 mae: 1.571\n",
      "0.01 : 0.653 0.658 mae: 1.577\n",
      "0.001 : 0.653 0.658 mae: 1.577\n",
      "0.0001 : 0.653 0.658 mae: 1.577\n"
     ]
    }
   ],
   "source": [
    "alphas_finder(ElasticNet)"
   ]
  },
  {
   "cell_type": "code",
   "execution_count": 18,
   "id": "1f594038",
   "metadata": {},
   "outputs": [
    {
     "name": "stdout",
     "output_type": "stream",
     "text": [
      "Fold = 1, mae = 1.89\n",
      "Fold = 2, mae = 2.12\n",
      "Fold = 3, mae = 1.84\n",
      "Fold = 4, mae = 2.39\n",
      "Fold = 5, mae = 1.94\n",
      "------------------------------\n",
      "Average Error: 2.037951883875928\n",
      "------------------------------\n",
      "Fold = 1, mae = 1.39\n",
      "Fold = 2, mae = 1.62\n",
      "Fold = 3, mae = 1.46\n",
      "Fold = 4, mae = 1.85\n",
      "Fold = 5, mae = 1.58\n",
      "------------------------------\n",
      "Average Error: 1.577604622907386\n",
      "------------------------------\n",
      "Fold = 1, mae = 1.33\n",
      "Fold = 2, mae = 1.60\n",
      "Fold = 3, mae = 1.49\n",
      "Fold = 4, mae = 1.84\n",
      "Fold = 5, mae = 1.55\n",
      "------------------------------\n",
      "Average Error: 1.5619734724833922\n",
      "------------------------------\n",
      "Fold = 1, mae = 1.34\n",
      "Fold = 2, mae = 1.59\n",
      "Fold = 3, mae = 1.50\n",
      "Fold = 4, mae = 1.84\n",
      "Fold = 5, mae = 1.56\n",
      "------------------------------\n",
      "Average Error: 1.5651736218967947\n",
      "------------------------------\n",
      "Fold = 1, mae = 1.35\n",
      "Fold = 2, mae = 1.59\n",
      "Fold = 3, mae = 1.50\n",
      "Fold = 4, mae = 1.83\n",
      "Fold = 5, mae = 1.56\n",
      "------------------------------\n",
      "Average Error: 1.5665831833935875\n",
      "------------------------------\n",
      "Fold = 1, mae = 1.35\n",
      "Fold = 2, mae = 1.59\n",
      "Fold = 3, mae = 1.50\n",
      "Fold = 4, mae = 1.83\n",
      "Fold = 5, mae = 1.56\n",
      "------------------------------\n",
      "Average Error: 1.5668731767999797\n",
      "------------------------------\n",
      "Fold = 1, mae = 1.35\n",
      "Fold = 2, mae = 1.59\n",
      "Fold = 3, mae = 1.50\n",
      "Fold = 4, mae = 1.83\n",
      "Fold = 5, mae = 1.56\n",
      "------------------------------\n",
      "Average Error: 1.5669049812076108\n",
      "------------------------------\n"
     ]
    },
    {
     "name": "stderr",
     "output_type": "stream",
     "text": [
      "C:\\Users\\user\\anaconda3\\lib\\site-packages\\sklearn\\linear_model\\_coordinate_descent.py:529: ConvergenceWarning: Objective did not converge. You might want to increase the number of iterations. Duality gap: 0.11400632151605805, tolerance: 0.10729462500000009\n",
      "  model = cd_fast.enet_coordinate_descent(\n"
     ]
    }
   ],
   "source": [
    "#best : 1.5481\n",
    "for i in [100, 10, 1, 0.1, 0.01, 0.001, 0.0001]:\n",
    "    elastic = ElasticNet(alpha=i)\n",
    "    mae_kfold(elastic)"
   ]
  },
  {
   "cell_type": "code",
   "execution_count": 22,
   "id": "e14e97ec",
   "metadata": {},
   "outputs": [
    {
     "data": {
      "text/html": [
       "<div>\n",
       "<style scoped>\n",
       "    .dataframe tbody tr th:only-of-type {\n",
       "        vertical-align: middle;\n",
       "    }\n",
       "\n",
       "    .dataframe tbody tr th {\n",
       "        vertical-align: top;\n",
       "    }\n",
       "\n",
       "    .dataframe thead th {\n",
       "        text-align: right;\n",
       "    }\n",
       "</style>\n",
       "<table border=\"1\" class=\"dataframe\">\n",
       "  <thead>\n",
       "    <tr style=\"text-align: right;\">\n",
       "      <th></th>\n",
       "      <th>VIF Factor</th>\n",
       "      <th>features</th>\n",
       "    </tr>\n",
       "  </thead>\n",
       "  <tbody>\n",
       "    <tr>\n",
       "      <th>0</th>\n",
       "      <td>1.7</td>\n",
       "      <td>crm_wthr_바람</td>\n",
       "    </tr>\n",
       "    <tr>\n",
       "      <th>1</th>\n",
       "      <td>273.5</td>\n",
       "      <td>crm_clue_피해자신고</td>\n",
       "    </tr>\n",
       "    <tr>\n",
       "      <th>2</th>\n",
       "      <td>11.9</td>\n",
       "      <td>crm_clue_고소</td>\n",
       "    </tr>\n",
       "    <tr>\n",
       "      <th>3</th>\n",
       "      <td>25.6</td>\n",
       "      <td>crm_clue_현행범</td>\n",
       "    </tr>\n",
       "    <tr>\n",
       "      <th>4</th>\n",
       "      <td>393.0</td>\n",
       "      <td>vic_sx_2</td>\n",
       "    </tr>\n",
       "    <tr>\n",
       "      <th>5</th>\n",
       "      <td>27.0</td>\n",
       "      <td>vic_age_60세초과</td>\n",
       "    </tr>\n",
       "    <tr>\n",
       "      <th>6</th>\n",
       "      <td>7.4</td>\n",
       "      <td>cctv_개수</td>\n",
       "    </tr>\n",
       "    <tr>\n",
       "      <th>7</th>\n",
       "      <td>79.5</td>\n",
       "      <td>배치인원_수</td>\n",
       "    </tr>\n",
       "    <tr>\n",
       "      <th>8</th>\n",
       "      <td>3.3</td>\n",
       "      <td>비상벨_개수</td>\n",
       "    </tr>\n",
       "    <tr>\n",
       "      <th>9</th>\n",
       "      <td>22.0</td>\n",
       "      <td>일인가구수</td>\n",
       "    </tr>\n",
       "    <tr>\n",
       "      <th>10</th>\n",
       "      <td>4.0</td>\n",
       "      <td>기초수급_19세이하</td>\n",
       "    </tr>\n",
       "    <tr>\n",
       "      <th>11</th>\n",
       "      <td>7.2</td>\n",
       "      <td>외국인수</td>\n",
       "    </tr>\n",
       "  </tbody>\n",
       "</table>\n",
       "</div>"
      ],
      "text/plain": [
       "    VIF Factor        features\n",
       "0          1.7     crm_wthr_바람\n",
       "1        273.5  crm_clue_피해자신고\n",
       "2         11.9     crm_clue_고소\n",
       "3         25.6    crm_clue_현행범\n",
       "4        393.0        vic_sx_2\n",
       "5         27.0   vic_age_60세초과\n",
       "6          7.4         cctv_개수\n",
       "7         79.5          배치인원_수\n",
       "8          3.3          비상벨_개수\n",
       "9         22.0           일인가구수\n",
       "10         4.0      기초수급_19세이하\n",
       "11         7.2            외국인수"
      ]
     },
     "execution_count": 22,
     "metadata": {},
     "output_type": "execute_result"
    }
   ],
   "source": [
    "from statsmodels.stats.outliers_influence import variance_inflation_factor\n",
    "vif = pd.DataFrame()\n",
    "vif[\"VIF Factor\"] = [variance_inflation_factor(X_train.values, i) for i in range(X_train.shape[1])]\n",
    "vif[\"features\"] = X_train.columns\n",
    "vif.round(1)"
   ]
  },
  {
   "cell_type": "code",
   "execution_count": 52,
   "id": "d5829b4c",
   "metadata": {},
   "outputs": [
    {
     "data": {
      "image/png": "[encoded data removed]",
      "text/plain": [
       "<Figure size 720x360 with 1 Axes>"
      ]
     },
     "metadata": {
      "needs_background": "light"
     },
     "output_type": "display_data"
    }
   ],
   "source": [
    "plt.figure(figsize = (10,5))\n",
    "x = vif[\"features\"]\n",
    "y = vif[\"VIF Factor\"]\n",
    "plt.bar(x, y)\n",
    "plt.ylim(0,20)\n",
    "plt.xticks(rotation=90)\n",
    "plt.axhline(y=10, color='r', linewidth=3)\n",
    "plt.savefig('../이미지/다중공산성.png', dpi=200,bbox_inches='tight') \n"
   ]
  },
  {
   "cell_type": "code",
   "execution_count": 51,
   "id": "dd26e108",
   "metadata": {},
   "outputs": [
    {
     "data": {
      "text/plain": [
       "<Figure size 432x288 with 0 Axes>"
      ]
     },
     "metadata": {},
     "output_type": "display_data"
    }
   ],
   "source": []
  },
  {
   "cell_type": "markdown",
   "id": "24200ae9",
   "metadata": {},
   "source": [
    "## XGboost"
   ]
  },
  {
   "cell_type": "code",
   "execution_count": 16,
   "id": "8b2cdb82",
   "metadata": {},
   "outputs": [
    {
     "name": "stdout",
     "output_type": "stream",
     "text": [
      "0.9999999261627908 0.6899261886089127 1.5486931053367832\n"
     ]
    }
   ],
   "source": [
    "#XG boost\n",
    "xgbr = XGBRegressor()\n",
    "xgbr.fit(X_train, y_train)\n",
    "print(xgbr.score(X_train, y_train), xgbr.score(X_test, y_test),mean_absolute_error(xgbr.predict(X_test), y_test))"
   ]
  },
  {
   "cell_type": "code",
   "execution_count": 17,
   "id": "b80af59b",
   "metadata": {},
   "outputs": [
    {
     "name": "stdout",
     "output_type": "stream",
     "text": [
      "Fold = 1, mae = 1.36\n",
      "Fold = 2, mae = 1.88\n",
      "Fold = 3, mae = 1.73\n",
      "Fold = 4, mae = 2.18\n",
      "Fold = 5, mae = 1.99\n",
      "------------------------------\n",
      "Average Error: 1.8276949030558267\n",
      "------------------------------\n"
     ]
    }
   ],
   "source": [
    "#XG boost교차검증\n",
    "mae_kfold(xgbr)"
   ]
  },
  {
   "cell_type": "code",
   "execution_count": 18,
   "id": "9cbd7528",
   "metadata": {},
   "outputs": [
    {
     "name": "stdout",
     "output_type": "stream",
     "text": [
      "0.9999999567863228 0.5401282505859426 1.973513134105786\n"
     ]
    }
   ],
   "source": [
    "#XG boost 튜닝\n",
    "xgbr = XGBRegressor(n_estimators = 400, learning_rate = 1, max_depth = 3, objective=\"reg:squarederror\")\n",
    "xgbr.fit(X_train, y_train)\n",
    "print(xgbr.score(X_train, y_train), xgbr.score(X_test, y_test),mean_absolute_error(xgbr.predict(X_test), y_test))"
   ]
  },
  {
   "cell_type": "code",
   "execution_count": 19,
   "id": "95242784",
   "metadata": {},
   "outputs": [
    {
     "name": "stdout",
     "output_type": "stream",
     "text": [
      "Fold = 1, mae = 1.74\n",
      "Fold = 2, mae = 1.63\n",
      "Fold = 3, mae = 1.98\n",
      "Fold = 4, mae = 2.24\n",
      "Fold = 5, mae = 1.72\n",
      "------------------------------\n",
      "Average Error: 1.8625294036865234\n",
      "------------------------------\n"
     ]
    }
   ],
   "source": [
    "#XG boost교차검증\n",
    "mae_kfold(xgbr)"
   ]
  },
  {
   "cell_type": "markdown",
   "id": "770fef44",
   "metadata": {},
   "source": [
    "## lightgbm"
   ]
  },
  {
   "cell_type": "code",
   "execution_count": 20,
   "id": "cd58493f",
   "metadata": {},
   "outputs": [
    {
     "name": "stdout",
     "output_type": "stream",
     "text": [
      "0.7825094233243435 0.6266505353879197 1.786399568467943\n"
     ]
    }
   ],
   "source": [
    "#lightgbm\n",
    "lgbm = LGBMRegressor()\n",
    "lgbm.fit(X_train, y_train)\n",
    "print(lgbm.score(X_train, y_train), lgbm.score(X_test, y_test),mean_absolute_error(lgbm.predict(X_test), y_test))"
   ]
  },
  {
   "cell_type": "code",
   "execution_count": 21,
   "id": "9cfd5e32",
   "metadata": {},
   "outputs": [
    {
     "name": "stdout",
     "output_type": "stream",
     "text": [
      "Fold = 1, mae = 1.74\n",
      "Fold = 2, mae = 1.63\n",
      "Fold = 3, mae = 1.98\n",
      "Fold = 4, mae = 2.24\n",
      "Fold = 5, mae = 1.72\n",
      "------------------------------\n",
      "Average Error: 1.8625294036865234\n",
      "------------------------------\n"
     ]
    }
   ],
   "source": [
    "#lightgbm교차검증\n",
    "mae_kfold(xgbr)"
   ]
  },
  {
   "cell_type": "markdown",
   "id": "cfe50b46",
   "metadata": {},
   "source": [
    "-----------\n",
    "# 2. Scaling"
   ]
  },
  {
   "cell_type": "markdown",
   "id": "a84d4059",
   "metadata": {},
   "source": [
    "### 각변수 minmaxscaling\n",
    "\n"
   ]
  },
  {
   "cell_type": "code",
   "execution_count": 6,
   "id": "e627c860",
   "metadata": {},
   "outputs": [],
   "source": [
    "#각 변수들을 스케일링 하는 함수\n",
    "\n",
    "def minmax_scaling(df, scale_columns):\n",
    "    for col in scale_columns:\n",
    "        series_min = df[col].min()\n",
    "        series_max = df[col].max()\n",
    "        df[col] = df[col].apply(lambda x: (x-series_min)/(series_max-series_min))\n",
    "        \n",
    "            \n",
    "    return df"
   ]
  },
  {
   "cell_type": "code",
   "execution_count": 52,
   "id": "175382e8",
   "metadata": {},
   "outputs": [
    {
     "data": {
      "text/plain": [
       "Index(['crm_clue_고소', 'crm_clue_현행범', 'vic_sx_2', 'vic_age_60세초과', 'cctv_개수',\n",
       "       '배치인원_수', '비상벨_개수', '일인가구수', '기초수급_19세이하', '외국인수', 'score_절폭'],\n",
       "      dtype='object')"
      ]
     },
     "execution_count": 52,
     "metadata": {},
     "output_type": "execute_result"
    }
   ],
   "source": [
    "df.columns"
   ]
  },
  {
   "cell_type": "code",
   "execution_count": 7,
   "id": "7123ad2e",
   "metadata": {
    "scrolled": true
   },
   "outputs": [
    {
     "data": {
      "text/html": [
       "<div>\n",
       "<style scoped>\n",
       "    .dataframe tbody tr th:only-of-type {\n",
       "        vertical-align: middle;\n",
       "    }\n",
       "\n",
       "    .dataframe tbody tr th {\n",
       "        vertical-align: top;\n",
       "    }\n",
       "\n",
       "    .dataframe thead th {\n",
       "        text-align: right;\n",
       "    }\n",
       "</style>\n",
       "<table border=\"1\" class=\"dataframe\">\n",
       "  <thead>\n",
       "    <tr style=\"text-align: right;\">\n",
       "      <th></th>\n",
       "      <th>crm_wthr_바람</th>\n",
       "      <th>crm_clue_피해자신고</th>\n",
       "      <th>crm_clue_고소</th>\n",
       "      <th>crm_clue_현행범</th>\n",
       "      <th>vic_sx_2</th>\n",
       "      <th>vic_age_60세초과</th>\n",
       "      <th>cctv_개수</th>\n",
       "      <th>배치인원_수</th>\n",
       "      <th>비상벨_개수</th>\n",
       "      <th>일인가구수</th>\n",
       "      <th>기초수급_19세이하</th>\n",
       "      <th>외국인수</th>\n",
       "      <th>score_절폭</th>\n",
       "    </tr>\n",
       "  </thead>\n",
       "  <tbody>\n",
       "    <tr>\n",
       "      <th>0</th>\n",
       "      <td>0.076923</td>\n",
       "      <td>0.990408</td>\n",
       "      <td>0.221007</td>\n",
       "      <td>0.471148</td>\n",
       "      <td>1.000000</td>\n",
       "      <td>0.344538</td>\n",
       "      <td>0.730191</td>\n",
       "      <td>0.643392</td>\n",
       "      <td>0.002812</td>\n",
       "      <td>0.423996</td>\n",
       "      <td>0.476709</td>\n",
       "      <td>0.244742</td>\n",
       "      <td>78.30</td>\n",
       "    </tr>\n",
       "    <tr>\n",
       "      <th>1</th>\n",
       "      <td>0.000000</td>\n",
       "      <td>0.592060</td>\n",
       "      <td>0.096280</td>\n",
       "      <td>0.239696</td>\n",
       "      <td>0.491007</td>\n",
       "      <td>0.309244</td>\n",
       "      <td>0.451078</td>\n",
       "      <td>0.301746</td>\n",
       "      <td>0.000562</td>\n",
       "      <td>0.216117</td>\n",
       "      <td>0.476709</td>\n",
       "      <td>0.405098</td>\n",
       "      <td>70.10</td>\n",
       "    </tr>\n",
       "    <tr>\n",
       "      <th>2</th>\n",
       "      <td>0.000000</td>\n",
       "      <td>0.677058</td>\n",
       "      <td>0.210066</td>\n",
       "      <td>0.519341</td>\n",
       "      <td>0.700839</td>\n",
       "      <td>0.623529</td>\n",
       "      <td>0.688014</td>\n",
       "      <td>0.488778</td>\n",
       "      <td>0.004499</td>\n",
       "      <td>0.323532</td>\n",
       "      <td>0.476709</td>\n",
       "      <td>0.312075</td>\n",
       "      <td>73.40</td>\n",
       "    </tr>\n",
       "    <tr>\n",
       "      <th>3</th>\n",
       "      <td>0.076923</td>\n",
       "      <td>0.246203</td>\n",
       "      <td>0.140044</td>\n",
       "      <td>0.088142</td>\n",
       "      <td>0.248201</td>\n",
       "      <td>0.218487</td>\n",
       "      <td>0.187316</td>\n",
       "      <td>0.119701</td>\n",
       "      <td>0.006187</td>\n",
       "      <td>0.143554</td>\n",
       "      <td>0.698292</td>\n",
       "      <td>0.041001</td>\n",
       "      <td>73.15</td>\n",
       "    </tr>\n",
       "    <tr>\n",
       "      <th>4</th>\n",
       "      <td>0.000000</td>\n",
       "      <td>0.143885</td>\n",
       "      <td>0.056893</td>\n",
       "      <td>0.025999</td>\n",
       "      <td>0.121103</td>\n",
       "      <td>0.176471</td>\n",
       "      <td>0.140022</td>\n",
       "      <td>0.012469</td>\n",
       "      <td>0.006749</td>\n",
       "      <td>0.155186</td>\n",
       "      <td>0.698292</td>\n",
       "      <td>0.024205</td>\n",
       "      <td>77.85</td>\n",
       "    </tr>\n",
       "    <tr>\n",
       "      <th>...</th>\n",
       "      <td>...</td>\n",
       "      <td>...</td>\n",
       "      <td>...</td>\n",
       "      <td>...</td>\n",
       "      <td>...</td>\n",
       "      <td>...</td>\n",
       "      <td>...</td>\n",
       "      <td>...</td>\n",
       "      <td>...</td>\n",
       "      <td>...</td>\n",
       "      <td>...</td>\n",
       "      <td>...</td>\n",
       "      <td>...</td>\n",
       "    </tr>\n",
       "    <tr>\n",
       "      <th>118</th>\n",
       "      <td>0.000000</td>\n",
       "      <td>0.108447</td>\n",
       "      <td>0.102845</td>\n",
       "      <td>0.155992</td>\n",
       "      <td>0.145683</td>\n",
       "      <td>0.211765</td>\n",
       "      <td>0.286091</td>\n",
       "      <td>0.097257</td>\n",
       "      <td>0.280652</td>\n",
       "      <td>0.179222</td>\n",
       "      <td>0.368079</td>\n",
       "      <td>0.094673</td>\n",
       "      <td>75.80</td>\n",
       "    </tr>\n",
       "    <tr>\n",
       "      <th>119</th>\n",
       "      <td>0.000000</td>\n",
       "      <td>0.584333</td>\n",
       "      <td>0.253829</td>\n",
       "      <td>0.351300</td>\n",
       "      <td>0.694245</td>\n",
       "      <td>0.742857</td>\n",
       "      <td>0.691425</td>\n",
       "      <td>0.670823</td>\n",
       "      <td>1.000000</td>\n",
       "      <td>0.418713</td>\n",
       "      <td>0.580343</td>\n",
       "      <td>0.143706</td>\n",
       "      <td>71.85</td>\n",
       "    </tr>\n",
       "    <tr>\n",
       "      <th>120</th>\n",
       "      <td>0.000000</td>\n",
       "      <td>0.231815</td>\n",
       "      <td>0.080963</td>\n",
       "      <td>0.277108</td>\n",
       "      <td>0.263189</td>\n",
       "      <td>0.265546</td>\n",
       "      <td>0.240813</td>\n",
       "      <td>0.246883</td>\n",
       "      <td>0.190664</td>\n",
       "      <td>0.130084</td>\n",
       "      <td>0.023831</td>\n",
       "      <td>0.175080</td>\n",
       "      <td>77.40</td>\n",
       "    </tr>\n",
       "    <tr>\n",
       "      <th>121</th>\n",
       "      <td>0.076923</td>\n",
       "      <td>0.088995</td>\n",
       "      <td>0.035011</td>\n",
       "      <td>0.191503</td>\n",
       "      <td>0.122902</td>\n",
       "      <td>0.210084</td>\n",
       "      <td>0.120019</td>\n",
       "      <td>0.189526</td>\n",
       "      <td>0.023622</td>\n",
       "      <td>0.323076</td>\n",
       "      <td>0.008716</td>\n",
       "      <td>0.159402</td>\n",
       "      <td>74.60</td>\n",
       "    </tr>\n",
       "    <tr>\n",
       "      <th>122</th>\n",
       "      <td>0.076923</td>\n",
       "      <td>0.172129</td>\n",
       "      <td>0.146608</td>\n",
       "      <td>0.003805</td>\n",
       "      <td>0.178657</td>\n",
       "      <td>0.060504</td>\n",
       "      <td>0.390293</td>\n",
       "      <td>0.102244</td>\n",
       "      <td>0.021935</td>\n",
       "      <td>0.306024</td>\n",
       "      <td>0.153331</td>\n",
       "      <td>0.144238</td>\n",
       "      <td>80.05</td>\n",
       "    </tr>\n",
       "  </tbody>\n",
       "</table>\n",
       "<p>123 rows × 13 columns</p>\n",
       "</div>"
      ],
      "text/plain": [
       "     crm_wthr_바람  crm_clue_피해자신고  crm_clue_고소  crm_clue_현행범  vic_sx_2  \\\n",
       "0       0.076923        0.990408     0.221007      0.471148  1.000000   \n",
       "1       0.000000        0.592060     0.096280      0.239696  0.491007   \n",
       "2       0.000000        0.677058     0.210066      0.519341  0.700839   \n",
       "3       0.076923        0.246203     0.140044      0.088142  0.248201   \n",
       "4       0.000000        0.143885     0.056893      0.025999  0.121103   \n",
       "..           ...             ...          ...           ...       ...   \n",
       "118     0.000000        0.108447     0.102845      0.155992  0.145683   \n",
       "119     0.000000        0.584333     0.253829      0.351300  0.694245   \n",
       "120     0.000000        0.231815     0.080963      0.277108  0.263189   \n",
       "121     0.076923        0.088995     0.035011      0.191503  0.122902   \n",
       "122     0.076923        0.172129     0.146608      0.003805  0.178657   \n",
       "\n",
       "     vic_age_60세초과   cctv_개수    배치인원_수    비상벨_개수     일인가구수  기초수급_19세이하  \\\n",
       "0         0.344538  0.730191  0.643392  0.002812  0.423996    0.476709   \n",
       "1         0.309244  0.451078  0.301746  0.000562  0.216117    0.476709   \n",
       "2         0.623529  0.688014  0.488778  0.004499  0.323532    0.476709   \n",
       "3         0.218487  0.187316  0.119701  0.006187  0.143554    0.698292   \n",
       "4         0.176471  0.140022  0.012469  0.006749  0.155186    0.698292   \n",
       "..             ...       ...       ...       ...       ...         ...   \n",
       "118       0.211765  0.286091  0.097257  0.280652  0.179222    0.368079   \n",
       "119       0.742857  0.691425  0.670823  1.000000  0.418713    0.580343   \n",
       "120       0.265546  0.240813  0.246883  0.190664  0.130084    0.023831   \n",
       "121       0.210084  0.120019  0.189526  0.023622  0.323076    0.008716   \n",
       "122       0.060504  0.390293  0.102244  0.021935  0.306024    0.153331   \n",
       "\n",
       "         외국인수  score_절폭  \n",
       "0    0.244742     78.30  \n",
       "1    0.405098     70.10  \n",
       "2    0.312075     73.40  \n",
       "3    0.041001     73.15  \n",
       "4    0.024205     77.85  \n",
       "..        ...       ...  \n",
       "118  0.094673     75.80  \n",
       "119  0.143706     71.85  \n",
       "120  0.175080     77.40  \n",
       "121  0.159402     74.60  \n",
       "122  0.144238     80.05  \n",
       "\n",
       "[123 rows x 13 columns]"
      ]
     },
     "execution_count": 7,
     "metadata": {},
     "output_type": "execute_result"
    }
   ],
   "source": [
    "minmax_scaling(df, df.columns[:-1])"
   ]
  },
  {
   "cell_type": "markdown",
   "id": "5df1b5d9",
   "metadata": {},
   "source": [
    "# 설명력 보기위한 모델링"
   ]
  },
  {
   "cell_type": "code",
   "execution_count": 8,
   "id": "e3bee892",
   "metadata": {},
   "outputs": [],
   "source": [
    "# train, test 분리\n",
    "X_train, X_test, y_train, y_test  = train_test_split(df.iloc[:,:-1], df[\"score_절폭\"],test_size = 0.3, random_state=0)"
   ]
  },
  {
   "cell_type": "code",
   "execution_count": 9,
   "id": "b19b8097",
   "metadata": {},
   "outputs": [],
   "source": [
    "X = np.array(df.drop('score_절폭', 1))\n",
    "Y = np.array(df['score_절폭'])"
   ]
  },
  {
   "cell_type": "code",
   "execution_count": 10,
   "id": "e245c722",
   "metadata": {},
   "outputs": [
    {
     "name": "stdout",
     "output_type": "stream",
     "text": [
      "0.7010577414265831 0.5948130977373072 1.5943092090901647\n"
     ]
    }
   ],
   "source": [
    "#다중회귀\n",
    "lr = LinearRegression()\n",
    "lr.fit(X_train, y_train)\n",
    "print(lr.score(X_train, y_train), lr.score(X_test, y_test),mean_absolute_error(lr.predict(X_test), y_test))"
   ]
  },
  {
   "cell_type": "code",
   "execution_count": 13,
   "id": "ff9dbf35",
   "metadata": {},
   "outputs": [
    {
     "name": "stdout",
     "output_type": "stream",
     "text": [
      "Fold = 1, mae = 1.34\n",
      "Fold = 2, mae = 1.63\n",
      "Fold = 3, mae = 1.32\n",
      "Fold = 4, mae = 1.74\n",
      "Fold = 5, mae = 1.51\n",
      "------------------------------\n",
      "Average Error: 1.5081134086858894\n",
      "------------------------------\n"
     ]
    }
   ],
   "source": [
    "# 다중회귀  교차검증\n",
    "mae_kfold(lr)"
   ]
  },
  {
   "cell_type": "markdown",
   "id": "4af5fe4c",
   "metadata": {},
   "source": [
    "## ridge"
   ]
  },
  {
   "cell_type": "code",
   "execution_count": 16,
   "id": "332b08d1",
   "metadata": {},
   "outputs": [
    {
     "name": "stdout",
     "output_type": "stream",
     "text": [
      "100 : 0.041 0.057 mae: 2.89\n",
      "10 : 0.215 0.296 mae: 2.528\n",
      "1 : 0.541 0.633 mae: 1.716\n",
      "0.1 : 0.683 0.656 mae: 1.556\n",
      "0.01 : 0.701 0.606 mae: 1.585\n",
      "0.001 : 0.701 0.596 mae: 1.593\n",
      "0.0001 : 0.701 0.595 mae: 1.594\n"
     ]
    }
   ],
   "source": [
    "# ridge\n",
    "alphas_finder(Ridge)"
   ]
  },
  {
   "cell_type": "code",
   "execution_count": 17,
   "id": "1c90eb5a",
   "metadata": {},
   "outputs": [
    {
     "name": "stdout",
     "output_type": "stream",
     "text": [
      "Fold = 1, mae = 2.64\n",
      "Fold = 2, mae = 2.77\n",
      "Fold = 3, mae = 2.04\n",
      "Fold = 4, mae = 2.57\n",
      "Fold = 5, mae = 2.72\n",
      "------------------------------\n",
      "Average Error: 2.5484130520575716\n",
      "------------------------------\n",
      "Fold = 1, mae = 2.26\n",
      "Fold = 2, mae = 2.44\n",
      "Fold = 3, mae = 1.65\n",
      "Fold = 4, mae = 2.43\n",
      "Fold = 5, mae = 2.46\n",
      "------------------------------\n",
      "Average Error: 2.2474284248615266\n",
      "------------------------------\n",
      "Fold = 1, mae = 1.59\n",
      "Fold = 2, mae = 1.79\n",
      "Fold = 3, mae = 1.29\n",
      "Fold = 4, mae = 2.07\n",
      "Fold = 5, mae = 1.87\n",
      "------------------------------\n",
      "Average Error: 1.7242648893691328\n",
      "------------------------------\n",
      "Fold = 1, mae = 1.37\n",
      "Fold = 2, mae = 1.65\n",
      "Fold = 3, mae = 1.20\n",
      "Fold = 4, mae = 1.83\n",
      "Fold = 5, mae = 1.63\n",
      "------------------------------\n",
      "Average Error: 1.5376159516079355\n",
      "------------------------------\n",
      "Fold = 1, mae = 1.34\n",
      "Fold = 2, mae = 1.63\n",
      "Fold = 3, mae = 1.29\n",
      "Fold = 4, mae = 1.75\n",
      "Fold = 5, mae = 1.53\n",
      "------------------------------\n",
      "Average Error: 1.5083645420402385\n",
      "------------------------------\n",
      "Fold = 1, mae = 1.34\n",
      "Fold = 2, mae = 1.63\n",
      "Fold = 3, mae = 1.32\n",
      "Fold = 4, mae = 1.74\n",
      "Fold = 5, mae = 1.52\n",
      "------------------------------\n",
      "Average Error: 1.5079610475215994\n",
      "------------------------------\n",
      "Fold = 1, mae = 1.34\n",
      "Fold = 2, mae = 1.63\n",
      "Fold = 3, mae = 1.32\n",
      "Fold = 4, mae = 1.74\n",
      "Fold = 5, mae = 1.51\n",
      "------------------------------\n",
      "Average Error: 1.508097781396223\n",
      "------------------------------\n"
     ]
    }
   ],
   "source": [
    "for i in [100, 10, 1, 0.1, 0.01, 0.001, 0.0001]:\n",
    "    ridge = Ridge(alpha=i)\n",
    "    mae_kfold(ridge)"
   ]
  },
  {
   "cell_type": "markdown",
   "id": "52f9f612",
   "metadata": {},
   "source": [
    "## Lasso"
   ]
  },
  {
   "cell_type": "code",
   "execution_count": 18,
   "id": "b5dd2939",
   "metadata": {},
   "outputs": [
    {
     "name": "stdout",
     "output_type": "stream",
     "text": [
      "100 : 0.0 -0.006 mae: 2.978\n",
      "10 : 0.0 -0.006 mae: 2.978\n",
      "1 : 0.0 -0.006 mae: 2.978\n",
      "0.1 : 0.292 0.416 mae: 2.261\n",
      "0.01 : 0.68 0.654 mae: 1.534\n",
      "0.001 : 0.701 0.601 mae: 1.587\n",
      "0.0001 : 0.701 0.596 mae: 1.594\n"
     ]
    }
   ],
   "source": [
    "# lasso\n",
    "alphas_finder(Lasso)"
   ]
  },
  {
   "cell_type": "code",
   "execution_count": 19,
   "id": "26345e01",
   "metadata": {},
   "outputs": [
    {
     "name": "stdout",
     "output_type": "stream",
     "text": [
      "Fold = 1, mae = 2.75\n",
      "Fold = 2, mae = 2.85\n",
      "Fold = 3, mae = 2.14\n",
      "Fold = 4, mae = 2.59\n",
      "Fold = 5, mae = 2.73\n",
      "------------------------------\n",
      "Average Error: 2.611714381914383\n",
      "------------------------------\n",
      "Fold = 1, mae = 2.75\n",
      "Fold = 2, mae = 2.85\n",
      "Fold = 3, mae = 2.14\n",
      "Fold = 4, mae = 2.59\n",
      "Fold = 5, mae = 2.73\n",
      "------------------------------\n",
      "Average Error: 2.611714381914383\n",
      "------------------------------\n",
      "Fold = 1, mae = 2.75\n",
      "Fold = 2, mae = 2.85\n",
      "Fold = 3, mae = 2.14\n",
      "Fold = 4, mae = 2.59\n",
      "Fold = 5, mae = 2.73\n",
      "------------------------------\n",
      "Average Error: 2.611714381914383\n",
      "------------------------------\n",
      "Fold = 1, mae = 2.05\n",
      "Fold = 2, mae = 2.24\n",
      "Fold = 3, mae = 1.48\n",
      "Fold = 4, mae = 2.46\n",
      "Fold = 5, mae = 2.36\n",
      "------------------------------\n",
      "Average Error: 2.1196010128923275\n",
      "------------------------------\n",
      "Fold = 1, mae = 1.36\n",
      "Fold = 2, mae = 1.66\n",
      "Fold = 3, mae = 1.25\n",
      "Fold = 4, mae = 1.90\n",
      "Fold = 5, mae = 1.74\n",
      "------------------------------\n",
      "Average Error: 1.5781929624696056\n",
      "------------------------------\n",
      "Fold = 1, mae = 1.34\n",
      "Fold = 2, mae = 1.63\n",
      "Fold = 3, mae = 1.29\n",
      "Fold = 4, mae = 1.75\n",
      "Fold = 5, mae = 1.54\n",
      "------------------------------\n",
      "Average Error: 1.5122459322576858\n",
      "------------------------------\n",
      "Fold = 1, mae = 1.34\n",
      "Fold = 2, mae = 1.63\n",
      "Fold = 3, mae = 1.32\n",
      "Fold = 4, mae = 1.74\n",
      "Fold = 5, mae = 1.52\n",
      "------------------------------\n",
      "Average Error: 1.5083758482450218\n",
      "------------------------------\n"
     ]
    }
   ],
   "source": [
    "\n",
    "for i in [100, 10, 1, 0.1, 0.01, 0.001, 0.0001]:\n",
    "    lasso = Lasso(alpha=i)\n",
    "    mae_kfold(lasso)"
   ]
  },
  {
   "cell_type": "markdown",
   "id": "8b1d896a",
   "metadata": {},
   "source": [
    "## ElasticNet"
   ]
  },
  {
   "cell_type": "code",
   "execution_count": 20,
   "id": "b1fc03c3",
   "metadata": {},
   "outputs": [
    {
     "name": "stdout",
     "output_type": "stream",
     "text": [
      "100 : 0.0 -0.006 mae: 2.978\n",
      "10 : 0.0 -0.006 mae: 2.978\n",
      "1 : 0.0 -0.006 mae: 2.978\n",
      "0.1 : 0.246 0.334 mae: 2.459\n",
      "0.01 : 0.601 0.664 mae: 1.591\n",
      "0.001 : 0.695 0.634 mae: 1.564\n",
      "0.0001 : 0.701 0.6 mae: 1.59\n"
     ]
    }
   ],
   "source": [
    "alphas_finder(ElasticNet)"
   ]
  },
  {
   "cell_type": "code",
   "execution_count": 21,
   "id": "ca3486b9",
   "metadata": {},
   "outputs": [
    {
     "name": "stdout",
     "output_type": "stream",
     "text": [
      "Fold = 1, mae = 2.75\n",
      "Fold = 2, mae = 2.85\n",
      "Fold = 3, mae = 2.14\n",
      "Fold = 4, mae = 2.59\n",
      "Fold = 5, mae = 2.73\n",
      "------------------------------\n",
      "Average Error: 2.611714381914383\n",
      "------------------------------\n",
      "Fold = 1, mae = 2.75\n",
      "Fold = 2, mae = 2.85\n",
      "Fold = 3, mae = 2.14\n",
      "Fold = 4, mae = 2.59\n",
      "Fold = 5, mae = 2.73\n",
      "------------------------------\n",
      "Average Error: 2.611714381914383\n",
      "------------------------------\n",
      "Fold = 1, mae = 2.75\n",
      "Fold = 2, mae = 2.85\n",
      "Fold = 3, mae = 2.14\n",
      "Fold = 4, mae = 2.59\n",
      "Fold = 5, mae = 2.73\n",
      "------------------------------\n",
      "Average Error: 2.611714381914383\n",
      "------------------------------\n",
      "Fold = 1, mae = 2.22\n",
      "Fold = 2, mae = 2.39\n",
      "Fold = 3, mae = 1.60\n",
      "Fold = 4, mae = 2.41\n",
      "Fold = 5, mae = 2.41\n",
      "------------------------------\n",
      "Average Error: 2.2064222520837986\n",
      "------------------------------\n",
      "Fold = 1, mae = 1.51\n",
      "Fold = 2, mae = 1.71\n",
      "Fold = 3, mae = 1.28\n",
      "Fold = 4, mae = 2.02\n",
      "Fold = 5, mae = 1.82\n",
      "------------------------------\n",
      "Average Error: 1.6675438151514448\n",
      "------------------------------\n",
      "Fold = 1, mae = 1.36\n",
      "Fold = 2, mae = 1.65\n",
      "Fold = 3, mae = 1.22\n",
      "Fold = 4, mae = 1.80\n",
      "Fold = 5, mae = 1.59\n",
      "------------------------------\n",
      "Average Error: 1.5252808504906035\n",
      "------------------------------\n",
      "Fold = 1, mae = 1.34\n",
      "Fold = 2, mae = 1.63\n",
      "Fold = 3, mae = 1.30\n",
      "Fold = 4, mae = 1.75\n",
      "Fold = 5, mae = 1.52\n",
      "------------------------------\n",
      "Average Error: 1.508074730446613\n",
      "------------------------------\n"
     ]
    }
   ],
   "source": [
    "\n",
    "for i in [100, 10, 1, 0.1, 0.01, 0.001, 0.0001]:\n",
    "    elastic = ElasticNet(alpha=i)\n",
    "    mae_kfold(elastic)"
   ]
  },
  {
   "cell_type": "markdown",
   "id": "1d8ab2e5",
   "metadata": {},
   "source": [
    "## XGboost"
   ]
  },
  {
   "cell_type": "code",
   "execution_count": 22,
   "id": "466c82d4",
   "metadata": {},
   "outputs": [
    {
     "name": "stdout",
     "output_type": "stream",
     "text": [
      "0.9999999261627908 0.6900994009661152 1.5481398711333414\n"
     ]
    }
   ],
   "source": [
    "#XG boost\n",
    "xgbr = XGBRegressor()\n",
    "xgbr.fit(X_train, y_train)\n",
    "print(xgbr.score(X_train, y_train), xgbr.score(X_test, y_test),mean_absolute_error(xgbr.predict(X_test), y_test))"
   ]
  },
  {
   "cell_type": "code",
   "execution_count": 23,
   "id": "39f6fad3",
   "metadata": {},
   "outputs": [
    {
     "name": "stdout",
     "output_type": "stream",
     "text": [
      "Fold = 1, mae = 1.36\n",
      "Fold = 2, mae = 1.88\n",
      "Fold = 3, mae = 1.74\n",
      "Fold = 4, mae = 2.18\n",
      "Fold = 5, mae = 1.99\n",
      "------------------------------\n",
      "Average Error: 1.8290359675089518\n",
      "------------------------------\n"
     ]
    }
   ],
   "source": [
    "#XG boost교차검증\n",
    "mae_kfold(xgbr)"
   ]
  },
  {
   "cell_type": "code",
   "execution_count": 24,
   "id": "8eb1341c",
   "metadata": {},
   "outputs": [
    {
     "name": "stdout",
     "output_type": "stream",
     "text": [
      "0.9999999567863228 0.5401282505859426 1.973513134105786\n"
     ]
    }
   ],
   "source": [
    "#XG boost 튜닝\n",
    "xgbr = XGBRegressor(n_estimators = 400, learning_rate = 1, max_depth = 3, objective=\"reg:squarederror\")\n",
    "xgbr.fit(X_train, y_train)\n",
    "print(xgbr.score(X_train, y_train), xgbr.score(X_test, y_test),mean_absolute_error(xgbr.predict(X_test), y_test))"
   ]
  },
  {
   "cell_type": "code",
   "execution_count": 25,
   "id": "6293e0ff",
   "metadata": {},
   "outputs": [
    {
     "name": "stdout",
     "output_type": "stream",
     "text": [
      "Fold = 1, mae = 1.74\n",
      "Fold = 2, mae = 1.63\n",
      "Fold = 3, mae = 1.98\n",
      "Fold = 4, mae = 2.24\n",
      "Fold = 5, mae = 1.72\n",
      "------------------------------\n",
      "Average Error: 1.8625294036865234\n",
      "------------------------------\n"
     ]
    }
   ],
   "source": [
    "#XG boost교차검증\n",
    "mae_kfold(xgbr)"
   ]
  },
  {
   "cell_type": "markdown",
   "id": "fe31ba1f",
   "metadata": {},
   "source": [
    "## lightgbm"
   ]
  },
  {
   "cell_type": "code",
   "execution_count": 26,
   "id": "53dfc8d6",
   "metadata": {},
   "outputs": [
    {
     "name": "stdout",
     "output_type": "stream",
     "text": [
      "0.7610237795235624 0.6519406896878961 1.7138710995154447\n"
     ]
    }
   ],
   "source": [
    "#lightgbm\n",
    "lgbm = LGBMRegressor()\n",
    "lgbm.fit(X_train, y_train)\n",
    "print(lgbm.score(X_train, y_train), lgbm.score(X_test, y_test),mean_absolute_error(lgbm.predict(X_test), y_test))"
   ]
  },
  {
   "cell_type": "code",
   "execution_count": 27,
   "id": "e3047b7f",
   "metadata": {},
   "outputs": [
    {
     "name": "stdout",
     "output_type": "stream",
     "text": [
      "Fold = 1, mae = 1.33\n",
      "Fold = 2, mae = 1.82\n",
      "Fold = 3, mae = 1.36\n",
      "Fold = 4, mae = 2.33\n",
      "Fold = 5, mae = 1.96\n",
      "------------------------------\n",
      "Average Error: 1.7600236359836026\n",
      "------------------------------\n"
     ]
    }
   ],
   "source": [
    "#lightgbm교차검증\n",
    "mae_kfold(lgbm)"
   ]
  },
  {
   "cell_type": "code",
   "execution_count": 28,
   "id": "44741e56",
   "metadata": {},
   "outputs": [
    {
     "name": "stdout",
     "output_type": "stream",
     "text": [
      "학습 결과 :  0.3879963160458465\n",
      "테스트 결과 :  0.48600051238341346\n",
      "테스트 결과 :  2.1612508894819498\n"
     ]
    }
   ],
   "source": [
    "#SVR\n",
    "svr = SVR(kernel=\"linear\")\n",
    "svr.fit(X_train, y_train)\n",
    "\n",
    "print(\"학습 결과 : \", svr.score(X_train, y_train))\n",
    "print(\"테스트 결과 : \", svr.score(X_test, y_test))\n",
    "print(\"테스트 결과 : \", mean_absolute_error(svr.predict(X_test), y_test))"
   ]
  },
  {
   "cell_type": "code",
   "execution_count": 29,
   "id": "4cd61cb7",
   "metadata": {},
   "outputs": [
    {
     "name": "stdout",
     "output_type": "stream",
     "text": [
      "Fold = 1, mae = 1.87\n",
      "Fold = 2, mae = 2.15\n",
      "Fold = 3, mae = 1.42\n",
      "Fold = 4, mae = 2.23\n",
      "Fold = 5, mae = 1.99\n",
      "------------------------------\n",
      "Average Error: 1.9321062931410065\n",
      "------------------------------\n"
     ]
    }
   ],
   "source": [
    "mae_kfold(svr)"
   ]
  },
  {
   "cell_type": "markdown",
   "id": "32b9cbb7",
   "metadata": {},
   "source": [
    "# standardscaling"
   ]
  },
  {
   "cell_type": "markdown",
   "id": "f2a5bf4d",
   "metadata": {},
   "source": [
    "#### 변수마다 Standard Scaling\n",
    "\n",
    "- scaling하니까 안좋음"
   ]
  },
  {
   "cell_type": "code",
   "execution_count": 34,
   "id": "f7199d2c",
   "metadata": {},
   "outputs": [],
   "source": [
    "#각 변수들을 스케일링 하는 함수\n",
    "\n",
    "def standard_scaling(df, scale_columns):\n",
    "    for col in scale_columns:\n",
    "        series_mean = df[col].mean()\n",
    "        series_std = df[col].std()\n",
    "        df[col] = df[col].apply(lambda x: (x-series_mean)/series_std)\n",
    "        \n",
    "    return df"
   ]
  },
  {
   "cell_type": "code",
   "execution_count": 35,
   "id": "f10f1cef",
   "metadata": {},
   "outputs": [
    {
     "data": {
      "text/plain": [
       "Index(['crm_wthr_바람', 'crm_clue_피해자신고', 'crm_clue_고소', 'crm_clue_현행범',\n",
       "       'vic_sx_2', 'vic_age_60세초과', 'cctv_개수', '배치인원_수', '비상벨_개수', '일인가구수',\n",
       "       '기초수급_19세이하', '외국인수'],\n",
       "      dtype='object')"
      ]
     },
     "execution_count": 35,
     "metadata": {},
     "output_type": "execute_result"
    }
   ],
   "source": [
    "df.iloc[:,:-1].columns"
   ]
  },
  {
   "cell_type": "code",
   "execution_count": 36,
   "id": "a71364d0",
   "metadata": {},
   "outputs": [
    {
     "data": {
      "text/html": [
       "<div>\n",
       "<style scoped>\n",
       "    .dataframe tbody tr th:only-of-type {\n",
       "        vertical-align: middle;\n",
       "    }\n",
       "\n",
       "    .dataframe tbody tr th {\n",
       "        vertical-align: top;\n",
       "    }\n",
       "\n",
       "    .dataframe thead th {\n",
       "        text-align: right;\n",
       "    }\n",
       "</style>\n",
       "<table border=\"1\" class=\"dataframe\">\n",
       "  <thead>\n",
       "    <tr style=\"text-align: right;\">\n",
       "      <th></th>\n",
       "      <th>crm_wthr_바람</th>\n",
       "      <th>crm_clue_피해자신고</th>\n",
       "      <th>crm_clue_고소</th>\n",
       "      <th>crm_clue_현행범</th>\n",
       "      <th>vic_sx_2</th>\n",
       "      <th>vic_age_60세초과</th>\n",
       "      <th>cctv_개수</th>\n",
       "      <th>배치인원_수</th>\n",
       "      <th>비상벨_개수</th>\n",
       "      <th>일인가구수</th>\n",
       "      <th>기초수급_19세이하</th>\n",
       "      <th>외국인수</th>\n",
       "      <th>score_절폭</th>\n",
       "    </tr>\n",
       "  </thead>\n",
       "  <tbody>\n",
       "    <tr>\n",
       "      <th>0</th>\n",
       "      <td>0.213519</td>\n",
       "      <td>2.581060</td>\n",
       "      <td>-0.177831</td>\n",
       "      <td>0.541441</td>\n",
       "      <td>2.199685</td>\n",
       "      <td>-0.162220</td>\n",
       "      <td>1.606895</td>\n",
       "      <td>0.749224</td>\n",
       "      <td>-0.909420</td>\n",
       "      <td>0.703653</td>\n",
       "      <td>0.422364</td>\n",
       "      <td>0.159691</td>\n",
       "      <td>78.30</td>\n",
       "    </tr>\n",
       "    <tr>\n",
       "      <th>1</th>\n",
       "      <td>-0.427038</td>\n",
       "      <td>0.886298</td>\n",
       "      <td>-0.832995</td>\n",
       "      <td>-0.492502</td>\n",
       "      <td>0.206933</td>\n",
       "      <td>-0.307108</td>\n",
       "      <td>0.310941</td>\n",
       "      <td>-0.485270</td>\n",
       "      <td>-0.918843</td>\n",
       "      <td>-0.559382</td>\n",
       "      <td>0.422364</td>\n",
       "      <td>0.889381</td>\n",
       "      <td>70.10</td>\n",
       "    </tr>\n",
       "    <tr>\n",
       "      <th>2</th>\n",
       "      <td>-0.427038</td>\n",
       "      <td>1.247923</td>\n",
       "      <td>-0.235302</td>\n",
       "      <td>0.756728</td>\n",
       "      <td>1.028444</td>\n",
       "      <td>0.983081</td>\n",
       "      <td>1.411062</td>\n",
       "      <td>0.190548</td>\n",
       "      <td>-0.902353</td>\n",
       "      <td>0.093248</td>\n",
       "      <td>0.422364</td>\n",
       "      <td>0.466086</td>\n",
       "      <td>73.40</td>\n",
       "    </tr>\n",
       "    <tr>\n",
       "      <th>3</th>\n",
       "      <td>0.213519</td>\n",
       "      <td>-0.585142</td>\n",
       "      <td>-0.603113</td>\n",
       "      <td>-1.169522</td>\n",
       "      <td>-0.743673</td>\n",
       "      <td>-0.679676</td>\n",
       "      <td>-0.913735</td>\n",
       "      <td>-1.143066</td>\n",
       "      <td>-0.895286</td>\n",
       "      <td>-1.000262</td>\n",
       "      <td>1.224555</td>\n",
       "      <td>-0.767420</td>\n",
       "      <td>73.15</td>\n",
       "    </tr>\n",
       "    <tr>\n",
       "      <th>4</th>\n",
       "      <td>-0.427038</td>\n",
       "      <td>-1.020452</td>\n",
       "      <td>-1.039889</td>\n",
       "      <td>-1.447129</td>\n",
       "      <td>-1.241274</td>\n",
       "      <td>-0.852161</td>\n",
       "      <td>-1.133327</td>\n",
       "      <td>-1.530535</td>\n",
       "      <td>-0.892930</td>\n",
       "      <td>-0.929592</td>\n",
       "      <td>1.224555</td>\n",
       "      <td>-0.843852</td>\n",
       "      <td>77.85</td>\n",
       "    </tr>\n",
       "    <tr>\n",
       "      <th>...</th>\n",
       "      <td>...</td>\n",
       "      <td>...</td>\n",
       "      <td>...</td>\n",
       "      <td>...</td>\n",
       "      <td>...</td>\n",
       "      <td>...</td>\n",
       "      <td>...</td>\n",
       "      <td>...</td>\n",
       "      <td>...</td>\n",
       "      <td>...</td>\n",
       "      <td>...</td>\n",
       "      <td>...</td>\n",
       "      <td>...</td>\n",
       "    </tr>\n",
       "    <tr>\n",
       "      <th>118</th>\n",
       "      <td>-0.427038</td>\n",
       "      <td>-1.171223</td>\n",
       "      <td>-0.798513</td>\n",
       "      <td>-0.866421</td>\n",
       "      <td>-1.145040</td>\n",
       "      <td>-0.707273</td>\n",
       "      <td>-0.455112</td>\n",
       "      <td>-1.224164</td>\n",
       "      <td>0.254327</td>\n",
       "      <td>-0.783554</td>\n",
       "      <td>0.029093</td>\n",
       "      <td>-0.523189</td>\n",
       "      <td>75.80</td>\n",
       "    </tr>\n",
       "    <tr>\n",
       "      <th>119</th>\n",
       "      <td>-0.427038</td>\n",
       "      <td>0.853423</td>\n",
       "      <td>-0.005420</td>\n",
       "      <td>0.006057</td>\n",
       "      <td>1.002625</td>\n",
       "      <td>1.472939</td>\n",
       "      <td>1.426901</td>\n",
       "      <td>0.848344</td>\n",
       "      <td>3.267347</td>\n",
       "      <td>0.671554</td>\n",
       "      <td>0.797546</td>\n",
       "      <td>-0.300068</td>\n",
       "      <td>71.85</td>\n",
       "    </tr>\n",
       "    <tr>\n",
       "      <th>120</th>\n",
       "      <td>-0.427038</td>\n",
       "      <td>-0.646357</td>\n",
       "      <td>-0.913454</td>\n",
       "      <td>-0.325371</td>\n",
       "      <td>-0.684993</td>\n",
       "      <td>-0.486492</td>\n",
       "      <td>-0.665344</td>\n",
       "      <td>-0.683510</td>\n",
       "      <td>-0.122595</td>\n",
       "      <td>-1.082101</td>\n",
       "      <td>-1.217180</td>\n",
       "      <td>-0.157301</td>\n",
       "      <td>77.40</td>\n",
       "    </tr>\n",
       "    <tr>\n",
       "      <th>121</th>\n",
       "      <td>0.213519</td>\n",
       "      <td>-1.253978</td>\n",
       "      <td>-1.154830</td>\n",
       "      <td>-0.707789</td>\n",
       "      <td>-1.234232</td>\n",
       "      <td>-0.714173</td>\n",
       "      <td>-1.226204</td>\n",
       "      <td>-0.890761</td>\n",
       "      <td>-0.822257</td>\n",
       "      <td>0.090482</td>\n",
       "      <td>-1.271902</td>\n",
       "      <td>-0.228643</td>\n",
       "      <td>74.60</td>\n",
       "    </tr>\n",
       "    <tr>\n",
       "      <th>122</th>\n",
       "      <td>0.213519</td>\n",
       "      <td>-0.900288</td>\n",
       "      <td>-0.568631</td>\n",
       "      <td>-1.546274</td>\n",
       "      <td>-1.015945</td>\n",
       "      <td>-1.328220</td>\n",
       "      <td>0.028711</td>\n",
       "      <td>-1.206143</td>\n",
       "      <td>-0.829324</td>\n",
       "      <td>-0.013123</td>\n",
       "      <td>-0.748354</td>\n",
       "      <td>-0.297648</td>\n",
       "      <td>80.05</td>\n",
       "    </tr>\n",
       "  </tbody>\n",
       "</table>\n",
       "<p>123 rows × 13 columns</p>\n",
       "</div>"
      ],
      "text/plain": [
       "     crm_wthr_바람  crm_clue_피해자신고  crm_clue_고소  crm_clue_현행범  vic_sx_2  \\\n",
       "0       0.213519        2.581060    -0.177831      0.541441  2.199685   \n",
       "1      -0.427038        0.886298    -0.832995     -0.492502  0.206933   \n",
       "2      -0.427038        1.247923    -0.235302      0.756728  1.028444   \n",
       "3       0.213519       -0.585142    -0.603113     -1.169522 -0.743673   \n",
       "4      -0.427038       -1.020452    -1.039889     -1.447129 -1.241274   \n",
       "..           ...             ...          ...           ...       ...   \n",
       "118    -0.427038       -1.171223    -0.798513     -0.866421 -1.145040   \n",
       "119    -0.427038        0.853423    -0.005420      0.006057  1.002625   \n",
       "120    -0.427038       -0.646357    -0.913454     -0.325371 -0.684993   \n",
       "121     0.213519       -1.253978    -1.154830     -0.707789 -1.234232   \n",
       "122     0.213519       -0.900288    -0.568631     -1.546274 -1.015945   \n",
       "\n",
       "     vic_age_60세초과   cctv_개수    배치인원_수    비상벨_개수     일인가구수  기초수급_19세이하  \\\n",
       "0        -0.162220  1.606895  0.749224 -0.909420  0.703653    0.422364   \n",
       "1        -0.307108  0.310941 -0.485270 -0.918843 -0.559382    0.422364   \n",
       "2         0.983081  1.411062  0.190548 -0.902353  0.093248    0.422364   \n",
       "3        -0.679676 -0.913735 -1.143066 -0.895286 -1.000262    1.224555   \n",
       "4        -0.852161 -1.133327 -1.530535 -0.892930 -0.929592    1.224555   \n",
       "..             ...       ...       ...       ...       ...         ...   \n",
       "118      -0.707273 -0.455112 -1.224164  0.254327 -0.783554    0.029093   \n",
       "119       1.472939  1.426901  0.848344  3.267347  0.671554    0.797546   \n",
       "120      -0.486492 -0.665344 -0.683510 -0.122595 -1.082101   -1.217180   \n",
       "121      -0.714173 -1.226204 -0.890761 -0.822257  0.090482   -1.271902   \n",
       "122      -1.328220  0.028711 -1.206143 -0.829324 -0.013123   -0.748354   \n",
       "\n",
       "         외국인수  score_절폭  \n",
       "0    0.159691     78.30  \n",
       "1    0.889381     70.10  \n",
       "2    0.466086     73.40  \n",
       "3   -0.767420     73.15  \n",
       "4   -0.843852     77.85  \n",
       "..        ...       ...  \n",
       "118 -0.523189     75.80  \n",
       "119 -0.300068     71.85  \n",
       "120 -0.157301     77.40  \n",
       "121 -0.228643     74.60  \n",
       "122 -0.297648     80.05  \n",
       "\n",
       "[123 rows x 13 columns]"
      ]
     },
     "execution_count": 36,
     "metadata": {},
     "output_type": "execute_result"
    }
   ],
   "source": [
    "standard_scaling(df, df.iloc[:,:-1].columns)"
   ]
  },
  {
   "cell_type": "markdown",
   "id": "8d90676d",
   "metadata": {},
   "source": [
    "# 설명력 보기위한 모델링"
   ]
  },
  {
   "cell_type": "code",
   "execution_count": 37,
   "id": "ecafb89f",
   "metadata": {},
   "outputs": [],
   "source": [
    "# train, test 분리\n",
    "X_train, X_test, y_train, y_test  = train_test_split(df.iloc[:,:-1], df[\"score_절폭\"],test_size = 0.3, random_state=0)"
   ]
  },
  {
   "cell_type": "code",
   "execution_count": 38,
   "id": "dbb0f50f",
   "metadata": {},
   "outputs": [],
   "source": [
    "X = np.array(df.drop('score_절폭', 1))\n",
    "Y = np.array(df['score_절폭'])"
   ]
  },
  {
   "cell_type": "code",
   "execution_count": 39,
   "id": "e13c618b",
   "metadata": {},
   "outputs": [
    {
     "name": "stdout",
     "output_type": "stream",
     "text": [
      "0.7010577414265828 0.594813097737305 1.5943092090901663\n"
     ]
    }
   ],
   "source": [
    "#다중회귀\n",
    "lr = LinearRegression()\n",
    "lr.fit(X_train, y_train)\n",
    "print(lr.score(X_train, y_train), lr.score(X_test, y_test),mean_absolute_error(lr.predict(X_test), y_test))"
   ]
  },
  {
   "cell_type": "code",
   "execution_count": 40,
   "id": "d1e03626",
   "metadata": {},
   "outputs": [
    {
     "name": "stdout",
     "output_type": "stream",
     "text": [
      "Fold = 1, mae = 1.34\n",
      "Fold = 2, mae = 1.63\n",
      "Fold = 3, mae = 1.32\n",
      "Fold = 4, mae = 1.74\n",
      "Fold = 5, mae = 1.51\n",
      "------------------------------\n",
      "Average Error: 1.508113408685889\n",
      "------------------------------\n"
     ]
    }
   ],
   "source": [
    "# 다중회귀  교차검증\n",
    "mae_kfold(lr)"
   ]
  },
  {
   "cell_type": "markdown",
   "id": "4a8a144d",
   "metadata": {},
   "source": [
    "## ridge"
   ]
  },
  {
   "cell_type": "code",
   "execution_count": 41,
   "id": "db08819d",
   "metadata": {},
   "outputs": [
    {
     "name": "stdout",
     "output_type": "stream",
     "text": [
      "100 : 0.298 0.419 mae: 2.302\n",
      "10 : 0.593 0.662 mae: 1.598\n",
      "1 : 0.692 0.637 mae: 1.577\n",
      "0.1 : 0.701 0.601 mae: 1.59\n",
      "0.01 : 0.701 0.595 mae: 1.594\n",
      "0.001 : 0.701 0.595 mae: 1.594\n",
      "0.0001 : 0.701 0.595 mae: 1.594\n"
     ]
    }
   ],
   "source": [
    "# ridge\n",
    "alphas_finder(Ridge)"
   ]
  },
  {
   "cell_type": "code",
   "execution_count": 42,
   "id": "f69e0f77",
   "metadata": {},
   "outputs": [
    {
     "name": "stdout",
     "output_type": "stream",
     "text": [
      "Fold = 1, mae = 2.03\n",
      "Fold = 2, mae = 2.26\n",
      "Fold = 3, mae = 1.48\n",
      "Fold = 4, mae = 2.33\n",
      "Fold = 5, mae = 2.31\n",
      "------------------------------\n",
      "Average Error: 2.0820145201453912\n",
      "------------------------------\n",
      "Fold = 1, mae = 1.51\n",
      "Fold = 2, mae = 1.70\n",
      "Fold = 3, mae = 1.28\n",
      "Fold = 4, mae = 2.00\n",
      "Fold = 5, mae = 1.83\n",
      "------------------------------\n",
      "Average Error: 1.6629705340362235\n",
      "------------------------------\n",
      "Fold = 1, mae = 1.38\n",
      "Fold = 2, mae = 1.66\n",
      "Fold = 3, mae = 1.22\n",
      "Fold = 4, mae = 1.81\n",
      "Fold = 5, mae = 1.60\n",
      "------------------------------\n",
      "Average Error: 1.5307005639970244\n",
      "------------------------------\n",
      "Fold = 1, mae = 1.34\n",
      "Fold = 2, mae = 1.63\n",
      "Fold = 3, mae = 1.30\n",
      "Fold = 4, mae = 1.75\n",
      "Fold = 5, mae = 1.52\n",
      "------------------------------\n",
      "Average Error: 1.5084954419907726\n",
      "------------------------------\n",
      "Fold = 1, mae = 1.34\n",
      "Fold = 2, mae = 1.63\n",
      "Fold = 3, mae = 1.32\n",
      "Fold = 4, mae = 1.74\n",
      "Fold = 5, mae = 1.52\n",
      "------------------------------\n",
      "Average Error: 1.5080679364744536\n",
      "------------------------------\n",
      "Fold = 1, mae = 1.34\n",
      "Fold = 2, mae = 1.63\n",
      "Fold = 3, mae = 1.32\n",
      "Fold = 4, mae = 1.74\n",
      "Fold = 5, mae = 1.51\n",
      "------------------------------\n",
      "Average Error: 1.508108738442274\n",
      "------------------------------\n",
      "Fold = 1, mae = 1.34\n",
      "Fold = 2, mae = 1.63\n",
      "Fold = 3, mae = 1.32\n",
      "Fold = 4, mae = 1.74\n",
      "Fold = 5, mae = 1.51\n",
      "------------------------------\n",
      "Average Error: 1.5081129404095188\n",
      "------------------------------\n"
     ]
    }
   ],
   "source": [
    "for i in [100, 10, 1, 0.1, 0.01, 0.001, 0.0001]:\n",
    "    ridge = Ridge(alpha=i)\n",
    "    mae_kfold(ridge)"
   ]
  },
  {
   "cell_type": "markdown",
   "id": "cf89f6fa",
   "metadata": {},
   "source": [
    "## Lasso"
   ]
  },
  {
   "cell_type": "code",
   "execution_count": 43,
   "id": "35f642d2",
   "metadata": {},
   "outputs": [
    {
     "name": "stdout",
     "output_type": "stream",
     "text": [
      "100 : 0.0 -0.006 mae: 2.978\n",
      "10 : 0.0 -0.006 mae: 2.978\n",
      "1 : 0.014 0.024 mae: 2.935\n",
      "0.1 : 0.614 0.657 mae: 1.588\n",
      "0.01 : 0.699 0.606 mae: 1.58\n",
      "0.001 : 0.701 0.596 mae: 1.593\n",
      "0.0001 : 0.701 0.595 mae: 1.594\n"
     ]
    }
   ],
   "source": [
    "# lasso\n",
    "alphas_finder(Lasso)"
   ]
  },
  {
   "cell_type": "code",
   "execution_count": 44,
   "id": "de3f507a",
   "metadata": {},
   "outputs": [
    {
     "name": "stdout",
     "output_type": "stream",
     "text": [
      "Fold = 1, mae = 2.75\n",
      "Fold = 2, mae = 2.85\n",
      "Fold = 3, mae = 2.14\n",
      "Fold = 4, mae = 2.59\n",
      "Fold = 5, mae = 2.73\n",
      "------------------------------\n",
      "Average Error: 2.611714381914383\n",
      "------------------------------\n",
      "Fold = 1, mae = 2.75\n",
      "Fold = 2, mae = 2.85\n",
      "Fold = 3, mae = 2.14\n",
      "Fold = 4, mae = 2.59\n",
      "Fold = 5, mae = 2.73\n",
      "------------------------------\n",
      "Average Error: 2.611714381914383\n",
      "------------------------------\n",
      "Fold = 1, mae = 2.48\n",
      "Fold = 2, mae = 2.58\n",
      "Fold = 3, mae = 1.89\n",
      "Fold = 4, mae = 2.55\n",
      "Fold = 5, mae = 2.64\n",
      "------------------------------\n",
      "Average Error: 2.4296325938422174\n",
      "------------------------------\n",
      "Fold = 1, mae = 1.47\n",
      "Fold = 2, mae = 1.71\n",
      "Fold = 3, mae = 1.29\n",
      "Fold = 4, mae = 2.02\n",
      "Fold = 5, mae = 1.86\n",
      "------------------------------\n",
      "Average Error: 1.667577727714186\n",
      "------------------------------\n",
      "Fold = 1, mae = 1.36\n",
      "Fold = 2, mae = 1.65\n",
      "Fold = 3, mae = 1.25\n",
      "Fold = 4, mae = 1.78\n",
      "Fold = 5, mae = 1.58\n",
      "------------------------------\n",
      "Average Error: 1.5235890397208995\n",
      "------------------------------\n",
      "Fold = 1, mae = 1.34\n",
      "Fold = 2, mae = 1.63\n",
      "Fold = 3, mae = 1.31\n",
      "Fold = 4, mae = 1.74\n",
      "Fold = 5, mae = 1.52\n",
      "------------------------------\n",
      "Average Error: 1.5088593032699995\n",
      "------------------------------\n",
      "Fold = 1, mae = 1.34\n",
      "Fold = 2, mae = 1.63\n",
      "Fold = 3, mae = 1.32\n",
      "Fold = 4, mae = 1.74\n",
      "Fold = 5, mae = 1.52\n",
      "------------------------------\n",
      "Average Error: 1.5081880514831643\n",
      "------------------------------\n"
     ]
    }
   ],
   "source": [
    "\n",
    "for i in [100, 10, 1, 0.1, 0.01, 0.001, 0.0001]:\n",
    "    lasso = Lasso(alpha=i)\n",
    "    mae_kfold(lasso)"
   ]
  },
  {
   "cell_type": "markdown",
   "id": "76ca518a",
   "metadata": {},
   "source": [
    "## ElasticNet"
   ]
  },
  {
   "cell_type": "code",
   "execution_count": 45,
   "id": "0680120c",
   "metadata": {},
   "outputs": [
    {
     "name": "stdout",
     "output_type": "stream",
     "text": [
      "100 : 0.0 -0.006 mae: 2.978\n",
      "10 : 0.0 -0.006 mae: 2.978\n",
      "1 : 0.168 0.256 mae: 2.59\n",
      "0.1 : 0.608 0.662 mae: 1.593\n",
      "0.01 : 0.697 0.622 mae: 1.576\n",
      "0.001 : 0.701 0.598 mae: 1.592\n",
      "0.0001 : 0.701 0.595 mae: 1.594\n"
     ]
    }
   ],
   "source": [
    "alphas_finder(ElasticNet)"
   ]
  },
  {
   "cell_type": "code",
   "execution_count": 46,
   "id": "5eca9ef1",
   "metadata": {},
   "outputs": [
    {
     "name": "stdout",
     "output_type": "stream",
     "text": [
      "Fold = 1, mae = 2.75\n",
      "Fold = 2, mae = 2.85\n",
      "Fold = 3, mae = 2.14\n",
      "Fold = 4, mae = 2.59\n",
      "Fold = 5, mae = 2.73\n",
      "------------------------------\n",
      "Average Error: 2.611714381914383\n",
      "------------------------------\n",
      "Fold = 1, mae = 2.75\n",
      "Fold = 2, mae = 2.85\n",
      "Fold = 3, mae = 2.14\n",
      "Fold = 4, mae = 2.59\n",
      "Fold = 5, mae = 2.73\n",
      "------------------------------\n",
      "Average Error: 2.611714381914383\n",
      "------------------------------\n",
      "Fold = 1, mae = 2.33\n",
      "Fold = 2, mae = 2.44\n",
      "Fold = 3, mae = 1.70\n",
      "Fold = 4, mae = 2.47\n",
      "Fold = 5, mae = 2.59\n",
      "------------------------------\n",
      "Average Error: 2.3045590470650574\n",
      "------------------------------\n",
      "Fold = 1, mae = 1.49\n",
      "Fold = 2, mae = 1.70\n",
      "Fold = 3, mae = 1.29\n",
      "Fold = 4, mae = 2.02\n",
      "Fold = 5, mae = 1.86\n",
      "------------------------------\n",
      "Average Error: 1.6707855586806357\n",
      "------------------------------\n",
      "Fold = 1, mae = 1.37\n",
      "Fold = 2, mae = 1.65\n",
      "Fold = 3, mae = 1.23\n",
      "Fold = 4, mae = 1.80\n",
      "Fold = 5, mae = 1.59\n",
      "------------------------------\n",
      "Average Error: 1.5265108162718437\n",
      "------------------------------\n",
      "Fold = 1, mae = 1.34\n",
      "Fold = 2, mae = 1.63\n",
      "Fold = 3, mae = 1.31\n",
      "Fold = 4, mae = 1.74\n",
      "Fold = 5, mae = 1.52\n",
      "------------------------------\n",
      "Average Error: 1.508542279261778\n",
      "------------------------------\n",
      "Fold = 1, mae = 1.34\n",
      "Fold = 2, mae = 1.63\n",
      "Fold = 3, mae = 1.32\n",
      "Fold = 4, mae = 1.74\n",
      "Fold = 5, mae = 1.52\n",
      "------------------------------\n",
      "Average Error: 1.5081297338740711\n",
      "------------------------------\n"
     ]
    }
   ],
   "source": [
    "\n",
    "for i in [100, 10, 1, 0.1, 0.01, 0.001, 0.0001]:\n",
    "    elastic = ElasticNet(alpha=i)\n",
    "    mae_kfold(elastic)"
   ]
  },
  {
   "cell_type": "markdown",
   "id": "24200ae9",
   "metadata": {},
   "source": [
    "## XGboost"
   ]
  },
  {
   "cell_type": "code",
   "execution_count": 47,
   "id": "8b2cdb82",
   "metadata": {},
   "outputs": [
    {
     "name": "stdout",
     "output_type": "stream",
     "text": [
      "0.9999999261627908 0.6898695268521778 1.5491424148147181\n"
     ]
    }
   ],
   "source": [
    "#XG boost\n",
    "xgbr = XGBRegressor()\n",
    "xgbr.fit(X_train, y_train)\n",
    "print(xgbr.score(X_train, y_train), xgbr.score(X_test, y_test),mean_absolute_error(xgbr.predict(X_test), y_test))"
   ]
  },
  {
   "cell_type": "code",
   "execution_count": 48,
   "id": "b80af59b",
   "metadata": {},
   "outputs": [
    {
     "name": "stdout",
     "output_type": "stream",
     "text": [
      "Fold = 1, mae = 1.36\n",
      "Fold = 2, mae = 1.89\n",
      "Fold = 3, mae = 1.74\n",
      "Fold = 4, mae = 2.18\n",
      "Fold = 5, mae = 1.99\n",
      "------------------------------\n",
      "Average Error: 1.8325867487589516\n",
      "------------------------------\n"
     ]
    }
   ],
   "source": [
    "#XG boost교차검증\n",
    "mae_kfold(xgbr)"
   ]
  },
  {
   "cell_type": "code",
   "execution_count": 49,
   "id": "9cbd7528",
   "metadata": {},
   "outputs": [
    {
     "name": "stdout",
     "output_type": "stream",
     "text": [
      "0.9999999567863228 0.5401282505859426 1.973513134105786\n"
     ]
    }
   ],
   "source": [
    "#XG boost 튜닝\n",
    "xgbr = XGBRegressor(n_estimators = 400, learning_rate = 1, max_depth = 3, objective=\"reg:squarederror\")\n",
    "xgbr.fit(X_train, y_train)\n",
    "print(xgbr.score(X_train, y_train), xgbr.score(X_test, y_test),mean_absolute_error(xgbr.predict(X_test), y_test))"
   ]
  },
  {
   "cell_type": "code",
   "execution_count": 50,
   "id": "95242784",
   "metadata": {},
   "outputs": [
    {
     "name": "stdout",
     "output_type": "stream",
     "text": [
      "Fold = 1, mae = 1.74\n",
      "Fold = 2, mae = 1.63\n",
      "Fold = 3, mae = 1.97\n",
      "Fold = 4, mae = 2.24\n",
      "Fold = 5, mae = 1.72\n",
      "------------------------------\n",
      "Average Error: 1.8608464202880857\n",
      "------------------------------\n"
     ]
    }
   ],
   "source": [
    "#XG boost교차검증\n",
    "mae_kfold(xgbr)"
   ]
  },
  {
   "cell_type": "markdown",
   "id": "770fef44",
   "metadata": {},
   "source": [
    "## lightgbm"
   ]
  },
  {
   "cell_type": "code",
   "execution_count": 51,
   "id": "cd58493f",
   "metadata": {},
   "outputs": [
    {
     "name": "stdout",
     "output_type": "stream",
     "text": [
      "0.775709960697537 0.6065695812192068 1.7978365636025087\n"
     ]
    }
   ],
   "source": [
    "#lightgbm\n",
    "lgbm = LGBMRegressor()\n",
    "lgbm.fit(X_train, y_train)\n",
    "print(lgbm.score(X_train, y_train), lgbm.score(X_test, y_test),mean_absolute_error(lgbm.predict(X_test), y_test))"
   ]
  },
  {
   "cell_type": "code",
   "execution_count": 52,
   "id": "9cfd5e32",
   "metadata": {},
   "outputs": [
    {
     "name": "stdout",
     "output_type": "stream",
     "text": [
      "Fold = 1, mae = 1.26\n",
      "Fold = 2, mae = 1.87\n",
      "Fold = 3, mae = 1.28\n",
      "Fold = 4, mae = 2.41\n",
      "Fold = 5, mae = 1.87\n",
      "------------------------------\n",
      "Average Error: 1.736739046150302\n",
      "------------------------------\n"
     ]
    }
   ],
   "source": [
    "#lightgbm교차검증\n",
    "mae_kfold(lgbm)"
   ]
  },
  {
   "cell_type": "code",
   "execution_count": 53,
   "id": "8d403a12",
   "metadata": {},
   "outputs": [
    {
     "name": "stdout",
     "output_type": "stream",
     "text": [
      "학습 결과 :  0.6529914950407469\n",
      "테스트 결과 :  0.6591764941608915\n",
      "테스트 결과 :  1.5678234927358718\n"
     ]
    }
   ],
   "source": [
    "#SVR\n",
    "svr = SVR(kernel=\"linear\")\n",
    "svr.fit(X_train, y_train)\n",
    "\n",
    "print(\"학습 결과 : \", svr.score(X_train, y_train))\n",
    "print(\"테스트 결과 : \", svr.score(X_test, y_test))\n",
    "print(\"테스트 결과 : \", mean_absolute_error(svr.predict(X_test), y_test))"
   ]
  },
  {
   "cell_type": "code",
   "execution_count": 54,
   "id": "672f641e",
   "metadata": {},
   "outputs": [
    {
     "name": "stdout",
     "output_type": "stream",
     "text": [
      "Fold = 1, mae = 1.46\n",
      "Fold = 2, mae = 1.64\n",
      "Fold = 3, mae = 1.26\n",
      "Fold = 4, mae = 1.86\n",
      "Fold = 5, mae = 1.48\n",
      "------------------------------\n",
      "Average Error: 1.5386971286372266\n",
      "------------------------------\n"
     ]
    }
   ],
   "source": [
    "mae_kfold(svr) "
   ]
  },
  {
   "cell_type": "markdown",
   "id": "82475fde",
   "metadata": {},
   "source": [
    "# RobustScaler"
   ]
  },
  {
   "cell_type": "markdown",
   "id": "2dd5bb4b",
   "metadata": {},
   "source": [
    "### 각변수 robustscaling\n",
    "\n"
   ]
  },
  {
   "cell_type": "code",
   "execution_count": 58,
   "id": "22cd9e1a",
   "metadata": {},
   "outputs": [],
   "source": [
    "#각 변수들을 스케일링 하는 함수\n",
    "\n",
    "def robust_scaling(df, scale_columns):\n",
    "    for col in scale_columns:\n",
    "        series_med = df[col].median()\n",
    "        series_per75 = np.percentile(df[col],75)\n",
    "        series_per25 = np.percentile(df[col],25)\n",
    "        df[col] = df[col].apply(lambda x: (x-series_med)/(series_per75-series_per25))\n",
    "        \n",
    "            \n",
    "    return df"
   ]
  },
  {
   "cell_type": "code",
   "execution_count": 59,
   "id": "f10f1cef",
   "metadata": {},
   "outputs": [
    {
     "data": {
      "text/plain": [
       "Index(['crm_wthr_바람', 'crm_clue_피해자신고', 'crm_clue_고소', 'crm_clue_현행범',\n",
       "       'vic_sx_2', 'vic_age_60세초과', 'cctv_개수', '배치인원_수', '비상벨_개수', '일인가구수',\n",
       "       '기초수급_19세이하', '외국인수'],\n",
       "      dtype='object')"
      ]
     },
     "execution_count": 59,
     "metadata": {},
     "output_type": "execute_result"
    }
   ],
   "source": [
    "df.iloc[:,:-1].columns"
   ]
  },
  {
   "cell_type": "code",
   "execution_count": 60,
   "id": "a71364d0",
   "metadata": {},
   "outputs": [
    {
     "data": {
      "text/html": [
       "<div>\n",
       "<style scoped>\n",
       "    .dataframe tbody tr th:only-of-type {\n",
       "        vertical-align: middle;\n",
       "    }\n",
       "\n",
       "    .dataframe tbody tr th {\n",
       "        vertical-align: top;\n",
       "    }\n",
       "\n",
       "    .dataframe thead th {\n",
       "        text-align: right;\n",
       "    }\n",
       "</style>\n",
       "<table border=\"1\" class=\"dataframe\">\n",
       "  <thead>\n",
       "    <tr style=\"text-align: right;\">\n",
       "      <th></th>\n",
       "      <th>crm_wthr_바람</th>\n",
       "      <th>crm_clue_피해자신고</th>\n",
       "      <th>crm_clue_고소</th>\n",
       "      <th>crm_clue_현행범</th>\n",
       "      <th>vic_sx_2</th>\n",
       "      <th>vic_age_60세초과</th>\n",
       "      <th>cctv_개수</th>\n",
       "      <th>배치인원_수</th>\n",
       "      <th>비상벨_개수</th>\n",
       "      <th>일인가구수</th>\n",
       "      <th>기초수급_19세이하</th>\n",
       "      <th>외국인수</th>\n",
       "      <th>score_절폭</th>\n",
       "    </tr>\n",
       "  </thead>\n",
       "  <tbody>\n",
       "    <tr>\n",
       "      <th>0</th>\n",
       "      <td>1.0</td>\n",
       "      <td>1.717722</td>\n",
       "      <td>0.023438</td>\n",
       "      <td>0.435871</td>\n",
       "      <td>1.342522</td>\n",
       "      <td>0.091703</td>\n",
       "      <td>1.538757</td>\n",
       "      <td>0.412088</td>\n",
       "      <td>-0.349135</td>\n",
       "      <td>0.664721</td>\n",
       "      <td>0.558545</td>\n",
       "      <td>0.550122</td>\n",
       "      <td>78.30</td>\n",
       "    </tr>\n",
       "    <tr>\n",
       "      <th>1</th>\n",
       "      <td>0.0</td>\n",
       "      <td>0.660064</td>\n",
       "      <td>-0.421875</td>\n",
       "      <td>-0.325339</td>\n",
       "      <td>0.172295</td>\n",
       "      <td>0.000000</td>\n",
       "      <td>0.385650</td>\n",
       "      <td>-0.340659</td>\n",
       "      <td>-0.355154</td>\n",
       "      <td>-0.405297</td>\n",
       "      <td>0.558545</td>\n",
       "      <td>1.315080</td>\n",
       "      <td>70.10</td>\n",
       "    </tr>\n",
       "    <tr>\n",
       "      <th>2</th>\n",
       "      <td>0.0</td>\n",
       "      <td>0.885745</td>\n",
       "      <td>-0.015625</td>\n",
       "      <td>0.594369</td>\n",
       "      <td>0.654721</td>\n",
       "      <td>0.816594</td>\n",
       "      <td>1.364510</td>\n",
       "      <td>0.071429</td>\n",
       "      <td>-0.344620</td>\n",
       "      <td>0.147598</td>\n",
       "      <td>0.558545</td>\n",
       "      <td>0.871326</td>\n",
       "      <td>73.40</td>\n",
       "    </tr>\n",
       "    <tr>\n",
       "      <th>3</th>\n",
       "      <td>1.0</td>\n",
       "      <td>-0.258224</td>\n",
       "      <td>-0.265625</td>\n",
       "      <td>-0.823775</td>\n",
       "      <td>-0.385941</td>\n",
       "      <td>-0.235808</td>\n",
       "      <td>-0.704036</td>\n",
       "      <td>-0.741758</td>\n",
       "      <td>-0.340105</td>\n",
       "      <td>-0.778802</td>\n",
       "      <td>1.192499</td>\n",
       "      <td>-0.421798</td>\n",
       "      <td>73.15</td>\n",
       "    </tr>\n",
       "    <tr>\n",
       "      <th>4</th>\n",
       "      <td>0.0</td>\n",
       "      <td>-0.529890</td>\n",
       "      <td>-0.562500</td>\n",
       "      <td>-1.028154</td>\n",
       "      <td>-0.678153</td>\n",
       "      <td>-0.344978</td>\n",
       "      <td>-0.899423</td>\n",
       "      <td>-0.978022</td>\n",
       "      <td>-0.338600</td>\n",
       "      <td>-0.718932</td>\n",
       "      <td>1.192499</td>\n",
       "      <td>-0.501924</td>\n",
       "      <td>77.85</td>\n",
       "    </tr>\n",
       "    <tr>\n",
       "      <th>...</th>\n",
       "      <td>...</td>\n",
       "      <td>...</td>\n",
       "      <td>...</td>\n",
       "      <td>...</td>\n",
       "      <td>...</td>\n",
       "      <td>...</td>\n",
       "      <td>...</td>\n",
       "      <td>...</td>\n",
       "      <td>...</td>\n",
       "      <td>...</td>\n",
       "      <td>...</td>\n",
       "      <td>...</td>\n",
       "      <td>...</td>\n",
       "    </tr>\n",
       "    <tr>\n",
       "      <th>118</th>\n",
       "      <td>0.0</td>\n",
       "      <td>-0.623983</td>\n",
       "      <td>-0.398438</td>\n",
       "      <td>-0.600626</td>\n",
       "      <td>-0.621640</td>\n",
       "      <td>-0.253275</td>\n",
       "      <td>-0.295964</td>\n",
       "      <td>-0.791209</td>\n",
       "      <td>0.394281</td>\n",
       "      <td>-0.595211</td>\n",
       "      <td>0.247751</td>\n",
       "      <td>-0.165763</td>\n",
       "      <td>75.80</td>\n",
       "    </tr>\n",
       "    <tr>\n",
       "      <th>119</th>\n",
       "      <td>0.0</td>\n",
       "      <td>0.639547</td>\n",
       "      <td>0.140625</td>\n",
       "      <td>0.041710</td>\n",
       "      <td>0.639559</td>\n",
       "      <td>1.126638</td>\n",
       "      <td>1.378603</td>\n",
       "      <td>0.472527</td>\n",
       "      <td>2.319037</td>\n",
       "      <td>0.637527</td>\n",
       "      <td>0.855043</td>\n",
       "      <td>0.068142</td>\n",
       "      <td>71.85</td>\n",
       "    </tr>\n",
       "    <tr>\n",
       "      <th>120</th>\n",
       "      <td>0.0</td>\n",
       "      <td>-0.296427</td>\n",
       "      <td>-0.476562</td>\n",
       "      <td>-0.202294</td>\n",
       "      <td>-0.351482</td>\n",
       "      <td>-0.113537</td>\n",
       "      <td>-0.483024</td>\n",
       "      <td>-0.461538</td>\n",
       "      <td>0.153499</td>\n",
       "      <td>-0.848135</td>\n",
       "      <td>-0.737151</td>\n",
       "      <td>0.217810</td>\n",
       "      <td>77.40</td>\n",
       "    </tr>\n",
       "    <tr>\n",
       "      <th>121</th>\n",
       "      <td>1.0</td>\n",
       "      <td>-0.675628</td>\n",
       "      <td>-0.640625</td>\n",
       "      <td>-0.483837</td>\n",
       "      <td>-0.674018</td>\n",
       "      <td>-0.257642</td>\n",
       "      <td>-0.982063</td>\n",
       "      <td>-0.587912</td>\n",
       "      <td>-0.293454</td>\n",
       "      <td>0.145254</td>\n",
       "      <td>-0.780397</td>\n",
       "      <td>0.143020</td>\n",
       "      <td>74.60</td>\n",
       "    </tr>\n",
       "    <tr>\n",
       "      <th>122</th>\n",
       "      <td>1.0</td>\n",
       "      <td>-0.454899</td>\n",
       "      <td>-0.242188</td>\n",
       "      <td>-1.101147</td>\n",
       "      <td>-0.545830</td>\n",
       "      <td>-0.646288</td>\n",
       "      <td>0.134529</td>\n",
       "      <td>-0.780220</td>\n",
       "      <td>-0.297968</td>\n",
       "      <td>0.057483</td>\n",
       "      <td>-0.366648</td>\n",
       "      <td>0.070679</td>\n",
       "      <td>80.05</td>\n",
       "    </tr>\n",
       "  </tbody>\n",
       "</table>\n",
       "<p>123 rows × 13 columns</p>\n",
       "</div>"
      ],
      "text/plain": [
       "     crm_wthr_바람  crm_clue_피해자신고  crm_clue_고소  crm_clue_현행범  vic_sx_2  \\\n",
       "0            1.0        1.717722     0.023438      0.435871  1.342522   \n",
       "1            0.0        0.660064    -0.421875     -0.325339  0.172295   \n",
       "2            0.0        0.885745    -0.015625      0.594369  0.654721   \n",
       "3            1.0       -0.258224    -0.265625     -0.823775 -0.385941   \n",
       "4            0.0       -0.529890    -0.562500     -1.028154 -0.678153   \n",
       "..           ...             ...          ...           ...       ...   \n",
       "118          0.0       -0.623983    -0.398438     -0.600626 -0.621640   \n",
       "119          0.0        0.639547     0.140625      0.041710  0.639559   \n",
       "120          0.0       -0.296427    -0.476562     -0.202294 -0.351482   \n",
       "121          1.0       -0.675628    -0.640625     -0.483837 -0.674018   \n",
       "122          1.0       -0.454899    -0.242188     -1.101147 -0.545830   \n",
       "\n",
       "     vic_age_60세초과   cctv_개수    배치인원_수    비상벨_개수     일인가구수  기초수급_19세이하  \\\n",
       "0         0.091703  1.538757  0.412088 -0.349135  0.664721    0.558545   \n",
       "1         0.000000  0.385650 -0.340659 -0.355154 -0.405297    0.558545   \n",
       "2         0.816594  1.364510  0.071429 -0.344620  0.147598    0.558545   \n",
       "3        -0.235808 -0.704036 -0.741758 -0.340105 -0.778802    1.192499   \n",
       "4        -0.344978 -0.899423 -0.978022 -0.338600 -0.718932    1.192499   \n",
       "..             ...       ...       ...       ...       ...         ...   \n",
       "118      -0.253275 -0.295964 -0.791209  0.394281 -0.595211    0.247751   \n",
       "119       1.126638  1.378603  0.472527  2.319037  0.637527    0.855043   \n",
       "120      -0.113537 -0.483024 -0.461538  0.153499 -0.848135   -0.737151   \n",
       "121      -0.257642 -0.982063 -0.587912 -0.293454  0.145254   -0.780397   \n",
       "122      -0.646288  0.134529 -0.780220 -0.297968  0.057483   -0.366648   \n",
       "\n",
       "         외국인수  score_절폭  \n",
       "0    0.550122     78.30  \n",
       "1    1.315080     70.10  \n",
       "2    0.871326     73.40  \n",
       "3   -0.421798     73.15  \n",
       "4   -0.501924     77.85  \n",
       "..        ...       ...  \n",
       "118 -0.165763     75.80  \n",
       "119  0.068142     71.85  \n",
       "120  0.217810     77.40  \n",
       "121  0.143020     74.60  \n",
       "122  0.070679     80.05  \n",
       "\n",
       "[123 rows x 13 columns]"
      ]
     },
     "execution_count": 60,
     "metadata": {},
     "output_type": "execute_result"
    }
   ],
   "source": [
    "robust_scaling(df, df.iloc[:,:-1].columns)"
   ]
  },
  {
   "cell_type": "markdown",
   "id": "eb7b5c84",
   "metadata": {},
   "source": [
    "# 설명력 보기위한 모델링"
   ]
  },
  {
   "cell_type": "code",
   "execution_count": 61,
   "id": "10d6ed64",
   "metadata": {},
   "outputs": [],
   "source": [
    "# train, test 분리\n",
    "X_train, X_test, y_train, y_test  = train_test_split(df.iloc[:,:-1], df[\"score_절폭\"],test_size = 0.3, random_state=0)"
   ]
  },
  {
   "cell_type": "code",
   "execution_count": 62,
   "id": "ce0859df",
   "metadata": {},
   "outputs": [],
   "source": [
    "X = np.array(df.drop('score_절폭', 1))\n",
    "Y = np.array(df['score_절폭'])"
   ]
  },
  {
   "cell_type": "code",
   "execution_count": 63,
   "id": "87818569",
   "metadata": {},
   "outputs": [
    {
     "name": "stdout",
     "output_type": "stream",
     "text": [
      "0.7010577414265833 0.5948130977373056 1.5943092090901663\n"
     ]
    }
   ],
   "source": [
    "#다중회귀\n",
    "lr = LinearRegression()\n",
    "lr.fit(X_train, y_train)\n",
    "print(lr.score(X_train, y_train), lr.score(X_test, y_test),mean_absolute_error(lr.predict(X_test), y_test))"
   ]
  },
  {
   "cell_type": "code",
   "execution_count": 64,
   "id": "eb2753ad",
   "metadata": {},
   "outputs": [
    {
     "name": "stdout",
     "output_type": "stream",
     "text": [
      "Fold = 1, mae = 1.34\n",
      "Fold = 2, mae = 1.63\n",
      "Fold = 3, mae = 1.32\n",
      "Fold = 4, mae = 1.74\n",
      "Fold = 5, mae = 1.51\n",
      "------------------------------\n",
      "Average Error: 1.5081134086858885\n",
      "------------------------------\n"
     ]
    }
   ],
   "source": [
    "# 다중회귀  교차검증\n",
    "mae_kfold(lr)"
   ]
  },
  {
   "cell_type": "markdown",
   "id": "3e747078",
   "metadata": {},
   "source": [
    "## ridge"
   ]
  },
  {
   "cell_type": "code",
   "execution_count": 65,
   "id": "6e633b62",
   "metadata": {},
   "outputs": [
    {
     "name": "stdout",
     "output_type": "stream",
     "text": [
      "100 : 0.228 0.356 mae: 2.407\n",
      "10 : 0.526 0.626 mae: 1.761\n",
      "1 : 0.671 0.65 mae: 1.59\n",
      "0.1 : 0.7 0.607 mae: 1.587\n",
      "0.01 : 0.701 0.596 mae: 1.594\n",
      "0.001 : 0.701 0.595 mae: 1.594\n",
      "0.0001 : 0.701 0.595 mae: 1.594\n"
     ]
    }
   ],
   "source": [
    "# ridge\n",
    "alphas_finder(Ridge)"
   ]
  },
  {
   "cell_type": "code",
   "execution_count": 66,
   "id": "076326ad",
   "metadata": {},
   "outputs": [
    {
     "name": "stdout",
     "output_type": "stream",
     "text": [
      "Fold = 1, mae = 2.15\n",
      "Fold = 2, mae = 2.35\n",
      "Fold = 3, mae = 1.60\n",
      "Fold = 4, mae = 2.40\n",
      "Fold = 5, mae = 2.42\n",
      "------------------------------\n",
      "Average Error: 2.186019023173685\n",
      "------------------------------\n",
      "Fold = 1, mae = 1.64\n",
      "Fold = 2, mae = 1.85\n",
      "Fold = 3, mae = 1.35\n",
      "Fold = 4, mae = 2.12\n",
      "Fold = 5, mae = 1.89\n",
      "------------------------------\n",
      "Average Error: 1.7702208742985928\n",
      "------------------------------\n",
      "Fold = 1, mae = 1.42\n",
      "Fold = 2, mae = 1.67\n",
      "Fold = 3, mae = 1.21\n",
      "Fold = 4, mae = 1.86\n",
      "Fold = 5, mae = 1.66\n",
      "------------------------------\n",
      "Average Error: 1.5624336460907418\n",
      "------------------------------\n",
      "Fold = 1, mae = 1.35\n",
      "Fold = 2, mae = 1.64\n",
      "Fold = 3, mae = 1.27\n",
      "Fold = 4, mae = 1.76\n",
      "Fold = 5, mae = 1.53\n",
      "------------------------------\n",
      "Average Error: 1.5114636348538186\n",
      "------------------------------\n",
      "Fold = 1, mae = 1.34\n",
      "Fold = 2, mae = 1.63\n",
      "Fold = 3, mae = 1.31\n",
      "Fold = 4, mae = 1.74\n",
      "Fold = 5, mae = 1.52\n",
      "------------------------------\n",
      "Average Error: 1.5080236200795842\n",
      "------------------------------\n",
      "Fold = 1, mae = 1.34\n",
      "Fold = 2, mae = 1.63\n",
      "Fold = 3, mae = 1.32\n",
      "Fold = 4, mae = 1.74\n",
      "Fold = 5, mae = 1.51\n",
      "------------------------------\n",
      "Average Error: 1.508103628246072\n",
      "------------------------------\n",
      "Fold = 1, mae = 1.34\n",
      "Fold = 2, mae = 1.63\n",
      "Fold = 3, mae = 1.32\n",
      "Fold = 4, mae = 1.74\n",
      "Fold = 5, mae = 1.51\n",
      "------------------------------\n",
      "Average Error: 1.5081124222263838\n",
      "------------------------------\n"
     ]
    }
   ],
   "source": [
    "\n",
    "for i in [100, 10, 1, 0.1, 0.01, 0.001, 0.0001]:\n",
    "    ridge = Ridge(alpha=i)\n",
    "    mae_kfold(ridge)"
   ]
  },
  {
   "cell_type": "markdown",
   "id": "229dbbc3",
   "metadata": {},
   "source": [
    "## Lasso"
   ]
  },
  {
   "cell_type": "code",
   "execution_count": 67,
   "id": "00672d13",
   "metadata": {},
   "outputs": [
    {
     "name": "stdout",
     "output_type": "stream",
     "text": [
      "100 : 0.0 -0.006 mae: 2.978\n",
      "10 : 0.0 -0.006 mae: 2.978\n",
      "1 : 0.025 0.057 mae: 2.885\n",
      "0.1 : 0.57 0.649 mae: 1.664\n",
      "0.01 : 0.698 0.611 mae: 1.575\n",
      "0.001 : 0.701 0.596 mae: 1.593\n",
      "0.0001 : 0.701 0.595 mae: 1.594\n"
     ]
    }
   ],
   "source": [
    "# lasso\n",
    "alphas_finder(Lasso)"
   ]
  },
  {
   "cell_type": "code",
   "execution_count": 68,
   "id": "7d866653",
   "metadata": {},
   "outputs": [
    {
     "name": "stdout",
     "output_type": "stream",
     "text": [
      "Fold = 1, mae = 2.75\n",
      "Fold = 2, mae = 2.85\n",
      "Fold = 3, mae = 2.14\n",
      "Fold = 4, mae = 2.59\n",
      "Fold = 5, mae = 2.73\n",
      "------------------------------\n",
      "Average Error: 2.611714381914383\n",
      "------------------------------\n",
      "Fold = 1, mae = 2.75\n",
      "Fold = 2, mae = 2.85\n",
      "Fold = 3, mae = 2.14\n",
      "Fold = 4, mae = 2.59\n",
      "Fold = 5, mae = 2.73\n",
      "------------------------------\n",
      "Average Error: 2.611714381914383\n",
      "------------------------------\n",
      "Fold = 1, mae = 2.46\n",
      "Fold = 2, mae = 2.56\n",
      "Fold = 3, mae = 1.87\n",
      "Fold = 4, mae = 2.55\n",
      "Fold = 5, mae = 2.62\n",
      "------------------------------\n",
      "Average Error: 2.411959554247508\n",
      "------------------------------\n",
      "Fold = 1, mae = 1.56\n",
      "Fold = 2, mae = 1.78\n",
      "Fold = 3, mae = 1.30\n",
      "Fold = 4, mae = 2.15\n",
      "Fold = 5, mae = 1.90\n",
      "------------------------------\n",
      "Average Error: 1.736724143645679\n",
      "------------------------------\n",
      "Fold = 1, mae = 1.37\n",
      "Fold = 2, mae = 1.66\n",
      "Fold = 3, mae = 1.22\n",
      "Fold = 4, mae = 1.81\n",
      "Fold = 5, mae = 1.61\n",
      "------------------------------\n",
      "Average Error: 1.5314447427438291\n",
      "------------------------------\n",
      "Fold = 1, mae = 1.34\n",
      "Fold = 2, mae = 1.63\n",
      "Fold = 3, mae = 1.31\n",
      "Fold = 4, mae = 1.74\n",
      "Fold = 5, mae = 1.52\n",
      "------------------------------\n",
      "Average Error: 1.5094195134552422\n",
      "------------------------------\n",
      "Fold = 1, mae = 1.34\n",
      "Fold = 2, mae = 1.63\n",
      "Fold = 3, mae = 1.32\n",
      "Fold = 4, mae = 1.74\n",
      "Fold = 5, mae = 1.52\n",
      "------------------------------\n",
      "Average Error: 1.5082320182660935\n",
      "------------------------------\n"
     ]
    }
   ],
   "source": [
    "\n",
    "for i in [100, 10, 1, 0.1, 0.01, 0.001, 0.0001]:\n",
    "    lasso = Lasso(alpha=i)\n",
    "    mae_kfold(lasso)"
   ]
  },
  {
   "cell_type": "markdown",
   "id": "699c642b",
   "metadata": {},
   "source": [
    "## ElasticNet"
   ]
  },
  {
   "cell_type": "code",
   "execution_count": 69,
   "id": "a214258a",
   "metadata": {},
   "outputs": [
    {
     "name": "stdout",
     "output_type": "stream",
     "text": [
      "100 : 0.0 -0.006 mae: 2.978\n",
      "10 : 0.0 -0.006 mae: 2.978\n",
      "1 : 0.126 0.227 mae: 2.623\n",
      "0.1 : 0.549 0.638 mae: 1.718\n",
      "0.01 : 0.687 0.637 mae: 1.587\n",
      "0.001 : 0.701 0.601 mae: 1.591\n",
      "0.0001 : 0.701 0.595 mae: 1.594\n"
     ]
    }
   ],
   "source": [
    "alphas_finder(ElasticNet)"
   ]
  },
  {
   "cell_type": "code",
   "execution_count": 70,
   "id": "1f594038",
   "metadata": {},
   "outputs": [
    {
     "name": "stdout",
     "output_type": "stream",
     "text": [
      "Fold = 1, mae = 2.75\n",
      "Fold = 2, mae = 2.85\n",
      "Fold = 3, mae = 2.14\n",
      "Fold = 4, mae = 2.59\n",
      "Fold = 5, mae = 2.73\n",
      "------------------------------\n",
      "Average Error: 2.611714381914383\n",
      "------------------------------\n",
      "Fold = 1, mae = 2.75\n",
      "Fold = 2, mae = 2.85\n",
      "Fold = 3, mae = 2.14\n",
      "Fold = 4, mae = 2.59\n",
      "Fold = 5, mae = 2.73\n",
      "------------------------------\n",
      "Average Error: 2.611714381914383\n",
      "------------------------------\n",
      "Fold = 1, mae = 2.34\n",
      "Fold = 2, mae = 2.48\n",
      "Fold = 3, mae = 1.78\n",
      "Fold = 4, mae = 2.55\n",
      "Fold = 5, mae = 2.61\n",
      "------------------------------\n",
      "Average Error: 2.3545202184654435\n",
      "------------------------------\n",
      "Fold = 1, mae = 1.60\n",
      "Fold = 2, mae = 1.83\n",
      "Fold = 3, mae = 1.32\n",
      "Fold = 4, mae = 2.13\n",
      "Fold = 5, mae = 1.90\n",
      "------------------------------\n",
      "Average Error: 1.7577186677317187\n",
      "------------------------------\n",
      "Fold = 1, mae = 1.40\n",
      "Fold = 2, mae = 1.67\n",
      "Fold = 3, mae = 1.20\n",
      "Fold = 4, mae = 1.84\n",
      "Fold = 5, mae = 1.64\n",
      "------------------------------\n",
      "Average Error: 1.5502830414410353\n",
      "------------------------------\n",
      "Fold = 1, mae = 1.35\n",
      "Fold = 2, mae = 1.63\n",
      "Fold = 3, mae = 1.29\n",
      "Fold = 4, mae = 1.75\n",
      "Fold = 5, mae = 1.53\n",
      "------------------------------\n",
      "Average Error: 1.5098918601666254\n",
      "------------------------------\n",
      "Fold = 1, mae = 1.34\n",
      "Fold = 2, mae = 1.63\n",
      "Fold = 3, mae = 1.32\n",
      "Fold = 4, mae = 1.74\n",
      "Fold = 5, mae = 1.52\n",
      "------------------------------\n",
      "Average Error: 1.5081303158768955\n",
      "------------------------------\n"
     ]
    }
   ],
   "source": [
    "\n",
    "for i in [100, 10, 1, 0.1, 0.01, 0.001, 0.0001]:\n",
    "    elastic = ElasticNet(alpha=i)\n",
    "    mae_kfold(elastic)"
   ]
  },
  {
   "cell_type": "markdown",
   "id": "24200ae9",
   "metadata": {},
   "source": [
    "## XGboost"
   ]
  },
  {
   "cell_type": "code",
   "execution_count": 71,
   "id": "8b2cdb82",
   "metadata": {},
   "outputs": [
    {
     "name": "stdout",
     "output_type": "stream",
     "text": [
      "0.9999999261627908 0.6899261886089127 1.5486931053367832\n"
     ]
    }
   ],
   "source": [
    "#XG boost\n",
    "xgbr = XGBRegressor()\n",
    "xgbr.fit(X_train, y_train)\n",
    "print(xgbr.score(X_train, y_train), xgbr.score(X_test, y_test),mean_absolute_error(xgbr.predict(X_test), y_test))"
   ]
  },
  {
   "cell_type": "code",
   "execution_count": 72,
   "id": "b80af59b",
   "metadata": {},
   "outputs": [
    {
     "name": "stdout",
     "output_type": "stream",
     "text": [
      "Fold = 1, mae = 1.36\n",
      "Fold = 2, mae = 1.88\n",
      "Fold = 3, mae = 1.73\n",
      "Fold = 4, mae = 2.18\n",
      "Fold = 5, mae = 1.99\n",
      "------------------------------\n",
      "Average Error: 1.8276949030558267\n",
      "------------------------------\n"
     ]
    }
   ],
   "source": [
    "#XG boost교차검증\n",
    "mae_kfold(xgbr)"
   ]
  },
  {
   "cell_type": "code",
   "execution_count": 73,
   "id": "9cbd7528",
   "metadata": {},
   "outputs": [
    {
     "name": "stdout",
     "output_type": "stream",
     "text": [
      "0.9999999567863228 0.5401282505859426 1.973513134105786\n"
     ]
    }
   ],
   "source": [
    "#XG boost 튜닝\n",
    "xgbr = XGBRegressor(n_estimators = 400, learning_rate = 1, max_depth = 3, objective=\"reg:squarederror\")\n",
    "xgbr.fit(X_train, y_train)\n",
    "print(xgbr.score(X_train, y_train), xgbr.score(X_test, y_test),mean_absolute_error(xgbr.predict(X_test), y_test))"
   ]
  },
  {
   "cell_type": "code",
   "execution_count": 74,
   "id": "95242784",
   "metadata": {},
   "outputs": [
    {
     "name": "stdout",
     "output_type": "stream",
     "text": [
      "Fold = 1, mae = 1.74\n",
      "Fold = 2, mae = 1.63\n",
      "Fold = 3, mae = 1.98\n",
      "Fold = 4, mae = 2.24\n",
      "Fold = 5, mae = 1.72\n",
      "------------------------------\n",
      "Average Error: 1.8625294036865234\n",
      "------------------------------\n"
     ]
    }
   ],
   "source": [
    "#XG boost교차검증\n",
    "mae_kfold(xgbr)"
   ]
  },
  {
   "cell_type": "markdown",
   "id": "770fef44",
   "metadata": {},
   "source": [
    "## lightgbm"
   ]
  },
  {
   "cell_type": "code",
   "execution_count": 75,
   "id": "cd58493f",
   "metadata": {},
   "outputs": [
    {
     "name": "stdout",
     "output_type": "stream",
     "text": [
      "0.7811769298194187 0.5947940721677121 1.806741690500754\n"
     ]
    }
   ],
   "source": [
    "#lightgbm\n",
    "lgbm = LGBMRegressor()\n",
    "lgbm.fit(X_train, y_train)\n",
    "print(lgbm.score(X_train, y_train), lgbm.score(X_test, y_test),mean_absolute_error(lgbm.predict(X_test), y_test))"
   ]
  },
  {
   "cell_type": "code",
   "execution_count": 76,
   "id": "9cfd5e32",
   "metadata": {},
   "outputs": [
    {
     "name": "stdout",
     "output_type": "stream",
     "text": [
      "Fold = 1, mae = 1.37\n",
      "Fold = 2, mae = 1.79\n",
      "Fold = 3, mae = 1.45\n",
      "Fold = 4, mae = 2.37\n",
      "Fold = 5, mae = 1.87\n",
      "------------------------------\n",
      "Average Error: 1.7715930929657837\n",
      "------------------------------\n"
     ]
    }
   ],
   "source": [
    "#lightgbm교차검증\n",
    "mae_kfold(lgbm)"
   ]
  },
  {
   "cell_type": "code",
   "execution_count": 77,
   "id": "d737326f",
   "metadata": {},
   "outputs": [
    {
     "name": "stdout",
     "output_type": "stream",
     "text": [
      "학습 결과 :  0.5888050140722747\n",
      "테스트 결과 :  0.6397102648333669\n",
      "테스트 결과 :  1.639417499633808\n"
     ]
    }
   ],
   "source": [
    "#SVR\n",
    "svr = SVR(kernel=\"linear\")\n",
    "svr.fit(X_train, y_train)\n",
    "\n",
    "print(\"학습 결과 : \", svr.score(X_train, y_train))\n",
    "print(\"테스트 결과 : \", svr.score(X_test, y_test))\n",
    "print(\"테스트 결과 : \", mean_absolute_error(svr.predict(X_test), y_test))"
   ]
  },
  {
   "cell_type": "code",
   "execution_count": 78,
   "id": "6bcd71f5",
   "metadata": {},
   "outputs": [
    {
     "name": "stdout",
     "output_type": "stream",
     "text": [
      "Fold = 1, mae = 1.56\n",
      "Fold = 2, mae = 1.66\n",
      "Fold = 3, mae = 1.31\n",
      "Fold = 4, mae = 1.97\n",
      "Fold = 5, mae = 1.59\n",
      "------------------------------\n",
      "Average Error: 1.6186989191486454\n",
      "------------------------------\n"
     ]
    }
   ],
   "source": [
    "mae_kfold(svr)"
   ]
  },
  {
   "cell_type": "code",
   "execution_count": null,
   "id": "2e807448",
   "metadata": {},
   "outputs": [],
   "source": []
  },
  {
   "cell_type": "code",
   "execution_count": null,
   "id": "057de3ea",
   "metadata": {},
   "outputs": [],
   "source": []
  },
  {
   "cell_type": "code",
   "execution_count": null,
   "id": "e43d65db",
   "metadata": {},
   "outputs": [],
   "source": []
  },
  {
   "cell_type": "code",
   "execution_count": null,
   "id": "e48c5467",
   "metadata": {},
   "outputs": [],
   "source": []
  }
 ],
 "metadata": {
  "kernelspec": {
   "display_name": "Python 3",
   "language": "python",
   "name": "python3"
  },
  "language_info": {
   "codemirror_mode": {
    "name": "ipython",
    "version": 3
   },
   "file_extension": ".py",
   "mimetype": "text/x-python",
   "name": "python",
   "nbconvert_exporter": "python",
   "pygments_lexer": "ipython3",
   "version": "3.8.5"
  }
 },
 "nbformat": 4,
 "nbformat_minor": 5
}
