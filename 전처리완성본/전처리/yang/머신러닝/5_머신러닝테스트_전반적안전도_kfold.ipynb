{
 "cells": [
  {
   "cell_type": "markdown",
   "id": "4e545a02",
   "metadata": {},
   "source": [
    "# 결과\n",
    "\n",
    "+ best(mae:   1.35) : non-scaling ridge(alpha = 100)이 가장 결과가 좋았다\n",
    "+ R에서 뽑은 변수들만 출력 :10개\n",
    "\n",
    "[\"crm_wthr_흐림\",\"crm_clue_타인신고\",\"crm_clue_피해자신고\",\"crm_clue_현행범\",\"crm_tm_저녁\",\"화재_사망\",\"배치인원_수\",\"비상벨_개수\",\"기초수급_19세이하\",\"외국인수\", \"score_전반\"]"
   ]
  },
  {
   "cell_type": "code",
   "execution_count": 1,
   "id": "4173d3e0",
   "metadata": {},
   "outputs": [],
   "source": [
    "import pandas as pd\n",
    "\n",
    "#그래프에 한글 표현하기\n",
    "import  matplotlib.pyplot as plt\n",
    "import  matplotlib.font_manager as fm\n",
    "import  matplotlib.font_manager as fm\n",
    "font_name = fm.FontProperties(fname = \"C:/Windows/Fonts/malgun.ttf\").get_name()\n",
    "plt.rc(\"font\", family = font_name)\n",
    "\n",
    "\n",
    "\n",
    "#마이너스 표시하기\n",
    "import  matplotlib as mlp\n",
    "mlp.rcParams[\"axes.unicode_minus\"]  = False\n",
    "\n",
    "import numpy as np\n",
    "import pandas  as pd\n",
    "import seaborn as sns\n",
    "##회귀분석\n",
    "import statsmodels.api as sm\n",
    "# 정규화\n",
    "from sklearn.preprocessing import MinMaxScaler\n",
    "from sklearn.preprocessing import StandardScaler\n",
    "from sklearn.preprocessing import RobustScaler\n",
    "from sklearn.feature_selection import  RFE\n",
    "from lightgbm import LGBMClassifier,  LGBMRegressor\n",
    "from lightgbm import plot_importance, plot_metric, plot_tree\n",
    "from sklearn.linear_model import Ridge\n",
    "from sklearn.linear_model import Lasso\n",
    "from sklearn.svm import SVR, SVC\n",
    "import multiprocessing \n",
    "from sklearn.pipeline import make_pipeline, Pipeline\n",
    "from sklearn.manifold import TSNE\n",
    "from sklearn.model_selection import train_test_split\n",
    "from sklearn.linear_model import  LinearRegression\n",
    "from scipy import stats\n",
    "#사용법이 파이선과 다른 기존xgb를  파이선에 맞게 만들어 놓은 것\n",
    "from  xgboost import XGBClassifier, XGBRegressor\n",
    "from sklearn.linear_model import ElasticNet\n",
    "from sklearn.preprocessing import RobustScaler\n",
    "\n",
    "#변수영향도 그래프, 트리그래프 더 쉽게 그리게 해줌\n",
    "from xgboost import plot_importance, plot_tree\n",
    "\n",
    "from sklearn.metrics import mean_absolute_error, mean_squared_error"
   ]
  },
  {
   "cell_type": "code",
   "execution_count": 2,
   "id": "c50a9146",
   "metadata": {
    "scrolled": true
   },
   "outputs": [],
   "source": [
    "df = pd.read_csv(\"../완성본_안전도_회귀분석/5_전반적안전도.csv\")"
   ]
  },
  {
   "cell_type": "code",
   "execution_count": null,
   "id": "38b06c68",
   "metadata": {},
   "outputs": [],
   "source": [
    "# 변수8개, 설명력 0.619\n",
    "# score_전반~+crm_wthr_흐림+crm_clue_피해자신고+crm_clue_현행범+crm_tm_저녁\n",
    "#           +배치인원_수+비상벨_개수+기초수급_19세이하\n",
    "#           +외국인수"
   ]
  },
  {
   "cell_type": "code",
   "execution_count": null,
   "id": "73ce8e02",
   "metadata": {},
   "outputs": [],
   "source": [
    "# 변수10개, 설명력 0.661\n",
    "# score_전반~+crm_wthr_흐림+crm_clue_타인신고+crm_clue_피해자신고\n",
    "#           +crm_clue_현행범+crm_tm_저녁\n",
    "#           +화재_사망+배치인원_수+비상벨_개수+기초수급_19세이하+외국인수"
   ]
  },
  {
   "cell_type": "code",
   "execution_count": 44,
   "id": "92f08358",
   "metadata": {},
   "outputs": [],
   "source": [
    "# #R에서 뽑은 변수들만 출력 :10개\n",
    "# df = df[[\"crm_wthr_흐림\",\"crm_clue_피해자신고\",\"crm_clue_현행범\",\"crm_tm_저녁\",\"배치인원_수\",\n",
    "#         \"비상벨_개수\",\"기초수급_19세이하\",\"외국인수\", \"score_전반\"]]"
   ]
  },
  {
   "cell_type": "code",
   "execution_count": 3,
   "id": "e202bf97",
   "metadata": {},
   "outputs": [],
   "source": [
    "#R에서 뽑은 변수들만 출력 :10개\n",
    "# crm_clue_피해품발견,crm_tm_오후,화재_동산피해_천원, 화재_재산피해_건당천원, 일인가구수\n",
    "df = df[[\"crm_wthr_흐림\",\"crm_clue_타인신고\",\"crm_clue_피해자신고\",\"crm_clue_현행범\",\"crm_tm_저녁\",\"화재_사망\",\"배치인원_수\",\n",
    "        \"비상벨_개수\",\"기초수급_19세이하\",\"외국인수\", \"score_전반\"]]"
   ]
  },
  {
   "cell_type": "code",
   "execution_count": 4,
   "id": "55f207ca",
   "metadata": {},
   "outputs": [
    {
     "data": {
      "text/html": [
       "<div>\n",
       "<style scoped>\n",
       "    .dataframe tbody tr th:only-of-type {\n",
       "        vertical-align: middle;\n",
       "    }\n",
       "\n",
       "    .dataframe tbody tr th {\n",
       "        vertical-align: top;\n",
       "    }\n",
       "\n",
       "    .dataframe thead th {\n",
       "        text-align: right;\n",
       "    }\n",
       "</style>\n",
       "<table border=\"1\" class=\"dataframe\">\n",
       "  <thead>\n",
       "    <tr style=\"text-align: right;\">\n",
       "      <th></th>\n",
       "      <th>crm_wthr_흐림</th>\n",
       "      <th>crm_clue_타인신고</th>\n",
       "      <th>crm_clue_피해자신고</th>\n",
       "      <th>crm_clue_현행범</th>\n",
       "      <th>crm_tm_저녁</th>\n",
       "      <th>화재_사망</th>\n",
       "      <th>배치인원_수</th>\n",
       "      <th>비상벨_개수</th>\n",
       "      <th>기초수급_19세이하</th>\n",
       "      <th>외국인수</th>\n",
       "      <th>score_전반</th>\n",
       "    </tr>\n",
       "  </thead>\n",
       "  <tbody>\n",
       "    <tr>\n",
       "      <th>0</th>\n",
       "      <td>131.0</td>\n",
       "      <td>1275.0</td>\n",
       "      <td>8383.0</td>\n",
       "      <td>1449.0</td>\n",
       "      <td>5317.0</td>\n",
       "      <td>2</td>\n",
       "      <td>395</td>\n",
       "      <td>5.0</td>\n",
       "      <td>39101</td>\n",
       "      <td>15295</td>\n",
       "      <td>74.40</td>\n",
       "    </tr>\n",
       "    <tr>\n",
       "      <th>1</th>\n",
       "      <td>150.0</td>\n",
       "      <td>768.0</td>\n",
       "      <td>4526.0</td>\n",
       "      <td>881.0</td>\n",
       "      <td>3356.0</td>\n",
       "      <td>1</td>\n",
       "      <td>258</td>\n",
       "      <td>1.0</td>\n",
       "      <td>39101</td>\n",
       "      <td>24040</td>\n",
       "      <td>68.50</td>\n",
       "    </tr>\n",
       "    <tr>\n",
       "      <th>2</th>\n",
       "      <td>94.0</td>\n",
       "      <td>650.0</td>\n",
       "      <td>5755.0</td>\n",
       "      <td>1610.0</td>\n",
       "      <td>4258.0</td>\n",
       "      <td>0</td>\n",
       "      <td>333</td>\n",
       "      <td>8.0</td>\n",
       "      <td>39101</td>\n",
       "      <td>18967</td>\n",
       "      <td>70.85</td>\n",
       "    </tr>\n",
       "    <tr>\n",
       "      <th>3</th>\n",
       "      <td>26.0</td>\n",
       "      <td>315.0</td>\n",
       "      <td>1980.0</td>\n",
       "      <td>397.0</td>\n",
       "      <td>1729.0</td>\n",
       "      <td>2</td>\n",
       "      <td>185</td>\n",
       "      <td>11.0</td>\n",
       "      <td>54889</td>\n",
       "      <td>4184</td>\n",
       "      <td>70.75</td>\n",
       "    </tr>\n",
       "    <tr>\n",
       "      <th>4</th>\n",
       "      <td>62.0</td>\n",
       "      <td>325.0</td>\n",
       "      <td>1659.0</td>\n",
       "      <td>177.0</td>\n",
       "      <td>1292.0</td>\n",
       "      <td>0</td>\n",
       "      <td>142</td>\n",
       "      <td>12.0</td>\n",
       "      <td>54889</td>\n",
       "      <td>3268</td>\n",
       "      <td>74.45</td>\n",
       "    </tr>\n",
       "    <tr>\n",
       "      <th>...</th>\n",
       "      <td>...</td>\n",
       "      <td>...</td>\n",
       "      <td>...</td>\n",
       "      <td>...</td>\n",
       "      <td>...</td>\n",
       "      <td>...</td>\n",
       "      <td>...</td>\n",
       "      <td>...</td>\n",
       "      <td>...</td>\n",
       "      <td>...</td>\n",
       "      <td>...</td>\n",
       "    </tr>\n",
       "    <tr>\n",
       "      <th>118</th>\n",
       "      <td>52.0</td>\n",
       "      <td>245.0</td>\n",
       "      <td>1758.0</td>\n",
       "      <td>444.0</td>\n",
       "      <td>1001.0</td>\n",
       "      <td>0</td>\n",
       "      <td>176</td>\n",
       "      <td>499.0</td>\n",
       "      <td>31361</td>\n",
       "      <td>7111</td>\n",
       "      <td>74.60</td>\n",
       "    </tr>\n",
       "    <tr>\n",
       "      <th>119</th>\n",
       "      <td>127.0</td>\n",
       "      <td>633.0</td>\n",
       "      <td>4801.0</td>\n",
       "      <td>1136.0</td>\n",
       "      <td>2629.0</td>\n",
       "      <td>1</td>\n",
       "      <td>406</td>\n",
       "      <td>1778.0</td>\n",
       "      <td>46485</td>\n",
       "      <td>9785</td>\n",
       "      <td>68.75</td>\n",
       "    </tr>\n",
       "    <tr>\n",
       "      <th>120</th>\n",
       "      <td>113.0</td>\n",
       "      <td>251.0</td>\n",
       "      <td>2438.0</td>\n",
       "      <td>786.0</td>\n",
       "      <td>1328.0</td>\n",
       "      <td>3</td>\n",
       "      <td>236</td>\n",
       "      <td>339.0</td>\n",
       "      <td>6833</td>\n",
       "      <td>11496</td>\n",
       "      <td>73.05</td>\n",
       "    </tr>\n",
       "    <tr>\n",
       "      <th>121</th>\n",
       "      <td>50.0</td>\n",
       "      <td>262.0</td>\n",
       "      <td>1571.0</td>\n",
       "      <td>642.0</td>\n",
       "      <td>981.0</td>\n",
       "      <td>4</td>\n",
       "      <td>213</td>\n",
       "      <td>42.0</td>\n",
       "      <td>5756</td>\n",
       "      <td>10641</td>\n",
       "      <td>71.75</td>\n",
       "    </tr>\n",
       "    <tr>\n",
       "      <th>122</th>\n",
       "      <td>26.0</td>\n",
       "      <td>637.0</td>\n",
       "      <td>1972.0</td>\n",
       "      <td>115.0</td>\n",
       "      <td>1155.0</td>\n",
       "      <td>0</td>\n",
       "      <td>178</td>\n",
       "      <td>39.0</td>\n",
       "      <td>16060</td>\n",
       "      <td>9814</td>\n",
       "      <td>76.35</td>\n",
       "    </tr>\n",
       "  </tbody>\n",
       "</table>\n",
       "<p>123 rows × 11 columns</p>\n",
       "</div>"
      ],
      "text/plain": [
       "     crm_wthr_흐림  crm_clue_타인신고  crm_clue_피해자신고  crm_clue_현행범  crm_tm_저녁  \\\n",
       "0          131.0         1275.0          8383.0        1449.0     5317.0   \n",
       "1          150.0          768.0          4526.0         881.0     3356.0   \n",
       "2           94.0          650.0          5755.0        1610.0     4258.0   \n",
       "3           26.0          315.0          1980.0         397.0     1729.0   \n",
       "4           62.0          325.0          1659.0         177.0     1292.0   \n",
       "..           ...            ...             ...           ...        ...   \n",
       "118         52.0          245.0          1758.0         444.0     1001.0   \n",
       "119        127.0          633.0          4801.0        1136.0     2629.0   \n",
       "120        113.0          251.0          2438.0         786.0     1328.0   \n",
       "121         50.0          262.0          1571.0         642.0      981.0   \n",
       "122         26.0          637.0          1972.0         115.0     1155.0   \n",
       "\n",
       "     화재_사망  배치인원_수  비상벨_개수  기초수급_19세이하   외국인수  score_전반  \n",
       "0        2     395     5.0       39101  15295     74.40  \n",
       "1        1     258     1.0       39101  24040     68.50  \n",
       "2        0     333     8.0       39101  18967     70.85  \n",
       "3        2     185    11.0       54889   4184     70.75  \n",
       "4        0     142    12.0       54889   3268     74.45  \n",
       "..     ...     ...     ...         ...    ...       ...  \n",
       "118      0     176   499.0       31361   7111     74.60  \n",
       "119      1     406  1778.0       46485   9785     68.75  \n",
       "120      3     236   339.0        6833  11496     73.05  \n",
       "121      4     213    42.0        5756  10641     71.75  \n",
       "122      0     178    39.0       16060   9814     76.35  \n",
       "\n",
       "[123 rows x 11 columns]"
      ]
     },
     "execution_count": 4,
     "metadata": {},
     "output_type": "execute_result"
    }
   ],
   "source": [
    "df"
   ]
  },
  {
   "cell_type": "code",
   "execution_count": 13,
   "id": "df64ae64",
   "metadata": {},
   "outputs": [
    {
     "data": {
      "text/plain": [
       "<AxesSubplot:>"
      ]
     },
     "execution_count": 13,
     "metadata": {},
     "output_type": "execute_result"
    },
    {
     "data": {
      "image/png": "[encoded data removed]",
      "text/plain": [
       "<Figure size 864x504 with 1 Axes>"
      ]
     },
     "metadata": {
      "needs_background": "light"
     },
     "output_type": "display_data"
    }
   ],
   "source": [
    "#이상치 확인\n",
    "#극단값을  갖는  모습을 볼 수 있다 ->robustscale하면  좋을  듯  하다\n",
    "plt.figure(figsize = (12,7))\n",
    "sns.boxplot(data = df.iloc[:,:-1])"
   ]
  },
  {
   "cell_type": "markdown",
   "id": "eb7b5c84",
   "metadata": {},
   "source": [
    "# 설명력 보기위한 모델링"
   ]
  },
  {
   "cell_type": "code",
   "execution_count": 8,
   "id": "10d6ed64",
   "metadata": {},
   "outputs": [],
   "source": [
    "# train, test 분리\n",
    "X_train, X_test, y_train, y_test  = train_test_split(df.iloc[:,:-1], df[\"score_전반\"],test_size = 0.3, random_state=0)"
   ]
  },
  {
   "cell_type": "markdown",
   "id": "8f2141f9",
   "metadata": {},
   "source": [
    "# ridge, lasso, elasticnet을 위한 alpha값 찾기 함수"
   ]
  },
  {
   "cell_type": "code",
   "execution_count": 4,
   "id": "da669fc8",
   "metadata": {},
   "outputs": [],
   "source": [
    "def alphas_finder(model):\n",
    "    alphas = [100, 10, 1, 0.1, 0.01, 0.001, 0.0001]\n",
    "    for alpha in alphas:\n",
    "        modeling = model(alpha=alpha)\n",
    "        modeling.fit(X_train, y_train)\n",
    "        print(alpha , \":\" ,round(modeling.score(X_train, y_train),3)\n",
    "              , round(modeling.score(X_test, y_test),3)\n",
    "              ,\"mae:\",round(mean_absolute_error(modeling.predict(X_test), y_test),3))    "
   ]
  },
  {
   "cell_type": "markdown",
   "id": "3216fd54",
   "metadata": {},
   "source": [
    "# 교차검증"
   ]
  },
  {
   "cell_type": "code",
   "execution_count": 9,
   "id": "0c67695c",
   "metadata": {},
   "outputs": [],
   "source": [
    "X = np.array(df.drop('score_전반', 1))\n",
    "Y = np.array(df['score_전반'])"
   ]
  },
  {
   "cell_type": "code",
   "execution_count": 5,
   "id": "1858c12a",
   "metadata": {},
   "outputs": [],
   "source": [
    "from sklearn.model_selection import KFold\n",
    "\n",
    "#kfold 설정\n",
    "n_splits = 5\n",
    "kfold = KFold(n_splits=n_splits, shuffle=True,random_state=0)\n",
    "\n",
    "#mae kfold 교차검증 함수\n",
    "def mae_kfold(model):\n",
    "    i = 1\n",
    "    total_error = 0\n",
    "    for train_index, test_index in kfold.split(X):\n",
    "        x_train_fold, x_test_fold = X[train_index], X[test_index]\n",
    "        y_train_fold, y_test_fold = Y[train_index], Y[test_index]\n",
    "        model_pred_fold = model.fit(x_train_fold, y_train_fold).predict(x_test_fold)\n",
    "        error = mean_absolute_error(model_pred_fold, y_test_fold)\n",
    "        print('Fold = {}, mae = {:.2f}'.format(i, error))\n",
    "        total_error += error\n",
    "        i+=1\n",
    "    print('---'*10)\n",
    "    print('Average Error: %s' % (total_error / n_splits))\n",
    "    print('---'*10)"
   ]
  },
  {
   "cell_type": "markdown",
   "id": "cb94a629",
   "metadata": {},
   "source": [
    "# 모델링"
   ]
  },
  {
   "cell_type": "markdown",
   "id": "a51f61bf",
   "metadata": {},
   "source": [
    "## 1. None scaling"
   ]
  },
  {
   "cell_type": "code",
   "execution_count": 9,
   "id": "87818569",
   "metadata": {},
   "outputs": [
    {
     "name": "stdout",
     "output_type": "stream",
     "text": [
      "0.7154950311375576 0.5239761926355002 1.4686457591910482\n"
     ]
    }
   ],
   "source": [
    "#다중회귀\n",
    "lr = LinearRegression()\n",
    "lr.fit(X_train, y_train)\n",
    "print(lr.score(X_train, y_train), lr.score(X_test, y_test),mean_absolute_error(lr.predict(X_test), y_test))"
   ]
  },
  {
   "cell_type": "code",
   "execution_count": 10,
   "id": "eb2753ad",
   "metadata": {},
   "outputs": [
    {
     "name": "stdout",
     "output_type": "stream",
     "text": [
      "Fold = 1, mae = 1.40\n",
      "Fold = 2, mae = 1.45\n",
      "Fold = 3, mae = 1.32\n",
      "Fold = 4, mae = 1.63\n",
      "Fold = 5, mae = 1.04\n",
      "------------------------------\n",
      "Average Error: 1.3680821692486087\n",
      "------------------------------\n"
     ]
    }
   ],
   "source": [
    "# 다중회귀  교차검증\n",
    "mae_kfold(lr)"
   ]
  },
  {
   "cell_type": "markdown",
   "id": "3e747078",
   "metadata": {},
   "source": [
    "## ridge"
   ]
  },
  {
   "cell_type": "code",
   "execution_count": 8,
   "id": "6e633b62",
   "metadata": {},
   "outputs": [
    {
     "name": "stdout",
     "output_type": "stream",
     "text": [
      "100 : 0.711 0.576 mae: 1.444\n",
      "10 : 0.715 0.532 mae: 1.465\n",
      "1 : 0.715 0.525 mae: 1.468\n",
      "0.1 : 0.715 0.524 mae: 1.469\n",
      "0.01 : 0.715 0.524 mae: 1.469\n",
      "0.001 : 0.715 0.524 mae: 1.469\n",
      "0.0001 : 0.715 0.524 mae: 1.469\n"
     ]
    }
   ],
   "source": [
    "# ridge\n",
    "alphas_finder(Ridge)"
   ]
  },
  {
   "cell_type": "code",
   "execution_count": 9,
   "id": "076326ad",
   "metadata": {},
   "outputs": [
    {
     "name": "stdout",
     "output_type": "stream",
     "text": [
      "Fold = 1, mae = 1.42\n",
      "Fold = 2, mae = 1.33\n",
      "Fold = 3, mae = 1.32\n",
      "Fold = 4, mae = 1.64\n",
      "Fold = 5, mae = 1.05\n",
      "------------------------------\n",
      "Average Error: 1.3526787493256909\n",
      "------------------------------\n",
      "Fold = 1, mae = 1.41\n",
      "Fold = 2, mae = 1.43\n",
      "Fold = 3, mae = 1.32\n",
      "Fold = 4, mae = 1.63\n",
      "Fold = 5, mae = 1.04\n",
      "------------------------------\n",
      "Average Error: 1.365774281103262\n",
      "------------------------------\n",
      "Fold = 1, mae = 1.40\n",
      "Fold = 2, mae = 1.45\n",
      "Fold = 3, mae = 1.32\n",
      "Fold = 4, mae = 1.63\n",
      "Fold = 5, mae = 1.04\n",
      "------------------------------\n",
      "Average Error: 1.3678444966954344\n",
      "------------------------------\n",
      "Fold = 1, mae = 1.40\n",
      "Fold = 2, mae = 1.45\n",
      "Fold = 3, mae = 1.32\n",
      "Fold = 4, mae = 1.63\n",
      "Fold = 5, mae = 1.04\n",
      "------------------------------\n",
      "Average Error: 1.3680583309353023\n",
      "------------------------------\n",
      "Fold = 1, mae = 1.40\n",
      "Fold = 2, mae = 1.45\n",
      "Fold = 3, mae = 1.32\n",
      "Fold = 4, mae = 1.63\n",
      "Fold = 5, mae = 1.04\n",
      "------------------------------\n",
      "Average Error: 1.3680797847044022\n",
      "------------------------------\n",
      "Fold = 1, mae = 1.40\n",
      "Fold = 2, mae = 1.45\n",
      "Fold = 3, mae = 1.32\n",
      "Fold = 4, mae = 1.63\n",
      "Fold = 5, mae = 1.04\n",
      "------------------------------\n",
      "Average Error: 1.3680819307870533\n",
      "------------------------------\n",
      "Fold = 1, mae = 1.40\n",
      "Fold = 2, mae = 1.45\n",
      "Fold = 3, mae = 1.32\n",
      "Fold = 4, mae = 1.63\n",
      "Fold = 5, mae = 1.04\n",
      "------------------------------\n",
      "Average Error: 1.3680821454023782\n",
      "------------------------------\n"
     ]
    }
   ],
   "source": [
    "#best: 1.35\n",
    "for i in [100, 10, 1, 0.1, 0.01, 0.001, 0.0001]:\n",
    "    ridge = Ridge(alpha=i)\n",
    "    mae_kfold(ridge)"
   ]
  },
  {
   "cell_type": "code",
   "execution_count": 10,
   "id": "fbd1c736",
   "metadata": {},
   "outputs": [
    {
     "data": {
      "text/plain": [
       "Ridge(alpha=100)"
      ]
     },
     "execution_count": 10,
     "metadata": {},
     "output_type": "execute_result"
    }
   ],
   "source": [
    "ridge = Ridge(alpha=100)\n",
    "ridge.fit(X_train, y_train)"
   ]
  },
  {
   "cell_type": "code",
   "execution_count": 11,
   "id": "1a7c2b2b",
   "metadata": {},
   "outputs": [],
   "source": [
    "def plot_coef(columns, coef):\n",
    "    coef_df = pd.DataFrame(list(zip(columns, coef)))\n",
    "    coef_df.columns=['feature', 'coef']\n",
    "    coef_df = coef_df.sort_values('coef').reset_index(drop=True)\n",
    "    \n",
    "    fig, ax = plt.subplots(figsize=(7, 5))\n",
    "    ax.barh(np.arange(len(coef_df)), coef_df['coef'], color = \"orange\", alpha = 0.8)\n",
    "    idx = np.arange(len(coef_df))\n",
    "    ax.set_yticks(idx)\n",
    "    ax.set_yticklabels(coef_df['feature'])\n",
    "    fig.tight_layout()\n",
    "    \n",
    "    #plt.show()\n",
    "    "
   ]
  },
  {
   "cell_type": "code",
   "execution_count": 12,
   "id": "d489543b",
   "metadata": {},
   "outputs": [
    {
     "data": {
      "image/png": "[encoded data removed]",
      "text/plain": [
       "<Figure size 504x360 with 1 Axes>"
      ]
     },
     "metadata": {
      "needs_background": "light"
     },
     "output_type": "display_data"
    }
   ],
   "source": [
    "plot_coef(X_train.columns, np.ravel(ridge.coef_) )\n",
    "plt.savefig('../이미지/변수영향도_전반적안전도.png', dpi=200,bbox_inches='tight')"
   ]
  },
  {
   "cell_type": "code",
   "execution_count": null,
   "id": "71298fae",
   "metadata": {},
   "outputs": [],
   "source": []
  },
  {
   "cell_type": "markdown",
   "id": "229dbbc3",
   "metadata": {},
   "source": [
    "## Lasso"
   ]
  },
  {
   "cell_type": "code",
   "execution_count": 13,
   "id": "00672d13",
   "metadata": {},
   "outputs": [
    {
     "name": "stdout",
     "output_type": "stream",
     "text": [
      "100 : 0.478 0.62 mae: 1.444\n",
      "10 : 0.623 0.672 mae: 1.347\n",
      "1 : 0.677 0.633 mae: 1.406\n",
      "0.1 : 0.715 0.541 mae: 1.461\n",
      "0.01 : 0.715 0.526 mae: 1.468\n",
      "0.001 : 0.715 0.524 mae: 1.469\n",
      "0.0001 : 0.715 0.524 mae: 1.469\n"
     ]
    }
   ],
   "source": [
    "# lasso\n",
    "alphas_finder(Lasso)"
   ]
  },
  {
   "cell_type": "code",
   "execution_count": 14,
   "id": "7d866653",
   "metadata": {},
   "outputs": [
    {
     "name": "stdout",
     "output_type": "stream",
     "text": [
      "Fold = 1, mae = 1.43\n",
      "Fold = 2, mae = 1.38\n",
      "Fold = 3, mae = 1.68\n",
      "Fold = 4, mae = 2.01\n",
      "Fold = 5, mae = 1.77\n",
      "------------------------------\n",
      "Average Error: 1.655159036491312\n",
      "------------------------------\n",
      "Fold = 1, mae = 1.36\n",
      "Fold = 2, mae = 1.14\n",
      "Fold = 3, mae = 1.64\n",
      "Fold = 4, mae = 1.74\n",
      "Fold = 5, mae = 1.27\n",
      "------------------------------\n",
      "Average Error: 1.4303619057439554\n",
      "------------------------------\n",
      "Fold = 1, mae = 1.47\n",
      "Fold = 2, mae = 1.14\n",
      "Fold = 3, mae = 1.45\n",
      "Fold = 4, mae = 1.70\n",
      "Fold = 5, mae = 1.12\n",
      "------------------------------\n",
      "Average Error: 1.3751943778931919\n",
      "------------------------------\n",
      "Fold = 1, mae = 1.41\n",
      "Fold = 2, mae = 1.41\n",
      "Fold = 3, mae = 1.32\n",
      "Fold = 4, mae = 1.64\n",
      "Fold = 5, mae = 1.05\n",
      "------------------------------\n",
      "Average Error: 1.3662934371178501\n",
      "------------------------------\n",
      "Fold = 1, mae = 1.40\n",
      "Fold = 2, mae = 1.45\n",
      "Fold = 3, mae = 1.32\n",
      "Fold = 4, mae = 1.63\n",
      "Fold = 5, mae = 1.04\n",
      "------------------------------\n",
      "Average Error: 1.3678387115130277\n",
      "------------------------------\n",
      "Fold = 1, mae = 1.40\n",
      "Fold = 2, mae = 1.45\n",
      "Fold = 3, mae = 1.32\n",
      "Fold = 4, mae = 1.63\n",
      "Fold = 5, mae = 1.04\n",
      "------------------------------\n",
      "Average Error: 1.3680578202817835\n",
      "------------------------------\n",
      "Fold = 1, mae = 1.40\n",
      "Fold = 2, mae = 1.45\n",
      "Fold = 3, mae = 1.32\n",
      "Fold = 4, mae = 1.63\n",
      "Fold = 5, mae = 1.04\n",
      "------------------------------\n",
      "Average Error: 1.3680797338606052\n",
      "------------------------------\n"
     ]
    }
   ],
   "source": [
    "for i in [100, 10, 1, 0.1, 0.01, 0.001, 0.0001]:\n",
    "    lasso = Lasso(alpha=i)\n",
    "    mae_kfold(lasso)"
   ]
  },
  {
   "cell_type": "markdown",
   "id": "699c642b",
   "metadata": {},
   "source": [
    "## ElasticNet"
   ]
  },
  {
   "cell_type": "code",
   "execution_count": 15,
   "id": "a214258a",
   "metadata": {},
   "outputs": [
    {
     "name": "stdout",
     "output_type": "stream",
     "text": [
      "100 : 0.515 0.65 mae: 1.357\n",
      "10 : 0.637 0.658 mae: 1.36\n",
      "1 : 0.701 0.606 mae: 1.424\n",
      "0.1 : 0.715 0.536 mae: 1.463\n",
      "0.01 : 0.715 0.525 mae: 1.468\n",
      "0.001 : 0.715 0.524 mae: 1.469\n",
      "0.0001 : 0.715 0.524 mae: 1.469\n"
     ]
    }
   ],
   "source": [
    "alphas_finder(ElasticNet)"
   ]
  },
  {
   "cell_type": "code",
   "execution_count": 16,
   "id": "1f594038",
   "metadata": {},
   "outputs": [
    {
     "name": "stdout",
     "output_type": "stream",
     "text": [
      "Fold = 1, mae = 1.35\n",
      "Fold = 2, mae = 1.31\n",
      "Fold = 3, mae = 1.75\n",
      "Fold = 4, mae = 1.97\n",
      "Fold = 5, mae = 1.57\n",
      "------------------------------\n",
      "Average Error: 1.591741140162347\n",
      "------------------------------\n",
      "Fold = 1, mae = 1.40\n",
      "Fold = 2, mae = 1.07\n",
      "Fold = 3, mae = 1.53\n",
      "Fold = 4, mae = 1.70\n",
      "Fold = 5, mae = 1.17\n",
      "------------------------------\n",
      "Average Error: 1.376515593237831\n",
      "------------------------------\n",
      "Fold = 1, mae = 1.44\n",
      "Fold = 2, mae = 1.25\n",
      "Fold = 3, mae = 1.38\n",
      "Fold = 4, mae = 1.70\n",
      "Fold = 5, mae = 1.07\n",
      "------------------------------\n",
      "Average Error: 1.3671208584231291\n",
      "------------------------------\n",
      "Fold = 1, mae = 1.41\n",
      "Fold = 2, mae = 1.42\n",
      "Fold = 3, mae = 1.32\n",
      "Fold = 4, mae = 1.64\n",
      "Fold = 5, mae = 1.04\n",
      "------------------------------\n",
      "Average Error: 1.3659669730946196\n",
      "------------------------------\n",
      "Fold = 1, mae = 1.40\n",
      "Fold = 2, mae = 1.45\n",
      "Fold = 3, mae = 1.32\n",
      "Fold = 4, mae = 1.63\n",
      "Fold = 5, mae = 1.04\n",
      "------------------------------\n",
      "Average Error: 1.3678442092354106\n",
      "------------------------------\n",
      "Fold = 1, mae = 1.40\n",
      "Fold = 2, mae = 1.45\n",
      "Fold = 3, mae = 1.32\n",
      "Fold = 4, mae = 1.63\n",
      "Fold = 5, mae = 1.04\n",
      "------------------------------\n",
      "Average Error: 1.36805833211242\n",
      "------------------------------\n",
      "Fold = 1, mae = 1.40\n",
      "Fold = 2, mae = 1.45\n",
      "Fold = 3, mae = 1.32\n",
      "Fold = 4, mae = 1.63\n",
      "Fold = 5, mae = 1.04\n",
      "------------------------------\n",
      "Average Error: 1.3680797851274147\n",
      "------------------------------\n"
     ]
    }
   ],
   "source": [
    "\n",
    "for i in [100, 10, 1, 0.1, 0.01, 0.001, 0.0001]:\n",
    "    elastic = ElasticNet(alpha=i)\n",
    "    mae_kfold(elastic)"
   ]
  },
  {
   "cell_type": "markdown",
   "id": "24200ae9",
   "metadata": {},
   "source": [
    "## XGboost"
   ]
  },
  {
   "cell_type": "code",
   "execution_count": 17,
   "id": "8b2cdb82",
   "metadata": {},
   "outputs": [
    {
     "name": "stdout",
     "output_type": "stream",
     "text": [
      "0.9999998916429977 0.3702077641800937 1.800449969317464\n"
     ]
    }
   ],
   "source": [
    "#XG boost\n",
    "xgbr = XGBRegressor()\n",
    "xgbr.fit(X_train, y_train)\n",
    "print(xgbr.score(X_train, y_train), xgbr.score(X_test, y_test),mean_absolute_error(xgbr.predict(X_test), y_test))"
   ]
  },
  {
   "cell_type": "code",
   "execution_count": 18,
   "id": "b80af59b",
   "metadata": {},
   "outputs": [
    {
     "name": "stdout",
     "output_type": "stream",
     "text": [
      "Fold = 1, mae = 1.40\n",
      "Fold = 2, mae = 1.72\n",
      "Fold = 3, mae = 1.35\n",
      "Fold = 4, mae = 2.10\n",
      "Fold = 5, mae = 2.06\n",
      "------------------------------\n",
      "Average Error: 1.7278360778808601\n",
      "------------------------------\n"
     ]
    }
   ],
   "source": [
    "#XG boost교차검증\n",
    "mae_kfold(xgbr)"
   ]
  },
  {
   "cell_type": "code",
   "execution_count": 19,
   "id": "9cbd7528",
   "metadata": {},
   "outputs": [
    {
     "name": "stdout",
     "output_type": "stream",
     "text": [
      "0.9999999495778213 0.6230580831636435 1.3192556432775537\n"
     ]
    }
   ],
   "source": [
    "#XG boost 튜닝\n",
    "xgbr = XGBRegressor(n_estimators = 400, learning_rate = 1, max_depth = 3, objective=\"reg:squarederror\")\n",
    "xgbr.fit(X_train, y_train)\n",
    "print(xgbr.score(X_train, y_train), xgbr.score(X_test, y_test),mean_absolute_error(xgbr.predict(X_test), y_test))"
   ]
  },
  {
   "cell_type": "code",
   "execution_count": 20,
   "id": "95242784",
   "metadata": {},
   "outputs": [
    {
     "name": "stdout",
     "output_type": "stream",
     "text": [
      "Fold = 1, mae = 1.51\n",
      "Fold = 2, mae = 1.67\n",
      "Fold = 3, mae = 1.57\n",
      "Fold = 4, mae = 1.86\n",
      "Fold = 5, mae = 2.11\n",
      "------------------------------\n",
      "Average Error: 1.7471662811279312\n",
      "------------------------------\n"
     ]
    }
   ],
   "source": [
    "#XG boost교차검증\n",
    "mae_kfold(xgbr)"
   ]
  },
  {
   "cell_type": "markdown",
   "id": "770fef44",
   "metadata": {},
   "source": [
    "## lightgbm"
   ]
  },
  {
   "cell_type": "code",
   "execution_count": 21,
   "id": "cd58493f",
   "metadata": {},
   "outputs": [
    {
     "name": "stdout",
     "output_type": "stream",
     "text": [
      "0.6950037743384492 0.33536308328397335 1.8566038301235601\n"
     ]
    }
   ],
   "source": [
    "#lightgbm\n",
    "lgbm = LGBMRegressor()\n",
    "lgbm.fit(X_train, y_train)\n",
    "print(lgbm.score(X_train, y_train), lgbm.score(X_test, y_test),mean_absolute_error(lgbm.predict(X_test), y_test))"
   ]
  },
  {
   "cell_type": "code",
   "execution_count": 22,
   "id": "9cfd5e32",
   "metadata": {},
   "outputs": [
    {
     "name": "stdout",
     "output_type": "stream",
     "text": [
      "Fold = 1, mae = 1.51\n",
      "Fold = 2, mae = 1.67\n",
      "Fold = 3, mae = 1.57\n",
      "Fold = 4, mae = 1.86\n",
      "Fold = 5, mae = 2.11\n",
      "------------------------------\n",
      "Average Error: 1.7471662811279312\n",
      "------------------------------\n"
     ]
    }
   ],
   "source": [
    "#lightgbm교차검증\n",
    "mae_kfold(xgbr)"
   ]
  },
  {
   "cell_type": "markdown",
   "id": "cfe50b46",
   "metadata": {},
   "source": [
    "-----------\n",
    "# 2. Scaling"
   ]
  },
  {
   "cell_type": "markdown",
   "id": "a84d4059",
   "metadata": {},
   "source": [
    "### 각변수 minmaxscaling\n",
    "\n"
   ]
  },
  {
   "cell_type": "code",
   "execution_count": 23,
   "id": "e627c860",
   "metadata": {},
   "outputs": [],
   "source": [
    "#각 변수들을 스케일링 하는 함수\n",
    "\n",
    "def minmax_scaling(df, scale_columns):\n",
    "    for col in scale_columns:\n",
    "        series_min = df[col].min()\n",
    "        series_max = df[col].max()\n",
    "        df[col] = df[col].apply(lambda x: (x-series_min)/(series_max-series_min))\n",
    "        \n",
    "            \n",
    "    return df"
   ]
  },
  {
   "cell_type": "code",
   "execution_count": 24,
   "id": "175382e8",
   "metadata": {},
   "outputs": [
    {
     "data": {
      "text/plain": [
       "Index(['crm_wthr_흐림', 'crm_clue_타인신고', 'crm_clue_피해자신고', 'crm_clue_현행범',\n",
       "       'crm_tm_저녁', '화재_사망', '배치인원_수', '비상벨_개수', '기초수급_19세이하', '외국인수',\n",
       "       'score_전반'],\n",
       "      dtype='object')"
      ]
     },
     "execution_count": 24,
     "metadata": {},
     "output_type": "execute_result"
    }
   ],
   "source": [
    "df.columns"
   ]
  },
  {
   "cell_type": "code",
   "execution_count": 25,
   "id": "7123ad2e",
   "metadata": {
    "scrolled": true
   },
   "outputs": [
    {
     "data": {
      "text/html": [
       "<div>\n",
       "<style scoped>\n",
       "    .dataframe tbody tr th:only-of-type {\n",
       "        vertical-align: middle;\n",
       "    }\n",
       "\n",
       "    .dataframe tbody tr th {\n",
       "        vertical-align: top;\n",
       "    }\n",
       "\n",
       "    .dataframe thead th {\n",
       "        text-align: right;\n",
       "    }\n",
       "</style>\n",
       "<table border=\"1\" class=\"dataframe\">\n",
       "  <thead>\n",
       "    <tr style=\"text-align: right;\">\n",
       "      <th></th>\n",
       "      <th>crm_wthr_흐림</th>\n",
       "      <th>crm_clue_타인신고</th>\n",
       "      <th>crm_clue_피해자신고</th>\n",
       "      <th>crm_clue_현행범</th>\n",
       "      <th>crm_tm_저녁</th>\n",
       "      <th>화재_사망</th>\n",
       "      <th>배치인원_수</th>\n",
       "      <th>비상벨_개수</th>\n",
       "      <th>기초수급_19세이하</th>\n",
       "      <th>외국인수</th>\n",
       "      <th>score_전반</th>\n",
       "    </tr>\n",
       "  </thead>\n",
       "  <tbody>\n",
       "    <tr>\n",
       "      <th>0</th>\n",
       "      <td>0.301266</td>\n",
       "      <td>0.966358</td>\n",
       "      <td>1.000000</td>\n",
       "      <td>0.540905</td>\n",
       "      <td>1.000000</td>\n",
       "      <td>0.142857</td>\n",
       "      <td>0.643392</td>\n",
       "      <td>0.002812</td>\n",
       "      <td>0.476709</td>\n",
       "      <td>0.244742</td>\n",
       "      <td>74.40</td>\n",
       "    </tr>\n",
       "    <tr>\n",
       "      <th>1</th>\n",
       "      <td>0.349367</td>\n",
       "      <td>0.539950</td>\n",
       "      <td>0.461162</td>\n",
       "      <td>0.315330</td>\n",
       "      <td>0.573788</td>\n",
       "      <td>0.071429</td>\n",
       "      <td>0.301746</td>\n",
       "      <td>0.000562</td>\n",
       "      <td>0.476709</td>\n",
       "      <td>0.405098</td>\n",
       "      <td>68.50</td>\n",
       "    </tr>\n",
       "    <tr>\n",
       "      <th>2</th>\n",
       "      <td>0.207595</td>\n",
       "      <td>0.440706</td>\n",
       "      <td>0.632858</td>\n",
       "      <td>0.604845</td>\n",
       "      <td>0.769833</td>\n",
       "      <td>0.000000</td>\n",
       "      <td>0.488778</td>\n",
       "      <td>0.004499</td>\n",
       "      <td>0.476709</td>\n",
       "      <td>0.312075</td>\n",
       "      <td>70.85</td>\n",
       "    </tr>\n",
       "    <tr>\n",
       "      <th>3</th>\n",
       "      <td>0.035443</td>\n",
       "      <td>0.158957</td>\n",
       "      <td>0.105476</td>\n",
       "      <td>0.123114</td>\n",
       "      <td>0.220170</td>\n",
       "      <td>0.142857</td>\n",
       "      <td>0.119701</td>\n",
       "      <td>0.006187</td>\n",
       "      <td>0.698292</td>\n",
       "      <td>0.041001</td>\n",
       "      <td>70.75</td>\n",
       "    </tr>\n",
       "    <tr>\n",
       "      <th>4</th>\n",
       "      <td>0.126582</td>\n",
       "      <td>0.167368</td>\n",
       "      <td>0.060631</td>\n",
       "      <td>0.035743</td>\n",
       "      <td>0.125190</td>\n",
       "      <td>0.000000</td>\n",
       "      <td>0.012469</td>\n",
       "      <td>0.006749</td>\n",
       "      <td>0.698292</td>\n",
       "      <td>0.024205</td>\n",
       "      <td>74.45</td>\n",
       "    </tr>\n",
       "    <tr>\n",
       "      <th>...</th>\n",
       "      <td>...</td>\n",
       "      <td>...</td>\n",
       "      <td>...</td>\n",
       "      <td>...</td>\n",
       "      <td>...</td>\n",
       "      <td>...</td>\n",
       "      <td>...</td>\n",
       "      <td>...</td>\n",
       "      <td>...</td>\n",
       "      <td>...</td>\n",
       "      <td>...</td>\n",
       "    </tr>\n",
       "    <tr>\n",
       "      <th>118</th>\n",
       "      <td>0.101266</td>\n",
       "      <td>0.100084</td>\n",
       "      <td>0.074462</td>\n",
       "      <td>0.141779</td>\n",
       "      <td>0.061943</td>\n",
       "      <td>0.000000</td>\n",
       "      <td>0.097257</td>\n",
       "      <td>0.280652</td>\n",
       "      <td>0.368079</td>\n",
       "      <td>0.094673</td>\n",
       "      <td>74.60</td>\n",
       "    </tr>\n",
       "    <tr>\n",
       "      <th>119</th>\n",
       "      <td>0.291139</td>\n",
       "      <td>0.426409</td>\n",
       "      <td>0.499581</td>\n",
       "      <td>0.416600</td>\n",
       "      <td>0.415779</td>\n",
       "      <td>0.071429</td>\n",
       "      <td>0.670823</td>\n",
       "      <td>1.000000</td>\n",
       "      <td>0.580343</td>\n",
       "      <td>0.143706</td>\n",
       "      <td>68.75</td>\n",
       "    </tr>\n",
       "    <tr>\n",
       "      <th>120</th>\n",
       "      <td>0.255696</td>\n",
       "      <td>0.105130</td>\n",
       "      <td>0.169461</td>\n",
       "      <td>0.277601</td>\n",
       "      <td>0.133015</td>\n",
       "      <td>0.214286</td>\n",
       "      <td>0.246883</td>\n",
       "      <td>0.190664</td>\n",
       "      <td>0.023831</td>\n",
       "      <td>0.175080</td>\n",
       "      <td>73.05</td>\n",
       "    </tr>\n",
       "    <tr>\n",
       "      <th>121</th>\n",
       "      <td>0.096203</td>\n",
       "      <td>0.114382</td>\n",
       "      <td>0.048338</td>\n",
       "      <td>0.220413</td>\n",
       "      <td>0.057596</td>\n",
       "      <td>0.285714</td>\n",
       "      <td>0.189526</td>\n",
       "      <td>0.023622</td>\n",
       "      <td>0.008716</td>\n",
       "      <td>0.159402</td>\n",
       "      <td>71.75</td>\n",
       "    </tr>\n",
       "    <tr>\n",
       "      <th>122</th>\n",
       "      <td>0.035443</td>\n",
       "      <td>0.429773</td>\n",
       "      <td>0.104359</td>\n",
       "      <td>0.011120</td>\n",
       "      <td>0.095414</td>\n",
       "      <td>0.000000</td>\n",
       "      <td>0.102244</td>\n",
       "      <td>0.021935</td>\n",
       "      <td>0.153331</td>\n",
       "      <td>0.144238</td>\n",
       "      <td>76.35</td>\n",
       "    </tr>\n",
       "  </tbody>\n",
       "</table>\n",
       "<p>123 rows × 11 columns</p>\n",
       "</div>"
      ],
      "text/plain": [
       "     crm_wthr_흐림  crm_clue_타인신고  crm_clue_피해자신고  crm_clue_현행범  crm_tm_저녁  \\\n",
       "0       0.301266       0.966358        1.000000      0.540905   1.000000   \n",
       "1       0.349367       0.539950        0.461162      0.315330   0.573788   \n",
       "2       0.207595       0.440706        0.632858      0.604845   0.769833   \n",
       "3       0.035443       0.158957        0.105476      0.123114   0.220170   \n",
       "4       0.126582       0.167368        0.060631      0.035743   0.125190   \n",
       "..           ...            ...             ...           ...        ...   \n",
       "118     0.101266       0.100084        0.074462      0.141779   0.061943   \n",
       "119     0.291139       0.426409        0.499581      0.416600   0.415779   \n",
       "120     0.255696       0.105130        0.169461      0.277601   0.133015   \n",
       "121     0.096203       0.114382        0.048338      0.220413   0.057596   \n",
       "122     0.035443       0.429773        0.104359      0.011120   0.095414   \n",
       "\n",
       "        화재_사망    배치인원_수    비상벨_개수  기초수급_19세이하      외국인수  score_전반  \n",
       "0    0.142857  0.643392  0.002812    0.476709  0.244742     74.40  \n",
       "1    0.071429  0.301746  0.000562    0.476709  0.405098     68.50  \n",
       "2    0.000000  0.488778  0.004499    0.476709  0.312075     70.85  \n",
       "3    0.142857  0.119701  0.006187    0.698292  0.041001     70.75  \n",
       "4    0.000000  0.012469  0.006749    0.698292  0.024205     74.45  \n",
       "..        ...       ...       ...         ...       ...       ...  \n",
       "118  0.000000  0.097257  0.280652    0.368079  0.094673     74.60  \n",
       "119  0.071429  0.670823  1.000000    0.580343  0.143706     68.75  \n",
       "120  0.214286  0.246883  0.190664    0.023831  0.175080     73.05  \n",
       "121  0.285714  0.189526  0.023622    0.008716  0.159402     71.75  \n",
       "122  0.000000  0.102244  0.021935    0.153331  0.144238     76.35  \n",
       "\n",
       "[123 rows x 11 columns]"
      ]
     },
     "execution_count": 25,
     "metadata": {},
     "output_type": "execute_result"
    }
   ],
   "source": [
    "minmax_scaling(df, df.columns[:-1])"
   ]
  },
  {
   "cell_type": "markdown",
   "id": "5df1b5d9",
   "metadata": {},
   "source": [
    "# 설명력 보기위한 모델링"
   ]
  },
  {
   "cell_type": "code",
   "execution_count": 26,
   "id": "e3bee892",
   "metadata": {},
   "outputs": [],
   "source": [
    "# train, test 분리\n",
    "X_train, X_test, y_train, y_test  = train_test_split(df.iloc[:,:-1], df[\"score_전반\"],test_size = 0.3, random_state=0)"
   ]
  },
  {
   "cell_type": "code",
   "execution_count": 27,
   "id": "b19b8097",
   "metadata": {},
   "outputs": [],
   "source": [
    "X = np.array(df.drop('score_전반', 1))\n",
    "Y = np.array(df['score_전반'])"
   ]
  },
  {
   "cell_type": "code",
   "execution_count": 28,
   "id": "e245c722",
   "metadata": {},
   "outputs": [
    {
     "name": "stdout",
     "output_type": "stream",
     "text": [
      "0.7154950311375581 0.5239761926355007 1.4686457591910451\n"
     ]
    }
   ],
   "source": [
    "#다중회귀\n",
    "lr = LinearRegression()\n",
    "lr.fit(X_train, y_train)\n",
    "print(lr.score(X_train, y_train), lr.score(X_test, y_test),mean_absolute_error(lr.predict(X_test), y_test))"
   ]
  },
  {
   "cell_type": "code",
   "execution_count": 29,
   "id": "7647b989",
   "metadata": {},
   "outputs": [
    {
     "name": "stdout",
     "output_type": "stream",
     "text": [
      "Fold = 1, mae = 1.40\n",
      "Fold = 2, mae = 1.45\n",
      "Fold = 3, mae = 1.32\n",
      "Fold = 4, mae = 1.63\n",
      "Fold = 5, mae = 1.04\n",
      "------------------------------\n",
      "Average Error: 1.368082169248605\n",
      "------------------------------\n"
     ]
    }
   ],
   "source": [
    "# 다중회귀  교차검증\n",
    "mae_kfold(lr)"
   ]
  },
  {
   "cell_type": "markdown",
   "id": "1cc2c018",
   "metadata": {},
   "source": [
    "## ridge"
   ]
  },
  {
   "cell_type": "code",
   "execution_count": 30,
   "id": "86640da0",
   "metadata": {},
   "outputs": [
    {
     "name": "stdout",
     "output_type": "stream",
     "text": [
      "100 : 0.032 0.032 mae: 2.293\n",
      "10 : 0.18 0.203 mae: 2.084\n",
      "1 : 0.524 0.499 mae: 1.657\n",
      "0.1 : 0.7 0.568 mae: 1.435\n",
      "0.01 : 0.715 0.532 mae: 1.461\n",
      "0.001 : 0.715 0.525 mae: 1.468\n",
      "0.0001 : 0.715 0.524 mae: 1.469\n"
     ]
    }
   ],
   "source": [
    "# ridge\n",
    "alphas_finder(Ridge)"
   ]
  },
  {
   "cell_type": "code",
   "execution_count": 31,
   "id": "f2e6cd98",
   "metadata": {},
   "outputs": [
    {
     "name": "stdout",
     "output_type": "stream",
     "text": [
      "Fold = 1, mae = 2.18\n",
      "Fold = 2, mae = 2.17\n",
      "Fold = 3, mae = 1.85\n",
      "Fold = 4, mae = 2.42\n",
      "Fold = 5, mae = 2.43\n",
      "------------------------------\n",
      "Average Error: 2.21181527571533\n",
      "------------------------------\n",
      "Fold = 1, mae = 1.95\n",
      "Fold = 2, mae = 2.07\n",
      "Fold = 3, mae = 1.63\n",
      "Fold = 4, mae = 2.32\n",
      "Fold = 5, mae = 2.20\n",
      "------------------------------\n",
      "Average Error: 2.0341105227776852\n",
      "------------------------------\n",
      "Fold = 1, mae = 1.45\n",
      "Fold = 2, mae = 1.75\n",
      "Fold = 3, mae = 1.43\n",
      "Fold = 4, mae = 1.90\n",
      "Fold = 5, mae = 1.74\n",
      "------------------------------\n",
      "Average Error: 1.6525958942924404\n",
      "------------------------------\n",
      "Fold = 1, mae = 1.37\n",
      "Fold = 2, mae = 1.45\n",
      "Fold = 3, mae = 1.35\n",
      "Fold = 4, mae = 1.63\n",
      "Fold = 5, mae = 1.23\n",
      "------------------------------\n",
      "Average Error: 1.4065812927307257\n",
      "------------------------------\n",
      "Fold = 1, mae = 1.40\n",
      "Fold = 2, mae = 1.45\n",
      "Fold = 3, mae = 1.32\n",
      "Fold = 4, mae = 1.63\n",
      "Fold = 5, mae = 1.06\n",
      "------------------------------\n",
      "Average Error: 1.3709062313550027\n",
      "------------------------------\n",
      "Fold = 1, mae = 1.40\n",
      "Fold = 2, mae = 1.45\n",
      "Fold = 3, mae = 1.32\n",
      "Fold = 4, mae = 1.63\n",
      "Fold = 5, mae = 1.04\n",
      "------------------------------\n",
      "Average Error: 1.3683497299881568\n",
      "------------------------------\n",
      "Fold = 1, mae = 1.40\n",
      "Fold = 2, mae = 1.45\n",
      "Fold = 3, mae = 1.32\n",
      "Fold = 4, mae = 1.63\n",
      "Fold = 5, mae = 1.04\n",
      "------------------------------\n",
      "Average Error: 1.3680963369039358\n",
      "------------------------------\n"
     ]
    }
   ],
   "source": [
    "for i in [100, 10, 1, 0.1, 0.01, 0.001, 0.0001]:\n",
    "    ridge = Ridge(alpha=i)\n",
    "    mae_kfold(ridge)"
   ]
  },
  {
   "cell_type": "markdown",
   "id": "0c26c224",
   "metadata": {},
   "source": [
    "## Lasso"
   ]
  },
  {
   "cell_type": "code",
   "execution_count": 32,
   "id": "5a7eaa2b",
   "metadata": {},
   "outputs": [
    {
     "name": "stdout",
     "output_type": "stream",
     "text": [
      "100 : 0.0 -0.012 mae: 2.34\n",
      "10 : 0.0 -0.012 mae: 2.34\n",
      "1 : 0.0 -0.012 mae: 2.34\n",
      "0.1 : 0.17 0.262 mae: 1.995\n",
      "0.01 : 0.698 0.576 mae: 1.437\n",
      "0.001 : 0.715 0.531 mae: 1.461\n",
      "0.0001 : 0.715 0.525 mae: 1.468\n"
     ]
    }
   ],
   "source": [
    "# lasso\n",
    "alphas_finder(Lasso)"
   ]
  },
  {
   "cell_type": "code",
   "execution_count": 33,
   "id": "e3b0344d",
   "metadata": {},
   "outputs": [
    {
     "name": "stdout",
     "output_type": "stream",
     "text": [
      "Fold = 1, mae = 2.24\n",
      "Fold = 2, mae = 2.19\n",
      "Fold = 3, mae = 1.92\n",
      "Fold = 4, mae = 2.43\n",
      "Fold = 5, mae = 2.49\n",
      "------------------------------\n",
      "Average Error: 2.2515758606472893\n",
      "------------------------------\n",
      "Fold = 1, mae = 2.24\n",
      "Fold = 2, mae = 2.19\n",
      "Fold = 3, mae = 1.92\n",
      "Fold = 4, mae = 2.43\n",
      "Fold = 5, mae = 2.49\n",
      "------------------------------\n",
      "Average Error: 2.2515758606472893\n",
      "------------------------------\n",
      "Fold = 1, mae = 2.24\n",
      "Fold = 2, mae = 2.19\n",
      "Fold = 3, mae = 1.92\n",
      "Fold = 4, mae = 2.43\n",
      "Fold = 5, mae = 2.49\n",
      "------------------------------\n",
      "Average Error: 2.2515758606472893\n",
      "------------------------------\n",
      "Fold = 1, mae = 1.90\n",
      "Fold = 2, mae = 2.02\n",
      "Fold = 3, mae = 1.59\n",
      "Fold = 4, mae = 2.34\n",
      "Fold = 5, mae = 2.23\n",
      "------------------------------\n",
      "Average Error: 2.016716778901855\n",
      "------------------------------\n",
      "Fold = 1, mae = 1.35\n",
      "Fold = 2, mae = 1.46\n",
      "Fold = 3, mae = 1.40\n",
      "Fold = 4, mae = 1.67\n",
      "Fold = 5, mae = 1.33\n",
      "------------------------------\n",
      "Average Error: 1.4427878358395108\n",
      "------------------------------\n",
      "Fold = 1, mae = 1.40\n",
      "Fold = 2, mae = 1.45\n",
      "Fold = 3, mae = 1.33\n",
      "Fold = 4, mae = 1.63\n",
      "Fold = 5, mae = 1.06\n",
      "------------------------------\n",
      "Average Error: 1.3721554639493245\n",
      "------------------------------\n",
      "Fold = 1, mae = 1.40\n",
      "Fold = 2, mae = 1.45\n",
      "Fold = 3, mae = 1.32\n",
      "Fold = 4, mae = 1.63\n",
      "Fold = 5, mae = 1.04\n",
      "------------------------------\n",
      "Average Error: 1.3684531317952486\n",
      "------------------------------\n"
     ]
    }
   ],
   "source": [
    "\n",
    "for i in [100, 10, 1, 0.1, 0.01, 0.001, 0.0001]:\n",
    "    lasso = Lasso(alpha=i)\n",
    "    mae_kfold(lasso)"
   ]
  },
  {
   "cell_type": "markdown",
   "id": "e3ac516e",
   "metadata": {},
   "source": [
    "## ElasticNet"
   ]
  },
  {
   "cell_type": "code",
   "execution_count": 34,
   "id": "35fba4a6",
   "metadata": {},
   "outputs": [
    {
     "name": "stdout",
     "output_type": "stream",
     "text": [
      "100 : 0.0 -0.012 mae: 2.34\n",
      "10 : 0.0 -0.012 mae: 2.34\n",
      "1 : 0.0 -0.012 mae: 2.34\n",
      "0.1 : 0.18 0.219 mae: 2.057\n",
      "0.01 : 0.601 0.549 mae: 1.562\n",
      "0.001 : 0.711 0.553 mae: 1.446\n",
      "0.0001 : 0.715 0.528 mae: 1.463\n"
     ]
    }
   ],
   "source": [
    "alphas_finder(ElasticNet)"
   ]
  },
  {
   "cell_type": "code",
   "execution_count": 35,
   "id": "8d7300f6",
   "metadata": {},
   "outputs": [
    {
     "name": "stdout",
     "output_type": "stream",
     "text": [
      "Fold = 1, mae = 2.24\n",
      "Fold = 2, mae = 2.19\n",
      "Fold = 3, mae = 1.92\n",
      "Fold = 4, mae = 2.43\n",
      "Fold = 5, mae = 2.49\n",
      "------------------------------\n",
      "Average Error: 2.2515758606472893\n",
      "------------------------------\n",
      "Fold = 1, mae = 2.24\n",
      "Fold = 2, mae = 2.19\n",
      "Fold = 3, mae = 1.92\n",
      "Fold = 4, mae = 2.43\n",
      "Fold = 5, mae = 2.49\n",
      "------------------------------\n",
      "Average Error: 2.2515758606472893\n",
      "------------------------------\n",
      "Fold = 1, mae = 2.24\n",
      "Fold = 2, mae = 2.19\n",
      "Fold = 3, mae = 1.92\n",
      "Fold = 4, mae = 2.43\n",
      "Fold = 5, mae = 2.49\n",
      "------------------------------\n",
      "Average Error: 2.2515758606472893\n",
      "------------------------------\n",
      "Fold = 1, mae = 1.96\n",
      "Fold = 2, mae = 2.07\n",
      "Fold = 3, mae = 1.64\n",
      "Fold = 4, mae = 2.36\n",
      "Fold = 5, mae = 2.23\n",
      "------------------------------\n",
      "Average Error: 2.0520670122507587\n",
      "------------------------------\n",
      "Fold = 1, mae = 1.39\n",
      "Fold = 2, mae = 1.66\n",
      "Fold = 3, mae = 1.42\n",
      "Fold = 4, mae = 1.81\n",
      "Fold = 5, mae = 1.65\n",
      "------------------------------\n",
      "Average Error: 1.5842048739575247\n",
      "------------------------------\n",
      "Fold = 1, mae = 1.39\n",
      "Fold = 2, mae = 1.45\n",
      "Fold = 3, mae = 1.34\n",
      "Fold = 4, mae = 1.63\n",
      "Fold = 5, mae = 1.15\n",
      "------------------------------\n",
      "Average Error: 1.390119886002283\n",
      "------------------------------\n",
      "Fold = 1, mae = 1.40\n",
      "Fold = 2, mae = 1.45\n",
      "Fold = 3, mae = 1.32\n",
      "Fold = 4, mae = 1.63\n",
      "Fold = 5, mae = 1.05\n",
      "------------------------------\n",
      "Average Error: 1.3697008856794528\n",
      "------------------------------\n"
     ]
    }
   ],
   "source": [
    "\n",
    "for i in [100, 10, 1, 0.1, 0.01, 0.001, 0.0001]:\n",
    "    elastic = ElasticNet(alpha=i)\n",
    "    mae_kfold(elastic)"
   ]
  },
  {
   "cell_type": "markdown",
   "id": "dc460aac",
   "metadata": {},
   "source": [
    "## XGboost"
   ]
  },
  {
   "cell_type": "code",
   "execution_count": 36,
   "id": "b91da0aa",
   "metadata": {},
   "outputs": [
    {
     "name": "stdout",
     "output_type": "stream",
     "text": [
      "0.9999998916429977 0.3702077641800937 1.800449969317464\n"
     ]
    }
   ],
   "source": [
    "#XG boost\n",
    "xgbr = XGBRegressor()\n",
    "xgbr.fit(X_train, y_train)\n",
    "print(xgbr.score(X_train, y_train), xgbr.score(X_test, y_test),mean_absolute_error(xgbr.predict(X_test), y_test))"
   ]
  },
  {
   "cell_type": "code",
   "execution_count": 37,
   "id": "35d841cb",
   "metadata": {},
   "outputs": [
    {
     "name": "stdout",
     "output_type": "stream",
     "text": [
      "Fold = 1, mae = 1.40\n",
      "Fold = 2, mae = 1.72\n",
      "Fold = 3, mae = 1.35\n",
      "Fold = 4, mae = 2.10\n",
      "Fold = 5, mae = 2.06\n",
      "------------------------------\n",
      "Average Error: 1.727585266621908\n",
      "------------------------------\n"
     ]
    }
   ],
   "source": [
    "#XG boost교차검증\n",
    "mae_kfold(xgbr)"
   ]
  },
  {
   "cell_type": "code",
   "execution_count": 38,
   "id": "a7ad09c2",
   "metadata": {},
   "outputs": [
    {
     "name": "stdout",
     "output_type": "stream",
     "text": [
      "0.9999999495778213 0.6230580831636435 1.3192556432775537\n"
     ]
    }
   ],
   "source": [
    "#XG boost 튜닝\n",
    "xgbr = XGBRegressor(n_estimators = 400, learning_rate = 1, max_depth = 3, objective=\"reg:squarederror\")\n",
    "xgbr.fit(X_train, y_train)\n",
    "print(xgbr.score(X_train, y_train), xgbr.score(X_test, y_test),mean_absolute_error(xgbr.predict(X_test), y_test))"
   ]
  },
  {
   "cell_type": "code",
   "execution_count": 39,
   "id": "1b790631",
   "metadata": {},
   "outputs": [
    {
     "name": "stdout",
     "output_type": "stream",
     "text": [
      "Fold = 1, mae = 1.51\n",
      "Fold = 2, mae = 1.67\n",
      "Fold = 3, mae = 1.57\n",
      "Fold = 4, mae = 1.86\n",
      "Fold = 5, mae = 2.11\n",
      "------------------------------\n",
      "Average Error: 1.7471375946044936\n",
      "------------------------------\n"
     ]
    }
   ],
   "source": [
    "#XG boost교차검증\n",
    "mae_kfold(xgbr)"
   ]
  },
  {
   "cell_type": "markdown",
   "id": "a6517ddb",
   "metadata": {},
   "source": [
    "## lightgbm"
   ]
  },
  {
   "cell_type": "code",
   "execution_count": 40,
   "id": "cd58493f",
   "metadata": {},
   "outputs": [
    {
     "name": "stdout",
     "output_type": "stream",
     "text": [
      "0.6726624740969483 0.33055064702997783 1.8743341777556597\n"
     ]
    }
   ],
   "source": [
    "#lightgbm\n",
    "lgbm = LGBMRegressor()\n",
    "lgbm.fit(X_train, y_train)\n",
    "print(lgbm.score(X_train, y_train), lgbm.score(X_test, y_test),mean_absolute_error(lgbm.predict(X_test), y_test))"
   ]
  },
  {
   "cell_type": "code",
   "execution_count": 41,
   "id": "9cfd5e32",
   "metadata": {},
   "outputs": [
    {
     "name": "stdout",
     "output_type": "stream",
     "text": [
      "Fold = 1, mae = 1.62\n",
      "Fold = 2, mae = 1.73\n",
      "Fold = 3, mae = 1.62\n",
      "Fold = 4, mae = 2.17\n",
      "Fold = 5, mae = 1.96\n",
      "------------------------------\n",
      "Average Error: 1.8187725978807283\n",
      "------------------------------\n"
     ]
    }
   ],
   "source": [
    "#lightgbm교차검증\n",
    "mae_kfold(lgbm)"
   ]
  },
  {
   "cell_type": "code",
   "execution_count": 42,
   "id": "44741e56",
   "metadata": {},
   "outputs": [
    {
     "name": "stdout",
     "output_type": "stream",
     "text": [
      "학습 결과 :  0.3620814279792761\n",
      "테스트 결과 :  0.3435881475251422\n",
      "테스트 결과 :  1.8983586726169839\n"
     ]
    }
   ],
   "source": [
    "#SVR\n",
    "svr = SVR(kernel=\"linear\")\n",
    "svr.fit(X_train, y_train)\n",
    "\n",
    "print(\"학습 결과 : \", svr.score(X_train, y_train))\n",
    "print(\"테스트 결과 : \", svr.score(X_test, y_test))\n",
    "print(\"테스트 결과 : \", mean_absolute_error(svr.predict(X_test), y_test))"
   ]
  },
  {
   "cell_type": "code",
   "execution_count": 43,
   "id": "4cd61cb7",
   "metadata": {},
   "outputs": [
    {
     "name": "stdout",
     "output_type": "stream",
     "text": [
      "Fold = 1, mae = 1.75\n",
      "Fold = 2, mae = 1.91\n",
      "Fold = 3, mae = 1.60\n",
      "Fold = 4, mae = 2.21\n",
      "Fold = 5, mae = 1.95\n",
      "------------------------------\n",
      "Average Error: 1.8842525016563414\n",
      "------------------------------\n"
     ]
    }
   ],
   "source": [
    "mae_kfold(svr)"
   ]
  },
  {
   "cell_type": "markdown",
   "id": "32b9cbb7",
   "metadata": {},
   "source": [
    "# standardscaling"
   ]
  },
  {
   "cell_type": "markdown",
   "id": "f2a5bf4d",
   "metadata": {},
   "source": [
    "#### 변수마다 Standard Scaling\n",
    "\n",
    "- scaling하니까 안좋음"
   ]
  },
  {
   "cell_type": "code",
   "execution_count": 46,
   "id": "f7199d2c",
   "metadata": {},
   "outputs": [],
   "source": [
    "#각 변수들을 스케일링 하는 함수\n",
    "\n",
    "def standard_scaling(df, scale_columns):\n",
    "    for col in scale_columns:\n",
    "        series_mean = df[col].mean()\n",
    "        series_std = df[col].std()\n",
    "        df[col] = df[col].apply(lambda x: (x-series_mean)/series_std)\n",
    "        \n",
    "    return df"
   ]
  },
  {
   "cell_type": "code",
   "execution_count": 47,
   "id": "f10f1cef",
   "metadata": {},
   "outputs": [
    {
     "data": {
      "text/plain": [
       "Index(['crm_wthr_흐림', 'crm_clue_타인신고', 'crm_clue_피해자신고', 'crm_clue_현행범',\n",
       "       'crm_tm_저녁', '화재_사망', '배치인원_수', '비상벨_개수', '기초수급_19세이하', '외국인수'],\n",
       "      dtype='object')"
      ]
     },
     "execution_count": 47,
     "metadata": {},
     "output_type": "execute_result"
    }
   ],
   "source": [
    "df.iloc[:,:-1].columns"
   ]
  },
  {
   "cell_type": "code",
   "execution_count": 48,
   "id": "a71364d0",
   "metadata": {},
   "outputs": [
    {
     "data": {
      "text/html": [
       "<div>\n",
       "<style scoped>\n",
       "    .dataframe tbody tr th:only-of-type {\n",
       "        vertical-align: middle;\n",
       "    }\n",
       "\n",
       "    .dataframe tbody tr th {\n",
       "        vertical-align: top;\n",
       "    }\n",
       "\n",
       "    .dataframe thead th {\n",
       "        text-align: right;\n",
       "    }\n",
       "</style>\n",
       "<table border=\"1\" class=\"dataframe\">\n",
       "  <thead>\n",
       "    <tr style=\"text-align: right;\">\n",
       "      <th></th>\n",
       "      <th>crm_wthr_흐림</th>\n",
       "      <th>crm_clue_타인신고</th>\n",
       "      <th>crm_clue_피해자신고</th>\n",
       "      <th>crm_clue_현행범</th>\n",
       "      <th>crm_tm_저녁</th>\n",
       "      <th>화재_사망</th>\n",
       "      <th>배치인원_수</th>\n",
       "      <th>비상벨_개수</th>\n",
       "      <th>기초수급_19세이하</th>\n",
       "      <th>외국인수</th>\n",
       "      <th>score_전반</th>\n",
       "    </tr>\n",
       "  </thead>\n",
       "  <tbody>\n",
       "    <tr>\n",
       "      <th>0</th>\n",
       "      <td>0.240481</td>\n",
       "      <td>3.236250</td>\n",
       "      <td>2.797120</td>\n",
       "      <td>0.718369</td>\n",
       "      <td>2.955283</td>\n",
       "      <td>0.204862</td>\n",
       "      <td>0.749224</td>\n",
       "      <td>-0.909420</td>\n",
       "      <td>0.422364</td>\n",
       "      <td>0.159691</td>\n",
       "      <td>74.40</td>\n",
       "    </tr>\n",
       "    <tr>\n",
       "      <th>1</th>\n",
       "      <td>0.496171</td>\n",
       "      <td>1.095241</td>\n",
       "      <td>0.538277</td>\n",
       "      <td>-0.249169</td>\n",
       "      <td>1.058816</td>\n",
       "      <td>-0.261768</td>\n",
       "      <td>-0.485270</td>\n",
       "      <td>-0.918843</td>\n",
       "      <td>0.422364</td>\n",
       "      <td>0.889381</td>\n",
       "      <td>68.50</td>\n",
       "    </tr>\n",
       "    <tr>\n",
       "      <th>2</th>\n",
       "      <td>-0.257440</td>\n",
       "      <td>0.596939</td>\n",
       "      <td>1.258038</td>\n",
       "      <td>0.992618</td>\n",
       "      <td>1.931133</td>\n",
       "      <td>-0.728398</td>\n",
       "      <td>0.190548</td>\n",
       "      <td>-0.902353</td>\n",
       "      <td>0.422364</td>\n",
       "      <td>0.466086</td>\n",
       "      <td>70.85</td>\n",
       "    </tr>\n",
       "    <tr>\n",
       "      <th>3</th>\n",
       "      <td>-1.172538</td>\n",
       "      <td>-0.817731</td>\n",
       "      <td>-0.952782</td>\n",
       "      <td>-1.073620</td>\n",
       "      <td>-0.514642</td>\n",
       "      <td>0.204862</td>\n",
       "      <td>-1.143066</td>\n",
       "      <td>-0.895286</td>\n",
       "      <td>1.224555</td>\n",
       "      <td>-0.767420</td>\n",
       "      <td>70.75</td>\n",
       "    </tr>\n",
       "    <tr>\n",
       "      <th>4</th>\n",
       "      <td>-0.688074</td>\n",
       "      <td>-0.775502</td>\n",
       "      <td>-1.140775</td>\n",
       "      <td>-1.448370</td>\n",
       "      <td>-0.937261</td>\n",
       "      <td>-0.728398</td>\n",
       "      <td>-1.530535</td>\n",
       "      <td>-0.892930</td>\n",
       "      <td>1.224555</td>\n",
       "      <td>-0.843852</td>\n",
       "      <td>74.45</td>\n",
       "    </tr>\n",
       "    <tr>\n",
       "      <th>...</th>\n",
       "      <td>...</td>\n",
       "      <td>...</td>\n",
       "      <td>...</td>\n",
       "      <td>...</td>\n",
       "      <td>...</td>\n",
       "      <td>...</td>\n",
       "      <td>...</td>\n",
       "      <td>...</td>\n",
       "      <td>...</td>\n",
       "      <td>...</td>\n",
       "      <td>...</td>\n",
       "    </tr>\n",
       "    <tr>\n",
       "      <th>118</th>\n",
       "      <td>-0.822648</td>\n",
       "      <td>-1.113334</td>\n",
       "      <td>-1.082796</td>\n",
       "      <td>-0.993560</td>\n",
       "      <td>-1.218685</td>\n",
       "      <td>-0.728398</td>\n",
       "      <td>-1.224164</td>\n",
       "      <td>0.254327</td>\n",
       "      <td>0.029093</td>\n",
       "      <td>-0.523189</td>\n",
       "      <td>74.60</td>\n",
       "    </tr>\n",
       "    <tr>\n",
       "      <th>119</th>\n",
       "      <td>0.186652</td>\n",
       "      <td>0.525150</td>\n",
       "      <td>0.699330</td>\n",
       "      <td>0.185201</td>\n",
       "      <td>0.355740</td>\n",
       "      <td>-0.261768</td>\n",
       "      <td>0.848344</td>\n",
       "      <td>3.267347</td>\n",
       "      <td>0.797546</td>\n",
       "      <td>-0.300068</td>\n",
       "      <td>68.75</td>\n",
       "    </tr>\n",
       "    <tr>\n",
       "      <th>120</th>\n",
       "      <td>-0.001751</td>\n",
       "      <td>-1.087997</td>\n",
       "      <td>-0.684555</td>\n",
       "      <td>-0.410993</td>\n",
       "      <td>-0.902446</td>\n",
       "      <td>0.671492</td>\n",
       "      <td>-0.683510</td>\n",
       "      <td>-0.122595</td>\n",
       "      <td>-1.217180</td>\n",
       "      <td>-0.157301</td>\n",
       "      <td>73.05</td>\n",
       "    </tr>\n",
       "    <tr>\n",
       "      <th>121</th>\n",
       "      <td>-0.849562</td>\n",
       "      <td>-1.041545</td>\n",
       "      <td>-1.192312</td>\n",
       "      <td>-0.656284</td>\n",
       "      <td>-1.238027</td>\n",
       "      <td>1.138121</td>\n",
       "      <td>-0.890761</td>\n",
       "      <td>-0.822257</td>\n",
       "      <td>-1.271902</td>\n",
       "      <td>-0.228643</td>\n",
       "      <td>71.75</td>\n",
       "    </tr>\n",
       "    <tr>\n",
       "      <th>122</th>\n",
       "      <td>-1.172538</td>\n",
       "      <td>0.542041</td>\n",
       "      <td>-0.957467</td>\n",
       "      <td>-1.553982</td>\n",
       "      <td>-1.069753</td>\n",
       "      <td>-0.728398</td>\n",
       "      <td>-1.206143</td>\n",
       "      <td>-0.829324</td>\n",
       "      <td>-0.748354</td>\n",
       "      <td>-0.297648</td>\n",
       "      <td>76.35</td>\n",
       "    </tr>\n",
       "  </tbody>\n",
       "</table>\n",
       "<p>123 rows × 11 columns</p>\n",
       "</div>"
      ],
      "text/plain": [
       "     crm_wthr_흐림  crm_clue_타인신고  crm_clue_피해자신고  crm_clue_현행범  crm_tm_저녁  \\\n",
       "0       0.240481       3.236250        2.797120      0.718369   2.955283   \n",
       "1       0.496171       1.095241        0.538277     -0.249169   1.058816   \n",
       "2      -0.257440       0.596939        1.258038      0.992618   1.931133   \n",
       "3      -1.172538      -0.817731       -0.952782     -1.073620  -0.514642   \n",
       "4      -0.688074      -0.775502       -1.140775     -1.448370  -0.937261   \n",
       "..           ...            ...             ...           ...        ...   \n",
       "118    -0.822648      -1.113334       -1.082796     -0.993560  -1.218685   \n",
       "119     0.186652       0.525150        0.699330      0.185201   0.355740   \n",
       "120    -0.001751      -1.087997       -0.684555     -0.410993  -0.902446   \n",
       "121    -0.849562      -1.041545       -1.192312     -0.656284  -1.238027   \n",
       "122    -1.172538       0.542041       -0.957467     -1.553982  -1.069753   \n",
       "\n",
       "        화재_사망    배치인원_수    비상벨_개수  기초수급_19세이하      외국인수  score_전반  \n",
       "0    0.204862  0.749224 -0.909420    0.422364  0.159691     74.40  \n",
       "1   -0.261768 -0.485270 -0.918843    0.422364  0.889381     68.50  \n",
       "2   -0.728398  0.190548 -0.902353    0.422364  0.466086     70.85  \n",
       "3    0.204862 -1.143066 -0.895286    1.224555 -0.767420     70.75  \n",
       "4   -0.728398 -1.530535 -0.892930    1.224555 -0.843852     74.45  \n",
       "..        ...       ...       ...         ...       ...       ...  \n",
       "118 -0.728398 -1.224164  0.254327    0.029093 -0.523189     74.60  \n",
       "119 -0.261768  0.848344  3.267347    0.797546 -0.300068     68.75  \n",
       "120  0.671492 -0.683510 -0.122595   -1.217180 -0.157301     73.05  \n",
       "121  1.138121 -0.890761 -0.822257   -1.271902 -0.228643     71.75  \n",
       "122 -0.728398 -1.206143 -0.829324   -0.748354 -0.297648     76.35  \n",
       "\n",
       "[123 rows x 11 columns]"
      ]
     },
     "execution_count": 48,
     "metadata": {},
     "output_type": "execute_result"
    }
   ],
   "source": [
    "standard_scaling(df, df.iloc[:,:-1].columns)"
   ]
  },
  {
   "cell_type": "markdown",
   "id": "eb7b5c84",
   "metadata": {},
   "source": [
    "# 설명력 보기위한 모델링"
   ]
  },
  {
   "cell_type": "code",
   "execution_count": 49,
   "id": "10d6ed64",
   "metadata": {},
   "outputs": [],
   "source": [
    "# train, test 분리\n",
    "X_train, X_test, y_train, y_test  = train_test_split(df.iloc[:,:-1], df[\"score_전반\"],test_size = 0.3, random_state=0)"
   ]
  },
  {
   "cell_type": "code",
   "execution_count": 50,
   "id": "dbb0f50f",
   "metadata": {},
   "outputs": [],
   "source": [
    "X = np.array(df.drop('score_전반', 1))\n",
    "Y = np.array(df['score_전반'])"
   ]
  },
  {
   "cell_type": "code",
   "execution_count": 51,
   "id": "87818569",
   "metadata": {},
   "outputs": [
    {
     "name": "stdout",
     "output_type": "stream",
     "text": [
      "0.7154950311375579 0.5239761926355002 1.4686457591910445\n"
     ]
    }
   ],
   "source": [
    "#다중회귀\n",
    "lr = LinearRegression()\n",
    "lr.fit(X_train, y_train)\n",
    "print(lr.score(X_train, y_train), lr.score(X_test, y_test),mean_absolute_error(lr.predict(X_test), y_test))"
   ]
  },
  {
   "cell_type": "code",
   "execution_count": 52,
   "id": "eb2753ad",
   "metadata": {},
   "outputs": [
    {
     "name": "stdout",
     "output_type": "stream",
     "text": [
      "Fold = 1, mae = 1.40\n",
      "Fold = 2, mae = 1.45\n",
      "Fold = 3, mae = 1.32\n",
      "Fold = 4, mae = 1.63\n",
      "Fold = 5, mae = 1.04\n",
      "------------------------------\n",
      "Average Error: 1.3680821692486056\n",
      "------------------------------\n"
     ]
    }
   ],
   "source": [
    "# 다중회귀  교차검증\n",
    "mae_kfold(lr)"
   ]
  },
  {
   "cell_type": "markdown",
   "id": "3e747078",
   "metadata": {},
   "source": [
    "## ridge"
   ]
  },
  {
   "cell_type": "code",
   "execution_count": 53,
   "id": "6e633b62",
   "metadata": {},
   "outputs": [
    {
     "name": "stdout",
     "output_type": "stream",
     "text": [
      "100 : 0.267 0.274 mae: 2.004\n",
      "10 : 0.598 0.521 mae: 1.578\n",
      "1 : 0.709 0.552 mae: 1.444\n",
      "0.1 : 0.715 0.528 mae: 1.463\n",
      "0.01 : 0.715 0.524 mae: 1.468\n",
      "0.001 : 0.715 0.524 mae: 1.469\n",
      "0.0001 : 0.715 0.524 mae: 1.469\n"
     ]
    }
   ],
   "source": [
    "# ridge\n",
    "alphas_finder(Ridge)"
   ]
  },
  {
   "cell_type": "code",
   "execution_count": 54,
   "id": "076326ad",
   "metadata": {},
   "outputs": [
    {
     "name": "stdout",
     "output_type": "stream",
     "text": [
      "Fold = 1, mae = 1.85\n",
      "Fold = 2, mae = 2.09\n",
      "Fold = 3, mae = 1.54\n",
      "Fold = 4, mae = 2.23\n",
      "Fold = 5, mae = 2.11\n",
      "------------------------------\n",
      "Average Error: 1.9618251477036754\n",
      "------------------------------\n",
      "Fold = 1, mae = 1.37\n",
      "Fold = 2, mae = 1.71\n",
      "Fold = 3, mae = 1.39\n",
      "Fold = 4, mae = 1.80\n",
      "Fold = 5, mae = 1.59\n",
      "------------------------------\n",
      "Average Error: 1.5730452408941376\n",
      "------------------------------\n",
      "Fold = 1, mae = 1.38\n",
      "Fold = 2, mae = 1.46\n",
      "Fold = 3, mae = 1.33\n",
      "Fold = 4, mae = 1.63\n",
      "Fold = 5, mae = 1.15\n",
      "------------------------------\n",
      "Average Error: 1.3911745220171565\n",
      "------------------------------\n",
      "Fold = 1, mae = 1.40\n",
      "Fold = 2, mae = 1.45\n",
      "Fold = 3, mae = 1.32\n",
      "Fold = 4, mae = 1.63\n",
      "Fold = 5, mae = 1.05\n",
      "------------------------------\n",
      "Average Error: 1.3698227372811576\n",
      "------------------------------\n",
      "Fold = 1, mae = 1.40\n",
      "Fold = 2, mae = 1.45\n",
      "Fold = 3, mae = 1.32\n",
      "Fold = 4, mae = 1.63\n",
      "Fold = 5, mae = 1.04\n",
      "------------------------------\n",
      "Average Error: 1.3682313011092693\n",
      "------------------------------\n",
      "Fold = 1, mae = 1.40\n",
      "Fold = 2, mae = 1.45\n",
      "Fold = 3, mae = 1.32\n",
      "Fold = 4, mae = 1.63\n",
      "Fold = 5, mae = 1.04\n",
      "------------------------------\n",
      "Average Error: 1.3680912497680853\n",
      "------------------------------\n",
      "Fold = 1, mae = 1.40\n",
      "Fold = 2, mae = 1.45\n",
      "Fold = 3, mae = 1.32\n",
      "Fold = 4, mae = 1.63\n",
      "Fold = 5, mae = 1.04\n",
      "------------------------------\n",
      "Average Error: 1.368083077600197\n",
      "------------------------------\n"
     ]
    }
   ],
   "source": [
    "for i in [100, 10, 1, 0.1, 0.01, 0.001, 0.0001]:\n",
    "    ridge = Ridge(alpha=i)\n",
    "    mae_kfold(ridge)"
   ]
  },
  {
   "cell_type": "markdown",
   "id": "229dbbc3",
   "metadata": {},
   "source": [
    "## Lasso"
   ]
  },
  {
   "cell_type": "code",
   "execution_count": 55,
   "id": "00672d13",
   "metadata": {},
   "outputs": [
    {
     "name": "stdout",
     "output_type": "stream",
     "text": [
      "100 : 0.0 -0.012 mae: 2.34\n",
      "10 : 0.0 -0.012 mae: 2.34\n",
      "1 : 0.0 -0.012 mae: 2.34\n",
      "0.1 : 0.626 0.555 mae: 1.537\n",
      "0.01 : 0.715 0.539 mae: 1.455\n",
      "0.001 : 0.715 0.526 mae: 1.466\n",
      "0.0001 : 0.715 0.524 mae: 1.468\n"
     ]
    }
   ],
   "source": [
    "# lasso\n",
    "alphas_finder(Lasso)"
   ]
  },
  {
   "cell_type": "code",
   "execution_count": 56,
   "id": "7d866653",
   "metadata": {},
   "outputs": [
    {
     "name": "stdout",
     "output_type": "stream",
     "text": [
      "Fold = 1, mae = 2.24\n",
      "Fold = 2, mae = 2.19\n",
      "Fold = 3, mae = 1.92\n",
      "Fold = 4, mae = 2.43\n",
      "Fold = 5, mae = 2.49\n",
      "------------------------------\n",
      "Average Error: 2.2515758606472893\n",
      "------------------------------\n",
      "Fold = 1, mae = 2.24\n",
      "Fold = 2, mae = 2.19\n",
      "Fold = 3, mae = 1.92\n",
      "Fold = 4, mae = 2.43\n",
      "Fold = 5, mae = 2.49\n",
      "------------------------------\n",
      "Average Error: 2.2515758606472893\n",
      "------------------------------\n",
      "Fold = 1, mae = 2.19\n",
      "Fold = 2, mae = 2.11\n",
      "Fold = 3, mae = 1.85\n",
      "Fold = 4, mae = 2.40\n",
      "Fold = 5, mae = 2.42\n",
      "------------------------------\n",
      "Average Error: 2.1940793579004287\n",
      "------------------------------\n",
      "Fold = 1, mae = 1.36\n",
      "Fold = 2, mae = 1.67\n",
      "Fold = 3, mae = 1.49\n",
      "Fold = 4, mae = 1.83\n",
      "Fold = 5, mae = 1.77\n",
      "------------------------------\n",
      "Average Error: 1.6261698728968816\n",
      "------------------------------\n",
      "Fold = 1, mae = 1.39\n",
      "Fold = 2, mae = 1.45\n",
      "Fold = 3, mae = 1.33\n",
      "Fold = 4, mae = 1.63\n",
      "Fold = 5, mae = 1.09\n",
      "------------------------------\n",
      "Average Error: 1.379501985136946\n",
      "------------------------------\n",
      "Fold = 1, mae = 1.40\n",
      "Fold = 2, mae = 1.45\n",
      "Fold = 3, mae = 1.32\n",
      "Fold = 4, mae = 1.63\n",
      "Fold = 5, mae = 1.05\n",
      "------------------------------\n",
      "Average Error: 1.3690275807924734\n",
      "------------------------------\n",
      "Fold = 1, mae = 1.40\n",
      "Fold = 2, mae = 1.45\n",
      "Fold = 3, mae = 1.32\n",
      "Fold = 4, mae = 1.63\n",
      "Fold = 5, mae = 1.04\n",
      "------------------------------\n",
      "Average Error: 1.3681479679284139\n",
      "------------------------------\n"
     ]
    }
   ],
   "source": [
    "\n",
    "for i in [100, 10, 1, 0.1, 0.01, 0.001, 0.0001]:\n",
    "    lasso = Lasso(alpha=i)\n",
    "    mae_kfold(lasso)"
   ]
  },
  {
   "cell_type": "markdown",
   "id": "699c642b",
   "metadata": {},
   "source": [
    "## ElasticNet"
   ]
  },
  {
   "cell_type": "code",
   "execution_count": 57,
   "id": "a214258a",
   "metadata": {},
   "outputs": [
    {
     "name": "stdout",
     "output_type": "stream",
     "text": [
      "100 : 0.0 -0.012 mae: 2.34\n",
      "10 : 0.0 -0.012 mae: 2.34\n",
      "1 : 0.099 0.142 mae: 2.157\n",
      "0.1 : 0.617 0.541 mae: 1.548\n",
      "0.01 : 0.713 0.545 mae: 1.45\n",
      "0.001 : 0.715 0.527 mae: 1.465\n",
      "0.0001 : 0.715 0.524 mae: 1.468\n"
     ]
    }
   ],
   "source": [
    "alphas_finder(ElasticNet)"
   ]
  },
  {
   "cell_type": "code",
   "execution_count": 58,
   "id": "1f594038",
   "metadata": {},
   "outputs": [
    {
     "name": "stdout",
     "output_type": "stream",
     "text": [
      "Fold = 1, mae = 2.24\n",
      "Fold = 2, mae = 2.19\n",
      "Fold = 3, mae = 1.92\n",
      "Fold = 4, mae = 2.43\n",
      "Fold = 5, mae = 2.49\n",
      "------------------------------\n",
      "Average Error: 2.2515758606472893\n",
      "------------------------------\n",
      "Fold = 1, mae = 2.24\n",
      "Fold = 2, mae = 2.19\n",
      "Fold = 3, mae = 1.92\n",
      "Fold = 4, mae = 2.43\n",
      "Fold = 5, mae = 2.49\n",
      "------------------------------\n",
      "Average Error: 2.2515758606472893\n",
      "------------------------------\n",
      "Fold = 1, mae = 2.01\n",
      "Fold = 2, mae = 2.08\n",
      "Fold = 3, mae = 1.74\n",
      "Fold = 4, mae = 2.37\n",
      "Fold = 5, mae = 2.32\n",
      "------------------------------\n",
      "Average Error: 2.1036025744223745\n",
      "------------------------------\n",
      "Fold = 1, mae = 1.37\n",
      "Fold = 2, mae = 1.69\n",
      "Fold = 3, mae = 1.44\n",
      "Fold = 4, mae = 1.81\n",
      "Fold = 5, mae = 1.65\n",
      "------------------------------\n",
      "Average Error: 1.5894208732122685\n",
      "------------------------------\n",
      "Fold = 1, mae = 1.39\n",
      "Fold = 2, mae = 1.45\n",
      "Fold = 3, mae = 1.33\n",
      "Fold = 4, mae = 1.63\n",
      "Fold = 5, mae = 1.12\n",
      "------------------------------\n",
      "Average Error: 1.3858034839755438\n",
      "------------------------------\n",
      "Fold = 1, mae = 1.40\n",
      "Fold = 2, mae = 1.45\n",
      "Fold = 3, mae = 1.32\n",
      "Fold = 4, mae = 1.63\n",
      "Fold = 5, mae = 1.05\n",
      "------------------------------\n",
      "Average Error: 1.3694245328746748\n",
      "------------------------------\n",
      "Fold = 1, mae = 1.40\n",
      "Fold = 2, mae = 1.45\n",
      "Fold = 3, mae = 1.32\n",
      "Fold = 4, mae = 1.63\n",
      "Fold = 5, mae = 1.04\n",
      "------------------------------\n",
      "Average Error: 1.3681883883248798\n",
      "------------------------------\n"
     ]
    }
   ],
   "source": [
    "\n",
    "for i in [100, 10, 1, 0.1, 0.01, 0.001, 0.0001]:\n",
    "    elastic = ElasticNet(alpha=i)\n",
    "    mae_kfold(elastic)"
   ]
  },
  {
   "cell_type": "markdown",
   "id": "24200ae9",
   "metadata": {},
   "source": [
    "## XGboost"
   ]
  },
  {
   "cell_type": "code",
   "execution_count": 59,
   "id": "8b2cdb82",
   "metadata": {},
   "outputs": [
    {
     "name": "stdout",
     "output_type": "stream",
     "text": [
      "0.9999998916429977 0.36985967504167805 1.8007988594673796\n"
     ]
    }
   ],
   "source": [
    "#XG boost\n",
    "xgbr = XGBRegressor()\n",
    "xgbr.fit(X_train, y_train)\n",
    "print(xgbr.score(X_train, y_train), xgbr.score(X_test, y_test),mean_absolute_error(xgbr.predict(X_test), y_test))"
   ]
  },
  {
   "cell_type": "code",
   "execution_count": 60,
   "id": "b80af59b",
   "metadata": {},
   "outputs": [
    {
     "name": "stdout",
     "output_type": "stream",
     "text": [
      "Fold = 1, mae = 1.41\n",
      "Fold = 2, mae = 1.72\n",
      "Fold = 3, mae = 1.35\n",
      "Fold = 4, mae = 2.10\n",
      "Fold = 5, mae = 2.06\n",
      "------------------------------\n",
      "Average Error: 1.7275913879394538\n",
      "------------------------------\n"
     ]
    }
   ],
   "source": [
    "#XG boost교차검증\n",
    "mae_kfold(xgbr)"
   ]
  },
  {
   "cell_type": "code",
   "execution_count": 61,
   "id": "9cbd7528",
   "metadata": {},
   "outputs": [
    {
     "name": "stdout",
     "output_type": "stream",
     "text": [
      "0.9999999495778213 0.6230580831636435 1.3192556432775537\n"
     ]
    }
   ],
   "source": [
    "#XG boost 튜닝\n",
    "xgbr = XGBRegressor(n_estimators = 400, learning_rate = 1, max_depth = 3, objective=\"reg:squarederror\")\n",
    "xgbr.fit(X_train, y_train)\n",
    "print(xgbr.score(X_train, y_train), xgbr.score(X_test, y_test),mean_absolute_error(xgbr.predict(X_test), y_test))"
   ]
  },
  {
   "cell_type": "code",
   "execution_count": 62,
   "id": "95242784",
   "metadata": {},
   "outputs": [
    {
     "name": "stdout",
     "output_type": "stream",
     "text": [
      "Fold = 1, mae = 1.51\n",
      "Fold = 2, mae = 1.68\n",
      "Fold = 3, mae = 1.57\n",
      "Fold = 4, mae = 1.86\n",
      "Fold = 5, mae = 2.11\n",
      "------------------------------\n",
      "Average Error: 1.7482429412841811\n",
      "------------------------------\n"
     ]
    }
   ],
   "source": [
    "#XG boost교차검증\n",
    "mae_kfold(xgbr)"
   ]
  },
  {
   "cell_type": "markdown",
   "id": "770fef44",
   "metadata": {},
   "source": [
    "## lightgbm"
   ]
  },
  {
   "cell_type": "code",
   "execution_count": 63,
   "id": "cd58493f",
   "metadata": {},
   "outputs": [
    {
     "name": "stdout",
     "output_type": "stream",
     "text": [
      "0.7114893012183314 0.3313790213921737 1.8907361932889775\n"
     ]
    }
   ],
   "source": [
    "#lightgbm\n",
    "lgbm = LGBMRegressor()\n",
    "lgbm.fit(X_train, y_train)\n",
    "print(lgbm.score(X_train, y_train), lgbm.score(X_test, y_test),mean_absolute_error(lgbm.predict(X_test), y_test))"
   ]
  },
  {
   "cell_type": "code",
   "execution_count": 64,
   "id": "9cfd5e32",
   "metadata": {},
   "outputs": [
    {
     "name": "stdout",
     "output_type": "stream",
     "text": [
      "Fold = 1, mae = 1.60\n",
      "Fold = 2, mae = 1.81\n",
      "Fold = 3, mae = 1.61\n",
      "Fold = 4, mae = 2.17\n",
      "Fold = 5, mae = 1.94\n",
      "------------------------------\n",
      "Average Error: 1.826205738033717\n",
      "------------------------------\n"
     ]
    }
   ],
   "source": [
    "#lightgbm교차검증\n",
    "mae_kfold(lgbm)"
   ]
  },
  {
   "cell_type": "code",
   "execution_count": 65,
   "id": "8d403a12",
   "metadata": {},
   "outputs": [
    {
     "name": "stdout",
     "output_type": "stream",
     "text": [
      "학습 결과 :  0.6739676309986693\n",
      "테스트 결과 :  0.6196776610563045\n",
      "테스트 결과 :  1.4439787536279542\n"
     ]
    }
   ],
   "source": [
    "#SVR\n",
    "svr = SVR(kernel=\"linear\")\n",
    "svr.fit(X_train, y_train)\n",
    "\n",
    "print(\"학습 결과 : \", svr.score(X_train, y_train))\n",
    "print(\"테스트 결과 : \", svr.score(X_test, y_test))\n",
    "print(\"테스트 결과 : \", mean_absolute_error(svr.predict(X_test), y_test))"
   ]
  },
  {
   "cell_type": "code",
   "execution_count": 66,
   "id": "672f641e",
   "metadata": {},
   "outputs": [
    {
     "name": "stdout",
     "output_type": "stream",
     "text": [
      "Fold = 1, mae = 1.37\n",
      "Fold = 2, mae = 1.48\n",
      "Fold = 3, mae = 1.27\n",
      "Fold = 4, mae = 1.77\n",
      "Fold = 5, mae = 1.29\n",
      "------------------------------\n",
      "Average Error: 1.4357778586458432\n",
      "------------------------------\n"
     ]
    }
   ],
   "source": [
    "mae_kfold(svr) "
   ]
  },
  {
   "cell_type": "markdown",
   "id": "82475fde",
   "metadata": {},
   "source": [
    "# RobustScaler"
   ]
  },
  {
   "cell_type": "markdown",
   "id": "2dd5bb4b",
   "metadata": {},
   "source": [
    "### 각변수 robustscaling\n",
    "\n"
   ]
  },
  {
   "cell_type": "code",
   "execution_count": 69,
   "id": "22cd9e1a",
   "metadata": {},
   "outputs": [],
   "source": [
    "#각 변수들을 스케일링 하는 함수\n",
    "\n",
    "def robust_scaling(df, scale_columns):\n",
    "    for col in scale_columns:\n",
    "        series_med = df[col].median()\n",
    "        series_per75 = np.percentile(df[col],75)\n",
    "        series_per25 = np.percentile(df[col],25)\n",
    "        df[col] = df[col].apply(lambda x: (x-series_med)/(series_per75-series_per25))\n",
    "        \n",
    "            \n",
    "    return df"
   ]
  },
  {
   "cell_type": "code",
   "execution_count": 70,
   "id": "f10f1cef",
   "metadata": {},
   "outputs": [
    {
     "data": {
      "text/plain": [
       "Index(['crm_wthr_흐림', 'crm_clue_타인신고', 'crm_clue_피해자신고', 'crm_clue_현행범',\n",
       "       'crm_tm_저녁', '화재_사망', '배치인원_수', '비상벨_개수', '기초수급_19세이하', '외국인수'],\n",
       "      dtype='object')"
      ]
     },
     "execution_count": 70,
     "metadata": {},
     "output_type": "execute_result"
    }
   ],
   "source": [
    "df.iloc[:,:-1].columns"
   ]
  },
  {
   "cell_type": "code",
   "execution_count": 71,
   "id": "a71364d0",
   "metadata": {},
   "outputs": [
    {
     "data": {
      "text/html": [
       "<div>\n",
       "<style scoped>\n",
       "    .dataframe tbody tr th:only-of-type {\n",
       "        vertical-align: middle;\n",
       "    }\n",
       "\n",
       "    .dataframe tbody tr th {\n",
       "        vertical-align: top;\n",
       "    }\n",
       "\n",
       "    .dataframe thead th {\n",
       "        text-align: right;\n",
       "    }\n",
       "</style>\n",
       "<table border=\"1\" class=\"dataframe\">\n",
       "  <thead>\n",
       "    <tr style=\"text-align: right;\">\n",
       "      <th></th>\n",
       "      <th>crm_wthr_흐림</th>\n",
       "      <th>crm_clue_타인신고</th>\n",
       "      <th>crm_clue_피해자신고</th>\n",
       "      <th>crm_clue_현행범</th>\n",
       "      <th>crm_tm_저녁</th>\n",
       "      <th>화재_사망</th>\n",
       "      <th>배치인원_수</th>\n",
       "      <th>비상벨_개수</th>\n",
       "      <th>기초수급_19세이하</th>\n",
       "      <th>외국인수</th>\n",
       "      <th>score_전반</th>\n",
       "    </tr>\n",
       "  </thead>\n",
       "  <tbody>\n",
       "    <tr>\n",
       "      <th>0</th>\n",
       "      <td>0.333333</td>\n",
       "      <td>2.348872</td>\n",
       "      <td>1.845169</td>\n",
       "      <td>0.543224</td>\n",
       "      <td>2.171075</td>\n",
       "      <td>0.5</td>\n",
       "      <td>0.412088</td>\n",
       "      <td>-0.349135</td>\n",
       "      <td>0.558545</td>\n",
       "      <td>0.550122</td>\n",
       "      <td>74.40</td>\n",
       "    </tr>\n",
       "    <tr>\n",
       "      <th>1</th>\n",
       "      <td>0.531250</td>\n",
       "      <td>0.824060</td>\n",
       "      <td>0.392164</td>\n",
       "      <td>-0.090351</td>\n",
       "      <td>0.823772</td>\n",
       "      <td>0.0</td>\n",
       "      <td>-0.340659</td>\n",
       "      <td>-0.355154</td>\n",
       "      <td>0.558545</td>\n",
       "      <td>1.315080</td>\n",
       "      <td>68.50</td>\n",
       "    </tr>\n",
       "    <tr>\n",
       "      <th>2</th>\n",
       "      <td>-0.052083</td>\n",
       "      <td>0.469173</td>\n",
       "      <td>0.855152</td>\n",
       "      <td>0.722811</td>\n",
       "      <td>1.443490</td>\n",
       "      <td>-0.5</td>\n",
       "      <td>0.071429</td>\n",
       "      <td>-0.344620</td>\n",
       "      <td>0.558545</td>\n",
       "      <td>0.871326</td>\n",
       "      <td>70.85</td>\n",
       "    </tr>\n",
       "    <tr>\n",
       "      <th>3</th>\n",
       "      <td>-0.760417</td>\n",
       "      <td>-0.538346</td>\n",
       "      <td>-0.566962</td>\n",
       "      <td>-0.630229</td>\n",
       "      <td>-0.294057</td>\n",
       "      <td>0.5</td>\n",
       "      <td>-0.741758</td>\n",
       "      <td>-0.340105</td>\n",
       "      <td>1.192499</td>\n",
       "      <td>-0.421798</td>\n",
       "      <td>70.75</td>\n",
       "    </tr>\n",
       "    <tr>\n",
       "      <th>4</th>\n",
       "      <td>-0.385417</td>\n",
       "      <td>-0.508271</td>\n",
       "      <td>-0.687888</td>\n",
       "      <td>-0.875627</td>\n",
       "      <td>-0.594297</td>\n",
       "      <td>-0.5</td>\n",
       "      <td>-0.978022</td>\n",
       "      <td>-0.338600</td>\n",
       "      <td>1.192499</td>\n",
       "      <td>-0.501924</td>\n",
       "      <td>74.45</td>\n",
       "    </tr>\n",
       "    <tr>\n",
       "      <th>...</th>\n",
       "      <td>...</td>\n",
       "      <td>...</td>\n",
       "      <td>...</td>\n",
       "      <td>...</td>\n",
       "      <td>...</td>\n",
       "      <td>...</td>\n",
       "      <td>...</td>\n",
       "      <td>...</td>\n",
       "      <td>...</td>\n",
       "      <td>...</td>\n",
       "      <td>...</td>\n",
       "    </tr>\n",
       "    <tr>\n",
       "      <th>118</th>\n",
       "      <td>-0.489583</td>\n",
       "      <td>-0.748872</td>\n",
       "      <td>-0.650593</td>\n",
       "      <td>-0.577803</td>\n",
       "      <td>-0.794229</td>\n",
       "      <td>-0.5</td>\n",
       "      <td>-0.791209</td>\n",
       "      <td>0.394281</td>\n",
       "      <td>0.247751</td>\n",
       "      <td>-0.165763</td>\n",
       "      <td>74.60</td>\n",
       "    </tr>\n",
       "    <tr>\n",
       "      <th>119</th>\n",
       "      <td>0.291667</td>\n",
       "      <td>0.418045</td>\n",
       "      <td>0.495762</td>\n",
       "      <td>0.194088</td>\n",
       "      <td>0.324287</td>\n",
       "      <td>0.0</td>\n",
       "      <td>0.472527</td>\n",
       "      <td>2.319037</td>\n",
       "      <td>0.855043</td>\n",
       "      <td>0.068142</td>\n",
       "      <td>68.75</td>\n",
       "    </tr>\n",
       "    <tr>\n",
       "      <th>120</th>\n",
       "      <td>0.145833</td>\n",
       "      <td>-0.730827</td>\n",
       "      <td>-0.394425</td>\n",
       "      <td>-0.196319</td>\n",
       "      <td>-0.569564</td>\n",
       "      <td>1.0</td>\n",
       "      <td>-0.461538</td>\n",
       "      <td>0.153499</td>\n",
       "      <td>-0.737151</td>\n",
       "      <td>0.217810</td>\n",
       "      <td>73.05</td>\n",
       "    </tr>\n",
       "    <tr>\n",
       "      <th>121</th>\n",
       "      <td>-0.510417</td>\n",
       "      <td>-0.697744</td>\n",
       "      <td>-0.721040</td>\n",
       "      <td>-0.356944</td>\n",
       "      <td>-0.807970</td>\n",
       "      <td>1.5</td>\n",
       "      <td>-0.587912</td>\n",
       "      <td>-0.293454</td>\n",
       "      <td>-0.780397</td>\n",
       "      <td>0.143020</td>\n",
       "      <td>71.75</td>\n",
       "    </tr>\n",
       "    <tr>\n",
       "      <th>122</th>\n",
       "      <td>-0.760417</td>\n",
       "      <td>0.430075</td>\n",
       "      <td>-0.569976</td>\n",
       "      <td>-0.944785</td>\n",
       "      <td>-0.688423</td>\n",
       "      <td>-0.5</td>\n",
       "      <td>-0.780220</td>\n",
       "      <td>-0.297968</td>\n",
       "      <td>-0.366648</td>\n",
       "      <td>0.070679</td>\n",
       "      <td>76.35</td>\n",
       "    </tr>\n",
       "  </tbody>\n",
       "</table>\n",
       "<p>123 rows × 11 columns</p>\n",
       "</div>"
      ],
      "text/plain": [
       "     crm_wthr_흐림  crm_clue_타인신고  crm_clue_피해자신고  crm_clue_현행범  crm_tm_저녁  \\\n",
       "0       0.333333       2.348872        1.845169      0.543224   2.171075   \n",
       "1       0.531250       0.824060        0.392164     -0.090351   0.823772   \n",
       "2      -0.052083       0.469173        0.855152      0.722811   1.443490   \n",
       "3      -0.760417      -0.538346       -0.566962     -0.630229  -0.294057   \n",
       "4      -0.385417      -0.508271       -0.687888     -0.875627  -0.594297   \n",
       "..           ...            ...             ...           ...        ...   \n",
       "118    -0.489583      -0.748872       -0.650593     -0.577803  -0.794229   \n",
       "119     0.291667       0.418045        0.495762      0.194088   0.324287   \n",
       "120     0.145833      -0.730827       -0.394425     -0.196319  -0.569564   \n",
       "121    -0.510417      -0.697744       -0.721040     -0.356944  -0.807970   \n",
       "122    -0.760417       0.430075       -0.569976     -0.944785  -0.688423   \n",
       "\n",
       "     화재_사망    배치인원_수    비상벨_개수  기초수급_19세이하      외국인수  score_전반  \n",
       "0      0.5  0.412088 -0.349135    0.558545  0.550122     74.40  \n",
       "1      0.0 -0.340659 -0.355154    0.558545  1.315080     68.50  \n",
       "2     -0.5  0.071429 -0.344620    0.558545  0.871326     70.85  \n",
       "3      0.5 -0.741758 -0.340105    1.192499 -0.421798     70.75  \n",
       "4     -0.5 -0.978022 -0.338600    1.192499 -0.501924     74.45  \n",
       "..     ...       ...       ...         ...       ...       ...  \n",
       "118   -0.5 -0.791209  0.394281    0.247751 -0.165763     74.60  \n",
       "119    0.0  0.472527  2.319037    0.855043  0.068142     68.75  \n",
       "120    1.0 -0.461538  0.153499   -0.737151  0.217810     73.05  \n",
       "121    1.5 -0.587912 -0.293454   -0.780397  0.143020     71.75  \n",
       "122   -0.5 -0.780220 -0.297968   -0.366648  0.070679     76.35  \n",
       "\n",
       "[123 rows x 11 columns]"
      ]
     },
     "execution_count": 71,
     "metadata": {},
     "output_type": "execute_result"
    }
   ],
   "source": [
    "robust_scaling(df, df.iloc[:,:-1].columns)"
   ]
  },
  {
   "cell_type": "markdown",
   "id": "eb7b5c84",
   "metadata": {},
   "source": [
    "# 설명력 보기위한 모델링"
   ]
  },
  {
   "cell_type": "code",
   "execution_count": 72,
   "id": "10d6ed64",
   "metadata": {},
   "outputs": [],
   "source": [
    "# train, test 분리\n",
    "X_train, X_test, y_train, y_test  = train_test_split(df.iloc[:,:-1], df[\"score_전반\"],test_size = 0.3, random_state=0)"
   ]
  },
  {
   "cell_type": "code",
   "execution_count": 73,
   "id": "ce0859df",
   "metadata": {},
   "outputs": [],
   "source": [
    "X = np.array(df.drop('score_전반', 1))\n",
    "Y = np.array(df['score_전반'])"
   ]
  },
  {
   "cell_type": "code",
   "execution_count": 74,
   "id": "87818569",
   "metadata": {},
   "outputs": [
    {
     "name": "stdout",
     "output_type": "stream",
     "text": [
      "0.7154950311375579 0.5239761926355011 1.4686457591910447\n"
     ]
    }
   ],
   "source": [
    "#다중회귀\n",
    "lr = LinearRegression()\n",
    "lr.fit(X_train, y_train)\n",
    "print(lr.score(X_train, y_train), lr.score(X_test, y_test),mean_absolute_error(lr.predict(X_test), y_test))"
   ]
  },
  {
   "cell_type": "code",
   "execution_count": 75,
   "id": "eb2753ad",
   "metadata": {},
   "outputs": [
    {
     "name": "stdout",
     "output_type": "stream",
     "text": [
      "Fold = 1, mae = 1.40\n",
      "Fold = 2, mae = 1.45\n",
      "Fold = 3, mae = 1.32\n",
      "Fold = 4, mae = 1.63\n",
      "Fold = 5, mae = 1.04\n",
      "------------------------------\n",
      "Average Error: 1.3680821692486056\n",
      "------------------------------\n"
     ]
    }
   ],
   "source": [
    "# 다중회귀  교차검증\n",
    "mae_kfold(lr)"
   ]
  },
  {
   "cell_type": "markdown",
   "id": "3e747078",
   "metadata": {},
   "source": [
    "## ridge"
   ]
  },
  {
   "cell_type": "code",
   "execution_count": 76,
   "id": "6e633b62",
   "metadata": {},
   "outputs": [
    {
     "name": "stdout",
     "output_type": "stream",
     "text": [
      "100 : 0.213 0.243 mae: 2.047\n",
      "10 : 0.513 0.445 mae: 1.698\n",
      "1 : 0.693 0.561 mae: 1.447\n",
      "0.1 : 0.715 0.533 mae: 1.458\n",
      "0.01 : 0.715 0.525 mae: 1.467\n",
      "0.001 : 0.715 0.524 mae: 1.468\n",
      "0.0001 : 0.715 0.524 mae: 1.469\n"
     ]
    }
   ],
   "source": [
    "# ridge\n",
    "alphas_finder(Ridge)"
   ]
  },
  {
   "cell_type": "code",
   "execution_count": 77,
   "id": "076326ad",
   "metadata": {},
   "outputs": [
    {
     "name": "stdout",
     "output_type": "stream",
     "text": [
      "Fold = 1, mae = 1.91\n",
      "Fold = 2, mae = 2.14\n",
      "Fold = 3, mae = 1.58\n",
      "Fold = 4, mae = 2.30\n",
      "Fold = 5, mae = 2.17\n",
      "------------------------------\n",
      "Average Error: 2.0182557454927252\n",
      "------------------------------\n",
      "Fold = 1, mae = 1.46\n",
      "Fold = 2, mae = 1.95\n",
      "Fold = 3, mae = 1.42\n",
      "Fold = 4, mae = 1.94\n",
      "Fold = 5, mae = 1.77\n",
      "------------------------------\n",
      "Average Error: 1.7064165304242256\n",
      "------------------------------\n",
      "Fold = 1, mae = 1.34\n",
      "Fold = 2, mae = 1.50\n",
      "Fold = 3, mae = 1.35\n",
      "Fold = 4, mae = 1.65\n",
      "Fold = 5, mae = 1.26\n",
      "------------------------------\n",
      "Average Error: 1.4221509606313638\n",
      "------------------------------\n",
      "Fold = 1, mae = 1.40\n",
      "Fold = 2, mae = 1.45\n",
      "Fold = 3, mae = 1.32\n",
      "Fold = 4, mae = 1.63\n",
      "Fold = 5, mae = 1.06\n",
      "------------------------------\n",
      "Average Error: 1.3720691687245252\n",
      "------------------------------\n",
      "Fold = 1, mae = 1.40\n",
      "Fold = 2, mae = 1.45\n",
      "Fold = 3, mae = 1.32\n",
      "Fold = 4, mae = 1.63\n",
      "Fold = 5, mae = 1.04\n",
      "------------------------------\n",
      "Average Error: 1.3684711393673463\n",
      "------------------------------\n",
      "Fold = 1, mae = 1.40\n",
      "Fold = 2, mae = 1.45\n",
      "Fold = 3, mae = 1.32\n",
      "Fold = 4, mae = 1.63\n",
      "Fold = 5, mae = 1.04\n",
      "------------------------------\n",
      "Average Error: 1.3681035349934034\n",
      "------------------------------\n",
      "Fold = 1, mae = 1.40\n",
      "Fold = 2, mae = 1.45\n",
      "Fold = 3, mae = 1.32\n",
      "Fold = 4, mae = 1.63\n",
      "Fold = 5, mae = 1.04\n",
      "------------------------------\n",
      "Average Error: 1.368084307220491\n",
      "------------------------------\n"
     ]
    }
   ],
   "source": [
    "\n",
    "for i in [100, 10, 1, 0.1, 0.01, 0.001, 0.0001]:\n",
    "    ridge = Ridge(alpha=i)\n",
    "    mae_kfold(ridge)"
   ]
  },
  {
   "cell_type": "markdown",
   "id": "229dbbc3",
   "metadata": {},
   "source": [
    "## Lasso"
   ]
  },
  {
   "cell_type": "code",
   "execution_count": 78,
   "id": "00672d13",
   "metadata": {},
   "outputs": [
    {
     "name": "stdout",
     "output_type": "stream",
     "text": [
      "100 : 0.0 -0.012 mae: 2.34\n",
      "10 : 0.0 -0.012 mae: 2.34\n",
      "1 : 0.0 -0.012 mae: 2.34\n",
      "0.1 : 0.524 0.46 mae: 1.699\n",
      "0.01 : 0.713 0.545 mae: 1.45\n",
      "0.001 : 0.715 0.526 mae: 1.465\n",
      "0.0001 : 0.715 0.524 mae: 1.468\n"
     ]
    }
   ],
   "source": [
    "# lasso\n",
    "alphas_finder(Lasso)"
   ]
  },
  {
   "cell_type": "code",
   "execution_count": 79,
   "id": "7d866653",
   "metadata": {},
   "outputs": [
    {
     "name": "stdout",
     "output_type": "stream",
     "text": [
      "Fold = 1, mae = 2.24\n",
      "Fold = 2, mae = 2.19\n",
      "Fold = 3, mae = 1.92\n",
      "Fold = 4, mae = 2.43\n",
      "Fold = 5, mae = 2.49\n",
      "------------------------------\n",
      "Average Error: 2.2515758606472893\n",
      "------------------------------\n",
      "Fold = 1, mae = 2.24\n",
      "Fold = 2, mae = 2.19\n",
      "Fold = 3, mae = 1.92\n",
      "Fold = 4, mae = 2.43\n",
      "Fold = 5, mae = 2.49\n",
      "------------------------------\n",
      "Average Error: 2.2515758606472893\n",
      "------------------------------\n",
      "Fold = 1, mae = 2.16\n",
      "Fold = 2, mae = 2.10\n",
      "Fold = 3, mae = 1.83\n",
      "Fold = 4, mae = 2.40\n",
      "Fold = 5, mae = 2.41\n",
      "------------------------------\n",
      "Average Error: 2.17889444585276\n",
      "------------------------------\n",
      "Fold = 1, mae = 1.49\n",
      "Fold = 2, mae = 1.92\n",
      "Fold = 3, mae = 1.55\n",
      "Fold = 4, mae = 2.00\n",
      "Fold = 5, mae = 1.86\n",
      "------------------------------\n",
      "Average Error: 1.7644346295895612\n",
      "------------------------------\n",
      "Fold = 1, mae = 1.38\n",
      "Fold = 2, mae = 1.46\n",
      "Fold = 3, mae = 1.34\n",
      "Fold = 4, mae = 1.64\n",
      "Fold = 5, mae = 1.12\n",
      "------------------------------\n",
      "Average Error: 1.3873222666623106\n",
      "------------------------------\n",
      "Fold = 1, mae = 1.40\n",
      "Fold = 2, mae = 1.45\n",
      "Fold = 3, mae = 1.32\n",
      "Fold = 4, mae = 1.63\n",
      "Fold = 5, mae = 1.05\n",
      "------------------------------\n",
      "Average Error: 1.3695254928056422\n",
      "------------------------------\n",
      "Fold = 1, mae = 1.40\n",
      "Fold = 2, mae = 1.45\n",
      "Fold = 3, mae = 1.32\n",
      "Fold = 4, mae = 1.63\n",
      "Fold = 5, mae = 1.04\n",
      "------------------------------\n",
      "Average Error: 1.3681977968915229\n",
      "------------------------------\n"
     ]
    }
   ],
   "source": [
    "\n",
    "for i in [100, 10, 1, 0.1, 0.01, 0.001, 0.0001]:\n",
    "    lasso = Lasso(alpha=i)\n",
    "    mae_kfold(lasso)"
   ]
  },
  {
   "cell_type": "markdown",
   "id": "699c642b",
   "metadata": {},
   "source": [
    "## ElasticNet"
   ]
  },
  {
   "cell_type": "code",
   "execution_count": 80,
   "id": "a214258a",
   "metadata": {},
   "outputs": [
    {
     "name": "stdout",
     "output_type": "stream",
     "text": [
      "100 : 0.0 -0.012 mae: 2.34\n",
      "10 : 0.0 -0.012 mae: 2.34\n",
      "1 : 0.064 0.137 mae: 2.146\n",
      "0.1 : 0.531 0.46 mae: 1.685\n",
      "0.01 : 0.706 0.558 mae: 1.441\n",
      "0.001 : 0.715 0.529 mae: 1.461\n",
      "0.0001 : 0.715 0.525 mae: 1.468\n"
     ]
    }
   ],
   "source": [
    "alphas_finder(ElasticNet)"
   ]
  },
  {
   "cell_type": "code",
   "execution_count": 81,
   "id": "1f594038",
   "metadata": {},
   "outputs": [
    {
     "name": "stdout",
     "output_type": "stream",
     "text": [
      "Fold = 1, mae = 2.24\n",
      "Fold = 2, mae = 2.19\n",
      "Fold = 3, mae = 1.92\n",
      "Fold = 4, mae = 2.43\n",
      "Fold = 5, mae = 2.49\n",
      "------------------------------\n",
      "Average Error: 2.2515758606472893\n",
      "------------------------------\n",
      "Fold = 1, mae = 2.24\n",
      "Fold = 2, mae = 2.19\n",
      "Fold = 3, mae = 1.92\n",
      "Fold = 4, mae = 2.43\n",
      "Fold = 5, mae = 2.49\n",
      "------------------------------\n",
      "Average Error: 2.2515758606472893\n",
      "------------------------------\n",
      "Fold = 1, mae = 2.04\n",
      "Fold = 2, mae = 2.07\n",
      "Fold = 3, mae = 1.75\n",
      "Fold = 4, mae = 2.38\n",
      "Fold = 5, mae = 2.33\n",
      "------------------------------\n",
      "Average Error: 2.1138734628831175\n",
      "------------------------------\n",
      "Fold = 1, mae = 1.46\n",
      "Fold = 2, mae = 1.93\n",
      "Fold = 3, mae = 1.46\n",
      "Fold = 4, mae = 1.96\n",
      "Fold = 5, mae = 1.80\n",
      "------------------------------\n",
      "Average Error: 1.7231668312991886\n",
      "------------------------------\n",
      "Fold = 1, mae = 1.36\n",
      "Fold = 2, mae = 1.48\n",
      "Fold = 3, mae = 1.35\n",
      "Fold = 4, mae = 1.64\n",
      "Fold = 5, mae = 1.20\n",
      "------------------------------\n",
      "Average Error: 1.4064718008137518\n",
      "------------------------------\n",
      "Fold = 1, mae = 1.40\n",
      "Fold = 2, mae = 1.45\n",
      "Fold = 3, mae = 1.32\n",
      "Fold = 4, mae = 1.63\n",
      "Fold = 5, mae = 1.06\n",
      "------------------------------\n",
      "Average Error: 1.3708155897125551\n",
      "------------------------------\n",
      "Fold = 1, mae = 1.40\n",
      "Fold = 2, mae = 1.45\n",
      "Fold = 3, mae = 1.32\n",
      "Fold = 4, mae = 1.63\n",
      "Fold = 5, mae = 1.04\n",
      "------------------------------\n",
      "Average Error: 1.3683324353043278\n",
      "------------------------------\n"
     ]
    }
   ],
   "source": [
    "\n",
    "for i in [100, 10, 1, 0.1, 0.01, 0.001, 0.0001]:\n",
    "    elastic = ElasticNet(alpha=i)\n",
    "    mae_kfold(elastic)"
   ]
  },
  {
   "cell_type": "markdown",
   "id": "24200ae9",
   "metadata": {},
   "source": [
    "## XGboost"
   ]
  },
  {
   "cell_type": "code",
   "execution_count": 82,
   "id": "8b2cdb82",
   "metadata": {},
   "outputs": [
    {
     "name": "stdout",
     "output_type": "stream",
     "text": [
      "0.9999998916429977 0.36993370920875857 1.8002087154903947\n"
     ]
    }
   ],
   "source": [
    "#XG boost\n",
    "xgbr = XGBRegressor()\n",
    "xgbr.fit(X_train, y_train)\n",
    "print(xgbr.score(X_train, y_train), xgbr.score(X_test, y_test),mean_absolute_error(xgbr.predict(X_test), y_test))"
   ]
  },
  {
   "cell_type": "code",
   "execution_count": 83,
   "id": "b80af59b",
   "metadata": {},
   "outputs": [
    {
     "name": "stdout",
     "output_type": "stream",
     "text": [
      "Fold = 1, mae = 1.41\n",
      "Fold = 2, mae = 1.72\n",
      "Fold = 3, mae = 1.35\n",
      "Fold = 4, mae = 2.10\n",
      "Fold = 5, mae = 2.06\n",
      "------------------------------\n",
      "Average Error: 1.7277433095296229\n",
      "------------------------------\n"
     ]
    }
   ],
   "source": [
    "#XG boost교차검증\n",
    "mae_kfold(xgbr)"
   ]
  },
  {
   "cell_type": "code",
   "execution_count": 84,
   "id": "9cbd7528",
   "metadata": {},
   "outputs": [
    {
     "name": "stdout",
     "output_type": "stream",
     "text": [
      "0.9999999495778213 0.6212256852547399 1.3239079243427987\n"
     ]
    }
   ],
   "source": [
    "#XG boost 튜닝\n",
    "xgbr = XGBRegressor(n_estimators = 400, learning_rate = 1, max_depth = 3, objective=\"reg:squarederror\")\n",
    "xgbr.fit(X_train, y_train)\n",
    "print(xgbr.score(X_train, y_train), xgbr.score(X_test, y_test),mean_absolute_error(xgbr.predict(X_test), y_test))"
   ]
  },
  {
   "cell_type": "code",
   "execution_count": 85,
   "id": "95242784",
   "metadata": {},
   "outputs": [
    {
     "name": "stdout",
     "output_type": "stream",
     "text": [
      "Fold = 1, mae = 1.51\n",
      "Fold = 2, mae = 1.68\n",
      "Fold = 3, mae = 1.57\n",
      "Fold = 4, mae = 1.86\n",
      "Fold = 5, mae = 2.11\n",
      "------------------------------\n",
      "Average Error: 1.7482345184326185\n",
      "------------------------------\n"
     ]
    }
   ],
   "source": [
    "#XG boost교차검증\n",
    "mae_kfold(xgbr)"
   ]
  },
  {
   "cell_type": "markdown",
   "id": "770fef44",
   "metadata": {},
   "source": [
    "## lightgbm"
   ]
  },
  {
   "cell_type": "code",
   "execution_count": 86,
   "id": "cd58493f",
   "metadata": {},
   "outputs": [
    {
     "name": "stdout",
     "output_type": "stream",
     "text": [
      "0.6657725726634958 0.35827182593279916 1.8047746813978396\n"
     ]
    }
   ],
   "source": [
    "#lightgbm\n",
    "lgbm = LGBMRegressor()\n",
    "lgbm.fit(X_train, y_train)\n",
    "print(lgbm.score(X_train, y_train), lgbm.score(X_test, y_test),mean_absolute_error(lgbm.predict(X_test), y_test))"
   ]
  },
  {
   "cell_type": "code",
   "execution_count": 87,
   "id": "9cfd5e32",
   "metadata": {},
   "outputs": [
    {
     "name": "stdout",
     "output_type": "stream",
     "text": [
      "Fold = 1, mae = 1.56\n",
      "Fold = 2, mae = 1.77\n",
      "Fold = 3, mae = 1.65\n",
      "Fold = 4, mae = 2.23\n",
      "Fold = 5, mae = 1.89\n",
      "------------------------------\n",
      "Average Error: 1.8198780246562785\n",
      "------------------------------\n"
     ]
    }
   ],
   "source": [
    "#lightgbm교차검증\n",
    "mae_kfold(lgbm)"
   ]
  },
  {
   "cell_type": "code",
   "execution_count": 88,
   "id": "d737326f",
   "metadata": {},
   "outputs": [
    {
     "name": "stdout",
     "output_type": "stream",
     "text": [
      "학습 결과 :  0.6617849384043624\n",
      "테스트 결과 :  0.5941104235343473\n",
      "테스트 결과 :  1.4979700468058426\n"
     ]
    }
   ],
   "source": [
    "#SVR\n",
    "svr = SVR(kernel=\"linear\")\n",
    "svr.fit(X_train, y_train)\n",
    "\n",
    "print(\"학습 결과 : \", svr.score(X_train, y_train))\n",
    "print(\"테스트 결과 : \", svr.score(X_test, y_test))\n",
    "print(\"테스트 결과 : \", mean_absolute_error(svr.predict(X_test), y_test))"
   ]
  },
  {
   "cell_type": "code",
   "execution_count": 89,
   "id": "6bcd71f5",
   "metadata": {},
   "outputs": [
    {
     "name": "stdout",
     "output_type": "stream",
     "text": [
      "Fold = 1, mae = 1.33\n",
      "Fold = 2, mae = 1.57\n",
      "Fold = 3, mae = 1.44\n",
      "Fold = 4, mae = 1.75\n",
      "Fold = 5, mae = 1.34\n",
      "------------------------------\n",
      "Average Error: 1.4857750626320665\n",
      "------------------------------\n"
     ]
    }
   ],
   "source": [
    "mae_kfold(svr)"
   ]
  },
  {
   "cell_type": "code",
   "execution_count": null,
   "id": "2e807448",
   "metadata": {},
   "outputs": [],
   "source": []
  },
  {
   "cell_type": "code",
   "execution_count": null,
   "id": "057de3ea",
   "metadata": {},
   "outputs": [],
   "source": []
  },
  {
   "cell_type": "code",
   "execution_count": null,
   "id": "e43d65db",
   "metadata": {},
   "outputs": [],
   "source": []
  },
  {
   "cell_type": "code",
   "execution_count": null,
   "id": "41b39fe6",
   "metadata": {},
   "outputs": [],
   "source": []
  }
 ],
 "metadata": {
  "kernelspec": {
   "display_name": "Python 3",
   "language": "python",
   "name": "python3"
  },
  "language_info": {
   "codemirror_mode": {
    "name": "ipython",
    "version": 3
   },
   "file_extension": ".py",
   "mimetype": "text/x-python",
   "name": "python",
   "nbconvert_exporter": "python",
   "pygments_lexer": "ipython3",
   "version": "3.8.5"
  }
 },
 "nbformat": 4,
 "nbformat_minor": 5
}
