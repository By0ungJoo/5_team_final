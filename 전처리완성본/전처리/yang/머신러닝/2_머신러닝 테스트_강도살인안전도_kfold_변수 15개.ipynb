{
 "cells": [
  {
   "cell_type": "markdown",
   "id": "7be4e5a8",
   "metadata": {},
   "source": [
    "# 결과\n",
    "\n",
    "+ best0(mae:1.81) : robust-scaling svr(kernel = linear)-> 부동산피해 천원 이상치 넘 커서 삭제\n",
    "+ best0(mae:1.84) :robust-scaling svr(kernel = linear)\n",
    "+ best1(mae:1.854) :standard-scaling svr(kernel = linear) -> 변수추가\n",
    "+ best2(mae: 1.865) : standard-scaling svr(kernel = linear) 이 가장 결과가 좋았다\n",
    "\n",
    "+ R에서 뽑은 변수들만 출력 :15개\n",
    "\n",
    "[\"crm_clue_변사체\",\"crm_clue_자수\",\"crm_clue_진정\",\"crm_clue_현행범\"\n",
    "    ,\"vic_sx_1\",\"강도살인_검거수\",\"화재_사망\",\"화재_부상\",\"화재_부동산피해_천원\",\"공원_개수\",\"자살_사망률_10만명당\"\n",
    "         ,\"자살_연령표준화사망률_10만명당\",\"기초수급_35_59세\",\"기초수급_60세이상\",\"외국인수\", \"score_강살\"]"
   ]
  },
  {
   "cell_type": "code",
   "execution_count": 1,
   "id": "4173d3e0",
   "metadata": {},
   "outputs": [],
   "source": [
    "import pandas as pd\n",
    "\n",
    "#그래프에 한글 표현하기\n",
    "import  matplotlib.pyplot as plt\n",
    "import  matplotlib.font_manager as fm\n",
    "import  matplotlib.font_manager as fm\n",
    "font_name = fm.FontProperties(fname = \"C:/Windows/Fonts/malgun.ttf\").get_name()\n",
    "plt.rc(\"font\", family = font_name)\n",
    "\n",
    "\n",
    "\n",
    "#마이너스 표시하기\n",
    "import  matplotlib as mlp\n",
    "mlp.rcParams[\"axes.unicode_minus\"]  = False\n",
    "\n",
    "import numpy as np\n",
    "import pandas  as pd\n",
    "import seaborn as sns\n",
    "##회귀분석\n",
    "import statsmodels.api as sm\n",
    "# 정규화\n",
    "from sklearn.preprocessing import MinMaxScaler\n",
    "from sklearn.preprocessing import StandardScaler\n",
    "from sklearn.preprocessing import RobustScaler\n",
    "from sklearn.feature_selection import  RFE\n",
    "from lightgbm import LGBMClassifier,  LGBMRegressor\n",
    "from lightgbm import plot_importance, plot_metric, plot_tree\n",
    "from sklearn.linear_model import Ridge\n",
    "from sklearn.linear_model import Lasso\n",
    "from sklearn.svm import SVR, SVC\n",
    "import multiprocessing \n",
    "from sklearn.pipeline import make_pipeline, Pipeline\n",
    "from sklearn.manifold import TSNE\n",
    "from sklearn.model_selection import train_test_split\n",
    "from sklearn.linear_model import  LinearRegression\n",
    "from scipy import stats\n",
    "#사용법이 파이선과 다른 기존xgb를  파이선에 맞게 만들어 놓은 것\n",
    "from  xgboost import XGBClassifier, XGBRegressor\n",
    "from sklearn.linear_model import ElasticNet\n",
    "from sklearn.preprocessing import RobustScaler\n",
    "\n",
    "#변수영향도 그래프, 트리그래프 더 쉽게 그리게 해줌\n",
    "from xgboost import plot_importance, plot_tree\n",
    "\n",
    "from sklearn.metrics import mean_absolute_error, mean_squared_error"
   ]
  },
  {
   "cell_type": "code",
   "execution_count": 2,
   "id": "c50a9146",
   "metadata": {
    "scrolled": true
   },
   "outputs": [],
   "source": [
    "df = pd.read_csv(\"../완성본_안전도_회귀분석/2_강도살인안전도.csv\")"
   ]
  },
  {
   "cell_type": "code",
   "execution_count": 3,
   "id": "6608f37f",
   "metadata": {},
   "outputs": [],
   "source": [
    "# crm_clue_변사체+crm_clue_자수+crm_clue_진정+crm_clue_현행범\n",
    "#           +vic_sx_1+강도살인_검거수+화재_사망+화재_부상+화재_부동산피해_천원\n",
    "#           +공원_개수+자살_사망률_10만명당+자살_연령표준화사망률_10만명당\n",
    "#           +기초수급_35_59세+기초수급_60세이상+외국인수"
   ]
  },
  {
   "cell_type": "code",
   "execution_count": 4,
   "id": "38b06c68",
   "metadata": {},
   "outputs": [],
   "source": [
    "#R에서 뽑은 변수들만 출력 15개 채택 \n",
    "# crm_tm_저녁 추가\n",
    "# 부동산피해 천원 이상치 너무 커서 삭제->성능오름\n",
    "df = df[[\"crm_clue_변사체\",\"crm_clue_자수\",\"crm_clue_진정\",\"crm_clue_현행범\",\"crm_tm_저녁\"\n",
    "    ,\"vic_sx_1\",\"강도살인_검거수\",\"화재_사망\",\"화재_부상\",\"공원_개수\",\"자살_사망률_10만명당\"\n",
    "         ,\"자살_연령표준화사망률_10만명당\",\"기초수급_35_59세\",\"기초수급_60세이상\",\"외국인수\", \"score_강살\"]]"
   ]
  },
  {
   "cell_type": "code",
   "execution_count": 4,
   "id": "e202bf97",
   "metadata": {},
   "outputs": [],
   "source": [
    "# #R에서 뽑은 변수들만 출력 :10개\n",
    "# df = df[[\"crm_clue_변사체\",\"crm_clue_현행범\",\"강도살인_검거수\",\"화재_사망\",\"화재_부상\",\"공원_개수\",\"자살_사망률_10만명당\",\n",
    "#         \"자살_연령표준화사망률_10만명당\",\"기초수급_19세이하\",\"외국인수\", \"score_강살\"]]"
   ]
  },
  {
   "cell_type": "code",
   "execution_count": 11,
   "id": "78087e5e",
   "metadata": {},
   "outputs": [
    {
     "data": {
      "text/html": [
       "<div>\n",
       "<style scoped>\n",
       "    .dataframe tbody tr th:only-of-type {\n",
       "        vertical-align: middle;\n",
       "    }\n",
       "\n",
       "    .dataframe tbody tr th {\n",
       "        vertical-align: top;\n",
       "    }\n",
       "\n",
       "    .dataframe thead th {\n",
       "        text-align: right;\n",
       "    }\n",
       "</style>\n",
       "<table border=\"1\" class=\"dataframe\">\n",
       "  <thead>\n",
       "    <tr style=\"text-align: right;\">\n",
       "      <th></th>\n",
       "      <th>crm_clue_변사체</th>\n",
       "      <th>crm_clue_자수</th>\n",
       "      <th>crm_clue_진정</th>\n",
       "      <th>crm_clue_현행범</th>\n",
       "      <th>crm_tm_저녁</th>\n",
       "      <th>vic_sx_1</th>\n",
       "      <th>강도살인_검거수</th>\n",
       "      <th>화재_사망</th>\n",
       "      <th>화재_부상</th>\n",
       "      <th>화재_부동산피해_천원</th>\n",
       "      <th>공원_개수</th>\n",
       "      <th>자살_사망률_10만명당</th>\n",
       "      <th>자살_연령표준화사망률_10만명당</th>\n",
       "      <th>기초수급_35_59세</th>\n",
       "      <th>기초수급_60세이상</th>\n",
       "      <th>외국인수</th>\n",
       "      <th>score_강살</th>\n",
       "    </tr>\n",
       "  </thead>\n",
       "  <tbody>\n",
       "    <tr>\n",
       "      <th>0</th>\n",
       "      <td>0</td>\n",
       "      <td>0</td>\n",
       "      <td>0</td>\n",
       "      <td>2</td>\n",
       "      <td>6</td>\n",
       "      <td>4</td>\n",
       "      <td>14</td>\n",
       "      <td>2</td>\n",
       "      <td>24.0</td>\n",
       "      <td>1084718.0</td>\n",
       "      <td>148</td>\n",
       "      <td>13.5</td>\n",
       "      <td>12.2</td>\n",
       "      <td>40639</td>\n",
       "      <td>50273</td>\n",
       "      <td>15295</td>\n",
       "      <td>79.20</td>\n",
       "    </tr>\n",
       "    <tr>\n",
       "      <th>1</th>\n",
       "      <td>0</td>\n",
       "      <td>0</td>\n",
       "      <td>0</td>\n",
       "      <td>4</td>\n",
       "      <td>3</td>\n",
       "      <td>8</td>\n",
       "      <td>15</td>\n",
       "      <td>1</td>\n",
       "      <td>7.0</td>\n",
       "      <td>581020.0</td>\n",
       "      <td>102</td>\n",
       "      <td>16.2</td>\n",
       "      <td>14.9</td>\n",
       "      <td>40639</td>\n",
       "      <td>50273</td>\n",
       "      <td>24040</td>\n",
       "      <td>70.80</td>\n",
       "    </tr>\n",
       "    <tr>\n",
       "      <th>2</th>\n",
       "      <td>1</td>\n",
       "      <td>0</td>\n",
       "      <td>0</td>\n",
       "      <td>4</td>\n",
       "      <td>4</td>\n",
       "      <td>5</td>\n",
       "      <td>30</td>\n",
       "      <td>0</td>\n",
       "      <td>10.0</td>\n",
       "      <td>458268.0</td>\n",
       "      <td>96</td>\n",
       "      <td>13.7</td>\n",
       "      <td>12.2</td>\n",
       "      <td>40639</td>\n",
       "      <td>50273</td>\n",
       "      <td>18967</td>\n",
       "      <td>74.10</td>\n",
       "    </tr>\n",
       "    <tr>\n",
       "      <th>3</th>\n",
       "      <td>0</td>\n",
       "      <td>0</td>\n",
       "      <td>0</td>\n",
       "      <td>3</td>\n",
       "      <td>3</td>\n",
       "      <td>3</td>\n",
       "      <td>15</td>\n",
       "      <td>2</td>\n",
       "      <td>2.0</td>\n",
       "      <td>184825.0</td>\n",
       "      <td>65</td>\n",
       "      <td>6.9</td>\n",
       "      <td>7.1</td>\n",
       "      <td>56994</td>\n",
       "      <td>66509</td>\n",
       "      <td>4184</td>\n",
       "      <td>75.25</td>\n",
       "    </tr>\n",
       "    <tr>\n",
       "      <th>4</th>\n",
       "      <td>0</td>\n",
       "      <td>0</td>\n",
       "      <td>0</td>\n",
       "      <td>1</td>\n",
       "      <td>2</td>\n",
       "      <td>3</td>\n",
       "      <td>9</td>\n",
       "      <td>0</td>\n",
       "      <td>1.0</td>\n",
       "      <td>542237.0</td>\n",
       "      <td>55</td>\n",
       "      <td>14.4</td>\n",
       "      <td>11.6</td>\n",
       "      <td>56994</td>\n",
       "      <td>66509</td>\n",
       "      <td>3268</td>\n",
       "      <td>80.75</td>\n",
       "    </tr>\n",
       "    <tr>\n",
       "      <th>...</th>\n",
       "      <td>...</td>\n",
       "      <td>...</td>\n",
       "      <td>...</td>\n",
       "      <td>...</td>\n",
       "      <td>...</td>\n",
       "      <td>...</td>\n",
       "      <td>...</td>\n",
       "      <td>...</td>\n",
       "      <td>...</td>\n",
       "      <td>...</td>\n",
       "      <td>...</td>\n",
       "      <td>...</td>\n",
       "      <td>...</td>\n",
       "      <td>...</td>\n",
       "      <td>...</td>\n",
       "      <td>...</td>\n",
       "      <td>...</td>\n",
       "    </tr>\n",
       "    <tr>\n",
       "      <th>118</th>\n",
       "      <td>0</td>\n",
       "      <td>0</td>\n",
       "      <td>0</td>\n",
       "      <td>1</td>\n",
       "      <td>0</td>\n",
       "      <td>1</td>\n",
       "      <td>3</td>\n",
       "      <td>0</td>\n",
       "      <td>10.0</td>\n",
       "      <td>241464.0</td>\n",
       "      <td>22</td>\n",
       "      <td>13.5</td>\n",
       "      <td>11.3</td>\n",
       "      <td>43894</td>\n",
       "      <td>69254</td>\n",
       "      <td>7111</td>\n",
       "      <td>79.35</td>\n",
       "    </tr>\n",
       "    <tr>\n",
       "      <th>119</th>\n",
       "      <td>2</td>\n",
       "      <td>0</td>\n",
       "      <td>0</td>\n",
       "      <td>3</td>\n",
       "      <td>0</td>\n",
       "      <td>6</td>\n",
       "      <td>3</td>\n",
       "      <td>1</td>\n",
       "      <td>9.0</td>\n",
       "      <td>95365.0</td>\n",
       "      <td>54</td>\n",
       "      <td>17.6</td>\n",
       "      <td>15.4</td>\n",
       "      <td>64943</td>\n",
       "      <td>92574</td>\n",
       "      <td>9785</td>\n",
       "      <td>74.85</td>\n",
       "    </tr>\n",
       "    <tr>\n",
       "      <th>120</th>\n",
       "      <td>0</td>\n",
       "      <td>0</td>\n",
       "      <td>0</td>\n",
       "      <td>1</td>\n",
       "      <td>2</td>\n",
       "      <td>4</td>\n",
       "      <td>8</td>\n",
       "      <td>3</td>\n",
       "      <td>17.0</td>\n",
       "      <td>5135961.0</td>\n",
       "      <td>14</td>\n",
       "      <td>8.1</td>\n",
       "      <td>8.8</td>\n",
       "      <td>14862</td>\n",
       "      <td>28268</td>\n",
       "      <td>11496</td>\n",
       "      <td>79.75</td>\n",
       "    </tr>\n",
       "    <tr>\n",
       "      <th>121</th>\n",
       "      <td>1</td>\n",
       "      <td>0</td>\n",
       "      <td>0</td>\n",
       "      <td>2</td>\n",
       "      <td>1</td>\n",
       "      <td>2</td>\n",
       "      <td>10</td>\n",
       "      <td>4</td>\n",
       "      <td>16.0</td>\n",
       "      <td>403054.0</td>\n",
       "      <td>13</td>\n",
       "      <td>12.0</td>\n",
       "      <td>11.4</td>\n",
       "      <td>14071</td>\n",
       "      <td>25508</td>\n",
       "      <td>10641</td>\n",
       "      <td>75.20</td>\n",
       "    </tr>\n",
       "    <tr>\n",
       "      <th>122</th>\n",
       "      <td>0</td>\n",
       "      <td>0</td>\n",
       "      <td>0</td>\n",
       "      <td>1</td>\n",
       "      <td>2</td>\n",
       "      <td>1</td>\n",
       "      <td>3</td>\n",
       "      <td>0</td>\n",
       "      <td>8.0</td>\n",
       "      <td>995712.0</td>\n",
       "      <td>88</td>\n",
       "      <td>18.4</td>\n",
       "      <td>18.2</td>\n",
       "      <td>15794</td>\n",
       "      <td>22678</td>\n",
       "      <td>9814</td>\n",
       "      <td>82.40</td>\n",
       "    </tr>\n",
       "  </tbody>\n",
       "</table>\n",
       "<p>123 rows × 17 columns</p>\n",
       "</div>"
      ],
      "text/plain": [
       "     crm_clue_변사체  crm_clue_자수  crm_clue_진정  crm_clue_현행범  crm_tm_저녁  \\\n",
       "0               0            0            0             2          6   \n",
       "1               0            0            0             4          3   \n",
       "2               1            0            0             4          4   \n",
       "3               0            0            0             3          3   \n",
       "4               0            0            0             1          2   \n",
       "..            ...          ...          ...           ...        ...   \n",
       "118             0            0            0             1          0   \n",
       "119             2            0            0             3          0   \n",
       "120             0            0            0             1          2   \n",
       "121             1            0            0             2          1   \n",
       "122             0            0            0             1          2   \n",
       "\n",
       "     vic_sx_1  강도살인_검거수  화재_사망  화재_부상  화재_부동산피해_천원  공원_개수  자살_사망률_10만명당  \\\n",
       "0           4        14      2   24.0    1084718.0    148          13.5   \n",
       "1           8        15      1    7.0     581020.0    102          16.2   \n",
       "2           5        30      0   10.0     458268.0     96          13.7   \n",
       "3           3        15      2    2.0     184825.0     65           6.9   \n",
       "4           3         9      0    1.0     542237.0     55          14.4   \n",
       "..        ...       ...    ...    ...          ...    ...           ...   \n",
       "118         1         3      0   10.0     241464.0     22          13.5   \n",
       "119         6         3      1    9.0      95365.0     54          17.6   \n",
       "120         4         8      3   17.0    5135961.0     14           8.1   \n",
       "121         2        10      4   16.0     403054.0     13          12.0   \n",
       "122         1         3      0    8.0     995712.0     88          18.4   \n",
       "\n",
       "     자살_연령표준화사망률_10만명당  기초수급_35_59세  기초수급_60세이상   외국인수  score_강살  \n",
       "0                 12.2        40639       50273  15295     79.20  \n",
       "1                 14.9        40639       50273  24040     70.80  \n",
       "2                 12.2        40639       50273  18967     74.10  \n",
       "3                  7.1        56994       66509   4184     75.25  \n",
       "4                 11.6        56994       66509   3268     80.75  \n",
       "..                 ...          ...         ...    ...       ...  \n",
       "118               11.3        43894       69254   7111     79.35  \n",
       "119               15.4        64943       92574   9785     74.85  \n",
       "120                8.8        14862       28268  11496     79.75  \n",
       "121               11.4        14071       25508  10641     75.20  \n",
       "122               18.2        15794       22678   9814     82.40  \n",
       "\n",
       "[123 rows x 17 columns]"
      ]
     },
     "execution_count": 11,
     "metadata": {},
     "output_type": "execute_result"
    }
   ],
   "source": [
    "df"
   ]
  },
  {
   "cell_type": "code",
   "execution_count": 9,
   "id": "df64ae64",
   "metadata": {},
   "outputs": [
    {
     "data": {
      "text/plain": [
       "<AxesSubplot:>"
      ]
     },
     "execution_count": 9,
     "metadata": {},
     "output_type": "execute_result"
    },
    {
     "data": {
      "image/png": "[encoded data removed]",
      "text/plain": [
       "<Figure size 864x504 with 1 Axes>"
      ]
     },
     "metadata": {
      "needs_background": "light"
     },
     "output_type": "display_data"
    }
   ],
   "source": [
    "#이상치 확인\n",
    "#극단값을  갖는  모습을 볼 수 있다 ->robustscale하면  좋을  듯  하다\n",
    "plt.figure(figsize = (12,7))\n",
    "sns.boxplot(data = df.iloc[:,:-1])"
   ]
  },
  {
   "cell_type": "markdown",
   "id": "eb7b5c84",
   "metadata": {},
   "source": [
    "# 설명력 보기위한 모델링"
   ]
  },
  {
   "cell_type": "code",
   "execution_count": 37,
   "id": "10d6ed64",
   "metadata": {},
   "outputs": [],
   "source": [
    "# train, test 분리\n",
    "X_train, X_test, y_train, y_test  = train_test_split(df.iloc[:,:-1], df[\"score_강살\"],test_size = 0.3, random_state=0)"
   ]
  },
  {
   "cell_type": "markdown",
   "id": "8f2141f9",
   "metadata": {},
   "source": [
    "# ridge, lasso, elasticnet을 위한 alpha값 찾기 함수"
   ]
  },
  {
   "cell_type": "code",
   "execution_count": 5,
   "id": "da669fc8",
   "metadata": {},
   "outputs": [],
   "source": [
    "def alphas_finder(model):\n",
    "    alphas = [100, 10, 1, 0.1, 0.01, 0.001, 0.0001]\n",
    "    for alpha in alphas:\n",
    "        modeling = model(alpha=alpha)\n",
    "        modeling.fit(X_train, y_train)\n",
    "        print(alpha , \":\" ,round(modeling.score(X_train, y_train),3)\n",
    "              , round(modeling.score(X_test, y_test),3)\n",
    "              ,\"mae:\",round(mean_absolute_error(modeling.predict(X_test), y_test),3))    "
   ]
  },
  {
   "cell_type": "markdown",
   "id": "3216fd54",
   "metadata": {},
   "source": [
    "# 교차검증"
   ]
  },
  {
   "cell_type": "code",
   "execution_count": 6,
   "id": "0c67695c",
   "metadata": {},
   "outputs": [],
   "source": [
    "X = np.array(df.drop('score_강살', 1))\n",
    "Y = np.array(df['score_강살'])"
   ]
  },
  {
   "cell_type": "code",
   "execution_count": 7,
   "id": "1858c12a",
   "metadata": {},
   "outputs": [],
   "source": [
    "from sklearn.model_selection import KFold\n",
    "\n",
    "#kfold 설정\n",
    "n_splits = 5\n",
    "kfold = KFold(n_splits=n_splits, shuffle=True,random_state=0)\n",
    "\n",
    "#mae kfold 교차검증 함수\n",
    "def mae_kfold(model):\n",
    "    i = 1\n",
    "    total_error = 0\n",
    "    for train_index, test_index in kfold.split(X):\n",
    "        x_train_fold, x_test_fold = X[train_index], X[test_index]\n",
    "        y_train_fold, y_test_fold = Y[train_index], Y[test_index]\n",
    "        model_pred_fold = model.fit(x_train_fold, y_train_fold).predict(x_test_fold)\n",
    "        error = mean_absolute_error(model_pred_fold, y_test_fold)\n",
    "        print('Fold = {}, mae = {:.2f}'.format(i, error))\n",
    "        total_error += error\n",
    "        i+=1\n",
    "    print('---'*10)\n",
    "    print('Average Error: %s' % (total_error / n_splits))\n",
    "    print('---'*10)"
   ]
  },
  {
   "cell_type": "markdown",
   "id": "cb94a629",
   "metadata": {},
   "source": [
    "# 모델링"
   ]
  },
  {
   "cell_type": "markdown",
   "id": "a51f61bf",
   "metadata": {},
   "source": [
    "## 1. None scaling"
   ]
  },
  {
   "cell_type": "code",
   "execution_count": 41,
   "id": "87818569",
   "metadata": {},
   "outputs": [
    {
     "name": "stdout",
     "output_type": "stream",
     "text": [
      "0.6505103008612958 0.5030222875258237 1.8173257949618329\n"
     ]
    }
   ],
   "source": [
    "#다중회귀\n",
    "lr = LinearRegression()\n",
    "lr.fit(X_train, y_train)\n",
    "print(lr.score(X_train, y_train), lr.score(X_test, y_test),mean_absolute_error(lr.predict(X_test), y_test))"
   ]
  },
  {
   "cell_type": "code",
   "execution_count": 42,
   "id": "eb2753ad",
   "metadata": {},
   "outputs": [
    {
     "name": "stdout",
     "output_type": "stream",
     "text": [
      "Fold = 1, mae = 1.55\n",
      "Fold = 2, mae = 2.35\n",
      "Fold = 3, mae = 1.91\n",
      "Fold = 4, mae = 1.99\n",
      "Fold = 5, mae = 1.74\n",
      "------------------------------\n",
      "Average Error: 1.905512476713269\n",
      "------------------------------\n"
     ]
    }
   ],
   "source": [
    "# 다중회귀  교차검증\n",
    "mae_kfold(lr)"
   ]
  },
  {
   "cell_type": "markdown",
   "id": "3e747078",
   "metadata": {},
   "source": [
    "## ridge"
   ]
  },
  {
   "cell_type": "code",
   "execution_count": 43,
   "id": "6e633b62",
   "metadata": {},
   "outputs": [
    {
     "name": "stdout",
     "output_type": "stream",
     "text": [
      "100 : 0.541 0.537 mae: 1.821\n",
      "10 : 0.623 0.529 mae: 1.774\n",
      "1 : 0.648 0.513 mae: 1.791\n",
      "0.1 : 0.65 0.504 mae: 1.814\n",
      "0.01 : 0.651 0.503 mae: 1.817\n",
      "0.001 : 0.651 0.503 mae: 1.817\n",
      "0.0001 : 0.651 0.503 mae: 1.817\n"
     ]
    }
   ],
   "source": [
    "# ridge\n",
    "alphas_finder(Ridge)"
   ]
  },
  {
   "cell_type": "code",
   "execution_count": 44,
   "id": "076326ad",
   "metadata": {},
   "outputs": [
    {
     "name": "stdout",
     "output_type": "stream",
     "text": [
      "Fold = 1, mae = 1.68\n",
      "Fold = 2, mae = 2.02\n",
      "Fold = 3, mae = 1.56\n",
      "Fold = 4, mae = 2.33\n",
      "Fold = 5, mae = 2.00\n",
      "------------------------------\n",
      "Average Error: 1.9183682658591592\n",
      "------------------------------\n",
      "Fold = 1, mae = 1.55\n",
      "Fold = 2, mae = 2.20\n",
      "Fold = 3, mae = 1.78\n",
      "Fold = 4, mae = 2.12\n",
      "Fold = 5, mae = 1.85\n",
      "------------------------------\n",
      "Average Error: 1.9002304736944062\n",
      "------------------------------\n",
      "Fold = 1, mae = 1.54\n",
      "Fold = 2, mae = 2.31\n",
      "Fold = 3, mae = 1.82\n",
      "Fold = 4, mae = 2.00\n",
      "Fold = 5, mae = 1.77\n",
      "------------------------------\n",
      "Average Error: 1.8864080710506215\n",
      "------------------------------\n",
      "Fold = 1, mae = 1.54\n",
      "Fold = 2, mae = 2.34\n",
      "Fold = 3, mae = 1.88\n",
      "Fold = 4, mae = 1.99\n",
      "Fold = 5, mae = 1.74\n",
      "------------------------------\n",
      "Average Error: 1.9000096944622034\n",
      "------------------------------\n",
      "Fold = 1, mae = 1.55\n",
      "Fold = 2, mae = 2.35\n",
      "Fold = 3, mae = 1.90\n",
      "Fold = 4, mae = 1.99\n",
      "Fold = 5, mae = 1.74\n",
      "------------------------------\n",
      "Average Error: 1.9049063035712002\n",
      "------------------------------\n",
      "Fold = 1, mae = 1.55\n",
      "Fold = 2, mae = 2.35\n",
      "Fold = 3, mae = 1.91\n",
      "Fold = 4, mae = 1.99\n",
      "Fold = 5, mae = 1.74\n",
      "------------------------------\n",
      "Average Error: 1.9054512346220907\n",
      "------------------------------\n",
      "Fold = 1, mae = 1.55\n",
      "Fold = 2, mae = 2.35\n",
      "Fold = 3, mae = 1.91\n",
      "Fold = 4, mae = 1.99\n",
      "Fold = 5, mae = 1.74\n",
      "------------------------------\n",
      "Average Error: 1.9055063461840631\n",
      "------------------------------\n"
     ]
    }
   ],
   "source": [
    "\n",
    "for i in [100, 10, 1, 0.1, 0.01, 0.001, 0.0001]:\n",
    "    ridge = Ridge(alpha=i)\n",
    "    mae_kfold(ridge)"
   ]
  },
  {
   "cell_type": "markdown",
   "id": "229dbbc3",
   "metadata": {},
   "source": [
    "## Lasso"
   ]
  },
  {
   "cell_type": "code",
   "execution_count": 45,
   "id": "00672d13",
   "metadata": {},
   "outputs": [
    {
     "name": "stdout",
     "output_type": "stream",
     "text": [
      "100 : 0.23 0.415 mae: 2.069\n",
      "10 : 0.325 0.474 mae: 1.942\n",
      "1 : 0.398 0.502 mae: 1.864\n",
      "0.1 : 0.602 0.513 mae: 1.831\n",
      "0.01 : 0.65 0.51 mae: 1.802\n",
      "0.001 : 0.651 0.504 mae: 1.816\n",
      "0.0001 : 0.651 0.503 mae: 1.817\n"
     ]
    }
   ],
   "source": [
    "# lasso\n",
    "alphas_finder(Lasso)"
   ]
  },
  {
   "cell_type": "code",
   "execution_count": 46,
   "id": "7d866653",
   "metadata": {},
   "outputs": [
    {
     "name": "stdout",
     "output_type": "stream",
     "text": [
      "Fold = 1, mae = 2.22\n",
      "Fold = 2, mae = 1.79\n",
      "Fold = 3, mae = 1.86\n",
      "Fold = 4, mae = 2.62\n",
      "Fold = 5, mae = 2.24\n",
      "------------------------------\n",
      "Average Error: 2.147531576248708\n",
      "------------------------------\n",
      "Fold = 1, mae = 2.06\n",
      "Fold = 2, mae = 1.60\n",
      "Fold = 3, mae = 1.82\n",
      "Fold = 4, mae = 2.54\n",
      "Fold = 5, mae = 2.13\n",
      "------------------------------\n",
      "Average Error: 2.0306032891848265\n",
      "------------------------------\n",
      "Fold = 1, mae = 1.97\n",
      "Fold = 2, mae = 1.76\n",
      "Fold = 3, mae = 1.80\n",
      "Fold = 4, mae = 2.56\n",
      "Fold = 5, mae = 2.10\n",
      "------------------------------\n",
      "Average Error: 2.037645847143144\n",
      "------------------------------\n",
      "Fold = 1, mae = 1.55\n",
      "Fold = 2, mae = 2.28\n",
      "Fold = 3, mae = 1.85\n",
      "Fold = 4, mae = 2.32\n",
      "Fold = 5, mae = 1.88\n",
      "------------------------------\n",
      "Average Error: 1.9771575328888016\n",
      "------------------------------\n",
      "Fold = 1, mae = 1.54\n",
      "Fold = 2, mae = 2.33\n",
      "Fold = 3, mae = 1.83\n",
      "Fold = 4, mae = 2.04\n",
      "Fold = 5, mae = 1.77\n",
      "------------------------------\n",
      "Average Error: 1.9023345044695248\n",
      "------------------------------\n",
      "Fold = 1, mae = 1.54\n",
      "Fold = 2, mae = 2.34\n",
      "Fold = 3, mae = 1.90\n",
      "Fold = 4, mae = 1.99\n",
      "Fold = 5, mae = 1.74\n",
      "------------------------------\n",
      "Average Error: 1.9051181480037744\n",
      "------------------------------\n",
      "Fold = 1, mae = 1.55\n",
      "Fold = 2, mae = 2.35\n",
      "Fold = 3, mae = 1.91\n",
      "Fold = 4, mae = 1.99\n",
      "Fold = 5, mae = 1.74\n",
      "------------------------------\n",
      "Average Error: 1.905473043060868\n",
      "------------------------------\n"
     ]
    },
    {
     "name": "stderr",
     "output_type": "stream",
     "text": [
      "C:\\Users\\user\\anaconda3\\lib\\site-packages\\sklearn\\linear_model\\_coordinate_descent.py:529: ConvergenceWarning: Objective did not converge. You might want to increase the number of iterations. Duality gap: 0.2531210968500659, tolerance: 0.09859254545454542\n",
      "  model = cd_fast.enet_coordinate_descent(\n",
      "C:\\Users\\user\\anaconda3\\lib\\site-packages\\sklearn\\linear_model\\_coordinate_descent.py:529: ConvergenceWarning: Objective did not converge. You might want to increase the number of iterations. Duality gap: 0.36478997227123955, tolerance: 0.10373499999999998\n",
      "  model = cd_fast.enet_coordinate_descent(\n",
      "C:\\Users\\user\\anaconda3\\lib\\site-packages\\sklearn\\linear_model\\_coordinate_descent.py:529: ConvergenceWarning: Objective did not converge. You might want to increase the number of iterations. Duality gap: 12.981900553778132, tolerance: 0.09859254545454542\n",
      "  model = cd_fast.enet_coordinate_descent(\n"
     ]
    }
   ],
   "source": [
    "for i in [100, 10, 1, 0.1, 0.01, 0.001, 0.0001]:\n",
    "    lasso = Lasso(alpha=i)\n",
    "    mae_kfold(lasso)"
   ]
  },
  {
   "cell_type": "markdown",
   "id": "699c642b",
   "metadata": {},
   "source": [
    "## ElasticNet"
   ]
  },
  {
   "cell_type": "code",
   "execution_count": 47,
   "id": "a214258a",
   "metadata": {},
   "outputs": [
    {
     "name": "stdout",
     "output_type": "stream",
     "text": [
      "100 : 0.23 0.419 mae: 2.064\n",
      "10 : 0.332 0.474 mae: 1.926\n",
      "1 : 0.461 0.509 mae: 1.869\n",
      "0.1 : 0.62 0.527 mae: 1.786\n",
      "0.01 : 0.649 0.511 mae: 1.797\n",
      "0.001 : 0.65 0.504 mae: 1.815\n",
      "0.0001 : 0.651 0.503 mae: 1.817\n"
     ]
    }
   ],
   "source": [
    "alphas_finder(ElasticNet)"
   ]
  },
  {
   "cell_type": "code",
   "execution_count": 48,
   "id": "1f594038",
   "metadata": {},
   "outputs": [
    {
     "name": "stdout",
     "output_type": "stream",
     "text": [
      "Fold = 1, mae = 2.21\n",
      "Fold = 2, mae = 1.79\n",
      "Fold = 3, mae = 1.87\n",
      "Fold = 4, mae = 2.62\n",
      "Fold = 5, mae = 2.25\n",
      "------------------------------\n",
      "Average Error: 2.149430273006391\n",
      "------------------------------\n",
      "Fold = 1, mae = 2.04\n",
      "Fold = 2, mae = 1.55\n",
      "Fold = 3, mae = 1.85\n",
      "Fold = 4, mae = 2.57\n",
      "Fold = 5, mae = 2.10\n",
      "------------------------------\n",
      "Average Error: 2.0208875047073853\n",
      "------------------------------\n",
      "Fold = 1, mae = 1.84\n",
      "Fold = 2, mae = 1.95\n",
      "Fold = 3, mae = 1.72\n",
      "Fold = 4, mae = 2.46\n",
      "Fold = 5, mae = 2.05\n",
      "------------------------------\n",
      "Average Error: 2.006620303804154\n",
      "------------------------------\n",
      "Fold = 1, mae = 1.55\n",
      "Fold = 2, mae = 2.23\n",
      "Fold = 3, mae = 1.83\n",
      "Fold = 4, mae = 2.26\n",
      "Fold = 5, mae = 1.87\n",
      "------------------------------\n",
      "Average Error: 1.9486921357626898\n",
      "------------------------------\n",
      "Fold = 1, mae = 1.54\n",
      "Fold = 2, mae = 2.32\n",
      "Fold = 3, mae = 1.81\n",
      "Fold = 4, mae = 2.02\n",
      "Fold = 5, mae = 1.77\n",
      "------------------------------\n",
      "Average Error: 1.8911279120862587\n",
      "------------------------------\n",
      "Fold = 1, mae = 1.54\n",
      "Fold = 2, mae = 2.34\n",
      "Fold = 3, mae = 1.89\n",
      "Fold = 4, mae = 1.99\n",
      "Fold = 5, mae = 1.74\n",
      "------------------------------\n",
      "Average Error: 1.9025069504745609\n",
      "------------------------------\n",
      "Fold = 1, mae = 1.55\n",
      "Fold = 2, mae = 2.35\n",
      "Fold = 3, mae = 1.90\n",
      "Fold = 4, mae = 1.99\n",
      "Fold = 5, mae = 1.74\n",
      "------------------------------\n",
      "Average Error: 1.905194721322053\n",
      "------------------------------\n"
     ]
    },
    {
     "name": "stderr",
     "output_type": "stream",
     "text": [
      "C:\\Users\\user\\anaconda3\\lib\\site-packages\\sklearn\\linear_model\\_coordinate_descent.py:529: ConvergenceWarning: Objective did not converge. You might want to increase the number of iterations. Duality gap: 0.8602750880137933, tolerance: 0.09859254545454542\n",
      "  model = cd_fast.enet_coordinate_descent(\n",
      "C:\\Users\\user\\anaconda3\\lib\\site-packages\\sklearn\\linear_model\\_coordinate_descent.py:529: ConvergenceWarning: Objective did not converge. You might want to increase the number of iterations. Duality gap: 1.319367870452254, tolerance: 0.10373499999999998\n",
      "  model = cd_fast.enet_coordinate_descent(\n",
      "C:\\Users\\user\\anaconda3\\lib\\site-packages\\sklearn\\linear_model\\_coordinate_descent.py:529: ConvergenceWarning: Objective did not converge. You might want to increase the number of iterations. Duality gap: 31.754160145823505, tolerance: 0.09859254545454542\n",
      "  model = cd_fast.enet_coordinate_descent(\n"
     ]
    }
   ],
   "source": [
    "\n",
    "for i in [100, 10, 1, 0.1, 0.01, 0.001, 0.0001]:\n",
    "    elastic = ElasticNet(alpha=i)\n",
    "    mae_kfold(elastic)"
   ]
  },
  {
   "cell_type": "markdown",
   "id": "24200ae9",
   "metadata": {},
   "source": [
    "## XGboost"
   ]
  },
  {
   "cell_type": "code",
   "execution_count": 49,
   "id": "8b2cdb82",
   "metadata": {},
   "outputs": [
    {
     "name": "stdout",
     "output_type": "stream",
     "text": [
      "0.9999999210578039 0.36890937350771014 2.172114521748311\n"
     ]
    }
   ],
   "source": [
    "#XG boost\n",
    "xgbr = XGBRegressor()\n",
    "xgbr.fit(X_train, y_train)\n",
    "print(xgbr.score(X_train, y_train), xgbr.score(X_test, y_test),mean_absolute_error(xgbr.predict(X_test), y_test))"
   ]
  },
  {
   "cell_type": "code",
   "execution_count": 50,
   "id": "b80af59b",
   "metadata": {},
   "outputs": [
    {
     "name": "stdout",
     "output_type": "stream",
     "text": [
      "Fold = 1, mae = 2.21\n",
      "Fold = 2, mae = 1.97\n",
      "Fold = 3, mae = 1.76\n",
      "Fold = 4, mae = 2.63\n",
      "Fold = 5, mae = 2.56\n",
      "------------------------------\n",
      "Average Error: 2.2268445068359384\n",
      "------------------------------\n"
     ]
    }
   ],
   "source": [
    "#XG boost교차검증\n",
    "mae_kfold(xgbr)"
   ]
  },
  {
   "cell_type": "code",
   "execution_count": 51,
   "id": "9cbd7528",
   "metadata": {},
   "outputs": [
    {
     "name": "stdout",
     "output_type": "stream",
     "text": [
      "0.9999999508971528 0.1030050263634531 2.620041512154243\n"
     ]
    }
   ],
   "source": [
    "#XG boost 튜닝\n",
    "xgbr = XGBRegressor(n_estimators = 400, learning_rate = 1, max_depth = 3, objective=\"reg:squarederror\")\n",
    "xgbr.fit(X_train, y_train)\n",
    "print(xgbr.score(X_train, y_train), xgbr.score(X_test, y_test),mean_absolute_error(xgbr.predict(X_test), y_test))"
   ]
  },
  {
   "cell_type": "code",
   "execution_count": 52,
   "id": "95242784",
   "metadata": {},
   "outputs": [
    {
     "name": "stdout",
     "output_type": "stream",
     "text": [
      "Fold = 1, mae = 2.40\n",
      "Fold = 2, mae = 2.39\n",
      "Fold = 3, mae = 2.05\n",
      "Fold = 4, mae = 2.85\n",
      "Fold = 5, mae = 3.55\n",
      "------------------------------\n",
      "Average Error: 2.6483396189371744\n",
      "------------------------------\n"
     ]
    }
   ],
   "source": [
    "#XG boost교차검증\n",
    "mae_kfold(xgbr)"
   ]
  },
  {
   "cell_type": "markdown",
   "id": "770fef44",
   "metadata": {},
   "source": [
    "## lightgbm"
   ]
  },
  {
   "cell_type": "code",
   "execution_count": 53,
   "id": "cd58493f",
   "metadata": {},
   "outputs": [
    {
     "name": "stdout",
     "output_type": "stream",
     "text": [
      "0.709712795879962 0.3677811624164332 2.2716637825933215\n"
     ]
    }
   ],
   "source": [
    "#lightgbm\n",
    "lgbm = LGBMRegressor()\n",
    "lgbm.fit(X_train, y_train)\n",
    "print(lgbm.score(X_train, y_train), lgbm.score(X_test, y_test),mean_absolute_error(lgbm.predict(X_test), y_test))"
   ]
  },
  {
   "cell_type": "code",
   "execution_count": 54,
   "id": "9cfd5e32",
   "metadata": {},
   "outputs": [
    {
     "name": "stdout",
     "output_type": "stream",
     "text": [
      "Fold = 1, mae = 2.40\n",
      "Fold = 2, mae = 2.39\n",
      "Fold = 3, mae = 2.05\n",
      "Fold = 4, mae = 2.85\n",
      "Fold = 5, mae = 3.55\n",
      "------------------------------\n",
      "Average Error: 2.6483396189371744\n",
      "------------------------------\n"
     ]
    }
   ],
   "source": [
    "#lightgbm교차검증\n",
    "mae_kfold(xgbr)"
   ]
  },
  {
   "cell_type": "markdown",
   "id": "cfe50b46",
   "metadata": {},
   "source": [
    "-----------\n",
    "# 2. Scaling"
   ]
  },
  {
   "cell_type": "markdown",
   "id": "a84d4059",
   "metadata": {},
   "source": [
    "### 각변수 minmaxscaling\n",
    "\n"
   ]
  },
  {
   "cell_type": "code",
   "execution_count": 58,
   "id": "e627c860",
   "metadata": {},
   "outputs": [],
   "source": [
    "#각 변수들을 스케일링 하는 함수\n",
    "\n",
    "def minmax_scaling(df, scale_columns):\n",
    "    for col in scale_columns:\n",
    "        series_min = df[col].min()\n",
    "        series_max = df[col].max()\n",
    "        df[col] = df[col].apply(lambda x: (x-series_min)/(series_max-series_min))\n",
    "        \n",
    "            \n",
    "    return df"
   ]
  },
  {
   "cell_type": "code",
   "execution_count": 59,
   "id": "175382e8",
   "metadata": {},
   "outputs": [
    {
     "data": {
      "text/plain": [
       "Index(['crm_clue_변사체', 'crm_clue_자수', 'crm_clue_진정', 'crm_clue_현행범',\n",
       "       'crm_tm_저녁', 'vic_sx_1', '강도살인_검거수', '화재_사망', '화재_부상', '공원_개수',\n",
       "       '자살_사망률_10만명당', '자살_연령표준화사망률_10만명당', '기초수급_35_59세', '기초수급_60세이상',\n",
       "       '외국인수', 'score_강살'],\n",
       "      dtype='object')"
      ]
     },
     "execution_count": 59,
     "metadata": {},
     "output_type": "execute_result"
    }
   ],
   "source": [
    "df.columns"
   ]
  },
  {
   "cell_type": "code",
   "execution_count": 60,
   "id": "7123ad2e",
   "metadata": {
    "scrolled": true
   },
   "outputs": [
    {
     "data": {
      "text/html": [
       "<div>\n",
       "<style scoped>\n",
       "    .dataframe tbody tr th:only-of-type {\n",
       "        vertical-align: middle;\n",
       "    }\n",
       "\n",
       "    .dataframe tbody tr th {\n",
       "        vertical-align: top;\n",
       "    }\n",
       "\n",
       "    .dataframe thead th {\n",
       "        text-align: right;\n",
       "    }\n",
       "</style>\n",
       "<table border=\"1\" class=\"dataframe\">\n",
       "  <thead>\n",
       "    <tr style=\"text-align: right;\">\n",
       "      <th></th>\n",
       "      <th>crm_clue_변사체</th>\n",
       "      <th>crm_clue_자수</th>\n",
       "      <th>crm_clue_진정</th>\n",
       "      <th>crm_clue_현행범</th>\n",
       "      <th>crm_tm_저녁</th>\n",
       "      <th>vic_sx_1</th>\n",
       "      <th>강도살인_검거수</th>\n",
       "      <th>화재_사망</th>\n",
       "      <th>화재_부상</th>\n",
       "      <th>공원_개수</th>\n",
       "      <th>자살_사망률_10만명당</th>\n",
       "      <th>자살_연령표준화사망률_10만명당</th>\n",
       "      <th>기초수급_35_59세</th>\n",
       "      <th>기초수급_60세이상</th>\n",
       "      <th>외국인수</th>\n",
       "      <th>score_강살</th>\n",
       "    </tr>\n",
       "  </thead>\n",
       "  <tbody>\n",
       "    <tr>\n",
       "      <th>0</th>\n",
       "      <td>0.00</td>\n",
       "      <td>0.0</td>\n",
       "      <td>0.0</td>\n",
       "      <td>0.181818</td>\n",
       "      <td>0.750</td>\n",
       "      <td>0.2500</td>\n",
       "      <td>0.448276</td>\n",
       "      <td>0.142857</td>\n",
       "      <td>0.469388</td>\n",
       "      <td>0.876623</td>\n",
       "      <td>0.506098</td>\n",
       "      <td>0.490909</td>\n",
       "      <td>0.361436</td>\n",
       "      <td>0.303802</td>\n",
       "      <td>0.244742</td>\n",
       "      <td>79.20</td>\n",
       "    </tr>\n",
       "    <tr>\n",
       "      <th>1</th>\n",
       "      <td>0.00</td>\n",
       "      <td>0.0</td>\n",
       "      <td>0.0</td>\n",
       "      <td>0.363636</td>\n",
       "      <td>0.375</td>\n",
       "      <td>0.5000</td>\n",
       "      <td>0.482759</td>\n",
       "      <td>0.071429</td>\n",
       "      <td>0.122449</td>\n",
       "      <td>0.577922</td>\n",
       "      <td>0.670732</td>\n",
       "      <td>0.654545</td>\n",
       "      <td>0.361436</td>\n",
       "      <td>0.303802</td>\n",
       "      <td>0.405098</td>\n",
       "      <td>70.80</td>\n",
       "    </tr>\n",
       "    <tr>\n",
       "      <th>2</th>\n",
       "      <td>0.25</td>\n",
       "      <td>0.0</td>\n",
       "      <td>0.0</td>\n",
       "      <td>0.363636</td>\n",
       "      <td>0.500</td>\n",
       "      <td>0.3125</td>\n",
       "      <td>1.000000</td>\n",
       "      <td>0.000000</td>\n",
       "      <td>0.183673</td>\n",
       "      <td>0.538961</td>\n",
       "      <td>0.518293</td>\n",
       "      <td>0.490909</td>\n",
       "      <td>0.361436</td>\n",
       "      <td>0.303802</td>\n",
       "      <td>0.312075</td>\n",
       "      <td>74.10</td>\n",
       "    </tr>\n",
       "    <tr>\n",
       "      <th>3</th>\n",
       "      <td>0.00</td>\n",
       "      <td>0.0</td>\n",
       "      <td>0.0</td>\n",
       "      <td>0.272727</td>\n",
       "      <td>0.375</td>\n",
       "      <td>0.1875</td>\n",
       "      <td>0.482759</td>\n",
       "      <td>0.142857</td>\n",
       "      <td>0.020408</td>\n",
       "      <td>0.337662</td>\n",
       "      <td>0.103659</td>\n",
       "      <td>0.181818</td>\n",
       "      <td>0.543703</td>\n",
       "      <td>0.429417</td>\n",
       "      <td>0.041001</td>\n",
       "      <td>75.25</td>\n",
       "    </tr>\n",
       "    <tr>\n",
       "      <th>4</th>\n",
       "      <td>0.00</td>\n",
       "      <td>0.0</td>\n",
       "      <td>0.0</td>\n",
       "      <td>0.090909</td>\n",
       "      <td>0.250</td>\n",
       "      <td>0.1875</td>\n",
       "      <td>0.275862</td>\n",
       "      <td>0.000000</td>\n",
       "      <td>0.000000</td>\n",
       "      <td>0.272727</td>\n",
       "      <td>0.560976</td>\n",
       "      <td>0.454545</td>\n",
       "      <td>0.543703</td>\n",
       "      <td>0.429417</td>\n",
       "      <td>0.024205</td>\n",
       "      <td>80.75</td>\n",
       "    </tr>\n",
       "    <tr>\n",
       "      <th>...</th>\n",
       "      <td>...</td>\n",
       "      <td>...</td>\n",
       "      <td>...</td>\n",
       "      <td>...</td>\n",
       "      <td>...</td>\n",
       "      <td>...</td>\n",
       "      <td>...</td>\n",
       "      <td>...</td>\n",
       "      <td>...</td>\n",
       "      <td>...</td>\n",
       "      <td>...</td>\n",
       "      <td>...</td>\n",
       "      <td>...</td>\n",
       "      <td>...</td>\n",
       "      <td>...</td>\n",
       "      <td>...</td>\n",
       "    </tr>\n",
       "    <tr>\n",
       "      <th>118</th>\n",
       "      <td>0.00</td>\n",
       "      <td>0.0</td>\n",
       "      <td>0.0</td>\n",
       "      <td>0.090909</td>\n",
       "      <td>0.000</td>\n",
       "      <td>0.0625</td>\n",
       "      <td>0.068966</td>\n",
       "      <td>0.000000</td>\n",
       "      <td>0.183673</td>\n",
       "      <td>0.058442</td>\n",
       "      <td>0.506098</td>\n",
       "      <td>0.436364</td>\n",
       "      <td>0.397711</td>\n",
       "      <td>0.450655</td>\n",
       "      <td>0.094673</td>\n",
       "      <td>79.35</td>\n",
       "    </tr>\n",
       "    <tr>\n",
       "      <th>119</th>\n",
       "      <td>0.50</td>\n",
       "      <td>0.0</td>\n",
       "      <td>0.0</td>\n",
       "      <td>0.272727</td>\n",
       "      <td>0.000</td>\n",
       "      <td>0.3750</td>\n",
       "      <td>0.068966</td>\n",
       "      <td>0.071429</td>\n",
       "      <td>0.163265</td>\n",
       "      <td>0.266234</td>\n",
       "      <td>0.756098</td>\n",
       "      <td>0.684848</td>\n",
       "      <td>0.632290</td>\n",
       "      <td>0.631077</td>\n",
       "      <td>0.143706</td>\n",
       "      <td>74.85</td>\n",
       "    </tr>\n",
       "    <tr>\n",
       "      <th>120</th>\n",
       "      <td>0.00</td>\n",
       "      <td>0.0</td>\n",
       "      <td>0.0</td>\n",
       "      <td>0.090909</td>\n",
       "      <td>0.250</td>\n",
       "      <td>0.2500</td>\n",
       "      <td>0.241379</td>\n",
       "      <td>0.214286</td>\n",
       "      <td>0.326531</td>\n",
       "      <td>0.006494</td>\n",
       "      <td>0.176829</td>\n",
       "      <td>0.284848</td>\n",
       "      <td>0.074166</td>\n",
       "      <td>0.133553</td>\n",
       "      <td>0.175080</td>\n",
       "      <td>79.75</td>\n",
       "    </tr>\n",
       "    <tr>\n",
       "      <th>121</th>\n",
       "      <td>0.25</td>\n",
       "      <td>0.0</td>\n",
       "      <td>0.0</td>\n",
       "      <td>0.181818</td>\n",
       "      <td>0.125</td>\n",
       "      <td>0.1250</td>\n",
       "      <td>0.310345</td>\n",
       "      <td>0.285714</td>\n",
       "      <td>0.306122</td>\n",
       "      <td>0.000000</td>\n",
       "      <td>0.414634</td>\n",
       "      <td>0.442424</td>\n",
       "      <td>0.065351</td>\n",
       "      <td>0.112199</td>\n",
       "      <td>0.159402</td>\n",
       "      <td>75.20</td>\n",
       "    </tr>\n",
       "    <tr>\n",
       "      <th>122</th>\n",
       "      <td>0.00</td>\n",
       "      <td>0.0</td>\n",
       "      <td>0.0</td>\n",
       "      <td>0.090909</td>\n",
       "      <td>0.250</td>\n",
       "      <td>0.0625</td>\n",
       "      <td>0.068966</td>\n",
       "      <td>0.000000</td>\n",
       "      <td>0.142857</td>\n",
       "      <td>0.487013</td>\n",
       "      <td>0.804878</td>\n",
       "      <td>0.854545</td>\n",
       "      <td>0.084553</td>\n",
       "      <td>0.090304</td>\n",
       "      <td>0.144238</td>\n",
       "      <td>82.40</td>\n",
       "    </tr>\n",
       "  </tbody>\n",
       "</table>\n",
       "<p>123 rows × 16 columns</p>\n",
       "</div>"
      ],
      "text/plain": [
       "     crm_clue_변사체  crm_clue_자수  crm_clue_진정  crm_clue_현행범  crm_tm_저녁  \\\n",
       "0            0.00          0.0          0.0      0.181818      0.750   \n",
       "1            0.00          0.0          0.0      0.363636      0.375   \n",
       "2            0.25          0.0          0.0      0.363636      0.500   \n",
       "3            0.00          0.0          0.0      0.272727      0.375   \n",
       "4            0.00          0.0          0.0      0.090909      0.250   \n",
       "..            ...          ...          ...           ...        ...   \n",
       "118          0.00          0.0          0.0      0.090909      0.000   \n",
       "119          0.50          0.0          0.0      0.272727      0.000   \n",
       "120          0.00          0.0          0.0      0.090909      0.250   \n",
       "121          0.25          0.0          0.0      0.181818      0.125   \n",
       "122          0.00          0.0          0.0      0.090909      0.250   \n",
       "\n",
       "     vic_sx_1  강도살인_검거수     화재_사망     화재_부상     공원_개수  자살_사망률_10만명당  \\\n",
       "0      0.2500  0.448276  0.142857  0.469388  0.876623      0.506098   \n",
       "1      0.5000  0.482759  0.071429  0.122449  0.577922      0.670732   \n",
       "2      0.3125  1.000000  0.000000  0.183673  0.538961      0.518293   \n",
       "3      0.1875  0.482759  0.142857  0.020408  0.337662      0.103659   \n",
       "4      0.1875  0.275862  0.000000  0.000000  0.272727      0.560976   \n",
       "..        ...       ...       ...       ...       ...           ...   \n",
       "118    0.0625  0.068966  0.000000  0.183673  0.058442      0.506098   \n",
       "119    0.3750  0.068966  0.071429  0.163265  0.266234      0.756098   \n",
       "120    0.2500  0.241379  0.214286  0.326531  0.006494      0.176829   \n",
       "121    0.1250  0.310345  0.285714  0.306122  0.000000      0.414634   \n",
       "122    0.0625  0.068966  0.000000  0.142857  0.487013      0.804878   \n",
       "\n",
       "     자살_연령표준화사망률_10만명당  기초수급_35_59세  기초수급_60세이상      외국인수  score_강살  \n",
       "0             0.490909     0.361436    0.303802  0.244742     79.20  \n",
       "1             0.654545     0.361436    0.303802  0.405098     70.80  \n",
       "2             0.490909     0.361436    0.303802  0.312075     74.10  \n",
       "3             0.181818     0.543703    0.429417  0.041001     75.25  \n",
       "4             0.454545     0.543703    0.429417  0.024205     80.75  \n",
       "..                 ...          ...         ...       ...       ...  \n",
       "118           0.436364     0.397711    0.450655  0.094673     79.35  \n",
       "119           0.684848     0.632290    0.631077  0.143706     74.85  \n",
       "120           0.284848     0.074166    0.133553  0.175080     79.75  \n",
       "121           0.442424     0.065351    0.112199  0.159402     75.20  \n",
       "122           0.854545     0.084553    0.090304  0.144238     82.40  \n",
       "\n",
       "[123 rows x 16 columns]"
      ]
     },
     "execution_count": 60,
     "metadata": {},
     "output_type": "execute_result"
    }
   ],
   "source": [
    "minmax_scaling(df, df.columns[:-1])"
   ]
  },
  {
   "cell_type": "markdown",
   "id": "5df1b5d9",
   "metadata": {},
   "source": [
    "# 설명력 보기위한 모델링"
   ]
  },
  {
   "cell_type": "code",
   "execution_count": 61,
   "id": "e3bee892",
   "metadata": {},
   "outputs": [],
   "source": [
    "# train, test 분리\n",
    "X_train, X_test, y_train, y_test  = train_test_split(df.iloc[:,:-1], df[\"score_강살\"],test_size = 0.3, random_state=0)"
   ]
  },
  {
   "cell_type": "code",
   "execution_count": 62,
   "id": "b19b8097",
   "metadata": {},
   "outputs": [],
   "source": [
    "X = np.array(df.drop('score_강살', 1))\n",
    "Y = np.array(df['score_강살'])"
   ]
  },
  {
   "cell_type": "code",
   "execution_count": 63,
   "id": "e245c722",
   "metadata": {},
   "outputs": [
    {
     "name": "stdout",
     "output_type": "stream",
     "text": [
      "0.6505103008612959 0.5030222875257917 1.8173257949612682\n"
     ]
    }
   ],
   "source": [
    "#다중회귀\n",
    "lr = LinearRegression()\n",
    "lr.fit(X_train, y_train)\n",
    "print(lr.score(X_train, y_train), lr.score(X_test, y_test),mean_absolute_error(lr.predict(X_test), y_test))"
   ]
  },
  {
   "cell_type": "code",
   "execution_count": 64,
   "id": "f4117b35",
   "metadata": {},
   "outputs": [
    {
     "name": "stdout",
     "output_type": "stream",
     "text": [
      "Fold = 1, mae = 1.55\n",
      "Fold = 2, mae = 2.35\n",
      "Fold = 3, mae = 1.91\n",
      "Fold = 4, mae = 1.99\n",
      "Fold = 5, mae = 1.74\n",
      "------------------------------\n",
      "Average Error: 1.9055124767149174\n",
      "------------------------------\n"
     ]
    }
   ],
   "source": [
    "# 다중회귀  교차검증\n",
    "mae_kfold(lr)"
   ]
  },
  {
   "cell_type": "markdown",
   "id": "5293f8a0",
   "metadata": {},
   "source": [
    "## ridge"
   ]
  },
  {
   "cell_type": "code",
   "execution_count": 65,
   "id": "49847b38",
   "metadata": {},
   "outputs": [
    {
     "name": "stdout",
     "output_type": "stream",
     "text": [
      "100 : 0.05 0.032 mae: 2.76\n",
      "10 : 0.264 0.212 mae: 2.535\n",
      "1 : 0.54 0.423 mae: 2.106\n",
      "0.1 : 0.63 0.484 mae: 1.906\n",
      "0.01 : 0.65 0.503 mae: 1.819\n",
      "0.001 : 0.65 0.503 mae: 1.817\n",
      "0.0001 : 0.651 0.503 mae: 1.817\n"
     ]
    }
   ],
   "source": [
    "# ridge\n",
    "alphas_finder(Ridge)"
   ]
  },
  {
   "cell_type": "code",
   "execution_count": 66,
   "id": "4bed0682",
   "metadata": {},
   "outputs": [
    {
     "name": "stdout",
     "output_type": "stream",
     "text": [
      "Fold = 1, mae = 2.74\n",
      "Fold = 2, mae = 2.35\n",
      "Fold = 3, mae = 2.23\n",
      "Fold = 4, mae = 2.53\n",
      "Fold = 5, mae = 2.72\n",
      "------------------------------\n",
      "Average Error: 2.5146898751103244\n",
      "------------------------------\n",
      "Fold = 1, mae = 2.52\n",
      "Fold = 2, mae = 2.09\n",
      "Fold = 3, mae = 1.79\n",
      "Fold = 4, mae = 2.43\n",
      "Fold = 5, mae = 2.47\n",
      "------------------------------\n",
      "Average Error: 2.2606326176815084\n",
      "------------------------------\n",
      "Fold = 1, mae = 2.01\n",
      "Fold = 2, mae = 2.27\n",
      "Fold = 3, mae = 1.51\n",
      "Fold = 4, mae = 2.21\n",
      "Fold = 5, mae = 1.93\n",
      "------------------------------\n",
      "Average Error: 1.9841467304671803\n",
      "------------------------------\n",
      "Fold = 1, mae = 1.64\n",
      "Fold = 2, mae = 2.44\n",
      "Fold = 3, mae = 1.63\n",
      "Fold = 4, mae = 1.97\n",
      "Fold = 5, mae = 1.82\n",
      "------------------------------\n",
      "Average Error: 1.9017056506334604\n",
      "------------------------------\n",
      "Fold = 1, mae = 1.53\n",
      "Fold = 2, mae = 2.37\n",
      "Fold = 3, mae = 1.85\n",
      "Fold = 4, mae = 1.96\n",
      "Fold = 5, mae = 1.75\n",
      "------------------------------\n",
      "Average Error: 1.894467045376753\n",
      "------------------------------\n",
      "Fold = 1, mae = 1.54\n",
      "Fold = 2, mae = 2.35\n",
      "Fold = 3, mae = 1.90\n",
      "Fold = 4, mae = 1.99\n",
      "Fold = 5, mae = 1.74\n",
      "------------------------------\n",
      "Average Error: 1.904186193270294\n",
      "------------------------------\n",
      "Fold = 1, mae = 1.54\n",
      "Fold = 2, mae = 2.35\n",
      "Fold = 3, mae = 1.91\n",
      "Fold = 4, mae = 1.99\n",
      "Fold = 5, mae = 1.74\n",
      "------------------------------\n",
      "Average Error: 1.9053781090617932\n",
      "------------------------------\n"
     ]
    }
   ],
   "source": [
    "for i in [100, 10, 1, 0.1, 0.01, 0.001, 0.0001]:\n",
    "    ridge = Ridge(alpha=i)\n",
    "    mae_kfold(ridge)"
   ]
  },
  {
   "cell_type": "markdown",
   "id": "c1762241",
   "metadata": {},
   "source": [
    "## Lasso"
   ]
  },
  {
   "cell_type": "code",
   "execution_count": 67,
   "id": "5951a556",
   "metadata": {},
   "outputs": [
    {
     "name": "stdout",
     "output_type": "stream",
     "text": [
      "100 : 0.0 -0.008 mae: 2.79\n",
      "10 : 0.0 -0.008 mae: 2.79\n",
      "1 : 0.0 -0.008 mae: 2.79\n",
      "0.1 : 0.234 0.25 mae: 2.454\n",
      "0.01 : 0.609 0.46 mae: 1.965\n",
      "0.001 : 0.65 0.504 mae: 1.818\n",
      "0.0001 : 0.651 0.503 mae: 1.817\n"
     ]
    }
   ],
   "source": [
    "# lasso\n",
    "alphas_finder(Lasso)"
   ]
  },
  {
   "cell_type": "code",
   "execution_count": 68,
   "id": "6f1a970d",
   "metadata": {},
   "outputs": [
    {
     "name": "stdout",
     "output_type": "stream",
     "text": [
      "Fold = 1, mae = 2.77\n",
      "Fold = 2, mae = 2.41\n",
      "Fold = 3, mae = 2.32\n",
      "Fold = 4, mae = 2.57\n",
      "Fold = 5, mae = 2.77\n",
      "------------------------------\n",
      "Average Error: 2.567683151240295\n",
      "------------------------------\n",
      "Fold = 1, mae = 2.77\n",
      "Fold = 2, mae = 2.41\n",
      "Fold = 3, mae = 2.32\n",
      "Fold = 4, mae = 2.57\n",
      "Fold = 5, mae = 2.77\n",
      "------------------------------\n",
      "Average Error: 2.567683151240295\n",
      "------------------------------\n",
      "Fold = 1, mae = 2.77\n",
      "Fold = 2, mae = 2.41\n",
      "Fold = 3, mae = 2.32\n",
      "Fold = 4, mae = 2.57\n",
      "Fold = 5, mae = 2.77\n",
      "------------------------------\n",
      "Average Error: 2.567683151240295\n",
      "------------------------------\n",
      "Fold = 1, mae = 2.37\n",
      "Fold = 2, mae = 2.02\n",
      "Fold = 3, mae = 1.90\n",
      "Fold = 4, mae = 2.50\n",
      "Fold = 5, mae = 2.52\n",
      "------------------------------\n",
      "Average Error: 2.2595763448831163\n",
      "------------------------------\n",
      "Fold = 1, mae = 1.80\n",
      "Fold = 2, mae = 2.50\n",
      "Fold = 3, mae = 1.60\n",
      "Fold = 4, mae = 2.17\n",
      "Fold = 5, mae = 1.89\n",
      "------------------------------\n",
      "Average Error: 1.9903391194171527\n",
      "------------------------------\n",
      "Fold = 1, mae = 1.54\n",
      "Fold = 2, mae = 2.36\n",
      "Fold = 3, mae = 1.87\n",
      "Fold = 4, mae = 2.00\n",
      "Fold = 5, mae = 1.75\n",
      "------------------------------\n",
      "Average Error: 1.9046770789149583\n",
      "------------------------------\n",
      "Fold = 1, mae = 1.54\n",
      "Fold = 2, mae = 2.35\n",
      "Fold = 3, mae = 1.90\n",
      "Fold = 4, mae = 1.99\n",
      "Fold = 5, mae = 1.74\n",
      "------------------------------\n",
      "Average Error: 1.9053654400898306\n",
      "------------------------------\n"
     ]
    }
   ],
   "source": [
    "\n",
    "for i in [100, 10, 1, 0.1, 0.01, 0.001, 0.0001]:\n",
    "    lasso = Lasso(alpha=i)\n",
    "    mae_kfold(lasso)"
   ]
  },
  {
   "cell_type": "markdown",
   "id": "ee51688d",
   "metadata": {},
   "source": [
    "## ElasticNet"
   ]
  },
  {
   "cell_type": "code",
   "execution_count": 69,
   "id": "bf00d81d",
   "metadata": {},
   "outputs": [
    {
     "name": "stdout",
     "output_type": "stream",
     "text": [
      "100 : 0.0 -0.008 mae: 2.79\n",
      "10 : 0.0 -0.008 mae: 2.79\n",
      "1 : 0.0 -0.008 mae: 2.79\n",
      "0.1 : 0.272 0.235 mae: 2.502\n",
      "0.01 : 0.574 0.441 mae: 2.043\n",
      "0.001 : 0.641 0.495 mae: 1.857\n",
      "0.0001 : 0.65 0.503 mae: 1.818\n"
     ]
    }
   ],
   "source": [
    "alphas_finder(ElasticNet)"
   ]
  },
  {
   "cell_type": "code",
   "execution_count": 70,
   "id": "6193362e",
   "metadata": {},
   "outputs": [
    {
     "name": "stdout",
     "output_type": "stream",
     "text": [
      "Fold = 1, mae = 2.77\n",
      "Fold = 2, mae = 2.41\n",
      "Fold = 3, mae = 2.32\n",
      "Fold = 4, mae = 2.57\n",
      "Fold = 5, mae = 2.77\n",
      "------------------------------\n",
      "Average Error: 2.567683151240295\n",
      "------------------------------\n",
      "Fold = 1, mae = 2.77\n",
      "Fold = 2, mae = 2.41\n",
      "Fold = 3, mae = 2.32\n",
      "Fold = 4, mae = 2.57\n",
      "Fold = 5, mae = 2.77\n",
      "------------------------------\n",
      "Average Error: 2.567683151240295\n",
      "------------------------------\n",
      "Fold = 1, mae = 2.77\n",
      "Fold = 2, mae = 2.41\n",
      "Fold = 3, mae = 2.32\n",
      "Fold = 4, mae = 2.57\n",
      "Fold = 5, mae = 2.77\n",
      "------------------------------\n",
      "Average Error: 2.567683151240295\n",
      "------------------------------\n",
      "Fold = 1, mae = 2.49\n",
      "Fold = 2, mae = 2.07\n",
      "Fold = 3, mae = 1.84\n",
      "Fold = 4, mae = 2.48\n",
      "Fold = 5, mae = 2.52\n",
      "------------------------------\n",
      "Average Error: 2.2793435325221347\n",
      "------------------------------\n",
      "Fold = 1, mae = 1.94\n",
      "Fold = 2, mae = 2.38\n",
      "Fold = 3, mae = 1.48\n",
      "Fold = 4, mae = 2.19\n",
      "Fold = 5, mae = 1.93\n",
      "------------------------------\n",
      "Average Error: 1.9836896150153076\n",
      "------------------------------\n",
      "Fold = 1, mae = 1.58\n",
      "Fold = 2, mae = 2.42\n",
      "Fold = 3, mae = 1.71\n",
      "Fold = 4, mae = 1.96\n",
      "Fold = 5, mae = 1.80\n",
      "------------------------------\n",
      "Average Error: 1.8947430573623243\n",
      "------------------------------\n",
      "Fold = 1, mae = 1.54\n",
      "Fold = 2, mae = 2.36\n",
      "Fold = 3, mae = 1.88\n",
      "Fold = 4, mae = 1.98\n",
      "Fold = 5, mae = 1.75\n",
      "------------------------------\n",
      "Average Error: 1.8992861615357863\n",
      "------------------------------\n"
     ]
    }
   ],
   "source": [
    "\n",
    "for i in [100, 10, 1, 0.1, 0.01, 0.001, 0.0001]:\n",
    "    elastic = ElasticNet(alpha=i)\n",
    "    mae_kfold(elastic)"
   ]
  },
  {
   "cell_type": "markdown",
   "id": "816350ac",
   "metadata": {},
   "source": [
    "## XGboost"
   ]
  },
  {
   "cell_type": "code",
   "execution_count": 71,
   "id": "1498eb3c",
   "metadata": {},
   "outputs": [
    {
     "name": "stdout",
     "output_type": "stream",
     "text": [
      "0.9999999210578039 0.36724660917838525 2.1749386349239863\n"
     ]
    }
   ],
   "source": [
    "#XG boost\n",
    "xgbr = XGBRegressor()\n",
    "xgbr.fit(X_train, y_train)\n",
    "print(xgbr.score(X_train, y_train), xgbr.score(X_test, y_test),mean_absolute_error(xgbr.predict(X_test), y_test))"
   ]
  },
  {
   "cell_type": "code",
   "execution_count": 72,
   "id": "769af84b",
   "metadata": {},
   "outputs": [
    {
     "name": "stdout",
     "output_type": "stream",
     "text": [
      "Fold = 1, mae = 2.21\n",
      "Fold = 2, mae = 1.97\n",
      "Fold = 3, mae = 1.76\n",
      "Fold = 4, mae = 2.63\n",
      "Fold = 5, mae = 2.56\n",
      "------------------------------\n",
      "Average Error: 2.2273705103556325\n",
      "------------------------------\n"
     ]
    }
   ],
   "source": [
    "#XG boost교차검증\n",
    "mae_kfold(xgbr)"
   ]
  },
  {
   "cell_type": "code",
   "execution_count": 73,
   "id": "f3a09b31",
   "metadata": {},
   "outputs": [
    {
     "name": "stdout",
     "output_type": "stream",
     "text": [
      "0.9999999508971528 0.10341499368872709 2.618506560454496\n"
     ]
    }
   ],
   "source": [
    "#XG boost 튜닝\n",
    "xgbr = XGBRegressor(n_estimators = 400, learning_rate = 1, max_depth = 3, objective=\"reg:squarederror\")\n",
    "xgbr.fit(X_train, y_train)\n",
    "print(xgbr.score(X_train, y_train), xgbr.score(X_test, y_test),mean_absolute_error(xgbr.predict(X_test), y_test))"
   ]
  },
  {
   "cell_type": "code",
   "execution_count": 74,
   "id": "3acb9861",
   "metadata": {},
   "outputs": [
    {
     "name": "stdout",
     "output_type": "stream",
     "text": [
      "Fold = 1, mae = 2.40\n",
      "Fold = 2, mae = 2.39\n",
      "Fold = 3, mae = 2.05\n",
      "Fold = 4, mae = 2.85\n",
      "Fold = 5, mae = 3.55\n",
      "------------------------------\n",
      "Average Error: 2.6484243967692054\n",
      "------------------------------\n"
     ]
    }
   ],
   "source": [
    "#XG boost교차검증\n",
    "mae_kfold(xgbr)"
   ]
  },
  {
   "cell_type": "markdown",
   "id": "9243ca15",
   "metadata": {},
   "source": [
    "## lightgbm"
   ]
  },
  {
   "cell_type": "code",
   "execution_count": 75,
   "id": "ed39dce9",
   "metadata": {},
   "outputs": [
    {
     "name": "stdout",
     "output_type": "stream",
     "text": [
      "0.715432393673705 0.3785844659421427 2.2351373292024634\n"
     ]
    }
   ],
   "source": [
    "#lightgbm\n",
    "lgbm = LGBMRegressor()\n",
    "lgbm.fit(X_train, y_train)\n",
    "print(lgbm.score(X_train, y_train), lgbm.score(X_test, y_test),mean_absolute_error(lgbm.predict(X_test), y_test))"
   ]
  },
  {
   "cell_type": "code",
   "execution_count": 76,
   "id": "36de94ab",
   "metadata": {},
   "outputs": [
    {
     "name": "stdout",
     "output_type": "stream",
     "text": [
      "Fold = 1, mae = 2.20\n",
      "Fold = 2, mae = 2.00\n",
      "Fold = 3, mae = 1.93\n",
      "Fold = 4, mae = 2.67\n",
      "Fold = 5, mae = 2.45\n",
      "------------------------------\n",
      "Average Error: 2.250706056117309\n",
      "------------------------------\n"
     ]
    }
   ],
   "source": [
    "#lightgbm교차검증\n",
    "mae_kfold(lgbm)"
   ]
  },
  {
   "cell_type": "code",
   "execution_count": 77,
   "id": "44741e56",
   "metadata": {},
   "outputs": [
    {
     "name": "stdout",
     "output_type": "stream",
     "text": [
      "학습 결과 :  0.39693366940202\n",
      "테스트 결과 :  0.3356841771203216\n",
      "테스트 결과 :  2.3200811118789315\n"
     ]
    }
   ],
   "source": [
    "#SVR\n",
    "svr = SVR(kernel=\"linear\")\n",
    "svr.fit(X_train, y_train)\n",
    "\n",
    "print(\"학습 결과 : \", svr.score(X_train, y_train))\n",
    "print(\"테스트 결과 : \", svr.score(X_test, y_test))\n",
    "print(\"테스트 결과 : \", mean_absolute_error(svr.predict(X_test), y_test))"
   ]
  },
  {
   "cell_type": "code",
   "execution_count": 78,
   "id": "4cd61cb7",
   "metadata": {},
   "outputs": [
    {
     "name": "stdout",
     "output_type": "stream",
     "text": [
      "Fold = 1, mae = 2.26\n",
      "Fold = 2, mae = 2.04\n",
      "Fold = 3, mae = 1.74\n",
      "Fold = 4, mae = 2.35\n",
      "Fold = 5, mae = 2.10\n",
      "------------------------------\n",
      "Average Error: 2.0993155759521427\n",
      "------------------------------\n"
     ]
    }
   ],
   "source": [
    "mae_kfold(svr)"
   ]
  },
  {
   "cell_type": "markdown",
   "id": "32b9cbb7",
   "metadata": {},
   "source": [
    "# standardscaling"
   ]
  },
  {
   "cell_type": "markdown",
   "id": "f2a5bf4d",
   "metadata": {},
   "source": [
    "#### 변수마다 Standard Scaling\n",
    "\n"
   ]
  },
  {
   "cell_type": "code",
   "execution_count": 81,
   "id": "f7199d2c",
   "metadata": {},
   "outputs": [],
   "source": [
    "#각 변수들을 스케일링 하는 함수\n",
    "\n",
    "def standard_scaling(df, scale_columns):\n",
    "    for col in scale_columns:\n",
    "        series_mean = df[col].mean()\n",
    "        series_std = df[col].std()\n",
    "        df[col] = df[col].apply(lambda x: (x-series_mean)/series_std)\n",
    "        \n",
    "    return df"
   ]
  },
  {
   "cell_type": "code",
   "execution_count": 82,
   "id": "f10f1cef",
   "metadata": {},
   "outputs": [
    {
     "data": {
      "text/plain": [
       "Index(['crm_clue_변사체', 'crm_clue_자수', 'crm_clue_진정', 'crm_clue_현행범',\n",
       "       'crm_tm_저녁', 'vic_sx_1', '강도살인_검거수', '화재_사망', '화재_부상', '공원_개수',\n",
       "       '자살_사망률_10만명당', '자살_연령표준화사망률_10만명당', '기초수급_35_59세', '기초수급_60세이상',\n",
       "       '외국인수'],\n",
       "      dtype='object')"
      ]
     },
     "execution_count": 82,
     "metadata": {},
     "output_type": "execute_result"
    }
   ],
   "source": [
    "df.iloc[:,:-1].columns"
   ]
  },
  {
   "cell_type": "code",
   "execution_count": 83,
   "id": "a71364d0",
   "metadata": {},
   "outputs": [
    {
     "data": {
      "text/html": [
       "<div>\n",
       "<style scoped>\n",
       "    .dataframe tbody tr th:only-of-type {\n",
       "        vertical-align: middle;\n",
       "    }\n",
       "\n",
       "    .dataframe tbody tr th {\n",
       "        vertical-align: top;\n",
       "    }\n",
       "\n",
       "    .dataframe thead th {\n",
       "        text-align: right;\n",
       "    }\n",
       "</style>\n",
       "<table border=\"1\" class=\"dataframe\">\n",
       "  <thead>\n",
       "    <tr style=\"text-align: right;\">\n",
       "      <th></th>\n",
       "      <th>crm_clue_변사체</th>\n",
       "      <th>crm_clue_자수</th>\n",
       "      <th>crm_clue_진정</th>\n",
       "      <th>crm_clue_현행범</th>\n",
       "      <th>crm_tm_저녁</th>\n",
       "      <th>vic_sx_1</th>\n",
       "      <th>강도살인_검거수</th>\n",
       "      <th>화재_사망</th>\n",
       "      <th>화재_부상</th>\n",
       "      <th>공원_개수</th>\n",
       "      <th>자살_사망률_10만명당</th>\n",
       "      <th>자살_연령표준화사망률_10만명당</th>\n",
       "      <th>기초수급_35_59세</th>\n",
       "      <th>기초수급_60세이상</th>\n",
       "      <th>외국인수</th>\n",
       "      <th>score_강살</th>\n",
       "    </tr>\n",
       "  </thead>\n",
       "  <tbody>\n",
       "    <tr>\n",
       "      <th>0</th>\n",
       "      <td>-0.433148</td>\n",
       "      <td>-0.268484</td>\n",
       "      <td>-0.15747</td>\n",
       "      <td>-0.380549</td>\n",
       "      <td>1.961750</td>\n",
       "      <td>-0.165449</td>\n",
       "      <td>0.914587</td>\n",
       "      <td>0.204862</td>\n",
       "      <td>1.351257</td>\n",
       "      <td>1.892891</td>\n",
       "      <td>-0.067341</td>\n",
       "      <td>0.018977</td>\n",
       "      <td>0.023030</td>\n",
       "      <td>-0.147244</td>\n",
       "      <td>0.159691</td>\n",
       "      <td>79.20</td>\n",
       "    </tr>\n",
       "    <tr>\n",
       "      <th>1</th>\n",
       "      <td>-0.433148</td>\n",
       "      <td>-0.268484</td>\n",
       "      <td>-0.15747</td>\n",
       "      <td>0.528335</td>\n",
       "      <td>0.405006</td>\n",
       "      <td>1.086873</td>\n",
       "      <td>1.100221</td>\n",
       "      <td>-0.261768</td>\n",
       "      <td>-0.524890</td>\n",
       "      <td>0.790701</td>\n",
       "      <td>0.813129</td>\n",
       "      <td>0.919307</td>\n",
       "      <td>0.023030</td>\n",
       "      <td>-0.147244</td>\n",
       "      <td>0.889381</td>\n",
       "      <td>70.80</td>\n",
       "    </tr>\n",
       "    <tr>\n",
       "      <th>2</th>\n",
       "      <td>1.342759</td>\n",
       "      <td>-0.268484</td>\n",
       "      <td>-0.15747</td>\n",
       "      <td>0.528335</td>\n",
       "      <td>0.923921</td>\n",
       "      <td>0.147632</td>\n",
       "      <td>3.884729</td>\n",
       "      <td>-0.728398</td>\n",
       "      <td>-0.193806</td>\n",
       "      <td>0.646937</td>\n",
       "      <td>-0.002121</td>\n",
       "      <td>0.018977</td>\n",
       "      <td>0.023030</td>\n",
       "      <td>-0.147244</td>\n",
       "      <td>0.466086</td>\n",
       "      <td>74.10</td>\n",
       "    </tr>\n",
       "    <tr>\n",
       "      <th>3</th>\n",
       "      <td>-0.433148</td>\n",
       "      <td>-0.268484</td>\n",
       "      <td>-0.15747</td>\n",
       "      <td>0.073893</td>\n",
       "      <td>0.405006</td>\n",
       "      <td>-0.478530</td>\n",
       "      <td>1.100221</td>\n",
       "      <td>0.204862</td>\n",
       "      <td>-1.076698</td>\n",
       "      <td>-0.095843</td>\n",
       "      <td>-2.219602</td>\n",
       "      <td>-1.681645</td>\n",
       "      <td>0.698611</td>\n",
       "      <td>0.340403</td>\n",
       "      <td>-0.767420</td>\n",
       "      <td>75.25</td>\n",
       "    </tr>\n",
       "    <tr>\n",
       "      <th>4</th>\n",
       "      <td>-0.433148</td>\n",
       "      <td>-0.268484</td>\n",
       "      <td>-0.15747</td>\n",
       "      <td>-0.834992</td>\n",
       "      <td>-0.113908</td>\n",
       "      <td>-0.478530</td>\n",
       "      <td>-0.013583</td>\n",
       "      <td>-0.728398</td>\n",
       "      <td>-1.187060</td>\n",
       "      <td>-0.335449</td>\n",
       "      <td>0.226149</td>\n",
       "      <td>-0.181096</td>\n",
       "      <td>0.698611</td>\n",
       "      <td>0.340403</td>\n",
       "      <td>-0.843852</td>\n",
       "      <td>80.75</td>\n",
       "    </tr>\n",
       "    <tr>\n",
       "      <th>...</th>\n",
       "      <td>...</td>\n",
       "      <td>...</td>\n",
       "      <td>...</td>\n",
       "      <td>...</td>\n",
       "      <td>...</td>\n",
       "      <td>...</td>\n",
       "      <td>...</td>\n",
       "      <td>...</td>\n",
       "      <td>...</td>\n",
       "      <td>...</td>\n",
       "      <td>...</td>\n",
       "      <td>...</td>\n",
       "      <td>...</td>\n",
       "      <td>...</td>\n",
       "      <td>...</td>\n",
       "      <td>...</td>\n",
       "    </tr>\n",
       "    <tr>\n",
       "      <th>118</th>\n",
       "      <td>-0.433148</td>\n",
       "      <td>-0.268484</td>\n",
       "      <td>-0.15747</td>\n",
       "      <td>-0.834992</td>\n",
       "      <td>-1.151737</td>\n",
       "      <td>-1.104691</td>\n",
       "      <td>-1.127386</td>\n",
       "      <td>-0.728398</td>\n",
       "      <td>-0.193806</td>\n",
       "      <td>-1.126150</td>\n",
       "      <td>-0.067341</td>\n",
       "      <td>-0.281133</td>\n",
       "      <td>0.157485</td>\n",
       "      <td>0.422849</td>\n",
       "      <td>-0.523189</td>\n",
       "      <td>79.35</td>\n",
       "    </tr>\n",
       "    <tr>\n",
       "      <th>119</th>\n",
       "      <td>3.118666</td>\n",
       "      <td>-0.268484</td>\n",
       "      <td>-0.15747</td>\n",
       "      <td>0.073893</td>\n",
       "      <td>-1.151737</td>\n",
       "      <td>0.460712</td>\n",
       "      <td>-1.127386</td>\n",
       "      <td>-0.261768</td>\n",
       "      <td>-0.304167</td>\n",
       "      <td>-0.359410</td>\n",
       "      <td>1.269669</td>\n",
       "      <td>1.086034</td>\n",
       "      <td>1.026963</td>\n",
       "      <td>1.123263</td>\n",
       "      <td>-0.300068</td>\n",
       "      <td>74.85</td>\n",
       "    </tr>\n",
       "    <tr>\n",
       "      <th>120</th>\n",
       "      <td>-0.433148</td>\n",
       "      <td>-0.268484</td>\n",
       "      <td>-0.15747</td>\n",
       "      <td>-0.834992</td>\n",
       "      <td>-0.113908</td>\n",
       "      <td>-0.165449</td>\n",
       "      <td>-0.199217</td>\n",
       "      <td>0.671492</td>\n",
       "      <td>0.578725</td>\n",
       "      <td>-1.317835</td>\n",
       "      <td>-1.828281</td>\n",
       "      <td>-1.114771</td>\n",
       "      <td>-1.041749</td>\n",
       "      <td>-0.808163</td>\n",
       "      <td>-0.157301</td>\n",
       "      <td>79.75</td>\n",
       "    </tr>\n",
       "    <tr>\n",
       "      <th>121</th>\n",
       "      <td>1.342759</td>\n",
       "      <td>-0.268484</td>\n",
       "      <td>-0.15747</td>\n",
       "      <td>-0.380549</td>\n",
       "      <td>-0.632822</td>\n",
       "      <td>-0.791610</td>\n",
       "      <td>0.172051</td>\n",
       "      <td>1.138121</td>\n",
       "      <td>0.468364</td>\n",
       "      <td>-1.341796</td>\n",
       "      <td>-0.556491</td>\n",
       "      <td>-0.247787</td>\n",
       "      <td>-1.074423</td>\n",
       "      <td>-0.891059</td>\n",
       "      <td>-0.228643</td>\n",
       "      <td>75.20</td>\n",
       "    </tr>\n",
       "    <tr>\n",
       "      <th>122</th>\n",
       "      <td>-0.433148</td>\n",
       "      <td>-0.268484</td>\n",
       "      <td>-0.15747</td>\n",
       "      <td>-0.834992</td>\n",
       "      <td>-0.113908</td>\n",
       "      <td>-1.104691</td>\n",
       "      <td>-1.127386</td>\n",
       "      <td>-0.728398</td>\n",
       "      <td>-0.414529</td>\n",
       "      <td>0.455252</td>\n",
       "      <td>1.530549</td>\n",
       "      <td>2.019709</td>\n",
       "      <td>-1.003251</td>\n",
       "      <td>-0.976058</td>\n",
       "      <td>-0.297648</td>\n",
       "      <td>82.40</td>\n",
       "    </tr>\n",
       "  </tbody>\n",
       "</table>\n",
       "<p>123 rows × 16 columns</p>\n",
       "</div>"
      ],
      "text/plain": [
       "     crm_clue_변사체  crm_clue_자수  crm_clue_진정  crm_clue_현행범  crm_tm_저녁  \\\n",
       "0       -0.433148    -0.268484     -0.15747     -0.380549   1.961750   \n",
       "1       -0.433148    -0.268484     -0.15747      0.528335   0.405006   \n",
       "2        1.342759    -0.268484     -0.15747      0.528335   0.923921   \n",
       "3       -0.433148    -0.268484     -0.15747      0.073893   0.405006   \n",
       "4       -0.433148    -0.268484     -0.15747     -0.834992  -0.113908   \n",
       "..            ...          ...          ...           ...        ...   \n",
       "118     -0.433148    -0.268484     -0.15747     -0.834992  -1.151737   \n",
       "119      3.118666    -0.268484     -0.15747      0.073893  -1.151737   \n",
       "120     -0.433148    -0.268484     -0.15747     -0.834992  -0.113908   \n",
       "121      1.342759    -0.268484     -0.15747     -0.380549  -0.632822   \n",
       "122     -0.433148    -0.268484     -0.15747     -0.834992  -0.113908   \n",
       "\n",
       "     vic_sx_1  강도살인_검거수     화재_사망     화재_부상     공원_개수  자살_사망률_10만명당  \\\n",
       "0   -0.165449  0.914587  0.204862  1.351257  1.892891     -0.067341   \n",
       "1    1.086873  1.100221 -0.261768 -0.524890  0.790701      0.813129   \n",
       "2    0.147632  3.884729 -0.728398 -0.193806  0.646937     -0.002121   \n",
       "3   -0.478530  1.100221  0.204862 -1.076698 -0.095843     -2.219602   \n",
       "4   -0.478530 -0.013583 -0.728398 -1.187060 -0.335449      0.226149   \n",
       "..        ...       ...       ...       ...       ...           ...   \n",
       "118 -1.104691 -1.127386 -0.728398 -0.193806 -1.126150     -0.067341   \n",
       "119  0.460712 -1.127386 -0.261768 -0.304167 -0.359410      1.269669   \n",
       "120 -0.165449 -0.199217  0.671492  0.578725 -1.317835     -1.828281   \n",
       "121 -0.791610  0.172051  1.138121  0.468364 -1.341796     -0.556491   \n",
       "122 -1.104691 -1.127386 -0.728398 -0.414529  0.455252      1.530549   \n",
       "\n",
       "     자살_연령표준화사망률_10만명당  기초수급_35_59세  기초수급_60세이상      외국인수  score_강살  \n",
       "0             0.018977     0.023030   -0.147244  0.159691     79.20  \n",
       "1             0.919307     0.023030   -0.147244  0.889381     70.80  \n",
       "2             0.018977     0.023030   -0.147244  0.466086     74.10  \n",
       "3            -1.681645     0.698611    0.340403 -0.767420     75.25  \n",
       "4            -0.181096     0.698611    0.340403 -0.843852     80.75  \n",
       "..                 ...          ...         ...       ...       ...  \n",
       "118          -0.281133     0.157485    0.422849 -0.523189     79.35  \n",
       "119           1.086034     1.026963    1.123263 -0.300068     74.85  \n",
       "120          -1.114771    -1.041749   -0.808163 -0.157301     79.75  \n",
       "121          -0.247787    -1.074423   -0.891059 -0.228643     75.20  \n",
       "122           2.019709    -1.003251   -0.976058 -0.297648     82.40  \n",
       "\n",
       "[123 rows x 16 columns]"
      ]
     },
     "execution_count": 83,
     "metadata": {},
     "output_type": "execute_result"
    }
   ],
   "source": [
    "standard_scaling(df, df.iloc[:,:-1].columns)"
   ]
  },
  {
   "cell_type": "markdown",
   "id": "d964e7c3",
   "metadata": {},
   "source": [
    "# 설명력 보기위한 모델링"
   ]
  },
  {
   "cell_type": "code",
   "execution_count": 84,
   "id": "585dc6e7",
   "metadata": {},
   "outputs": [],
   "source": [
    "# train, test 분리\n",
    "X_train, X_test, y_train, y_test  = train_test_split(df.iloc[:,:-1], df[\"score_강살\"],test_size = 0.3, random_state=0)"
   ]
  },
  {
   "cell_type": "code",
   "execution_count": 85,
   "id": "dbb0f50f",
   "metadata": {},
   "outputs": [],
   "source": [
    "X = np.array(df.drop('score_강살', 1))\n",
    "Y = np.array(df['score_강살'])"
   ]
  },
  {
   "cell_type": "code",
   "execution_count": 86,
   "id": "8bdc8556",
   "metadata": {},
   "outputs": [
    {
     "name": "stdout",
     "output_type": "stream",
     "text": [
      "0.6505103008612957 0.5030222875257908 1.817325794961268\n"
     ]
    }
   ],
   "source": [
    "#다중회귀\n",
    "lr = LinearRegression()\n",
    "lr.fit(X_train, y_train)\n",
    "print(lr.score(X_train, y_train), lr.score(X_test, y_test),mean_absolute_error(lr.predict(X_test), y_test))"
   ]
  },
  {
   "cell_type": "code",
   "execution_count": 87,
   "id": "19ab5ba3",
   "metadata": {},
   "outputs": [
    {
     "name": "stdout",
     "output_type": "stream",
     "text": [
      "Fold = 1, mae = 1.55\n",
      "Fold = 2, mae = 2.35\n",
      "Fold = 3, mae = 1.91\n",
      "Fold = 4, mae = 1.99\n",
      "Fold = 5, mae = 1.74\n",
      "------------------------------\n",
      "Average Error: 1.9055124767149187\n",
      "------------------------------\n"
     ]
    }
   ],
   "source": [
    "# 다중회귀  교차검증\n",
    "mae_kfold(lr)"
   ]
  },
  {
   "cell_type": "markdown",
   "id": "45df68f8",
   "metadata": {},
   "source": [
    "## ridge"
   ]
  },
  {
   "cell_type": "code",
   "execution_count": 88,
   "id": "6f6382fb",
   "metadata": {},
   "outputs": [
    {
     "name": "stdout",
     "output_type": "stream",
     "text": [
      "100 : 0.405 0.301 mae: 2.402\n",
      "10 : 0.59 0.438 mae: 2.023\n",
      "1 : 0.637 0.485 mae: 1.869\n",
      "0.1 : 0.65 0.502 mae: 1.818\n",
      "0.01 : 0.651 0.503 mae: 1.817\n",
      "0.001 : 0.651 0.503 mae: 1.817\n",
      "0.0001 : 0.651 0.503 mae: 1.817\n"
     ]
    }
   ],
   "source": [
    "# ridge\n",
    "alphas_finder(Ridge)"
   ]
  },
  {
   "cell_type": "code",
   "execution_count": 89,
   "id": "740e9923",
   "metadata": {},
   "outputs": [
    {
     "name": "stdout",
     "output_type": "stream",
     "text": [
      "Fold = 1, mae = 2.32\n",
      "Fold = 2, mae = 2.16\n",
      "Fold = 3, mae = 1.69\n",
      "Fold = 4, mae = 2.31\n",
      "Fold = 5, mae = 2.26\n",
      "------------------------------\n",
      "Average Error: 2.1490578263643196\n",
      "------------------------------\n",
      "Fold = 1, mae = 1.84\n",
      "Fold = 2, mae = 2.49\n",
      "Fold = 3, mae = 1.51\n",
      "Fold = 4, mae = 2.02\n",
      "Fold = 5, mae = 1.88\n",
      "------------------------------\n",
      "Average Error: 1.9481276306338775\n",
      "------------------------------\n",
      "Fold = 1, mae = 1.59\n",
      "Fold = 2, mae = 2.45\n",
      "Fold = 3, mae = 1.71\n",
      "Fold = 4, mae = 1.93\n",
      "Fold = 5, mae = 1.81\n",
      "------------------------------\n",
      "Average Error: 1.8970841590184768\n",
      "------------------------------\n",
      "Fold = 1, mae = 1.53\n",
      "Fold = 2, mae = 2.37\n",
      "Fold = 3, mae = 1.87\n",
      "Fold = 4, mae = 1.97\n",
      "Fold = 5, mae = 1.75\n",
      "------------------------------\n",
      "Average Error: 1.8974246209295853\n",
      "------------------------------\n",
      "Fold = 1, mae = 1.54\n",
      "Fold = 2, mae = 2.35\n",
      "Fold = 3, mae = 1.90\n",
      "Fold = 4, mae = 1.99\n",
      "Fold = 5, mae = 1.74\n",
      "------------------------------\n",
      "Average Error: 1.9046292976531667\n",
      "------------------------------\n",
      "Fold = 1, mae = 1.55\n",
      "Fold = 2, mae = 2.35\n",
      "Fold = 3, mae = 1.91\n",
      "Fold = 4, mae = 1.99\n",
      "Fold = 5, mae = 1.74\n",
      "------------------------------\n",
      "Average Error: 1.9054233348217093\n",
      "------------------------------\n",
      "Fold = 1, mae = 1.55\n",
      "Fold = 2, mae = 2.35\n",
      "Fold = 3, mae = 1.91\n",
      "Fold = 4, mae = 1.99\n",
      "Fold = 5, mae = 1.74\n",
      "------------------------------\n",
      "Average Error: 1.9055035541969194\n",
      "------------------------------\n"
     ]
    }
   ],
   "source": [
    "for i in [100, 10, 1, 0.1, 0.01, 0.001, 0.0001]:\n",
    "    ridge = Ridge(alpha=i)\n",
    "    mae_kfold(ridge)"
   ]
  },
  {
   "cell_type": "markdown",
   "id": "d044d08c",
   "metadata": {},
   "source": [
    "## Lasso"
   ]
  },
  {
   "cell_type": "code",
   "execution_count": 90,
   "id": "64247951",
   "metadata": {},
   "outputs": [
    {
     "name": "stdout",
     "output_type": "stream",
     "text": [
      "100 : 0.0 -0.008 mae: 2.79\n",
      "10 : 0.0 -0.008 mae: 2.79\n",
      "1 : 0.0 -0.008 mae: 2.79\n",
      "0.1 : 0.569 0.403 mae: 2.085\n",
      "0.01 : 0.648 0.502 mae: 1.824\n",
      "0.001 : 0.65 0.503 mae: 1.818\n",
      "0.0001 : 0.651 0.503 mae: 1.817\n"
     ]
    }
   ],
   "source": [
    "# lasso\n",
    "alphas_finder(Lasso)"
   ]
  },
  {
   "cell_type": "code",
   "execution_count": 91,
   "id": "6c24f638",
   "metadata": {},
   "outputs": [
    {
     "name": "stdout",
     "output_type": "stream",
     "text": [
      "Fold = 1, mae = 2.77\n",
      "Fold = 2, mae = 2.41\n",
      "Fold = 3, mae = 2.32\n",
      "Fold = 4, mae = 2.57\n",
      "Fold = 5, mae = 2.77\n",
      "------------------------------\n",
      "Average Error: 2.567683151240295\n",
      "------------------------------\n",
      "Fold = 1, mae = 2.77\n",
      "Fold = 2, mae = 2.41\n",
      "Fold = 3, mae = 2.32\n",
      "Fold = 4, mae = 2.57\n",
      "Fold = 5, mae = 2.77\n",
      "------------------------------\n",
      "Average Error: 2.567683151240295\n",
      "------------------------------\n",
      "Fold = 1, mae = 2.60\n",
      "Fold = 2, mae = 2.21\n",
      "Fold = 3, mae = 2.10\n",
      "Fold = 4, mae = 2.55\n",
      "Fold = 5, mae = 2.67\n",
      "------------------------------\n",
      "Average Error: 2.426364843547394\n",
      "------------------------------\n",
      "Fold = 1, mae = 1.95\n",
      "Fold = 2, mae = 2.58\n",
      "Fold = 3, mae = 1.56\n",
      "Fold = 4, mae = 2.31\n",
      "Fold = 5, mae = 1.95\n",
      "------------------------------\n",
      "Average Error: 2.069127879318009\n",
      "------------------------------\n",
      "Fold = 1, mae = 1.54\n",
      "Fold = 2, mae = 2.39\n",
      "Fold = 3, mae = 1.83\n",
      "Fold = 4, mae = 1.98\n",
      "Fold = 5, mae = 1.77\n",
      "------------------------------\n",
      "Average Error: 1.903135461046165\n",
      "------------------------------\n",
      "Fold = 1, mae = 1.54\n",
      "Fold = 2, mae = 2.35\n",
      "Fold = 3, mae = 1.90\n",
      "Fold = 4, mae = 1.99\n",
      "Fold = 5, mae = 1.74\n",
      "------------------------------\n",
      "Average Error: 1.9047684320569496\n",
      "------------------------------\n",
      "Fold = 1, mae = 1.54\n",
      "Fold = 2, mae = 2.35\n",
      "Fold = 3, mae = 1.91\n",
      "Fold = 4, mae = 1.99\n",
      "Fold = 5, mae = 1.74\n",
      "------------------------------\n",
      "Average Error: 1.9054378492168174\n",
      "------------------------------\n"
     ]
    }
   ],
   "source": [
    "\n",
    "for i in [100, 10, 1, 0.1, 0.01, 0.001, 0.0001]:\n",
    "    lasso = Lasso(alpha=i)\n",
    "    mae_kfold(lasso)"
   ]
  },
  {
   "cell_type": "markdown",
   "id": "699c642b",
   "metadata": {},
   "source": [
    "## ElasticNet"
   ]
  },
  {
   "cell_type": "code",
   "execution_count": 92,
   "id": "a214258a",
   "metadata": {},
   "outputs": [
    {
     "name": "stdout",
     "output_type": "stream",
     "text": [
      "100 : 0.0 -0.008 mae: 2.79\n",
      "10 : 0.0 -0.008 mae: 2.79\n",
      "1 : 0.21 0.168 mae: 2.605\n",
      "0.1 : 0.587 0.431 mae: 2.034\n",
      "0.01 : 0.643 0.494 mae: 1.846\n",
      "0.001 : 0.65 0.503 mae: 1.818\n",
      "0.0001 : 0.651 0.503 mae: 1.817\n"
     ]
    }
   ],
   "source": [
    "alphas_finder(ElasticNet)"
   ]
  },
  {
   "cell_type": "code",
   "execution_count": 93,
   "id": "1f594038",
   "metadata": {},
   "outputs": [
    {
     "name": "stdout",
     "output_type": "stream",
     "text": [
      "Fold = 1, mae = 2.77\n",
      "Fold = 2, mae = 2.41\n",
      "Fold = 3, mae = 2.32\n",
      "Fold = 4, mae = 2.57\n",
      "Fold = 5, mae = 2.77\n",
      "------------------------------\n",
      "Average Error: 2.567683151240295\n",
      "------------------------------\n",
      "Fold = 1, mae = 2.77\n",
      "Fold = 2, mae = 2.41\n",
      "Fold = 3, mae = 2.32\n",
      "Fold = 4, mae = 2.57\n",
      "Fold = 5, mae = 2.77\n",
      "------------------------------\n",
      "Average Error: 2.567683151240295\n",
      "------------------------------\n",
      "Fold = 1, mae = 2.50\n",
      "Fold = 2, mae = 2.15\n",
      "Fold = 3, mae = 2.03\n",
      "Fold = 4, mae = 2.50\n",
      "Fold = 5, mae = 2.60\n",
      "------------------------------\n",
      "Average Error: 2.3552884687859175\n",
      "------------------------------\n",
      "Fold = 1, mae = 1.88\n",
      "Fold = 2, mae = 2.53\n",
      "Fold = 3, mae = 1.51\n",
      "Fold = 4, mae = 2.14\n",
      "Fold = 5, mae = 1.93\n",
      "------------------------------\n",
      "Average Error: 1.9973275368241814\n",
      "------------------------------\n",
      "Fold = 1, mae = 1.57\n",
      "Fold = 2, mae = 2.43\n",
      "Fold = 3, mae = 1.75\n",
      "Fold = 4, mae = 1.94\n",
      "Fold = 5, mae = 1.79\n",
      "------------------------------\n",
      "Average Error: 1.8979701359915815\n",
      "------------------------------\n",
      "Fold = 1, mae = 1.54\n",
      "Fold = 2, mae = 2.36\n",
      "Fold = 3, mae = 1.89\n",
      "Fold = 4, mae = 1.98\n",
      "Fold = 5, mae = 1.75\n",
      "------------------------------\n",
      "Average Error: 1.9009960270481865\n",
      "------------------------------\n",
      "Fold = 1, mae = 1.54\n",
      "Fold = 2, mae = 2.35\n",
      "Fold = 3, mae = 1.90\n",
      "Fold = 4, mae = 1.99\n",
      "Fold = 5, mae = 1.74\n",
      "------------------------------\n",
      "Average Error: 1.9050389649330604\n",
      "------------------------------\n"
     ]
    }
   ],
   "source": [
    "\n",
    "for i in [100, 10, 1, 0.1, 0.01, 0.001, 0.0001]:\n",
    "    elastic = ElasticNet(alpha=i)\n",
    "    mae_kfold(elastic)"
   ]
  },
  {
   "cell_type": "markdown",
   "id": "24200ae9",
   "metadata": {},
   "source": [
    "## XGboost"
   ]
  },
  {
   "cell_type": "code",
   "execution_count": 94,
   "id": "8b2cdb82",
   "metadata": {},
   "outputs": [
    {
     "name": "stdout",
     "output_type": "stream",
     "text": [
      "0.9999999210578039 0.37046045258925975 2.1678282454207136\n"
     ]
    }
   ],
   "source": [
    "#XG boost\n",
    "xgbr = XGBRegressor()\n",
    "xgbr.fit(X_train, y_train)\n",
    "print(xgbr.score(X_train, y_train), xgbr.score(X_test, y_test),mean_absolute_error(xgbr.predict(X_test), y_test))"
   ]
  },
  {
   "cell_type": "code",
   "execution_count": 95,
   "id": "b80af59b",
   "metadata": {},
   "outputs": [
    {
     "name": "stdout",
     "output_type": "stream",
     "text": [
      "Fold = 1, mae = 2.21\n",
      "Fold = 2, mae = 1.97\n",
      "Fold = 3, mae = 1.76\n",
      "Fold = 4, mae = 2.63\n",
      "Fold = 5, mae = 2.55\n",
      "------------------------------\n",
      "Average Error: 2.225808366394044\n",
      "------------------------------\n"
     ]
    }
   ],
   "source": [
    "#XG boost교차검증\n",
    "mae_kfold(xgbr)"
   ]
  },
  {
   "cell_type": "code",
   "execution_count": 96,
   "id": "9cbd7528",
   "metadata": {},
   "outputs": [
    {
     "name": "stdout",
     "output_type": "stream",
     "text": [
      "0.9999999508971528 0.1030050263634531 2.620041512154243\n"
     ]
    }
   ],
   "source": [
    "#XG boost 튜닝\n",
    "xgbr = XGBRegressor(n_estimators = 400, learning_rate = 1, max_depth = 3, objective=\"reg:squarederror\")\n",
    "xgbr.fit(X_train, y_train)\n",
    "print(xgbr.score(X_train, y_train), xgbr.score(X_test, y_test),mean_absolute_error(xgbr.predict(X_test), y_test))"
   ]
  },
  {
   "cell_type": "code",
   "execution_count": 97,
   "id": "95242784",
   "metadata": {},
   "outputs": [
    {
     "name": "stdout",
     "output_type": "stream",
     "text": [
      "Fold = 1, mae = 2.40\n",
      "Fold = 2, mae = 2.39\n",
      "Fold = 3, mae = 2.05\n",
      "Fold = 4, mae = 2.85\n",
      "Fold = 5, mae = 3.48\n",
      "------------------------------\n",
      "Average Error: 2.634593710835774\n",
      "------------------------------\n"
     ]
    }
   ],
   "source": [
    "#XG boost교차검증\n",
    "mae_kfold(xgbr)"
   ]
  },
  {
   "cell_type": "markdown",
   "id": "770fef44",
   "metadata": {},
   "source": [
    "## lightgbm"
   ]
  },
  {
   "cell_type": "code",
   "execution_count": 98,
   "id": "cd58493f",
   "metadata": {},
   "outputs": [
    {
     "name": "stdout",
     "output_type": "stream",
     "text": [
      "0.7185910816694874 0.3684283783429133 2.2528094113168455\n"
     ]
    }
   ],
   "source": [
    "#lightgbm\n",
    "lgbm = LGBMRegressor()\n",
    "lgbm.fit(X_train, y_train)\n",
    "print(lgbm.score(X_train, y_train), lgbm.score(X_test, y_test),mean_absolute_error(lgbm.predict(X_test), y_test))"
   ]
  },
  {
   "cell_type": "code",
   "execution_count": 99,
   "id": "9cfd5e32",
   "metadata": {},
   "outputs": [
    {
     "name": "stdout",
     "output_type": "stream",
     "text": [
      "Fold = 1, mae = 2.19\n",
      "Fold = 2, mae = 2.00\n",
      "Fold = 3, mae = 1.90\n",
      "Fold = 4, mae = 2.63\n",
      "Fold = 5, mae = 2.46\n",
      "------------------------------\n",
      "Average Error: 2.23639726127039\n",
      "------------------------------\n"
     ]
    }
   ],
   "source": [
    "#lightgbm교차검증\n",
    "mae_kfold(lgbm)"
   ]
  },
  {
   "cell_type": "code",
   "execution_count": 100,
   "id": "8d403a12",
   "metadata": {},
   "outputs": [
    {
     "name": "stdout",
     "output_type": "stream",
     "text": [
      "학습 결과 :  0.5924144544376868\n",
      "테스트 결과 :  0.4161627394047296\n",
      "테스트 결과 :  1.9562260891087018\n"
     ]
    }
   ],
   "source": [
    "#SVR\n",
    "svr = SVR(kernel=\"linear\")\n",
    "svr.fit(X_train, y_train)\n",
    "\n",
    "print(\"학습 결과 : \", svr.score(X_train, y_train))\n",
    "print(\"테스트 결과 : \", svr.score(X_test, y_test))\n",
    "print(\"테스트 결과 : \", mean_absolute_error(svr.predict(X_test), y_test))"
   ]
  },
  {
   "cell_type": "code",
   "execution_count": 101,
   "id": "672f641e",
   "metadata": {},
   "outputs": [
    {
     "name": "stdout",
     "output_type": "stream",
     "text": [
      "Fold = 1, mae = 1.65\n",
      "Fold = 2, mae = 2.35\n",
      "Fold = 3, mae = 1.65\n",
      "Fold = 4, mae = 1.79\n",
      "Fold = 5, mae = 1.80\n",
      "------------------------------\n",
      "Average Error: 1.8478571835567799\n",
      "------------------------------\n"
     ]
    }
   ],
   "source": [
    "#best1\n",
    "mae_kfold(svr) "
   ]
  },
  {
   "cell_type": "markdown",
   "id": "82475fde",
   "metadata": {},
   "source": [
    "# RobustScaler"
   ]
  },
  {
   "cell_type": "markdown",
   "id": "2dd5bb4b",
   "metadata": {},
   "source": [
    "### 각변수 robustscaling\n",
    "\n"
   ]
  },
  {
   "cell_type": "code",
   "execution_count": 8,
   "id": "22cd9e1a",
   "metadata": {},
   "outputs": [],
   "source": [
    "#각 변수들을 스케일링 하는 함수\n",
    "\n",
    "def robust_scaling(df, scale_columns):\n",
    "    for col in scale_columns:\n",
    "        series_med = df[col].median()\n",
    "        series_per75 = np.percentile(df[col],75)\n",
    "        series_per25 = np.percentile(df[col],25)\n",
    "        df[col] = df[col].apply(lambda x: (x-series_med)/(series_per75-series_per25))\n",
    "        \n",
    "            \n",
    "    return df"
   ]
  },
  {
   "cell_type": "code",
   "execution_count": 9,
   "id": "f10f1cef",
   "metadata": {},
   "outputs": [
    {
     "data": {
      "text/plain": [
       "Index(['crm_clue_변사체', 'crm_clue_자수', 'crm_clue_진정', 'crm_clue_현행범',\n",
       "       'crm_tm_저녁', 'vic_sx_1', '강도살인_검거수', '화재_사망', '화재_부상', '공원_개수',\n",
       "       '자살_사망률_10만명당', '자살_연령표준화사망률_10만명당', '기초수급_35_59세', '기초수급_60세이상',\n",
       "       '외국인수'],\n",
       "      dtype='object')"
      ]
     },
     "execution_count": 9,
     "metadata": {},
     "output_type": "execute_result"
    }
   ],
   "source": [
    "df.iloc[:,:-1].columns"
   ]
  },
  {
   "cell_type": "code",
   "execution_count": 10,
   "id": "a71364d0",
   "metadata": {},
   "outputs": [
    {
     "data": {
      "text/html": [
       "<div>\n",
       "<style scoped>\n",
       "    .dataframe tbody tr th:only-of-type {\n",
       "        vertical-align: middle;\n",
       "    }\n",
       "\n",
       "    .dataframe tbody tr th {\n",
       "        vertical-align: top;\n",
       "    }\n",
       "\n",
       "    .dataframe thead th {\n",
       "        text-align: right;\n",
       "    }\n",
       "</style>\n",
       "<table border=\"1\" class=\"dataframe\">\n",
       "  <thead>\n",
       "    <tr style=\"text-align: right;\">\n",
       "      <th></th>\n",
       "      <th>crm_clue_변사체</th>\n",
       "      <th>crm_clue_자수</th>\n",
       "      <th>crm_clue_진정</th>\n",
       "      <th>crm_clue_현행범</th>\n",
       "      <th>crm_tm_저녁</th>\n",
       "      <th>vic_sx_1</th>\n",
       "      <th>강도살인_검거수</th>\n",
       "      <th>화재_사망</th>\n",
       "      <th>화재_부상</th>\n",
       "      <th>공원_개수</th>\n",
       "      <th>자살_사망률_10만명당</th>\n",
       "      <th>자살_연령표준화사망률_10만명당</th>\n",
       "      <th>기초수급_35_59세</th>\n",
       "      <th>기초수급_60세이상</th>\n",
       "      <th>외국인수</th>\n",
       "      <th>score_강살</th>\n",
       "    </tr>\n",
       "  </thead>\n",
       "  <tbody>\n",
       "    <tr>\n",
       "      <th>0</th>\n",
       "      <td>0</td>\n",
       "      <td>0</td>\n",
       "      <td>0</td>\n",
       "      <td>0.000000</td>\n",
       "      <td>2.0</td>\n",
       "      <td>0.000000</td>\n",
       "      <td>0.750</td>\n",
       "      <td>0.5</td>\n",
       "      <td>1.4</td>\n",
       "      <td>1.722222</td>\n",
       "      <td>-0.072289</td>\n",
       "      <td>0.083333</td>\n",
       "      <td>0.191860</td>\n",
       "      <td>0.100498</td>\n",
       "      <td>0.550122</td>\n",
       "      <td>79.20</td>\n",
       "    </tr>\n",
       "    <tr>\n",
       "      <th>1</th>\n",
       "      <td>0</td>\n",
       "      <td>0</td>\n",
       "      <td>0</td>\n",
       "      <td>0.666667</td>\n",
       "      <td>0.5</td>\n",
       "      <td>0.888889</td>\n",
       "      <td>0.875</td>\n",
       "      <td>0.0</td>\n",
       "      <td>-0.3</td>\n",
       "      <td>0.870370</td>\n",
       "      <td>0.578313</td>\n",
       "      <td>0.833333</td>\n",
       "      <td>0.191860</td>\n",
       "      <td>0.100498</td>\n",
       "      <td>1.315080</td>\n",
       "      <td>70.80</td>\n",
       "    </tr>\n",
       "    <tr>\n",
       "      <th>2</th>\n",
       "      <td>1</td>\n",
       "      <td>0</td>\n",
       "      <td>0</td>\n",
       "      <td>0.666667</td>\n",
       "      <td>1.0</td>\n",
       "      <td>0.222222</td>\n",
       "      <td>2.750</td>\n",
       "      <td>-0.5</td>\n",
       "      <td>0.0</td>\n",
       "      <td>0.759259</td>\n",
       "      <td>-0.024096</td>\n",
       "      <td>0.083333</td>\n",
       "      <td>0.191860</td>\n",
       "      <td>0.100498</td>\n",
       "      <td>0.871326</td>\n",
       "      <td>74.10</td>\n",
       "    </tr>\n",
       "    <tr>\n",
       "      <th>3</th>\n",
       "      <td>0</td>\n",
       "      <td>0</td>\n",
       "      <td>0</td>\n",
       "      <td>0.333333</td>\n",
       "      <td>0.5</td>\n",
       "      <td>-0.222222</td>\n",
       "      <td>0.875</td>\n",
       "      <td>0.5</td>\n",
       "      <td>-0.8</td>\n",
       "      <td>0.185185</td>\n",
       "      <td>-1.662651</td>\n",
       "      <td>-1.333333</td>\n",
       "      <td>0.690648</td>\n",
       "      <td>0.496633</td>\n",
       "      <td>-0.421798</td>\n",
       "      <td>75.25</td>\n",
       "    </tr>\n",
       "    <tr>\n",
       "      <th>4</th>\n",
       "      <td>0</td>\n",
       "      <td>0</td>\n",
       "      <td>0</td>\n",
       "      <td>-0.333333</td>\n",
       "      <td>0.0</td>\n",
       "      <td>-0.222222</td>\n",
       "      <td>0.125</td>\n",
       "      <td>-0.5</td>\n",
       "      <td>-0.9</td>\n",
       "      <td>0.000000</td>\n",
       "      <td>0.144578</td>\n",
       "      <td>-0.083333</td>\n",
       "      <td>0.690648</td>\n",
       "      <td>0.496633</td>\n",
       "      <td>-0.501924</td>\n",
       "      <td>80.75</td>\n",
       "    </tr>\n",
       "    <tr>\n",
       "      <th>...</th>\n",
       "      <td>...</td>\n",
       "      <td>...</td>\n",
       "      <td>...</td>\n",
       "      <td>...</td>\n",
       "      <td>...</td>\n",
       "      <td>...</td>\n",
       "      <td>...</td>\n",
       "      <td>...</td>\n",
       "      <td>...</td>\n",
       "      <td>...</td>\n",
       "      <td>...</td>\n",
       "      <td>...</td>\n",
       "      <td>...</td>\n",
       "      <td>...</td>\n",
       "      <td>...</td>\n",
       "      <td>...</td>\n",
       "    </tr>\n",
       "    <tr>\n",
       "      <th>118</th>\n",
       "      <td>0</td>\n",
       "      <td>0</td>\n",
       "      <td>0</td>\n",
       "      <td>-0.333333</td>\n",
       "      <td>-1.0</td>\n",
       "      <td>-0.666667</td>\n",
       "      <td>-0.625</td>\n",
       "      <td>-0.5</td>\n",
       "      <td>0.0</td>\n",
       "      <td>-0.611111</td>\n",
       "      <td>-0.072289</td>\n",
       "      <td>-0.166667</td>\n",
       "      <td>0.291130</td>\n",
       "      <td>0.563607</td>\n",
       "      <td>-0.165763</td>\n",
       "      <td>79.35</td>\n",
       "    </tr>\n",
       "    <tr>\n",
       "      <th>119</th>\n",
       "      <td>2</td>\n",
       "      <td>0</td>\n",
       "      <td>0</td>\n",
       "      <td>0.333333</td>\n",
       "      <td>-1.0</td>\n",
       "      <td>0.444444</td>\n",
       "      <td>-0.625</td>\n",
       "      <td>0.0</td>\n",
       "      <td>-0.1</td>\n",
       "      <td>-0.018519</td>\n",
       "      <td>0.915663</td>\n",
       "      <td>0.972222</td>\n",
       "      <td>0.933073</td>\n",
       "      <td>1.132582</td>\n",
       "      <td>0.068142</td>\n",
       "      <td>74.85</td>\n",
       "    </tr>\n",
       "    <tr>\n",
       "      <th>120</th>\n",
       "      <td>0</td>\n",
       "      <td>0</td>\n",
       "      <td>0</td>\n",
       "      <td>-0.333333</td>\n",
       "      <td>0.0</td>\n",
       "      <td>0.000000</td>\n",
       "      <td>0.000</td>\n",
       "      <td>1.0</td>\n",
       "      <td>0.7</td>\n",
       "      <td>-0.759259</td>\n",
       "      <td>-1.373494</td>\n",
       "      <td>-0.861111</td>\n",
       "      <td>-0.594276</td>\n",
       "      <td>-0.436393</td>\n",
       "      <td>0.217810</td>\n",
       "      <td>79.75</td>\n",
       "    </tr>\n",
       "    <tr>\n",
       "      <th>121</th>\n",
       "      <td>1</td>\n",
       "      <td>0</td>\n",
       "      <td>0</td>\n",
       "      <td>0.000000</td>\n",
       "      <td>-0.5</td>\n",
       "      <td>-0.444444</td>\n",
       "      <td>0.250</td>\n",
       "      <td>1.5</td>\n",
       "      <td>0.6</td>\n",
       "      <td>-0.777778</td>\n",
       "      <td>-0.433735</td>\n",
       "      <td>-0.138889</td>\n",
       "      <td>-0.618399</td>\n",
       "      <td>-0.503733</td>\n",
       "      <td>0.143020</td>\n",
       "      <td>75.20</td>\n",
       "    </tr>\n",
       "    <tr>\n",
       "      <th>122</th>\n",
       "      <td>0</td>\n",
       "      <td>0</td>\n",
       "      <td>0</td>\n",
       "      <td>-0.333333</td>\n",
       "      <td>0.0</td>\n",
       "      <td>-0.666667</td>\n",
       "      <td>-0.625</td>\n",
       "      <td>-0.5</td>\n",
       "      <td>-0.2</td>\n",
       "      <td>0.611111</td>\n",
       "      <td>1.108434</td>\n",
       "      <td>1.750000</td>\n",
       "      <td>-0.565852</td>\n",
       "      <td>-0.572781</td>\n",
       "      <td>0.070679</td>\n",
       "      <td>82.40</td>\n",
       "    </tr>\n",
       "  </tbody>\n",
       "</table>\n",
       "<p>123 rows × 16 columns</p>\n",
       "</div>"
      ],
      "text/plain": [
       "     crm_clue_변사체  crm_clue_자수  crm_clue_진정  crm_clue_현행범  crm_tm_저녁  \\\n",
       "0               0            0            0      0.000000        2.0   \n",
       "1               0            0            0      0.666667        0.5   \n",
       "2               1            0            0      0.666667        1.0   \n",
       "3               0            0            0      0.333333        0.5   \n",
       "4               0            0            0     -0.333333        0.0   \n",
       "..            ...          ...          ...           ...        ...   \n",
       "118             0            0            0     -0.333333       -1.0   \n",
       "119             2            0            0      0.333333       -1.0   \n",
       "120             0            0            0     -0.333333        0.0   \n",
       "121             1            0            0      0.000000       -0.5   \n",
       "122             0            0            0     -0.333333        0.0   \n",
       "\n",
       "     vic_sx_1  강도살인_검거수  화재_사망  화재_부상     공원_개수  자살_사망률_10만명당  \\\n",
       "0    0.000000     0.750    0.5    1.4  1.722222     -0.072289   \n",
       "1    0.888889     0.875    0.0   -0.3  0.870370      0.578313   \n",
       "2    0.222222     2.750   -0.5    0.0  0.759259     -0.024096   \n",
       "3   -0.222222     0.875    0.5   -0.8  0.185185     -1.662651   \n",
       "4   -0.222222     0.125   -0.5   -0.9  0.000000      0.144578   \n",
       "..        ...       ...    ...    ...       ...           ...   \n",
       "118 -0.666667    -0.625   -0.5    0.0 -0.611111     -0.072289   \n",
       "119  0.444444    -0.625    0.0   -0.1 -0.018519      0.915663   \n",
       "120  0.000000     0.000    1.0    0.7 -0.759259     -1.373494   \n",
       "121 -0.444444     0.250    1.5    0.6 -0.777778     -0.433735   \n",
       "122 -0.666667    -0.625   -0.5   -0.2  0.611111      1.108434   \n",
       "\n",
       "     자살_연령표준화사망률_10만명당  기초수급_35_59세  기초수급_60세이상      외국인수  score_강살  \n",
       "0             0.083333     0.191860    0.100498  0.550122     79.20  \n",
       "1             0.833333     0.191860    0.100498  1.315080     70.80  \n",
       "2             0.083333     0.191860    0.100498  0.871326     74.10  \n",
       "3            -1.333333     0.690648    0.496633 -0.421798     75.25  \n",
       "4            -0.083333     0.690648    0.496633 -0.501924     80.75  \n",
       "..                 ...          ...         ...       ...       ...  \n",
       "118          -0.166667     0.291130    0.563607 -0.165763     79.35  \n",
       "119           0.972222     0.933073    1.132582  0.068142     74.85  \n",
       "120          -0.861111    -0.594276   -0.436393  0.217810     79.75  \n",
       "121          -0.138889    -0.618399   -0.503733  0.143020     75.20  \n",
       "122           1.750000    -0.565852   -0.572781  0.070679     82.40  \n",
       "\n",
       "[123 rows x 16 columns]"
      ]
     },
     "execution_count": 10,
     "metadata": {},
     "output_type": "execute_result"
    }
   ],
   "source": [
    "#변사체는 0,1,2밖에없어서 스케일링 안되므로 제외하고 함\n",
    "robust_scaling(df, df.iloc[:,3:-1].columns)"
   ]
  },
  {
   "cell_type": "markdown",
   "id": "eb7b5c84",
   "metadata": {},
   "source": [
    "# 설명력 보기위한 모델링"
   ]
  },
  {
   "cell_type": "code",
   "execution_count": 11,
   "id": "10d6ed64",
   "metadata": {},
   "outputs": [],
   "source": [
    "# train, test 분리\n",
    "X_train, X_test, y_train, y_test  = train_test_split(df.iloc[:,:-1], df[\"score_강살\"],test_size = 0.3, random_state=0)"
   ]
  },
  {
   "cell_type": "code",
   "execution_count": 12,
   "id": "ce0859df",
   "metadata": {},
   "outputs": [],
   "source": [
    "X = np.array(df.drop('score_강살', 1))\n",
    "Y = np.array(df['score_강살'])"
   ]
  },
  {
   "cell_type": "code",
   "execution_count": 13,
   "id": "87818569",
   "metadata": {},
   "outputs": [
    {
     "name": "stdout",
     "output_type": "stream",
     "text": [
      "0.6505103008612959 0.5030222875257921 1.8173257949612664\n"
     ]
    }
   ],
   "source": [
    "#다중회귀\n",
    "lr = LinearRegression()\n",
    "lr.fit(X_train, y_train)\n",
    "print(lr.score(X_train, y_train), lr.score(X_test, y_test),mean_absolute_error(lr.predict(X_test), y_test))"
   ]
  },
  {
   "cell_type": "code",
   "execution_count": 14,
   "id": "eb2753ad",
   "metadata": {},
   "outputs": [
    {
     "name": "stdout",
     "output_type": "stream",
     "text": [
      "Fold = 1, mae = 1.55\n",
      "Fold = 2, mae = 2.35\n",
      "Fold = 3, mae = 1.91\n",
      "Fold = 4, mae = 1.99\n",
      "Fold = 5, mae = 1.74\n",
      "------------------------------\n",
      "Average Error: 1.905512476714918\n",
      "------------------------------\n"
     ]
    }
   ],
   "source": [
    "# 다중회귀  교차검증\n",
    "mae_kfold(lr)"
   ]
  },
  {
   "cell_type": "markdown",
   "id": "3e747078",
   "metadata": {},
   "source": [
    "## ridge"
   ]
  },
  {
   "cell_type": "code",
   "execution_count": 20,
   "id": "6e633b62",
   "metadata": {},
   "outputs": [
    {
     "name": "stdout",
     "output_type": "stream",
     "text": [
      "100 : 0.31 0.287 mae: 2.394\n",
      "10 : 0.543 0.438 mae: 2.012\n",
      "1 : 0.627 0.485 mae: 1.873\n",
      "0.1 : 0.649 0.502 mae: 1.815\n",
      "0.01 : 0.65 0.503 mae: 1.817\n",
      "0.001 : 0.651 0.503 mae: 1.817\n",
      "0.0001 : 0.651 0.503 mae: 1.817\n"
     ]
    }
   ],
   "source": [
    "# ridge\n",
    "alphas_finder(Ridge)"
   ]
  },
  {
   "cell_type": "code",
   "execution_count": 21,
   "id": "076326ad",
   "metadata": {},
   "outputs": [
    {
     "name": "stdout",
     "output_type": "stream",
     "text": [
      "Fold = 1, mae = 2.36\n",
      "Fold = 2, mae = 2.11\n",
      "Fold = 3, mae = 1.73\n",
      "Fold = 4, mae = 2.39\n",
      "Fold = 5, mae = 2.36\n",
      "------------------------------\n",
      "Average Error: 2.1909289146185715\n",
      "------------------------------\n",
      "Fold = 1, mae = 1.84\n",
      "Fold = 2, mae = 2.44\n",
      "Fold = 3, mae = 1.46\n",
      "Fold = 4, mae = 2.16\n",
      "Fold = 5, mae = 1.95\n",
      "------------------------------\n",
      "Average Error: 1.9699987547677662\n",
      "------------------------------\n",
      "Fold = 1, mae = 1.61\n",
      "Fold = 2, mae = 2.47\n",
      "Fold = 3, mae = 1.54\n",
      "Fold = 4, mae = 1.94\n",
      "Fold = 5, mae = 1.85\n",
      "------------------------------\n",
      "Average Error: 1.8811655586264162\n",
      "------------------------------\n",
      "Fold = 1, mae = 1.53\n",
      "Fold = 2, mae = 2.38\n",
      "Fold = 3, mae = 1.83\n",
      "Fold = 4, mae = 1.95\n",
      "Fold = 5, mae = 1.76\n",
      "------------------------------\n",
      "Average Error: 1.888389566047779\n",
      "------------------------------\n",
      "Fold = 1, mae = 1.54\n",
      "Fold = 2, mae = 2.35\n",
      "Fold = 3, mae = 1.90\n",
      "Fold = 4, mae = 1.99\n",
      "Fold = 5, mae = 1.74\n",
      "------------------------------\n",
      "Average Error: 1.9034620035210659\n",
      "------------------------------\n",
      "Fold = 1, mae = 1.54\n",
      "Fold = 2, mae = 2.35\n",
      "Fold = 3, mae = 1.91\n",
      "Fold = 4, mae = 1.99\n",
      "Fold = 5, mae = 1.74\n",
      "------------------------------\n",
      "Average Error: 1.9053046018036486\n",
      "------------------------------\n",
      "Fold = 1, mae = 1.55\n",
      "Fold = 2, mae = 2.35\n",
      "Fold = 3, mae = 1.91\n",
      "Fold = 4, mae = 1.99\n",
      "Fold = 5, mae = 1.74\n",
      "------------------------------\n",
      "Average Error: 1.9054916604862773\n",
      "------------------------------\n"
     ]
    }
   ],
   "source": [
    "\n",
    "for i in [100, 10, 1, 0.1, 0.01, 0.001, 0.0001]:\n",
    "    ridge = Ridge(alpha=i)\n",
    "    mae_kfold(ridge)"
   ]
  },
  {
   "cell_type": "markdown",
   "id": "229dbbc3",
   "metadata": {},
   "source": [
    "## Lasso"
   ]
  },
  {
   "cell_type": "code",
   "execution_count": 22,
   "id": "00672d13",
   "metadata": {},
   "outputs": [
    {
     "name": "stdout",
     "output_type": "stream",
     "text": [
      "100 : 0.0 -0.008 mae: 2.79\n",
      "10 : 0.0 -0.008 mae: 2.79\n",
      "1 : 0.0 -0.008 mae: 2.79\n",
      "0.1 : 0.521 0.405 mae: 2.054\n",
      "0.01 : 0.646 0.504 mae: 1.822\n",
      "0.001 : 0.65 0.504 mae: 1.817\n",
      "0.0001 : 0.651 0.503 mae: 1.817\n"
     ]
    }
   ],
   "source": [
    "# lasso\n",
    "alphas_finder(Lasso)"
   ]
  },
  {
   "cell_type": "code",
   "execution_count": 23,
   "id": "7d866653",
   "metadata": {},
   "outputs": [
    {
     "name": "stdout",
     "output_type": "stream",
     "text": [
      "Fold = 1, mae = 2.77\n",
      "Fold = 2, mae = 2.41\n",
      "Fold = 3, mae = 2.32\n",
      "Fold = 4, mae = 2.57\n",
      "Fold = 5, mae = 2.77\n",
      "------------------------------\n",
      "Average Error: 2.567683151240295\n",
      "------------------------------\n",
      "Fold = 1, mae = 2.77\n",
      "Fold = 2, mae = 2.41\n",
      "Fold = 3, mae = 2.32\n",
      "Fold = 4, mae = 2.57\n",
      "Fold = 5, mae = 2.77\n",
      "------------------------------\n",
      "Average Error: 2.567683151240295\n",
      "------------------------------\n",
      "Fold = 1, mae = 2.57\n",
      "Fold = 2, mae = 2.19\n",
      "Fold = 3, mae = 2.08\n",
      "Fold = 4, mae = 2.55\n",
      "Fold = 5, mae = 2.66\n",
      "------------------------------\n",
      "Average Error: 2.4088225683589815\n",
      "------------------------------\n",
      "Fold = 1, mae = 1.96\n",
      "Fold = 2, mae = 2.61\n",
      "Fold = 3, mae = 1.64\n",
      "Fold = 4, mae = 2.45\n",
      "Fold = 5, mae = 2.00\n",
      "------------------------------\n",
      "Average Error: 2.1313010762098346\n",
      "------------------------------\n",
      "Fold = 1, mae = 1.54\n",
      "Fold = 2, mae = 2.40\n",
      "Fold = 3, mae = 1.75\n",
      "Fold = 4, mae = 1.99\n",
      "Fold = 5, mae = 1.80\n",
      "------------------------------\n",
      "Average Error: 1.8973742983708\n",
      "------------------------------\n",
      "Fold = 1, mae = 1.54\n",
      "Fold = 2, mae = 2.35\n",
      "Fold = 3, mae = 1.89\n",
      "Fold = 4, mae = 1.99\n",
      "Fold = 5, mae = 1.75\n",
      "------------------------------\n",
      "Average Error: 1.9037794580374314\n",
      "------------------------------\n",
      "Fold = 1, mae = 1.54\n",
      "Fold = 2, mae = 2.35\n",
      "Fold = 3, mae = 1.90\n",
      "Fold = 4, mae = 1.99\n",
      "Fold = 5, mae = 1.74\n",
      "------------------------------\n",
      "Average Error: 1.905338738232072\n",
      "------------------------------\n"
     ]
    }
   ],
   "source": [
    "\n",
    "for i in [100, 10, 1, 0.1, 0.01, 0.001, 0.0001]:\n",
    "    lasso = Lasso(alpha=i)\n",
    "    mae_kfold(lasso)"
   ]
  },
  {
   "cell_type": "markdown",
   "id": "699c642b",
   "metadata": {},
   "source": [
    "## ElasticNet"
   ]
  },
  {
   "cell_type": "code",
   "execution_count": 24,
   "id": "a214258a",
   "metadata": {},
   "outputs": [
    {
     "name": "stdout",
     "output_type": "stream",
     "text": [
      "100 : 0.0 -0.008 mae: 2.79\n",
      "10 : 0.0 -0.008 mae: 2.79\n",
      "1 : 0.123 0.183 mae: 2.549\n",
      "0.1 : 0.542 0.43 mae: 2.012\n",
      "0.01 : 0.636 0.492 mae: 1.855\n",
      "0.001 : 0.65 0.503 mae: 1.816\n",
      "0.0001 : 0.651 0.503 mae: 1.817\n"
     ]
    }
   ],
   "source": [
    "alphas_finder(ElasticNet)"
   ]
  },
  {
   "cell_type": "code",
   "execution_count": 25,
   "id": "1f594038",
   "metadata": {},
   "outputs": [
    {
     "name": "stdout",
     "output_type": "stream",
     "text": [
      "Fold = 1, mae = 2.77\n",
      "Fold = 2, mae = 2.41\n",
      "Fold = 3, mae = 2.32\n",
      "Fold = 4, mae = 2.57\n",
      "Fold = 5, mae = 2.77\n",
      "------------------------------\n",
      "Average Error: 2.567683151240295\n",
      "------------------------------\n",
      "Fold = 1, mae = 2.77\n",
      "Fold = 2, mae = 2.41\n",
      "Fold = 3, mae = 2.32\n",
      "Fold = 4, mae = 2.57\n",
      "Fold = 5, mae = 2.77\n",
      "------------------------------\n",
      "Average Error: 2.567683151240295\n",
      "------------------------------\n",
      "Fold = 1, mae = 2.47\n",
      "Fold = 2, mae = 2.11\n",
      "Fold = 3, mae = 1.98\n",
      "Fold = 4, mae = 2.52\n",
      "Fold = 5, mae = 2.62\n",
      "------------------------------\n",
      "Average Error: 2.3384511011234776\n",
      "------------------------------\n",
      "Fold = 1, mae = 1.89\n",
      "Fold = 2, mae = 2.52\n",
      "Fold = 3, mae = 1.51\n",
      "Fold = 4, mae = 2.27\n",
      "Fold = 5, mae = 1.99\n",
      "------------------------------\n",
      "Average Error: 2.037449137709797\n",
      "------------------------------\n",
      "Fold = 1, mae = 1.59\n",
      "Fold = 2, mae = 2.45\n",
      "Fold = 3, mae = 1.59\n",
      "Fold = 4, mae = 1.95\n",
      "Fold = 5, mae = 1.83\n",
      "------------------------------\n",
      "Average Error: 1.8832469126214046\n",
      "------------------------------\n",
      "Fold = 1, mae = 1.53\n",
      "Fold = 2, mae = 2.36\n",
      "Fold = 3, mae = 1.86\n",
      "Fold = 4, mae = 1.97\n",
      "Fold = 5, mae = 1.75\n",
      "------------------------------\n",
      "Average Error: 1.895273797559795\n",
      "------------------------------\n",
      "Fold = 1, mae = 1.54\n",
      "Fold = 2, mae = 2.35\n",
      "Fold = 3, mae = 1.90\n",
      "Fold = 4, mae = 1.99\n",
      "Fold = 5, mae = 1.74\n",
      "------------------------------\n",
      "Average Error: 1.9044117789409938\n",
      "------------------------------\n"
     ]
    }
   ],
   "source": [
    "\n",
    "for i in [100, 10, 1, 0.1, 0.01, 0.001, 0.0001]:\n",
    "    elastic = ElasticNet(alpha=i)\n",
    "    mae_kfold(elastic)"
   ]
  },
  {
   "cell_type": "markdown",
   "id": "24200ae9",
   "metadata": {},
   "source": [
    "## XGboost"
   ]
  },
  {
   "cell_type": "code",
   "execution_count": 26,
   "id": "8b2cdb82",
   "metadata": {},
   "outputs": [
    {
     "name": "stdout",
     "output_type": "stream",
     "text": [
      "0.9999999210578039 0.36889769870115763 2.172144214527027\n"
     ]
    }
   ],
   "source": [
    "#XG boost\n",
    "xgbr = XGBRegressor()\n",
    "xgbr.fit(X_train, y_train)\n",
    "print(xgbr.score(X_train, y_train), xgbr.score(X_test, y_test),mean_absolute_error(xgbr.predict(X_test), y_test))"
   ]
  },
  {
   "cell_type": "code",
   "execution_count": 27,
   "id": "b80af59b",
   "metadata": {},
   "outputs": [
    {
     "name": "stdout",
     "output_type": "stream",
     "text": [
      "Fold = 1, mae = 2.21\n",
      "Fold = 2, mae = 1.97\n",
      "Fold = 3, mae = 1.76\n",
      "Fold = 4, mae = 2.63\n",
      "Fold = 5, mae = 2.56\n",
      "------------------------------\n",
      "Average Error: 2.226371039326987\n",
      "------------------------------\n"
     ]
    }
   ],
   "source": [
    "#XG boost교차검증\n",
    "mae_kfold(xgbr)"
   ]
  },
  {
   "cell_type": "code",
   "execution_count": 28,
   "id": "9cbd7528",
   "metadata": {},
   "outputs": [
    {
     "name": "stdout",
     "output_type": "stream",
     "text": [
      "0.9999999508971528 0.1030050263634531 2.620041512154243\n"
     ]
    }
   ],
   "source": [
    "#XG boost 튜닝\n",
    "xgbr = XGBRegressor(n_estimators = 400, learning_rate = 1, max_depth = 3, objective=\"reg:squarederror\")\n",
    "xgbr.fit(X_train, y_train)\n",
    "print(xgbr.score(X_train, y_train), xgbr.score(X_test, y_test),mean_absolute_error(xgbr.predict(X_test), y_test))"
   ]
  },
  {
   "cell_type": "code",
   "execution_count": 29,
   "id": "95242784",
   "metadata": {},
   "outputs": [
    {
     "name": "stdout",
     "output_type": "stream",
     "text": [
      "Fold = 1, mae = 2.40\n",
      "Fold = 2, mae = 2.39\n",
      "Fold = 3, mae = 2.05\n",
      "Fold = 4, mae = 2.85\n",
      "Fold = 5, mae = 3.55\n",
      "------------------------------\n",
      "Average Error: 2.6485281565348306\n",
      "------------------------------\n"
     ]
    }
   ],
   "source": [
    "#XG boost교차검증\n",
    "mae_kfold(xgbr)"
   ]
  },
  {
   "cell_type": "markdown",
   "id": "770fef44",
   "metadata": {},
   "source": [
    "## lightgbm"
   ]
  },
  {
   "cell_type": "code",
   "execution_count": 30,
   "id": "cd58493f",
   "metadata": {},
   "outputs": [
    {
     "name": "stdout",
     "output_type": "stream",
     "text": [
      "0.7120400169082836 0.3814321865813236 2.2204519587196203\n"
     ]
    }
   ],
   "source": [
    "#lightgbm\n",
    "lgbm = LGBMRegressor()\n",
    "lgbm.fit(X_train, y_train)\n",
    "print(lgbm.score(X_train, y_train), lgbm.score(X_test, y_test),mean_absolute_error(lgbm.predict(X_test), y_test))"
   ]
  },
  {
   "cell_type": "code",
   "execution_count": 31,
   "id": "9cfd5e32",
   "metadata": {},
   "outputs": [
    {
     "name": "stdout",
     "output_type": "stream",
     "text": [
      "Fold = 1, mae = 2.14\n",
      "Fold = 2, mae = 1.86\n",
      "Fold = 3, mae = 1.90\n",
      "Fold = 4, mae = 2.60\n",
      "Fold = 5, mae = 2.43\n",
      "------------------------------\n",
      "Average Error: 2.185967472023601\n",
      "------------------------------\n"
     ]
    }
   ],
   "source": [
    "#lightgbm교차검증\n",
    "mae_kfold(lgbm)"
   ]
  },
  {
   "cell_type": "code",
   "execution_count": 17,
   "id": "d737326f",
   "metadata": {},
   "outputs": [
    {
     "name": "stdout",
     "output_type": "stream",
     "text": [
      "학습 결과 :  0.5610673737710913\n",
      "테스트 결과 :  0.4250130910570791\n",
      "테스트 결과 :  1.9565649700437853\n"
     ]
    }
   ],
   "source": [
    "#SVR\n",
    "svr = SVR(kernel=\"linear\")\n",
    "svr.fit(X_train, y_train)\n",
    "\n",
    "print(\"학습 결과 : \", svr.score(X_train, y_train))\n",
    "print(\"테스트 결과 : \", svr.score(X_test, y_test))\n",
    "print(\"테스트 결과 : \", mean_absolute_error(svr.predict(X_test), y_test))"
   ]
  },
  {
   "cell_type": "code",
   "execution_count": 18,
   "id": "6bcd71f5",
   "metadata": {},
   "outputs": [
    {
     "name": "stdout",
     "output_type": "stream",
     "text": [
      "Fold = 1, mae = 1.72\n",
      "Fold = 2, mae = 2.30\n",
      "Fold = 3, mae = 1.42\n",
      "Fold = 4, mae = 1.82\n",
      "Fold = 5, mae = 1.84\n",
      "------------------------------\n",
      "Average Error: 1.819326665967181\n",
      "------------------------------\n"
     ]
    }
   ],
   "source": [
    "mae_kfold(svr)"
   ]
  },
  {
   "cell_type": "code",
   "execution_count": 19,
   "id": "2e807448",
   "metadata": {},
   "outputs": [
    {
     "data": {
      "text/plain": [
       "array([-1.31276143, -0.86074943,  0.        , -1.13171941, -0.40154002,\n",
       "        0.65887889, -1.09567023, -0.97164219,  0.77532093,  0.98262033,\n",
       "       -1.37169189,  0.93723677, -1.59565306,  0.57637295, -1.00531615])"
      ]
     },
     "execution_count": 19,
     "metadata": {},
     "output_type": "execute_result"
    }
   ],
   "source": [
    "np.ravel(svr.coef_)"
   ]
  },
  {
   "cell_type": "code",
   "execution_count": 20,
   "id": "057de3ea",
   "metadata": {},
   "outputs": [],
   "source": [
    "def plot_coef(columns, coef):\n",
    "    coef_df = pd.DataFrame(list(zip(columns, coef)))\n",
    "    coef_df.columns=['feature', 'coef']\n",
    "    coef_df = coef_df.sort_values('coef').reset_index(drop=True)\n",
    "    \n",
    "    fig, ax = plt.subplots(figsize=(7, 5))\n",
    "    ax.barh(np.arange(len(coef_df)), coef_df['coef'], color = \"orange\", alpha = 0.8)\n",
    "    idx = np.arange(len(coef_df))\n",
    "    ax.set_yticks(idx)\n",
    "    ax.set_yticklabels(coef_df['feature'])\n",
    "    fig.tight_layout()\n",
    "    \n",
    "    #plt.show()\n",
    "    "
   ]
  },
  {
   "cell_type": "code",
   "execution_count": 21,
   "id": "e43d65db",
   "metadata": {},
   "outputs": [
    {
     "data": {
      "image/png": "[encoded data removed]",
      "text/plain": [
       "<Figure size 504x360 with 1 Axes>"
      ]
     },
     "metadata": {
      "needs_background": "light"
     },
     "output_type": "display_data"
    }
   ],
   "source": [
    "plot_coef(X_train.columns, np.ravel(svr.coef_) )\n",
    "plt.savefig('../이미지/변수영향도_강도살인안전도.png', dpi=200,bbox_inches='tight')"
   ]
  },
  {
   "cell_type": "code",
   "execution_count": null,
   "id": "058fd532",
   "metadata": {},
   "outputs": [],
   "source": []
  }
 ],
 "metadata": {
  "kernelspec": {
   "display_name": "Python 3",
   "language": "python",
   "name": "python3"
  },
  "language_info": {
   "codemirror_mode": {
    "name": "ipython",
    "version": 3
   },
   "file_extension": ".py",
   "mimetype": "text/x-python",
   "name": "python",
   "nbconvert_exporter": "python",
   "pygments_lexer": "ipython3",
   "version": "3.7.10"
  }
 },
 "nbformat": 4,
 "nbformat_minor": 5
}
