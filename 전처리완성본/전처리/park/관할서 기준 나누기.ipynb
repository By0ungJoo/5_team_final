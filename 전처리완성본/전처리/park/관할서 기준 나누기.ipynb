{
 "cells": [
  {
   "cell_type": "code",
   "execution_count": 1,
   "id": "second-nigeria",
   "metadata": {},
   "outputs": [],
   "source": [
    "import numpy as np\n",
    "import pandas  as  pd"
   ]
  },
  {
   "cell_type": "code",
   "execution_count": 4,
   "id": "surprised-thought",
   "metadata": {},
   "outputs": [
    {
     "name": "stderr",
     "output_type": "stream",
     "text": [
      "/opt/app-root/lib/python3.6/site-packages/geopandas/_compat.py:110: UserWarning: The Shapely GEOS version (3.8.0-CAPI-1.13.1 ) is incompatible with the GEOS version PyGEOS was compiled with (3.9.0-CAPI-1.16.2). Conversions between both will be slow.\n",
      "  shapely_geos_version, geos_capi_version_string\n"
     ]
    }
   ],
   "source": [
    "# geopandas, Point  라이브러리\n",
    "import geopandas as gpd\n",
    "from shapely.geometry import Point, Polygon"
   ]
  },
  {
   "cell_type": "code",
   "execution_count": 26,
   "id": "smooth-patio",
   "metadata": {},
   "outputs": [],
   "source": [
    "df_park = pd.read_csv(\"20.5개시도_공원현황.csv\")"
   ]
  },
  {
   "cell_type": "code",
   "execution_count": 27,
   "id": "large-jewelry",
   "metadata": {},
   "outputs": [],
   "source": [
    "df_park[\"관할서\"] = \"모름\""
   ]
  },
  {
   "cell_type": "code",
   "execution_count": 28,
   "id": "specialized-steal",
   "metadata": {},
   "outputs": [],
   "source": [
    "# 위도경도 데이터 zip\n",
    "location = list(zip(df_park[\"lon\"], df_park[\"lat\"]))"
   ]
  },
  {
   "cell_type": "code",
   "execution_count": 29,
   "id": "expected-python",
   "metadata": {},
   "outputs": [],
   "source": [
    "# 위도경도 데이터 Point로 만들어주기\n",
    "st_list = []\n",
    "for i in location:\n",
    "    test_code = Point(i)\n",
    "    st_list.append(test_code)"
   ]
  },
  {
   "cell_type": "code",
   "execution_count": 30,
   "id": "interesting-third",
   "metadata": {},
   "outputs": [
    {
     "data": {
      "text/html": [
       "<div>\n",
       "<style scoped>\n",
       "    .dataframe tbody tr th:only-of-type {\n",
       "        vertical-align: middle;\n",
       "    }\n",
       "\n",
       "    .dataframe tbody tr th {\n",
       "        vertical-align: top;\n",
       "    }\n",
       "\n",
       "    .dataframe thead th {\n",
       "        text-align: right;\n",
       "    }\n",
       "</style>\n",
       "<table border=\"1\" class=\"dataframe\">\n",
       "  <thead>\n",
       "    <tr style=\"text-align: right;\">\n",
       "      <th></th>\n",
       "      <th>NAME</th>\n",
       "      <th>PNAME</th>\n",
       "      <th>geometry</th>\n",
       "    </tr>\n",
       "  </thead>\n",
       "  <tbody>\n",
       "    <tr>\n",
       "      <th>0</th>\n",
       "      <td>세종경찰서</td>\n",
       "      <td>충남청</td>\n",
       "      <td>MULTIPOLYGON (((127.17202 36.73106, 127.17202 ...</td>\n",
       "    </tr>\n",
       "    <tr>\n",
       "      <th>1</th>\n",
       "      <td>진주경찰서</td>\n",
       "      <td>경남청</td>\n",
       "      <td>MULTIPOLYGON (((128.26697 35.12927, 128.26697 ...</td>\n",
       "    </tr>\n",
       "    <tr>\n",
       "      <th>2</th>\n",
       "      <td>창원서부경찰서</td>\n",
       "      <td>경남청</td>\n",
       "      <td>MULTIPOLYGON (((128.63363 35.22152, 128.63357 ...</td>\n",
       "    </tr>\n",
       "    <tr>\n",
       "      <th>3</th>\n",
       "      <td>창원중부경찰서</td>\n",
       "      <td>경남청</td>\n",
       "      <td>MULTIPOLYGON (((128.60966 35.15093, 128.60956 ...</td>\n",
       "    </tr>\n",
       "    <tr>\n",
       "      <th>4</th>\n",
       "      <td>마산동부경찰서</td>\n",
       "      <td>경남청</td>\n",
       "      <td>MULTIPOLYGON (((128.62696 35.21714, 128.62695 ...</td>\n",
       "    </tr>\n",
       "  </tbody>\n",
       "</table>\n",
       "</div>"
      ],
      "text/plain": [
       "      NAME PNAME                                           geometry\n",
       "0    세종경찰서   충남청  MULTIPOLYGON (((127.17202 36.73106, 127.17202 ...\n",
       "1    진주경찰서   경남청  MULTIPOLYGON (((128.26697 35.12927, 128.26697 ...\n",
       "2  창원서부경찰서   경남청  MULTIPOLYGON (((128.63363 35.22152, 128.63357 ...\n",
       "3  창원중부경찰서   경남청  MULTIPOLYGON (((128.60966 35.15093, 128.60956 ...\n",
       "4  마산동부경찰서   경남청  MULTIPOLYGON (((128.62696 35.21714, 128.62695 ..."
      ]
     },
     "execution_count": 30,
     "metadata": {},
     "output_type": "execute_result"
    }
   ],
   "source": [
    "#관할서 경계데이터 geopandas로 읽어오기\n",
    "df_js = gpd.read_file('1.5개시도_경찰서_관할경계.geojson', encoding='cp949')\n",
    "df_js.head()"
   ]
  },
  {
   "cell_type": "code",
   "execution_count": 31,
   "id": "pressed-fence",
   "metadata": {},
   "outputs": [],
   "source": [
    "# 빠른 반복문 진행을 위해 변수지정\n",
    "df_js_list = df_js[\"geometry\"]\n",
    "df_js_name = df_js[\"NAME\"]"
   ]
  },
  {
   "cell_type": "code",
   "execution_count": 32,
   "id": "later-acceptance",
   "metadata": {},
   "outputs": [],
   "source": [
    "# 위도경도 데이터가 관할경계데이터에 포함되면  관할서의 이름값을 df관할서의 \"모름\"을 관할서 이름으로 바꿔라  \n",
    "for z in range(41):\n",
    "    for i in range(len(df_park)):\n",
    "        if st_list[i].within(df_js_list[z]):\n",
    "            df_park.iloc[i,-1] = df_park.iloc[i,-1].replace(\"모름\",df_js_name[z])\n",
    "            \n",
    "        else:\n",
    "            pass"
   ]
  },
  {
   "cell_type": "code",
   "execution_count": 33,
   "id": "painful-modem",
   "metadata": {},
   "outputs": [
    {
     "data": {
      "text/html": [
       "<div>\n",
       "<style scoped>\n",
       "    .dataframe tbody tr th:only-of-type {\n",
       "        vertical-align: middle;\n",
       "    }\n",
       "\n",
       "    .dataframe tbody tr th {\n",
       "        vertical-align: top;\n",
       "    }\n",
       "\n",
       "    .dataframe thead th {\n",
       "        text-align: right;\n",
       "    }\n",
       "</style>\n",
       "<table border=\"1\" class=\"dataframe\">\n",
       "  <thead>\n",
       "    <tr style=\"text-align: right;\">\n",
       "      <th></th>\n",
       "      <th>park_nm</th>\n",
       "      <th>park_gbn</th>\n",
       "      <th>lon</th>\n",
       "      <th>lat</th>\n",
       "      <th>관할서</th>\n",
       "    </tr>\n",
       "  </thead>\n",
       "  <tbody>\n",
       "    <tr>\n",
       "      <th>0</th>\n",
       "      <td>도램샘 어린이공원(어1-13)</td>\n",
       "      <td>어린이공원</td>\n",
       "      <td>127.253744</td>\n",
       "      <td>36.520719</td>\n",
       "      <td>세종경찰서</td>\n",
       "    </tr>\n",
       "    <tr>\n",
       "      <th>1</th>\n",
       "      <td>꾸러기 어린이공원(어1-14)</td>\n",
       "      <td>어린이공원</td>\n",
       "      <td>127.241635</td>\n",
       "      <td>36.502642</td>\n",
       "      <td>세종경찰서</td>\n",
       "    </tr>\n",
       "    <tr>\n",
       "      <th>2</th>\n",
       "      <td>푸른꿈 어린이공원(어1-15)</td>\n",
       "      <td>어린이공원</td>\n",
       "      <td>127.262852</td>\n",
       "      <td>36.519766</td>\n",
       "      <td>세종경찰서</td>\n",
       "    </tr>\n",
       "    <tr>\n",
       "      <th>3</th>\n",
       "      <td>방울새 어린이공원(어1-18)</td>\n",
       "      <td>어린이공원</td>\n",
       "      <td>127.268955</td>\n",
       "      <td>36.496070</td>\n",
       "      <td>세종경찰서</td>\n",
       "    </tr>\n",
       "    <tr>\n",
       "      <th>4</th>\n",
       "      <td>푸른하늘 어린이공원(어1-19)</td>\n",
       "      <td>어린이공원</td>\n",
       "      <td>127.245986</td>\n",
       "      <td>36.510491</td>\n",
       "      <td>세종경찰서</td>\n",
       "    </tr>\n",
       "  </tbody>\n",
       "</table>\n",
       "</div>"
      ],
      "text/plain": [
       "             park_nm park_gbn         lon        lat    관할서\n",
       "0   도램샘 어린이공원(어1-13)    어린이공원  127.253744  36.520719  세종경찰서\n",
       "1   꾸러기 어린이공원(어1-14)    어린이공원  127.241635  36.502642  세종경찰서\n",
       "2   푸른꿈 어린이공원(어1-15)    어린이공원  127.262852  36.519766  세종경찰서\n",
       "3   방울새 어린이공원(어1-18)    어린이공원  127.268955  36.496070  세종경찰서\n",
       "4  푸른하늘 어린이공원(어1-19)    어린이공원  127.245986  36.510491  세종경찰서"
      ]
     },
     "execution_count": 33,
     "metadata": {},
     "output_type": "execute_result"
    }
   ],
   "source": [
    "df_park.head()"
   ]
  },
  {
   "cell_type": "code",
   "execution_count": 34,
   "id": "forbidden-consolidation",
   "metadata": {},
   "outputs": [],
   "source": [
    "df_jigu = pd.read_csv('12.경찰서별_지구대별_인원현황.csv')"
   ]
  },
  {
   "cell_type": "code",
   "execution_count": 35,
   "id": "chinese-initial",
   "metadata": {},
   "outputs": [
    {
     "data": {
      "text/html": [
       "<div>\n",
       "<style scoped>\n",
       "    .dataframe tbody tr th:only-of-type {\n",
       "        vertical-align: middle;\n",
       "    }\n",
       "\n",
       "    .dataframe tbody tr th {\n",
       "        vertical-align: top;\n",
       "    }\n",
       "\n",
       "    .dataframe thead th {\n",
       "        text-align: right;\n",
       "    }\n",
       "</style>\n",
       "<table border=\"1\" class=\"dataframe\">\n",
       "  <thead>\n",
       "    <tr style=\"text-align: right;\">\n",
       "      <th></th>\n",
       "      <th>nat_pol_agency</th>\n",
       "      <th>pol_office</th>\n",
       "      <th>sec_center</th>\n",
       "      <th>num</th>\n",
       "    </tr>\n",
       "  </thead>\n",
       "  <tbody>\n",
       "    <tr>\n",
       "      <th>0</th>\n",
       "      <td>서울경찰청</td>\n",
       "      <td>서울중부경찰서</td>\n",
       "      <td>을지지구대</td>\n",
       "      <td>42</td>\n",
       "    </tr>\n",
       "    <tr>\n",
       "      <th>1</th>\n",
       "      <td>서울경찰청</td>\n",
       "      <td>서울중부경찰서</td>\n",
       "      <td>광희지구대</td>\n",
       "      <td>47</td>\n",
       "    </tr>\n",
       "    <tr>\n",
       "      <th>2</th>\n",
       "      <td>서울경찰청</td>\n",
       "      <td>서울중부경찰서</td>\n",
       "      <td>약수지구대</td>\n",
       "      <td>42</td>\n",
       "    </tr>\n",
       "    <tr>\n",
       "      <th>3</th>\n",
       "      <td>서울경찰청</td>\n",
       "      <td>서울중부경찰서</td>\n",
       "      <td>신당파출소</td>\n",
       "      <td>26</td>\n",
       "    </tr>\n",
       "    <tr>\n",
       "      <th>4</th>\n",
       "      <td>서울경찰청</td>\n",
       "      <td>서울중부경찰서</td>\n",
       "      <td>장충파출소</td>\n",
       "      <td>26</td>\n",
       "    </tr>\n",
       "    <tr>\n",
       "      <th>...</th>\n",
       "      <td>...</td>\n",
       "      <td>...</td>\n",
       "      <td>...</td>\n",
       "      <td>...</td>\n",
       "    </tr>\n",
       "    <tr>\n",
       "      <th>315</th>\n",
       "      <td>경남경찰청</td>\n",
       "      <td>진주경찰서</td>\n",
       "      <td>일반성파출소</td>\n",
       "      <td>13</td>\n",
       "    </tr>\n",
       "    <tr>\n",
       "      <th>316</th>\n",
       "      <td>경남경찰청</td>\n",
       "      <td>진주경찰서</td>\n",
       "      <td>지수파출소</td>\n",
       "      <td>9</td>\n",
       "    </tr>\n",
       "    <tr>\n",
       "      <th>317</th>\n",
       "      <td>경남경찰청</td>\n",
       "      <td>진주경찰서</td>\n",
       "      <td>수곡파출소</td>\n",
       "      <td>9</td>\n",
       "    </tr>\n",
       "    <tr>\n",
       "      <th>318</th>\n",
       "      <td>경남경찰청</td>\n",
       "      <td>진주경찰서</td>\n",
       "      <td>대곡파출소</td>\n",
       "      <td>9</td>\n",
       "    </tr>\n",
       "    <tr>\n",
       "      <th>319</th>\n",
       "      <td>경남경찰청</td>\n",
       "      <td>진주경찰서</td>\n",
       "      <td>충무공파출소</td>\n",
       "      <td>23</td>\n",
       "    </tr>\n",
       "  </tbody>\n",
       "</table>\n",
       "<p>320 rows × 4 columns</p>\n",
       "</div>"
      ],
      "text/plain": [
       "    nat_pol_agency pol_office sec_center  num\n",
       "0            서울경찰청    서울중부경찰서      을지지구대   42\n",
       "1            서울경찰청    서울중부경찰서      광희지구대   47\n",
       "2            서울경찰청    서울중부경찰서      약수지구대   42\n",
       "3            서울경찰청    서울중부경찰서      신당파출소   26\n",
       "4            서울경찰청    서울중부경찰서      장충파출소   26\n",
       "..             ...        ...        ...  ...\n",
       "315          경남경찰청      진주경찰서     일반성파출소   13\n",
       "316          경남경찰청      진주경찰서      지수파출소    9\n",
       "317          경남경찰청      진주경찰서      수곡파출소    9\n",
       "318          경남경찰청      진주경찰서      대곡파출소    9\n",
       "319          경남경찰청      진주경찰서     충무공파출소   23\n",
       "\n",
       "[320 rows x 4 columns]"
      ]
     },
     "execution_count": 35,
     "metadata": {},
     "output_type": "execute_result"
    }
   ],
   "source": [
    "df_jigu"
   ]
  },
  {
   "cell_type": "code",
   "execution_count": 36,
   "id": "extreme-voluntary",
   "metadata": {},
   "outputs": [],
   "source": [
    "df_bell = gpd.read_file('22.5개시도_비상벨현황.geojson', encoding='cp949')"
   ]
  },
  {
   "cell_type": "code",
   "execution_count": 37,
   "id": "thirty-round",
   "metadata": {},
   "outputs": [
    {
     "data": {
      "text/html": [
       "<div>\n",
       "<style scoped>\n",
       "    .dataframe tbody tr th:only-of-type {\n",
       "        vertical-align: middle;\n",
       "    }\n",
       "\n",
       "    .dataframe tbody tr th {\n",
       "        vertical-align: top;\n",
       "    }\n",
       "\n",
       "    .dataframe thead th {\n",
       "        text-align: right;\n",
       "    }\n",
       "</style>\n",
       "<table border=\"1\" class=\"dataframe\">\n",
       "  <thead>\n",
       "    <tr style=\"text-align: right;\">\n",
       "      <th></th>\n",
       "      <th>bell_us</th>\n",
       "      <th>bell_set_fac</th>\n",
       "      <th>bell_loc</th>\n",
       "      <th>bell_set_yr</th>\n",
       "      <th>geometry</th>\n",
       "    </tr>\n",
       "  </thead>\n",
       "  <tbody>\n",
       "    <tr>\n",
       "      <th>0</th>\n",
       "      <td>기타</td>\n",
       "      <td>화장실</td>\n",
       "      <td>오가낭뜰 근린공원(간이)</td>\n",
       "      <td>2017</td>\n",
       "      <td>MULTIPOINT (127.24880 36.51230)</td>\n",
       "    </tr>\n",
       "    <tr>\n",
       "      <th>1</th>\n",
       "      <td>기타</td>\n",
       "      <td>화장실</td>\n",
       "      <td>어진동음악분수</td>\n",
       "      <td>2017</td>\n",
       "      <td>MULTIPOINT (127.25660 36.50190)</td>\n",
       "    </tr>\n",
       "    <tr>\n",
       "      <th>2</th>\n",
       "      <td>기타</td>\n",
       "      <td>화장실</td>\n",
       "      <td>제천(간이)</td>\n",
       "      <td>2017</td>\n",
       "      <td>MULTIPOINT (127.25660 36.50190)</td>\n",
       "    </tr>\n",
       "    <tr>\n",
       "      <th>3</th>\n",
       "      <td>기타</td>\n",
       "      <td>화장실</td>\n",
       "      <td>도시공원1(남리도시 공원화장실1)</td>\n",
       "      <td>2017</td>\n",
       "      <td>MULTIPOINT (127.30260 36.59780)</td>\n",
       "    </tr>\n",
       "    <tr>\n",
       "      <th>4</th>\n",
       "      <td>기타</td>\n",
       "      <td>화장실</td>\n",
       "      <td>부강면 전통시장 화장실</td>\n",
       "      <td>2017</td>\n",
       "      <td>MULTIPOINT (127.36740 36.52950)</td>\n",
       "    </tr>\n",
       "    <tr>\n",
       "      <th>...</th>\n",
       "      <td>...</td>\n",
       "      <td>...</td>\n",
       "      <td>...</td>\n",
       "      <td>...</td>\n",
       "      <td>...</td>\n",
       "    </tr>\n",
       "    <tr>\n",
       "      <th>18329</th>\n",
       "      <td>방범용</td>\n",
       "      <td>공원</td>\n",
       "      <td>북한산도시자연공원(홍은동 8-637일대)</td>\n",
       "      <td>2014</td>\n",
       "      <td>MULTIPOINT (126.95000 37.60580)</td>\n",
       "    </tr>\n",
       "    <tr>\n",
       "      <th>18330</th>\n",
       "      <td>방범용</td>\n",
       "      <td>화장실</td>\n",
       "      <td>참샘골공원 공중화장실</td>\n",
       "      <td>2017</td>\n",
       "      <td>MULTIPOINT (126.97470 37.61520)</td>\n",
       "    </tr>\n",
       "    <tr>\n",
       "      <th>18331</th>\n",
       "      <td>방범용</td>\n",
       "      <td>화장실</td>\n",
       "      <td>구기동공중화장실</td>\n",
       "      <td>2017</td>\n",
       "      <td>MULTIPOINT (126.95640 37.60960)</td>\n",
       "    </tr>\n",
       "    <tr>\n",
       "      <th>18332</th>\n",
       "      <td>방범용</td>\n",
       "      <td>기타</td>\n",
       "      <td>CCTV</td>\n",
       "      <td>2018</td>\n",
       "      <td>MULTIPOINT (126.94980 37.60520)</td>\n",
       "    </tr>\n",
       "    <tr>\n",
       "      <th>18333</th>\n",
       "      <td>방범용</td>\n",
       "      <td>기타</td>\n",
       "      <td>CCTV</td>\n",
       "      <td>2020</td>\n",
       "      <td>MULTIPOINT (126.95040 37.60330)</td>\n",
       "    </tr>\n",
       "  </tbody>\n",
       "</table>\n",
       "<p>18334 rows × 5 columns</p>\n",
       "</div>"
      ],
      "text/plain": [
       "      bell_us bell_set_fac                bell_loc  bell_set_yr  \\\n",
       "0          기타          화장실           오가낭뜰 근린공원(간이)         2017   \n",
       "1          기타          화장실                 어진동음악분수         2017   \n",
       "2          기타          화장실                  제천(간이)         2017   \n",
       "3          기타          화장실      도시공원1(남리도시 공원화장실1)         2017   \n",
       "4          기타          화장실            부강면 전통시장 화장실         2017   \n",
       "...       ...          ...                     ...          ...   \n",
       "18329     방범용           공원  북한산도시자연공원(홍은동 8-637일대)         2014   \n",
       "18330     방범용          화장실             참샘골공원 공중화장실         2017   \n",
       "18331     방범용          화장실                구기동공중화장실         2017   \n",
       "18332     방범용           기타                    CCTV         2018   \n",
       "18333     방범용           기타                    CCTV         2020   \n",
       "\n",
       "                              geometry  \n",
       "0      MULTIPOINT (127.24880 36.51230)  \n",
       "1      MULTIPOINT (127.25660 36.50190)  \n",
       "2      MULTIPOINT (127.25660 36.50190)  \n",
       "3      MULTIPOINT (127.30260 36.59780)  \n",
       "4      MULTIPOINT (127.36740 36.52950)  \n",
       "...                                ...  \n",
       "18329  MULTIPOINT (126.95000 37.60580)  \n",
       "18330  MULTIPOINT (126.97470 37.61520)  \n",
       "18331  MULTIPOINT (126.95640 37.60960)  \n",
       "18332  MULTIPOINT (126.94980 37.60520)  \n",
       "18333  MULTIPOINT (126.95040 37.60330)  \n",
       "\n",
       "[18334 rows x 5 columns]"
      ]
     },
     "execution_count": 37,
     "metadata": {},
     "output_type": "execute_result"
    }
   ],
   "source": [
    "df_bell"
   ]
  },
  {
   "cell_type": "code",
   "execution_count": 38,
   "id": "pursuant-synthesis",
   "metadata": {},
   "outputs": [],
   "source": [
    "df_singo = pd.read_csv('5.112신고.csv')"
   ]
  },
  {
   "cell_type": "code",
   "execution_count": 39,
   "id": "final-shore",
   "metadata": {},
   "outputs": [
    {
     "data": {
      "text/html": [
       "<div>\n",
       "<style scoped>\n",
       "    .dataframe tbody tr th:only-of-type {\n",
       "        vertical-align: middle;\n",
       "    }\n",
       "\n",
       "    .dataframe tbody tr th {\n",
       "        vertical-align: top;\n",
       "    }\n",
       "\n",
       "    .dataframe thead th {\n",
       "        text-align: right;\n",
       "    }\n",
       "</style>\n",
       "<table border=\"1\" class=\"dataframe\">\n",
       "  <thead>\n",
       "    <tr style=\"text-align: right;\">\n",
       "      <th></th>\n",
       "      <th>date</th>\n",
       "      <th>jur_stn</th>\n",
       "      <th>report_sx</th>\n",
       "      <th>inc_info</th>\n",
       "    </tr>\n",
       "  </thead>\n",
       "  <tbody>\n",
       "    <tr>\n",
       "      <th>0</th>\n",
       "      <td>20180603.0</td>\n",
       "      <td>서울서부</td>\n",
       "      <td>남성</td>\n",
       "      <td>분실습득</td>\n",
       "    </tr>\n",
       "    <tr>\n",
       "      <th>1</th>\n",
       "      <td>20180603.0</td>\n",
       "      <td>서울송파</td>\n",
       "      <td>여성</td>\n",
       "      <td>폭력</td>\n",
       "    </tr>\n",
       "    <tr>\n",
       "      <th>2</th>\n",
       "      <td>20180603.0</td>\n",
       "      <td>서울강서</td>\n",
       "      <td>남성</td>\n",
       "      <td>소음</td>\n",
       "    </tr>\n",
       "    <tr>\n",
       "      <th>3</th>\n",
       "      <td>20180603.0</td>\n",
       "      <td>서울영등포</td>\n",
       "      <td>여성</td>\n",
       "      <td>실종(실종아동 등)</td>\n",
       "    </tr>\n",
       "    <tr>\n",
       "      <th>4</th>\n",
       "      <td>20180603.0</td>\n",
       "      <td>서울강서</td>\n",
       "      <td>남성</td>\n",
       "      <td>상담문의</td>\n",
       "    </tr>\n",
       "    <tr>\n",
       "      <th>...</th>\n",
       "      <td>...</td>\n",
       "      <td>...</td>\n",
       "      <td>...</td>\n",
       "      <td>...</td>\n",
       "    </tr>\n",
       "    <tr>\n",
       "      <th>9229106</th>\n",
       "      <td>20210531.0</td>\n",
       "      <td>마산동부</td>\n",
       "      <td>남성</td>\n",
       "      <td>교통사고</td>\n",
       "    </tr>\n",
       "    <tr>\n",
       "      <th>9229107</th>\n",
       "      <td>20210531.0</td>\n",
       "      <td>마산중부</td>\n",
       "      <td>남성</td>\n",
       "      <td>가정폭력</td>\n",
       "    </tr>\n",
       "    <tr>\n",
       "      <th>9229108</th>\n",
       "      <td>20210531.0</td>\n",
       "      <td>마산중부</td>\n",
       "      <td>불상</td>\n",
       "      <td>화재</td>\n",
       "    </tr>\n",
       "    <tr>\n",
       "      <th>9229109</th>\n",
       "      <td>20210531.0</td>\n",
       "      <td>마산동부</td>\n",
       "      <td>남성</td>\n",
       "      <td>기타형사범</td>\n",
       "    </tr>\n",
       "    <tr>\n",
       "      <th>9229110</th>\n",
       "      <td>20210531.0</td>\n",
       "      <td>진해</td>\n",
       "      <td>남성</td>\n",
       "      <td>상담문의</td>\n",
       "    </tr>\n",
       "  </tbody>\n",
       "</table>\n",
       "<p>9229111 rows × 4 columns</p>\n",
       "</div>"
      ],
      "text/plain": [
       "               date jur_stn report_sx    inc_info\n",
       "0        20180603.0    서울서부        남성        분실습득\n",
       "1        20180603.0    서울송파        여성          폭력\n",
       "2        20180603.0    서울강서        남성          소음\n",
       "3        20180603.0   서울영등포        여성  실종(실종아동 등)\n",
       "4        20180603.0    서울강서        남성        상담문의\n",
       "...             ...     ...       ...         ...\n",
       "9229106  20210531.0    마산동부        남성        교통사고\n",
       "9229107  20210531.0    마산중부        남성        가정폭력\n",
       "9229108  20210531.0    마산중부        불상          화재\n",
       "9229109  20210531.0    마산동부        남성       기타형사범\n",
       "9229110  20210531.0      진해        남성        상담문의\n",
       "\n",
       "[9229111 rows x 4 columns]"
      ]
     },
     "execution_count": 39,
     "metadata": {},
     "output_type": "execute_result"
    }
   ],
   "source": [
    "df_singo"
   ]
  },
  {
   "cell_type": "code",
   "execution_count": 40,
   "id": "suitable-boulder",
   "metadata": {},
   "outputs": [],
   "source": [
    "df_cctv = pd.read_csv('10.5개시도_CCTV설치현황.csv')"
   ]
  },
  {
   "cell_type": "code",
   "execution_count": 41,
   "id": "abandoned-incentive",
   "metadata": {},
   "outputs": [
    {
     "data": {
      "text/html": [
       "<div>\n",
       "<style scoped>\n",
       "    .dataframe tbody tr th:only-of-type {\n",
       "        vertical-align: middle;\n",
       "    }\n",
       "\n",
       "    .dataframe tbody tr th {\n",
       "        vertical-align: top;\n",
       "    }\n",
       "\n",
       "    .dataframe thead th {\n",
       "        text-align: right;\n",
       "    }\n",
       "</style>\n",
       "<table border=\"1\" class=\"dataframe\">\n",
       "  <thead>\n",
       "    <tr style=\"text-align: right;\">\n",
       "      <th></th>\n",
       "      <th>address</th>\n",
       "      <th>purpose</th>\n",
       "      <th>cctv_cnt</th>\n",
       "      <th>set_yr</th>\n",
       "      <th>lat</th>\n",
       "      <th>lon</th>\n",
       "    </tr>\n",
       "  </thead>\n",
       "  <tbody>\n",
       "    <tr>\n",
       "      <th>0</th>\n",
       "      <td>세종특별자치시 조치원읍 교리 129-1</td>\n",
       "      <td>다목적</td>\n",
       "      <td>3</td>\n",
       "      <td>NaN</td>\n",
       "      <td>36.605059</td>\n",
       "      <td>127.296286</td>\n",
       "    </tr>\n",
       "    <tr>\n",
       "      <th>1</th>\n",
       "      <td>세종특별자치시 조치원읍 남리144</td>\n",
       "      <td>다목적</td>\n",
       "      <td>2</td>\n",
       "      <td>NaN</td>\n",
       "      <td>36.597678</td>\n",
       "      <td>127.302452</td>\n",
       "    </tr>\n",
       "    <tr>\n",
       "      <th>2</th>\n",
       "      <td>세종특별자치시 조치원읍 남리 425</td>\n",
       "      <td>다목적</td>\n",
       "      <td>3</td>\n",
       "      <td>NaN</td>\n",
       "      <td>36.594863</td>\n",
       "      <td>127.300492</td>\n",
       "    </tr>\n",
       "    <tr>\n",
       "      <th>3</th>\n",
       "      <td>세종특별자치시 조치원읍 명리82</td>\n",
       "      <td>다목적</td>\n",
       "      <td>3</td>\n",
       "      <td>NaN</td>\n",
       "      <td>36.600620</td>\n",
       "      <td>127.301301</td>\n",
       "    </tr>\n",
       "    <tr>\n",
       "      <th>4</th>\n",
       "      <td>세종특별자치시 조치원읍 상리18-10</td>\n",
       "      <td>다목적</td>\n",
       "      <td>4</td>\n",
       "      <td>NaN</td>\n",
       "      <td>36.602434</td>\n",
       "      <td>127.303145</td>\n",
       "    </tr>\n",
       "  </tbody>\n",
       "</table>\n",
       "</div>"
      ],
      "text/plain": [
       "                 address purpose  cctv_cnt set_yr        lat         lon\n",
       "0  세종특별자치시 조치원읍 교리 129-1     다목적         3    NaN  36.605059  127.296286\n",
       "1     세종특별자치시 조치원읍 남리144     다목적         2    NaN  36.597678  127.302452\n",
       "2    세종특별자치시 조치원읍 남리 425     다목적         3    NaN  36.594863  127.300492\n",
       "3      세종특별자치시 조치원읍 명리82     다목적         3    NaN  36.600620  127.301301\n",
       "4   세종특별자치시 조치원읍 상리18-10     다목적         4    NaN  36.602434  127.303145"
      ]
     },
     "execution_count": 41,
     "metadata": {},
     "output_type": "execute_result"
    }
   ],
   "source": [
    "df_cctv.head()"
   ]
  },
  {
   "cell_type": "code",
   "execution_count": 48,
   "id": "monthly-frame",
   "metadata": {},
   "outputs": [],
   "source": [
    "df_cctv[\"관할서\"] = \"모름\""
   ]
  },
  {
   "cell_type": "code",
   "execution_count": 49,
   "id": "rapid-medline",
   "metadata": {},
   "outputs": [],
   "source": [
    "# 위도경도 데이터 zip\n",
    "location = list(zip(df_cctv[\"lon\"], df_cctv[\"lat\"]))\n",
    "\n",
    "# 위도경도 데이터 Point로 만들어주기\n",
    "st_list = []\n",
    "for i in location:\n",
    "    test_code = Point(i)\n",
    "    st_list.append(test_code)"
   ]
  },
  {
   "cell_type": "code",
   "execution_count": 50,
   "id": "sixth-capitol",
   "metadata": {},
   "outputs": [
    {
     "data": {
      "text/plain": [
       "46203"
      ]
     },
     "execution_count": 50,
     "metadata": {},
     "output_type": "execute_result"
    }
   ],
   "source": [
    "len(df_cctv)"
   ]
  },
  {
   "cell_type": "code",
   "execution_count": 51,
   "id": "hindu-blind",
   "metadata": {},
   "outputs": [],
   "source": [
    "#반복문진행률\n",
    "from tqdm import tqdm"
   ]
  },
  {
   "cell_type": "code",
   "execution_count": 52,
   "id": "constitutional-closer",
   "metadata": {},
   "outputs": [
    {
     "name": "stderr",
     "output_type": "stream",
     "text": [
      " 12%|█▏        | 5/41 [03:37<26:07, 43.54s/it]\n"
     ]
    },
    {
     "ename": "KeyboardInterrupt",
     "evalue": "",
     "output_type": "error",
     "traceback": [
      "\u001b[0;31m---------------------------------------------------------------------------\u001b[0m",
      "\u001b[0;31mKeyboardInterrupt\u001b[0m                         Traceback (most recent call last)",
      "\u001b[0;32m<ipython-input-52-64b81ee7149f>\u001b[0m in \u001b[0;36m<module>\u001b[0;34m\u001b[0m\n\u001b[1;32m      2\u001b[0m \u001b[0;32mfor\u001b[0m \u001b[0mz\u001b[0m \u001b[0;32min\u001b[0m \u001b[0mtqdm\u001b[0m\u001b[0;34m(\u001b[0m\u001b[0mrange\u001b[0m\u001b[0;34m(\u001b[0m\u001b[0;36m41\u001b[0m\u001b[0;34m)\u001b[0m\u001b[0;34m)\u001b[0m\u001b[0;34m:\u001b[0m\u001b[0;34m\u001b[0m\u001b[0;34m\u001b[0m\u001b[0m\n\u001b[1;32m      3\u001b[0m     \u001b[0;32mfor\u001b[0m \u001b[0mi\u001b[0m \u001b[0;32min\u001b[0m \u001b[0mrange\u001b[0m\u001b[0;34m(\u001b[0m\u001b[0mlen\u001b[0m\u001b[0;34m(\u001b[0m\u001b[0mdf_cctv\u001b[0m\u001b[0;34m)\u001b[0m\u001b[0;34m)\u001b[0m\u001b[0;34m:\u001b[0m\u001b[0;34m\u001b[0m\u001b[0;34m\u001b[0m\u001b[0m\n\u001b[0;32m----> 4\u001b[0;31m         \u001b[0;32mif\u001b[0m \u001b[0mst_list\u001b[0m\u001b[0;34m[\u001b[0m\u001b[0mi\u001b[0m\u001b[0;34m]\u001b[0m\u001b[0;34m.\u001b[0m\u001b[0mwithin\u001b[0m\u001b[0;34m(\u001b[0m\u001b[0mdf_js_list\u001b[0m\u001b[0;34m[\u001b[0m\u001b[0mz\u001b[0m\u001b[0;34m]\u001b[0m\u001b[0;34m)\u001b[0m\u001b[0;34m:\u001b[0m\u001b[0;34m\u001b[0m\u001b[0;34m\u001b[0m\u001b[0m\n\u001b[0m\u001b[1;32m      5\u001b[0m             \u001b[0mdf_cctv\u001b[0m\u001b[0;34m.\u001b[0m\u001b[0miloc\u001b[0m\u001b[0;34m[\u001b[0m\u001b[0mi\u001b[0m\u001b[0;34m,\u001b[0m\u001b[0;34m-\u001b[0m\u001b[0;36m1\u001b[0m\u001b[0;34m]\u001b[0m \u001b[0;34m=\u001b[0m \u001b[0mdf_cctv\u001b[0m\u001b[0;34m.\u001b[0m\u001b[0miloc\u001b[0m\u001b[0;34m[\u001b[0m\u001b[0mi\u001b[0m\u001b[0;34m,\u001b[0m\u001b[0;34m-\u001b[0m\u001b[0;36m1\u001b[0m\u001b[0;34m]\u001b[0m\u001b[0;34m.\u001b[0m\u001b[0mreplace\u001b[0m\u001b[0;34m(\u001b[0m\u001b[0;34m\"모름\"\u001b[0m\u001b[0;34m,\u001b[0m\u001b[0mdf_js_name\u001b[0m\u001b[0;34m[\u001b[0m\u001b[0mz\u001b[0m\u001b[0;34m]\u001b[0m\u001b[0;34m)\u001b[0m\u001b[0;34m\u001b[0m\u001b[0;34m\u001b[0m\u001b[0m\n\u001b[1;32m      6\u001b[0m \u001b[0;34m\u001b[0m\u001b[0m\n",
      "\u001b[0;32m/opt/app-root/lib/python3.6/site-packages/geopandas/geoseries.py\u001b[0m in \u001b[0;36m__getitem__\u001b[0;34m(self, key)\u001b[0m\n\u001b[1;32m    556\u001b[0m \u001b[0;34m\u001b[0m\u001b[0m\n\u001b[1;32m    557\u001b[0m     \u001b[0;32mdef\u001b[0m \u001b[0m__getitem__\u001b[0m\u001b[0;34m(\u001b[0m\u001b[0mself\u001b[0m\u001b[0;34m,\u001b[0m \u001b[0mkey\u001b[0m\u001b[0;34m)\u001b[0m\u001b[0;34m:\u001b[0m\u001b[0;34m\u001b[0m\u001b[0;34m\u001b[0m\u001b[0m\n\u001b[0;32m--> 558\u001b[0;31m         \u001b[0;32mreturn\u001b[0m \u001b[0mself\u001b[0m\u001b[0;34m.\u001b[0m\u001b[0m_wrapped_pandas_method\u001b[0m\u001b[0;34m(\u001b[0m\u001b[0;34m\"__getitem__\"\u001b[0m\u001b[0;34m,\u001b[0m \u001b[0mkey\u001b[0m\u001b[0;34m)\u001b[0m\u001b[0;34m\u001b[0m\u001b[0;34m\u001b[0m\u001b[0m\n\u001b[0m\u001b[1;32m    559\u001b[0m \u001b[0;34m\u001b[0m\u001b[0m\n\u001b[1;32m    560\u001b[0m     \u001b[0;34m@\u001b[0m\u001b[0minherit_doc\u001b[0m\u001b[0;34m(\u001b[0m\u001b[0mpd\u001b[0m\u001b[0;34m.\u001b[0m\u001b[0mSeries\u001b[0m\u001b[0;34m)\u001b[0m\u001b[0;34m\u001b[0m\u001b[0;34m\u001b[0m\u001b[0m\n",
      "\u001b[0;32m/opt/app-root/lib/python3.6/site-packages/geopandas/geoseries.py\u001b[0m in \u001b[0;36m_wrapped_pandas_method\u001b[0;34m(self, mtd, *args, **kwargs)\u001b[0m\n\u001b[1;32m    549\u001b[0m     \u001b[0;32mdef\u001b[0m \u001b[0m_wrapped_pandas_method\u001b[0m\u001b[0;34m(\u001b[0m\u001b[0mself\u001b[0m\u001b[0;34m,\u001b[0m \u001b[0mmtd\u001b[0m\u001b[0;34m,\u001b[0m \u001b[0;34m*\u001b[0m\u001b[0margs\u001b[0m\u001b[0;34m,\u001b[0m \u001b[0;34m**\u001b[0m\u001b[0mkwargs\u001b[0m\u001b[0;34m)\u001b[0m\u001b[0;34m:\u001b[0m\u001b[0;34m\u001b[0m\u001b[0;34m\u001b[0m\u001b[0m\n\u001b[1;32m    550\u001b[0m         \u001b[0;34m\"\"\"Wrap a generic pandas method to ensure it returns a GeoSeries\"\"\"\u001b[0m\u001b[0;34m\u001b[0m\u001b[0;34m\u001b[0m\u001b[0m\n\u001b[0;32m--> 551\u001b[0;31m         \u001b[0mval\u001b[0m \u001b[0;34m=\u001b[0m \u001b[0mgetattr\u001b[0m\u001b[0;34m(\u001b[0m\u001b[0msuper\u001b[0m\u001b[0;34m(\u001b[0m\u001b[0mGeoSeries\u001b[0m\u001b[0;34m,\u001b[0m \u001b[0mself\u001b[0m\u001b[0;34m)\u001b[0m\u001b[0;34m,\u001b[0m \u001b[0mmtd\u001b[0m\u001b[0;34m)\u001b[0m\u001b[0;34m(\u001b[0m\u001b[0;34m*\u001b[0m\u001b[0margs\u001b[0m\u001b[0;34m,\u001b[0m \u001b[0;34m**\u001b[0m\u001b[0mkwargs\u001b[0m\u001b[0;34m)\u001b[0m\u001b[0;34m\u001b[0m\u001b[0;34m\u001b[0m\u001b[0m\n\u001b[0m\u001b[1;32m    552\u001b[0m         \u001b[0;32mif\u001b[0m \u001b[0mtype\u001b[0m\u001b[0;34m(\u001b[0m\u001b[0mval\u001b[0m\u001b[0;34m)\u001b[0m \u001b[0;34m==\u001b[0m \u001b[0mSeries\u001b[0m\u001b[0;34m:\u001b[0m\u001b[0;34m\u001b[0m\u001b[0;34m\u001b[0m\u001b[0m\n\u001b[1;32m    553\u001b[0m             \u001b[0mval\u001b[0m\u001b[0;34m.\u001b[0m\u001b[0m__class__\u001b[0m \u001b[0;34m=\u001b[0m \u001b[0mGeoSeries\u001b[0m\u001b[0;34m\u001b[0m\u001b[0;34m\u001b[0m\u001b[0m\n",
      "\u001b[0;32m/opt/app-root/lib/python3.6/site-packages/pandas/core/series.py\u001b[0m in \u001b[0;36m__getitem__\u001b[0;34m(self, key)\u001b[0m\n\u001b[1;32m    880\u001b[0m \u001b[0;34m\u001b[0m\u001b[0m\n\u001b[1;32m    881\u001b[0m         \u001b[0;32melif\u001b[0m \u001b[0mkey_is_scalar\u001b[0m\u001b[0;34m:\u001b[0m\u001b[0;34m\u001b[0m\u001b[0;34m\u001b[0m\u001b[0m\n\u001b[0;32m--> 882\u001b[0;31m             \u001b[0;32mreturn\u001b[0m \u001b[0mself\u001b[0m\u001b[0;34m.\u001b[0m\u001b[0m_get_value\u001b[0m\u001b[0;34m(\u001b[0m\u001b[0mkey\u001b[0m\u001b[0;34m)\u001b[0m\u001b[0;34m\u001b[0m\u001b[0;34m\u001b[0m\u001b[0m\n\u001b[0m\u001b[1;32m    883\u001b[0m \u001b[0;34m\u001b[0m\u001b[0m\n\u001b[1;32m    884\u001b[0m         \u001b[0;32mif\u001b[0m \u001b[0mis_hashable\u001b[0m\u001b[0;34m(\u001b[0m\u001b[0mkey\u001b[0m\u001b[0;34m)\u001b[0m\u001b[0;34m:\u001b[0m\u001b[0;34m\u001b[0m\u001b[0;34m\u001b[0m\u001b[0m\n",
      "\u001b[0;32m/opt/app-root/lib/python3.6/site-packages/pandas/core/series.py\u001b[0m in \u001b[0;36m_get_value\u001b[0;34m(self, label, takeable)\u001b[0m\n\u001b[1;32m    989\u001b[0m         \u001b[0;31m# Similar to Index.get_value, but we do not fall back to positional\u001b[0m\u001b[0;34m\u001b[0m\u001b[0;34m\u001b[0m\u001b[0;34m\u001b[0m\u001b[0m\n\u001b[1;32m    990\u001b[0m         \u001b[0mloc\u001b[0m \u001b[0;34m=\u001b[0m \u001b[0mself\u001b[0m\u001b[0;34m.\u001b[0m\u001b[0mindex\u001b[0m\u001b[0;34m.\u001b[0m\u001b[0mget_loc\u001b[0m\u001b[0;34m(\u001b[0m\u001b[0mlabel\u001b[0m\u001b[0;34m)\u001b[0m\u001b[0;34m\u001b[0m\u001b[0;34m\u001b[0m\u001b[0m\n\u001b[0;32m--> 991\u001b[0;31m         \u001b[0;32mreturn\u001b[0m \u001b[0mself\u001b[0m\u001b[0;34m.\u001b[0m\u001b[0mindex\u001b[0m\u001b[0;34m.\u001b[0m\u001b[0m_get_values_for_loc\u001b[0m\u001b[0;34m(\u001b[0m\u001b[0mself\u001b[0m\u001b[0;34m,\u001b[0m \u001b[0mloc\u001b[0m\u001b[0;34m,\u001b[0m \u001b[0mlabel\u001b[0m\u001b[0;34m)\u001b[0m\u001b[0;34m\u001b[0m\u001b[0;34m\u001b[0m\u001b[0m\n\u001b[0m\u001b[1;32m    992\u001b[0m \u001b[0;34m\u001b[0m\u001b[0m\n\u001b[1;32m    993\u001b[0m     \u001b[0;32mdef\u001b[0m \u001b[0m__setitem__\u001b[0m\u001b[0;34m(\u001b[0m\u001b[0mself\u001b[0m\u001b[0;34m,\u001b[0m \u001b[0mkey\u001b[0m\u001b[0;34m,\u001b[0m \u001b[0mvalue\u001b[0m\u001b[0;34m)\u001b[0m\u001b[0;34m:\u001b[0m\u001b[0;34m\u001b[0m\u001b[0;34m\u001b[0m\u001b[0m\n",
      "\u001b[0;32m/opt/app-root/lib/python3.6/site-packages/pandas/core/indexes/base.py\u001b[0m in \u001b[0;36m_get_values_for_loc\u001b[0;34m(self, series, loc, key)\u001b[0m\n\u001b[1;32m   4634\u001b[0m         \"\"\"\n\u001b[1;32m   4635\u001b[0m         \u001b[0;32mif\u001b[0m \u001b[0mis_integer\u001b[0m\u001b[0;34m(\u001b[0m\u001b[0mloc\u001b[0m\u001b[0;34m)\u001b[0m\u001b[0;34m:\u001b[0m\u001b[0;34m\u001b[0m\u001b[0;34m\u001b[0m\u001b[0m\n\u001b[0;32m-> 4636\u001b[0;31m             \u001b[0;32mreturn\u001b[0m \u001b[0mseries\u001b[0m\u001b[0;34m.\u001b[0m\u001b[0m_values\u001b[0m\u001b[0;34m[\u001b[0m\u001b[0mloc\u001b[0m\u001b[0;34m]\u001b[0m\u001b[0;34m\u001b[0m\u001b[0;34m\u001b[0m\u001b[0m\n\u001b[0m\u001b[1;32m   4637\u001b[0m \u001b[0;34m\u001b[0m\u001b[0m\n\u001b[1;32m   4638\u001b[0m         \u001b[0;32mreturn\u001b[0m \u001b[0mseries\u001b[0m\u001b[0;34m.\u001b[0m\u001b[0miloc\u001b[0m\u001b[0;34m[\u001b[0m\u001b[0mloc\u001b[0m\u001b[0;34m]\u001b[0m\u001b[0;34m\u001b[0m\u001b[0;34m\u001b[0m\u001b[0m\n",
      "\u001b[0;32m/opt/app-root/lib/python3.6/site-packages/geopandas/array.py\u001b[0m in \u001b[0;36m__getitem__\u001b[0;34m(self, idx)\u001b[0m\n\u001b[1;32m    375\u001b[0m     \u001b[0;32mdef\u001b[0m \u001b[0m__getitem__\u001b[0m\u001b[0;34m(\u001b[0m\u001b[0mself\u001b[0m\u001b[0;34m,\u001b[0m \u001b[0midx\u001b[0m\u001b[0;34m)\u001b[0m\u001b[0;34m:\u001b[0m\u001b[0;34m\u001b[0m\u001b[0;34m\u001b[0m\u001b[0m\n\u001b[1;32m    376\u001b[0m         \u001b[0;32mif\u001b[0m \u001b[0misinstance\u001b[0m\u001b[0;34m(\u001b[0m\u001b[0midx\u001b[0m\u001b[0;34m,\u001b[0m \u001b[0mnumbers\u001b[0m\u001b[0;34m.\u001b[0m\u001b[0mIntegral\u001b[0m\u001b[0;34m)\u001b[0m\u001b[0;34m:\u001b[0m\u001b[0;34m\u001b[0m\u001b[0;34m\u001b[0m\u001b[0m\n\u001b[0;32m--> 377\u001b[0;31m             \u001b[0;32mreturn\u001b[0m \u001b[0m_geom_to_shapely\u001b[0m\u001b[0;34m(\u001b[0m\u001b[0mself\u001b[0m\u001b[0;34m.\u001b[0m\u001b[0mdata\u001b[0m\u001b[0;34m[\u001b[0m\u001b[0midx\u001b[0m\u001b[0;34m]\u001b[0m\u001b[0;34m)\u001b[0m\u001b[0;34m\u001b[0m\u001b[0;34m\u001b[0m\u001b[0m\n\u001b[0m\u001b[1;32m    378\u001b[0m         \u001b[0;31m# array-like, slice\u001b[0m\u001b[0;34m\u001b[0m\u001b[0;34m\u001b[0m\u001b[0;34m\u001b[0m\u001b[0m\n\u001b[1;32m    379\u001b[0m         \u001b[0;32mif\u001b[0m \u001b[0mcompat\u001b[0m\u001b[0;34m.\u001b[0m\u001b[0mPANDAS_GE_10\u001b[0m\u001b[0;34m:\u001b[0m\u001b[0;34m\u001b[0m\u001b[0;34m\u001b[0m\u001b[0m\n",
      "\u001b[0;32m/opt/app-root/lib/python3.6/site-packages/geopandas/array.py\u001b[0m in \u001b[0;36m_geom_to_shapely\u001b[0;34m(geom)\u001b[0m\n\u001b[1;32m    130\u001b[0m         \u001b[0;32mreturn\u001b[0m \u001b[0mgeom\u001b[0m\u001b[0;34m\u001b[0m\u001b[0;34m\u001b[0m\u001b[0m\n\u001b[1;32m    131\u001b[0m     \u001b[0;32melse\u001b[0m\u001b[0;34m:\u001b[0m\u001b[0;34m\u001b[0m\u001b[0;34m\u001b[0m\u001b[0m\n\u001b[0;32m--> 132\u001b[0;31m         \u001b[0;32mreturn\u001b[0m \u001b[0mvectorized\u001b[0m\u001b[0;34m.\u001b[0m\u001b[0m_pygeos_to_shapely\u001b[0m\u001b[0;34m(\u001b[0m\u001b[0mgeom\u001b[0m\u001b[0;34m)\u001b[0m\u001b[0;34m\u001b[0m\u001b[0;34m\u001b[0m\u001b[0m\n\u001b[0m\u001b[1;32m    133\u001b[0m \u001b[0;34m\u001b[0m\u001b[0m\n\u001b[1;32m    134\u001b[0m \u001b[0;34m\u001b[0m\u001b[0m\n",
      "\u001b[0;32m/opt/app-root/lib/python3.6/site-packages/geopandas/_vectorized.py\u001b[0m in \u001b[0;36m_pygeos_to_shapely\u001b[0;34m(geom)\u001b[0m\n\u001b[1;32m     73\u001b[0m         \u001b[0;32mreturn\u001b[0m \u001b[0mshapely\u001b[0m\u001b[0;34m.\u001b[0m\u001b[0mwkt\u001b[0m\u001b[0;34m.\u001b[0m\u001b[0mloads\u001b[0m\u001b[0;34m(\u001b[0m\u001b[0;34m\"POINT EMPTY\"\u001b[0m\u001b[0;34m)\u001b[0m\u001b[0;34m\u001b[0m\u001b[0;34m\u001b[0m\u001b[0m\n\u001b[1;32m     74\u001b[0m     \u001b[0;32melse\u001b[0m\u001b[0;34m:\u001b[0m\u001b[0;34m\u001b[0m\u001b[0;34m\u001b[0m\u001b[0m\n\u001b[0;32m---> 75\u001b[0;31m         \u001b[0;32mreturn\u001b[0m \u001b[0mshapely\u001b[0m\u001b[0;34m.\u001b[0m\u001b[0mwkb\u001b[0m\u001b[0;34m.\u001b[0m\u001b[0mloads\u001b[0m\u001b[0;34m(\u001b[0m\u001b[0mpygeos\u001b[0m\u001b[0;34m.\u001b[0m\u001b[0mto_wkb\u001b[0m\u001b[0;34m(\u001b[0m\u001b[0mgeom\u001b[0m\u001b[0;34m)\u001b[0m\u001b[0;34m)\u001b[0m\u001b[0;34m\u001b[0m\u001b[0;34m\u001b[0m\u001b[0m\n\u001b[0m\u001b[1;32m     76\u001b[0m \u001b[0;34m\u001b[0m\u001b[0m\n\u001b[1;32m     77\u001b[0m \u001b[0;34m\u001b[0m\u001b[0m\n",
      "\u001b[0;32m/opt/app-root/lib/python3.6/site-packages/pygeos/io.py\u001b[0m in \u001b[0;36mto_wkb\u001b[0;34m(geometry, hex, output_dimension, byte_order, include_srid, **kwargs)\u001b[0m\n\u001b[1;32m    158\u001b[0m         \u001b[0mnp\u001b[0m\u001b[0;34m.\u001b[0m\u001b[0mintc\u001b[0m\u001b[0;34m(\u001b[0m\u001b[0mbyte_order\u001b[0m\u001b[0;34m)\u001b[0m\u001b[0;34m,\u001b[0m\u001b[0;34m\u001b[0m\u001b[0;34m\u001b[0m\u001b[0m\n\u001b[1;32m    159\u001b[0m         \u001b[0mnp\u001b[0m\u001b[0;34m.\u001b[0m\u001b[0mbool_\u001b[0m\u001b[0;34m(\u001b[0m\u001b[0minclude_srid\u001b[0m\u001b[0;34m)\u001b[0m\u001b[0;34m,\u001b[0m\u001b[0;34m\u001b[0m\u001b[0;34m\u001b[0m\u001b[0m\n\u001b[0;32m--> 160\u001b[0;31m         \u001b[0;34m**\u001b[0m\u001b[0mkwargs\u001b[0m\u001b[0;34m,\u001b[0m\u001b[0;34m\u001b[0m\u001b[0;34m\u001b[0m\u001b[0m\n\u001b[0m\u001b[1;32m    161\u001b[0m     )\n\u001b[1;32m    162\u001b[0m \u001b[0;34m\u001b[0m\u001b[0m\n",
      "\u001b[0;31mKeyboardInterrupt\u001b[0m: "
     ]
    }
   ],
   "source": [
    "# 위도경도 데이터가 관할경계데이터에 포함되면  관할서의 이름값을 df관할서의 \"모름\"을 관할서 이름으로 바꿔라  \n",
    "for z in tqdm(range(41)):\n",
    "    for i in range(len(df_cctv)):\n",
    "        if st_list[i].within(df_js_list[z]):\n",
    "            df_cctv.iloc[i,-1] = df_cctv.iloc[i,-1].replace(\"모름\",df_js_name[z])\n",
    "            \n",
    "        else:\n",
    "            pass"
   ]
  },
  {
   "cell_type": "code",
   "execution_count": null,
   "id": "complex-coach",
   "metadata": {
    "scrolled": true
   },
   "outputs": [],
   "source": [
    "df_cctv.tail()"
   ]
  },
  {
   "cell_type": "code",
   "execution_count": 53,
   "id": "nasty-locator",
   "metadata": {},
   "outputs": [],
   "source": [
    "df_light = pd.read_csv('9.5개시도_보안등현황.csv')"
   ]
  },
  {
   "cell_type": "code",
   "execution_count": 54,
   "id": "interracial-table",
   "metadata": {},
   "outputs": [
    {
     "data": {
      "text/html": [
       "<div>\n",
       "<style scoped>\n",
       "    .dataframe tbody tr th:only-of-type {\n",
       "        vertical-align: middle;\n",
       "    }\n",
       "\n",
       "    .dataframe tbody tr th {\n",
       "        vertical-align: top;\n",
       "    }\n",
       "\n",
       "    .dataframe thead th {\n",
       "        text-align: right;\n",
       "    }\n",
       "</style>\n",
       "<table border=\"1\" class=\"dataframe\">\n",
       "  <thead>\n",
       "    <tr style=\"text-align: right;\">\n",
       "      <th></th>\n",
       "      <th>year</th>\n",
       "      <th>address</th>\n",
       "      <th>\\nsecuritylight_cnt</th>\n",
       "      <th>lon</th>\n",
       "      <th>lat</th>\n",
       "    </tr>\n",
       "  </thead>\n",
       "  <tbody>\n",
       "    <tr>\n",
       "      <th>0</th>\n",
       "      <td>NaN</td>\n",
       "      <td>세종특별자치시 금남면 감성리 64-2</td>\n",
       "      <td>1</td>\n",
       "      <td>127.287690</td>\n",
       "      <td>36.443467</td>\n",
       "    </tr>\n",
       "    <tr>\n",
       "      <th>1</th>\n",
       "      <td>NaN</td>\n",
       "      <td>세종특별자치시 금남면 감성리 267</td>\n",
       "      <td>1</td>\n",
       "      <td>127.288812</td>\n",
       "      <td>36.444181</td>\n",
       "    </tr>\n",
       "    <tr>\n",
       "      <th>2</th>\n",
       "      <td>NaN</td>\n",
       "      <td>세종특별자치시 금남면 감성리 40-1</td>\n",
       "      <td>1</td>\n",
       "      <td>127.289575</td>\n",
       "      <td>36.444711</td>\n",
       "    </tr>\n",
       "    <tr>\n",
       "      <th>3</th>\n",
       "      <td>NaN</td>\n",
       "      <td>세종특별자치시 금남면 감성리 26</td>\n",
       "      <td>1</td>\n",
       "      <td>127.290071</td>\n",
       "      <td>36.444455</td>\n",
       "    </tr>\n",
       "    <tr>\n",
       "      <th>4</th>\n",
       "      <td>NaN</td>\n",
       "      <td>세종특별자치시 금남면 감성리 267</td>\n",
       "      <td>1</td>\n",
       "      <td>127.290002</td>\n",
       "      <td>36.444188</td>\n",
       "    </tr>\n",
       "    <tr>\n",
       "      <th>...</th>\n",
       "      <td>...</td>\n",
       "      <td>...</td>\n",
       "      <td>...</td>\n",
       "      <td>...</td>\n",
       "      <td>...</td>\n",
       "    </tr>\n",
       "    <tr>\n",
       "      <th>229400</th>\n",
       "      <td>NaN</td>\n",
       "      <td>서울특별시 중랑구 상봉동 19-2</td>\n",
       "      <td>1</td>\n",
       "      <td>127.092434</td>\n",
       "      <td>37.602786</td>\n",
       "    </tr>\n",
       "    <tr>\n",
       "      <th>229401</th>\n",
       "      <td>NaN</td>\n",
       "      <td>서울특별시 중랑구 상봉동 19-44</td>\n",
       "      <td>1</td>\n",
       "      <td>127.092721</td>\n",
       "      <td>37.602497</td>\n",
       "    </tr>\n",
       "    <tr>\n",
       "      <th>229402</th>\n",
       "      <td>NaN</td>\n",
       "      <td>서울특별시 중랑구 상봉동 19-25</td>\n",
       "      <td>1</td>\n",
       "      <td>127.092258</td>\n",
       "      <td>37.602374</td>\n",
       "    </tr>\n",
       "    <tr>\n",
       "      <th>229403</th>\n",
       "      <td>NaN</td>\n",
       "      <td>서울특별시 중랑구 상봉동 495-4</td>\n",
       "      <td>1</td>\n",
       "      <td>127.094617</td>\n",
       "      <td>37.602357</td>\n",
       "    </tr>\n",
       "    <tr>\n",
       "      <th>229404</th>\n",
       "      <td>NaN</td>\n",
       "      <td>서울특별시 중랑구 묵동 3-5</td>\n",
       "      <td>1</td>\n",
       "      <td>127.083960</td>\n",
       "      <td>37.618769</td>\n",
       "    </tr>\n",
       "  </tbody>\n",
       "</table>\n",
       "<p>229405 rows × 5 columns</p>\n",
       "</div>"
      ],
      "text/plain": [
       "        year               address  \\nsecuritylight_cnt         lon        lat\n",
       "0        NaN  세종특별자치시 금남면 감성리 64-2                    1  127.287690  36.443467\n",
       "1        NaN   세종특별자치시 금남면 감성리 267                    1  127.288812  36.444181\n",
       "2        NaN  세종특별자치시 금남면 감성리 40-1                    1  127.289575  36.444711\n",
       "3        NaN    세종특별자치시 금남면 감성리 26                    1  127.290071  36.444455\n",
       "4        NaN   세종특별자치시 금남면 감성리 267                    1  127.290002  36.444188\n",
       "...      ...                   ...                  ...         ...        ...\n",
       "229400   NaN    서울특별시 중랑구 상봉동 19-2                    1  127.092434  37.602786\n",
       "229401   NaN   서울특별시 중랑구 상봉동 19-44                    1  127.092721  37.602497\n",
       "229402   NaN   서울특별시 중랑구 상봉동 19-25                    1  127.092258  37.602374\n",
       "229403   NaN   서울특별시 중랑구 상봉동 495-4                    1  127.094617  37.602357\n",
       "229404   NaN      서울특별시 중랑구 묵동 3-5                    1  127.083960  37.618769\n",
       "\n",
       "[229405 rows x 5 columns]"
      ]
     },
     "execution_count": 54,
     "metadata": {},
     "output_type": "execute_result"
    }
   ],
   "source": [
    "df_light"
   ]
  },
  {
   "cell_type": "code",
   "execution_count": 55,
   "id": "actual-nigeria",
   "metadata": {},
   "outputs": [],
   "source": [
    "df_light[\"관할서\"] = \"모름\""
   ]
  },
  {
   "cell_type": "code",
   "execution_count": 56,
   "id": "executed-conclusion",
   "metadata": {},
   "outputs": [],
   "source": [
    "# 위도경도 데이터 zip\n",
    "location = list(zip(df_light[\"lon\"], df_light[\"lat\"]))"
   ]
  },
  {
   "cell_type": "code",
   "execution_count": 57,
   "id": "technological-passport",
   "metadata": {},
   "outputs": [],
   "source": [
    "# 위도경도 데이터 Point로 만들어주기\n",
    "st_list = []\n",
    "for i in location:\n",
    "    test_code = Point(i)\n",
    "    st_list.append(test_code)"
   ]
  },
  {
   "cell_type": "code",
   "execution_count": 58,
   "id": "amateur-liquid",
   "metadata": {},
   "outputs": [
    {
     "name": "stderr",
     "output_type": "stream",
     "text": [
      "  0%|          | 0/41 [03:32<?, ?it/s]\n"
     ]
    },
    {
     "ename": "KeyboardInterrupt",
     "evalue": "",
     "output_type": "error",
     "traceback": [
      "\u001b[0;31m---------------------------------------------------------------------------\u001b[0m",
      "\u001b[0;31mKeyboardInterrupt\u001b[0m                         Traceback (most recent call last)",
      "\u001b[0;32m<ipython-input-58-0da6d74c24cc>\u001b[0m in \u001b[0;36m<module>\u001b[0;34m\u001b[0m\n\u001b[1;32m      1\u001b[0m \u001b[0;32mfor\u001b[0m \u001b[0mz\u001b[0m \u001b[0;32min\u001b[0m \u001b[0mtqdm\u001b[0m\u001b[0;34m(\u001b[0m\u001b[0mrange\u001b[0m\u001b[0;34m(\u001b[0m\u001b[0;36m41\u001b[0m\u001b[0;34m)\u001b[0m\u001b[0;34m)\u001b[0m\u001b[0;34m:\u001b[0m\u001b[0;34m\u001b[0m\u001b[0;34m\u001b[0m\u001b[0m\n\u001b[1;32m      2\u001b[0m     \u001b[0;32mfor\u001b[0m \u001b[0mi\u001b[0m \u001b[0;32min\u001b[0m \u001b[0mrange\u001b[0m\u001b[0;34m(\u001b[0m\u001b[0mlen\u001b[0m\u001b[0;34m(\u001b[0m\u001b[0mdf_light\u001b[0m\u001b[0;34m)\u001b[0m\u001b[0;34m)\u001b[0m\u001b[0;34m:\u001b[0m\u001b[0;34m\u001b[0m\u001b[0;34m\u001b[0m\u001b[0m\n\u001b[0;32m----> 3\u001b[0;31m         \u001b[0;32mif\u001b[0m \u001b[0mst_list\u001b[0m\u001b[0;34m[\u001b[0m\u001b[0mi\u001b[0m\u001b[0;34m]\u001b[0m\u001b[0;34m.\u001b[0m\u001b[0mwithin\u001b[0m\u001b[0;34m(\u001b[0m\u001b[0mdf_js_list\u001b[0m\u001b[0;34m[\u001b[0m\u001b[0mz\u001b[0m\u001b[0;34m]\u001b[0m\u001b[0;34m)\u001b[0m\u001b[0;34m:\u001b[0m\u001b[0;34m\u001b[0m\u001b[0;34m\u001b[0m\u001b[0m\n\u001b[0m\u001b[1;32m      4\u001b[0m             \u001b[0mdf_light\u001b[0m\u001b[0;34m.\u001b[0m\u001b[0miloc\u001b[0m\u001b[0;34m[\u001b[0m\u001b[0mi\u001b[0m\u001b[0;34m,\u001b[0m\u001b[0;34m-\u001b[0m\u001b[0;36m1\u001b[0m\u001b[0;34m]\u001b[0m \u001b[0;34m=\u001b[0m \u001b[0mdf_light\u001b[0m\u001b[0;34m.\u001b[0m\u001b[0miloc\u001b[0m\u001b[0;34m[\u001b[0m\u001b[0mi\u001b[0m\u001b[0;34m,\u001b[0m\u001b[0;34m-\u001b[0m\u001b[0;36m1\u001b[0m\u001b[0;34m]\u001b[0m\u001b[0;34m.\u001b[0m\u001b[0mreplace\u001b[0m\u001b[0;34m(\u001b[0m\u001b[0;34m\"모름\"\u001b[0m\u001b[0;34m,\u001b[0m\u001b[0mdf_js_name\u001b[0m\u001b[0;34m[\u001b[0m\u001b[0mz\u001b[0m\u001b[0;34m]\u001b[0m\u001b[0;34m)\u001b[0m\u001b[0;34m\u001b[0m\u001b[0;34m\u001b[0m\u001b[0m\n\u001b[1;32m      5\u001b[0m \u001b[0;34m\u001b[0m\u001b[0m\n",
      "\u001b[0;32m/opt/app-root/lib/python3.6/site-packages/geopandas/geoseries.py\u001b[0m in \u001b[0;36m__getitem__\u001b[0;34m(self, key)\u001b[0m\n\u001b[1;32m    556\u001b[0m \u001b[0;34m\u001b[0m\u001b[0m\n\u001b[1;32m    557\u001b[0m     \u001b[0;32mdef\u001b[0m \u001b[0m__getitem__\u001b[0m\u001b[0;34m(\u001b[0m\u001b[0mself\u001b[0m\u001b[0;34m,\u001b[0m \u001b[0mkey\u001b[0m\u001b[0;34m)\u001b[0m\u001b[0;34m:\u001b[0m\u001b[0;34m\u001b[0m\u001b[0;34m\u001b[0m\u001b[0m\n\u001b[0;32m--> 558\u001b[0;31m         \u001b[0;32mreturn\u001b[0m \u001b[0mself\u001b[0m\u001b[0;34m.\u001b[0m\u001b[0m_wrapped_pandas_method\u001b[0m\u001b[0;34m(\u001b[0m\u001b[0;34m\"__getitem__\"\u001b[0m\u001b[0;34m,\u001b[0m \u001b[0mkey\u001b[0m\u001b[0;34m)\u001b[0m\u001b[0;34m\u001b[0m\u001b[0;34m\u001b[0m\u001b[0m\n\u001b[0m\u001b[1;32m    559\u001b[0m \u001b[0;34m\u001b[0m\u001b[0m\n\u001b[1;32m    560\u001b[0m     \u001b[0;34m@\u001b[0m\u001b[0minherit_doc\u001b[0m\u001b[0;34m(\u001b[0m\u001b[0mpd\u001b[0m\u001b[0;34m.\u001b[0m\u001b[0mSeries\u001b[0m\u001b[0;34m)\u001b[0m\u001b[0;34m\u001b[0m\u001b[0;34m\u001b[0m\u001b[0m\n",
      "\u001b[0;32m/opt/app-root/lib/python3.6/site-packages/geopandas/geoseries.py\u001b[0m in \u001b[0;36m_wrapped_pandas_method\u001b[0;34m(self, mtd, *args, **kwargs)\u001b[0m\n\u001b[1;32m    549\u001b[0m     \u001b[0;32mdef\u001b[0m \u001b[0m_wrapped_pandas_method\u001b[0m\u001b[0;34m(\u001b[0m\u001b[0mself\u001b[0m\u001b[0;34m,\u001b[0m \u001b[0mmtd\u001b[0m\u001b[0;34m,\u001b[0m \u001b[0;34m*\u001b[0m\u001b[0margs\u001b[0m\u001b[0;34m,\u001b[0m \u001b[0;34m**\u001b[0m\u001b[0mkwargs\u001b[0m\u001b[0;34m)\u001b[0m\u001b[0;34m:\u001b[0m\u001b[0;34m\u001b[0m\u001b[0;34m\u001b[0m\u001b[0m\n\u001b[1;32m    550\u001b[0m         \u001b[0;34m\"\"\"Wrap a generic pandas method to ensure it returns a GeoSeries\"\"\"\u001b[0m\u001b[0;34m\u001b[0m\u001b[0;34m\u001b[0m\u001b[0m\n\u001b[0;32m--> 551\u001b[0;31m         \u001b[0mval\u001b[0m \u001b[0;34m=\u001b[0m \u001b[0mgetattr\u001b[0m\u001b[0;34m(\u001b[0m\u001b[0msuper\u001b[0m\u001b[0;34m(\u001b[0m\u001b[0mGeoSeries\u001b[0m\u001b[0;34m,\u001b[0m \u001b[0mself\u001b[0m\u001b[0;34m)\u001b[0m\u001b[0;34m,\u001b[0m \u001b[0mmtd\u001b[0m\u001b[0;34m)\u001b[0m\u001b[0;34m(\u001b[0m\u001b[0;34m*\u001b[0m\u001b[0margs\u001b[0m\u001b[0;34m,\u001b[0m \u001b[0;34m**\u001b[0m\u001b[0mkwargs\u001b[0m\u001b[0;34m)\u001b[0m\u001b[0;34m\u001b[0m\u001b[0;34m\u001b[0m\u001b[0m\n\u001b[0m\u001b[1;32m    552\u001b[0m         \u001b[0;32mif\u001b[0m \u001b[0mtype\u001b[0m\u001b[0;34m(\u001b[0m\u001b[0mval\u001b[0m\u001b[0;34m)\u001b[0m \u001b[0;34m==\u001b[0m \u001b[0mSeries\u001b[0m\u001b[0;34m:\u001b[0m\u001b[0;34m\u001b[0m\u001b[0;34m\u001b[0m\u001b[0m\n\u001b[1;32m    553\u001b[0m             \u001b[0mval\u001b[0m\u001b[0;34m.\u001b[0m\u001b[0m__class__\u001b[0m \u001b[0;34m=\u001b[0m \u001b[0mGeoSeries\u001b[0m\u001b[0;34m\u001b[0m\u001b[0;34m\u001b[0m\u001b[0m\n",
      "\u001b[0;32m/opt/app-root/lib/python3.6/site-packages/pandas/core/series.py\u001b[0m in \u001b[0;36m__getitem__\u001b[0;34m(self, key)\u001b[0m\n\u001b[1;32m    880\u001b[0m \u001b[0;34m\u001b[0m\u001b[0m\n\u001b[1;32m    881\u001b[0m         \u001b[0;32melif\u001b[0m \u001b[0mkey_is_scalar\u001b[0m\u001b[0;34m:\u001b[0m\u001b[0;34m\u001b[0m\u001b[0;34m\u001b[0m\u001b[0m\n\u001b[0;32m--> 882\u001b[0;31m             \u001b[0;32mreturn\u001b[0m \u001b[0mself\u001b[0m\u001b[0;34m.\u001b[0m\u001b[0m_get_value\u001b[0m\u001b[0;34m(\u001b[0m\u001b[0mkey\u001b[0m\u001b[0;34m)\u001b[0m\u001b[0;34m\u001b[0m\u001b[0;34m\u001b[0m\u001b[0m\n\u001b[0m\u001b[1;32m    883\u001b[0m \u001b[0;34m\u001b[0m\u001b[0m\n\u001b[1;32m    884\u001b[0m         \u001b[0;32mif\u001b[0m \u001b[0mis_hashable\u001b[0m\u001b[0;34m(\u001b[0m\u001b[0mkey\u001b[0m\u001b[0;34m)\u001b[0m\u001b[0;34m:\u001b[0m\u001b[0;34m\u001b[0m\u001b[0;34m\u001b[0m\u001b[0m\n",
      "\u001b[0;32m/opt/app-root/lib/python3.6/site-packages/pandas/core/series.py\u001b[0m in \u001b[0;36m_get_value\u001b[0;34m(self, label, takeable)\u001b[0m\n\u001b[1;32m    989\u001b[0m         \u001b[0;31m# Similar to Index.get_value, but we do not fall back to positional\u001b[0m\u001b[0;34m\u001b[0m\u001b[0;34m\u001b[0m\u001b[0;34m\u001b[0m\u001b[0m\n\u001b[1;32m    990\u001b[0m         \u001b[0mloc\u001b[0m \u001b[0;34m=\u001b[0m \u001b[0mself\u001b[0m\u001b[0;34m.\u001b[0m\u001b[0mindex\u001b[0m\u001b[0;34m.\u001b[0m\u001b[0mget_loc\u001b[0m\u001b[0;34m(\u001b[0m\u001b[0mlabel\u001b[0m\u001b[0;34m)\u001b[0m\u001b[0;34m\u001b[0m\u001b[0;34m\u001b[0m\u001b[0m\n\u001b[0;32m--> 991\u001b[0;31m         \u001b[0;32mreturn\u001b[0m \u001b[0mself\u001b[0m\u001b[0;34m.\u001b[0m\u001b[0mindex\u001b[0m\u001b[0;34m.\u001b[0m\u001b[0m_get_values_for_loc\u001b[0m\u001b[0;34m(\u001b[0m\u001b[0mself\u001b[0m\u001b[0;34m,\u001b[0m \u001b[0mloc\u001b[0m\u001b[0;34m,\u001b[0m \u001b[0mlabel\u001b[0m\u001b[0;34m)\u001b[0m\u001b[0;34m\u001b[0m\u001b[0;34m\u001b[0m\u001b[0m\n\u001b[0m\u001b[1;32m    992\u001b[0m \u001b[0;34m\u001b[0m\u001b[0m\n\u001b[1;32m    993\u001b[0m     \u001b[0;32mdef\u001b[0m \u001b[0m__setitem__\u001b[0m\u001b[0;34m(\u001b[0m\u001b[0mself\u001b[0m\u001b[0;34m,\u001b[0m \u001b[0mkey\u001b[0m\u001b[0;34m,\u001b[0m \u001b[0mvalue\u001b[0m\u001b[0;34m)\u001b[0m\u001b[0;34m:\u001b[0m\u001b[0;34m\u001b[0m\u001b[0;34m\u001b[0m\u001b[0m\n",
      "\u001b[0;32m/opt/app-root/lib/python3.6/site-packages/pandas/core/indexes/base.py\u001b[0m in \u001b[0;36m_get_values_for_loc\u001b[0;34m(self, series, loc, key)\u001b[0m\n\u001b[1;32m   4634\u001b[0m         \"\"\"\n\u001b[1;32m   4635\u001b[0m         \u001b[0;32mif\u001b[0m \u001b[0mis_integer\u001b[0m\u001b[0;34m(\u001b[0m\u001b[0mloc\u001b[0m\u001b[0;34m)\u001b[0m\u001b[0;34m:\u001b[0m\u001b[0;34m\u001b[0m\u001b[0;34m\u001b[0m\u001b[0m\n\u001b[0;32m-> 4636\u001b[0;31m             \u001b[0;32mreturn\u001b[0m \u001b[0mseries\u001b[0m\u001b[0;34m.\u001b[0m\u001b[0m_values\u001b[0m\u001b[0;34m[\u001b[0m\u001b[0mloc\u001b[0m\u001b[0;34m]\u001b[0m\u001b[0;34m\u001b[0m\u001b[0;34m\u001b[0m\u001b[0m\n\u001b[0m\u001b[1;32m   4637\u001b[0m \u001b[0;34m\u001b[0m\u001b[0m\n\u001b[1;32m   4638\u001b[0m         \u001b[0;32mreturn\u001b[0m \u001b[0mseries\u001b[0m\u001b[0;34m.\u001b[0m\u001b[0miloc\u001b[0m\u001b[0;34m[\u001b[0m\u001b[0mloc\u001b[0m\u001b[0;34m]\u001b[0m\u001b[0;34m\u001b[0m\u001b[0;34m\u001b[0m\u001b[0m\n",
      "\u001b[0;32m/opt/app-root/lib/python3.6/site-packages/geopandas/array.py\u001b[0m in \u001b[0;36m__getitem__\u001b[0;34m(self, idx)\u001b[0m\n\u001b[1;32m    375\u001b[0m     \u001b[0;32mdef\u001b[0m \u001b[0m__getitem__\u001b[0m\u001b[0;34m(\u001b[0m\u001b[0mself\u001b[0m\u001b[0;34m,\u001b[0m \u001b[0midx\u001b[0m\u001b[0;34m)\u001b[0m\u001b[0;34m:\u001b[0m\u001b[0;34m\u001b[0m\u001b[0;34m\u001b[0m\u001b[0m\n\u001b[1;32m    376\u001b[0m         \u001b[0;32mif\u001b[0m \u001b[0misinstance\u001b[0m\u001b[0;34m(\u001b[0m\u001b[0midx\u001b[0m\u001b[0;34m,\u001b[0m \u001b[0mnumbers\u001b[0m\u001b[0;34m.\u001b[0m\u001b[0mIntegral\u001b[0m\u001b[0;34m)\u001b[0m\u001b[0;34m:\u001b[0m\u001b[0;34m\u001b[0m\u001b[0;34m\u001b[0m\u001b[0m\n\u001b[0;32m--> 377\u001b[0;31m             \u001b[0;32mreturn\u001b[0m \u001b[0m_geom_to_shapely\u001b[0m\u001b[0;34m(\u001b[0m\u001b[0mself\u001b[0m\u001b[0;34m.\u001b[0m\u001b[0mdata\u001b[0m\u001b[0;34m[\u001b[0m\u001b[0midx\u001b[0m\u001b[0;34m]\u001b[0m\u001b[0;34m)\u001b[0m\u001b[0;34m\u001b[0m\u001b[0;34m\u001b[0m\u001b[0m\n\u001b[0m\u001b[1;32m    378\u001b[0m         \u001b[0;31m# array-like, slice\u001b[0m\u001b[0;34m\u001b[0m\u001b[0;34m\u001b[0m\u001b[0;34m\u001b[0m\u001b[0m\n\u001b[1;32m    379\u001b[0m         \u001b[0;32mif\u001b[0m \u001b[0mcompat\u001b[0m\u001b[0;34m.\u001b[0m\u001b[0mPANDAS_GE_10\u001b[0m\u001b[0;34m:\u001b[0m\u001b[0;34m\u001b[0m\u001b[0;34m\u001b[0m\u001b[0m\n",
      "\u001b[0;32m/opt/app-root/lib/python3.6/site-packages/geopandas/array.py\u001b[0m in \u001b[0;36m_geom_to_shapely\u001b[0;34m(geom)\u001b[0m\n\u001b[1;32m    130\u001b[0m         \u001b[0;32mreturn\u001b[0m \u001b[0mgeom\u001b[0m\u001b[0;34m\u001b[0m\u001b[0;34m\u001b[0m\u001b[0m\n\u001b[1;32m    131\u001b[0m     \u001b[0;32melse\u001b[0m\u001b[0;34m:\u001b[0m\u001b[0;34m\u001b[0m\u001b[0;34m\u001b[0m\u001b[0m\n\u001b[0;32m--> 132\u001b[0;31m         \u001b[0;32mreturn\u001b[0m \u001b[0mvectorized\u001b[0m\u001b[0;34m.\u001b[0m\u001b[0m_pygeos_to_shapely\u001b[0m\u001b[0;34m(\u001b[0m\u001b[0mgeom\u001b[0m\u001b[0;34m)\u001b[0m\u001b[0;34m\u001b[0m\u001b[0;34m\u001b[0m\u001b[0m\n\u001b[0m\u001b[1;32m    133\u001b[0m \u001b[0;34m\u001b[0m\u001b[0m\n\u001b[1;32m    134\u001b[0m \u001b[0;34m\u001b[0m\u001b[0m\n",
      "\u001b[0;32m/opt/app-root/lib/python3.6/site-packages/geopandas/_vectorized.py\u001b[0m in \u001b[0;36m_pygeos_to_shapely\u001b[0;34m(geom)\u001b[0m\n\u001b[1;32m     73\u001b[0m         \u001b[0;32mreturn\u001b[0m \u001b[0mshapely\u001b[0m\u001b[0;34m.\u001b[0m\u001b[0mwkt\u001b[0m\u001b[0;34m.\u001b[0m\u001b[0mloads\u001b[0m\u001b[0;34m(\u001b[0m\u001b[0;34m\"POINT EMPTY\"\u001b[0m\u001b[0;34m)\u001b[0m\u001b[0;34m\u001b[0m\u001b[0;34m\u001b[0m\u001b[0m\n\u001b[1;32m     74\u001b[0m     \u001b[0;32melse\u001b[0m\u001b[0;34m:\u001b[0m\u001b[0;34m\u001b[0m\u001b[0;34m\u001b[0m\u001b[0m\n\u001b[0;32m---> 75\u001b[0;31m         \u001b[0;32mreturn\u001b[0m \u001b[0mshapely\u001b[0m\u001b[0;34m.\u001b[0m\u001b[0mwkb\u001b[0m\u001b[0;34m.\u001b[0m\u001b[0mloads\u001b[0m\u001b[0;34m(\u001b[0m\u001b[0mpygeos\u001b[0m\u001b[0;34m.\u001b[0m\u001b[0mto_wkb\u001b[0m\u001b[0;34m(\u001b[0m\u001b[0mgeom\u001b[0m\u001b[0;34m)\u001b[0m\u001b[0;34m)\u001b[0m\u001b[0;34m\u001b[0m\u001b[0;34m\u001b[0m\u001b[0m\n\u001b[0m\u001b[1;32m     76\u001b[0m \u001b[0;34m\u001b[0m\u001b[0m\n\u001b[1;32m     77\u001b[0m \u001b[0;34m\u001b[0m\u001b[0m\n",
      "\u001b[0;32m/opt/app-root/lib/python3.6/site-packages/pygeos/io.py\u001b[0m in \u001b[0;36mto_wkb\u001b[0;34m(geometry, hex, output_dimension, byte_order, include_srid, **kwargs)\u001b[0m\n\u001b[1;32m    158\u001b[0m         \u001b[0mnp\u001b[0m\u001b[0;34m.\u001b[0m\u001b[0mintc\u001b[0m\u001b[0;34m(\u001b[0m\u001b[0mbyte_order\u001b[0m\u001b[0;34m)\u001b[0m\u001b[0;34m,\u001b[0m\u001b[0;34m\u001b[0m\u001b[0;34m\u001b[0m\u001b[0m\n\u001b[1;32m    159\u001b[0m         \u001b[0mnp\u001b[0m\u001b[0;34m.\u001b[0m\u001b[0mbool_\u001b[0m\u001b[0;34m(\u001b[0m\u001b[0minclude_srid\u001b[0m\u001b[0;34m)\u001b[0m\u001b[0;34m,\u001b[0m\u001b[0;34m\u001b[0m\u001b[0;34m\u001b[0m\u001b[0m\n\u001b[0;32m--> 160\u001b[0;31m         \u001b[0;34m**\u001b[0m\u001b[0mkwargs\u001b[0m\u001b[0;34m,\u001b[0m\u001b[0;34m\u001b[0m\u001b[0;34m\u001b[0m\u001b[0m\n\u001b[0m\u001b[1;32m    161\u001b[0m     )\n\u001b[1;32m    162\u001b[0m \u001b[0;34m\u001b[0m\u001b[0m\n",
      "\u001b[0;31mKeyboardInterrupt\u001b[0m: "
     ]
    }
   ],
   "source": [
    "for z in tqdm(range(41)):\n",
    "    for i in range(len(df_light)):\n",
    "        if st_list[i].within(df_js_list[z]):\n",
    "            df_light.iloc[i,-1] = df_light.iloc[i,-1].replace(\"모름\",df_js_name[z])\n",
    "            \n",
    "        else:\n",
    "            pass"
   ]
  },
  {
   "cell_type": "code",
   "execution_count": null,
   "id": "digital-house",
   "metadata": {},
   "outputs": [],
   "source": [
    "df_light.head()"
   ]
  },
  {
   "cell_type": "code",
   "execution_count": null,
   "id": "royal-observation",
   "metadata": {},
   "outputs": [],
   "source": [
    "df_light.to_csv('light.csv')"
   ]
  },
  {
   "cell_type": "code",
   "execution_count": 59,
   "id": "mediterranean-record",
   "metadata": {},
   "outputs": [],
   "source": [
    "df_drink = pd.read_csv('21.5개시도_유흥업소_단란주점현황.csv')"
   ]
  },
  {
   "cell_type": "code",
   "execution_count": 60,
   "id": "internal-pharmacy",
   "metadata": {
    "scrolled": false
   },
   "outputs": [
    {
     "data": {
      "text/html": [
       "<div>\n",
       "<style scoped>\n",
       "    .dataframe tbody tr th:only-of-type {\n",
       "        vertical-align: middle;\n",
       "    }\n",
       "\n",
       "    .dataframe tbody tr th {\n",
       "        vertical-align: top;\n",
       "    }\n",
       "\n",
       "    .dataframe thead th {\n",
       "        text-align: right;\n",
       "    }\n",
       "</style>\n",
       "<table border=\"1\" class=\"dataframe\">\n",
       "  <thead>\n",
       "    <tr style=\"text-align: right;\">\n",
       "      <th></th>\n",
       "      <th>license_date</th>\n",
       "      <th>open_gbn</th>\n",
       "      <th>type</th>\n",
       "      <th>surroundings</th>\n",
       "      <th>lon</th>\n",
       "      <th>lat</th>\n",
       "    </tr>\n",
       "  </thead>\n",
       "  <tbody>\n",
       "    <tr>\n",
       "      <th>0</th>\n",
       "      <td>19951012</td>\n",
       "      <td>영업/정상</td>\n",
       "      <td>단란주점</td>\n",
       "      <td>NaN</td>\n",
       "      <td>127.300127</td>\n",
       "      <td>36.601953</td>\n",
       "    </tr>\n",
       "    <tr>\n",
       "      <th>1</th>\n",
       "      <td>20181127</td>\n",
       "      <td>영업/정상</td>\n",
       "      <td>단란주점</td>\n",
       "      <td>NaN</td>\n",
       "      <td>127.301023</td>\n",
       "      <td>36.601199</td>\n",
       "    </tr>\n",
       "    <tr>\n",
       "      <th>2</th>\n",
       "      <td>20021121</td>\n",
       "      <td>영업/정상</td>\n",
       "      <td>단란주점</td>\n",
       "      <td>유흥업소밀집지역</td>\n",
       "      <td>127.300940</td>\n",
       "      <td>36.601856</td>\n",
       "    </tr>\n",
       "    <tr>\n",
       "      <th>3</th>\n",
       "      <td>20020409</td>\n",
       "      <td>영업/정상</td>\n",
       "      <td>단란주점</td>\n",
       "      <td>유흥업소밀집지역</td>\n",
       "      <td>127.299671</td>\n",
       "      <td>36.602782</td>\n",
       "    </tr>\n",
       "    <tr>\n",
       "      <th>4</th>\n",
       "      <td>19990804</td>\n",
       "      <td>영업/정상</td>\n",
       "      <td>단란주점</td>\n",
       "      <td>학교정화(상대)</td>\n",
       "      <td>127.205025</td>\n",
       "      <td>36.678746</td>\n",
       "    </tr>\n",
       "    <tr>\n",
       "      <th>...</th>\n",
       "      <td>...</td>\n",
       "      <td>...</td>\n",
       "      <td>...</td>\n",
       "      <td>...</td>\n",
       "      <td>...</td>\n",
       "      <td>...</td>\n",
       "    </tr>\n",
       "    <tr>\n",
       "      <th>7114</th>\n",
       "      <td>20001116</td>\n",
       "      <td>영업/정상</td>\n",
       "      <td>룸살롱</td>\n",
       "      <td>유흥업소밀집지역</td>\n",
       "      <td>126.930536</td>\n",
       "      <td>37.610393</td>\n",
       "    </tr>\n",
       "    <tr>\n",
       "      <th>7115</th>\n",
       "      <td>20010307</td>\n",
       "      <td>영업/정상</td>\n",
       "      <td>룸살롱</td>\n",
       "      <td>유흥업소밀집지역</td>\n",
       "      <td>126.930733</td>\n",
       "      <td>37.610163</td>\n",
       "    </tr>\n",
       "    <tr>\n",
       "      <th>7116</th>\n",
       "      <td>20170630</td>\n",
       "      <td>영업/정상</td>\n",
       "      <td>룸살롱</td>\n",
       "      <td>유흥업소밀집지역</td>\n",
       "      <td>126.929299</td>\n",
       "      <td>37.610537</td>\n",
       "    </tr>\n",
       "    <tr>\n",
       "      <th>7117</th>\n",
       "      <td>20171228</td>\n",
       "      <td>영업/정상</td>\n",
       "      <td>룸살롱</td>\n",
       "      <td>유흥업소밀집지역</td>\n",
       "      <td>126.919550</td>\n",
       "      <td>37.620091</td>\n",
       "    </tr>\n",
       "    <tr>\n",
       "      <th>7118</th>\n",
       "      <td>20180119</td>\n",
       "      <td>영업/정상</td>\n",
       "      <td>룸살롱</td>\n",
       "      <td>유흥업소밀집지역</td>\n",
       "      <td>126.920276</td>\n",
       "      <td>37.619502</td>\n",
       "    </tr>\n",
       "  </tbody>\n",
       "</table>\n",
       "<p>7119 rows × 6 columns</p>\n",
       "</div>"
      ],
      "text/plain": [
       "      license_date open_gbn  type surroundings         lon        lat\n",
       "0         19951012    영업/정상  단란주점          NaN  127.300127  36.601953\n",
       "1         20181127    영업/정상  단란주점          NaN  127.301023  36.601199\n",
       "2         20021121    영업/정상  단란주점     유흥업소밀집지역  127.300940  36.601856\n",
       "3         20020409    영업/정상  단란주점     유흥업소밀집지역  127.299671  36.602782\n",
       "4         19990804    영업/정상  단란주점     학교정화(상대)  127.205025  36.678746\n",
       "...            ...      ...   ...          ...         ...        ...\n",
       "7114      20001116    영업/정상   룸살롱     유흥업소밀집지역  126.930536  37.610393\n",
       "7115      20010307    영업/정상   룸살롱     유흥업소밀집지역  126.930733  37.610163\n",
       "7116      20170630    영업/정상   룸살롱     유흥업소밀집지역  126.929299  37.610537\n",
       "7117      20171228    영업/정상   룸살롱     유흥업소밀집지역  126.919550  37.620091\n",
       "7118      20180119    영업/정상   룸살롱     유흥업소밀집지역  126.920276  37.619502\n",
       "\n",
       "[7119 rows x 6 columns]"
      ]
     },
     "execution_count": 60,
     "metadata": {},
     "output_type": "execute_result"
    }
   ],
   "source": [
    "df_drink"
   ]
  },
  {
   "cell_type": "code",
   "execution_count": 61,
   "id": "express-prerequisite",
   "metadata": {},
   "outputs": [],
   "source": [
    "df_drink[\"관할서\"] = \"모름\""
   ]
  },
  {
   "cell_type": "code",
   "execution_count": 62,
   "id": "apparent-vietnamese",
   "metadata": {},
   "outputs": [],
   "source": [
    "# 위도경도 데이터 zip\n",
    "location = list(zip(df_drink[\"lon\"], df_drink[\"lat\"]))"
   ]
  },
  {
   "cell_type": "code",
   "execution_count": 63,
   "id": "featured-share",
   "metadata": {},
   "outputs": [],
   "source": [
    "# 위도경도 데이터 Point로 만들어주기\n",
    "st_list = []\n",
    "for i in location:\n",
    "    test_code = Point(i)\n",
    "    st_list.append(test_code)"
   ]
  },
  {
   "cell_type": "code",
   "execution_count": 64,
   "id": "romance-hollow",
   "metadata": {},
   "outputs": [
    {
     "name": "stderr",
     "output_type": "stream",
     "text": [
      "100%|██████████| 41/41 [01:58<00:00,  2.90s/it]\n"
     ]
    }
   ],
   "source": [
    "for z in tqdm(range(41)):\n",
    "    for i in range(len(df_drink)):\n",
    "        if st_list[i].within(df_js_list[z]):\n",
    "            df_drink.iloc[i,-1] = df_drink.iloc[i,-1].replace(\"모름\",df_js_name[z])\n",
    "            \n",
    "        else:\n",
    "            pass"
   ]
  },
  {
   "cell_type": "code",
   "execution_count": 65,
   "id": "characteristic-partition",
   "metadata": {},
   "outputs": [
    {
     "data": {
      "text/html": [
       "<div>\n",
       "<style scoped>\n",
       "    .dataframe tbody tr th:only-of-type {\n",
       "        vertical-align: middle;\n",
       "    }\n",
       "\n",
       "    .dataframe tbody tr th {\n",
       "        vertical-align: top;\n",
       "    }\n",
       "\n",
       "    .dataframe thead th {\n",
       "        text-align: right;\n",
       "    }\n",
       "</style>\n",
       "<table border=\"1\" class=\"dataframe\">\n",
       "  <thead>\n",
       "    <tr style=\"text-align: right;\">\n",
       "      <th></th>\n",
       "      <th>license_date</th>\n",
       "      <th>open_gbn</th>\n",
       "      <th>type</th>\n",
       "      <th>surroundings</th>\n",
       "      <th>lon</th>\n",
       "      <th>lat</th>\n",
       "      <th>관할서</th>\n",
       "    </tr>\n",
       "  </thead>\n",
       "  <tbody>\n",
       "    <tr>\n",
       "      <th>0</th>\n",
       "      <td>19951012</td>\n",
       "      <td>영업/정상</td>\n",
       "      <td>단란주점</td>\n",
       "      <td>NaN</td>\n",
       "      <td>127.300127</td>\n",
       "      <td>36.601953</td>\n",
       "      <td>세종경찰서</td>\n",
       "    </tr>\n",
       "    <tr>\n",
       "      <th>1</th>\n",
       "      <td>20181127</td>\n",
       "      <td>영업/정상</td>\n",
       "      <td>단란주점</td>\n",
       "      <td>NaN</td>\n",
       "      <td>127.301023</td>\n",
       "      <td>36.601199</td>\n",
       "      <td>세종경찰서</td>\n",
       "    </tr>\n",
       "    <tr>\n",
       "      <th>2</th>\n",
       "      <td>20021121</td>\n",
       "      <td>영업/정상</td>\n",
       "      <td>단란주점</td>\n",
       "      <td>유흥업소밀집지역</td>\n",
       "      <td>127.300940</td>\n",
       "      <td>36.601856</td>\n",
       "      <td>세종경찰서</td>\n",
       "    </tr>\n",
       "    <tr>\n",
       "      <th>3</th>\n",
       "      <td>20020409</td>\n",
       "      <td>영업/정상</td>\n",
       "      <td>단란주점</td>\n",
       "      <td>유흥업소밀집지역</td>\n",
       "      <td>127.299671</td>\n",
       "      <td>36.602782</td>\n",
       "      <td>세종경찰서</td>\n",
       "    </tr>\n",
       "    <tr>\n",
       "      <th>4</th>\n",
       "      <td>19990804</td>\n",
       "      <td>영업/정상</td>\n",
       "      <td>단란주점</td>\n",
       "      <td>학교정화(상대)</td>\n",
       "      <td>127.205025</td>\n",
       "      <td>36.678746</td>\n",
       "      <td>세종경찰서</td>\n",
       "    </tr>\n",
       "  </tbody>\n",
       "</table>\n",
       "</div>"
      ],
      "text/plain": [
       "   license_date open_gbn  type surroundings         lon        lat    관할서\n",
       "0      19951012    영업/정상  단란주점          NaN  127.300127  36.601953  세종경찰서\n",
       "1      20181127    영업/정상  단란주점          NaN  127.301023  36.601199  세종경찰서\n",
       "2      20021121    영업/정상  단란주점     유흥업소밀집지역  127.300940  36.601856  세종경찰서\n",
       "3      20020409    영업/정상  단란주점     유흥업소밀집지역  127.299671  36.602782  세종경찰서\n",
       "4      19990804    영업/정상  단란주점     학교정화(상대)  127.205025  36.678746  세종경찰서"
      ]
     },
     "execution_count": 65,
     "metadata": {},
     "output_type": "execute_result"
    }
   ],
   "source": [
    "df_drink.head()"
   ]
  },
  {
   "cell_type": "code",
   "execution_count": 66,
   "id": "minus-assistant",
   "metadata": {},
   "outputs": [],
   "source": [
    "df_acc = pd.read_csv('11.5개시도_교통사고현황.csv')"
   ]
  },
  {
   "cell_type": "code",
   "execution_count": 67,
   "id": "fourth-reservation",
   "metadata": {
    "scrolled": true
   },
   "outputs": [
    {
     "data": {
      "text/html": [
       "<div>\n",
       "<style scoped>\n",
       "    .dataframe tbody tr th:only-of-type {\n",
       "        vertical-align: middle;\n",
       "    }\n",
       "\n",
       "    .dataframe tbody tr th {\n",
       "        vertical-align: top;\n",
       "    }\n",
       "\n",
       "    .dataframe thead th {\n",
       "        text-align: right;\n",
       "    }\n",
       "</style>\n",
       "<table border=\"1\" class=\"dataframe\">\n",
       "  <thead>\n",
       "    <tr style=\"text-align: right;\">\n",
       "      <th></th>\n",
       "      <th>date</th>\n",
       "      <th>acc_case</th>\n",
       "      <th>ofn_sx</th>\n",
       "      <th>ofn_age</th>\n",
       "      <th>vic_sx</th>\n",
       "      <th>vic_age</th>\n",
       "      <th>jur_stn</th>\n",
       "    </tr>\n",
       "  </thead>\n",
       "  <tbody>\n",
       "    <tr>\n",
       "      <th>0</th>\n",
       "      <td>2018년 1월</td>\n",
       "      <td>차대차 - 측면충돌</td>\n",
       "      <td>남</td>\n",
       "      <td>20대</td>\n",
       "      <td>남</td>\n",
       "      <td>50대</td>\n",
       "      <td>서울중부</td>\n",
       "    </tr>\n",
       "    <tr>\n",
       "      <th>1</th>\n",
       "      <td>2018년 1월</td>\n",
       "      <td>차대차 - 측면충돌</td>\n",
       "      <td>여</td>\n",
       "      <td>50대</td>\n",
       "      <td>남</td>\n",
       "      <td>70대</td>\n",
       "      <td>서울중부</td>\n",
       "    </tr>\n",
       "    <tr>\n",
       "      <th>2</th>\n",
       "      <td>2018년 1월</td>\n",
       "      <td>차대차 - 측면충돌</td>\n",
       "      <td>남</td>\n",
       "      <td>40대</td>\n",
       "      <td>남</td>\n",
       "      <td>50대</td>\n",
       "      <td>서울중부</td>\n",
       "    </tr>\n",
       "    <tr>\n",
       "      <th>3</th>\n",
       "      <td>2018년 1월</td>\n",
       "      <td>차대차 - 기타</td>\n",
       "      <td>기타불명</td>\n",
       "      <td>미분류</td>\n",
       "      <td>여</td>\n",
       "      <td>40대</td>\n",
       "      <td>서울중부</td>\n",
       "    </tr>\n",
       "    <tr>\n",
       "      <th>4</th>\n",
       "      <td>2018년 1월</td>\n",
       "      <td>차대차 - 기타</td>\n",
       "      <td>남</td>\n",
       "      <td>60대</td>\n",
       "      <td>남</td>\n",
       "      <td>50대</td>\n",
       "      <td>서울중부</td>\n",
       "    </tr>\n",
       "    <tr>\n",
       "      <th>...</th>\n",
       "      <td>...</td>\n",
       "      <td>...</td>\n",
       "      <td>...</td>\n",
       "      <td>...</td>\n",
       "      <td>...</td>\n",
       "      <td>...</td>\n",
       "      <td>...</td>\n",
       "    </tr>\n",
       "    <tr>\n",
       "      <th>140949</th>\n",
       "      <td>2019년 8월</td>\n",
       "      <td>차대사람 - 횡단중</td>\n",
       "      <td>남</td>\n",
       "      <td>40대</td>\n",
       "      <td>여</td>\n",
       "      <td>90대 이상</td>\n",
       "      <td>마산중부</td>\n",
       "    </tr>\n",
       "    <tr>\n",
       "      <th>140950</th>\n",
       "      <td>2020년 12월</td>\n",
       "      <td>차대사람 - 차도통행중</td>\n",
       "      <td>여</td>\n",
       "      <td>40대</td>\n",
       "      <td>여</td>\n",
       "      <td>90대 이상</td>\n",
       "      <td>창원중부</td>\n",
       "    </tr>\n",
       "    <tr>\n",
       "      <th>140951</th>\n",
       "      <td>2019년 4월</td>\n",
       "      <td>차대사람 - 횡단중</td>\n",
       "      <td>남</td>\n",
       "      <td>60대</td>\n",
       "      <td>남</td>\n",
       "      <td>90대 이상</td>\n",
       "      <td>진해경찰서</td>\n",
       "    </tr>\n",
       "    <tr>\n",
       "      <th>140952</th>\n",
       "      <td>2019년 5월</td>\n",
       "      <td>차대사람 - 차도통행중</td>\n",
       "      <td>남</td>\n",
       "      <td>20대</td>\n",
       "      <td>남</td>\n",
       "      <td>90대 이상</td>\n",
       "      <td>진해경찰서</td>\n",
       "    </tr>\n",
       "    <tr>\n",
       "      <th>140953</th>\n",
       "      <td>2020년 9월</td>\n",
       "      <td>차대차 - 기타</td>\n",
       "      <td>여</td>\n",
       "      <td>40대</td>\n",
       "      <td>남</td>\n",
       "      <td>90대 이상</td>\n",
       "      <td>진해경찰서</td>\n",
       "    </tr>\n",
       "  </tbody>\n",
       "</table>\n",
       "<p>140954 rows × 7 columns</p>\n",
       "</div>"
      ],
      "text/plain": [
       "             date      acc_case ofn_sx ofn_age vic_sx vic_age jur_stn\n",
       "0        2018년 1월    차대차 - 측면충돌      남     20대      남     50대    서울중부\n",
       "1        2018년 1월    차대차 - 측면충돌      여     50대      남     70대    서울중부\n",
       "2        2018년 1월    차대차 - 측면충돌      남     40대      남     50대    서울중부\n",
       "3        2018년 1월      차대차 - 기타   기타불명     미분류      여     40대    서울중부\n",
       "4        2018년 1월      차대차 - 기타      남     60대      남     50대    서울중부\n",
       "...           ...           ...    ...     ...    ...     ...     ...\n",
       "140949   2019년 8월    차대사람 - 횡단중      남     40대      여  90대 이상    마산중부\n",
       "140950  2020년 12월  차대사람 - 차도통행중      여     40대      여  90대 이상    창원중부\n",
       "140951   2019년 4월    차대사람 - 횡단중      남     60대      남  90대 이상   진해경찰서\n",
       "140952   2019년 5월  차대사람 - 차도통행중      남     20대      남  90대 이상   진해경찰서\n",
       "140953   2020년 9월      차대차 - 기타      여     40대      남  90대 이상   진해경찰서\n",
       "\n",
       "[140954 rows x 7 columns]"
      ]
     },
     "execution_count": 67,
     "metadata": {},
     "output_type": "execute_result"
    }
   ],
   "source": [
    "df_acc"
   ]
  },
  {
   "cell_type": "markdown",
   "id": "peaceful-stanley",
   "metadata": {},
   "source": [
    "## 데이터 프레임 병합"
   ]
  },
  {
   "cell_type": "code",
   "execution_count": 68,
   "id": "functioning-baptist",
   "metadata": {},
   "outputs": [],
   "source": [
    "df_light = pd.read_csv('light.csv')"
   ]
  },
  {
   "cell_type": "code",
   "execution_count": 69,
   "id": "french-double",
   "metadata": {},
   "outputs": [],
   "source": [
    "aa = len(df_light[df_light['관할서'] == '서울중부경찰서'])\n",
    "bb = len(df_light[df_light['관할서'] == '서울종로경찰서'])\n",
    "cc = len(df_light[df_light['관할서'] == '서울남대문경찰서'])\n",
    "dd = len(df_light[df_light['관할서'] == '서울서대문경찰서'])\n",
    "ee = len(df_light[df_light['관할서'] == '서울혜화경찰서'])\n",
    "ff = len(df_light[df_light['관할서'] == '서울용산경찰서'])\n",
    "gg = len(df_light[df_light['관할서'] == '서울성북경찰서'])\n",
    "hh = len(df_light[df_light['관할서'] == '서울동대문경찰서'])"
   ]
  },
  {
   "cell_type": "code",
   "execution_count": 70,
   "id": "sudden-respondent",
   "metadata": {},
   "outputs": [
    {
     "data": {
      "text/plain": [
       "1"
      ]
     },
     "execution_count": 70,
     "metadata": {},
     "output_type": "execute_result"
    }
   ],
   "source": [
    "hh"
   ]
  },
  {
   "cell_type": "code",
   "execution_count": 71,
   "id": "exact-excellence",
   "metadata": {},
   "outputs": [],
   "source": [
    "df = pd.DataFrame(data = {'보안등' : [aa, bb, cc, dd, ee, ff, gg, hh]}, index = ['서울중부경찰서', '서울종로경찰서', '서울남대문경찰서', '서울서대문경찰서',\n",
    "                                                                   '서울혜화경찰서', '서울용산경찰서', '서울성북경찰서','서울동대문경찰서'])"
   ]
  },
  {
   "cell_type": "code",
   "execution_count": 72,
   "id": "funny-insert",
   "metadata": {
    "scrolled": true
   },
   "outputs": [
    {
     "data": {
      "text/html": [
       "<div>\n",
       "<style scoped>\n",
       "    .dataframe tbody tr th:only-of-type {\n",
       "        vertical-align: middle;\n",
       "    }\n",
       "\n",
       "    .dataframe tbody tr th {\n",
       "        vertical-align: top;\n",
       "    }\n",
       "\n",
       "    .dataframe thead th {\n",
       "        text-align: right;\n",
       "    }\n",
       "</style>\n",
       "<table border=\"1\" class=\"dataframe\">\n",
       "  <thead>\n",
       "    <tr style=\"text-align: right;\">\n",
       "      <th></th>\n",
       "      <th>보안등</th>\n",
       "    </tr>\n",
       "  </thead>\n",
       "  <tbody>\n",
       "    <tr>\n",
       "      <th>서울중부경찰서</th>\n",
       "      <td>4818</td>\n",
       "    </tr>\n",
       "    <tr>\n",
       "      <th>서울종로경찰서</th>\n",
       "      <td>5259</td>\n",
       "    </tr>\n",
       "    <tr>\n",
       "      <th>서울남대문경찰서</th>\n",
       "      <td>1078</td>\n",
       "    </tr>\n",
       "    <tr>\n",
       "      <th>서울서대문경찰서</th>\n",
       "      <td>6938</td>\n",
       "    </tr>\n",
       "    <tr>\n",
       "      <th>서울혜화경찰서</th>\n",
       "      <td>4256</td>\n",
       "    </tr>\n",
       "    <tr>\n",
       "      <th>서울용산경찰서</th>\n",
       "      <td>9980</td>\n",
       "    </tr>\n",
       "    <tr>\n",
       "      <th>서울성북경찰서</th>\n",
       "      <td>7047</td>\n",
       "    </tr>\n",
       "    <tr>\n",
       "      <th>서울동대문경찰서</th>\n",
       "      <td>1</td>\n",
       "    </tr>\n",
       "  </tbody>\n",
       "</table>\n",
       "</div>"
      ],
      "text/plain": [
       "           보안등\n",
       "서울중부경찰서   4818\n",
       "서울종로경찰서   5259\n",
       "서울남대문경찰서  1078\n",
       "서울서대문경찰서  6938\n",
       "서울혜화경찰서   4256\n",
       "서울용산경찰서   9980\n",
       "서울성북경찰서   7047\n",
       "서울동대문경찰서     1"
      ]
     },
     "execution_count": 72,
     "metadata": {},
     "output_type": "execute_result"
    }
   ],
   "source": [
    "df"
   ]
  },
  {
   "cell_type": "code",
   "execution_count": 73,
   "id": "comparable-gamma",
   "metadata": {},
   "outputs": [],
   "source": [
    "df_dict = {}\n",
    "df_list = ['서울중부경찰서', '서울종로경찰서', '서울남대문경찰서', '서울서대문경찰서', '서울혜화경찰서', '서울용산경찰서', '서울성북경찰서','서울동대문경찰서']\n",
    "for i in df_list:\n",
    "    df_dict[i] = len(df_park[df_park['관할서'] == i])\n",
    "    "
   ]
  },
  {
   "cell_type": "code",
   "execution_count": 74,
   "id": "virtual-timing",
   "metadata": {},
   "outputs": [
    {
     "data": {
      "text/plain": [
       "{'서울중부경찰서': 14,\n",
       " '서울종로경찰서': 29,\n",
       " '서울남대문경찰서': 16,\n",
       " '서울서대문경찰서': 58,\n",
       " '서울혜화경찰서': 13,\n",
       " '서울용산경찰서': 45,\n",
       " '서울성북경찰서': 29,\n",
       " '서울동대문경찰서': 14}"
      ]
     },
     "execution_count": 74,
     "metadata": {},
     "output_type": "execute_result"
    }
   ],
   "source": [
    "df_dict"
   ]
  },
  {
   "cell_type": "code",
   "execution_count": 75,
   "id": "governing-figure",
   "metadata": {},
   "outputs": [],
   "source": [
    "park = pd.Series(df_dict)\n",
    "park.name = '공원 수'"
   ]
  },
  {
   "cell_type": "code",
   "execution_count": 76,
   "id": "acceptable-dining",
   "metadata": {},
   "outputs": [
    {
     "data": {
      "text/plain": [
       "서울중부경찰서     14\n",
       "서울종로경찰서     29\n",
       "서울남대문경찰서    16\n",
       "서울서대문경찰서    58\n",
       "서울혜화경찰서     13\n",
       "서울용산경찰서     45\n",
       "서울성북경찰서     29\n",
       "서울동대문경찰서    14\n",
       "Name: 공원 수, dtype: int64"
      ]
     },
     "execution_count": 76,
     "metadata": {},
     "output_type": "execute_result"
    }
   ],
   "source": [
    "park"
   ]
  },
  {
   "cell_type": "code",
   "execution_count": 77,
   "id": "varied-gospel",
   "metadata": {},
   "outputs": [
    {
     "data": {
      "text/html": [
       "<div>\n",
       "<style scoped>\n",
       "    .dataframe tbody tr th:only-of-type {\n",
       "        vertical-align: middle;\n",
       "    }\n",
       "\n",
       "    .dataframe tbody tr th {\n",
       "        vertical-align: top;\n",
       "    }\n",
       "\n",
       "    .dataframe thead th {\n",
       "        text-align: right;\n",
       "    }\n",
       "</style>\n",
       "<table border=\"1\" class=\"dataframe\">\n",
       "  <thead>\n",
       "    <tr style=\"text-align: right;\">\n",
       "      <th></th>\n",
       "      <th>nat_pol_agency</th>\n",
       "      <th>pol_office</th>\n",
       "      <th>sec_center</th>\n",
       "      <th>num</th>\n",
       "    </tr>\n",
       "  </thead>\n",
       "  <tbody>\n",
       "    <tr>\n",
       "      <th>0</th>\n",
       "      <td>서울경찰청</td>\n",
       "      <td>서울중부경찰서</td>\n",
       "      <td>을지지구대</td>\n",
       "      <td>42</td>\n",
       "    </tr>\n",
       "    <tr>\n",
       "      <th>1</th>\n",
       "      <td>서울경찰청</td>\n",
       "      <td>서울중부경찰서</td>\n",
       "      <td>광희지구대</td>\n",
       "      <td>47</td>\n",
       "    </tr>\n",
       "    <tr>\n",
       "      <th>2</th>\n",
       "      <td>서울경찰청</td>\n",
       "      <td>서울중부경찰서</td>\n",
       "      <td>약수지구대</td>\n",
       "      <td>42</td>\n",
       "    </tr>\n",
       "    <tr>\n",
       "      <th>3</th>\n",
       "      <td>서울경찰청</td>\n",
       "      <td>서울중부경찰서</td>\n",
       "      <td>신당파출소</td>\n",
       "      <td>26</td>\n",
       "    </tr>\n",
       "    <tr>\n",
       "      <th>4</th>\n",
       "      <td>서울경찰청</td>\n",
       "      <td>서울중부경찰서</td>\n",
       "      <td>장충파출소</td>\n",
       "      <td>26</td>\n",
       "    </tr>\n",
       "    <tr>\n",
       "      <th>...</th>\n",
       "      <td>...</td>\n",
       "      <td>...</td>\n",
       "      <td>...</td>\n",
       "      <td>...</td>\n",
       "    </tr>\n",
       "    <tr>\n",
       "      <th>315</th>\n",
       "      <td>경남경찰청</td>\n",
       "      <td>진주경찰서</td>\n",
       "      <td>일반성파출소</td>\n",
       "      <td>13</td>\n",
       "    </tr>\n",
       "    <tr>\n",
       "      <th>316</th>\n",
       "      <td>경남경찰청</td>\n",
       "      <td>진주경찰서</td>\n",
       "      <td>지수파출소</td>\n",
       "      <td>9</td>\n",
       "    </tr>\n",
       "    <tr>\n",
       "      <th>317</th>\n",
       "      <td>경남경찰청</td>\n",
       "      <td>진주경찰서</td>\n",
       "      <td>수곡파출소</td>\n",
       "      <td>9</td>\n",
       "    </tr>\n",
       "    <tr>\n",
       "      <th>318</th>\n",
       "      <td>경남경찰청</td>\n",
       "      <td>진주경찰서</td>\n",
       "      <td>대곡파출소</td>\n",
       "      <td>9</td>\n",
       "    </tr>\n",
       "    <tr>\n",
       "      <th>319</th>\n",
       "      <td>경남경찰청</td>\n",
       "      <td>진주경찰서</td>\n",
       "      <td>충무공파출소</td>\n",
       "      <td>23</td>\n",
       "    </tr>\n",
       "  </tbody>\n",
       "</table>\n",
       "<p>320 rows × 4 columns</p>\n",
       "</div>"
      ],
      "text/plain": [
       "    nat_pol_agency pol_office sec_center  num\n",
       "0            서울경찰청    서울중부경찰서      을지지구대   42\n",
       "1            서울경찰청    서울중부경찰서      광희지구대   47\n",
       "2            서울경찰청    서울중부경찰서      약수지구대   42\n",
       "3            서울경찰청    서울중부경찰서      신당파출소   26\n",
       "4            서울경찰청    서울중부경찰서      장충파출소   26\n",
       "..             ...        ...        ...  ...\n",
       "315          경남경찰청      진주경찰서     일반성파출소   13\n",
       "316          경남경찰청      진주경찰서      지수파출소    9\n",
       "317          경남경찰청      진주경찰서      수곡파출소    9\n",
       "318          경남경찰청      진주경찰서      대곡파출소    9\n",
       "319          경남경찰청      진주경찰서     충무공파출소   23\n",
       "\n",
       "[320 rows x 4 columns]"
      ]
     },
     "execution_count": 77,
     "metadata": {},
     "output_type": "execute_result"
    }
   ],
   "source": [
    "df_jigu"
   ]
  },
  {
   "cell_type": "code",
   "execution_count": 78,
   "id": "greater-neutral",
   "metadata": {},
   "outputs": [],
   "source": [
    "df_dict = {}\n",
    "df_list = ['서울중부경찰서', '서울종로경찰서', '서울남대문경찰서', '서울서대문경찰서', '서울혜화경찰서', '서울용산경찰서', '서울성북경찰서','서울동대문경찰서']\n",
    "for i in df_list:\n",
    "    df_dict[i] = len(df_jigu[df_jigu['pol_office'] == i])"
   ]
  },
  {
   "cell_type": "code",
   "execution_count": 79,
   "id": "otherwise-productivity",
   "metadata": {},
   "outputs": [
    {
     "data": {
      "text/plain": [
       "{'서울중부경찰서': 7,\n",
       " '서울종로경찰서': 13,\n",
       " '서울남대문경찰서': 7,\n",
       " '서울서대문경찰서': 8,\n",
       " '서울혜화경찰서': 8,\n",
       " '서울용산경찰서': 7,\n",
       " '서울성북경찰서': 6,\n",
       " '서울동대문경찰서': 11}"
      ]
     },
     "execution_count": 79,
     "metadata": {},
     "output_type": "execute_result"
    }
   ],
   "source": [
    "df_dict"
   ]
  },
  {
   "cell_type": "code",
   "execution_count": 80,
   "id": "taken-fault",
   "metadata": {},
   "outputs": [],
   "source": [
    "jigudae = pd.Series(df_dict)\n",
    "jigudae.name = '지구대 수'"
   ]
  },
  {
   "cell_type": "code",
   "execution_count": 81,
   "id": "functional-window",
   "metadata": {},
   "outputs": [
    {
     "data": {
      "text/plain": [
       "서울중부경찰서      7\n",
       "서울종로경찰서     13\n",
       "서울남대문경찰서     7\n",
       "서울서대문경찰서     8\n",
       "서울혜화경찰서      8\n",
       "서울용산경찰서      7\n",
       "서울성북경찰서      6\n",
       "서울동대문경찰서    11\n",
       "Name: 지구대 수, dtype: int64"
      ]
     },
     "execution_count": 81,
     "metadata": {},
     "output_type": "execute_result"
    }
   ],
   "source": [
    "jigudae"
   ]
  },
  {
   "cell_type": "code",
   "execution_count": 82,
   "id": "casual-instrumentation",
   "metadata": {},
   "outputs": [],
   "source": [
    "df_dict = {}\n",
    "df_list = ['서울중부', '서울종로', '서울남대문', '서울서대문', '서울혜화', '서울용산', '서울성북','서울동대문']\n",
    "for i in df_list:\n",
    "    df_dict[i] = len(df_singo[df_singo['jur_stn'] == i])"
   ]
  },
  {
   "cell_type": "code",
   "execution_count": 83,
   "id": "indoor-township",
   "metadata": {},
   "outputs": [],
   "source": [
    "singo = pd.Series(df_dict)\n",
    "singo.name = '신고 횟수'"
   ]
  },
  {
   "cell_type": "code",
   "execution_count": 84,
   "id": "phantom-sewing",
   "metadata": {},
   "outputs": [
    {
     "data": {
      "text/plain": [
       "서울중부     142040\n",
       "서울종로     131752\n",
       "서울남대문     91868\n",
       "서울서대문    241937\n",
       "서울혜화     116059\n",
       "서울용산     238101\n",
       "서울성북     140369\n",
       "서울동대문    286603\n",
       "Name: 신고 횟수, dtype: int64"
      ]
     },
     "execution_count": 84,
     "metadata": {},
     "output_type": "execute_result"
    }
   ],
   "source": [
    "singo"
   ]
  },
  {
   "cell_type": "code",
   "execution_count": 85,
   "id": "prescription-gathering",
   "metadata": {},
   "outputs": [],
   "source": [
    "singo.rename({'서울중부' : '서울중부경찰서', '서울종로' : '서울종로경찰서',\n",
    "              '서울남대문' : '서울남대문경찰서', '서울서대문' : '서울서대문경찰서',\n",
    "              '서울혜화' : '서울혜화경찰서', '서울용산' : '서울용산경찰서', \n",
    "              '서울성북' : '서울성북경찰서','서울동대문' : '서울동대문경찰서'}, inplace = True)"
   ]
  },
  {
   "cell_type": "code",
   "execution_count": 86,
   "id": "stone-parallel",
   "metadata": {},
   "outputs": [],
   "source": [
    "df_cctv = pd.read_csv('cctv.csv')"
   ]
  },
  {
   "cell_type": "code",
   "execution_count": 87,
   "id": "gross-raise",
   "metadata": {
    "scrolled": false
   },
   "outputs": [
    {
     "data": {
      "text/html": [
       "<div>\n",
       "<style scoped>\n",
       "    .dataframe tbody tr th:only-of-type {\n",
       "        vertical-align: middle;\n",
       "    }\n",
       "\n",
       "    .dataframe tbody tr th {\n",
       "        vertical-align: top;\n",
       "    }\n",
       "\n",
       "    .dataframe thead th {\n",
       "        text-align: right;\n",
       "    }\n",
       "</style>\n",
       "<table border=\"1\" class=\"dataframe\">\n",
       "  <thead>\n",
       "    <tr style=\"text-align: right;\">\n",
       "      <th></th>\n",
       "      <th>Unnamed: 0</th>\n",
       "      <th>address</th>\n",
       "      <th>purpose</th>\n",
       "      <th>cctv_cnt</th>\n",
       "      <th>set_yr</th>\n",
       "      <th>lat</th>\n",
       "      <th>lon</th>\n",
       "      <th>관할서</th>\n",
       "    </tr>\n",
       "  </thead>\n",
       "  <tbody>\n",
       "    <tr>\n",
       "      <th>0</th>\n",
       "      <td>0</td>\n",
       "      <td>세종특별자치시 조치원읍 교리 129-1</td>\n",
       "      <td>다목적</td>\n",
       "      <td>3</td>\n",
       "      <td>NaN</td>\n",
       "      <td>36.605060</td>\n",
       "      <td>127.296286</td>\n",
       "      <td>세종경찰서</td>\n",
       "    </tr>\n",
       "    <tr>\n",
       "      <th>1</th>\n",
       "      <td>1</td>\n",
       "      <td>세종특별자치시 조치원읍 남리144</td>\n",
       "      <td>다목적</td>\n",
       "      <td>2</td>\n",
       "      <td>NaN</td>\n",
       "      <td>36.597678</td>\n",
       "      <td>127.302452</td>\n",
       "      <td>세종경찰서</td>\n",
       "    </tr>\n",
       "    <tr>\n",
       "      <th>2</th>\n",
       "      <td>2</td>\n",
       "      <td>세종특별자치시 조치원읍 남리 425</td>\n",
       "      <td>다목적</td>\n",
       "      <td>3</td>\n",
       "      <td>NaN</td>\n",
       "      <td>36.594863</td>\n",
       "      <td>127.300492</td>\n",
       "      <td>세종경찰서</td>\n",
       "    </tr>\n",
       "    <tr>\n",
       "      <th>3</th>\n",
       "      <td>3</td>\n",
       "      <td>세종특별자치시 조치원읍 명리82</td>\n",
       "      <td>다목적</td>\n",
       "      <td>3</td>\n",
       "      <td>NaN</td>\n",
       "      <td>36.600620</td>\n",
       "      <td>127.301301</td>\n",
       "      <td>세종경찰서</td>\n",
       "    </tr>\n",
       "    <tr>\n",
       "      <th>4</th>\n",
       "      <td>4</td>\n",
       "      <td>세종특별자치시 조치원읍 상리18-10</td>\n",
       "      <td>다목적</td>\n",
       "      <td>4</td>\n",
       "      <td>NaN</td>\n",
       "      <td>36.602434</td>\n",
       "      <td>127.303145</td>\n",
       "      <td>세종경찰서</td>\n",
       "    </tr>\n",
       "  </tbody>\n",
       "</table>\n",
       "</div>"
      ],
      "text/plain": [
       "   Unnamed: 0                address purpose  cctv_cnt set_yr        lat  \\\n",
       "0           0  세종특별자치시 조치원읍 교리 129-1     다목적         3    NaN  36.605060   \n",
       "1           1     세종특별자치시 조치원읍 남리144     다목적         2    NaN  36.597678   \n",
       "2           2    세종특별자치시 조치원읍 남리 425     다목적         3    NaN  36.594863   \n",
       "3           3      세종특별자치시 조치원읍 명리82     다목적         3    NaN  36.600620   \n",
       "4           4   세종특별자치시 조치원읍 상리18-10     다목적         4    NaN  36.602434   \n",
       "\n",
       "          lon    관할서  \n",
       "0  127.296286  세종경찰서  \n",
       "1  127.302452  세종경찰서  \n",
       "2  127.300492  세종경찰서  \n",
       "3  127.301301  세종경찰서  \n",
       "4  127.303145  세종경찰서  "
      ]
     },
     "execution_count": 87,
     "metadata": {},
     "output_type": "execute_result"
    }
   ],
   "source": [
    "df_cctv.head()"
   ]
  },
  {
   "cell_type": "code",
   "execution_count": 88,
   "id": "agreed-square",
   "metadata": {},
   "outputs": [],
   "source": [
    "df_dict = {}\n",
    "df_list = ['서울중부경찰서', '서울종로경찰서', '서울남대문경찰서', '서울서대문경찰서', '서울혜화경찰서', '서울용산경찰서', '서울성북경찰서','서울동대문경찰서']\n",
    "for i in df_list:\n",
    "    df_dict[i] = df_cctv[df_cctv['관할서'] == i]['cctv_cnt'].sum()"
   ]
  },
  {
   "cell_type": "code",
   "execution_count": 89,
   "id": "otherwise-armstrong",
   "metadata": {},
   "outputs": [
    {
     "data": {
      "text/plain": [
       "{'서울중부경찰서': 1563,\n",
       " '서울종로경찰서': 805,\n",
       " '서울남대문경찰서': 725,\n",
       " '서울서대문경찰서': 2938,\n",
       " '서울혜화경찰서': 784,\n",
       " '서울용산경찰서': 2051,\n",
       " '서울성북경찰서': 2015,\n",
       " '서울동대문경찰서': 26}"
      ]
     },
     "execution_count": 89,
     "metadata": {},
     "output_type": "execute_result"
    }
   ],
   "source": [
    "df_dict"
   ]
  },
  {
   "cell_type": "code",
   "execution_count": 90,
   "id": "proved-adobe",
   "metadata": {},
   "outputs": [],
   "source": [
    "cctv = pd.Series(df_dict)\n",
    "cctv.name = 'cctv 설치대수'"
   ]
  },
  {
   "cell_type": "code",
   "execution_count": 91,
   "id": "close-princeton",
   "metadata": {},
   "outputs": [
    {
     "data": {
      "text/plain": [
       "서울중부경찰서     1563\n",
       "서울종로경찰서      805\n",
       "서울남대문경찰서     725\n",
       "서울서대문경찰서    2938\n",
       "서울혜화경찰서      784\n",
       "서울용산경찰서     2051\n",
       "서울성북경찰서     2015\n",
       "서울동대문경찰서      26\n",
       "Name: cctv 설치대수, dtype: int64"
      ]
     },
     "execution_count": 91,
     "metadata": {},
     "output_type": "execute_result"
    }
   ],
   "source": [
    "cctv"
   ]
  },
  {
   "cell_type": "code",
   "execution_count": 92,
   "id": "electoral-tutorial",
   "metadata": {},
   "outputs": [],
   "source": [
    "df_dict = {}\n",
    "df_list = ['서울중부경찰서', '서울종로경찰서', '서울남대문경찰서', '서울서대문경찰서', '서울혜화경찰서', '서울용산경찰서', '서울성북경찰서','서울동대문경찰서']\n",
    "for i in df_list:\n",
    "    df_dict[i] = len(df_drink[df_drink['관할서'] == i])\n",
    "    "
   ]
  },
  {
   "cell_type": "code",
   "execution_count": 93,
   "id": "biblical-messenger",
   "metadata": {},
   "outputs": [
    {
     "data": {
      "text/plain": [
       "{'서울중부경찰서': 206,\n",
       " '서울종로경찰서': 150,\n",
       " '서울남대문경찰서': 88,\n",
       " '서울서대문경찰서': 75,\n",
       " '서울혜화경찰서': 143,\n",
       " '서울용산경찰서': 122,\n",
       " '서울성북경찰서': 36,\n",
       " '서울동대문경찰서': 150}"
      ]
     },
     "execution_count": 93,
     "metadata": {},
     "output_type": "execute_result"
    }
   ],
   "source": [
    "df_dict"
   ]
  },
  {
   "cell_type": "code",
   "execution_count": 94,
   "id": "buried-maker",
   "metadata": {
    "scrolled": true
   },
   "outputs": [],
   "source": [
    "drink = pd.Series(df_dict)\n",
    "drink.name = '유흥업소 수'"
   ]
  },
  {
   "cell_type": "code",
   "execution_count": 95,
   "id": "surprising-elder",
   "metadata": {},
   "outputs": [],
   "source": [
    "df_dict = {}\n",
    "df_list = ['서울중부', '서울종로', '서울남대문', '서울서대문', '서울혜화', '서울용산', '서울성북','서울동대문']\n",
    "for i in df_list:\n",
    "    df_dict[i] = len(df_acc[df_acc['jur_stn'] == i])"
   ]
  },
  {
   "cell_type": "code",
   "execution_count": 96,
   "id": "downtown-dispatch",
   "metadata": {},
   "outputs": [
    {
     "data": {
      "text/plain": [
       "{'서울중부': 1716,\n",
       " '서울종로': 1651,\n",
       " '서울남대문': 1514,\n",
       " '서울서대문': 3015,\n",
       " '서울혜화': 1495,\n",
       " '서울용산': 3408,\n",
       " '서울성북': 2217,\n",
       " '서울동대문': 4717}"
      ]
     },
     "execution_count": 96,
     "metadata": {},
     "output_type": "execute_result"
    }
   ],
   "source": [
    "df_dict"
   ]
  },
  {
   "cell_type": "code",
   "execution_count": 97,
   "id": "leading-strengthening",
   "metadata": {},
   "outputs": [],
   "source": [
    "acc = pd.Series(df_dict)\n",
    "acc.name = '사고 횟수'"
   ]
  },
  {
   "cell_type": "code",
   "execution_count": 98,
   "id": "adjusted-group",
   "metadata": {},
   "outputs": [],
   "source": [
    "acc.rename({'서울중부' : '서울중부경찰서', '서울종로' : '서울종로경찰서',\n",
    "              '서울남대문' : '서울남대문경찰서', '서울서대문' : '서울서대문경찰서',\n",
    "              '서울혜화' : '서울혜화경찰서', '서울용산' : '서울용산경찰서', \n",
    "              '서울성북' : '서울성북경찰서','서울동대문' : '서울동대문경찰서'}, inplace = True)"
   ]
  },
  {
   "cell_type": "code",
   "execution_count": 99,
   "id": "particular-delta",
   "metadata": {},
   "outputs": [],
   "source": [
    "df = pd.concat([df, park, jigudae, singo, cctv, drink, acc], axis = 1)"
   ]
  },
  {
   "cell_type": "code",
   "execution_count": 100,
   "id": "turned-trouble",
   "metadata": {
    "scrolled": true
   },
   "outputs": [
    {
     "data": {
      "text/html": [
       "<div>\n",
       "<style scoped>\n",
       "    .dataframe tbody tr th:only-of-type {\n",
       "        vertical-align: middle;\n",
       "    }\n",
       "\n",
       "    .dataframe tbody tr th {\n",
       "        vertical-align: top;\n",
       "    }\n",
       "\n",
       "    .dataframe thead th {\n",
       "        text-align: right;\n",
       "    }\n",
       "</style>\n",
       "<table border=\"1\" class=\"dataframe\">\n",
       "  <thead>\n",
       "    <tr style=\"text-align: right;\">\n",
       "      <th></th>\n",
       "      <th>보안등</th>\n",
       "      <th>공원 수</th>\n",
       "      <th>지구대 수</th>\n",
       "      <th>신고 횟수</th>\n",
       "      <th>cctv 설치대수</th>\n",
       "      <th>유흥업소 수</th>\n",
       "      <th>사고 횟수</th>\n",
       "    </tr>\n",
       "  </thead>\n",
       "  <tbody>\n",
       "    <tr>\n",
       "      <th>서울중부경찰서</th>\n",
       "      <td>4818</td>\n",
       "      <td>14</td>\n",
       "      <td>7</td>\n",
       "      <td>142040</td>\n",
       "      <td>1563</td>\n",
       "      <td>206</td>\n",
       "      <td>1716</td>\n",
       "    </tr>\n",
       "    <tr>\n",
       "      <th>서울종로경찰서</th>\n",
       "      <td>5259</td>\n",
       "      <td>29</td>\n",
       "      <td>13</td>\n",
       "      <td>131752</td>\n",
       "      <td>805</td>\n",
       "      <td>150</td>\n",
       "      <td>1651</td>\n",
       "    </tr>\n",
       "    <tr>\n",
       "      <th>서울남대문경찰서</th>\n",
       "      <td>1078</td>\n",
       "      <td>16</td>\n",
       "      <td>7</td>\n",
       "      <td>91868</td>\n",
       "      <td>725</td>\n",
       "      <td>88</td>\n",
       "      <td>1514</td>\n",
       "    </tr>\n",
       "    <tr>\n",
       "      <th>서울서대문경찰서</th>\n",
       "      <td>6938</td>\n",
       "      <td>58</td>\n",
       "      <td>8</td>\n",
       "      <td>241937</td>\n",
       "      <td>2938</td>\n",
       "      <td>75</td>\n",
       "      <td>3015</td>\n",
       "    </tr>\n",
       "    <tr>\n",
       "      <th>서울혜화경찰서</th>\n",
       "      <td>4256</td>\n",
       "      <td>13</td>\n",
       "      <td>8</td>\n",
       "      <td>116059</td>\n",
       "      <td>784</td>\n",
       "      <td>143</td>\n",
       "      <td>1495</td>\n",
       "    </tr>\n",
       "    <tr>\n",
       "      <th>서울용산경찰서</th>\n",
       "      <td>9980</td>\n",
       "      <td>45</td>\n",
       "      <td>7</td>\n",
       "      <td>238101</td>\n",
       "      <td>2051</td>\n",
       "      <td>122</td>\n",
       "      <td>3408</td>\n",
       "    </tr>\n",
       "    <tr>\n",
       "      <th>서울성북경찰서</th>\n",
       "      <td>7047</td>\n",
       "      <td>29</td>\n",
       "      <td>6</td>\n",
       "      <td>140369</td>\n",
       "      <td>2015</td>\n",
       "      <td>36</td>\n",
       "      <td>2217</td>\n",
       "    </tr>\n",
       "    <tr>\n",
       "      <th>서울동대문경찰서</th>\n",
       "      <td>1</td>\n",
       "      <td>14</td>\n",
       "      <td>11</td>\n",
       "      <td>286603</td>\n",
       "      <td>26</td>\n",
       "      <td>150</td>\n",
       "      <td>4717</td>\n",
       "    </tr>\n",
       "  </tbody>\n",
       "</table>\n",
       "</div>"
      ],
      "text/plain": [
       "           보안등  공원 수  지구대 수   신고 횟수  cctv 설치대수  유흥업소 수  사고 횟수\n",
       "서울중부경찰서   4818    14      7  142040       1563     206   1716\n",
       "서울종로경찰서   5259    29     13  131752        805     150   1651\n",
       "서울남대문경찰서  1078    16      7   91868        725      88   1514\n",
       "서울서대문경찰서  6938    58      8  241937       2938      75   3015\n",
       "서울혜화경찰서   4256    13      8  116059        784     143   1495\n",
       "서울용산경찰서   9980    45      7  238101       2051     122   3408\n",
       "서울성북경찰서   7047    29      6  140369       2015      36   2217\n",
       "서울동대문경찰서     1    14     11  286603         26     150   4717"
      ]
     },
     "execution_count": 100,
     "metadata": {},
     "output_type": "execute_result"
    }
   ],
   "source": [
    "df"
   ]
  },
  {
   "cell_type": "code",
   "execution_count": 101,
   "id": "gorgeous-picking",
   "metadata": {},
   "outputs": [],
   "source": [
    "df.to_csv('관할서.csv')"
   ]
  },
  {
   "cell_type": "code",
   "execution_count": 2,
   "id": "meaning-passport",
   "metadata": {},
   "outputs": [],
   "source": [
    "df = pd.read_csv('관할서.csv')"
   ]
  },
  {
   "cell_type": "code",
   "execution_count": null,
   "id": "offshore-anthony",
   "metadata": {},
   "outputs": [],
   "source": []
  }
 ],
 "metadata": {
  "kernelspec": {
   "display_name": "Python 3",
   "language": "python",
   "name": "python3"
  },
  "language_info": {
   "codemirror_mode": {
    "name": "ipython",
    "version": 3
   },
   "file_extension": ".py",
   "mimetype": "text/x-python",
   "name": "python",
   "nbconvert_exporter": "python",
   "pygments_lexer": "ipython3",
   "version": "3.6.9"
  }
 },
 "nbformat": 4,
 "nbformat_minor": 5
}
