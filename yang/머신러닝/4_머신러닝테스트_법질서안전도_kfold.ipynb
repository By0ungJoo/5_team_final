{
 "cells": [
  {
   "cell_type": "markdown",
   "id": "aabe02cf",
   "metadata": {},
   "source": [
    "# 결과\n",
    "\n",
    "+ best1(mae : 1.89) : 각 변수 minmax scaling 한 ridge(alpha= 0.1)이 가장 성능이 좋았다\n",
    "+ best2(mae : 1.90) : 각 변수 standard scaling한 ridge(alpha= 1) 이 2번째로 성능이 좋았다.\n",
    "\n",
    "+ R에서 뽑은 변수들만 출력 :8개 + 10개  = 총 13개 (겹치는거 제외)\n",
    "+ 13개 변수 이용\n",
    "[\"crm_clue_자수\",\"crm_clue_타인신고\",\"crm_clue_현행범\",\"crm_clue_탐문정보\",\"vic_sx_2\",\"기초수급_19세이하\",\"기초수급_20_34세\",\"crm_tm_새벽\",\"화재_사망\",\"cctv_개수\",\"배치인원_수\",\"비상벨_개수\",\"일인가구수\", \"score_법질서\"]"
   ]
  },
  {
   "cell_type": "code",
   "execution_count": 1,
   "id": "4173d3e0",
   "metadata": {},
   "outputs": [],
   "source": [
    "import pandas as pd\n",
    "\n",
    "#그래프에 한글 표현하기\n",
    "import  matplotlib.pyplot as plt\n",
    "import  matplotlib.font_manager as fm\n",
    "import  matplotlib.font_manager as fm\n",
    "font_name = fm.FontProperties(fname = \"C:/Windows/Fonts/malgun.ttf\").get_name()\n",
    "plt.rc(\"font\", family = font_name)\n",
    "\n",
    "\n",
    "\n",
    "#마이너스 표시하기\n",
    "import  matplotlib as mlp\n",
    "mlp.rcParams[\"axes.unicode_minus\"]  = False\n",
    "\n",
    "import numpy as np\n",
    "import pandas  as pd\n",
    "import seaborn as sns\n",
    "##회귀분석\n",
    "import statsmodels.api as sm\n",
    "# 정규화\n",
    "from sklearn.preprocessing import MinMaxScaler\n",
    "from sklearn.preprocessing import StandardScaler\n",
    "from sklearn.preprocessing import RobustScaler\n",
    "from sklearn.feature_selection import  RFE\n",
    "from lightgbm import LGBMClassifier,  LGBMRegressor\n",
    "from lightgbm import plot_importance, plot_metric, plot_tree\n",
    "from sklearn.linear_model import Ridge\n",
    "from sklearn.linear_model import Lasso\n",
    "from sklearn.svm import SVR, SVC\n",
    "import multiprocessing \n",
    "from sklearn.pipeline import make_pipeline, Pipeline\n",
    "from sklearn.manifold import TSNE\n",
    "from sklearn.model_selection import train_test_split\n",
    "from sklearn.linear_model import  LinearRegression\n",
    "from scipy import stats\n",
    "#사용법이 파이선과 다른 기존xgb를  파이선에 맞게 만들어 놓은 것\n",
    "from  xgboost import XGBClassifier, XGBRegressor\n",
    "from sklearn.linear_model import ElasticNet\n",
    "from sklearn.preprocessing import RobustScaler\n",
    "\n",
    "#변수영향도 그래프, 트리그래프 더 쉽게 그리게 해줌\n",
    "from xgboost import plot_importance, plot_tree\n",
    "\n",
    "from sklearn.metrics import mean_absolute_error, mean_squared_error"
   ]
  },
  {
   "cell_type": "code",
   "execution_count": 2,
   "id": "c50a9146",
   "metadata": {
    "scrolled": true
   },
   "outputs": [],
   "source": [
    "df = pd.read_csv(\"../완성본_안전도_회귀분석/4_법질서안전도.csv\")"
   ]
  },
  {
   "cell_type": "code",
   "execution_count": 3,
   "id": "69076d5d",
   "metadata": {},
   "outputs": [],
   "source": [
    "# 변수8개 설명력 0.54\n",
    "# score_법질서~+crm_clue_자수+crm_clue_현행범+crm_clue_탐문정보+vic_sx_2\n",
    "#           +화재_사망+비상벨_개수+기초수급_19세이하\n",
    "#           +기초수급_20_34세"
   ]
  },
  {
   "cell_type": "code",
   "execution_count": 4,
   "id": "e4291d41",
   "metadata": {},
   "outputs": [],
   "source": [
    "# 변수 10개 설명력 0.59\n",
    "# (score_법질서~+crm_clue_자수+crm_clue_타인신고+crm_clue_현행범\n",
    "#           +crm_clue_탐문정보+crm_tm_새벽\n",
    "#           +화재_사망+cctv_개수+배치인원_수+비상벨_개수+일인가구수,data=dt"
   ]
  },
  {
   "cell_type": "code",
   "execution_count": 5,
   "id": "edc152fe",
   "metadata": {},
   "outputs": [],
   "source": [
    "# #R에서 뽑은 변수들만 출력 :8개\n",
    "# df = df[[\"crm_clue_자수\",\"crm_clue_현행범\",\"crm_clue_탐문정보\",\"vic_sx_2\"\n",
    "#     ,\"화재_사망\",\"비상벨_개수\",\"기초수급_19세이하\"\n",
    "#          ,\"기초수급_20_34세\", \"score_법질서\"]]"
   ]
  },
  {
   "cell_type": "code",
   "execution_count": 6,
   "id": "94c258b9",
   "metadata": {},
   "outputs": [],
   "source": [
    "# #R에서 뽑은 변수들만 출력 :10개\n",
    "# df = df[[\"crm_clue_자수\",\"crm_clue_타인신고\",\"crm_clue_현행범\",\"crm_clue_탐문정보\",\n",
    "#          \"crm_tm_새벽\",\"화재_사망\",\"cctv_개수\",\"배치인원_수\",\"비상벨_개수\",\"일인가구수\", \"score_법질서\"]]"
   ]
  },
  {
   "cell_type": "code",
   "execution_count": 4,
   "id": "e202bf97",
   "metadata": {},
   "outputs": [],
   "source": [
    "#R에서 뽑은 변수들만 출력 :13개\n",
    "# crm_wthr_폭설, crm_clue_고발, crm_clue_불심검문, 총_인구수\n",
    "df = df[[\"crm_clue_자수\",\"crm_clue_타인신고\",\"crm_clue_현행범\",\"crm_clue_탐문정보\",\"vic_sx_2\",\"기초수급_19세이하\",\"기초수급_20_34세\",\n",
    "         \"crm_tm_새벽\",\"화재_사망\",\"cctv_개수\",\"배치인원_수\",\"비상벨_개수\",\"일인가구수\", \"score_법질서\"]]"
   ]
  },
  {
   "cell_type": "code",
   "execution_count": 102,
   "id": "bbaf7029",
   "metadata": {},
   "outputs": [
    {
     "data": {
      "text/html": [
       "<div>\n",
       "<style scoped>\n",
       "    .dataframe tbody tr th:only-of-type {\n",
       "        vertical-align: middle;\n",
       "    }\n",
       "\n",
       "    .dataframe tbody tr th {\n",
       "        vertical-align: top;\n",
       "    }\n",
       "\n",
       "    .dataframe thead th {\n",
       "        text-align: right;\n",
       "    }\n",
       "</style>\n",
       "<table border=\"1\" class=\"dataframe\">\n",
       "  <thead>\n",
       "    <tr style=\"text-align: right;\">\n",
       "      <th></th>\n",
       "      <th>crm_clue_자수</th>\n",
       "      <th>crm_clue_타인신고</th>\n",
       "      <th>crm_clue_현행범</th>\n",
       "      <th>crm_clue_탐문정보</th>\n",
       "      <th>vic_sx_2</th>\n",
       "      <th>기초수급_19세이하</th>\n",
       "      <th>기초수급_20_34세</th>\n",
       "      <th>crm_tm_새벽</th>\n",
       "      <th>화재_사망</th>\n",
       "      <th>cctv_개수</th>\n",
       "      <th>배치인원_수</th>\n",
       "      <th>비상벨_개수</th>\n",
       "      <th>일인가구수</th>\n",
       "      <th>score_법질서</th>\n",
       "    </tr>\n",
       "  </thead>\n",
       "  <tbody>\n",
       "    <tr>\n",
       "      <th>0</th>\n",
       "      <td>84.0</td>\n",
       "      <td>645.0</td>\n",
       "      <td>592.0</td>\n",
       "      <td>151.0</td>\n",
       "      <td>2037.0</td>\n",
       "      <td>39101</td>\n",
       "      <td>9131</td>\n",
       "      <td>809.0</td>\n",
       "      <td>2</td>\n",
       "      <td>4719</td>\n",
       "      <td>395</td>\n",
       "      <td>5.0</td>\n",
       "      <td>52811.0</td>\n",
       "      <td>67.60</td>\n",
       "    </tr>\n",
       "    <tr>\n",
       "      <th>1</th>\n",
       "      <td>40.0</td>\n",
       "      <td>338.0</td>\n",
       "      <td>409.0</td>\n",
       "      <td>71.0</td>\n",
       "      <td>1294.0</td>\n",
       "      <td>39101</td>\n",
       "      <td>9131</td>\n",
       "      <td>420.0</td>\n",
       "      <td>1</td>\n",
       "      <td>2919</td>\n",
       "      <td>258</td>\n",
       "      <td>1.0</td>\n",
       "      <td>28612.0</td>\n",
       "      <td>64.90</td>\n",
       "    </tr>\n",
       "    <tr>\n",
       "      <th>2</th>\n",
       "      <td>99.0</td>\n",
       "      <td>348.0</td>\n",
       "      <td>648.0</td>\n",
       "      <td>101.0</td>\n",
       "      <td>1852.0</td>\n",
       "      <td>39101</td>\n",
       "      <td>9131</td>\n",
       "      <td>473.0</td>\n",
       "      <td>0</td>\n",
       "      <td>4447</td>\n",
       "      <td>333</td>\n",
       "      <td>8.0</td>\n",
       "      <td>41116.0</td>\n",
       "      <td>66.10</td>\n",
       "    </tr>\n",
       "    <tr>\n",
       "      <th>3</th>\n",
       "      <td>13.0</td>\n",
       "      <td>146.0</td>\n",
       "      <td>203.0</td>\n",
       "      <td>80.0</td>\n",
       "      <td>735.0</td>\n",
       "      <td>54889</td>\n",
       "      <td>11055</td>\n",
       "      <td>165.0</td>\n",
       "      <td>2</td>\n",
       "      <td>1218</td>\n",
       "      <td>185</td>\n",
       "      <td>11.0</td>\n",
       "      <td>20165.0</td>\n",
       "      <td>64.65</td>\n",
       "    </tr>\n",
       "    <tr>\n",
       "      <th>4</th>\n",
       "      <td>39.0</td>\n",
       "      <td>185.0</td>\n",
       "      <td>95.0</td>\n",
       "      <td>70.0</td>\n",
       "      <td>605.0</td>\n",
       "      <td>54889</td>\n",
       "      <td>11055</td>\n",
       "      <td>122.0</td>\n",
       "      <td>0</td>\n",
       "      <td>913</td>\n",
       "      <td>142</td>\n",
       "      <td>12.0</td>\n",
       "      <td>21519.0</td>\n",
       "      <td>69.00</td>\n",
       "    </tr>\n",
       "    <tr>\n",
       "      <th>...</th>\n",
       "      <td>...</td>\n",
       "      <td>...</td>\n",
       "      <td>...</td>\n",
       "      <td>...</td>\n",
       "      <td>...</td>\n",
       "      <td>...</td>\n",
       "      <td>...</td>\n",
       "      <td>...</td>\n",
       "      <td>...</td>\n",
       "      <td>...</td>\n",
       "      <td>...</td>\n",
       "      <td>...</td>\n",
       "      <td>...</td>\n",
       "      <td>...</td>\n",
       "    </tr>\n",
       "    <tr>\n",
       "      <th>118</th>\n",
       "      <td>6.0</td>\n",
       "      <td>94.0</td>\n",
       "      <td>154.0</td>\n",
       "      <td>11.0</td>\n",
       "      <td>419.0</td>\n",
       "      <td>31361</td>\n",
       "      <td>11882</td>\n",
       "      <td>84.0</td>\n",
       "      <td>0</td>\n",
       "      <td>1855</td>\n",
       "      <td>176</td>\n",
       "      <td>499.0</td>\n",
       "      <td>24317.0</td>\n",
       "      <td>69.75</td>\n",
       "    </tr>\n",
       "    <tr>\n",
       "      <th>119</th>\n",
       "      <td>11.0</td>\n",
       "      <td>274.0</td>\n",
       "      <td>521.0</td>\n",
       "      <td>29.0</td>\n",
       "      <td>1076.0</td>\n",
       "      <td>46485</td>\n",
       "      <td>15246</td>\n",
       "      <td>350.0</td>\n",
       "      <td>1</td>\n",
       "      <td>4469</td>\n",
       "      <td>406</td>\n",
       "      <td>1778.0</td>\n",
       "      <td>52196.0</td>\n",
       "      <td>66.30</td>\n",
       "    </tr>\n",
       "    <tr>\n",
       "      <th>120</th>\n",
       "      <td>2.0</td>\n",
       "      <td>152.0</td>\n",
       "      <td>280.0</td>\n",
       "      <td>16.0</td>\n",
       "      <td>724.0</td>\n",
       "      <td>6833</td>\n",
       "      <td>2472</td>\n",
       "      <td>159.0</td>\n",
       "      <td>3</td>\n",
       "      <td>1563</td>\n",
       "      <td>236</td>\n",
       "      <td>339.0</td>\n",
       "      <td>18597.0</td>\n",
       "      <td>68.15</td>\n",
       "    </tr>\n",
       "    <tr>\n",
       "      <th>121</th>\n",
       "      <td>0.0</td>\n",
       "      <td>142.0</td>\n",
       "      <td>240.0</td>\n",
       "      <td>22.0</td>\n",
       "      <td>505.0</td>\n",
       "      <td>5756</td>\n",
       "      <td>2573</td>\n",
       "      <td>115.0</td>\n",
       "      <td>4</td>\n",
       "      <td>784</td>\n",
       "      <td>213</td>\n",
       "      <td>42.0</td>\n",
       "      <td>41063.0</td>\n",
       "      <td>66.40</td>\n",
       "    </tr>\n",
       "    <tr>\n",
       "      <th>122</th>\n",
       "      <td>0.0</td>\n",
       "      <td>114.0</td>\n",
       "      <td>67.0</td>\n",
       "      <td>12.0</td>\n",
       "      <td>490.0</td>\n",
       "      <td>16060</td>\n",
       "      <td>4101</td>\n",
       "      <td>62.0</td>\n",
       "      <td>0</td>\n",
       "      <td>2527</td>\n",
       "      <td>178</td>\n",
       "      <td>39.0</td>\n",
       "      <td>39078.0</td>\n",
       "      <td>72.95</td>\n",
       "    </tr>\n",
       "  </tbody>\n",
       "</table>\n",
       "<p>123 rows × 14 columns</p>\n",
       "</div>"
      ],
      "text/plain": [
       "     crm_clue_자수  crm_clue_타인신고  crm_clue_현행범  crm_clue_탐문정보  vic_sx_2  \\\n",
       "0           84.0          645.0         592.0          151.0    2037.0   \n",
       "1           40.0          338.0         409.0           71.0    1294.0   \n",
       "2           99.0          348.0         648.0          101.0    1852.0   \n",
       "3           13.0          146.0         203.0           80.0     735.0   \n",
       "4           39.0          185.0          95.0           70.0     605.0   \n",
       "..           ...            ...           ...            ...       ...   \n",
       "118          6.0           94.0         154.0           11.0     419.0   \n",
       "119         11.0          274.0         521.0           29.0    1076.0   \n",
       "120          2.0          152.0         280.0           16.0     724.0   \n",
       "121          0.0          142.0         240.0           22.0     505.0   \n",
       "122          0.0          114.0          67.0           12.0     490.0   \n",
       "\n",
       "     기초수급_19세이하  기초수급_20_34세  crm_tm_새벽  화재_사망  cctv_개수  배치인원_수  비상벨_개수  \\\n",
       "0         39101         9131      809.0      2     4719     395     5.0   \n",
       "1         39101         9131      420.0      1     2919     258     1.0   \n",
       "2         39101         9131      473.0      0     4447     333     8.0   \n",
       "3         54889        11055      165.0      2     1218     185    11.0   \n",
       "4         54889        11055      122.0      0      913     142    12.0   \n",
       "..          ...          ...        ...    ...      ...     ...     ...   \n",
       "118       31361        11882       84.0      0     1855     176   499.0   \n",
       "119       46485        15246      350.0      1     4469     406  1778.0   \n",
       "120        6833         2472      159.0      3     1563     236   339.0   \n",
       "121        5756         2573      115.0      4      784     213    42.0   \n",
       "122       16060         4101       62.0      0     2527     178    39.0   \n",
       "\n",
       "       일인가구수  score_법질서  \n",
       "0    52811.0      67.60  \n",
       "1    28612.0      64.90  \n",
       "2    41116.0      66.10  \n",
       "3    20165.0      64.65  \n",
       "4    21519.0      69.00  \n",
       "..       ...        ...  \n",
       "118  24317.0      69.75  \n",
       "119  52196.0      66.30  \n",
       "120  18597.0      68.15  \n",
       "121  41063.0      66.40  \n",
       "122  39078.0      72.95  \n",
       "\n",
       "[123 rows x 14 columns]"
      ]
     },
     "execution_count": 102,
     "metadata": {},
     "output_type": "execute_result"
    }
   ],
   "source": [
    "df"
   ]
  },
  {
   "cell_type": "code",
   "execution_count": 4,
   "id": "df64ae64",
   "metadata": {},
   "outputs": [
    {
     "data": {
      "text/plain": [
       "<AxesSubplot:>"
      ]
     },
     "execution_count": 4,
     "metadata": {},
     "output_type": "execute_result"
    },
    {
     "data": {
      "image/png": "[encoded data removed]",
      "text/plain": [
       "<Figure size 864x504 with 1 Axes>"
      ]
     },
     "metadata": {
      "needs_background": "light"
     },
     "output_type": "display_data"
    }
   ],
   "source": [
    "#이상치 확인\n",
    "#극단값을  갖는  모습을 볼 수 있다 ->robustscale하면  좋을  듯  하다\n",
    "plt.figure(figsize = (12,7))\n",
    "sns.boxplot(data = df.iloc[:,:-1])"
   ]
  },
  {
   "cell_type": "markdown",
   "id": "eb7b5c84",
   "metadata": {},
   "source": [
    "# 설명력 보기위한 모델링"
   ]
  },
  {
   "cell_type": "code",
   "execution_count": 8,
   "id": "10d6ed64",
   "metadata": {},
   "outputs": [],
   "source": [
    "# train, test 분리\n",
    "X_train, X_test, y_train, y_test  = train_test_split(df.iloc[:,:-1], df[\"score_법질서\"],test_size = 0.3, random_state=0)"
   ]
  },
  {
   "cell_type": "markdown",
   "id": "8f2141f9",
   "metadata": {},
   "source": [
    "# ridge, lasso, elasticnet을 위한 alpha값 찾기 함수"
   ]
  },
  {
   "cell_type": "code",
   "execution_count": 5,
   "id": "da669fc8",
   "metadata": {},
   "outputs": [],
   "source": [
    "def alphas_finder(model):\n",
    "    alphas = [100, 10, 1, 0.1, 0.01, 0.001, 0.0001]\n",
    "    for alpha in alphas:\n",
    "        modeling = model(alpha=alpha)\n",
    "        modeling.fit(X_train, y_train)\n",
    "        print(alpha , \":\" ,round(modeling.score(X_train, y_train),3)\n",
    "              , round(modeling.score(X_test, y_test),3)\n",
    "              ,\"mae:\",round(mean_absolute_error(modeling.predict(X_test), y_test),3))    "
   ]
  },
  {
   "cell_type": "markdown",
   "id": "3216fd54",
   "metadata": {},
   "source": [
    "# 교차검증"
   ]
  },
  {
   "cell_type": "code",
   "execution_count": 10,
   "id": "0c67695c",
   "metadata": {},
   "outputs": [],
   "source": [
    "X = np.array(df.drop('score_법질서', 1))\n",
    "Y = np.array(df['score_법질서'])"
   ]
  },
  {
   "cell_type": "code",
   "execution_count": null,
   "id": "ddd512e1",
   "metadata": {},
   "outputs": [],
   "source": []
  },
  {
   "cell_type": "code",
   "execution_count": 6,
   "id": "1858c12a",
   "metadata": {},
   "outputs": [],
   "source": [
    "from sklearn.model_selection import KFold\n",
    "\n",
    "#kfold 설정\n",
    "n_splits = 5\n",
    "kfold = KFold(n_splits=n_splits, shuffle=True,random_state=0)\n",
    "\n",
    "#mae kfold 교차검증 함수\n",
    "def mae_kfold(model):\n",
    "    i = 1\n",
    "    total_error = 0\n",
    "    for train_index, test_index in kfold.split(X):\n",
    "        x_train_fold, x_test_fold = X[train_index], X[test_index]\n",
    "        y_train_fold, y_test_fold = Y[train_index], Y[test_index]\n",
    "        model_pred_fold = model.fit(x_train_fold, y_train_fold).predict(x_test_fold)\n",
    "        error = mean_absolute_error(model_pred_fold, y_test_fold)\n",
    "        print('Fold = {}, mae = {:.2f}'.format(i, error))\n",
    "        total_error += error\n",
    "        i+=1\n",
    "    print('---'*10)\n",
    "    print('Average Error: %s' % (total_error / n_splits))\n",
    "    print('---'*10)"
   ]
  },
  {
   "cell_type": "markdown",
   "id": "cb94a629",
   "metadata": {},
   "source": [
    "# 모델링"
   ]
  },
  {
   "cell_type": "markdown",
   "id": "a51f61bf",
   "metadata": {},
   "source": [
    "## 1. None scaling"
   ]
  },
  {
   "cell_type": "code",
   "execution_count": 12,
   "id": "87818569",
   "metadata": {},
   "outputs": [
    {
     "name": "stdout",
     "output_type": "stream",
     "text": [
      "0.668206345027756 0.5062686879818614 2.0930289152433637\n"
     ]
    }
   ],
   "source": [
    "#다중회귀\n",
    "lr = LinearRegression()\n",
    "lr.fit(X_train, y_train)\n",
    "print(lr.score(X_train, y_train), lr.score(X_test, y_test),mean_absolute_error(lr.predict(X_test), y_test))"
   ]
  },
  {
   "cell_type": "code",
   "execution_count": 13,
   "id": "eb2753ad",
   "metadata": {},
   "outputs": [
    {
     "name": "stdout",
     "output_type": "stream",
     "text": [
      "Fold = 1, mae = 1.71\n",
      "Fold = 2, mae = 2.17\n",
      "Fold = 3, mae = 1.96\n",
      "Fold = 4, mae = 1.48\n",
      "Fold = 5, mae = 2.29\n",
      "------------------------------\n",
      "Average Error: 1.9211979259345704\n",
      "------------------------------\n"
     ]
    }
   ],
   "source": [
    "# 다중회귀  교차검증\n",
    "mae_kfold(lr)"
   ]
  },
  {
   "cell_type": "markdown",
   "id": "3e747078",
   "metadata": {},
   "source": [
    "## ridge"
   ]
  },
  {
   "cell_type": "code",
   "execution_count": 14,
   "id": "6e633b62",
   "metadata": {},
   "outputs": [
    {
     "name": "stdout",
     "output_type": "stream",
     "text": [
      "100 : 0.665 0.498 mae: 2.128\n",
      "10 : 0.668 0.506 mae: 2.097\n",
      "1 : 0.668 0.506 mae: 2.093\n",
      "0.1 : 0.668 0.506 mae: 2.093\n",
      "0.01 : 0.668 0.506 mae: 2.093\n",
      "0.001 : 0.668 0.506 mae: 2.093\n",
      "0.0001 : 0.668 0.506 mae: 2.093\n"
     ]
    }
   ],
   "source": [
    "# ridge\n",
    "alphas_finder(Ridge)"
   ]
  },
  {
   "cell_type": "code",
   "execution_count": 15,
   "id": "076326ad",
   "metadata": {},
   "outputs": [
    {
     "name": "stdout",
     "output_type": "stream",
     "text": [
      "Fold = 1, mae = 1.71\n",
      "Fold = 2, mae = 2.20\n",
      "Fold = 3, mae = 1.96\n",
      "Fold = 4, mae = 1.48\n",
      "Fold = 5, mae = 2.26\n",
      "------------------------------\n",
      "Average Error: 1.922917254429953\n",
      "------------------------------\n",
      "Fold = 1, mae = 1.71\n",
      "Fold = 2, mae = 2.17\n",
      "Fold = 3, mae = 1.96\n",
      "Fold = 4, mae = 1.48\n",
      "Fold = 5, mae = 2.28\n",
      "------------------------------\n",
      "Average Error: 1.9208253684317793\n",
      "------------------------------\n",
      "Fold = 1, mae = 1.71\n",
      "Fold = 2, mae = 2.17\n",
      "Fold = 3, mae = 1.96\n",
      "Fold = 4, mae = 1.48\n",
      "Fold = 5, mae = 2.29\n",
      "------------------------------\n",
      "Average Error: 1.9211607287301775\n",
      "------------------------------\n",
      "Fold = 1, mae = 1.71\n",
      "Fold = 2, mae = 2.17\n",
      "Fold = 3, mae = 1.96\n",
      "Fold = 4, mae = 1.48\n",
      "Fold = 5, mae = 2.29\n",
      "------------------------------\n",
      "Average Error: 1.921194207101919\n",
      "------------------------------\n",
      "Fold = 1, mae = 1.71\n",
      "Fold = 2, mae = 2.17\n",
      "Fold = 3, mae = 1.96\n",
      "Fold = 4, mae = 1.48\n",
      "Fold = 5, mae = 2.29\n",
      "------------------------------\n",
      "Average Error: 1.9211975540604922\n",
      "------------------------------\n",
      "Fold = 1, mae = 1.71\n",
      "Fold = 2, mae = 2.17\n",
      "Fold = 3, mae = 1.96\n",
      "Fold = 4, mae = 1.48\n",
      "Fold = 5, mae = 2.29\n",
      "------------------------------\n",
      "Average Error: 1.9211978887472454\n",
      "------------------------------\n",
      "Fold = 1, mae = 1.71\n",
      "Fold = 2, mae = 2.17\n",
      "Fold = 3, mae = 1.96\n",
      "Fold = 4, mae = 1.48\n",
      "Fold = 5, mae = 2.29\n",
      "------------------------------\n",
      "Average Error: 1.9211979222158277\n",
      "------------------------------\n"
     ]
    }
   ],
   "source": [
    "for i in [100, 10, 1, 0.1, 0.01, 0.001, 0.0001]:\n",
    "    ridge = Ridge(alpha=i)\n",
    "    mae_kfold(ridge)"
   ]
  },
  {
   "cell_type": "markdown",
   "id": "229dbbc3",
   "metadata": {},
   "source": [
    "## Lasso"
   ]
  },
  {
   "cell_type": "code",
   "execution_count": 16,
   "id": "00672d13",
   "metadata": {},
   "outputs": [
    {
     "name": "stdout",
     "output_type": "stream",
     "text": [
      "100 : 0.243 0.415 mae: 2.275\n",
      "10 : 0.59 0.492 mae: 2.128\n",
      "1 : 0.644 0.463 mae: 2.196\n",
      "0.1 : 0.668 0.506 mae: 2.1\n",
      "0.01 : 0.668 0.506 mae: 2.094\n",
      "0.001 : 0.668 0.506 mae: 2.093\n",
      "0.0001 : 0.668 0.506 mae: 2.093\n"
     ]
    }
   ],
   "source": [
    "# lasso\n",
    "alphas_finder(Lasso)"
   ]
  },
  {
   "cell_type": "code",
   "execution_count": 17,
   "id": "7d866653",
   "metadata": {},
   "outputs": [
    {
     "name": "stdout",
     "output_type": "stream",
     "text": [
      "Fold = 1, mae = 2.11\n",
      "Fold = 2, mae = 2.52\n",
      "Fold = 3, mae = 2.54\n",
      "Fold = 4, mae = 2.73\n",
      "Fold = 5, mae = 3.58\n",
      "------------------------------\n",
      "Average Error: 2.6970044258891983\n",
      "------------------------------\n",
      "Fold = 1, mae = 1.73\n",
      "Fold = 2, mae = 2.22\n",
      "Fold = 3, mae = 2.06\n",
      "Fold = 4, mae = 1.77\n",
      "Fold = 5, mae = 2.62\n",
      "------------------------------\n",
      "Average Error: 2.078573420615048\n",
      "------------------------------\n",
      "Fold = 1, mae = 1.72\n",
      "Fold = 2, mae = 2.26\n",
      "Fold = 3, mae = 2.00\n",
      "Fold = 4, mae = 1.53\n",
      "Fold = 5, mae = 2.26\n",
      "------------------------------\n",
      "Average Error: 1.9554597294844172\n",
      "------------------------------\n",
      "Fold = 1, mae = 1.71\n",
      "Fold = 2, mae = 2.17\n",
      "Fold = 3, mae = 1.95\n",
      "Fold = 4, mae = 1.48\n",
      "Fold = 5, mae = 2.28\n",
      "------------------------------\n",
      "Average Error: 1.9197276772040541\n",
      "------------------------------\n",
      "Fold = 1, mae = 1.71\n",
      "Fold = 2, mae = 2.17\n",
      "Fold = 3, mae = 1.96\n",
      "Fold = 4, mae = 1.48\n",
      "Fold = 5, mae = 2.29\n",
      "------------------------------\n",
      "Average Error: 1.9210394307500827\n",
      "------------------------------\n",
      "Fold = 1, mae = 1.71\n",
      "Fold = 2, mae = 2.17\n",
      "Fold = 3, mae = 1.96\n",
      "Fold = 4, mae = 1.48\n",
      "Fold = 5, mae = 2.29\n",
      "------------------------------\n",
      "Average Error: 1.9211820588495385\n",
      "------------------------------\n",
      "Fold = 1, mae = 1.71\n",
      "Fold = 2, mae = 2.17\n",
      "Fold = 3, mae = 1.96\n",
      "Fold = 4, mae = 1.48\n",
      "Fold = 5, mae = 2.29\n",
      "------------------------------\n",
      "Average Error: 1.9211963418227178\n",
      "------------------------------\n"
     ]
    }
   ],
   "source": [
    "for i in [100, 10, 1, 0.1, 0.01, 0.001, 0.0001]:\n",
    "    lasso = Lasso(alpha=i)\n",
    "    mae_kfold(lasso)"
   ]
  },
  {
   "cell_type": "markdown",
   "id": "699c642b",
   "metadata": {},
   "source": [
    "## ElasticNet"
   ]
  },
  {
   "cell_type": "code",
   "execution_count": 18,
   "id": "a214258a",
   "metadata": {},
   "outputs": [
    {
     "name": "stdout",
     "output_type": "stream",
     "text": [
      "100 : 0.277 0.424 mae: 2.232\n",
      "10 : 0.62 0.469 mae: 2.177\n",
      "1 : 0.659 0.49 mae: 2.145\n",
      "0.1 : 0.668 0.506 mae: 2.098\n",
      "0.01 : 0.668 0.506 mae: 2.094\n",
      "0.001 : 0.668 0.506 mae: 2.093\n",
      "0.0001 : 0.668 0.506 mae: 2.093\n"
     ]
    }
   ],
   "source": [
    "alphas_finder(ElasticNet)"
   ]
  },
  {
   "cell_type": "code",
   "execution_count": 19,
   "id": "1f594038",
   "metadata": {},
   "outputs": [
    {
     "name": "stdout",
     "output_type": "stream",
     "text": [
      "Fold = 1, mae = 2.01\n",
      "Fold = 2, mae = 2.55\n",
      "Fold = 3, mae = 2.30\n",
      "Fold = 4, mae = 2.63\n",
      "Fold = 5, mae = 3.44\n",
      "------------------------------\n",
      "Average Error: 2.5855055242219103\n",
      "------------------------------\n",
      "Fold = 1, mae = 1.75\n",
      "Fold = 2, mae = 2.27\n",
      "Fold = 3, mae = 2.01\n",
      "Fold = 4, mae = 1.63\n",
      "Fold = 5, mae = 2.39\n",
      "------------------------------\n",
      "Average Error: 2.012224875334317\n",
      "------------------------------\n",
      "Fold = 1, mae = 1.71\n",
      "Fold = 2, mae = 2.21\n",
      "Fold = 3, mae = 1.98\n",
      "Fold = 4, mae = 1.49\n",
      "Fold = 5, mae = 2.26\n",
      "------------------------------\n",
      "Average Error: 1.9303151692182206\n",
      "------------------------------\n",
      "Fold = 1, mae = 1.71\n",
      "Fold = 2, mae = 2.17\n",
      "Fold = 3, mae = 1.95\n",
      "Fold = 4, mae = 1.48\n",
      "Fold = 5, mae = 2.28\n",
      "------------------------------\n",
      "Average Error: 1.920276313134161\n",
      "------------------------------\n",
      "Fold = 1, mae = 1.71\n",
      "Fold = 2, mae = 2.17\n",
      "Fold = 3, mae = 1.96\n",
      "Fold = 4, mae = 1.48\n",
      "Fold = 5, mae = 2.29\n",
      "------------------------------\n",
      "Average Error: 1.921100341483615\n",
      "------------------------------\n",
      "Fold = 1, mae = 1.71\n",
      "Fold = 2, mae = 2.17\n",
      "Fold = 3, mae = 1.96\n",
      "Fold = 4, mae = 1.48\n",
      "Fold = 5, mae = 2.29\n",
      "------------------------------\n",
      "Average Error: 1.9211881451590542\n",
      "------------------------------\n",
      "Fold = 1, mae = 1.71\n",
      "Fold = 2, mae = 2.17\n",
      "Fold = 3, mae = 1.96\n",
      "Fold = 4, mae = 1.48\n",
      "Fold = 5, mae = 2.29\n",
      "------------------------------\n",
      "Average Error: 1.9211969479561133\n",
      "------------------------------\n"
     ]
    }
   ],
   "source": [
    "\n",
    "for i in [100, 10, 1, 0.1, 0.01, 0.001, 0.0001]:\n",
    "    elastic = ElasticNet(alpha=i)\n",
    "    mae_kfold(elastic)"
   ]
  },
  {
   "cell_type": "markdown",
   "id": "24200ae9",
   "metadata": {},
   "source": [
    "## XGboost"
   ]
  },
  {
   "cell_type": "code",
   "execution_count": 20,
   "id": "8b2cdb82",
   "metadata": {},
   "outputs": [
    {
     "name": "stdout",
     "output_type": "stream",
     "text": [
      "0.9999999564311066 0.3036318337580656 2.592367058831293\n"
     ]
    }
   ],
   "source": [
    "#XG boost\n",
    "xgbr = XGBRegressor()\n",
    "xgbr.fit(X_train, y_train)\n",
    "print(xgbr.score(X_train, y_train), xgbr.score(X_test, y_test),mean_absolute_error(xgbr.predict(X_test), y_test))"
   ]
  },
  {
   "cell_type": "code",
   "execution_count": 21,
   "id": "b80af59b",
   "metadata": {},
   "outputs": [
    {
     "name": "stdout",
     "output_type": "stream",
     "text": [
      "Fold = 1, mae = 2.76\n",
      "Fold = 2, mae = 2.36\n",
      "Fold = 3, mae = 2.37\n",
      "Fold = 4, mae = 2.04\n",
      "Fold = 5, mae = 2.72\n",
      "------------------------------\n",
      "Average Error: 2.450727062225341\n",
      "------------------------------\n"
     ]
    }
   ],
   "source": [
    "#XG boost교차검증\n",
    "mae_kfold(xgbr)"
   ]
  },
  {
   "cell_type": "code",
   "execution_count": 22,
   "id": "9cbd7528",
   "metadata": {},
   "outputs": [
    {
     "name": "stdout",
     "output_type": "stream",
     "text": [
      "0.9999999814131822 -0.049638450149519064 3.0708950558224233\n"
     ]
    }
   ],
   "source": [
    "#XG boost 튜닝\n",
    "xgbr = XGBRegressor(n_estimators = 400, learning_rate = 1, max_depth = 3, objective=\"reg:squarederror\")\n",
    "xgbr.fit(X_train, y_train)\n",
    "print(xgbr.score(X_train, y_train), xgbr.score(X_test, y_test),mean_absolute_error(xgbr.predict(X_test), y_test))"
   ]
  },
  {
   "cell_type": "code",
   "execution_count": 23,
   "id": "95242784",
   "metadata": {},
   "outputs": [
    {
     "name": "stdout",
     "output_type": "stream",
     "text": [
      "Fold = 1, mae = 3.34\n",
      "Fold = 2, mae = 3.13\n",
      "Fold = 3, mae = 2.52\n",
      "Fold = 4, mae = 2.66\n",
      "Fold = 5, mae = 3.39\n",
      "------------------------------\n",
      "Average Error: 3.006379301452636\n",
      "------------------------------\n"
     ]
    }
   ],
   "source": [
    "#XG boost교차검증\n",
    "mae_kfold(xgbr)"
   ]
  },
  {
   "cell_type": "markdown",
   "id": "770fef44",
   "metadata": {},
   "source": [
    "## lightgbm"
   ]
  },
  {
   "cell_type": "code",
   "execution_count": 24,
   "id": "cd58493f",
   "metadata": {},
   "outputs": [
    {
     "name": "stdout",
     "output_type": "stream",
     "text": [
      "0.773177047559506 0.25541070519948783 2.603127233610434\n"
     ]
    }
   ],
   "source": [
    "#lightgbm\n",
    "lgbm = LGBMRegressor()\n",
    "lgbm.fit(X_train, y_train)\n",
    "print(lgbm.score(X_train, y_train), lgbm.score(X_test, y_test),mean_absolute_error(lgbm.predict(X_test), y_test))"
   ]
  },
  {
   "cell_type": "code",
   "execution_count": 25,
   "id": "9cfd5e32",
   "metadata": {},
   "outputs": [
    {
     "name": "stdout",
     "output_type": "stream",
     "text": [
      "Fold = 1, mae = 3.34\n",
      "Fold = 2, mae = 3.13\n",
      "Fold = 3, mae = 2.52\n",
      "Fold = 4, mae = 2.66\n",
      "Fold = 5, mae = 3.39\n",
      "------------------------------\n",
      "Average Error: 3.006379301452636\n",
      "------------------------------\n"
     ]
    }
   ],
   "source": [
    "#lightgbm교차검증\n",
    "mae_kfold(xgbr)"
   ]
  },
  {
   "cell_type": "markdown",
   "id": "cfe50b46",
   "metadata": {},
   "source": [
    "-----------\n",
    "# 2. Scaling"
   ]
  },
  {
   "cell_type": "markdown",
   "id": "a84d4059",
   "metadata": {},
   "source": [
    "### 각변수 minmaxscaling\n",
    "\n"
   ]
  },
  {
   "cell_type": "code",
   "execution_count": 7,
   "id": "e627c860",
   "metadata": {},
   "outputs": [],
   "source": [
    "#각 변수들을 스케일링 하는 함수\n",
    "\n",
    "def minmax_scaling(df, scale_columns):\n",
    "    for col in scale_columns:\n",
    "        series_min = df[col].min()\n",
    "        series_max = df[col].max()\n",
    "        df[col] = df[col].apply(lambda x: (x-series_min)/(series_max-series_min))\n",
    "        \n",
    "            \n",
    "    return df"
   ]
  },
  {
   "cell_type": "code",
   "execution_count": 8,
   "id": "175382e8",
   "metadata": {},
   "outputs": [
    {
     "data": {
      "text/plain": [
       "Index(['crm_clue_자수', 'crm_clue_타인신고', 'crm_clue_현행범', 'crm_clue_탐문정보',\n",
       "       'vic_sx_2', '기초수급_19세이하', '기초수급_20_34세', 'crm_tm_새벽', '화재_사망',\n",
       "       'cctv_개수', '배치인원_수', '비상벨_개수', '일인가구수', 'score_법질서'],\n",
       "      dtype='object')"
      ]
     },
     "execution_count": 8,
     "metadata": {},
     "output_type": "execute_result"
    }
   ],
   "source": [
    "df.columns"
   ]
  },
  {
   "cell_type": "code",
   "execution_count": 9,
   "id": "7123ad2e",
   "metadata": {
    "scrolled": true
   },
   "outputs": [
    {
     "data": {
      "text/html": [
       "<div>\n",
       "<style scoped>\n",
       "    .dataframe tbody tr th:only-of-type {\n",
       "        vertical-align: middle;\n",
       "    }\n",
       "\n",
       "    .dataframe tbody tr th {\n",
       "        vertical-align: top;\n",
       "    }\n",
       "\n",
       "    .dataframe thead th {\n",
       "        text-align: right;\n",
       "    }\n",
       "</style>\n",
       "<table border=\"1\" class=\"dataframe\">\n",
       "  <thead>\n",
       "    <tr style=\"text-align: right;\">\n",
       "      <th></th>\n",
       "      <th>crm_clue_자수</th>\n",
       "      <th>crm_clue_타인신고</th>\n",
       "      <th>crm_clue_현행범</th>\n",
       "      <th>crm_clue_탐문정보</th>\n",
       "      <th>vic_sx_2</th>\n",
       "      <th>기초수급_19세이하</th>\n",
       "      <th>기초수급_20_34세</th>\n",
       "      <th>crm_tm_새벽</th>\n",
       "      <th>화재_사망</th>\n",
       "      <th>cctv_개수</th>\n",
       "      <th>배치인원_수</th>\n",
       "      <th>비상벨_개수</th>\n",
       "      <th>일인가구수</th>\n",
       "      <th>score_법질서</th>\n",
       "    </tr>\n",
       "  </thead>\n",
       "  <tbody>\n",
       "    <tr>\n",
       "      <th>0</th>\n",
       "      <td>0.497041</td>\n",
       "      <td>1.000000</td>\n",
       "      <td>0.625576</td>\n",
       "      <td>0.626609</td>\n",
       "      <td>0.673776</td>\n",
       "      <td>0.476709</td>\n",
       "      <td>0.284368</td>\n",
       "      <td>0.942928</td>\n",
       "      <td>0.142857</td>\n",
       "      <td>0.730191</td>\n",
       "      <td>0.643392</td>\n",
       "      <td>0.002812</td>\n",
       "      <td>0.423996</td>\n",
       "      <td>67.60</td>\n",
       "    </tr>\n",
       "    <tr>\n",
       "      <th>1</th>\n",
       "      <td>0.236686</td>\n",
       "      <td>0.483165</td>\n",
       "      <td>0.414747</td>\n",
       "      <td>0.283262</td>\n",
       "      <td>0.380332</td>\n",
       "      <td>0.476709</td>\n",
       "      <td>0.284368</td>\n",
       "      <td>0.460298</td>\n",
       "      <td>0.071429</td>\n",
       "      <td>0.451078</td>\n",
       "      <td>0.301746</td>\n",
       "      <td>0.000562</td>\n",
       "      <td>0.216117</td>\n",
       "      <td>64.90</td>\n",
       "    </tr>\n",
       "    <tr>\n",
       "      <th>2</th>\n",
       "      <td>0.585799</td>\n",
       "      <td>0.500000</td>\n",
       "      <td>0.690092</td>\n",
       "      <td>0.412017</td>\n",
       "      <td>0.600711</td>\n",
       "      <td>0.476709</td>\n",
       "      <td>0.284368</td>\n",
       "      <td>0.526055</td>\n",
       "      <td>0.000000</td>\n",
       "      <td>0.688014</td>\n",
       "      <td>0.488778</td>\n",
       "      <td>0.004499</td>\n",
       "      <td>0.323532</td>\n",
       "      <td>66.10</td>\n",
       "    </tr>\n",
       "    <tr>\n",
       "      <th>3</th>\n",
       "      <td>0.076923</td>\n",
       "      <td>0.159933</td>\n",
       "      <td>0.177419</td>\n",
       "      <td>0.321888</td>\n",
       "      <td>0.159558</td>\n",
       "      <td>0.698292</td>\n",
       "      <td>0.354395</td>\n",
       "      <td>0.143921</td>\n",
       "      <td>0.142857</td>\n",
       "      <td>0.187316</td>\n",
       "      <td>0.119701</td>\n",
       "      <td>0.006187</td>\n",
       "      <td>0.143554</td>\n",
       "      <td>64.65</td>\n",
       "    </tr>\n",
       "    <tr>\n",
       "      <th>4</th>\n",
       "      <td>0.230769</td>\n",
       "      <td>0.225589</td>\n",
       "      <td>0.052995</td>\n",
       "      <td>0.278970</td>\n",
       "      <td>0.108215</td>\n",
       "      <td>0.698292</td>\n",
       "      <td>0.354395</td>\n",
       "      <td>0.090571</td>\n",
       "      <td>0.000000</td>\n",
       "      <td>0.140022</td>\n",
       "      <td>0.012469</td>\n",
       "      <td>0.006749</td>\n",
       "      <td>0.155186</td>\n",
       "      <td>69.00</td>\n",
       "    </tr>\n",
       "    <tr>\n",
       "      <th>...</th>\n",
       "      <td>...</td>\n",
       "      <td>...</td>\n",
       "      <td>...</td>\n",
       "      <td>...</td>\n",
       "      <td>...</td>\n",
       "      <td>...</td>\n",
       "      <td>...</td>\n",
       "      <td>...</td>\n",
       "      <td>...</td>\n",
       "      <td>...</td>\n",
       "      <td>...</td>\n",
       "      <td>...</td>\n",
       "      <td>...</td>\n",
       "      <td>...</td>\n",
       "    </tr>\n",
       "    <tr>\n",
       "      <th>118</th>\n",
       "      <td>0.035503</td>\n",
       "      <td>0.072391</td>\n",
       "      <td>0.120968</td>\n",
       "      <td>0.025751</td>\n",
       "      <td>0.034755</td>\n",
       "      <td>0.368079</td>\n",
       "      <td>0.384495</td>\n",
       "      <td>0.043424</td>\n",
       "      <td>0.000000</td>\n",
       "      <td>0.286091</td>\n",
       "      <td>0.097257</td>\n",
       "      <td>0.280652</td>\n",
       "      <td>0.179222</td>\n",
       "      <td>69.75</td>\n",
       "    </tr>\n",
       "    <tr>\n",
       "      <th>119</th>\n",
       "      <td>0.065089</td>\n",
       "      <td>0.375421</td>\n",
       "      <td>0.543779</td>\n",
       "      <td>0.103004</td>\n",
       "      <td>0.294234</td>\n",
       "      <td>0.580343</td>\n",
       "      <td>0.506934</td>\n",
       "      <td>0.373449</td>\n",
       "      <td>0.071429</td>\n",
       "      <td>0.691425</td>\n",
       "      <td>0.670823</td>\n",
       "      <td>1.000000</td>\n",
       "      <td>0.418713</td>\n",
       "      <td>66.30</td>\n",
       "    </tr>\n",
       "    <tr>\n",
       "      <th>120</th>\n",
       "      <td>0.011834</td>\n",
       "      <td>0.170034</td>\n",
       "      <td>0.266129</td>\n",
       "      <td>0.047210</td>\n",
       "      <td>0.155213</td>\n",
       "      <td>0.023831</td>\n",
       "      <td>0.042002</td>\n",
       "      <td>0.136476</td>\n",
       "      <td>0.214286</td>\n",
       "      <td>0.240813</td>\n",
       "      <td>0.246883</td>\n",
       "      <td>0.190664</td>\n",
       "      <td>0.130084</td>\n",
       "      <td>68.15</td>\n",
       "    </tr>\n",
       "    <tr>\n",
       "      <th>121</th>\n",
       "      <td>0.000000</td>\n",
       "      <td>0.153199</td>\n",
       "      <td>0.220046</td>\n",
       "      <td>0.072961</td>\n",
       "      <td>0.068720</td>\n",
       "      <td>0.008716</td>\n",
       "      <td>0.045678</td>\n",
       "      <td>0.081886</td>\n",
       "      <td>0.285714</td>\n",
       "      <td>0.120019</td>\n",
       "      <td>0.189526</td>\n",
       "      <td>0.023622</td>\n",
       "      <td>0.323076</td>\n",
       "      <td>66.40</td>\n",
       "    </tr>\n",
       "    <tr>\n",
       "      <th>122</th>\n",
       "      <td>0.000000</td>\n",
       "      <td>0.106061</td>\n",
       "      <td>0.020737</td>\n",
       "      <td>0.030043</td>\n",
       "      <td>0.062796</td>\n",
       "      <td>0.153331</td>\n",
       "      <td>0.101292</td>\n",
       "      <td>0.016129</td>\n",
       "      <td>0.000000</td>\n",
       "      <td>0.390293</td>\n",
       "      <td>0.102244</td>\n",
       "      <td>0.021935</td>\n",
       "      <td>0.306024</td>\n",
       "      <td>72.95</td>\n",
       "    </tr>\n",
       "  </tbody>\n",
       "</table>\n",
       "<p>123 rows × 14 columns</p>\n",
       "</div>"
      ],
      "text/plain": [
       "     crm_clue_자수  crm_clue_타인신고  crm_clue_현행범  crm_clue_탐문정보  vic_sx_2  \\\n",
       "0       0.497041       1.000000      0.625576       0.626609  0.673776   \n",
       "1       0.236686       0.483165      0.414747       0.283262  0.380332   \n",
       "2       0.585799       0.500000      0.690092       0.412017  0.600711   \n",
       "3       0.076923       0.159933      0.177419       0.321888  0.159558   \n",
       "4       0.230769       0.225589      0.052995       0.278970  0.108215   \n",
       "..           ...            ...           ...            ...       ...   \n",
       "118     0.035503       0.072391      0.120968       0.025751  0.034755   \n",
       "119     0.065089       0.375421      0.543779       0.103004  0.294234   \n",
       "120     0.011834       0.170034      0.266129       0.047210  0.155213   \n",
       "121     0.000000       0.153199      0.220046       0.072961  0.068720   \n",
       "122     0.000000       0.106061      0.020737       0.030043  0.062796   \n",
       "\n",
       "     기초수급_19세이하  기초수급_20_34세  crm_tm_새벽     화재_사망   cctv_개수    배치인원_수  \\\n",
       "0      0.476709     0.284368   0.942928  0.142857  0.730191  0.643392   \n",
       "1      0.476709     0.284368   0.460298  0.071429  0.451078  0.301746   \n",
       "2      0.476709     0.284368   0.526055  0.000000  0.688014  0.488778   \n",
       "3      0.698292     0.354395   0.143921  0.142857  0.187316  0.119701   \n",
       "4      0.698292     0.354395   0.090571  0.000000  0.140022  0.012469   \n",
       "..          ...          ...        ...       ...       ...       ...   \n",
       "118    0.368079     0.384495   0.043424  0.000000  0.286091  0.097257   \n",
       "119    0.580343     0.506934   0.373449  0.071429  0.691425  0.670823   \n",
       "120    0.023831     0.042002   0.136476  0.214286  0.240813  0.246883   \n",
       "121    0.008716     0.045678   0.081886  0.285714  0.120019  0.189526   \n",
       "122    0.153331     0.101292   0.016129  0.000000  0.390293  0.102244   \n",
       "\n",
       "       비상벨_개수     일인가구수  score_법질서  \n",
       "0    0.002812  0.423996      67.60  \n",
       "1    0.000562  0.216117      64.90  \n",
       "2    0.004499  0.323532      66.10  \n",
       "3    0.006187  0.143554      64.65  \n",
       "4    0.006749  0.155186      69.00  \n",
       "..        ...       ...        ...  \n",
       "118  0.280652  0.179222      69.75  \n",
       "119  1.000000  0.418713      66.30  \n",
       "120  0.190664  0.130084      68.15  \n",
       "121  0.023622  0.323076      66.40  \n",
       "122  0.021935  0.306024      72.95  \n",
       "\n",
       "[123 rows x 14 columns]"
      ]
     },
     "execution_count": 9,
     "metadata": {},
     "output_type": "execute_result"
    }
   ],
   "source": [
    "minmax_scaling(df, df.columns[:-1])"
   ]
  },
  {
   "cell_type": "markdown",
   "id": "5df1b5d9",
   "metadata": {},
   "source": [
    "# 설명력 보기위한 모델링"
   ]
  },
  {
   "cell_type": "code",
   "execution_count": 10,
   "id": "e3bee892",
   "metadata": {},
   "outputs": [],
   "source": [
    "# train, test 분리\n",
    "X_train, X_test, y_train, y_test  = train_test_split(df.iloc[:,:-1], df[\"score_법질서\"],test_size = 0.3, random_state=0)"
   ]
  },
  {
   "cell_type": "code",
   "execution_count": 11,
   "id": "b19b8097",
   "metadata": {},
   "outputs": [],
   "source": [
    "X = np.array(df.drop('score_법질서', 1))\n",
    "Y = np.array(df['score_법질서'])"
   ]
  },
  {
   "cell_type": "code",
   "execution_count": 9,
   "id": "e245c722",
   "metadata": {},
   "outputs": [
    {
     "name": "stdout",
     "output_type": "stream",
     "text": [
      "0.668206345027756 0.506268687981873 2.093028915243334\n"
     ]
    }
   ],
   "source": [
    "#다중회귀\n",
    "lr = LinearRegression()\n",
    "lr.fit(X_train, y_train)\n",
    "print(lr.score(X_train, y_train), lr.score(X_test, y_test),mean_absolute_error(lr.predict(X_test), y_test))"
   ]
  },
  {
   "cell_type": "code",
   "execution_count": 32,
   "id": "815399d5",
   "metadata": {},
   "outputs": [
    {
     "name": "stdout",
     "output_type": "stream",
     "text": [
      "Fold = 1, mae = 1.71\n",
      "Fold = 2, mae = 2.17\n",
      "Fold = 3, mae = 1.96\n",
      "Fold = 4, mae = 1.48\n",
      "Fold = 5, mae = 2.29\n",
      "------------------------------\n",
      "Average Error: 1.9211979259345575\n",
      "------------------------------\n"
     ]
    }
   ],
   "source": [
    "# 다중회귀  교차검증\n",
    "mae_kfold(lr)"
   ]
  },
  {
   "cell_type": "markdown",
   "id": "87326109",
   "metadata": {},
   "source": [
    "## ridge"
   ]
  },
  {
   "cell_type": "code",
   "execution_count": 13,
   "id": "cf49d2ef",
   "metadata": {},
   "outputs": [
    {
     "name": "stdout",
     "output_type": "stream",
     "text": [
      "100 : 0.041 0.036 mae: 3.013\n",
      "10 : 0.209 0.182 mae: 2.724\n",
      "1 : 0.503 0.457 mae: 2.057\n",
      "0.1 : 0.653 0.578 mae: 1.912\n",
      "0.01 : 0.668 0.52 mae: 2.061\n",
      "0.001 : 0.668 0.508 mae: 2.09\n",
      "0.0001 : 0.668 0.506 mae: 2.093\n"
     ]
    }
   ],
   "source": [
    "# ridge\n",
    "alphas_finder(Ridge)"
   ]
  },
  {
   "cell_type": "code",
   "execution_count": 14,
   "id": "34b359e9",
   "metadata": {},
   "outputs": [
    {
     "name": "stdout",
     "output_type": "stream",
     "text": [
      "Fold = 1, mae = 2.81\n",
      "Fold = 2, mae = 2.97\n",
      "Fold = 3, mae = 2.64\n",
      "Fold = 4, mae = 2.99\n",
      "Fold = 5, mae = 3.43\n",
      "------------------------------\n",
      "Average Error: 2.96970096603373\n",
      "------------------------------\n",
      "Fold = 1, mae = 2.46\n",
      "Fold = 2, mae = 2.86\n",
      "Fold = 3, mae = 2.37\n",
      "Fold = 4, mae = 2.61\n",
      "Fold = 5, mae = 3.12\n",
      "------------------------------\n",
      "Average Error: 2.6835033731666047\n",
      "------------------------------\n",
      "Fold = 1, mae = 1.67\n",
      "Fold = 2, mae = 2.37\n",
      "Fold = 3, mae = 1.91\n",
      "Fold = 4, mae = 1.91\n",
      "Fold = 5, mae = 2.61\n",
      "------------------------------\n",
      "Average Error: 2.093716437342189\n",
      "------------------------------\n",
      "Fold = 1, mae = 1.57\n",
      "Fold = 2, mae = 2.17\n",
      "Fold = 3, mae = 1.88\n",
      "Fold = 4, mae = 1.53\n",
      "Fold = 5, mae = 2.33\n",
      "------------------------------\n",
      "Average Error: 1.8991734432184775\n",
      "------------------------------\n",
      "Fold = 1, mae = 1.69\n",
      "Fold = 2, mae = 2.17\n",
      "Fold = 3, mae = 1.94\n",
      "Fold = 4, mae = 1.49\n",
      "Fold = 5, mae = 2.29\n",
      "------------------------------\n",
      "Average Error: 1.9152114902388333\n",
      "------------------------------\n",
      "Fold = 1, mae = 1.71\n",
      "Fold = 2, mae = 2.17\n",
      "Fold = 3, mae = 1.96\n",
      "Fold = 4, mae = 1.48\n",
      "Fold = 5, mae = 2.29\n",
      "------------------------------\n",
      "Average Error: 1.9205583411063134\n",
      "------------------------------\n",
      "Fold = 1, mae = 1.71\n",
      "Fold = 2, mae = 2.17\n",
      "Fold = 3, mae = 1.96\n",
      "Fold = 4, mae = 1.48\n",
      "Fold = 5, mae = 2.29\n",
      "------------------------------\n",
      "Average Error: 1.9211322647983504\n",
      "------------------------------\n"
     ]
    }
   ],
   "source": [
    "#best1, 1.89\n",
    "for i in [100, 10, 1, 0.1, 0.01, 0.001, 0.0001]:\n",
    "    ridge = Ridge(alpha=i)\n",
    "    mae_kfold(ridge)"
   ]
  },
  {
   "cell_type": "code",
   "execution_count": 12,
   "id": "9e9856b4",
   "metadata": {},
   "outputs": [
    {
     "data": {
      "text/plain": [
       "Ridge(alpha=0.1)"
      ]
     },
     "execution_count": 12,
     "metadata": {},
     "output_type": "execute_result"
    }
   ],
   "source": [
    "ridge = Ridge(alpha=0.1)\n",
    "ridge.fit(X_train, y_train)"
   ]
  },
  {
   "cell_type": "code",
   "execution_count": 13,
   "id": "70db227e",
   "metadata": {},
   "outputs": [],
   "source": [
    "def plot_coef(columns, coef):\n",
    "    coef_df = pd.DataFrame(list(zip(columns, coef)))\n",
    "    coef_df.columns=['feature', 'coef']\n",
    "    coef_df = coef_df.sort_values('coef').reset_index(drop=True)\n",
    "    \n",
    "    fig, ax = plt.subplots(figsize=(7, 5))\n",
    "    ax.barh(np.arange(len(coef_df)), coef_df['coef'], color = \"orange\", alpha = 0.8)\n",
    "    idx = np.arange(len(coef_df))\n",
    "    ax.set_yticks(idx)\n",
    "    ax.set_yticklabels(coef_df['feature'])\n",
    "    fig.tight_layout()\n",
    "    \n",
    "    #plt.show()\n",
    "    "
   ]
  },
  {
   "cell_type": "code",
   "execution_count": 14,
   "id": "38deb3f0",
   "metadata": {},
   "outputs": [
    {
     "data": {
      "image/png": "[encoded data removed]",
      "text/plain": [
       "<Figure size 504x360 with 1 Axes>"
      ]
     },
     "metadata": {
      "needs_background": "light"
     },
     "output_type": "display_data"
    }
   ],
   "source": [
    "plot_coef(X_train.columns, np.ravel(ridge.coef_) )\n",
    "plt.savefig('../이미지/변수영향도_법질서안전도.png', dpi=200,bbox_inches='tight')"
   ]
  },
  {
   "cell_type": "code",
   "execution_count": null,
   "id": "0b8749c0",
   "metadata": {},
   "outputs": [],
   "source": []
  },
  {
   "cell_type": "code",
   "execution_count": null,
   "id": "02d19f58",
   "metadata": {},
   "outputs": [],
   "source": []
  },
  {
   "cell_type": "markdown",
   "id": "b699697f",
   "metadata": {},
   "source": [
    "## Lasso"
   ]
  },
  {
   "cell_type": "code",
   "execution_count": 35,
   "id": "12a5b86b",
   "metadata": {},
   "outputs": [
    {
     "name": "stdout",
     "output_type": "stream",
     "text": [
      "100 : 0.0 -0.012 mae: 3.1\n",
      "10 : 0.0 -0.012 mae: 3.1\n",
      "1 : 0.0 -0.012 mae: 3.1\n",
      "0.1 : 0.286 0.073 mae: 2.816\n",
      "0.01 : 0.651 0.571 mae: 1.932\n",
      "0.001 : 0.668 0.518 mae: 2.067\n",
      "0.0001 : 0.668 0.507 mae: 2.09\n"
     ]
    }
   ],
   "source": [
    "# lasso\n",
    "alphas_finder(Lasso)"
   ]
  },
  {
   "cell_type": "code",
   "execution_count": 36,
   "id": "c303bdd6",
   "metadata": {},
   "outputs": [
    {
     "name": "stdout",
     "output_type": "stream",
     "text": [
      "Fold = 1, mae = 2.93\n",
      "Fold = 2, mae = 3.00\n",
      "Fold = 3, mae = 2.72\n",
      "Fold = 4, mae = 3.11\n",
      "Fold = 5, mae = 3.53\n",
      "------------------------------\n",
      "Average Error: 3.059333137497424\n",
      "------------------------------\n",
      "Fold = 1, mae = 2.93\n",
      "Fold = 2, mae = 3.00\n",
      "Fold = 3, mae = 2.72\n",
      "Fold = 4, mae = 3.11\n",
      "Fold = 5, mae = 3.53\n",
      "------------------------------\n",
      "Average Error: 3.059333137497424\n",
      "------------------------------\n",
      "Fold = 1, mae = 2.93\n",
      "Fold = 2, mae = 3.00\n",
      "Fold = 3, mae = 2.72\n",
      "Fold = 4, mae = 3.11\n",
      "Fold = 5, mae = 3.53\n",
      "------------------------------\n",
      "Average Error: 3.059333137497424\n",
      "------------------------------\n",
      "Fold = 1, mae = 2.43\n",
      "Fold = 2, mae = 2.87\n",
      "Fold = 3, mae = 2.32\n",
      "Fold = 4, mae = 2.59\n",
      "Fold = 5, mae = 3.09\n",
      "------------------------------\n",
      "Average Error: 2.6597662950776693\n",
      "------------------------------\n",
      "Fold = 1, mae = 1.60\n",
      "Fold = 2, mae = 2.25\n",
      "Fold = 3, mae = 1.92\n",
      "Fold = 4, mae = 1.54\n",
      "Fold = 5, mae = 2.38\n",
      "------------------------------\n",
      "Average Error: 1.9399328173660844\n",
      "------------------------------\n",
      "Fold = 1, mae = 1.70\n",
      "Fold = 2, mae = 2.17\n",
      "Fold = 3, mae = 1.95\n",
      "Fold = 4, mae = 1.48\n",
      "Fold = 5, mae = 2.30\n",
      "------------------------------\n",
      "Average Error: 1.9199239741942318\n",
      "------------------------------\n",
      "Fold = 1, mae = 1.71\n",
      "Fold = 2, mae = 2.17\n",
      "Fold = 3, mae = 1.96\n",
      "Fold = 4, mae = 1.48\n",
      "Fold = 5, mae = 2.29\n",
      "------------------------------\n",
      "Average Error: 1.9210545050386432\n",
      "------------------------------\n"
     ]
    }
   ],
   "source": [
    "\n",
    "for i in [100, 10, 1, 0.1, 0.01, 0.001, 0.0001]:\n",
    "    lasso = Lasso(alpha=i)\n",
    "    mae_kfold(lasso)"
   ]
  },
  {
   "cell_type": "markdown",
   "id": "6c8f7b01",
   "metadata": {},
   "source": [
    "## ElasticNet"
   ]
  },
  {
   "cell_type": "code",
   "execution_count": 37,
   "id": "bb49996d",
   "metadata": {},
   "outputs": [
    {
     "name": "stdout",
     "output_type": "stream",
     "text": [
      "100 : 0.0 -0.012 mae: 3.1\n",
      "10 : 0.0 -0.012 mae: 3.1\n",
      "1 : 0.0 -0.012 mae: 3.1\n",
      "0.1 : 0.24 0.164 mae: 2.72\n",
      "0.01 : 0.568 0.525 mae: 1.925\n",
      "0.001 : 0.663 0.556 mae: 1.973\n",
      "0.0001 : 0.668 0.513 mae: 2.077\n"
     ]
    }
   ],
   "source": [
    "alphas_finder(ElasticNet)"
   ]
  },
  {
   "cell_type": "code",
   "execution_count": 38,
   "id": "40914845",
   "metadata": {},
   "outputs": [
    {
     "name": "stdout",
     "output_type": "stream",
     "text": [
      "Fold = 1, mae = 2.93\n",
      "Fold = 2, mae = 3.00\n",
      "Fold = 3, mae = 2.72\n",
      "Fold = 4, mae = 3.11\n",
      "Fold = 5, mae = 3.53\n",
      "------------------------------\n",
      "Average Error: 3.059333137497424\n",
      "------------------------------\n",
      "Fold = 1, mae = 2.93\n",
      "Fold = 2, mae = 3.00\n",
      "Fold = 3, mae = 2.72\n",
      "Fold = 4, mae = 3.11\n",
      "Fold = 5, mae = 3.53\n",
      "------------------------------\n",
      "Average Error: 3.059333137497424\n",
      "------------------------------\n",
      "Fold = 1, mae = 2.93\n",
      "Fold = 2, mae = 3.00\n",
      "Fold = 3, mae = 2.72\n",
      "Fold = 4, mae = 3.11\n",
      "Fold = 5, mae = 3.53\n",
      "------------------------------\n",
      "Average Error: 3.059333137497424\n",
      "------------------------------\n",
      "Fold = 1, mae = 2.46\n",
      "Fold = 2, mae = 2.85\n",
      "Fold = 3, mae = 2.39\n",
      "Fold = 4, mae = 2.62\n",
      "Fold = 5, mae = 3.12\n",
      "------------------------------\n",
      "Average Error: 2.687112768838638\n",
      "------------------------------\n",
      "Fold = 1, mae = 1.56\n",
      "Fold = 2, mae = 2.28\n",
      "Fold = 3, mae = 1.86\n",
      "Fold = 4, mae = 1.77\n",
      "Fold = 5, mae = 2.51\n",
      "------------------------------\n",
      "Average Error: 1.9952443691390704\n",
      "------------------------------\n",
      "Fold = 1, mae = 1.61\n",
      "Fold = 2, mae = 2.17\n",
      "Fold = 3, mae = 1.90\n",
      "Fold = 4, mae = 1.50\n",
      "Fold = 5, mae = 2.32\n",
      "------------------------------\n",
      "Average Error: 1.9018647146640852\n",
      "------------------------------\n",
      "Fold = 1, mae = 1.70\n",
      "Fold = 2, mae = 2.17\n",
      "Fold = 3, mae = 1.95\n",
      "Fold = 4, mae = 1.48\n",
      "Fold = 5, mae = 2.29\n",
      "------------------------------\n",
      "Average Error: 1.9181403232312408\n",
      "------------------------------\n"
     ]
    }
   ],
   "source": [
    "\n",
    "for i in [100, 10, 1, 0.1, 0.01, 0.001, 0.0001]:\n",
    "    elastic = ElasticNet(alpha=i)\n",
    "    mae_kfold(elastic)"
   ]
  },
  {
   "cell_type": "markdown",
   "id": "8eca84ce",
   "metadata": {},
   "source": [
    "## XGboost"
   ]
  },
  {
   "cell_type": "code",
   "execution_count": 39,
   "id": "ab15a69b",
   "metadata": {},
   "outputs": [
    {
     "name": "stdout",
     "output_type": "stream",
     "text": [
      "0.9999999564311066 0.3036318337580656 2.592367058831293\n"
     ]
    }
   ],
   "source": [
    "#XG boost\n",
    "xgbr = XGBRegressor()\n",
    "xgbr.fit(X_train, y_train)\n",
    "print(xgbr.score(X_train, y_train), xgbr.score(X_test, y_test),mean_absolute_error(xgbr.predict(X_test), y_test))"
   ]
  },
  {
   "cell_type": "code",
   "execution_count": 40,
   "id": "3886f36d",
   "metadata": {},
   "outputs": [
    {
     "name": "stdout",
     "output_type": "stream",
     "text": [
      "Fold = 1, mae = 2.76\n",
      "Fold = 2, mae = 2.36\n",
      "Fold = 3, mae = 2.37\n",
      "Fold = 4, mae = 2.04\n",
      "Fold = 5, mae = 2.72\n",
      "------------------------------\n",
      "Average Error: 2.4507026252746575\n",
      "------------------------------\n"
     ]
    }
   ],
   "source": [
    "#XG boost교차검증\n",
    "mae_kfold(xgbr)"
   ]
  },
  {
   "cell_type": "code",
   "execution_count": 41,
   "id": "a88ec830",
   "metadata": {},
   "outputs": [
    {
     "name": "stdout",
     "output_type": "stream",
     "text": [
      "0.9999999814131822 -0.049638450149519064 3.0708950558224233\n"
     ]
    }
   ],
   "source": [
    "#XG boost 튜닝\n",
    "xgbr = XGBRegressor(n_estimators = 400, learning_rate = 1, max_depth = 3, objective=\"reg:squarederror\")\n",
    "xgbr.fit(X_train, y_train)\n",
    "print(xgbr.score(X_train, y_train), xgbr.score(X_test, y_test),mean_absolute_error(xgbr.predict(X_test), y_test))"
   ]
  },
  {
   "cell_type": "code",
   "execution_count": 42,
   "id": "cc246753",
   "metadata": {},
   "outputs": [
    {
     "name": "stdout",
     "output_type": "stream",
     "text": [
      "Fold = 1, mae = 3.34\n",
      "Fold = 2, mae = 3.17\n",
      "Fold = 3, mae = 2.52\n",
      "Fold = 4, mae = 2.72\n",
      "Fold = 5, mae = 3.39\n",
      "------------------------------\n",
      "Average Error: 3.026042184956868\n",
      "------------------------------\n"
     ]
    }
   ],
   "source": [
    "#XG boost교차검증\n",
    "mae_kfold(xgbr)"
   ]
  },
  {
   "cell_type": "markdown",
   "id": "6bb200f2",
   "metadata": {},
   "source": [
    "## lightgbm"
   ]
  },
  {
   "cell_type": "code",
   "execution_count": 43,
   "id": "139c1356",
   "metadata": {},
   "outputs": [
    {
     "name": "stdout",
     "output_type": "stream",
     "text": [
      "0.7590208897758137 0.30050186490859865 2.4912259720801555\n"
     ]
    }
   ],
   "source": [
    "#lightgbm\n",
    "lgbm = LGBMRegressor()\n",
    "lgbm.fit(X_train, y_train)\n",
    "print(lgbm.score(X_train, y_train), lgbm.score(X_test, y_test),mean_absolute_error(lgbm.predict(X_test), y_test))"
   ]
  },
  {
   "cell_type": "code",
   "execution_count": 44,
   "id": "7dca1dc4",
   "metadata": {},
   "outputs": [
    {
     "name": "stdout",
     "output_type": "stream",
     "text": [
      "Fold = 1, mae = 1.78\n",
      "Fold = 2, mae = 2.53\n",
      "Fold = 3, mae = 2.19\n",
      "Fold = 4, mae = 2.11\n",
      "Fold = 5, mae = 2.78\n",
      "------------------------------\n",
      "Average Error: 2.277906426946985\n",
      "------------------------------\n"
     ]
    }
   ],
   "source": [
    "#lightgbm교차검증\n",
    "mae_kfold(lgbm)"
   ]
  },
  {
   "cell_type": "code",
   "execution_count": 45,
   "id": "44741e56",
   "metadata": {},
   "outputs": [
    {
     "name": "stdout",
     "output_type": "stream",
     "text": [
      "학습 결과 :  0.29855579315606195\n",
      "테스트 결과 :  0.23063023004847993\n",
      "테스트 결과 :  2.601823161860471\n"
     ]
    }
   ],
   "source": [
    "#SVR\n",
    "svr = SVR(kernel=\"linear\")\n",
    "svr.fit(X_train, y_train)\n",
    "\n",
    "print(\"학습 결과 : \", svr.score(X_train, y_train))\n",
    "print(\"테스트 결과 : \", svr.score(X_test, y_test))\n",
    "print(\"테스트 결과 : \", mean_absolute_error(svr.predict(X_test), y_test))"
   ]
  },
  {
   "cell_type": "code",
   "execution_count": 46,
   "id": "4cd61cb7",
   "metadata": {},
   "outputs": [
    {
     "name": "stdout",
     "output_type": "stream",
     "text": [
      "Fold = 1, mae = 2.20\n",
      "Fold = 2, mae = 2.71\n",
      "Fold = 3, mae = 2.25\n",
      "Fold = 4, mae = 2.34\n",
      "Fold = 5, mae = 2.90\n",
      "------------------------------\n",
      "Average Error: 2.4835873518847196\n",
      "------------------------------\n"
     ]
    }
   ],
   "source": [
    "mae_kfold(svr)"
   ]
  },
  {
   "cell_type": "markdown",
   "id": "32b9cbb7",
   "metadata": {},
   "source": [
    "# standardscaling"
   ]
  },
  {
   "cell_type": "markdown",
   "id": "f2a5bf4d",
   "metadata": {},
   "source": [
    "#### 변수마다 Standard Scaling\n",
    "\n",
    "- scaling하니까 안좋음"
   ]
  },
  {
   "cell_type": "code",
   "execution_count": 49,
   "id": "f7199d2c",
   "metadata": {},
   "outputs": [],
   "source": [
    "#각 변수들을 스케일링 하는 함수\n",
    "\n",
    "def standard_scaling(df, scale_columns):\n",
    "    for col in scale_columns:\n",
    "        series_mean = df[col].mean()\n",
    "        series_std = df[col].std()\n",
    "        df[col] = df[col].apply(lambda x: (x-series_mean)/series_std)\n",
    "        \n",
    "    return df"
   ]
  },
  {
   "cell_type": "code",
   "execution_count": 50,
   "id": "f10f1cef",
   "metadata": {},
   "outputs": [
    {
     "data": {
      "text/plain": [
       "Index(['crm_clue_자수', 'crm_clue_타인신고', 'crm_clue_현행범', 'crm_clue_탐문정보',\n",
       "       'vic_sx_2', '기초수급_19세이하', '기초수급_20_34세', 'crm_tm_새벽', '화재_사망',\n",
       "       'cctv_개수', '배치인원_수', '비상벨_개수', '일인가구수'],\n",
       "      dtype='object')"
      ]
     },
     "execution_count": 50,
     "metadata": {},
     "output_type": "execute_result"
    }
   ],
   "source": [
    "df.iloc[:,:-1].columns"
   ]
  },
  {
   "cell_type": "code",
   "execution_count": 51,
   "id": "a71364d0",
   "metadata": {},
   "outputs": [
    {
     "data": {
      "text/html": [
       "<div>\n",
       "<style scoped>\n",
       "    .dataframe tbody tr th:only-of-type {\n",
       "        vertical-align: middle;\n",
       "    }\n",
       "\n",
       "    .dataframe tbody tr th {\n",
       "        vertical-align: top;\n",
       "    }\n",
       "\n",
       "    .dataframe thead th {\n",
       "        text-align: right;\n",
       "    }\n",
       "</style>\n",
       "<table border=\"1\" class=\"dataframe\">\n",
       "  <thead>\n",
       "    <tr style=\"text-align: right;\">\n",
       "      <th></th>\n",
       "      <th>crm_clue_자수</th>\n",
       "      <th>crm_clue_타인신고</th>\n",
       "      <th>crm_clue_현행범</th>\n",
       "      <th>crm_clue_탐문정보</th>\n",
       "      <th>vic_sx_2</th>\n",
       "      <th>기초수급_19세이하</th>\n",
       "      <th>기초수급_20_34세</th>\n",
       "      <th>crm_tm_새벽</th>\n",
       "      <th>화재_사망</th>\n",
       "      <th>cctv_개수</th>\n",
       "      <th>배치인원_수</th>\n",
       "      <th>비상벨_개수</th>\n",
       "      <th>일인가구수</th>\n",
       "      <th>score_법질서</th>\n",
       "    </tr>\n",
       "  </thead>\n",
       "  <tbody>\n",
       "    <tr>\n",
       "      <th>0</th>\n",
       "      <td>1.588471</td>\n",
       "      <td>3.590648</td>\n",
       "      <td>0.966474</td>\n",
       "      <td>2.472521</td>\n",
       "      <td>1.638500</td>\n",
       "      <td>0.422364</td>\n",
       "      <td>-0.145025</td>\n",
       "      <td>2.636431</td>\n",
       "      <td>0.204862</td>\n",
       "      <td>1.606895</td>\n",
       "      <td>0.749224</td>\n",
       "      <td>-0.909420</td>\n",
       "      <td>0.703653</td>\n",
       "      <td>67.60</td>\n",
       "    </tr>\n",
       "    <tr>\n",
       "      <th>1</th>\n",
       "      <td>0.389307</td>\n",
       "      <td>0.979048</td>\n",
       "      <td>0.117623</td>\n",
       "      <td>0.488051</td>\n",
       "      <td>0.295304</td>\n",
       "      <td>0.422364</td>\n",
       "      <td>-0.145025</td>\n",
       "      <td>0.598180</td>\n",
       "      <td>-0.261768</td>\n",
       "      <td>0.310941</td>\n",
       "      <td>-0.485270</td>\n",
       "      <td>-0.918843</td>\n",
       "      <td>-0.559382</td>\n",
       "      <td>64.90</td>\n",
       "    </tr>\n",
       "    <tr>\n",
       "      <th>2</th>\n",
       "      <td>1.997277</td>\n",
       "      <td>1.064116</td>\n",
       "      <td>1.226231</td>\n",
       "      <td>1.232227</td>\n",
       "      <td>1.304057</td>\n",
       "      <td>0.422364</td>\n",
       "      <td>-0.145025</td>\n",
       "      <td>0.875885</td>\n",
       "      <td>-0.728398</td>\n",
       "      <td>1.411062</td>\n",
       "      <td>0.190548</td>\n",
       "      <td>-0.902353</td>\n",
       "      <td>0.093248</td>\n",
       "      <td>66.10</td>\n",
       "    </tr>\n",
       "    <tr>\n",
       "      <th>3</th>\n",
       "      <td>-0.346543</td>\n",
       "      <td>-0.654266</td>\n",
       "      <td>-0.837915</td>\n",
       "      <td>0.711304</td>\n",
       "      <td>-0.715257</td>\n",
       "      <td>1.224555</td>\n",
       "      <td>0.181250</td>\n",
       "      <td>-0.737948</td>\n",
       "      <td>0.204862</td>\n",
       "      <td>-0.913735</td>\n",
       "      <td>-1.143066</td>\n",
       "      <td>-0.895286</td>\n",
       "      <td>-1.000262</td>\n",
       "      <td>64.65</td>\n",
       "    </tr>\n",
       "    <tr>\n",
       "      <th>4</th>\n",
       "      <td>0.362054</td>\n",
       "      <td>-0.322499</td>\n",
       "      <td>-1.338876</td>\n",
       "      <td>0.463245</td>\n",
       "      <td>-0.950271</td>\n",
       "      <td>1.224555</td>\n",
       "      <td>0.181250</td>\n",
       "      <td>-0.963256</td>\n",
       "      <td>-0.728398</td>\n",
       "      <td>-1.133327</td>\n",
       "      <td>-1.530535</td>\n",
       "      <td>-0.892930</td>\n",
       "      <td>-0.929592</td>\n",
       "      <td>69.00</td>\n",
       "    </tr>\n",
       "    <tr>\n",
       "      <th>...</th>\n",
       "      <td>...</td>\n",
       "      <td>...</td>\n",
       "      <td>...</td>\n",
       "      <td>...</td>\n",
       "      <td>...</td>\n",
       "      <td>...</td>\n",
       "      <td>...</td>\n",
       "      <td>...</td>\n",
       "      <td>...</td>\n",
       "      <td>...</td>\n",
       "      <td>...</td>\n",
       "      <td>...</td>\n",
       "      <td>...</td>\n",
       "      <td>...</td>\n",
       "    </tr>\n",
       "    <tr>\n",
       "      <th>118</th>\n",
       "      <td>-0.537319</td>\n",
       "      <td>-1.096622</td>\n",
       "      <td>-1.065203</td>\n",
       "      <td>-1.000302</td>\n",
       "      <td>-1.286522</td>\n",
       "      <td>0.029093</td>\n",
       "      <td>0.321493</td>\n",
       "      <td>-1.162366</td>\n",
       "      <td>-0.728398</td>\n",
       "      <td>-0.455112</td>\n",
       "      <td>-1.224164</td>\n",
       "      <td>0.254327</td>\n",
       "      <td>-0.783554</td>\n",
       "      <td>69.75</td>\n",
       "    </tr>\n",
       "    <tr>\n",
       "      <th>119</th>\n",
       "      <td>-0.401051</td>\n",
       "      <td>0.434610</td>\n",
       "      <td>0.637138</td>\n",
       "      <td>-0.553796</td>\n",
       "      <td>-0.098797</td>\n",
       "      <td>0.797546</td>\n",
       "      <td>0.891966</td>\n",
       "      <td>0.231400</td>\n",
       "      <td>-0.261768</td>\n",
       "      <td>1.426901</td>\n",
       "      <td>0.848344</td>\n",
       "      <td>3.267347</td>\n",
       "      <td>0.671554</td>\n",
       "      <td>66.30</td>\n",
       "    </tr>\n",
       "    <tr>\n",
       "      <th>120</th>\n",
       "      <td>-0.646334</td>\n",
       "      <td>-0.603225</td>\n",
       "      <td>-0.480748</td>\n",
       "      <td>-0.876273</td>\n",
       "      <td>-0.735143</td>\n",
       "      <td>-1.217180</td>\n",
       "      <td>-1.274269</td>\n",
       "      <td>-0.769387</td>\n",
       "      <td>0.671492</td>\n",
       "      <td>-0.665344</td>\n",
       "      <td>-0.683510</td>\n",
       "      <td>-0.122595</td>\n",
       "      <td>-1.082101</td>\n",
       "      <td>68.15</td>\n",
       "    </tr>\n",
       "    <tr>\n",
       "      <th>121</th>\n",
       "      <td>-0.700842</td>\n",
       "      <td>-0.688293</td>\n",
       "      <td>-0.666289</td>\n",
       "      <td>-0.727438</td>\n",
       "      <td>-1.131051</td>\n",
       "      <td>-1.271902</td>\n",
       "      <td>-1.257141</td>\n",
       "      <td>-0.999934</td>\n",
       "      <td>1.138121</td>\n",
       "      <td>-1.226204</td>\n",
       "      <td>-0.890761</td>\n",
       "      <td>-0.822257</td>\n",
       "      <td>0.090482</td>\n",
       "      <td>66.40</td>\n",
       "    </tr>\n",
       "    <tr>\n",
       "      <th>122</th>\n",
       "      <td>-0.700842</td>\n",
       "      <td>-0.926485</td>\n",
       "      <td>-1.468755</td>\n",
       "      <td>-0.975496</td>\n",
       "      <td>-1.158168</td>\n",
       "      <td>-0.748354</td>\n",
       "      <td>-0.998020</td>\n",
       "      <td>-1.277639</td>\n",
       "      <td>-0.728398</td>\n",
       "      <td>0.028711</td>\n",
       "      <td>-1.206143</td>\n",
       "      <td>-0.829324</td>\n",
       "      <td>-0.013123</td>\n",
       "      <td>72.95</td>\n",
       "    </tr>\n",
       "  </tbody>\n",
       "</table>\n",
       "<p>123 rows × 14 columns</p>\n",
       "</div>"
      ],
      "text/plain": [
       "     crm_clue_자수  crm_clue_타인신고  crm_clue_현행범  crm_clue_탐문정보  vic_sx_2  \\\n",
       "0       1.588471       3.590648      0.966474       2.472521  1.638500   \n",
       "1       0.389307       0.979048      0.117623       0.488051  0.295304   \n",
       "2       1.997277       1.064116      1.226231       1.232227  1.304057   \n",
       "3      -0.346543      -0.654266     -0.837915       0.711304 -0.715257   \n",
       "4       0.362054      -0.322499     -1.338876       0.463245 -0.950271   \n",
       "..           ...            ...           ...            ...       ...   \n",
       "118    -0.537319      -1.096622     -1.065203      -1.000302 -1.286522   \n",
       "119    -0.401051       0.434610      0.637138      -0.553796 -0.098797   \n",
       "120    -0.646334      -0.603225     -0.480748      -0.876273 -0.735143   \n",
       "121    -0.700842      -0.688293     -0.666289      -0.727438 -1.131051   \n",
       "122    -0.700842      -0.926485     -1.468755      -0.975496 -1.158168   \n",
       "\n",
       "     기초수급_19세이하  기초수급_20_34세  crm_tm_새벽     화재_사망   cctv_개수    배치인원_수  \\\n",
       "0      0.422364    -0.145025   2.636431  0.204862  1.606895  0.749224   \n",
       "1      0.422364    -0.145025   0.598180 -0.261768  0.310941 -0.485270   \n",
       "2      0.422364    -0.145025   0.875885 -0.728398  1.411062  0.190548   \n",
       "3      1.224555     0.181250  -0.737948  0.204862 -0.913735 -1.143066   \n",
       "4      1.224555     0.181250  -0.963256 -0.728398 -1.133327 -1.530535   \n",
       "..          ...          ...        ...       ...       ...       ...   \n",
       "118    0.029093     0.321493  -1.162366 -0.728398 -0.455112 -1.224164   \n",
       "119    0.797546     0.891966   0.231400 -0.261768  1.426901  0.848344   \n",
       "120   -1.217180    -1.274269  -0.769387  0.671492 -0.665344 -0.683510   \n",
       "121   -1.271902    -1.257141  -0.999934  1.138121 -1.226204 -0.890761   \n",
       "122   -0.748354    -0.998020  -1.277639 -0.728398  0.028711 -1.206143   \n",
       "\n",
       "       비상벨_개수     일인가구수  score_법질서  \n",
       "0   -0.909420  0.703653      67.60  \n",
       "1   -0.918843 -0.559382      64.90  \n",
       "2   -0.902353  0.093248      66.10  \n",
       "3   -0.895286 -1.000262      64.65  \n",
       "4   -0.892930 -0.929592      69.00  \n",
       "..        ...       ...        ...  \n",
       "118  0.254327 -0.783554      69.75  \n",
       "119  3.267347  0.671554      66.30  \n",
       "120 -0.122595 -1.082101      68.15  \n",
       "121 -0.822257  0.090482      66.40  \n",
       "122 -0.829324 -0.013123      72.95  \n",
       "\n",
       "[123 rows x 14 columns]"
      ]
     },
     "execution_count": 51,
     "metadata": {},
     "output_type": "execute_result"
    }
   ],
   "source": [
    "standard_scaling(df, df.iloc[:,:-1].columns)"
   ]
  },
  {
   "cell_type": "markdown",
   "id": "23d4e840",
   "metadata": {},
   "source": [
    "# 설명력 보기위한 모델링"
   ]
  },
  {
   "cell_type": "code",
   "execution_count": 52,
   "id": "10d6ed64",
   "metadata": {},
   "outputs": [],
   "source": [
    "# train, test 분리\n",
    "X_train, X_test, y_train, y_test  = train_test_split(df.iloc[:,:-1], df[\"score_법질서\"],test_size = 0.3, random_state=0)"
   ]
  },
  {
   "cell_type": "code",
   "execution_count": 53,
   "id": "dbb0f50f",
   "metadata": {},
   "outputs": [],
   "source": [
    "X = np.array(df.drop('score_법질서', 1))\n",
    "Y = np.array(df['score_법질서'])"
   ]
  },
  {
   "cell_type": "code",
   "execution_count": 54,
   "id": "87818569",
   "metadata": {},
   "outputs": [
    {
     "name": "stdout",
     "output_type": "stream",
     "text": [
      "0.6682063450277558 0.5062686879818727 2.0930289152433335\n"
     ]
    }
   ],
   "source": [
    "#다중회귀\n",
    "lr = LinearRegression()\n",
    "lr.fit(X_train, y_train)\n",
    "print(lr.score(X_train, y_train), lr.score(X_test, y_test),mean_absolute_error(lr.predict(X_test), y_test))"
   ]
  },
  {
   "cell_type": "code",
   "execution_count": 55,
   "id": "eb2753ad",
   "metadata": {},
   "outputs": [
    {
     "name": "stdout",
     "output_type": "stream",
     "text": [
      "Fold = 1, mae = 1.71\n",
      "Fold = 2, mae = 2.17\n",
      "Fold = 3, mae = 1.96\n",
      "Fold = 4, mae = 1.48\n",
      "Fold = 5, mae = 2.29\n",
      "------------------------------\n",
      "Average Error: 1.9211979259345575\n",
      "------------------------------\n"
     ]
    }
   ],
   "source": [
    "# 다중회귀  교차검증\n",
    "mae_kfold(lr)"
   ]
  },
  {
   "cell_type": "markdown",
   "id": "3e747078",
   "metadata": {},
   "source": [
    "## ridge"
   ]
  },
  {
   "cell_type": "code",
   "execution_count": 56,
   "id": "6e633b62",
   "metadata": {},
   "outputs": [
    {
     "name": "stdout",
     "output_type": "stream",
     "text": [
      "100 : 0.31 0.283 mae: 2.514\n",
      "10 : 0.564 0.551 mae: 1.835\n",
      "1 : 0.661 0.566 mae: 1.947\n",
      "0.1 : 0.668 0.515 mae: 2.072\n",
      "0.01 : 0.668 0.507 mae: 2.091\n",
      "0.001 : 0.668 0.506 mae: 2.093\n",
      "0.0001 : 0.668 0.506 mae: 2.093\n"
     ]
    }
   ],
   "source": [
    "# ridge\n",
    "alphas_finder(Ridge)"
   ]
  },
  {
   "cell_type": "code",
   "execution_count": 57,
   "id": "076326ad",
   "metadata": {},
   "outputs": [
    {
     "name": "stdout",
     "output_type": "stream",
     "text": [
      "Fold = 1, mae = 2.24\n",
      "Fold = 2, mae = 2.74\n",
      "Fold = 3, mae = 2.23\n",
      "Fold = 4, mae = 2.39\n",
      "Fold = 5, mae = 3.01\n",
      "------------------------------\n",
      "Average Error: 2.5239061468925525\n",
      "------------------------------\n",
      "Fold = 1, mae = 1.49\n",
      "Fold = 2, mae = 2.32\n",
      "Fold = 3, mae = 1.85\n",
      "Fold = 4, mae = 1.75\n",
      "Fold = 5, mae = 2.48\n",
      "------------------------------\n",
      "Average Error: 1.9803790572796711\n",
      "------------------------------\n",
      "Fold = 1, mae = 1.59\n",
      "Fold = 2, mae = 2.18\n",
      "Fold = 3, mae = 1.90\n",
      "Fold = 4, mae = 1.50\n",
      "Fold = 5, mae = 2.33\n",
      "------------------------------\n",
      "Average Error: 1.9027905504321452\n",
      "------------------------------\n",
      "Fold = 1, mae = 1.70\n",
      "Fold = 2, mae = 2.17\n",
      "Fold = 3, mae = 1.95\n",
      "Fold = 4, mae = 1.48\n",
      "Fold = 5, mae = 2.29\n",
      "------------------------------\n",
      "Average Error: 1.9182021030530465\n",
      "------------------------------\n",
      "Fold = 1, mae = 1.71\n",
      "Fold = 2, mae = 2.17\n",
      "Fold = 3, mae = 1.96\n",
      "Fold = 4, mae = 1.48\n",
      "Fold = 5, mae = 2.29\n",
      "------------------------------\n",
      "Average Error: 1.9208742536311452\n",
      "------------------------------\n",
      "Fold = 1, mae = 1.71\n",
      "Fold = 2, mae = 2.17\n",
      "Fold = 3, mae = 1.96\n",
      "Fold = 4, mae = 1.48\n",
      "Fold = 5, mae = 2.29\n",
      "------------------------------\n",
      "Average Error: 1.921164272385004\n",
      "------------------------------\n",
      "Fold = 1, mae = 1.71\n",
      "Fold = 2, mae = 2.17\n",
      "Fold = 3, mae = 1.96\n",
      "Fold = 4, mae = 1.48\n",
      "Fold = 5, mae = 2.29\n",
      "------------------------------\n",
      "Average Error: 1.921194559807367\n",
      "------------------------------\n"
     ]
    }
   ],
   "source": [
    "#best2 1.90\n",
    "for i in [100, 10, 1, 0.1, 0.01, 0.001, 0.0001]:\n",
    "    ridge = Ridge(alpha=i)\n",
    "    mae_kfold(ridge)"
   ]
  },
  {
   "cell_type": "markdown",
   "id": "229dbbc3",
   "metadata": {},
   "source": [
    "## Lasso"
   ]
  },
  {
   "cell_type": "code",
   "execution_count": 58,
   "id": "00672d13",
   "metadata": {},
   "outputs": [
    {
     "name": "stdout",
     "output_type": "stream",
     "text": [
      "100 : 0.0 -0.012 mae: 3.1\n",
      "10 : 0.0 -0.012 mae: 3.1\n",
      "1 : 0.165 0.006 mae: 2.987\n",
      "0.1 : 0.601 0.523 mae: 1.921\n",
      "0.01 : 0.667 0.534 mae: 2.029\n",
      "0.001 : 0.668 0.509 mae: 2.086\n",
      "0.0001 : 0.668 0.507 mae: 2.092\n"
     ]
    }
   ],
   "source": [
    "# lasso\n",
    "alphas_finder(Lasso)"
   ]
  },
  {
   "cell_type": "code",
   "execution_count": 59,
   "id": "7d866653",
   "metadata": {},
   "outputs": [
    {
     "name": "stdout",
     "output_type": "stream",
     "text": [
      "Fold = 1, mae = 2.93\n",
      "Fold = 2, mae = 3.00\n",
      "Fold = 3, mae = 2.72\n",
      "Fold = 4, mae = 3.11\n",
      "Fold = 5, mae = 3.53\n",
      "------------------------------\n",
      "Average Error: 3.059333137497424\n",
      "------------------------------\n",
      "Fold = 1, mae = 2.93\n",
      "Fold = 2, mae = 3.00\n",
      "Fold = 3, mae = 2.72\n",
      "Fold = 4, mae = 3.11\n",
      "Fold = 5, mae = 3.53\n",
      "------------------------------\n",
      "Average Error: 3.059333137497424\n",
      "------------------------------\n",
      "Fold = 1, mae = 2.70\n",
      "Fold = 2, mae = 3.07\n",
      "Fold = 3, mae = 2.47\n",
      "Fold = 4, mae = 2.90\n",
      "Fold = 5, mae = 3.36\n",
      "------------------------------\n",
      "Average Error: 2.900720674610713\n",
      "------------------------------\n",
      "Fold = 1, mae = 1.53\n",
      "Fold = 2, mae = 2.41\n",
      "Fold = 3, mae = 1.90\n",
      "Fold = 4, mae = 1.63\n",
      "Fold = 5, mae = 2.55\n",
      "------------------------------\n",
      "Average Error: 2.0014347100844696\n",
      "------------------------------\n",
      "Fold = 1, mae = 1.67\n",
      "Fold = 2, mae = 2.19\n",
      "Fold = 3, mae = 1.94\n",
      "Fold = 4, mae = 1.49\n",
      "Fold = 5, mae = 2.31\n",
      "------------------------------\n",
      "Average Error: 1.9189703670474298\n",
      "------------------------------\n",
      "Fold = 1, mae = 1.71\n",
      "Fold = 2, mae = 2.17\n",
      "Fold = 3, mae = 1.95\n",
      "Fold = 4, mae = 1.48\n",
      "Fold = 5, mae = 2.29\n",
      "------------------------------\n",
      "Average Error: 1.9209498856280256\n",
      "------------------------------\n",
      "Fold = 1, mae = 1.71\n",
      "Fold = 2, mae = 2.17\n",
      "Fold = 3, mae = 1.96\n",
      "Fold = 4, mae = 1.48\n",
      "Fold = 5, mae = 2.29\n",
      "------------------------------\n",
      "Average Error: 1.921168367541248\n",
      "------------------------------\n"
     ]
    }
   ],
   "source": [
    "\n",
    "for i in [100, 10, 1, 0.1, 0.01, 0.001, 0.0001]:\n",
    "    lasso = Lasso(alpha=i)\n",
    "    mae_kfold(lasso)"
   ]
  },
  {
   "cell_type": "markdown",
   "id": "699c642b",
   "metadata": {},
   "source": [
    "## ElasticNet"
   ]
  },
  {
   "cell_type": "code",
   "execution_count": 60,
   "id": "a214258a",
   "metadata": {},
   "outputs": [
    {
     "name": "stdout",
     "output_type": "stream",
     "text": [
      "100 : 0.0 -0.012 mae: 3.1\n",
      "10 : 0.0 -0.012 mae: 3.1\n",
      "1 : 0.239 0.141 mae: 2.759\n",
      "0.1 : 0.583 0.546 mae: 1.86\n",
      "0.01 : 0.665 0.55 mae: 1.989\n",
      "0.001 : 0.668 0.512 mae: 2.08\n",
      "0.0001 : 0.668 0.507 mae: 2.092\n"
     ]
    }
   ],
   "source": [
    "alphas_finder(ElasticNet)"
   ]
  },
  {
   "cell_type": "code",
   "execution_count": 61,
   "id": "1f594038",
   "metadata": {},
   "outputs": [
    {
     "name": "stdout",
     "output_type": "stream",
     "text": [
      "Fold = 1, mae = 2.93\n",
      "Fold = 2, mae = 3.00\n",
      "Fold = 3, mae = 2.72\n",
      "Fold = 4, mae = 3.11\n",
      "Fold = 5, mae = 3.53\n",
      "------------------------------\n",
      "Average Error: 3.059333137497424\n",
      "------------------------------\n",
      "Fold = 1, mae = 2.93\n",
      "Fold = 2, mae = 3.00\n",
      "Fold = 3, mae = 2.72\n",
      "Fold = 4, mae = 3.11\n",
      "Fold = 5, mae = 3.53\n",
      "------------------------------\n",
      "Average Error: 3.059333137497424\n",
      "------------------------------\n",
      "Fold = 1, mae = 2.48\n",
      "Fold = 2, mae = 2.89\n",
      "Fold = 3, mae = 2.38\n",
      "Fold = 4, mae = 2.67\n",
      "Fold = 5, mae = 3.15\n",
      "------------------------------\n",
      "Average Error: 2.7143134304716416\n",
      "------------------------------\n",
      "Fold = 1, mae = 1.51\n",
      "Fold = 2, mae = 2.35\n",
      "Fold = 3, mae = 1.88\n",
      "Fold = 4, mae = 1.70\n",
      "Fold = 5, mae = 2.53\n",
      "------------------------------\n",
      "Average Error: 1.9944488611922189\n",
      "------------------------------\n",
      "Fold = 1, mae = 1.63\n",
      "Fold = 2, mae = 2.19\n",
      "Fold = 3, mae = 1.92\n",
      "Fold = 4, mae = 1.49\n",
      "Fold = 5, mae = 2.32\n",
      "------------------------------\n",
      "Average Error: 1.909347464304254\n",
      "------------------------------\n",
      "Fold = 1, mae = 1.70\n",
      "Fold = 2, mae = 2.17\n",
      "Fold = 3, mae = 1.95\n",
      "Fold = 4, mae = 1.48\n",
      "Fold = 5, mae = 2.29\n",
      "------------------------------\n",
      "Average Error: 1.9196007850470462\n",
      "------------------------------\n",
      "Fold = 1, mae = 1.71\n",
      "Fold = 2, mae = 2.17\n",
      "Fold = 3, mae = 1.96\n",
      "Fold = 4, mae = 1.48\n",
      "Fold = 5, mae = 2.29\n",
      "------------------------------\n",
      "Average Error: 1.9210194052756333\n",
      "------------------------------\n"
     ]
    }
   ],
   "source": [
    "\n",
    "for i in [100, 10, 1, 0.1, 0.01, 0.001, 0.0001]:\n",
    "    elastic = ElasticNet(alpha=i)\n",
    "    mae_kfold(elastic)"
   ]
  },
  {
   "cell_type": "markdown",
   "id": "24200ae9",
   "metadata": {},
   "source": [
    "## XGboost"
   ]
  },
  {
   "cell_type": "code",
   "execution_count": 62,
   "id": "8b2cdb82",
   "metadata": {},
   "outputs": [
    {
     "name": "stdout",
     "output_type": "stream",
     "text": [
      "0.9999999564311066 0.3106270836477609 2.5815982715503596\n"
     ]
    }
   ],
   "source": [
    "#XG boost\n",
    "xgbr = XGBRegressor()\n",
    "xgbr.fit(X_train, y_train)\n",
    "print(xgbr.score(X_train, y_train), xgbr.score(X_test, y_test),mean_absolute_error(xgbr.predict(X_test), y_test))"
   ]
  },
  {
   "cell_type": "code",
   "execution_count": 63,
   "id": "b80af59b",
   "metadata": {},
   "outputs": [
    {
     "name": "stdout",
     "output_type": "stream",
     "text": [
      "Fold = 1, mae = 2.76\n",
      "Fold = 2, mae = 2.39\n",
      "Fold = 3, mae = 2.37\n",
      "Fold = 4, mae = 2.04\n",
      "Fold = 5, mae = 2.72\n",
      "------------------------------\n",
      "Average Error: 2.4566953849792474\n",
      "------------------------------\n"
     ]
    }
   ],
   "source": [
    "#XG boost교차검증\n",
    "mae_kfold(xgbr)"
   ]
  },
  {
   "cell_type": "code",
   "execution_count": 64,
   "id": "9cbd7528",
   "metadata": {},
   "outputs": [
    {
     "name": "stdout",
     "output_type": "stream",
     "text": [
      "0.9999999814131822 -0.049638450149519064 3.0708950558224233\n"
     ]
    }
   ],
   "source": [
    "#XG boost 튜닝\n",
    "xgbr = XGBRegressor(n_estimators = 400, learning_rate = 1, max_depth = 3, objective=\"reg:squarederror\")\n",
    "xgbr.fit(X_train, y_train)\n",
    "print(xgbr.score(X_train, y_train), xgbr.score(X_test, y_test),mean_absolute_error(xgbr.predict(X_test), y_test))"
   ]
  },
  {
   "cell_type": "code",
   "execution_count": 65,
   "id": "95242784",
   "metadata": {},
   "outputs": [
    {
     "name": "stdout",
     "output_type": "stream",
     "text": [
      "Fold = 1, mae = 3.34\n",
      "Fold = 2, mae = 3.13\n",
      "Fold = 3, mae = 2.52\n",
      "Fold = 4, mae = 2.66\n",
      "Fold = 5, mae = 3.37\n",
      "------------------------------\n",
      "Average Error: 3.003727976226806\n",
      "------------------------------\n"
     ]
    }
   ],
   "source": [
    "#XG boost교차검증\n",
    "mae_kfold(xgbr)"
   ]
  },
  {
   "cell_type": "markdown",
   "id": "770fef44",
   "metadata": {},
   "source": [
    "## lightgbm"
   ]
  },
  {
   "cell_type": "code",
   "execution_count": 66,
   "id": "cd58493f",
   "metadata": {},
   "outputs": [
    {
     "name": "stdout",
     "output_type": "stream",
     "text": [
      "0.7628056102558721 0.23951369063753614 2.659204119778207\n"
     ]
    }
   ],
   "source": [
    "#lightgbm\n",
    "lgbm = LGBMRegressor()\n",
    "lgbm.fit(X_train, y_train)\n",
    "print(lgbm.score(X_train, y_train), lgbm.score(X_test, y_test),mean_absolute_error(lgbm.predict(X_test), y_test))"
   ]
  },
  {
   "cell_type": "code",
   "execution_count": 67,
   "id": "9cfd5e32",
   "metadata": {},
   "outputs": [
    {
     "name": "stdout",
     "output_type": "stream",
     "text": [
      "Fold = 1, mae = 1.97\n",
      "Fold = 2, mae = 2.59\n",
      "Fold = 3, mae = 2.19\n",
      "Fold = 4, mae = 1.97\n",
      "Fold = 5, mae = 2.97\n",
      "------------------------------\n",
      "Average Error: 2.3383179040411206\n",
      "------------------------------\n"
     ]
    }
   ],
   "source": [
    "#lightgbm교차검증\n",
    "mae_kfold(lgbm)"
   ]
  },
  {
   "cell_type": "code",
   "execution_count": 68,
   "id": "8d403a12",
   "metadata": {},
   "outputs": [
    {
     "name": "stdout",
     "output_type": "stream",
     "text": [
      "학습 결과 :  0.592389418542731\n",
      "테스트 결과 :  0.5248423243707472\n",
      "테스트 결과 :  2.1337020827034405\n"
     ]
    }
   ],
   "source": [
    "#SVR\n",
    "svr = SVR(kernel=\"linear\")\n",
    "svr.fit(X_train, y_train)\n",
    "\n",
    "print(\"학습 결과 : \", svr.score(X_train, y_train))\n",
    "print(\"테스트 결과 : \", svr.score(X_test, y_test))\n",
    "print(\"테스트 결과 : \", mean_absolute_error(svr.predict(X_test), y_test))"
   ]
  },
  {
   "cell_type": "code",
   "execution_count": 69,
   "id": "672f641e",
   "metadata": {},
   "outputs": [
    {
     "name": "stdout",
     "output_type": "stream",
     "text": [
      "Fold = 1, mae = 1.52\n",
      "Fold = 2, mae = 2.13\n",
      "Fold = 3, mae = 2.02\n",
      "Fold = 4, mae = 1.92\n",
      "Fold = 5, mae = 2.24\n",
      "------------------------------\n",
      "Average Error: 1.9675863379092065\n",
      "------------------------------\n"
     ]
    }
   ],
   "source": [
    "mae_kfold(svr)"
   ]
  },
  {
   "cell_type": "code",
   "execution_count": null,
   "id": "2e807448",
   "metadata": {},
   "outputs": [],
   "source": []
  },
  {
   "cell_type": "code",
   "execution_count": null,
   "id": "057de3ea",
   "metadata": {},
   "outputs": [],
   "source": []
  },
  {
   "cell_type": "code",
   "execution_count": null,
   "id": "e43d65db",
   "metadata": {},
   "outputs": [],
   "source": []
  },
  {
   "cell_type": "markdown",
   "id": "82475fde",
   "metadata": {},
   "source": [
    "# RobustScaler"
   ]
  },
  {
   "cell_type": "markdown",
   "id": "2dd5bb4b",
   "metadata": {},
   "source": [
    "### 각변수 robustscaling\n",
    "\n"
   ]
  },
  {
   "cell_type": "code",
   "execution_count": 72,
   "id": "22cd9e1a",
   "metadata": {},
   "outputs": [],
   "source": [
    "#각 변수들을 스케일링 하는 함수\n",
    "\n",
    "def robust_scaling(df, scale_columns):\n",
    "    for col in scale_columns:\n",
    "        series_med = df[col].median()\n",
    "        series_per75 = np.percentile(df[col],75)\n",
    "        series_per25 = np.percentile(df[col],25)\n",
    "        df[col] = df[col].apply(lambda x: (x-series_med)/(series_per75-series_per25))\n",
    "        \n",
    "            \n",
    "    return df"
   ]
  },
  {
   "cell_type": "code",
   "execution_count": 73,
   "id": "f10f1cef",
   "metadata": {},
   "outputs": [
    {
     "data": {
      "text/plain": [
       "Index(['crm_clue_자수', 'crm_clue_타인신고', 'crm_clue_현행범', 'crm_clue_탐문정보',\n",
       "       'vic_sx_2', '기초수급_19세이하', '기초수급_20_34세', 'crm_tm_새벽', '화재_사망',\n",
       "       'cctv_개수', '배치인원_수', '비상벨_개수', '일인가구수'],\n",
       "      dtype='object')"
      ]
     },
     "execution_count": 73,
     "metadata": {},
     "output_type": "execute_result"
    }
   ],
   "source": [
    "df.iloc[:,:-1].columns"
   ]
  },
  {
   "cell_type": "code",
   "execution_count": 74,
   "id": "a71364d0",
   "metadata": {},
   "outputs": [
    {
     "data": {
      "text/html": [
       "<div>\n",
       "<style scoped>\n",
       "    .dataframe tbody tr th:only-of-type {\n",
       "        vertical-align: middle;\n",
       "    }\n",
       "\n",
       "    .dataframe tbody tr th {\n",
       "        vertical-align: top;\n",
       "    }\n",
       "\n",
       "    .dataframe thead th {\n",
       "        text-align: right;\n",
       "    }\n",
       "</style>\n",
       "<table border=\"1\" class=\"dataframe\">\n",
       "  <thead>\n",
       "    <tr style=\"text-align: right;\">\n",
       "      <th></th>\n",
       "      <th>crm_clue_자수</th>\n",
       "      <th>crm_clue_타인신고</th>\n",
       "      <th>crm_clue_현행범</th>\n",
       "      <th>crm_clue_탐문정보</th>\n",
       "      <th>vic_sx_2</th>\n",
       "      <th>기초수급_19세이하</th>\n",
       "      <th>기초수급_20_34세</th>\n",
       "      <th>crm_tm_새벽</th>\n",
       "      <th>화재_사망</th>\n",
       "      <th>cctv_개수</th>\n",
       "      <th>배치인원_수</th>\n",
       "      <th>비상벨_개수</th>\n",
       "      <th>일인가구수</th>\n",
       "      <th>score_법질서</th>\n",
       "    </tr>\n",
       "  </thead>\n",
       "  <tbody>\n",
       "    <tr>\n",
       "      <th>0</th>\n",
       "      <td>2.303030</td>\n",
       "      <td>2.791139</td>\n",
       "      <td>0.701262</td>\n",
       "      <td>2.539326</td>\n",
       "      <td>1.274510</td>\n",
       "      <td>0.558545</td>\n",
       "      <td>0.000000</td>\n",
       "      <td>2.026119</td>\n",
       "      <td>0.5</td>\n",
       "      <td>1.538757</td>\n",
       "      <td>0.412088</td>\n",
       "      <td>-0.349135</td>\n",
       "      <td>0.664721</td>\n",
       "      <td>67.60</td>\n",
       "    </tr>\n",
       "    <tr>\n",
       "      <th>1</th>\n",
       "      <td>0.969697</td>\n",
       "      <td>0.848101</td>\n",
       "      <td>0.187938</td>\n",
       "      <td>0.741573</td>\n",
       "      <td>0.303268</td>\n",
       "      <td>0.558545</td>\n",
       "      <td>0.000000</td>\n",
       "      <td>0.574627</td>\n",
       "      <td>0.0</td>\n",
       "      <td>0.385650</td>\n",
       "      <td>-0.340659</td>\n",
       "      <td>-0.355154</td>\n",
       "      <td>-0.405297</td>\n",
       "      <td>64.90</td>\n",
       "    </tr>\n",
       "    <tr>\n",
       "      <th>2</th>\n",
       "      <td>2.757576</td>\n",
       "      <td>0.911392</td>\n",
       "      <td>0.858345</td>\n",
       "      <td>1.415730</td>\n",
       "      <td>1.032680</td>\n",
       "      <td>0.558545</td>\n",
       "      <td>0.000000</td>\n",
       "      <td>0.772388</td>\n",
       "      <td>-0.5</td>\n",
       "      <td>1.364510</td>\n",
       "      <td>0.071429</td>\n",
       "      <td>-0.344620</td>\n",
       "      <td>0.147598</td>\n",
       "      <td>66.10</td>\n",
       "    </tr>\n",
       "    <tr>\n",
       "      <th>3</th>\n",
       "      <td>0.151515</td>\n",
       "      <td>-0.367089</td>\n",
       "      <td>-0.389902</td>\n",
       "      <td>0.943820</td>\n",
       "      <td>-0.427451</td>\n",
       "      <td>1.192499</td>\n",
       "      <td>0.227611</td>\n",
       "      <td>-0.376866</td>\n",
       "      <td>0.5</td>\n",
       "      <td>-0.704036</td>\n",
       "      <td>-0.741758</td>\n",
       "      <td>-0.340105</td>\n",
       "      <td>-0.778802</td>\n",
       "      <td>64.65</td>\n",
       "    </tr>\n",
       "    <tr>\n",
       "      <th>4</th>\n",
       "      <td>0.939394</td>\n",
       "      <td>-0.120253</td>\n",
       "      <td>-0.692847</td>\n",
       "      <td>0.719101</td>\n",
       "      <td>-0.597386</td>\n",
       "      <td>1.192499</td>\n",
       "      <td>0.227611</td>\n",
       "      <td>-0.537313</td>\n",
       "      <td>-0.5</td>\n",
       "      <td>-0.899423</td>\n",
       "      <td>-0.978022</td>\n",
       "      <td>-0.338600</td>\n",
       "      <td>-0.718932</td>\n",
       "      <td>69.00</td>\n",
       "    </tr>\n",
       "    <tr>\n",
       "      <th>...</th>\n",
       "      <td>...</td>\n",
       "      <td>...</td>\n",
       "      <td>...</td>\n",
       "      <td>...</td>\n",
       "      <td>...</td>\n",
       "      <td>...</td>\n",
       "      <td>...</td>\n",
       "      <td>...</td>\n",
       "      <td>...</td>\n",
       "      <td>...</td>\n",
       "      <td>...</td>\n",
       "      <td>...</td>\n",
       "      <td>...</td>\n",
       "      <td>...</td>\n",
       "    </tr>\n",
       "    <tr>\n",
       "      <th>118</th>\n",
       "      <td>-0.060606</td>\n",
       "      <td>-0.696203</td>\n",
       "      <td>-0.527349</td>\n",
       "      <td>-0.606742</td>\n",
       "      <td>-0.840523</td>\n",
       "      <td>0.247751</td>\n",
       "      <td>0.325447</td>\n",
       "      <td>-0.679104</td>\n",
       "      <td>-0.5</td>\n",
       "      <td>-0.295964</td>\n",
       "      <td>-0.791209</td>\n",
       "      <td>0.394281</td>\n",
       "      <td>-0.595211</td>\n",
       "      <td>69.75</td>\n",
       "    </tr>\n",
       "    <tr>\n",
       "      <th>119</th>\n",
       "      <td>0.090909</td>\n",
       "      <td>0.443038</td>\n",
       "      <td>0.502104</td>\n",
       "      <td>-0.202247</td>\n",
       "      <td>0.018301</td>\n",
       "      <td>0.855043</td>\n",
       "      <td>0.723412</td>\n",
       "      <td>0.313433</td>\n",
       "      <td>0.0</td>\n",
       "      <td>1.378603</td>\n",
       "      <td>0.472527</td>\n",
       "      <td>2.319037</td>\n",
       "      <td>0.637527</td>\n",
       "      <td>66.30</td>\n",
       "    </tr>\n",
       "    <tr>\n",
       "      <th>120</th>\n",
       "      <td>-0.181818</td>\n",
       "      <td>-0.329114</td>\n",
       "      <td>-0.173913</td>\n",
       "      <td>-0.494382</td>\n",
       "      <td>-0.441830</td>\n",
       "      <td>-0.737151</td>\n",
       "      <td>-0.787768</td>\n",
       "      <td>-0.399254</td>\n",
       "      <td>1.0</td>\n",
       "      <td>-0.483024</td>\n",
       "      <td>-0.461538</td>\n",
       "      <td>0.153499</td>\n",
       "      <td>-0.848135</td>\n",
       "      <td>68.15</td>\n",
       "    </tr>\n",
       "    <tr>\n",
       "      <th>121</th>\n",
       "      <td>-0.242424</td>\n",
       "      <td>-0.392405</td>\n",
       "      <td>-0.286115</td>\n",
       "      <td>-0.359551</td>\n",
       "      <td>-0.728105</td>\n",
       "      <td>-0.780397</td>\n",
       "      <td>-0.775819</td>\n",
       "      <td>-0.563433</td>\n",
       "      <td>1.5</td>\n",
       "      <td>-0.982063</td>\n",
       "      <td>-0.587912</td>\n",
       "      <td>-0.293454</td>\n",
       "      <td>0.145254</td>\n",
       "      <td>66.40</td>\n",
       "    </tr>\n",
       "    <tr>\n",
       "      <th>122</th>\n",
       "      <td>-0.242424</td>\n",
       "      <td>-0.569620</td>\n",
       "      <td>-0.771388</td>\n",
       "      <td>-0.584270</td>\n",
       "      <td>-0.747712</td>\n",
       "      <td>-0.366648</td>\n",
       "      <td>-0.595055</td>\n",
       "      <td>-0.761194</td>\n",
       "      <td>-0.5</td>\n",
       "      <td>0.134529</td>\n",
       "      <td>-0.780220</td>\n",
       "      <td>-0.297968</td>\n",
       "      <td>0.057483</td>\n",
       "      <td>72.95</td>\n",
       "    </tr>\n",
       "  </tbody>\n",
       "</table>\n",
       "<p>123 rows × 14 columns</p>\n",
       "</div>"
      ],
      "text/plain": [
       "     crm_clue_자수  crm_clue_타인신고  crm_clue_현행범  crm_clue_탐문정보  vic_sx_2  \\\n",
       "0       2.303030       2.791139      0.701262       2.539326  1.274510   \n",
       "1       0.969697       0.848101      0.187938       0.741573  0.303268   \n",
       "2       2.757576       0.911392      0.858345       1.415730  1.032680   \n",
       "3       0.151515      -0.367089     -0.389902       0.943820 -0.427451   \n",
       "4       0.939394      -0.120253     -0.692847       0.719101 -0.597386   \n",
       "..           ...            ...           ...            ...       ...   \n",
       "118    -0.060606      -0.696203     -0.527349      -0.606742 -0.840523   \n",
       "119     0.090909       0.443038      0.502104      -0.202247  0.018301   \n",
       "120    -0.181818      -0.329114     -0.173913      -0.494382 -0.441830   \n",
       "121    -0.242424      -0.392405     -0.286115      -0.359551 -0.728105   \n",
       "122    -0.242424      -0.569620     -0.771388      -0.584270 -0.747712   \n",
       "\n",
       "     기초수급_19세이하  기초수급_20_34세  crm_tm_새벽  화재_사망   cctv_개수    배치인원_수    비상벨_개수  \\\n",
       "0      0.558545     0.000000   2.026119    0.5  1.538757  0.412088 -0.349135   \n",
       "1      0.558545     0.000000   0.574627    0.0  0.385650 -0.340659 -0.355154   \n",
       "2      0.558545     0.000000   0.772388   -0.5  1.364510  0.071429 -0.344620   \n",
       "3      1.192499     0.227611  -0.376866    0.5 -0.704036 -0.741758 -0.340105   \n",
       "4      1.192499     0.227611  -0.537313   -0.5 -0.899423 -0.978022 -0.338600   \n",
       "..          ...          ...        ...    ...       ...       ...       ...   \n",
       "118    0.247751     0.325447  -0.679104   -0.5 -0.295964 -0.791209  0.394281   \n",
       "119    0.855043     0.723412   0.313433    0.0  1.378603  0.472527  2.319037   \n",
       "120   -0.737151    -0.787768  -0.399254    1.0 -0.483024 -0.461538  0.153499   \n",
       "121   -0.780397    -0.775819  -0.563433    1.5 -0.982063 -0.587912 -0.293454   \n",
       "122   -0.366648    -0.595055  -0.761194   -0.5  0.134529 -0.780220 -0.297968   \n",
       "\n",
       "        일인가구수  score_법질서  \n",
       "0    0.664721      67.60  \n",
       "1   -0.405297      64.90  \n",
       "2    0.147598      66.10  \n",
       "3   -0.778802      64.65  \n",
       "4   -0.718932      69.00  \n",
       "..        ...        ...  \n",
       "118 -0.595211      69.75  \n",
       "119  0.637527      66.30  \n",
       "120 -0.848135      68.15  \n",
       "121  0.145254      66.40  \n",
       "122  0.057483      72.95  \n",
       "\n",
       "[123 rows x 14 columns]"
      ]
     },
     "execution_count": 74,
     "metadata": {},
     "output_type": "execute_result"
    }
   ],
   "source": [
    "robust_scaling(df, df.iloc[:,:-1].columns)"
   ]
  },
  {
   "cell_type": "markdown",
   "id": "eb7b5c84",
   "metadata": {},
   "source": [
    "# 설명력 보기위한 모델링"
   ]
  },
  {
   "cell_type": "code",
   "execution_count": 75,
   "id": "10d6ed64",
   "metadata": {},
   "outputs": [],
   "source": [
    "# train, test 분리\n",
    "X_train, X_test, y_train, y_test  = train_test_split(df.iloc[:,:-1], df[\"score_법질서\"],test_size = 0.3, random_state=0)"
   ]
  },
  {
   "cell_type": "code",
   "execution_count": 76,
   "id": "ce0859df",
   "metadata": {},
   "outputs": [],
   "source": [
    "X = np.array(df.drop('score_법질서', 1))\n",
    "Y = np.array(df['score_법질서'])"
   ]
  },
  {
   "cell_type": "code",
   "execution_count": 77,
   "id": "87818569",
   "metadata": {},
   "outputs": [
    {
     "name": "stdout",
     "output_type": "stream",
     "text": [
      "0.668206345027756 0.5062686879818721 2.093028915243336\n"
     ]
    }
   ],
   "source": [
    "#다중회귀\n",
    "lr = LinearRegression()\n",
    "lr.fit(X_train, y_train)\n",
    "print(lr.score(X_train, y_train), lr.score(X_test, y_test),mean_absolute_error(lr.predict(X_test), y_test))"
   ]
  },
  {
   "cell_type": "code",
   "execution_count": 78,
   "id": "eb2753ad",
   "metadata": {},
   "outputs": [
    {
     "name": "stdout",
     "output_type": "stream",
     "text": [
      "Fold = 1, mae = 1.71\n",
      "Fold = 2, mae = 2.17\n",
      "Fold = 3, mae = 1.96\n",
      "Fold = 4, mae = 1.48\n",
      "Fold = 5, mae = 2.29\n",
      "------------------------------\n",
      "Average Error: 1.9211979259345582\n",
      "------------------------------\n"
     ]
    }
   ],
   "source": [
    "# 다중회귀  교차검증\n",
    "mae_kfold(lr)"
   ]
  },
  {
   "cell_type": "markdown",
   "id": "3e747078",
   "metadata": {},
   "source": [
    "## ridge"
   ]
  },
  {
   "cell_type": "code",
   "execution_count": 79,
   "id": "6e633b62",
   "metadata": {},
   "outputs": [
    {
     "name": "stdout",
     "output_type": "stream",
     "text": [
      "100 : 0.291 0.227 mae: 2.618\n",
      "10 : 0.499 0.457 mae: 2.021\n",
      "1 : 0.644 0.591 mae: 1.864\n",
      "0.1 : 0.668 0.525 mae: 2.048\n",
      "0.01 : 0.668 0.508 mae: 2.088\n",
      "0.001 : 0.668 0.506 mae: 2.093\n",
      "0.0001 : 0.668 0.506 mae: 2.093\n"
     ]
    }
   ],
   "source": [
    "# ridge\n",
    "alphas_finder(Ridge)"
   ]
  },
  {
   "cell_type": "code",
   "execution_count": 80,
   "id": "076326ad",
   "metadata": {},
   "outputs": [
    {
     "name": "stdout",
     "output_type": "stream",
     "text": [
      "Fold = 1, mae = 2.35\n",
      "Fold = 2, mae = 2.78\n",
      "Fold = 3, mae = 2.23\n",
      "Fold = 4, mae = 2.48\n",
      "Fold = 5, mae = 3.06\n",
      "------------------------------\n",
      "Average Error: 2.5785037810612073\n",
      "------------------------------\n",
      "Fold = 1, mae = 1.61\n",
      "Fold = 2, mae = 2.51\n",
      "Fold = 3, mae = 1.94\n",
      "Fold = 4, mae = 1.95\n",
      "Fold = 5, mae = 2.66\n",
      "------------------------------\n",
      "Average Error: 2.133836733449986\n",
      "------------------------------\n",
      "Fold = 1, mae = 1.54\n",
      "Fold = 2, mae = 2.25\n",
      "Fold = 3, mae = 1.88\n",
      "Fold = 4, mae = 1.55\n",
      "Fold = 5, mae = 2.38\n",
      "------------------------------\n",
      "Average Error: 1.9197573422385035\n",
      "------------------------------\n",
      "Fold = 1, mae = 1.68\n",
      "Fold = 2, mae = 2.17\n",
      "Fold = 3, mae = 1.94\n",
      "Fold = 4, mae = 1.49\n",
      "Fold = 5, mae = 2.30\n",
      "------------------------------\n",
      "Average Error: 1.9156089965584446\n",
      "------------------------------\n",
      "Fold = 1, mae = 1.71\n",
      "Fold = 2, mae = 2.17\n",
      "Fold = 3, mae = 1.96\n",
      "Fold = 4, mae = 1.48\n",
      "Fold = 5, mae = 2.29\n",
      "------------------------------\n",
      "Average Error: 1.9205899784931755\n",
      "------------------------------\n",
      "Fold = 1, mae = 1.71\n",
      "Fold = 2, mae = 2.17\n",
      "Fold = 3, mae = 1.96\n",
      "Fold = 4, mae = 1.48\n",
      "Fold = 5, mae = 2.29\n",
      "------------------------------\n",
      "Average Error: 1.9211293366218007\n",
      "------------------------------\n",
      "Fold = 1, mae = 1.71\n",
      "Fold = 2, mae = 2.17\n",
      "Fold = 3, mae = 1.96\n",
      "Fold = 4, mae = 1.48\n",
      "Fold = 5, mae = 2.29\n",
      "------------------------------\n",
      "Average Error: 1.9211910631657225\n",
      "------------------------------\n"
     ]
    }
   ],
   "source": [
    "\n",
    "for i in [100, 10, 1, 0.1, 0.01, 0.001, 0.0001]:\n",
    "    ridge = Ridge(alpha=i)\n",
    "    mae_kfold(ridge)"
   ]
  },
  {
   "cell_type": "markdown",
   "id": "229dbbc3",
   "metadata": {},
   "source": [
    "## Lasso"
   ]
  },
  {
   "cell_type": "code",
   "execution_count": 81,
   "id": "00672d13",
   "metadata": {},
   "outputs": [
    {
     "name": "stdout",
     "output_type": "stream",
     "text": [
      "100 : 0.0 -0.012 mae: 3.1\n",
      "10 : 0.0 -0.012 mae: 3.1\n",
      "1 : 0.179 0.001 mae: 2.986\n",
      "0.1 : 0.544 0.461 mae: 1.981\n",
      "0.01 : 0.666 0.545 mae: 2.003\n",
      "0.001 : 0.668 0.511 mae: 2.083\n",
      "0.0001 : 0.668 0.507 mae: 2.092\n"
     ]
    }
   ],
   "source": [
    "# lasso\n",
    "alphas_finder(Lasso)"
   ]
  },
  {
   "cell_type": "code",
   "execution_count": 82,
   "id": "7d866653",
   "metadata": {},
   "outputs": [
    {
     "name": "stdout",
     "output_type": "stream",
     "text": [
      "Fold = 1, mae = 2.93\n",
      "Fold = 2, mae = 3.00\n",
      "Fold = 3, mae = 2.72\n",
      "Fold = 4, mae = 3.11\n",
      "Fold = 5, mae = 3.53\n",
      "------------------------------\n",
      "Average Error: 3.059333137497424\n",
      "------------------------------\n",
      "Fold = 1, mae = 2.93\n",
      "Fold = 2, mae = 3.00\n",
      "Fold = 3, mae = 2.72\n",
      "Fold = 4, mae = 3.11\n",
      "Fold = 5, mae = 3.53\n",
      "------------------------------\n",
      "Average Error: 3.059333137497424\n",
      "------------------------------\n",
      "Fold = 1, mae = 2.68\n",
      "Fold = 2, mae = 2.99\n",
      "Fold = 3, mae = 2.43\n",
      "Fold = 4, mae = 2.89\n",
      "Fold = 5, mae = 3.34\n",
      "------------------------------\n",
      "Average Error: 2.8684138529887786\n",
      "------------------------------\n",
      "Fold = 1, mae = 1.54\n",
      "Fold = 2, mae = 2.61\n",
      "Fold = 3, mae = 1.91\n",
      "Fold = 4, mae = 1.79\n",
      "Fold = 5, mae = 2.70\n",
      "------------------------------\n",
      "Average Error: 2.1099432518103773\n",
      "------------------------------\n",
      "Fold = 1, mae = 1.65\n",
      "Fold = 2, mae = 2.20\n",
      "Fold = 3, mae = 1.93\n",
      "Fold = 4, mae = 1.49\n",
      "Fold = 5, mae = 2.33\n",
      "------------------------------\n",
      "Average Error: 1.920594270780623\n",
      "------------------------------\n",
      "Fold = 1, mae = 1.71\n",
      "Fold = 2, mae = 2.17\n",
      "Fold = 3, mae = 1.95\n",
      "Fold = 4, mae = 1.48\n",
      "Fold = 5, mae = 2.29\n",
      "------------------------------\n",
      "Average Error: 1.9209572114044178\n",
      "------------------------------\n",
      "Fold = 1, mae = 1.71\n",
      "Fold = 2, mae = 2.17\n",
      "Fold = 3, mae = 1.96\n",
      "Fold = 4, mae = 1.48\n",
      "Fold = 5, mae = 2.29\n",
      "------------------------------\n",
      "Average Error: 1.9211615414603833\n",
      "------------------------------\n"
     ]
    }
   ],
   "source": [
    "\n",
    "for i in [100, 10, 1, 0.1, 0.01, 0.001, 0.0001]:\n",
    "    lasso = Lasso(alpha=i)\n",
    "    mae_kfold(lasso)"
   ]
  },
  {
   "cell_type": "markdown",
   "id": "699c642b",
   "metadata": {},
   "source": [
    "## ElasticNet"
   ]
  },
  {
   "cell_type": "code",
   "execution_count": 83,
   "id": "a214258a",
   "metadata": {},
   "outputs": [
    {
     "name": "stdout",
     "output_type": "stream",
     "text": [
      "100 : 0.0 -0.012 mae: 3.1\n",
      "10 : 0.0 -0.012 mae: 3.1\n",
      "1 : 0.232 0.099 mae: 2.824\n",
      "0.1 : 0.518 0.473 mae: 1.967\n",
      "0.01 : 0.658 0.575 mae: 1.924\n",
      "0.001 : 0.668 0.517 mae: 2.068\n",
      "0.0001 : 0.668 0.507 mae: 2.09\n"
     ]
    }
   ],
   "source": [
    "alphas_finder(ElasticNet)"
   ]
  },
  {
   "cell_type": "code",
   "execution_count": 84,
   "id": "1f594038",
   "metadata": {},
   "outputs": [
    {
     "name": "stdout",
     "output_type": "stream",
     "text": [
      "Fold = 1, mae = 2.93\n",
      "Fold = 2, mae = 3.00\n",
      "Fold = 3, mae = 2.72\n",
      "Fold = 4, mae = 3.11\n",
      "Fold = 5, mae = 3.53\n",
      "------------------------------\n",
      "Average Error: 3.059333137497424\n",
      "------------------------------\n",
      "Fold = 1, mae = 2.93\n",
      "Fold = 2, mae = 3.00\n",
      "Fold = 3, mae = 2.72\n",
      "Fold = 4, mae = 3.11\n",
      "Fold = 5, mae = 3.53\n",
      "------------------------------\n",
      "Average Error: 3.059333137497424\n",
      "------------------------------\n",
      "Fold = 1, mae = 2.52\n",
      "Fold = 2, mae = 2.89\n",
      "Fold = 3, mae = 2.35\n",
      "Fold = 4, mae = 2.68\n",
      "Fold = 5, mae = 3.17\n",
      "------------------------------\n",
      "Average Error: 2.7216909786768033\n",
      "------------------------------\n",
      "Fold = 1, mae = 1.59\n",
      "Fold = 2, mae = 2.53\n",
      "Fold = 3, mae = 1.95\n",
      "Fold = 4, mae = 1.88\n",
      "Fold = 5, mae = 2.67\n",
      "------------------------------\n",
      "Average Error: 2.1247810699757688\n",
      "------------------------------\n",
      "Fold = 1, mae = 1.57\n",
      "Fold = 2, mae = 2.22\n",
      "Fold = 3, mae = 1.89\n",
      "Fold = 4, mae = 1.52\n",
      "Fold = 5, mae = 2.36\n",
      "------------------------------\n",
      "Average Error: 1.9150551066513262\n",
      "------------------------------\n",
      "Fold = 1, mae = 1.69\n",
      "Fold = 2, mae = 2.17\n",
      "Fold = 3, mae = 1.95\n",
      "Fold = 4, mae = 1.48\n",
      "Fold = 5, mae = 2.30\n",
      "------------------------------\n",
      "Average Error: 1.9182753887187782\n",
      "------------------------------\n",
      "Fold = 1, mae = 1.71\n",
      "Fold = 2, mae = 2.17\n",
      "Fold = 3, mae = 1.96\n",
      "Fold = 4, mae = 1.48\n",
      "Fold = 5, mae = 2.29\n",
      "------------------------------\n",
      "Average Error: 1.9208808281585068\n",
      "------------------------------\n"
     ]
    }
   ],
   "source": [
    "\n",
    "for i in [100, 10, 1, 0.1, 0.01, 0.001, 0.0001]:\n",
    "    elastic = ElasticNet(alpha=i)\n",
    "    mae_kfold(elastic)"
   ]
  },
  {
   "cell_type": "markdown",
   "id": "24200ae9",
   "metadata": {},
   "source": [
    "## XGboost"
   ]
  },
  {
   "cell_type": "code",
   "execution_count": 85,
   "id": "8b2cdb82",
   "metadata": {},
   "outputs": [
    {
     "name": "stdout",
     "output_type": "stream",
     "text": [
      "0.9999999564311066 0.3036318337580656 2.592367058831293\n"
     ]
    }
   ],
   "source": [
    "#XG boost\n",
    "xgbr = XGBRegressor()\n",
    "xgbr.fit(X_train, y_train)\n",
    "print(xgbr.score(X_train, y_train), xgbr.score(X_test, y_test),mean_absolute_error(xgbr.predict(X_test), y_test))"
   ]
  },
  {
   "cell_type": "code",
   "execution_count": 86,
   "id": "b80af59b",
   "metadata": {},
   "outputs": [
    {
     "name": "stdout",
     "output_type": "stream",
     "text": [
      "Fold = 1, mae = 2.76\n",
      "Fold = 2, mae = 2.36\n",
      "Fold = 3, mae = 2.37\n",
      "Fold = 4, mae = 2.04\n",
      "Fold = 5, mae = 2.72\n",
      "------------------------------\n",
      "Average Error: 2.45074628829956\n",
      "------------------------------\n"
     ]
    }
   ],
   "source": [
    "#XG boost교차검증\n",
    "mae_kfold(xgbr)"
   ]
  },
  {
   "cell_type": "code",
   "execution_count": 87,
   "id": "9cbd7528",
   "metadata": {},
   "outputs": [
    {
     "name": "stdout",
     "output_type": "stream",
     "text": [
      "0.9999999814131822 -0.049638450149519064 3.0708950558224233\n"
     ]
    }
   ],
   "source": [
    "#XG boost 튜닝\n",
    "xgbr = XGBRegressor(n_estimators = 400, learning_rate = 1, max_depth = 3, objective=\"reg:squarederror\")\n",
    "xgbr.fit(X_train, y_train)\n",
    "print(xgbr.score(X_train, y_train), xgbr.score(X_test, y_test),mean_absolute_error(xgbr.predict(X_test), y_test))"
   ]
  },
  {
   "cell_type": "code",
   "execution_count": 88,
   "id": "95242784",
   "metadata": {},
   "outputs": [
    {
     "name": "stdout",
     "output_type": "stream",
     "text": [
      "Fold = 1, mae = 3.34\n",
      "Fold = 2, mae = 3.13\n",
      "Fold = 3, mae = 2.52\n",
      "Fold = 4, mae = 2.66\n",
      "Fold = 5, mae = 3.39\n",
      "------------------------------\n",
      "Average Error: 3.0063996465047196\n",
      "------------------------------\n"
     ]
    }
   ],
   "source": [
    "#XG boost교차검증\n",
    "mae_kfold(xgbr)"
   ]
  },
  {
   "cell_type": "markdown",
   "id": "770fef44",
   "metadata": {},
   "source": [
    "## lightgbm"
   ]
  },
  {
   "cell_type": "code",
   "execution_count": 89,
   "id": "cd58493f",
   "metadata": {},
   "outputs": [
    {
     "name": "stdout",
     "output_type": "stream",
     "text": [
      "0.7682866629415638 0.2813322833528027 2.5420872168526754\n"
     ]
    }
   ],
   "source": [
    "#lightgbm\n",
    "lgbm = LGBMRegressor()\n",
    "lgbm.fit(X_train, y_train)\n",
    "print(lgbm.score(X_train, y_train), lgbm.score(X_test, y_test),mean_absolute_error(lgbm.predict(X_test), y_test))"
   ]
  },
  {
   "cell_type": "code",
   "execution_count": 90,
   "id": "9cfd5e32",
   "metadata": {},
   "outputs": [
    {
     "name": "stdout",
     "output_type": "stream",
     "text": [
      "Fold = 1, mae = 1.90\n",
      "Fold = 2, mae = 2.43\n",
      "Fold = 3, mae = 2.14\n",
      "Fold = 4, mae = 2.02\n",
      "Fold = 5, mae = 2.75\n",
      "------------------------------\n",
      "Average Error: 2.245712536903434\n",
      "------------------------------\n"
     ]
    }
   ],
   "source": [
    "#lightgbm교차검증\n",
    "mae_kfold(lgbm)"
   ]
  },
  {
   "cell_type": "code",
   "execution_count": 91,
   "id": "d737326f",
   "metadata": {},
   "outputs": [
    {
     "name": "stdout",
     "output_type": "stream",
     "text": [
      "학습 결과 :  0.5739504124237272\n",
      "테스트 결과 :  0.6187279127023337\n",
      "테스트 결과 :  1.8430720321925251\n"
     ]
    }
   ],
   "source": [
    "#SVR\n",
    "svr = SVR(kernel=\"linear\")\n",
    "svr.fit(X_train, y_train)\n",
    "\n",
    "print(\"학습 결과 : \", svr.score(X_train, y_train))\n",
    "print(\"테스트 결과 : \", svr.score(X_test, y_test))\n",
    "print(\"테스트 결과 : \", mean_absolute_error(svr.predict(X_test), y_test))"
   ]
  },
  {
   "cell_type": "code",
   "execution_count": 92,
   "id": "6bcd71f5",
   "metadata": {},
   "outputs": [
    {
     "name": "stdout",
     "output_type": "stream",
     "text": [
      "Fold = 1, mae = 1.46\n",
      "Fold = 2, mae = 2.23\n",
      "Fold = 3, mae = 1.92\n",
      "Fold = 4, mae = 1.92\n",
      "Fold = 5, mae = 2.28\n",
      "------------------------------\n",
      "Average Error: 1.9629255050160377\n",
      "------------------------------\n"
     ]
    }
   ],
   "source": [
    "mae_kfold(svr)"
   ]
  },
  {
   "cell_type": "code",
   "execution_count": null,
   "id": "583f9164",
   "metadata": {},
   "outputs": [],
   "source": []
  },
  {
   "cell_type": "code",
   "execution_count": null,
   "id": "8390b4f0",
   "metadata": {},
   "outputs": [],
   "source": []
  }
 ],
 "metadata": {
  "kernelspec": {
   "display_name": "Python 3",
   "language": "python",
   "name": "python3"
  },
  "language_info": {
   "codemirror_mode": {
    "name": "ipython",
    "version": 3
   },
   "file_extension": ".py",
   "mimetype": "text/x-python",
   "name": "python",
   "nbconvert_exporter": "python",
   "pygments_lexer": "ipython3",
   "version": "3.8.5"
  }
 },
 "nbformat": 4,
 "nbformat_minor": 5
}
