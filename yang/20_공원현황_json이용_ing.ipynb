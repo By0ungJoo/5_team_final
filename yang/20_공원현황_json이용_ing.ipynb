{
 "cells": [
  {
   "cell_type": "code",
   "execution_count": 1,
   "id": "sealed-retreat",
   "metadata": {},
   "outputs": [],
   "source": [
    "import pandas  as  pd"
   ]
  },
  {
   "cell_type": "markdown",
   "id": "incident-birthday",
   "metadata": {},
   "source": [
    "## 1. 파일불러오기"
   ]
  },
  {
   "cell_type": "code",
   "execution_count": 2,
   "id": "still-congo",
   "metadata": {},
   "outputs": [
    {
     "data": {
      "text/plain": [
       "park_nm     0\n",
       "park_gbn    0\n",
       "lon         0\n",
       "lat         0\n",
       "dtype: int64"
      ]
     },
     "execution_count": 2,
     "metadata": {},
     "output_type": "execute_result"
    }
   ],
   "source": [
    "df = pd.read_csv(\"raw_data/20.5개시도_공원현황.csv\")\n",
    "df.isnull().sum()"
   ]
  },
  {
   "cell_type": "code",
   "execution_count": 8,
   "id": "taken-merit",
   "metadata": {},
   "outputs": [],
   "source": [
    "# 추후 반복문에서 replace로 바꾸기 위해\n",
    "df[\"관할서\"] = \"모름\"\n"
   ]
  },
  {
   "cell_type": "markdown",
   "id": "affecting-scientist",
   "metadata": {},
   "source": [
    "## 2. json파일, 위도경도 이용하여 관할서 지정"
   ]
  },
  {
   "cell_type": "code",
   "execution_count": 3,
   "id": "guided-headline",
   "metadata": {},
   "outputs": [],
   "source": [
    "# 위도경도 데이터 zip\n",
    "location = list(zip(df[\"lon\"], df[\"lat\"]))"
   ]
  },
  {
   "cell_type": "code",
   "execution_count": 4,
   "id": "underlying-notion",
   "metadata": {},
   "outputs": [
    {
     "name": "stderr",
     "output_type": "stream",
     "text": [
      "/opt/app-root/lib/python3.6/site-packages/geopandas/_compat.py:110: UserWarning: The Shapely GEOS version (3.8.0-CAPI-1.13.1 ) is incompatible with the GEOS version PyGEOS was compiled with (3.9.0-CAPI-1.16.2). Conversions between both will be slow.\n",
      "  shapely_geos_version, geos_capi_version_string\n"
     ]
    }
   ],
   "source": [
    "# geopandas, Point  라이브러리\n",
    "import geopandas as gpd\n",
    "from shapely.geometry import Point, Polygon"
   ]
  },
  {
   "cell_type": "code",
   "execution_count": 5,
   "id": "visible-reynolds",
   "metadata": {},
   "outputs": [],
   "source": [
    "# 위도경도 데이터 Point로 만들어주기\n",
    "st_list = []\n",
    "for i in location:\n",
    "    test_code = Point(i)\n",
    "    st_list.append(test_code)"
   ]
  },
  {
   "cell_type": "code",
   "execution_count": 11,
   "id": "weighted-shipping",
   "metadata": {},
   "outputs": [
    {
     "data": {
      "text/html": [
       "<div>\n",
       "<style scoped>\n",
       "    .dataframe tbody tr th:only-of-type {\n",
       "        vertical-align: middle;\n",
       "    }\n",
       "\n",
       "    .dataframe tbody tr th {\n",
       "        vertical-align: top;\n",
       "    }\n",
       "\n",
       "    .dataframe thead th {\n",
       "        text-align: right;\n",
       "    }\n",
       "</style>\n",
       "<table border=\"1\" class=\"dataframe\">\n",
       "  <thead>\n",
       "    <tr style=\"text-align: right;\">\n",
       "      <th></th>\n",
       "      <th>NAME</th>\n",
       "      <th>PNAME</th>\n",
       "      <th>geometry</th>\n",
       "    </tr>\n",
       "  </thead>\n",
       "  <tbody>\n",
       "    <tr>\n",
       "      <th>0</th>\n",
       "      <td>세종경찰서</td>\n",
       "      <td>충남청</td>\n",
       "      <td>MULTIPOLYGON (((127.17202 36.73106, 127.17202 ...</td>\n",
       "    </tr>\n",
       "    <tr>\n",
       "      <th>1</th>\n",
       "      <td>진주경찰서</td>\n",
       "      <td>경남청</td>\n",
       "      <td>MULTIPOLYGON (((128.26697 35.12927, 128.26697 ...</td>\n",
       "    </tr>\n",
       "    <tr>\n",
       "      <th>2</th>\n",
       "      <td>창원서부경찰서</td>\n",
       "      <td>경남청</td>\n",
       "      <td>MULTIPOLYGON (((128.63363 35.22152, 128.63357 ...</td>\n",
       "    </tr>\n",
       "    <tr>\n",
       "      <th>3</th>\n",
       "      <td>창원중부경찰서</td>\n",
       "      <td>경남청</td>\n",
       "      <td>MULTIPOLYGON (((128.60966 35.15093, 128.60956 ...</td>\n",
       "    </tr>\n",
       "    <tr>\n",
       "      <th>4</th>\n",
       "      <td>마산동부경찰서</td>\n",
       "      <td>경남청</td>\n",
       "      <td>MULTIPOLYGON (((128.62696 35.21714, 128.62695 ...</td>\n",
       "    </tr>\n",
       "  </tbody>\n",
       "</table>\n",
       "</div>"
      ],
      "text/plain": [
       "      NAME PNAME                                           geometry\n",
       "0    세종경찰서   충남청  MULTIPOLYGON (((127.17202 36.73106, 127.17202 ...\n",
       "1    진주경찰서   경남청  MULTIPOLYGON (((128.26697 35.12927, 128.26697 ...\n",
       "2  창원서부경찰서   경남청  MULTIPOLYGON (((128.63363 35.22152, 128.63357 ...\n",
       "3  창원중부경찰서   경남청  MULTIPOLYGON (((128.60966 35.15093, 128.60956 ...\n",
       "4  마산동부경찰서   경남청  MULTIPOLYGON (((128.62696 35.21714, 128.62695 ..."
      ]
     },
     "execution_count": 11,
     "metadata": {},
     "output_type": "execute_result"
    }
   ],
   "source": [
    "#관할서 경계데이터 geopandas로 읽어오기\n",
    "df_js = gpd.read_file('raw_data/1.5개시도_경찰서_관할경계.geojson', encoding='cp949')\n",
    "df_js.head()"
   ]
  },
  {
   "cell_type": "code",
   "execution_count": 13,
   "id": "perfect-essence",
   "metadata": {},
   "outputs": [],
   "source": [
    "# 빠른 반복문 진행을 위해 변수지정\n",
    "df_js_list = df_js[\"geometry\"]\n",
    "df_js_name = df_js[\"NAME\"]"
   ]
  },
  {
   "cell_type": "code",
   "execution_count": 7,
   "id": "dying-dividend",
   "metadata": {},
   "outputs": [],
   "source": [
    "#반복문진행률\n",
    "from tqdm import tqdm"
   ]
  },
  {
   "cell_type": "code",
   "execution_count": 26,
   "id": "crazy-triumph",
   "metadata": {},
   "outputs": [
    {
     "name": "stderr",
     "output_type": "stream",
     "text": [
      "100%|██████████| 41/41 [01:48<00:00,  2.65s/it]\n"
     ]
    }
   ],
   "source": [
    "# 위도경도 데이터가 관할경계데이터에 포함되면  관할서의 이름값을 df관할서의 \"모름\"을 관할서 이름으로 바꿔라  \n",
    "for z in tqdm(range(41)):\n",
    "    for i in range(len(df)):\n",
    "        if st_list[i].within(df_js_list[z]):\n",
    "            df.iloc[i,-1] = df.iloc[i,-1].replace(\"모름\",df_js_name[z])\n",
    "            \n",
    "        else:\n",
    "            pass"
   ]
  },
  {
   "cell_type": "code",
   "execution_count": 28,
   "id": "greenhouse-manner",
   "metadata": {},
   "outputs": [],
   "source": [
    "#파일저장\n",
    "df.to_csv(\"데이터별_관할서리스트/공원현황_관할서리스트\")"
   ]
  },
  {
   "cell_type": "code",
   "execution_count": 30,
   "id": "ongoing-wonder",
   "metadata": {},
   "outputs": [
    {
     "data": {
      "text/html": [
       "<div>\n",
       "<style scoped>\n",
       "    .dataframe tbody tr th:only-of-type {\n",
       "        vertical-align: middle;\n",
       "    }\n",
       "\n",
       "    .dataframe tbody tr th {\n",
       "        vertical-align: top;\n",
       "    }\n",
       "\n",
       "    .dataframe thead th {\n",
       "        text-align: right;\n",
       "    }\n",
       "</style>\n",
       "<table border=\"1\" class=\"dataframe\">\n",
       "  <thead>\n",
       "    <tr style=\"text-align: right;\">\n",
       "      <th></th>\n",
       "      <th>park_nm</th>\n",
       "      <th>park_gbn</th>\n",
       "      <th>lon</th>\n",
       "      <th>lat</th>\n",
       "      <th>관할서</th>\n",
       "    </tr>\n",
       "  </thead>\n",
       "  <tbody>\n",
       "    <tr>\n",
       "      <th>0</th>\n",
       "      <td>도램샘 어린이공원(어1-13)</td>\n",
       "      <td>어린이공원</td>\n",
       "      <td>127.253744</td>\n",
       "      <td>36.520719</td>\n",
       "      <td>세종경찰서</td>\n",
       "    </tr>\n",
       "    <tr>\n",
       "      <th>1</th>\n",
       "      <td>꾸러기 어린이공원(어1-14)</td>\n",
       "      <td>어린이공원</td>\n",
       "      <td>127.241635</td>\n",
       "      <td>36.502642</td>\n",
       "      <td>세종경찰서</td>\n",
       "    </tr>\n",
       "    <tr>\n",
       "      <th>2</th>\n",
       "      <td>푸른꿈 어린이공원(어1-15)</td>\n",
       "      <td>어린이공원</td>\n",
       "      <td>127.262852</td>\n",
       "      <td>36.519766</td>\n",
       "      <td>세종경찰서</td>\n",
       "    </tr>\n",
       "    <tr>\n",
       "      <th>3</th>\n",
       "      <td>방울새 어린이공원(어1-18)</td>\n",
       "      <td>어린이공원</td>\n",
       "      <td>127.268955</td>\n",
       "      <td>36.496070</td>\n",
       "      <td>세종경찰서</td>\n",
       "    </tr>\n",
       "    <tr>\n",
       "      <th>4</th>\n",
       "      <td>푸른하늘 어린이공원(어1-19)</td>\n",
       "      <td>어린이공원</td>\n",
       "      <td>127.245986</td>\n",
       "      <td>36.510491</td>\n",
       "      <td>세종경찰서</td>\n",
       "    </tr>\n",
       "    <tr>\n",
       "      <th>...</th>\n",
       "      <td>...</td>\n",
       "      <td>...</td>\n",
       "      <td>...</td>\n",
       "      <td>...</td>\n",
       "      <td>...</td>\n",
       "    </tr>\n",
       "    <tr>\n",
       "      <th>2824</th>\n",
       "      <td>쌍문근린공원</td>\n",
       "      <td>근린공원</td>\n",
       "      <td>127.029088</td>\n",
       "      <td>37.654192</td>\n",
       "      <td>서울도봉경찰서</td>\n",
       "    </tr>\n",
       "    <tr>\n",
       "      <th>2825</th>\n",
       "      <td>월천근린공원</td>\n",
       "      <td>근린공원</td>\n",
       "      <td>127.052319</td>\n",
       "      <td>37.647271</td>\n",
       "      <td>서울도봉경찰서</td>\n",
       "    </tr>\n",
       "    <tr>\n",
       "      <th>2826</th>\n",
       "      <td>누 원</td>\n",
       "      <td>어린이공원</td>\n",
       "      <td>127.050046</td>\n",
       "      <td>37.680396</td>\n",
       "      <td>서울도봉경찰서</td>\n",
       "    </tr>\n",
       "    <tr>\n",
       "      <th>2827</th>\n",
       "      <td>새동네</td>\n",
       "      <td>어린이공원</td>\n",
       "      <td>127.043172</td>\n",
       "      <td>37.688975</td>\n",
       "      <td>서울도봉경찰서</td>\n",
       "    </tr>\n",
       "    <tr>\n",
       "      <th>2828</th>\n",
       "      <td>무지개</td>\n",
       "      <td>어린이공원</td>\n",
       "      <td>127.045024</td>\n",
       "      <td>37.685648</td>\n",
       "      <td>서울도봉경찰서</td>\n",
       "    </tr>\n",
       "  </tbody>\n",
       "</table>\n",
       "<p>2829 rows × 5 columns</p>\n",
       "</div>"
      ],
      "text/plain": [
       "                park_nm park_gbn         lon        lat      관할서\n",
       "0      도램샘 어린이공원(어1-13)    어린이공원  127.253744  36.520719    세종경찰서\n",
       "1      꾸러기 어린이공원(어1-14)    어린이공원  127.241635  36.502642    세종경찰서\n",
       "2      푸른꿈 어린이공원(어1-15)    어린이공원  127.262852  36.519766    세종경찰서\n",
       "3      방울새 어린이공원(어1-18)    어린이공원  127.268955  36.496070    세종경찰서\n",
       "4     푸른하늘 어린이공원(어1-19)    어린이공원  127.245986  36.510491    세종경찰서\n",
       "...                 ...      ...         ...        ...      ...\n",
       "2824             쌍문근린공원     근린공원  127.029088  37.654192  서울도봉경찰서\n",
       "2825             월천근린공원     근린공원  127.052319  37.647271  서울도봉경찰서\n",
       "2826                누 원    어린이공원  127.050046  37.680396  서울도봉경찰서\n",
       "2827                새동네    어린이공원  127.043172  37.688975  서울도봉경찰서\n",
       "2828                무지개    어린이공원  127.045024  37.685648  서울도봉경찰서\n",
       "\n",
       "[2829 rows x 5 columns]"
      ]
     },
     "execution_count": 30,
     "metadata": {},
     "output_type": "execute_result"
    }
   ],
   "source": [
    "pd.read_csv(\"데이터별_관할서리스트/공원현황_관할서리스트\", index_col = 0)"
   ]
  }
 ],
 "metadata": {
  "kernelspec": {
   "display_name": "Python 3",
   "language": "python",
   "name": "python3"
  },
  "language_info": {
   "codemirror_mode": {
    "name": "ipython",
    "version": 3
   },
   "file_extension": ".py",
   "mimetype": "text/x-python",
   "name": "python",
   "nbconvert_exporter": "python",
   "pygments_lexer": "ipython3",
   "version": "3.6.9"
  }
 },
 "nbformat": 4,
 "nbformat_minor": 5
}
