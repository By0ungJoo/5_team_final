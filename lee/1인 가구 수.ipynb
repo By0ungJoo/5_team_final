{
 "cells": [
  {
   "cell_type": "code",
   "execution_count": 1,
   "metadata": {},
   "outputs": [],
   "source": [
    "import numpy as np\n",
    "import pandas as pd"
   ]
  },
  {
   "cell_type": "code",
   "execution_count": 37,
   "metadata": {},
   "outputs": [
    {
     "data": {
      "text/html": [
       "<div>\n",
       "<style scoped>\n",
       "    .dataframe tbody tr th:only-of-type {\n",
       "        vertical-align: middle;\n",
       "    }\n",
       "\n",
       "    .dataframe tbody tr th {\n",
       "        vertical-align: top;\n",
       "    }\n",
       "\n",
       "    .dataframe thead th {\n",
       "        text-align: right;\n",
       "    }\n",
       "</style>\n",
       "<table border=\"1\" class=\"dataframe\">\n",
       "  <thead>\n",
       "    <tr style=\"text-align: right;\">\n",
       "      <th></th>\n",
       "      <th>sido</th>\n",
       "      <th>sgg_nm</th>\n",
       "      <th>sx</th>\n",
       "      <th>age</th>\n",
       "      <th>date</th>\n",
       "      <th>single_person_hh</th>\n",
       "      <th>house_total_num</th>\n",
       "      <th>detached_house</th>\n",
       "      <th>apartment</th>\n",
       "      <th>townhouse</th>\n",
       "      <th>multiplex_house</th>\n",
       "      <th>house_in_commercial</th>\n",
       "      <th>not_in_house</th>\n",
       "    </tr>\n",
       "  </thead>\n",
       "  <tbody>\n",
       "    <tr>\n",
       "      <th>1056</th>\n",
       "      <td>서울특별시</td>\n",
       "      <td>강남구</td>\n",
       "      <td>계</td>\n",
       "      <td>합계</td>\n",
       "      <td>2017</td>\n",
       "      <td>62774</td>\n",
       "      <td>53464</td>\n",
       "      <td>19259</td>\n",
       "      <td>19654</td>\n",
       "      <td>1074</td>\n",
       "      <td>11334</td>\n",
       "      <td>2143</td>\n",
       "      <td>9310</td>\n",
       "    </tr>\n",
       "    <tr>\n",
       "      <th>2736</th>\n",
       "      <td>서울특별시</td>\n",
       "      <td>강남구</td>\n",
       "      <td>계</td>\n",
       "      <td>합계</td>\n",
       "      <td>2018</td>\n",
       "      <td>62727</td>\n",
       "      <td>52807</td>\n",
       "      <td>19038</td>\n",
       "      <td>18614</td>\n",
       "      <td>1045</td>\n",
       "      <td>11888</td>\n",
       "      <td>2222</td>\n",
       "      <td>9920</td>\n",
       "    </tr>\n",
       "    <tr>\n",
       "      <th>4416</th>\n",
       "      <td>서울특별시</td>\n",
       "      <td>강남구</td>\n",
       "      <td>계</td>\n",
       "      <td>합계</td>\n",
       "      <td>2019</td>\n",
       "      <td>66073</td>\n",
       "      <td>55051</td>\n",
       "      <td>19287</td>\n",
       "      <td>19693</td>\n",
       "      <td>1066</td>\n",
       "      <td>12763</td>\n",
       "      <td>2242</td>\n",
       "      <td>11022</td>\n",
       "    </tr>\n",
       "  </tbody>\n",
       "</table>\n",
       "</div>"
      ],
      "text/plain": [
       "       sido sgg_nm sx age  date  single_person_hh  house_total_num  \\\n",
       "1056  서울특별시    강남구  계  합계  2017             62774            53464   \n",
       "2736  서울특별시    강남구  계  합계  2018             62727            52807   \n",
       "4416  서울특별시    강남구  계  합계  2019             66073            55051   \n",
       "\n",
       "      detached_house apartment townhouse multiplex_house house_in_commercial  \\\n",
       "1056           19259     19654      1074           11334                2143   \n",
       "2736           19038     18614      1045           11888                2222   \n",
       "4416           19287     19693      1066           12763                2242   \n",
       "\n",
       "     not_in_house  \n",
       "1056         9310  \n",
       "2736         9920  \n",
       "4416        11022  "
      ]
     },
     "execution_count": 37,
     "metadata": {},
     "output_type": "execute_result"
    }
   ],
   "source": [
    "solo = pd.read_csv('../finalproject/SBJ_2107_004/15.5개시도_1인가구수.csv')\n",
    "solo = solo.fillna(0)\n",
    "solo = solo[(solo.sx=='계')&(solo.age=='합계')]"
   ]
  },
  {
   "cell_type": "code",
   "execution_count": 34,
   "metadata": {},
   "outputs": [],
   "source": [
    "## 하나의 구에 두개의 관할서가 있는 경우\n",
    "\n",
    "## 강남구\n",
    "## 수서경찰서\n",
    "seoul_gagu_suseo = pd.read_csv('../finalproject/KOSIS/seoul_gagu/suseo.csv', encoding='cp949')\n",
    "seoul_gagu_suseo = seoul_gagu_suseo.rename(columns=seoul_gagu_suseo.iloc[0])\n",
    "seoul_gagu_suseo = seoul_gagu_suseo.drop(seoul_gagu_suseo.index[0])\n",
    "seoul_gagu_suseo = seoul_gagu_suseo.iloc[:,[2,4]].astype(int)\n",
    "\n",
    "## 강남경찰서\n",
    "seoul_gagu_gangnam = pd.read_csv('../finalproject/KOSIS/seoul_gagu/gangnam.csv', encoding='cp949')\n",
    "seoul_gagu_gangnam = seoul_gagu_gangnam.rename(columns=seoul_gagu_gangnam.iloc[0])\n",
    "seoul_gagu_gangnam = seoul_gagu_gangnam.drop(seoul_gagu_gangnam.index[0])\n",
    "seoul_gagu_gangnam = seoul_gagu_gangnam.iloc[:,[2,4]].astype(int)\n",
    "\n",
    "\n",
    "## 종로구\n",
    "## 종로경찰서\n",
    "seoul_gagu_jongro = pd.read_csv('../finalproject/KOSIS/seoul_gagu/jongro.csv', encoding='cp949')\n",
    "seoul_gagu_jongro = seoul_gagu_jongro.rename(columns=seoul_gagu_jongro.iloc[0])\n",
    "seoul_gagu_jongro = seoul_gagu_jongro.drop(seoul_gagu_jongro.index[0])\n",
    "seoul_gagu_jongro = seoul_gagu_jongro.iloc[:,[2,4]].astype(int)\n",
    "\n",
    "\n",
    "## 혜화경찰서\n",
    "seoul_gagu_hyehwa = pd.read_csv('../finalproject/KOSIS/seoul_gagu/hyehwa.csv', encoding='cp949')\n",
    "seoul_gagu_hyehwa = seoul_gagu_hyehwa.rename(columns=seoul_gagu_hyehwa.iloc[0])\n",
    "seoul_gagu_hyehwa = seoul_gagu_hyehwa.drop(seoul_gagu_hyehwa.index[0])\n",
    "seoul_gagu_hyehwa = seoul_gagu_hyehwa.iloc[:,[2,4]].astype(int)\n",
    "\n",
    "\n",
    "## 중구\n",
    "## 남대문경찰서\n",
    "seoul_gagu_namdaemun = pd.read_csv('../finalproject/KOSIS/seoul_gagu/namdaemun.csv', encoding='cp949')\n",
    "seoul_gagu_namdaemun = seoul_gagu_namdaemun.rename(columns=seoul_gagu_namdaemun.iloc[0])\n",
    "seoul_gagu_namdaemun = seoul_gagu_namdaemun.drop(seoul_gagu_namdaemun.index[0])\n",
    "seoul_gagu_namdaemun = seoul_gagu_namdaemun.iloc[:,[2,4]].astype(int)\n",
    "\n",
    "\n",
    "## 중부경찰서\n",
    "seoul_gagu_jungbu = pd.read_csv('../finalproject/KOSIS/seoul_gagu/jungbu.csv', encoding='cp949')\n",
    "seoul_gagu_jungbu = seoul_gagu_jungbu.rename(columns=seoul_gagu_jungbu.iloc[0])\n",
    "seoul_gagu_jungbu = seoul_gagu_jungbu.drop(seoul_gagu_jungbu.index[0])\n",
    "seoul_gagu_jungbu = seoul_gagu_jungbu.iloc[:,[2,4]].astype(int)\n",
    "\n",
    "\n",
    "## 서초구\n",
    "## 방배경찰서\n",
    "seoul_gagu_bangbae = pd.read_csv('../finalproject/KOSIS/seoul_gagu/bangbae.csv', encoding='cp949')\n",
    "seoul_gagu_bangbae = seoul_gagu_bangbae.rename(columns=seoul_gagu_bangbae.iloc[0])\n",
    "seoul_gagu_bangbae = seoul_gagu_bangbae.drop(seoul_gagu_bangbae.index[0])\n",
    "seoul_gagu_bangbae = seoul_gagu_bangbae.iloc[:,[2,4]].astype(int)\n",
    "\n",
    "\n",
    "\n",
    "## 서초경찰서\n",
    "seoul_gagu_seocho = pd.read_csv('../finalproject/KOSIS/seoul_gagu/seocho.csv', encoding='cp949')\n",
    "seoul_gagu_seocho = seoul_gagu_seocho.rename(columns=seoul_gagu_seocho.iloc[0])\n",
    "seoul_gagu_seocho = seoul_gagu_seocho.drop(seoul_gagu_seocho.index[0])\n",
    "seoul_gagu_seocho = seoul_gagu_seocho.iloc[:,[2,4]].astype(int)\n",
    "\n",
    "\n",
    "\n",
    "## 은평구\n",
    "## 서부경찰서\n",
    "seoul_gagu_seobu = pd.read_csv('../finalproject/KOSIS/seoul_gagu/seobu.csv', encoding='cp949')\n",
    "seoul_gagu_seobu = seoul_gagu_seobu.rename(columns=seoul_gagu_seobu.iloc[0])\n",
    "seoul_gagu_seobu = seoul_gagu_seobu.drop(seoul_gagu_seobu.index[0])\n",
    "seoul_gagu_seobu = seoul_gagu_seobu.iloc[:,[2,4]].astype(int)\n",
    "\n",
    "\n",
    "\n",
    "## 은평경찰서\n",
    "seoul_gagu_eunpyeong = pd.read_csv('../finalproject/KOSIS/seoul_gagu/eunpyeong.csv', encoding='cp949')\n",
    "seoul_gagu_eunpyeong = seoul_gagu_eunpyeong.rename(columns=seoul_gagu_eunpyeong.iloc[0])\n",
    "seoul_gagu_eunpyeong = seoul_gagu_eunpyeong.drop(seoul_gagu_eunpyeong.index[0])\n",
    "seoul_gagu_eunpyeong = seoul_gagu_eunpyeong.iloc[:,[2,4]].astype(int)\n",
    "\n",
    "\n",
    "## 성북구\n",
    "## 성북경찰서\n",
    "seoul_gagu_sungbuk = pd.read_csv('../finalproject/KOSIS/seoul_gagu/sungbuk.csv', encoding='cp949')\n",
    "seoul_gagu_sungbuk = seoul_gagu_sungbuk.rename(columns=seoul_gagu_sungbuk.iloc[0])\n",
    "seoul_gagu_sungbuk = seoul_gagu_sungbuk.drop(seoul_gagu_sungbuk.index[0])\n",
    "seoul_gagu_sungbuk = seoul_gagu_sungbuk.iloc[:,[2,4]].astype(int)\n",
    "\n",
    "\n",
    "## 종암경찰서\n",
    "seoul_gagu_jongam = pd.read_csv('../finalproject/KOSIS/seoul_gagu/jongam.csv', encoding='cp949')\n",
    "seoul_gagu_jongam = seoul_gagu_jongam.rename(columns=seoul_gagu_jongam.iloc[0])\n",
    "seoul_gagu_jongam = seoul_gagu_jongam.drop(seoul_gagu_jongam.index[0])\n",
    "seoul_gagu_jongam = seoul_gagu_jongam.iloc[:,[2,4]].astype(int)\n",
    "\n"
   ]
  },
  {
   "cell_type": "code",
   "execution_count": 36,
   "metadata": {},
   "outputs": [
    {
     "data": {
      "text/plain": [
       "2017    44473.0\n",
       "2018    45774.0\n",
       "2019    47075.0\n",
       "2020    48376.0\n",
       "dtype: float64"
      ]
     },
     "execution_count": 36,
     "metadata": {},
     "output_type": "execute_result"
    }
   ],
   "source": [
    "## 서울\n",
    "\n",
    "def solo_calc(df):\n",
    "    increase = (df.sum()[1] - df.sum()[0]) / 5\n",
    "    solo_2016 = np.round(df.sum()[0]+increase)\n",
    "    solo_2017 = np.round(solo_2016+increase)\n",
    "    solo_2018 = np.round(solo_2017+increase)\n",
    "    solo_2019 = np.round(solo_2018+increase)\n",
    "    solo_dict = {'2017' : solo_2017, '2018' : solo_2018, '2019' : solo_2019, '2020' : df.sum()[1]}\n",
    "    return pd.Series(solo_dict)\n",
    "\n",
    "seoul_gagu_suseo = solo_calc(seoul_gagu_suseo)\n",
    "seoul_gagu_gangnam = solo_calc(seoul_gagu_gangnam)\n",
    "seoul_gagu_jongro = solo_calc(seoul_gagu_jongro)\n",
    "seoul_gagu_hyehwa = solo_calc(seoul_gagu_hyehwa)\n",
    "seoul_gagu_namdaemun = solo_calc(seoul_gagu_namdaemun)\n",
    "seoul_gagu_jungbu = solo_calc(seoul_gagu_jungbu)\n",
    "seoul_gagu_bangbae = solo_calc(seoul_gagu_bangbae)\n",
    "seoul_gagu_seocho = solo_calc(seoul_gagu_seocho)\n",
    "seoul_gagu_seobu = solo_calc(seoul_gagu_seobu)\n",
    "seoul_gagu_eunpyeong = solo_calc(seoul_gagu_eunpyeong)\n",
    "seoul_gagu_sungbuk = solo_calc(seoul_gagu_sungbuk)\n",
    "seoul_gagu_jongam = solo_calc(seoul_gagu_jongam)"
   ]
  },
  {
   "cell_type": "code",
   "execution_count": 47,
   "metadata": {
    "scrolled": true
   },
   "outputs": [],
   "source": [
    "## 서울\n",
    "\n",
    "seoul_gagu_gangseo = solo[solo['sgg_nm'].str.contains('강서구', na=False)].loc[:,['date', 'single_person_hh']]\n",
    "\n",
    "seoul_gagu_jungrang = solo[solo['sgg_nm'].str.contains('중랑구', na=False)].loc[:,['date', 'single_person_hh']]\n",
    "\n",
    "seoul_gagu_dongjak = solo[solo['sgg_nm'].str.contains('동작구', na=False)].loc[:,['date', 'single_person_hh']]\n",
    "\n",
    "seoul_gagu_gangdong = solo[solo['sgg_nm'].str.contains('강동구', na=False)].loc[:,['date', 'single_person_hh']]\n",
    "\n",
    "seoul_gagu_gangbuk = solo[solo['sgg_nm'].str.contains('강북구', na=False)].loc[:,['date', 'single_person_hh']]\n",
    "\n",
    "seoul_gagu_gwanak = solo[solo['sgg_nm'].str.contains('관악구', na=False)].loc[:,['date', 'single_person_hh']]\n",
    "\n",
    "seoul_gagu_gwangjin = solo[solo['sgg_nm'].str.contains('광진구', na=False)].loc[:,['date', 'single_person_hh']]\n",
    "\n",
    "seoul_gagu_guro = solo[solo['sgg_nm'].str.contains('구로구', na=False)].loc[:,['date', 'single_person_hh']]\n",
    "\n",
    "seoul_gagu_geumchun = solo[solo['sgg_nm'].str.contains('금천구', na=False)].loc[:,['date', 'single_person_hh']]\n",
    "\n",
    "seoul_gagu_nowon = solo[solo['sgg_nm'].str.contains('노원구', na=False)].loc[:,['date', 'single_person_hh']]\n",
    "\n",
    "seoul_gagu_dobong = solo[solo['sgg_nm'].str.contains('도봉구', na=False)].loc[:,['date', 'single_person_hh']]\n",
    "\n",
    "seoul_gagu_dongdaemun = solo[solo['sgg_nm'].str.contains('동대문구', na=False)].loc[:,['date', 'single_person_hh']]\n",
    "\n",
    "seoul_gagu_mapo = solo[solo['sgg_nm'].str.contains('마포구', na=False)].loc[:,['date', 'single_person_hh']]\n",
    "\n",
    "seoul_gagu_seodaemun = solo[solo['sgg_nm'].str.contains('서대문구', na=False)].loc[:,['date', 'single_person_hh']]\n",
    "\n",
    "seoul_gagu_sungdong = solo[solo['sgg_nm'].str.contains('성동구', na=False)].loc[:,['date', 'single_person_hh']]\n",
    "\n",
    "seoul_gagu_songpa = solo[solo['sgg_nm'].str.contains('송파구', na=False)].loc[:,['date', 'single_person_hh']]\n",
    "\n",
    "seoul_gagu_yangchun = solo[solo['sgg_nm'].str.contains('양천구', na=False)].loc[:,['date', 'single_person_hh']]\n",
    "\n",
    "seoul_gagu_yungdeongpo = solo[solo['sgg_nm'].str.contains('영등포구', na=False)].loc[:,['date', 'single_person_hh']]\n",
    "\n",
    "seoul_gagu_yongsan = solo[solo['sgg_nm'].str.contains('용산구', na=False)].loc[:,['date', 'single_person_hh']]"
   ]
  },
  {
   "cell_type": "code",
   "execution_count": 53,
   "metadata": {},
   "outputs": [
    {
     "data": {
      "text/plain": [
       "2017    41116.0\n",
       "2018    42710.0\n",
       "2019    44304.0\n",
       "2020    45899.0\n",
       "dtype: float64"
      ]
     },
     "execution_count": 53,
     "metadata": {},
     "output_type": "execute_result"
    }
   ],
   "source": [
    "## 수원\n",
    "\n",
    "suwon_gagu_jungbu = pd.read_csv('../finalproject/KOSIS/suwon_gagu/jungbu.csv', encoding='cp949')\n",
    "suwon_gagu_jungbu = suwon_gagu_jungbu.rename(columns=suwon_gagu_jungbu.iloc[0])\n",
    "suwon_gagu_jungbu = suwon_gagu_jungbu.drop(suwon_gagu_jungbu.index[0])\n",
    "suwon_gagu_jungbu = suwon_gagu_jungbu.iloc[:,[2,4]].astype(int)\n",
    "suwon_gagu_jungbu = solo_calc(suwon_gagu_jungbu)\n",
    "\n",
    "suwon_gagu_seobu = pd.read_csv('../finalproject/KOSIS/suwon_gagu/seobu.csv', encoding='cp949')\n",
    "suwon_gagu_seobu = suwon_gagu_seobu.rename(columns=suwon_gagu_seobu.iloc[0])\n",
    "suwon_gagu_seobu = suwon_gagu_seobu.drop(suwon_gagu_seobu.index[0])\n",
    "suwon_gagu_seobu = suwon_gagu_seobu.iloc[:,[2,4]].astype(int)\n",
    "suwon_gagu_seobu = solo_calc(suwon_gagu_seobu)\n",
    "\n",
    "suwon_gagu_nambu = pd.read_csv('../finalproject/KOSIS/suwon_gagu/nambu.csv', encoding='cp949')\n",
    "suwon_gagu_nambu = suwon_gagu_nambu.rename(columns=suwon_gagu_nambu.iloc[0])\n",
    "suwon_gagu_nambu = suwon_gagu_nambu.drop(suwon_gagu_nambu.index[0])\n",
    "suwon_gagu_nambu = suwon_gagu_nambu.iloc[:,[2,4]].astype(int)\n",
    "suwon_gagu_nambu = solo_calc(suwon_gagu_nambu)"
   ]
  },
  {
   "cell_type": "code",
   "execution_count": 58,
   "metadata": {},
   "outputs": [],
   "source": [
    "## 마산\n",
    "\n",
    "masan_gagu_dongbu = solo[solo['sgg_nm'].str.contains('마산회원구', na=False)].loc[:,['date', 'single_person_hh']]\n",
    "masan_gagu_jungbu = solo[solo['sgg_nm'].str.contains('마산합포구', na=False)].loc[:,['date', 'single_person_hh']]\n",
    "\n",
    "## 창원\n",
    "\n",
    "changwon_gagu_jungbu = pd.read_csv('../finalproject/KOSIS/changwon_gagu/jungbu.csv', encoding='cp949')\n",
    "changwon_gagu_jungbu = changwon_gagu_jungbu.rename(columns=changwon_gagu_jungbu.iloc[0])\n",
    "changwon_gagu_jungbu = changwon_gagu_jungbu.drop(changwon_gagu_jungbu.index[0])\n",
    "changwon_gagu_jungbu = changwon_gagu_jungbu.iloc[:,[2,4]].astype(int)\n",
    "changwon_gagu_jungbu = solo_calc(changwon_gagu_jungbu)\n",
    "\n",
    "changwon_gagu_seobu = pd.read_csv('../finalproject/KOSIS/changwon_gagu/seobu.csv', encoding='cp949')\n",
    "changwon_gagu_seobu = changwon_gagu_seobu.rename(columns=changwon_gagu_seobu.iloc[0])\n",
    "changwon_gagu_seobu = changwon_gagu_seobu.drop(changwon_gagu_seobu.index[0])\n",
    "changwon_gagu_seobu = changwon_gagu_seobu.iloc[:,[2,4]].astype(int)\n",
    "changwon_gagu_seobu = solo_calc(changwon_gagu_seobu)\n",
    "\n",
    "## 진해\n",
    "jinhae_gagu = solo[solo['sgg_nm'].str.contains('진해구', na=False)].loc[:,['date', 'single_person_hh']]\n",
    "\n",
    "## 진주\n",
    "jinju_gagu = solo[solo['sgg_nm'].str.contains('진주', na=False)].loc[:,['date', 'single_person_hh']]"
   ]
  },
  {
   "cell_type": "code",
   "execution_count": 62,
   "metadata": {},
   "outputs": [
    {
     "data": {
      "text/html": [
       "<div>\n",
       "<style scoped>\n",
       "    .dataframe tbody tr th:only-of-type {\n",
       "        vertical-align: middle;\n",
       "    }\n",
       "\n",
       "    .dataframe tbody tr th {\n",
       "        vertical-align: top;\n",
       "    }\n",
       "\n",
       "    .dataframe thead th {\n",
       "        text-align: right;\n",
       "    }\n",
       "</style>\n",
       "<table border=\"1\" class=\"dataframe\">\n",
       "  <thead>\n",
       "    <tr style=\"text-align: right;\">\n",
       "      <th></th>\n",
       "      <th>date</th>\n",
       "      <th>single_person_hh</th>\n",
       "    </tr>\n",
       "  </thead>\n",
       "  <tbody>\n",
       "    <tr>\n",
       "      <th>1680</th>\n",
       "      <td>2017</td>\n",
       "      <td>19022</td>\n",
       "    </tr>\n",
       "    <tr>\n",
       "      <th>3360</th>\n",
       "      <td>2018</td>\n",
       "      <td>19964</td>\n",
       "    </tr>\n",
       "    <tr>\n",
       "      <th>5040</th>\n",
       "      <td>2019</td>\n",
       "      <td>20962</td>\n",
       "    </tr>\n",
       "  </tbody>\n",
       "</table>\n",
       "</div>"
      ],
      "text/plain": [
       "      date  single_person_hh\n",
       "1680  2017             19022\n",
       "3360  2018             19964\n",
       "5040  2019             20962"
      ]
     },
     "execution_count": 62,
     "metadata": {},
     "output_type": "execute_result"
    }
   ],
   "source": [
    "jinhae_gagu"
   ]
  },
  {
   "cell_type": "code",
   "execution_count": 63,
   "metadata": {},
   "outputs": [
    {
     "data": {
      "text/plain": [
       "2017    20665.0\n",
       "2018    21387.0\n",
       "2019    22109.0\n",
       "2020    22831.0\n",
       "dtype: float64"
      ]
     },
     "execution_count": 63,
     "metadata": {},
     "output_type": "execute_result"
    }
   ],
   "source": [
    "changwon_gagu_seobu"
   ]
  },
  {
   "cell_type": "code",
   "execution_count": 64,
   "metadata": {},
   "outputs": [
    {
     "data": {
      "text/html": [
       "<div>\n",
       "<style scoped>\n",
       "    .dataframe tbody tr th:only-of-type {\n",
       "        vertical-align: middle;\n",
       "    }\n",
       "\n",
       "    .dataframe tbody tr th {\n",
       "        vertical-align: top;\n",
       "    }\n",
       "\n",
       "    .dataframe thead th {\n",
       "        text-align: right;\n",
       "    }\n",
       "</style>\n",
       "<table border=\"1\" class=\"dataframe\">\n",
       "  <thead>\n",
       "    <tr style=\"text-align: right;\">\n",
       "      <th></th>\n",
       "      <th>date</th>\n",
       "      <th>single_person_hh</th>\n",
       "    </tr>\n",
       "  </thead>\n",
       "  <tbody>\n",
       "    <tr>\n",
       "      <th>576</th>\n",
       "      <td>2017</td>\n",
       "      <td>43418</td>\n",
       "    </tr>\n",
       "    <tr>\n",
       "      <th>2256</th>\n",
       "      <td>2018</td>\n",
       "      <td>44795</td>\n",
       "    </tr>\n",
       "    <tr>\n",
       "      <th>3936</th>\n",
       "      <td>2019</td>\n",
       "      <td>46449</td>\n",
       "    </tr>\n",
       "  </tbody>\n",
       "</table>\n",
       "</div>"
      ],
      "text/plain": [
       "      date  single_person_hh\n",
       "576   2017             43418\n",
       "2256  2018             44795\n",
       "3936  2019             46449"
      ]
     },
     "execution_count": 64,
     "metadata": {},
     "output_type": "execute_result"
    }
   ],
   "source": [
    "seoul_gagu_seodaemun"
   ]
  },
  {
   "cell_type": "code",
   "execution_count": 65,
   "metadata": {},
   "outputs": [
    {
     "data": {
      "text/plain": [
       "2017    28408.0\n",
       "2018    30414.0\n",
       "2019    32420.0\n",
       "2020    34425.0\n",
       "dtype: float64"
      ]
     },
     "execution_count": 65,
     "metadata": {},
     "output_type": "execute_result"
    }
   ],
   "source": [
    "seoul_gagu_eunpyeong"
   ]
  },
  {
   "cell_type": "code",
   "execution_count": null,
   "metadata": {},
   "outputs": [],
   "source": []
  }
 ],
 "metadata": {
  "kernelspec": {
   "display_name": "Python 3",
   "language": "python",
   "name": "python3"
  },
  "language_info": {
   "codemirror_mode": {
    "name": "ipython",
    "version": 3
   },
   "file_extension": ".py",
   "mimetype": "text/x-python",
   "name": "python",
   "nbconvert_exporter": "python",
   "pygments_lexer": "ipython3",
   "version": "3.8.5"
  }
 },
 "nbformat": 4,
 "nbformat_minor": 4
}
